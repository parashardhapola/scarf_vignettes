{
 "cells": [
  {
   "cell_type": "markdown",
   "id": "e43d0b4e-1863-4df3-9f1c-fbc1d93d551f",
   "metadata": {},
   "source": [
    "## Analysing MNIST image dataset using Scarf"
   ]
  },
  {
   "cell_type": "code",
   "execution_count": 1,
   "id": "36a483d2-9168-4467-ae47-8f035c0ede6e",
   "metadata": {},
   "outputs": [
    {
     "data": {
      "text/plain": [
       "'0.17.1'"
      ]
     },
     "execution_count": 1,
     "metadata": {},
     "output_type": "execute_result"
    },
    {
     "name": "stdout",
     "output_type": "stream",
     "text": [
      "time: 1.78 s (started: 2021-08-22 14:46:10 +02:00)\n"
     ]
    }
   ],
   "source": [
    "%load_ext autotime\n",
    "\n",
    "import scarf\n",
    "import matplotlib.pyplot as plt\n",
    "import pandas as pd\n",
    "scarf.__version__"
   ]
  },
  {
   "cell_type": "markdown",
   "id": "01bfac9e-6f58-4995-b896-7d65a53450c6",
   "metadata": {},
   "source": [
    "---\n",
    "### 1) Fetch MNIST dataset and convert to Zarr format\n",
    "\n",
    "The MNIST datasets consists of 60K grayscale images (28x28 pixel) of handwritten digits (0 through 9).\n",
    "These can be unraveled such that each digit is described by a 784 dimensional vector. \n",
    "This dataset is  available to download through Scarf. We saved this data in the same format as\n",
    "the output of cellranger pipeline with the matrix saved in MTX format."
   ]
  },
  {
   "cell_type": "code",
   "execution_count": 2,
   "id": "9986ddbf-0f9e-4c18-9543-a74d4e611e24",
   "metadata": {},
   "outputs": [
    {
     "data": {
      "application/vnd.jupyter.widget-view+json": {
       "model_id": "8a81007d25364288ab7bfcb6d02f7307",
       "version_major": 2,
       "version_minor": 0
      },
      "text/plain": [
       "Downloading 1/3:   0%|                                                                                        …"
      ]
     },
     "metadata": {},
     "output_type": "display_data"
    },
    {
     "name": "stdout",
     "output_type": "stream",
     "text": [
      "\u001b[1mINFO\u001b[0m: Download finished! File saved here: C:\\Users\\parashar\\Desktop\\scarf_vignettes\\scarf_datasets\\lecun_60K_mnist_images\\barcodes.tsv.gz\n"
     ]
    },
    {
     "data": {
      "application/vnd.jupyter.widget-view+json": {
       "model_id": "5b082f58bce24959b149245eb12d102f",
       "version_major": 2,
       "version_minor": 0
      },
      "text/plain": [
       "Downloading 2/3:   0%|                                                                                        …"
      ]
     },
     "metadata": {},
     "output_type": "display_data"
    },
    {
     "name": "stdout",
     "output_type": "stream",
     "text": [
      "\u001b[1mINFO\u001b[0m: Download finished! File saved here: C:\\Users\\parashar\\Desktop\\scarf_vignettes\\scarf_datasets\\lecun_60K_mnist_images\\features.tsv.gz\n"
     ]
    },
    {
     "data": {
      "application/vnd.jupyter.widget-view+json": {
       "model_id": "158989ac21c14ffa815dc0752e5565a5",
       "version_major": 2,
       "version_minor": 0
      },
      "text/plain": [
       "Downloading 3/3:   0%|                                                                                        …"
      ]
     },
     "metadata": {},
     "output_type": "display_data"
    },
    {
     "name": "stdout",
     "output_type": "stream",
     "text": [
      "\u001b[1mINFO\u001b[0m: Download finished! File saved here: C:\\Users\\parashar\\Desktop\\scarf_vignettes\\scarf_datasets\\lecun_60K_mnist_images\\matrix.mtx.gz\n",
      "time: 21.4 s (started: 2021-08-22 14:46:12 +02:00)\n"
     ]
    }
   ],
   "source": [
    "scarf.fetch_dataset('lecun_60K_mnist_images', save_path='scarf_datasets')"
   ]
  },
  {
   "cell_type": "code",
   "execution_count": 3,
   "id": "65143488-92f4-4d5e-863e-aa5a9decf05f",
   "metadata": {},
   "outputs": [
    {
     "name": "stdout",
     "output_type": "stream",
     "text": [
      "\u001b[33m\u001b[1mWARNING\u001b[0m: feature_types extraction failed from features.tsv.gz in column 2\n"
     ]
    },
    {
     "data": {
      "application/vnd.jupyter.widget-view+json": {
       "model_id": "1e30b90be81848b68d71d73bcc6d232e",
       "version_major": 2,
       "version_minor": 0
      },
      "text/plain": [
       "  0%|                                                                                                         …"
      ]
     },
     "metadata": {},
     "output_type": "display_data"
    },
    {
     "name": "stdout",
     "output_type": "stream",
     "text": [
      "time: 4.92 s (started: 2021-08-22 14:46:33 +02:00)\n"
     ]
    }
   ],
   "source": [
    "reader = scarf.CrDirReader('scarf_datasets/lecun_60K_mnist_images', 'rna')\n",
    "writer = scarf.CrToZarr(\n",
    "    reader,\n",
    "    zarr_fn='scarf_datasets/lecun_60K_mnist_images/data.zarr',\n",
    "    chunk_size=(2000, 1000),\n",
    ")\n",
    "writer.dump(batch_size=1000)"
   ]
  },
  {
   "cell_type": "markdown",
   "id": "ad9d03f6-8f24-4bad-9880-d7e25d670d14",
   "metadata": {},
   "source": [
    "---\n",
    "### 2) Load the Zarr file into the DataStore object"
   ]
  },
  {
   "cell_type": "code",
   "execution_count": 4,
   "id": "42072350-99e5-4385-bf72-33e04e1094ab",
   "metadata": {},
   "outputs": [
    {
     "data": {
      "application/vnd.jupyter.widget-view+json": {
       "model_id": "0d21e0b7b5e24581b3e567e641ba33dc",
       "version_major": 2,
       "version_minor": 0
      },
      "text/plain": [
       "(RNA) Computing nCells and dropOuts:   0%|                                                                    …"
      ]
     },
     "metadata": {},
     "output_type": "display_data"
    },
    {
     "data": {
      "application/vnd.jupyter.widget-view+json": {
       "model_id": "852a022f785b41e9be977de2c18b2ef2",
       "version_major": 2,
       "version_minor": 0
      },
      "text/plain": [
       "(RNA) Computing nCounts:   0%|                                                                                …"
      ]
     },
     "metadata": {},
     "output_type": "display_data"
    },
    {
     "data": {
      "application/vnd.jupyter.widget-view+json": {
       "model_id": "21eb5258c73f4092b32c5888a9dd4fc6",
       "version_major": 2,
       "version_minor": 0
      },
      "text/plain": [
       "(RNA) Computing nFeatures:   0%|                                                                              …"
      ]
     },
     "metadata": {},
     "output_type": "display_data"
    },
    {
     "name": "stdout",
     "output_type": "stream",
     "text": [
      "\u001b[33m\u001b[1mWARNING\u001b[0m: No matches found for pattern MT-|mt. Will not add/update percentage feature\n",
      "\u001b[33m\u001b[1mWARNING\u001b[0m: No matches found for pattern RPS|RPL|MRPS|MRPL. Will not add/update percentage feature\n"
     ]
    },
    {
     "data": {
      "text/plain": [
       "DataStore has 60000 (60000) cells with 1 assays: RNA\n",
       "   Cell metadata:\n",
       "            'I', 'ids', 'names', 'RNA_nCounts', 'RNA_nFeatures', \n",
       "          \n",
       "   RNA assay has 467 (784) features and following metadata:\n",
       "            'I', 'ids', 'names', 'dropOuts', 'nCells', \n",
       "          "
      ]
     },
     "execution_count": 4,
     "metadata": {},
     "output_type": "execute_result"
    },
    {
     "name": "stdout",
     "output_type": "stream",
     "text": [
      "time: 703 ms (started: 2021-08-22 14:46:38 +02:00)\n"
     ]
    }
   ],
   "source": [
    "ds = scarf.DataStore(\n",
    "    'scarf_datasets/lecun_60K_mnist_images/data.zarr',\n",
    "    min_cells_per_feature=1000,\n",
    "    min_features_per_cell=10,\n",
    "    nthreads=4,\n",
    ")\n",
    "ds"
   ]
  },
  {
   "cell_type": "markdown",
   "id": "2dbf443a-5c99-467a-b1f5-97da0626fbe7",
   "metadata": {},
   "source": [
    "The labels for each image are embedded in their names. We will extract them add them as a separate column in *cells* attribute table"
   ]
  },
  {
   "cell_type": "code",
   "execution_count": 5,
   "id": "eb039522-e76c-47b9-913d-29dc4a2deff6",
   "metadata": {},
   "outputs": [
    {
     "name": "stdout",
     "output_type": "stream",
     "text": [
      "\u001b[33m\u001b[1mWARNING\u001b[0m: 'values' parameter is of `list` type and not `np.ndarray` as expected. The correct dtype may not be assigned to the column\n",
      "time: 47 ms (started: 2021-08-22 14:46:39 +02:00)\n"
     ]
    }
   ],
   "source": [
    "ds.cells.insert('digit_label',\n",
    "                [int(x.rsplit('_', 1)[-1])-1 for x\n",
    "                 in ds.cells.fetch_all('names')], overwrite=True)"
   ]
  },
  {
   "cell_type": "markdown",
   "id": "15680bca-5a69-4048-89dd-95a7f9fcc33b",
   "metadata": {},
   "source": [
    "---\n",
    "### 3) Creating neighbourhood graph\n",
    "\n",
    "We will not perform any cell filtering here. We will also skip feature selection step and will use all the valid features. Since, we imported the data as an RNAassay, PCA will be performed on the data. Before we begin the graph creation step, we will turn off the default normlization for an RNAassay."
   ]
  },
  {
   "cell_type": "code",
   "execution_count": 6,
   "id": "c2aed38b-69be-44f4-95f7-0bd27136e1ba",
   "metadata": {},
   "outputs": [
    {
     "data": {
      "application/vnd.jupyter.widget-view+json": {
       "model_id": "d6c9de82b89f42689ebc6d3817e5fedc",
       "version_major": 2,
       "version_minor": 0
      },
      "text/plain": [
       "Normalizing with feature subset:   0%|                                                                        …"
      ]
     },
     "metadata": {},
     "output_type": "display_data"
    },
    {
     "data": {
      "application/vnd.jupyter.widget-view+json": {
       "model_id": "67b71fea4c8b4dbfa714415a127cc508",
       "version_major": 2,
       "version_minor": 0
      },
      "text/plain": [
       "Writing data to normed__I__I/data:   0%|                                                                      …"
      ]
     },
     "metadata": {},
     "output_type": "display_data"
    },
    {
     "data": {
      "application/vnd.jupyter.widget-view+json": {
       "model_id": "278c7a60170244279a65b9c2adbcd5e3",
       "version_major": 2,
       "version_minor": 0
      },
      "text/plain": [
       "Calculating mean of norm. data:   0%|                                                                         …"
      ]
     },
     "metadata": {},
     "output_type": "display_data"
    },
    {
     "data": {
      "application/vnd.jupyter.widget-view+json": {
       "model_id": "a1f26092888449cebc40a8f906ebbd31",
       "version_major": 2,
       "version_minor": 0
      },
      "text/plain": [
       "Calculating std. dev. of norm. data:   0%|                                                                    …"
      ]
     },
     "metadata": {},
     "output_type": "display_data"
    },
    {
     "data": {
      "application/vnd.jupyter.widget-view+json": {
       "model_id": "301f67799a444f49a28e31e978af6ee9",
       "version_major": 2,
       "version_minor": 0
      },
      "text/plain": [
       "Fitting PCA:   0%|                                                                                            …"
      ]
     },
     "metadata": {},
     "output_type": "display_data"
    },
    {
     "data": {
      "application/vnd.jupyter.widget-view+json": {
       "model_id": "d4080ed6f2af4e219516b2dfc19fb151",
       "version_major": 2,
       "version_minor": 0
      },
      "text/plain": [
       "Fitting ANN:   0%|                                                                                            …"
      ]
     },
     "metadata": {},
     "output_type": "display_data"
    },
    {
     "data": {
      "application/vnd.jupyter.widget-view+json": {
       "model_id": "d96bb75a7e73442a85176ba3f0fc50e3",
       "version_major": 2,
       "version_minor": 0
      },
      "text/plain": [
       "Fitting kmeans:   0%|                                                                                         …"
      ]
     },
     "metadata": {},
     "output_type": "display_data"
    },
    {
     "data": {
      "application/vnd.jupyter.widget-view+json": {
       "model_id": "272a22b6712d401ebcee3d3c8136a8ab",
       "version_major": 2,
       "version_minor": 0
      },
      "text/plain": [
       "Estimating seed partitions:   0%|                                                                             …"
      ]
     },
     "metadata": {},
     "output_type": "display_data"
    },
    {
     "data": {
      "application/vnd.jupyter.widget-view+json": {
       "model_id": "3bd3ff8b0df7417dac84ea9b5263f2f7",
       "version_major": 2,
       "version_minor": 0
      },
      "text/plain": [
       "Saving KNN graph:   0%|                                                                                       …"
      ]
     },
     "metadata": {},
     "output_type": "display_data"
    },
    {
     "data": {
      "application/vnd.jupyter.widget-view+json": {
       "model_id": "e3368240abe54d9eb4751524717871e1",
       "version_major": 2,
       "version_minor": 0
      },
      "text/plain": [
       "Smoothening KNN distances:   0%|                                                                              …"
      ]
     },
     "metadata": {},
     "output_type": "display_data"
    },
    {
     "name": "stdout",
     "output_type": "stream",
     "text": [
      "\u001b[1mINFO\u001b[0m: ANN recall: 100.00%\n"
     ]
    },
    {
     "data": {
      "image/png": "[encoded data removed]",
      "text/plain": [
       "<Figure size 468x144 with 1 Axes>"
      ]
     },
     "metadata": {
      "needs_background": "light"
     },
     "output_type": "display_data"
    },
    {
     "name": "stdout",
     "output_type": "stream",
     "text": [
      "time: 45.1 s (started: 2021-08-22 14:46:39 +02:00)\n"
     ]
    }
   ],
   "source": [
    "# Set normalization method to a dummy function that returns unnormalized data\n",
    "ds.RNA.normMethod = scarf.assay.norm_dummy\n",
    "\n",
    "ds.make_graph(feat_key='I', k=31, dims=25, n_centroids=100, show_elbow_plot=True)"
   ]
  },
  {
   "cell_type": "markdown",
   "id": "f3d27466-9a5d-4d84-b640-a592d5ef1ac5",
   "metadata": {},
   "source": [
    "The elbow plot above suggests that taking first 10 PC dimensions might have been optimal this dataset. We wanted to capture even the very fine difference (at risk of larger noise) between the digits and hence do not rerun this with `dims=10`"
   ]
  },
  {
   "cell_type": "markdown",
   "id": "a2c1e927-e3a6-49d7-9cde-b06007478985",
   "metadata": {},
   "source": [
    "---\n",
    "### 4) UMAP embedding and clustering\n",
    "\n",
    "We will now generate a 2D embedding of the neighbourhood graph of the MNIST images. This will allow to to ascertain visually, how accurate Scarf was in estimating the underlying manifold of this dataset. There are two critical differences between calling UMAP from with Scarf and directly from UMAP library:\n",
    "- When calling from Scarf, only the neighbourhood graph is provided to the core UMAP algorithm rather a normalized/scaled/reduced data matrix.\n",
    "- Scarf performs a Kmeans clustering while identifying neighbours, this allows Scarf to generate an informed initial embedding coordinates for the data based on the KMeans centroids. UMAP package, on the other hand, calculates spectral layout for the graph."
   ]
  },
  {
   "cell_type": "code",
   "execution_count": 7,
   "id": "ae270328-147e-4747-9204-880f5f1f3516",
   "metadata": {},
   "outputs": [
    {
     "name": "stdout",
     "output_type": "stream",
     "text": [
      "\tcompleted  0  /  300 epochs\n",
      "\tcompleted  30  /  300 epochs\n",
      "\tcompleted  60  /  300 epochs\n",
      "\tcompleted  90  /  300 epochs\n",
      "\tcompleted  120  /  300 epochs\n",
      "\tcompleted  150  /  300 epochs\n",
      "\tcompleted  180  /  300 epochs\n",
      "\tcompleted  210  /  300 epochs\n",
      "\tcompleted  240  /  300 epochs\n",
      "\tcompleted  270  /  300 epochs\n",
      "time: 37.9 s (started: 2021-08-22 14:47:24 +02:00)\n"
     ]
    }
   ],
   "source": [
    "ds.run_umap(n_epochs=300, spread=1, min_dist=0.05, parallel=True)"
   ]
  },
  {
   "cell_type": "markdown",
   "id": "3a3ceef3-9582-4d43-9052-4320b8c92549",
   "metadata": {},
   "source": [
    "Before we visualize the UMAP embeddings, we will also perform clustering on the data (neighbourhood graph) using the default Paris algorithm. Here we choose to perform overclustering of the data so that we can capture fine differences within the individual digit classes."
   ]
  },
  {
   "cell_type": "code",
   "execution_count": 8,
   "id": "28f9d086-0650-43b3-8d1e-5beee48dc3e5",
   "metadata": {},
   "outputs": [
    {
     "name": "stdout",
     "output_type": "stream",
     "text": [
      "time: 11.6 s (started: 2021-08-22 14:48:02 +02:00)\n"
     ]
    }
   ],
   "source": [
    "ds.run_clustering(n_clusters=20)"
   ]
  },
  {
   "cell_type": "markdown",
   "id": "4c4c6d75-42f7-4766-ac94-240f2772a79a",
   "metadata": {},
   "source": [
    "Relabeling the cluster ids to match their corresponding digit labels"
   ]
  },
  {
   "cell_type": "code",
   "execution_count": 9,
   "id": "b466901f-3ca5-4fbc-9fa2-64564325f703",
   "metadata": {},
   "outputs": [
    {
     "name": "stdout",
     "output_type": "stream",
     "text": [
      "\u001b[33m\u001b[1mWARNING\u001b[0m: 'values' parameter is of `list` type and not `np.ndarray` as expected. The correct dtype may not be assigned to the column\n",
      "time: 78 ms (started: 2021-08-22 14:48:14 +02:00)\n"
     ]
    }
   ],
   "source": [
    "ds.smart_label(\n",
    "    to_relabel='RNA_cluster',\n",
    "    base_label='digit_label',\n",
    "    new_col_name='cluster_label',\n",
    ")"
   ]
  },
  {
   "cell_type": "code",
   "execution_count": 10,
   "id": "469fe65c-2fdb-4115-af2c-c398ca8b4f1a",
   "metadata": {},
   "outputs": [
    {
     "data": {
      "image/png": "[encoded data removed]",
      "text/plain": [
       "<Figure size 576x288 with 4 Axes>"
      ]
     },
     "metadata": {
      "needs_background": "light"
     },
     "output_type": "display_data"
    },
    {
     "name": "stdout",
     "output_type": "stream",
     "text": [
      "time: 5.38 s (started: 2021-08-22 14:48:14 +02:00)\n"
     ]
    }
   ],
   "source": [
    "ds.plot_layout(\n",
    "    layout_key='RNA_UMAP', color_by=['digit_label', 'cluster_label'],\n",
    "    do_shading=True, shade_npixels=300, legend_onside=False,\n",
    "    width=4, height=4, cmap='tab20'\n",
    ")"
   ]
  },
  {
   "cell_type": "markdown",
   "id": "e4a2a41a-7d72-4057-b7a7-76c9eaa2825b",
   "metadata": {},
   "source": [
    "The UMAP embedding shows that images from the same individual digit classes were grouped together very nicely. We obtained a cluster of digits classes 4,7 and 9 and another of 3, 5 and 8 classses, similar observation has been made before in the link below. Since, the images from classes 0 and 1 are well separated once can infer that the global structure is also well preserved.\n",
    "\n",
    "https://umap-learn.readthedocs.io/en/latest/auto_examples/plot_mnist_example.html\n",
    "\n",
    "We can use `plot_cluster_tree` method to show an explicit realtionship between the clusters of images. This method leverages the hierarchical relationship between the individual images as calculated by the Paris algorithm. Each circle/pie (sized by number of images in the cluster) represents a clusters. The colurs inside each pie indicate the proportion actual digit classes."
   ]
  },
  {
   "cell_type": "code",
   "execution_count": 11,
   "id": "d24e8d05-ce84-4904-8fce-db421779972b",
   "metadata": {
    "tags": []
   },
   "outputs": [
    {
     "data": {
      "application/vnd.jupyter.widget-view+json": {
       "model_id": "d21ec83efc4f4a38ab13949b9b8a9d83",
       "version_major": 2,
       "version_minor": 0
      },
      "text/plain": [
       "Constructing graph from dendrogram:   0%|                                                                     …"
      ]
     },
     "metadata": {},
     "output_type": "display_data"
    },
    {
     "data": {
      "application/vnd.jupyter.widget-view+json": {
       "model_id": "1f9a32c63c064d98b57e1a22a750466e",
       "version_major": 2,
       "version_minor": 0
      },
      "text/plain": [
       "Identifying the top node for cluster:   0%|                                                                   …"
      ]
     },
     "metadata": {},
     "output_type": "display_data"
    },
    {
     "data": {
      "image/png": "[encoded data removed]",
      "text/plain": [
       "<Figure size 360x360 with 1 Axes>"
      ]
     },
     "metadata": {},
     "output_type": "display_data"
    },
    {
     "name": "stdout",
     "output_type": "stream",
     "text": [
      "time: 3.02 s (started: 2021-08-22 14:48:19 +02:00)\n"
     ]
    }
   ],
   "source": [
    "ds.plot_cluster_tree(\n",
    "    cluster_key='cluster_label',\n",
    "    fill_by_value='digit_label',\n",
    ")"
   ]
  },
  {
   "cell_type": "markdown",
   "id": "c34d41e4-495b-4efb-88d8-259c77d31e99",
   "metadata": {},
   "source": [
    "Finally, lets visualize images from each of the cluster. To do so, we take all images from a given cluster and merge them (think of it can creating an overlay of all the images from that cluster)."
   ]
  },
  {
   "cell_type": "code",
   "execution_count": 12,
   "id": "2c5d3014-4b95-4683-8901-5c2e89699ca8",
   "metadata": {},
   "outputs": [
    {
     "name": "stdout",
     "output_type": "stream",
     "text": [
      "time: 15 ms (started: 2021-08-22 14:48:22 +02:00)\n"
     ]
    }
   ],
   "source": [
    "clusts = pd.Series(ds.cells.fetch_all('cluster_label'))\n",
    "digits = pd.Series(ds.cells.fetch_all('digit_label'))"
   ]
  },
  {
   "cell_type": "code",
   "execution_count": 13,
   "id": "dfaa8c37-f5d2-4d89-afcf-4f414949fe2c",
   "metadata": {},
   "outputs": [
    {
     "data": {
      "image/png": "[encoded data removed]",
      "text/plain": [
       "<Figure size 576x144 with 20 Axes>"
      ]
     },
     "metadata": {
      "needs_background": "light"
     },
     "output_type": "display_data"
    },
    {
     "name": "stdout",
     "output_type": "stream",
     "text": [
      "time: 3.19 s (started: 2021-08-22 14:48:22 +02:00)\n"
     ]
    }
   ],
   "source": [
    "fig = plt.figure(figsize=(8,2))\n",
    "for n,i in enumerate(sorted(clusts.unique())):\n",
    "    mean_map = ds.RNA.rawData[((clusts == i) & (digits == int(i[0]))).values].mean(axis=0)\n",
    "    mean_map = mean_map.compute().reshape(28, 28)\n",
    "    ax = fig.add_subplot(2, 10, n+1)\n",
    "    ax.imshow(mean_map, cmap='binary')\n",
    "    ax.set_axis_off()\n",
    "    ax.set_title(i, fontsize=10)\n",
    "plt.tight_layout()\n",
    "plt.show()"
   ]
  },
  {
   "cell_type": "markdown",
   "id": "1bbfe891-ef23-40cf-9c9f-e2896a4f3ae1",
   "metadata": {},
   "source": [
    "It is quite clear that Scarf's clsutering was able to identify naunced differences between the images. For example, cluster 1a and 1c captured those images of an 'upright' 1s while cluster 1b and 1d captured 'slanted' 1s.\n",
    "\n",
    "This vignette helped us learn two things:\n",
    "- Scarf is a flexible package that can handle analysis of diverse kinds of datasets.\n",
    "- Results from this dataset show that Scarf can perform quick, memory efficient and meaningful analysis of large-scale datasets."
   ]
  },
  {
   "cell_type": "markdown",
   "id": "4dd87c75-d3a1-4e44-8942-be51dea15920",
   "metadata": {},
   "source": [
    "---\n",
    "That is all for this vignette."
   ]
  }
 ],
 "metadata": {
  "kernelspec": {
   "display_name": "Python 3 (ipykernel)",
   "language": "python",
   "name": "python3"
  },
  "language_info": {
   "codemirror_mode": {
    "name": "ipython",
    "version": 3
   },
   "file_extension": ".py",
   "mimetype": "text/x-python",
   "name": "python",
   "nbconvert_exporter": "python",
   "pygments_lexer": "ipython3",
   "version": "3.9.6"
  },
  "widgets": {
   "application/vnd.jupyter.widget-state+json": {
    "state": {
     "007a1d092206487a9bb3c24ac166d1af": {
      "model_module": "@jupyter-widgets/controls",
      "model_module_version": "1.5.0",
      "model_name": "HTMLModel",
      "state": {
       "layout": "IPY_MODEL_a279dd24676e4de2adb1d2ff47d4c9b6",
       "style": "IPY_MODEL_ffd34b3ad5b24796a92c3eb5ae01e209",
       "value": " 30/30 [00:07]"
      }
     },
     "016216eb06344f83a8f461b876475188": {
      "model_module": "@jupyter-widgets/base",
      "model_module_version": "1.2.0",
      "model_name": "LayoutModel",
      "state": {
       "display": "inline-flex",
       "flex_flow": "row wrap",
       "width": "500px"
      }
     },
     "0354efd518a34a098914008e3f1e2b6e": {
      "model_module": "@jupyter-widgets/controls",
      "model_module_version": "1.5.0",
      "model_name": "DescriptionStyleModel",
      "state": {
       "description_width": ""
      }
     },
     "054b6cca876946ff912f16ffbbf3b003": {
      "model_module": "@jupyter-widgets/controls",
      "model_module_version": "1.5.0",
      "model_name": "HTMLModel",
      "state": {
       "layout": "IPY_MODEL_2d8d0a0ee8d34a81b4a266612b102374",
       "style": "IPY_MODEL_0fd238d4a2f348a3930d7727394a52c1",
       "value": "Fitting ANN: 100%| "
      }
     },
     "066fbf5948b648e8b8e2467bfd421a42": {
      "model_module": "@jupyter-widgets/base",
      "model_module_version": "1.2.0",
      "model_name": "LayoutModel",
      "state": {
       "display": "inline-flex",
       "flex_flow": "row wrap",
       "width": "500px"
      }
     },
     "07f2f44772c84049995a9f21d83c672f": {
      "model_module": "@jupyter-widgets/controls",
      "model_module_version": "1.5.0",
      "model_name": "FloatProgressModel",
      "state": {
       "bar_style": "success",
       "layout": "IPY_MODEL_4fc5cccb0a4147ca93c8332cf2b63a95",
       "max": 60,
       "style": "IPY_MODEL_1a426663408d4280a3718a709ca4904b",
       "value": 60
      }
     },
     "08c29845ccf1492d925556fd4b469bdb": {
      "model_module": "@jupyter-widgets/base",
      "model_module_version": "1.2.0",
      "model_name": "LayoutModel",
      "state": {
       "flex": "2"
      }
     },
     "08e9328f8ee045c6bf56bd9fee50eee8": {
      "model_module": "@jupyter-widgets/controls",
      "model_module_version": "1.5.0",
      "model_name": "FloatProgressModel",
      "state": {
       "bar_style": "success",
       "layout": "IPY_MODEL_9ec24e280e9a4382b57fd0a16dc4a747",
       "max": 60,
       "style": "IPY_MODEL_a2731659907746759fabde92b46aaca1",
       "value": 60
      }
     },
     "0d21e0b7b5e24581b3e567e641ba33dc": {
      "model_module": "@jupyter-widgets/controls",
      "model_module_version": "1.5.0",
      "model_name": "HBoxModel",
      "state": {
       "children": [
        "IPY_MODEL_d891436f2f75465c9396d42a71036044",
        "IPY_MODEL_ee4bc265ae4943dcbe6735890bad1e26",
        "IPY_MODEL_1097aede6d014bfa91223b63c699d5ea"
       ],
       "layout": "IPY_MODEL_eba8e9e3bb1442e788c6b4b54feb81fb"
      }
     },
     "0d93b3a934ba46eba6f5b8a877cc5b0a": {
      "model_module": "@jupyter-widgets/base",
      "model_module_version": "1.2.0",
      "model_name": "LayoutModel",
      "state": {
       "display": "inline-flex",
       "flex_flow": "row wrap",
       "width": "500px"
      }
     },
     "0dc4b7011e284bac90e196d62024a33c": {
      "model_module": "@jupyter-widgets/base",
      "model_module_version": "1.2.0",
      "model_name": "LayoutModel",
      "state": {
       "display": "inline-flex",
       "flex_flow": "row wrap",
       "width": "500px"
      }
     },
     "0fb0b6260e4d40ff8f823625a0a581d0": {
      "model_module": "@jupyter-widgets/base",
      "model_module_version": "1.2.0",
      "model_name": "LayoutModel",
      "state": {
       "display": "inline-flex",
       "flex_flow": "row wrap",
       "width": "500px"
      }
     },
     "0fd238d4a2f348a3930d7727394a52c1": {
      "model_module": "@jupyter-widgets/controls",
      "model_module_version": "1.5.0",
      "model_name": "DescriptionStyleModel",
      "state": {
       "description_width": ""
      }
     },
     "105747ce53a144e8a365ad8053f82185": {
      "model_module": "@jupyter-widgets/base",
      "model_module_version": "1.2.0",
      "model_name": "LayoutModel",
      "state": {}
     },
     "1097aede6d014bfa91223b63c699d5ea": {
      "model_module": "@jupyter-widgets/controls",
      "model_module_version": "1.5.0",
      "model_name": "HTMLModel",
      "state": {
       "layout": "IPY_MODEL_4132137f719244869d92db36cda7115e",
       "style": "IPY_MODEL_2b96c1d5a6f24f7eaa00720fbc3cc0ce",
       "value": " 71/71 [00:00]"
      }
     },
     "126d877b82a947f491829e4108e40426": {
      "model_module": "@jupyter-widgets/base",
      "model_module_version": "1.2.0",
      "model_name": "LayoutModel",
      "state": {}
     },
     "149335982edf4fa9a59f9be47b620010": {
      "model_module": "@jupyter-widgets/controls",
      "model_module_version": "1.5.0",
      "model_name": "HTMLModel",
      "state": {
       "layout": "IPY_MODEL_fdcdb815d99e4eaf8598af9c09486b8f",
       "style": "IPY_MODEL_0354efd518a34a098914008e3f1e2b6e",
       "value": "Downloading 1/3: 100%| "
      }
     },
     "158989ac21c14ffa815dc0752e5565a5": {
      "model_module": "@jupyter-widgets/controls",
      "model_module_version": "1.5.0",
      "model_name": "HBoxModel",
      "state": {
       "children": [
        "IPY_MODEL_56fe79a835cf417790d78e4751393346",
        "IPY_MODEL_54a68b748441482fa6bc5185d634c3fb",
        "IPY_MODEL_4b400ddd63b04d019e4ca50a2a2aa5f1"
       ],
       "layout": "IPY_MODEL_0fb0b6260e4d40ff8f823625a0a581d0"
      }
     },
     "17bb8f99ee244ba48a01a6ece6501008": {
      "model_module": "@jupyter-widgets/base",
      "model_module_version": "1.2.0",
      "model_name": "LayoutModel",
      "state": {
       "display": "inline-flex",
       "flex_flow": "row wrap",
       "width": "500px"
      }
     },
     "18526404bc1e41258fb5b956901e6ba8": {
      "model_module": "@jupyter-widgets/controls",
      "model_module_version": "1.5.0",
      "model_name": "DescriptionStyleModel",
      "state": {
       "description_width": ""
      }
     },
     "18e4b4f65203495e895d4d9c3937e5d8": {
      "model_module": "@jupyter-widgets/controls",
      "model_module_version": "1.5.0",
      "model_name": "HTMLModel",
      "state": {
       "layout": "IPY_MODEL_f57350ae50dc44b28089d58e2aa8f35a",
       "style": "IPY_MODEL_ec168054826349b983b560bdebf5ce85",
       "value": "Fitting kmeans: 100%| "
      }
     },
     "1934cc87eab1419aa4702b3b7554f13a": {
      "model_module": "@jupyter-widgets/base",
      "model_module_version": "1.2.0",
      "model_name": "LayoutModel",
      "state": {}
     },
     "199783c723ee40f9abad685d85ccf3f7": {
      "model_module": "@jupyter-widgets/controls",
      "model_module_version": "1.5.0",
      "model_name": "ProgressStyleModel",
      "state": {
       "bar_color": "#34abeb",
       "description_width": ""
      }
     },
     "19abb785cb264a57b7b7c92d9c405a1f": {
      "model_module": "@jupyter-widgets/base",
      "model_module_version": "1.2.0",
      "model_name": "LayoutModel",
      "state": {}
     },
     "1a426663408d4280a3718a709ca4904b": {
      "model_module": "@jupyter-widgets/controls",
      "model_module_version": "1.5.0",
      "model_name": "ProgressStyleModel",
      "state": {
       "bar_color": "#34abeb",
       "description_width": ""
      }
     },
     "1b8317a3fdf6447182f8a523dee63245": {
      "model_module": "@jupyter-widgets/controls",
      "model_module_version": "1.5.0",
      "model_name": "ProgressStyleModel",
      "state": {
       "bar_color": "#34abeb",
       "description_width": ""
      }
     },
     "1c73071722b94eecb83e4e2f5c937211": {
      "model_module": "@jupyter-widgets/controls",
      "model_module_version": "1.5.0",
      "model_name": "DescriptionStyleModel",
      "state": {
       "description_width": ""
      }
     },
     "1d46cca67023417d8494fb9e4df06482": {
      "model_module": "@jupyter-widgets/base",
      "model_module_version": "1.2.0",
      "model_name": "LayoutModel",
      "state": {}
     },
     "1e30b90be81848b68d71d73bcc6d232e": {
      "model_module": "@jupyter-widgets/controls",
      "model_module_version": "1.5.0",
      "model_name": "HBoxModel",
      "state": {
       "children": [
        "IPY_MODEL_70695298f92f469ab6c30214b6fbb2ee",
        "IPY_MODEL_6a581a02d50146029074dfa66c520ab5",
        "IPY_MODEL_b7876f30a8d24631856a1d717a6e8df5"
       ],
       "layout": "IPY_MODEL_0d93b3a934ba46eba6f5b8a877cc5b0a"
      }
     },
     "1ea77e2b3ea9472092d1ea474cb1cacb": {
      "model_module": "@jupyter-widgets/base",
      "model_module_version": "1.2.0",
      "model_name": "LayoutModel",
      "state": {
       "flex": "2"
      }
     },
     "1f9a32c63c064d98b57e1a22a750466e": {
      "model_module": "@jupyter-widgets/controls",
      "model_module_version": "1.5.0",
      "model_name": "HBoxModel",
      "state": {
       "children": [
        "IPY_MODEL_7ebcb2d077c04e2f9e926f3f07048b22",
        "IPY_MODEL_d62ef3cf16f24a1698c9fd1b33b0ab26",
        "IPY_MODEL_38bf7f1e49f440fb92740797acc3fc0a"
       ],
       "layout": "IPY_MODEL_80a58c307376453ba6bfb1bb3a0af8ac"
      }
     },
     "20115ddd8ce24f4fa4e936c0ae0f4568": {
      "model_module": "@jupyter-widgets/controls",
      "model_module_version": "1.5.0",
      "model_name": "DescriptionStyleModel",
      "state": {
       "description_width": ""
      }
     },
     "21eb5258c73f4092b32c5888a9dd4fc6": {
      "model_module": "@jupyter-widgets/controls",
      "model_module_version": "1.5.0",
      "model_name": "HBoxModel",
      "state": {
       "children": [
        "IPY_MODEL_e2dceac2c1ce49fba8e20b81934b0528",
        "IPY_MODEL_08e9328f8ee045c6bf56bd9fee50eee8",
        "IPY_MODEL_528ba502225d4d2788a7c8f6fa04dc4a"
       ],
       "layout": "IPY_MODEL_e95af6b9c148435ea28a4961d452e71a"
      }
     },
     "23b6cdfc274a4c03a76228ccfe9f8484": {
      "model_module": "@jupyter-widgets/controls",
      "model_module_version": "1.5.0",
      "model_name": "HTMLModel",
      "state": {
       "layout": "IPY_MODEL_d3f14259c57d4ec29e1f9b4664ea73c5",
       "style": "IPY_MODEL_6ffbc2cc11514454b25500178387f2d8",
       "value": "Saving KNN graph: 100%| "
      }
     },
     "245484aa27ca437fa079607fe539f2e9": {
      "model_module": "@jupyter-widgets/controls",
      "model_module_version": "1.5.0",
      "model_name": "ProgressStyleModel",
      "state": {
       "bar_color": "#34abeb",
       "description_width": ""
      }
     },
     "256c8b88d6bb4d068b295b77be63a27b": {
      "model_module": "@jupyter-widgets/base",
      "model_module_version": "1.2.0",
      "model_name": "LayoutModel",
      "state": {}
     },
     "2607c3caf046412ea8f9a90c66b58c93": {
      "model_module": "@jupyter-widgets/controls",
      "model_module_version": "1.5.0",
      "model_name": "ProgressStyleModel",
      "state": {
       "bar_color": "#34abeb",
       "description_width": ""
      }
     },
     "272a22b6712d401ebcee3d3c8136a8ab": {
      "model_module": "@jupyter-widgets/controls",
      "model_module_version": "1.5.0",
      "model_name": "HBoxModel",
      "state": {
       "children": [
        "IPY_MODEL_ce5b770ac8da48efb7b6784b94022f77",
        "IPY_MODEL_28c29ba8d90d48aa93e260b6b07796f8",
        "IPY_MODEL_b7ca1392cdd94145acf78a6c232eebad"
       ],
       "layout": "IPY_MODEL_6dfc988b00cd4f7b90070dd728864a09"
      }
     },
     "278c7a60170244279a65b9c2adbcd5e3": {
      "model_module": "@jupyter-widgets/controls",
      "model_module_version": "1.5.0",
      "model_name": "HBoxModel",
      "state": {
       "children": [
        "IPY_MODEL_a856999d651c4a8f9721da284b9e11ad",
        "IPY_MODEL_41a4731211434fe49e83f9763c52c0a0",
        "IPY_MODEL_a0c5a887bfa34cbeb7f636619444b4c4"
       ],
       "layout": "IPY_MODEL_797ad56b748c43cb975204797df0cd86"
      }
     },
     "282cfcd0a80e49e998b0d5c1faa1e495": {
      "model_module": "@jupyter-widgets/base",
      "model_module_version": "1.2.0",
      "model_name": "LayoutModel",
      "state": {}
     },
     "28c29ba8d90d48aa93e260b6b07796f8": {
      "model_module": "@jupyter-widgets/controls",
      "model_module_version": "1.5.0",
      "model_name": "FloatProgressModel",
      "state": {
       "bar_style": "success",
       "layout": "IPY_MODEL_1ea77e2b3ea9472092d1ea474cb1cacb",
       "max": 30,
       "style": "IPY_MODEL_9cafdf1fda684d599d853445a577d500",
       "value": 30
      }
     },
     "28d557e9942745c9a8c8fd136cfa4b5c": {
      "model_module": "@jupyter-widgets/controls",
      "model_module_version": "1.5.0",
      "model_name": "ProgressStyleModel",
      "state": {
       "bar_color": "#34abeb",
       "description_width": ""
      }
     },
     "291485db7f3b436aba5bc8788e8a5de1": {
      "model_module": "@jupyter-widgets/controls",
      "model_module_version": "1.5.0",
      "model_name": "HTMLModel",
      "state": {
       "layout": "IPY_MODEL_19abb785cb264a57b7b7c92d9c405a1f",
       "style": "IPY_MODEL_bc03ba7d4e5041a9b5aa13a9db8b3c58",
       "value": " 1/1 [00:00]"
      }
     },
     "2b43e13d749545b28fd1d7d73a4043e4": {
      "model_module": "@jupyter-widgets/controls",
      "model_module_version": "1.5.0",
      "model_name": "DescriptionStyleModel",
      "state": {
       "description_width": ""
      }
     },
     "2b96c1d5a6f24f7eaa00720fbc3cc0ce": {
      "model_module": "@jupyter-widgets/controls",
      "model_module_version": "1.5.0",
      "model_name": "DescriptionStyleModel",
      "state": {
       "description_width": ""
      }
     },
     "2cf21071247b4d89a99409e888e520c3": {
      "model_module": "@jupyter-widgets/controls",
      "model_module_version": "1.5.0",
      "model_name": "FloatProgressModel",
      "state": {
       "bar_style": "success",
       "layout": "IPY_MODEL_50e79a34715e4cd8ba21677333d16999",
       "max": 30,
       "style": "IPY_MODEL_1b8317a3fdf6447182f8a523dee63245",
       "value": 30
      }
     },
     "2d8d0a0ee8d34a81b4a266612b102374": {
      "model_module": "@jupyter-widgets/base",
      "model_module_version": "1.2.0",
      "model_name": "LayoutModel",
      "state": {}
     },
     "301f67799a444f49a28e31e978af6ee9": {
      "model_module": "@jupyter-widgets/controls",
      "model_module_version": "1.5.0",
      "model_name": "HBoxModel",
      "state": {
       "children": [
        "IPY_MODEL_fc0862ac51fc41708a95644fb8aac27a",
        "IPY_MODEL_4aa4ec907ac341b4953d8f79b1b94c85",
        "IPY_MODEL_967cfd3c12fe47649da7a75f3da7e08d"
       ],
       "layout": "IPY_MODEL_913080f1cba745578138783d619c7547"
      }
     },
     "3368874a1ef94c45beca345771d67543": {
      "model_module": "@jupyter-widgets/controls",
      "model_module_version": "1.5.0",
      "model_name": "DescriptionStyleModel",
      "state": {
       "description_width": ""
      }
     },
     "3561b7eb72fc460d8618d994bbc2b959": {
      "model_module": "@jupyter-widgets/base",
      "model_module_version": "1.2.0",
      "model_name": "LayoutModel",
      "state": {}
     },
     "3668ef85aad84a49befb4d3b0310c317": {
      "model_module": "@jupyter-widgets/controls",
      "model_module_version": "1.5.0",
      "model_name": "HTMLModel",
      "state": {
       "layout": "IPY_MODEL_6ad9a020121b44e9b7977b3d5f172657",
       "style": "IPY_MODEL_a69e03df975241aa8ab8592fdd554257",
       "value": "Writing data to normed__I__I/data: 100%| "
      }
     },
     "377ce615f4cf4d8a962cc89196aec23d": {
      "model_module": "@jupyter-widgets/controls",
      "model_module_version": "1.5.0",
      "model_name": "FloatProgressModel",
      "state": {
       "bar_style": "success",
       "layout": "IPY_MODEL_b4285b44cf7840ebaae57ac897db998f",
       "max": 72,
       "style": "IPY_MODEL_245484aa27ca437fa079607fe539f2e9",
       "value": 72
      }
     },
     "38bf7f1e49f440fb92740797acc3fc0a": {
      "model_module": "@jupyter-widgets/controls",
      "model_module_version": "1.5.0",
      "model_name": "HTMLModel",
      "state": {
       "layout": "IPY_MODEL_780ff7910b1a4163ac5976a2980060f4",
       "style": "IPY_MODEL_fa1bb0df927e415f96ad2317b733337b",
       "value": " 20/20 [00:00]"
      }
     },
     "3bd3ff8b0df7417dac84ea9b5263f2f7": {
      "model_module": "@jupyter-widgets/controls",
      "model_module_version": "1.5.0",
      "model_name": "HBoxModel",
      "state": {
       "children": [
        "IPY_MODEL_23b6cdfc274a4c03a76228ccfe9f8484",
        "IPY_MODEL_d89e8fef88964807b0226471206676a5",
        "IPY_MODEL_007a1d092206487a9bb3c24ac166d1af"
       ],
       "layout": "IPY_MODEL_947177d05d7a49da9f9c46a91db4e4e5"
      }
     },
     "3e3db89becf14bf98566fd24650510b9": {
      "model_module": "@jupyter-widgets/base",
      "model_module_version": "1.2.0",
      "model_name": "LayoutModel",
      "state": {}
     },
     "4132137f719244869d92db36cda7115e": {
      "model_module": "@jupyter-widgets/base",
      "model_module_version": "1.2.0",
      "model_name": "LayoutModel",
      "state": {}
     },
     "414c953fc2704fe3b4b25fb98047bffb": {
      "model_module": "@jupyter-widgets/base",
      "model_module_version": "1.2.0",
      "model_name": "LayoutModel",
      "state": {}
     },
     "41a4731211434fe49e83f9763c52c0a0": {
      "model_module": "@jupyter-widgets/controls",
      "model_module_version": "1.5.0",
      "model_name": "FloatProgressModel",
      "state": {
       "bar_style": "success",
       "layout": "IPY_MODEL_c2e6230dd38547458ce27c5943485961",
       "max": 71,
       "style": "IPY_MODEL_985ad09340b44b3bba895db3d3177b7f",
       "value": 71
      }
     },
     "429152f21b8f4740806430224bb31990": {
      "model_module": "@jupyter-widgets/base",
      "model_module_version": "1.2.0",
      "model_name": "LayoutModel",
      "state": {
       "display": "inline-flex",
       "flex_flow": "row wrap",
       "width": "500px"
      }
     },
     "4402a962b97f473ebdf4a1e2bb36ec80": {
      "model_module": "@jupyter-widgets/base",
      "model_module_version": "1.2.0",
      "model_name": "LayoutModel",
      "state": {
       "display": "inline-flex",
       "flex_flow": "row wrap",
       "width": "500px"
      }
     },
     "4408d9fc7e424fb383618bd387afb83c": {
      "model_module": "@jupyter-widgets/base",
      "model_module_version": "1.2.0",
      "model_name": "LayoutModel",
      "state": {
       "flex": "2"
      }
     },
     "4409fe2575d9456bac85245a7fc3e91e": {
      "model_module": "@jupyter-widgets/controls",
      "model_module_version": "1.5.0",
      "model_name": "HTMLModel",
      "state": {
       "layout": "IPY_MODEL_282cfcd0a80e49e998b0d5c1faa1e495",
       "style": "IPY_MODEL_9880d392f2dd4d068b0fafeff8f7958c",
       "value": "Constructing graph from dendrogram: 100%| "
      }
     },
     "45b7732d1cb14d0ba75f55e6e82cef1c": {
      "model_module": "@jupyter-widgets/controls",
      "model_module_version": "1.5.0",
      "model_name": "HTMLModel",
      "state": {
       "layout": "IPY_MODEL_9f65e9b35202438ead34815cad911709",
       "style": "IPY_MODEL_63a02930ea164e72a6c2ab8d1f94480a",
       "value": "Normalizing with feature subset: 100%| "
      }
     },
     "4654b9f22f664dbbaedc4aa7b8b422a0": {
      "model_module": "@jupyter-widgets/base",
      "model_module_version": "1.2.0",
      "model_name": "LayoutModel",
      "state": {
       "display": "inline-flex",
       "flex_flow": "row wrap",
       "width": "500px"
      }
     },
     "4658e59316cf421d84d01ff1bad15562": {
      "model_module": "@jupyter-widgets/controls",
      "model_module_version": "1.5.0",
      "model_name": "HTMLModel",
      "state": {
       "layout": "IPY_MODEL_bd34ca788b7841bc8c273606064fc948",
       "style": "IPY_MODEL_ea6b0eebdddf47599a6d82cccf9a7fc3",
       "value": "Calculating std. dev. of norm. data: 100%| "
      }
     },
     "474b9404dbb948ddb3a55ac307049a16": {
      "model_module": "@jupyter-widgets/base",
      "model_module_version": "1.2.0",
      "model_name": "LayoutModel",
      "state": {}
     },
     "49f5433dfe57400eab2a19a41574a753": {
      "model_module": "@jupyter-widgets/controls",
      "model_module_version": "1.5.0",
      "model_name": "DescriptionStyleModel",
      "state": {
       "description_width": ""
      }
     },
     "4aa4ec907ac341b4953d8f79b1b94c85": {
      "model_module": "@jupyter-widgets/controls",
      "model_module_version": "1.5.0",
      "model_name": "FloatProgressModel",
      "state": {
       "bar_style": "success",
       "layout": "IPY_MODEL_c4e50a5a893648b0bf1df15f84d2555a",
       "max": 30,
       "style": "IPY_MODEL_61c849178c20496095f29003e273c9e7",
       "value": 30
      }
     },
     "4b400ddd63b04d019e4ca50a2a2aa5f1": {
      "model_module": "@jupyter-widgets/controls",
      "model_module_version": "1.5.0",
      "model_name": "HTMLModel",
      "state": {
       "layout": "IPY_MODEL_aa36f79a42294051a43d42fc0dbe02ed",
       "style": "IPY_MODEL_82e03752b290473690cd140c5efdb48d",
       "value": " 4/4 [00:04]"
      }
     },
     "4fc5cccb0a4147ca93c8332cf2b63a95": {
      "model_module": "@jupyter-widgets/base",
      "model_module_version": "1.2.0",
      "model_name": "LayoutModel",
      "state": {
       "flex": "2"
      }
     },
     "50e79a34715e4cd8ba21677333d16999": {
      "model_module": "@jupyter-widgets/base",
      "model_module_version": "1.2.0",
      "model_name": "LayoutModel",
      "state": {
       "flex": "2"
      }
     },
     "51b9cbb1f9a64f4b9c75e8804c42ed7a": {
      "model_module": "@jupyter-widgets/controls",
      "model_module_version": "1.5.0",
      "model_name": "ProgressStyleModel",
      "state": {
       "bar_color": "#34abeb",
       "description_width": ""
      }
     },
     "528ba502225d4d2788a7c8f6fa04dc4a": {
      "model_module": "@jupyter-widgets/controls",
      "model_module_version": "1.5.0",
      "model_name": "HTMLModel",
      "state": {
       "layout": "IPY_MODEL_1934cc87eab1419aa4702b3b7554f13a",
       "style": "IPY_MODEL_b3d65414a59d4318a5d189d734b8ca1b",
       "value": " 60/60 [00:00]"
      }
     },
     "545c6989c3e54d3fb0cacf2318fb67d9": {
      "model_module": "@jupyter-widgets/base",
      "model_module_version": "1.2.0",
      "model_name": "LayoutModel",
      "state": {}
     },
     "54a68b748441482fa6bc5185d634c3fb": {
      "model_module": "@jupyter-widgets/controls",
      "model_module_version": "1.5.0",
      "model_name": "FloatProgressModel",
      "state": {
       "bar_style": "success",
       "layout": "IPY_MODEL_93aca3d11b9f46ca852a5b27e1b507b8",
       "max": 4,
       "style": "IPY_MODEL_bf553885b83f4279b641192f201b10f6",
       "value": 4
      }
     },
     "56fe79a835cf417790d78e4751393346": {
      "model_module": "@jupyter-widgets/controls",
      "model_module_version": "1.5.0",
      "model_name": "HTMLModel",
      "state": {
       "layout": "IPY_MODEL_bcb3d2c2b17842a492985f996f5a38d2",
       "style": "IPY_MODEL_f8730d3af27d4636a97f38822e8a9ca3",
       "value": "Downloading 3/3: 100%| "
      }
     },
     "5a604ab6787a48c9be65f0c1dc9c8ad7": {
      "model_module": "@jupyter-widgets/base",
      "model_module_version": "1.2.0",
      "model_name": "LayoutModel",
      "state": {
       "flex": "2"
      }
     },
     "5a891f67e8f84ee28eacce9e6e1a6f1d": {
      "model_module": "@jupyter-widgets/controls",
      "model_module_version": "1.5.0",
      "model_name": "DescriptionStyleModel",
      "state": {
       "description_width": ""
      }
     },
     "5b082f58bce24959b149245eb12d102f": {
      "model_module": "@jupyter-widgets/controls",
      "model_module_version": "1.5.0",
      "model_name": "HBoxModel",
      "state": {
       "children": [
        "IPY_MODEL_c39d30e142784d06a95cce65fd78ef6e",
        "IPY_MODEL_c919ce056a8d4ea99a8b82094ff8dd8a",
        "IPY_MODEL_78b37dde29f54da4ad4807039c6e96b4"
       ],
       "layout": "IPY_MODEL_4402a962b97f473ebdf4a1e2bb36ec80"
      }
     },
     "5c1f5d6b0ba54e919474239a4bdbfef3": {
      "model_module": "@jupyter-widgets/controls",
      "model_module_version": "1.5.0",
      "model_name": "HTMLModel",
      "state": {
       "layout": "IPY_MODEL_126d877b82a947f491829e4108e40426",
       "style": "IPY_MODEL_7d38a9e4314d490083eb7f6375263217",
       "value": " 30/30 [00:09]"
      }
     },
     "5fd05f48950140ae9b74bd4481b383ce": {
      "model_module": "@jupyter-widgets/controls",
      "model_module_version": "1.5.0",
      "model_name": "HTMLModel",
      "state": {
       "layout": "IPY_MODEL_3561b7eb72fc460d8618d994bbc2b959",
       "style": "IPY_MODEL_18526404bc1e41258fb5b956901e6ba8",
       "value": " 60/60 [00:00]"
      }
     },
     "60384eb5b5474babb0fed4a0b6825503": {
      "model_module": "@jupyter-widgets/controls",
      "model_module_version": "1.5.0",
      "model_name": "FloatProgressModel",
      "state": {
       "bar_style": "success",
       "layout": "IPY_MODEL_92523fcb85694a33b20ef167c05a82a3",
       "max": 60,
       "style": "IPY_MODEL_51b9cbb1f9a64f4b9c75e8804c42ed7a",
       "value": 60
      }
     },
     "61c849178c20496095f29003e273c9e7": {
      "model_module": "@jupyter-widgets/controls",
      "model_module_version": "1.5.0",
      "model_name": "ProgressStyleModel",
      "state": {
       "bar_color": "#34abeb",
       "description_width": ""
      }
     },
     "639cfa5b25ad4b30b652ebae777256db": {
      "model_module": "@jupyter-widgets/base",
      "model_module_version": "1.2.0",
      "model_name": "LayoutModel",
      "state": {}
     },
     "63a02930ea164e72a6c2ab8d1f94480a": {
      "model_module": "@jupyter-widgets/controls",
      "model_module_version": "1.5.0",
      "model_name": "DescriptionStyleModel",
      "state": {
       "description_width": ""
      }
     },
     "667a815f35c140888821d0cab3bf6f3f": {
      "model_module": "@jupyter-widgets/controls",
      "model_module_version": "1.5.0",
      "model_name": "HTMLModel",
      "state": {
       "layout": "IPY_MODEL_f185b25a163745168b8cdee6bed5670c",
       "style": "IPY_MODEL_6808a66897f046b4abf809e9464b593d",
       "value": " 30/30 [00:06]"
      }
     },
     "667c79e514aa4c688185660fa2097371": {
      "model_module": "@jupyter-widgets/controls",
      "model_module_version": "1.5.0",
      "model_name": "HTMLModel",
      "state": {
       "layout": "IPY_MODEL_105747ce53a144e8a365ad8053f82185",
       "style": "IPY_MODEL_8a5da16c21f94f7880c4302b612e0a5b",
       "value": " 60/60 [00:00]"
      }
     },
     "67b71fea4c8b4dbfa714415a127cc508": {
      "model_module": "@jupyter-widgets/controls",
      "model_module_version": "1.5.0",
      "model_name": "HBoxModel",
      "state": {
       "children": [
        "IPY_MODEL_3668ef85aad84a49befb4d3b0310c317",
        "IPY_MODEL_2cf21071247b4d89a99409e888e520c3",
        "IPY_MODEL_defde5a70d304f2b9564255c4a9d387f"
       ],
       "layout": "IPY_MODEL_17bb8f99ee244ba48a01a6ece6501008"
      }
     },
     "6808a66897f046b4abf809e9464b593d": {
      "model_module": "@jupyter-widgets/controls",
      "model_module_version": "1.5.0",
      "model_name": "DescriptionStyleModel",
      "state": {
       "description_width": ""
      }
     },
     "682c9e59eedb4c7aab36753b6a8008f1": {
      "model_module": "@jupyter-widgets/base",
      "model_module_version": "1.2.0",
      "model_name": "LayoutModel",
      "state": {
       "flex": "2"
      }
     },
     "6a581a02d50146029074dfa66c520ab5": {
      "model_module": "@jupyter-widgets/controls",
      "model_module_version": "1.5.0",
      "model_name": "FloatProgressModel",
      "state": {
       "bar_style": "danger",
       "layout": "IPY_MODEL_bbc0eca3120a46719bb690e0de91159a",
       "max": 61,
       "style": "IPY_MODEL_dd9230a0f11e495cacef8092e46f53c0",
       "value": 60
      }
     },
     "6a9712a645474c758130f92327d3adfe": {
      "model_module": "@jupyter-widgets/controls",
      "model_module_version": "1.5.0",
      "model_name": "DescriptionStyleModel",
      "state": {
       "description_width": ""
      }
     },
     "6ad9a020121b44e9b7977b3d5f172657": {
      "model_module": "@jupyter-widgets/base",
      "model_module_version": "1.2.0",
      "model_name": "LayoutModel",
      "state": {}
     },
     "6b7d76588472449f9ed2a610e351ed40": {
      "model_module": "@jupyter-widgets/controls",
      "model_module_version": "1.5.0",
      "model_name": "DescriptionStyleModel",
      "state": {
       "description_width": ""
      }
     },
     "6dfc988b00cd4f7b90070dd728864a09": {
      "model_module": "@jupyter-widgets/base",
      "model_module_version": "1.2.0",
      "model_name": "LayoutModel",
      "state": {
       "display": "inline-flex",
       "flex_flow": "row wrap",
       "width": "500px"
      }
     },
     "6e271ab058c64766a1f55785d64e9d62": {
      "model_module": "@jupyter-widgets/controls",
      "model_module_version": "1.5.0",
      "model_name": "DescriptionStyleModel",
      "state": {
       "description_width": ""
      }
     },
     "6ffbc2cc11514454b25500178387f2d8": {
      "model_module": "@jupyter-widgets/controls",
      "model_module_version": "1.5.0",
      "model_name": "DescriptionStyleModel",
      "state": {
       "description_width": ""
      }
     },
     "70695298f92f469ab6c30214b6fbb2ee": {
      "model_module": "@jupyter-widgets/controls",
      "model_module_version": "1.5.0",
      "model_name": "HTMLModel",
      "state": {
       "layout": "IPY_MODEL_e93805408efd45038ba4620e4392345b",
       "style": "IPY_MODEL_dd5455292e594f1c80a56d2d0560479b",
       "value": " 98%| "
      }
     },
     "7077c26803e440439eac6a8fabb0115d": {
      "model_module": "@jupyter-widgets/base",
      "model_module_version": "1.2.0",
      "model_name": "LayoutModel",
      "state": {
       "flex": "2"
      }
     },
     "738a9b59f32f42f09a62acfb0a1959a3": {
      "model_module": "@jupyter-widgets/base",
      "model_module_version": "1.2.0",
      "model_name": "LayoutModel",
      "state": {}
     },
     "780ff7910b1a4163ac5976a2980060f4": {
      "model_module": "@jupyter-widgets/base",
      "model_module_version": "1.2.0",
      "model_name": "LayoutModel",
      "state": {}
     },
     "78b37dde29f54da4ad4807039c6e96b4": {
      "model_module": "@jupyter-widgets/controls",
      "model_module_version": "1.5.0",
      "model_name": "HTMLModel",
      "state": {
       "layout": "IPY_MODEL_d0cb0bf87f074ac68faf19a86965c4c9",
       "style": "IPY_MODEL_6e271ab058c64766a1f55785d64e9d62",
       "value": " 1/1 [00:00]"
      }
     },
     "797ad56b748c43cb975204797df0cd86": {
      "model_module": "@jupyter-widgets/base",
      "model_module_version": "1.2.0",
      "model_name": "LayoutModel",
      "state": {
       "display": "inline-flex",
       "flex_flow": "row wrap",
       "width": "500px"
      }
     },
     "7d38a9e4314d490083eb7f6375263217": {
      "model_module": "@jupyter-widgets/controls",
      "model_module_version": "1.5.0",
      "model_name": "DescriptionStyleModel",
      "state": {
       "description_width": ""
      }
     },
     "7ebcb2d077c04e2f9e926f3f07048b22": {
      "model_module": "@jupyter-widgets/controls",
      "model_module_version": "1.5.0",
      "model_name": "HTMLModel",
      "state": {
       "layout": "IPY_MODEL_cb166f749fa746889a9b8bb7ba5b9f8b",
       "style": "IPY_MODEL_dc2c1b7d99044770b05637420cfacf31",
       "value": "Identifying the top node for cluster: 100%| "
      }
     },
     "8098a00a9ac3401996978733279d9f72": {
      "model_module": "@jupyter-widgets/base",
      "model_module_version": "1.2.0",
      "model_name": "LayoutModel",
      "state": {
       "display": "inline-flex",
       "flex_flow": "row wrap",
       "width": "500px"
      }
     },
     "80a58c307376453ba6bfb1bb3a0af8ac": {
      "model_module": "@jupyter-widgets/base",
      "model_module_version": "1.2.0",
      "model_name": "LayoutModel",
      "state": {
       "display": "inline-flex",
       "flex_flow": "row wrap",
       "width": "500px"
      }
     },
     "82e03752b290473690cd140c5efdb48d": {
      "model_module": "@jupyter-widgets/controls",
      "model_module_version": "1.5.0",
      "model_name": "DescriptionStyleModel",
      "state": {
       "description_width": ""
      }
     },
     "852a022f785b41e9be977de2c18b2ef2": {
      "model_module": "@jupyter-widgets/controls",
      "model_module_version": "1.5.0",
      "model_name": "HBoxModel",
      "state": {
       "children": [
        "IPY_MODEL_97f5bad8b14a46aaa75736e15ce96a60",
        "IPY_MODEL_07f2f44772c84049995a9f21d83c672f",
        "IPY_MODEL_5fd05f48950140ae9b74bd4481b383ce"
       ],
       "layout": "IPY_MODEL_429152f21b8f4740806430224bb31990"
      }
     },
     "8a053610b6594ef3b5dc4cd999a0f4b5": {
      "model_module": "@jupyter-widgets/controls",
      "model_module_version": "1.5.0",
      "model_name": "ProgressStyleModel",
      "state": {
       "bar_color": "#34abeb",
       "description_width": ""
      }
     },
     "8a5da16c21f94f7880c4302b612e0a5b": {
      "model_module": "@jupyter-widgets/controls",
      "model_module_version": "1.5.0",
      "model_name": "DescriptionStyleModel",
      "state": {
       "description_width": ""
      }
     },
     "8a81007d25364288ab7bfcb6d02f7307": {
      "model_module": "@jupyter-widgets/controls",
      "model_module_version": "1.5.0",
      "model_name": "HBoxModel",
      "state": {
       "children": [
        "IPY_MODEL_149335982edf4fa9a59f9be47b620010",
        "IPY_MODEL_a879816932aa48d7b39667719e4c87a6",
        "IPY_MODEL_291485db7f3b436aba5bc8788e8a5de1"
       ],
       "layout": "IPY_MODEL_8098a00a9ac3401996978733279d9f72"
      }
     },
     "913080f1cba745578138783d619c7547": {
      "model_module": "@jupyter-widgets/base",
      "model_module_version": "1.2.0",
      "model_name": "LayoutModel",
      "state": {
       "display": "inline-flex",
       "flex_flow": "row wrap",
       "width": "500px"
      }
     },
     "914ba16eeaf64a0b9a37f4bb4668ed8b": {
      "model_module": "@jupyter-widgets/controls",
      "model_module_version": "1.5.0",
      "model_name": "DescriptionStyleModel",
      "state": {
       "description_width": ""
      }
     },
     "92523fcb85694a33b20ef167c05a82a3": {
      "model_module": "@jupyter-widgets/base",
      "model_module_version": "1.2.0",
      "model_name": "LayoutModel",
      "state": {
       "flex": "2"
      }
     },
     "93aca3d11b9f46ca852a5b27e1b507b8": {
      "model_module": "@jupyter-widgets/base",
      "model_module_version": "1.2.0",
      "model_name": "LayoutModel",
      "state": {
       "flex": "2"
      }
     },
     "93dd24e09c0b4f03980924fac28538da": {
      "model_module": "@jupyter-widgets/base",
      "model_module_version": "1.2.0",
      "model_name": "LayoutModel",
      "state": {}
     },
     "9413f055d7ca4795a21caafa01344b0f": {
      "model_module": "@jupyter-widgets/controls",
      "model_module_version": "1.5.0",
      "model_name": "FloatProgressModel",
      "state": {
       "bar_style": "success",
       "layout": "IPY_MODEL_f2425ab46b7f4c638035638858814048",
       "max": 30,
       "style": "IPY_MODEL_b3d5dce79d164027a3697aefed015115",
       "value": 30
      }
     },
     "947177d05d7a49da9f9c46a91db4e4e5": {
      "model_module": "@jupyter-widgets/base",
      "model_module_version": "1.2.0",
      "model_name": "LayoutModel",
      "state": {
       "display": "inline-flex",
       "flex_flow": "row wrap",
       "width": "500px"
      }
     },
     "9607d2dac16f48c1a3cf1198f6a61b81": {
      "model_module": "@jupyter-widgets/controls",
      "model_module_version": "1.5.0",
      "model_name": "HTMLModel",
      "state": {
       "layout": "IPY_MODEL_dce9ddb6e7d84a69b67906da97b72b93",
       "style": "IPY_MODEL_1c73071722b94eecb83e4e2f5c937211",
       "value": " 72/72 [00:00]"
      }
     },
     "967cfd3c12fe47649da7a75f3da7e08d": {
      "model_module": "@jupyter-widgets/controls",
      "model_module_version": "1.5.0",
      "model_name": "HTMLModel",
      "state": {
       "layout": "IPY_MODEL_256c8b88d6bb4d068b295b77be63a27b",
       "style": "IPY_MODEL_49f5433dfe57400eab2a19a41574a753",
       "value": " 30/30 [00:09]"
      }
     },
     "97f5bad8b14a46aaa75736e15ce96a60": {
      "model_module": "@jupyter-widgets/controls",
      "model_module_version": "1.5.0",
      "model_name": "HTMLModel",
      "state": {
       "layout": "IPY_MODEL_fae453acb9474c909e64f8fd5c47daa3",
       "style": "IPY_MODEL_d90eff6362a54c7d90ed73eb6227aa52",
       "value": "(RNA) Computing nCounts: 100%| "
      }
     },
     "985ad09340b44b3bba895db3d3177b7f": {
      "model_module": "@jupyter-widgets/controls",
      "model_module_version": "1.5.0",
      "model_name": "ProgressStyleModel",
      "state": {
       "bar_color": "#34abeb",
       "description_width": ""
      }
     },
     "9880d392f2dd4d068b0fafeff8f7958c": {
      "model_module": "@jupyter-widgets/controls",
      "model_module_version": "1.5.0",
      "model_name": "DescriptionStyleModel",
      "state": {
       "description_width": ""
      }
     },
     "9896df62c2704d03a1ed75d9d7727229": {
      "model_module": "@jupyter-widgets/controls",
      "model_module_version": "1.5.0",
      "model_name": "ProgressStyleModel",
      "state": {
       "bar_color": "#34abeb",
       "description_width": ""
      }
     },
     "98c0ddd1131a4769ace31aa192bccf29": {
      "model_module": "@jupyter-widgets/base",
      "model_module_version": "1.2.0",
      "model_name": "LayoutModel",
      "state": {}
     },
     "9cafdf1fda684d599d853445a577d500": {
      "model_module": "@jupyter-widgets/controls",
      "model_module_version": "1.5.0",
      "model_name": "ProgressStyleModel",
      "state": {
       "bar_color": "#34abeb",
       "description_width": ""
      }
     },
     "9ec24e280e9a4382b57fd0a16dc4a747": {
      "model_module": "@jupyter-widgets/base",
      "model_module_version": "1.2.0",
      "model_name": "LayoutModel",
      "state": {
       "flex": "2"
      }
     },
     "9f65e9b35202438ead34815cad911709": {
      "model_module": "@jupyter-widgets/base",
      "model_module_version": "1.2.0",
      "model_name": "LayoutModel",
      "state": {}
     },
     "a0c5a887bfa34cbeb7f636619444b4c4": {
      "model_module": "@jupyter-widgets/controls",
      "model_module_version": "1.5.0",
      "model_name": "HTMLModel",
      "state": {
       "layout": "IPY_MODEL_d4e349fba38449a48a19d6822d919aa6",
       "style": "IPY_MODEL_3368874a1ef94c45beca345771d67543",
       "value": " 71/71 [00:00]"
      }
     },
     "a135e5d82b26402382be9a45be47aae4": {
      "model_module": "@jupyter-widgets/controls",
      "model_module_version": "1.5.0",
      "model_name": "DescriptionStyleModel",
      "state": {
       "description_width": ""
      }
     },
     "a1f26092888449cebc40a8f906ebbd31": {
      "model_module": "@jupyter-widgets/controls",
      "model_module_version": "1.5.0",
      "model_name": "HBoxModel",
      "state": {
       "children": [
        "IPY_MODEL_4658e59316cf421d84d01ff1bad15562",
        "IPY_MODEL_377ce615f4cf4d8a962cc89196aec23d",
        "IPY_MODEL_9607d2dac16f48c1a3cf1198f6a61b81"
       ],
       "layout": "IPY_MODEL_eb8c0e214aec4ad9a6704e3fe4fab608"
      }
     },
     "a2731659907746759fabde92b46aaca1": {
      "model_module": "@jupyter-widgets/controls",
      "model_module_version": "1.5.0",
      "model_name": "ProgressStyleModel",
      "state": {
       "bar_color": "#34abeb",
       "description_width": ""
      }
     },
     "a279dd24676e4de2adb1d2ff47d4c9b6": {
      "model_module": "@jupyter-widgets/base",
      "model_module_version": "1.2.0",
      "model_name": "LayoutModel",
      "state": {}
     },
     "a69e03df975241aa8ab8592fdd554257": {
      "model_module": "@jupyter-widgets/controls",
      "model_module_version": "1.5.0",
      "model_name": "DescriptionStyleModel",
      "state": {
       "description_width": ""
      }
     },
     "a856999d651c4a8f9721da284b9e11ad": {
      "model_module": "@jupyter-widgets/controls",
      "model_module_version": "1.5.0",
      "model_name": "HTMLModel",
      "state": {
       "layout": "IPY_MODEL_b5d94bad18cf4d05b14fd9e6d63847cf",
       "style": "IPY_MODEL_fccd8770d502431195b737937afaafa5",
       "value": "Calculating mean of norm. data: 100%| "
      }
     },
     "a879816932aa48d7b39667719e4c87a6": {
      "model_module": "@jupyter-widgets/controls",
      "model_module_version": "1.5.0",
      "model_name": "FloatProgressModel",
      "state": {
       "bar_style": "success",
       "layout": "IPY_MODEL_4408d9fc7e424fb383618bd387afb83c",
       "max": 1,
       "style": "IPY_MODEL_28d557e9942745c9a8c8fd136cfa4b5c",
       "value": 1
      }
     },
     "a9e410adbf1e4ec89ecacea1f28b6565": {
      "model_module": "@jupyter-widgets/controls",
      "model_module_version": "1.5.0",
      "model_name": "HTMLModel",
      "state": {
       "layout": "IPY_MODEL_f165c0c857fd4ba19bc389fe79b0fbec",
       "style": "IPY_MODEL_914ba16eeaf64a0b9a37f4bb4668ed8b",
       "value": "Smoothening KNN distances: 100%| "
      }
     },
     "aa36f79a42294051a43d42fc0dbe02ed": {
      "model_module": "@jupyter-widgets/base",
      "model_module_version": "1.2.0",
      "model_name": "LayoutModel",
      "state": {}
     },
     "b01162401759422c99feb965bb6a1ec0": {
      "model_module": "@jupyter-widgets/controls",
      "model_module_version": "1.5.0",
      "model_name": "FloatProgressModel",
      "state": {
       "bar_style": "success",
       "layout": "IPY_MODEL_b22360bcff1d421685d024e93ec99c85",
       "max": 59999,
       "style": "IPY_MODEL_199783c723ee40f9abad685d85ccf3f7",
       "value": 59999
      }
     },
     "b22360bcff1d421685d024e93ec99c85": {
      "model_module": "@jupyter-widgets/base",
      "model_module_version": "1.2.0",
      "model_name": "LayoutModel",
      "state": {
       "flex": "2"
      }
     },
     "b3d5dce79d164027a3697aefed015115": {
      "model_module": "@jupyter-widgets/controls",
      "model_module_version": "1.5.0",
      "model_name": "ProgressStyleModel",
      "state": {
       "bar_color": "#34abeb",
       "description_width": ""
      }
     },
     "b3d65414a59d4318a5d189d734b8ca1b": {
      "model_module": "@jupyter-widgets/controls",
      "model_module_version": "1.5.0",
      "model_name": "DescriptionStyleModel",
      "state": {
       "description_width": ""
      }
     },
     "b4285b44cf7840ebaae57ac897db998f": {
      "model_module": "@jupyter-widgets/base",
      "model_module_version": "1.2.0",
      "model_name": "LayoutModel",
      "state": {
       "flex": "2"
      }
     },
     "b5d94bad18cf4d05b14fd9e6d63847cf": {
      "model_module": "@jupyter-widgets/base",
      "model_module_version": "1.2.0",
      "model_name": "LayoutModel",
      "state": {}
     },
     "b7876f30a8d24631856a1d717a6e8df5": {
      "model_module": "@jupyter-widgets/controls",
      "model_module_version": "1.5.0",
      "model_name": "HTMLModel",
      "state": {
       "layout": "IPY_MODEL_1d46cca67023417d8494fb9e4df06482",
       "style": "IPY_MODEL_20115ddd8ce24f4fa4e936c0ae0f4568",
       "value": " 60/61 [00:04]"
      }
     },
     "b7ca1392cdd94145acf78a6c232eebad": {
      "model_module": "@jupyter-widgets/controls",
      "model_module_version": "1.5.0",
      "model_name": "HTMLModel",
      "state": {
       "layout": "IPY_MODEL_98c0ddd1131a4769ace31aa192bccf29",
       "style": "IPY_MODEL_5a891f67e8f84ee28eacce9e6e1a6f1d",
       "value": " 30/30 [00:02]"
      }
     },
     "bb93145aba22408fb155147de27acc3c": {
      "model_module": "@jupyter-widgets/base",
      "model_module_version": "1.2.0",
      "model_name": "LayoutModel",
      "state": {
       "flex": "2"
      }
     },
     "bbc0eca3120a46719bb690e0de91159a": {
      "model_module": "@jupyter-widgets/base",
      "model_module_version": "1.2.0",
      "model_name": "LayoutModel",
      "state": {
       "flex": "2"
      }
     },
     "bc03ba7d4e5041a9b5aa13a9db8b3c58": {
      "model_module": "@jupyter-widgets/controls",
      "model_module_version": "1.5.0",
      "model_name": "DescriptionStyleModel",
      "state": {
       "description_width": ""
      }
     },
     "bcb3d2c2b17842a492985f996f5a38d2": {
      "model_module": "@jupyter-widgets/base",
      "model_module_version": "1.2.0",
      "model_name": "LayoutModel",
      "state": {}
     },
     "bd34ca788b7841bc8c273606064fc948": {
      "model_module": "@jupyter-widgets/base",
      "model_module_version": "1.2.0",
      "model_name": "LayoutModel",
      "state": {}
     },
     "bd570c36882b44089254576d9c21ce03": {
      "model_module": "@jupyter-widgets/controls",
      "model_module_version": "1.5.0",
      "model_name": "HTMLModel",
      "state": {
       "layout": "IPY_MODEL_414c953fc2704fe3b4b25fb98047bffb",
       "style": "IPY_MODEL_df0a745bac32457cba586aeeaade678a",
       "value": " 30/30 [00:02]"
      }
     },
     "bdfe0e9193e8466a8b9d73b606244c82": {
      "model_module": "@jupyter-widgets/controls",
      "model_module_version": "1.5.0",
      "model_name": "DescriptionStyleModel",
      "state": {
       "description_width": ""
      }
     },
     "bf553885b83f4279b641192f201b10f6": {
      "model_module": "@jupyter-widgets/controls",
      "model_module_version": "1.5.0",
      "model_name": "ProgressStyleModel",
      "state": {
       "bar_color": "#34abeb",
       "description_width": ""
      }
     },
     "c2e6230dd38547458ce27c5943485961": {
      "model_module": "@jupyter-widgets/base",
      "model_module_version": "1.2.0",
      "model_name": "LayoutModel",
      "state": {
       "flex": "2"
      }
     },
     "c39d30e142784d06a95cce65fd78ef6e": {
      "model_module": "@jupyter-widgets/controls",
      "model_module_version": "1.5.0",
      "model_name": "HTMLModel",
      "state": {
       "layout": "IPY_MODEL_dcffba77a3dd40ecbee14a80995e31ed",
       "style": "IPY_MODEL_2b43e13d749545b28fd1d7d73a4043e4",
       "value": "Downloading 2/3: 100%| "
      }
     },
     "c4e50a5a893648b0bf1df15f84d2555a": {
      "model_module": "@jupyter-widgets/base",
      "model_module_version": "1.2.0",
      "model_name": "LayoutModel",
      "state": {
       "flex": "2"
      }
     },
     "c6e1dccd46b14cddbeb01af33ef053ea": {
      "model_module": "@jupyter-widgets/base",
      "model_module_version": "1.2.0",
      "model_name": "LayoutModel",
      "state": {
       "display": "inline-flex",
       "flex_flow": "row wrap",
       "width": "500px"
      }
     },
     "c919ce056a8d4ea99a8b82094ff8dd8a": {
      "model_module": "@jupyter-widgets/controls",
      "model_module_version": "1.5.0",
      "model_name": "FloatProgressModel",
      "state": {
       "bar_style": "success",
       "layout": "IPY_MODEL_5a604ab6787a48c9be65f0c1dc9c8ad7",
       "max": 1,
       "style": "IPY_MODEL_ce63848d632b4834b2d9236ee1d2d30e",
       "value": 1
      }
     },
     "cb166f749fa746889a9b8bb7ba5b9f8b": {
      "model_module": "@jupyter-widgets/base",
      "model_module_version": "1.2.0",
      "model_name": "LayoutModel",
      "state": {}
     },
     "cb77f9fbe2c24808af74e844b6adc27c": {
      "model_module": "@jupyter-widgets/base",
      "model_module_version": "1.2.0",
      "model_name": "LayoutModel",
      "state": {
       "flex": "2"
      }
     },
     "cb919ef7425b431284b63583f1514a06": {
      "model_module": "@jupyter-widgets/controls",
      "model_module_version": "1.5.0",
      "model_name": "ProgressStyleModel",
      "state": {
       "bar_color": "#34abeb",
       "description_width": ""
      }
     },
     "ccf6763437aa424f9e8d6fbc1012ce61": {
      "model_module": "@jupyter-widgets/controls",
      "model_module_version": "1.5.0",
      "model_name": "DescriptionStyleModel",
      "state": {
       "description_width": ""
      }
     },
     "ce5b770ac8da48efb7b6784b94022f77": {
      "model_module": "@jupyter-widgets/controls",
      "model_module_version": "1.5.0",
      "model_name": "HTMLModel",
      "state": {
       "layout": "IPY_MODEL_639cfa5b25ad4b30b652ebae777256db",
       "style": "IPY_MODEL_6b7d76588472449f9ed2a610e351ed40",
       "value": "Estimating seed partitions: 100%| "
      }
     },
     "ce63848d632b4834b2d9236ee1d2d30e": {
      "model_module": "@jupyter-widgets/controls",
      "model_module_version": "1.5.0",
      "model_name": "ProgressStyleModel",
      "state": {
       "bar_color": "#34abeb",
       "description_width": ""
      }
     },
     "d0cb0bf87f074ac68faf19a86965c4c9": {
      "model_module": "@jupyter-widgets/base",
      "model_module_version": "1.2.0",
      "model_name": "LayoutModel",
      "state": {}
     },
     "d17c4a266147456dbce8eff6ab95a0ed": {
      "model_module": "@jupyter-widgets/controls",
      "model_module_version": "1.5.0",
      "model_name": "FloatProgressModel",
      "state": {
       "bar_style": "success",
       "layout": "IPY_MODEL_bb93145aba22408fb155147de27acc3c",
       "max": 30,
       "style": "IPY_MODEL_9896df62c2704d03a1ed75d9d7727229",
       "value": 30
      }
     },
     "d21ec83efc4f4a38ab13949b9b8a9d83": {
      "model_module": "@jupyter-widgets/controls",
      "model_module_version": "1.5.0",
      "model_name": "HBoxModel",
      "state": {
       "children": [
        "IPY_MODEL_4409fe2575d9456bac85245a7fc3e91e",
        "IPY_MODEL_b01162401759422c99feb965bb6a1ec0",
        "IPY_MODEL_de4a2f49e459462f8eae1cc5040d931c"
       ],
       "layout": "IPY_MODEL_0dc4b7011e284bac90e196d62024a33c"
      }
     },
     "d3f14259c57d4ec29e1f9b4664ea73c5": {
      "model_module": "@jupyter-widgets/base",
      "model_module_version": "1.2.0",
      "model_name": "LayoutModel",
      "state": {}
     },
     "d4080ed6f2af4e219516b2dfc19fb151": {
      "model_module": "@jupyter-widgets/controls",
      "model_module_version": "1.5.0",
      "model_name": "HBoxModel",
      "state": {
       "children": [
        "IPY_MODEL_054b6cca876946ff912f16ffbbf3b003",
        "IPY_MODEL_d17c4a266147456dbce8eff6ab95a0ed",
        "IPY_MODEL_667a815f35c140888821d0cab3bf6f3f"
       ],
       "layout": "IPY_MODEL_016216eb06344f83a8f461b876475188"
      }
     },
     "d4e349fba38449a48a19d6822d919aa6": {
      "model_module": "@jupyter-widgets/base",
      "model_module_version": "1.2.0",
      "model_name": "LayoutModel",
      "state": {}
     },
     "d62ef3cf16f24a1698c9fd1b33b0ab26": {
      "model_module": "@jupyter-widgets/controls",
      "model_module_version": "1.5.0",
      "model_name": "FloatProgressModel",
      "state": {
       "bar_style": "success",
       "layout": "IPY_MODEL_08c29845ccf1492d925556fd4b469bdb",
       "max": 20,
       "style": "IPY_MODEL_ecd11e9c17f04256908750ef8fbad15a",
       "value": 20
      }
     },
     "d6c9de82b89f42689ebc6d3817e5fedc": {
      "model_module": "@jupyter-widgets/controls",
      "model_module_version": "1.5.0",
      "model_name": "HBoxModel",
      "state": {
       "children": [
        "IPY_MODEL_45b7732d1cb14d0ba75f55e6e82cef1c",
        "IPY_MODEL_60384eb5b5474babb0fed4a0b6825503",
        "IPY_MODEL_667c79e514aa4c688185660fa2097371"
       ],
       "layout": "IPY_MODEL_4654b9f22f664dbbaedc4aa7b8b422a0"
      }
     },
     "d891436f2f75465c9396d42a71036044": {
      "model_module": "@jupyter-widgets/controls",
      "model_module_version": "1.5.0",
      "model_name": "HTMLModel",
      "state": {
       "layout": "IPY_MODEL_545c6989c3e54d3fb0cacf2318fb67d9",
       "style": "IPY_MODEL_a135e5d82b26402382be9a45be47aae4",
       "value": "(RNA) Computing nCells and dropOuts: 100%| "
      }
     },
     "d89e8fef88964807b0226471206676a5": {
      "model_module": "@jupyter-widgets/controls",
      "model_module_version": "1.5.0",
      "model_name": "FloatProgressModel",
      "state": {
       "bar_style": "success",
       "layout": "IPY_MODEL_7077c26803e440439eac6a8fabb0115d",
       "max": 30,
       "style": "IPY_MODEL_cb919ef7425b431284b63583f1514a06",
       "value": 30
      }
     },
     "d90eff6362a54c7d90ed73eb6227aa52": {
      "model_module": "@jupyter-widgets/controls",
      "model_module_version": "1.5.0",
      "model_name": "DescriptionStyleModel",
      "state": {
       "description_width": ""
      }
     },
     "d96bb75a7e73442a85176ba3f0fc50e3": {
      "model_module": "@jupyter-widgets/controls",
      "model_module_version": "1.5.0",
      "model_name": "HBoxModel",
      "state": {
       "children": [
        "IPY_MODEL_18e4b4f65203495e895d4d9c3937e5d8",
        "IPY_MODEL_f2eac19ae4be439eb619eec1539770cf",
        "IPY_MODEL_bd570c36882b44089254576d9c21ce03"
       ],
       "layout": "IPY_MODEL_066fbf5948b648e8b8e2467bfd421a42"
      }
     },
     "dc2c1b7d99044770b05637420cfacf31": {
      "model_module": "@jupyter-widgets/controls",
      "model_module_version": "1.5.0",
      "model_name": "DescriptionStyleModel",
      "state": {
       "description_width": ""
      }
     },
     "dce9ddb6e7d84a69b67906da97b72b93": {
      "model_module": "@jupyter-widgets/base",
      "model_module_version": "1.2.0",
      "model_name": "LayoutModel",
      "state": {}
     },
     "dcffba77a3dd40ecbee14a80995e31ed": {
      "model_module": "@jupyter-widgets/base",
      "model_module_version": "1.2.0",
      "model_name": "LayoutModel",
      "state": {}
     },
     "dd5455292e594f1c80a56d2d0560479b": {
      "model_module": "@jupyter-widgets/controls",
      "model_module_version": "1.5.0",
      "model_name": "DescriptionStyleModel",
      "state": {
       "description_width": ""
      }
     },
     "dd9230a0f11e495cacef8092e46f53c0": {
      "model_module": "@jupyter-widgets/controls",
      "model_module_version": "1.5.0",
      "model_name": "ProgressStyleModel",
      "state": {
       "bar_color": "#34abeb",
       "description_width": ""
      }
     },
     "de4a2f49e459462f8eae1cc5040d931c": {
      "model_module": "@jupyter-widgets/controls",
      "model_module_version": "1.5.0",
      "model_name": "HTMLModel",
      "state": {
       "layout": "IPY_MODEL_474b9404dbb948ddb3a55ac307049a16",
       "style": "IPY_MODEL_e659dc3141584e6094a7afab1dc89778",
       "value": " 59999/59999 [00:00]"
      }
     },
     "defde5a70d304f2b9564255c4a9d387f": {
      "model_module": "@jupyter-widgets/controls",
      "model_module_version": "1.5.0",
      "model_name": "HTMLModel",
      "state": {
       "layout": "IPY_MODEL_738a9b59f32f42f09a62acfb0a1959a3",
       "style": "IPY_MODEL_bdfe0e9193e8466a8b9d73b606244c82",
       "value": " 30/30 [00:01]"
      }
     },
     "df0a745bac32457cba586aeeaade678a": {
      "model_module": "@jupyter-widgets/controls",
      "model_module_version": "1.5.0",
      "model_name": "DescriptionStyleModel",
      "state": {
       "description_width": ""
      }
     },
     "e2dceac2c1ce49fba8e20b81934b0528": {
      "model_module": "@jupyter-widgets/controls",
      "model_module_version": "1.5.0",
      "model_name": "HTMLModel",
      "state": {
       "layout": "IPY_MODEL_3e3db89becf14bf98566fd24650510b9",
       "style": "IPY_MODEL_6a9712a645474c758130f92327d3adfe",
       "value": "(RNA) Computing nFeatures: 100%| "
      }
     },
     "e3368240abe54d9eb4751524717871e1": {
      "model_module": "@jupyter-widgets/controls",
      "model_module_version": "1.5.0",
      "model_name": "HBoxModel",
      "state": {
       "children": [
        "IPY_MODEL_a9e410adbf1e4ec89ecacea1f28b6565",
        "IPY_MODEL_9413f055d7ca4795a21caafa01344b0f",
        "IPY_MODEL_5c1f5d6b0ba54e919474239a4bdbfef3"
       ],
       "layout": "IPY_MODEL_c6e1dccd46b14cddbeb01af33ef053ea"
      }
     },
     "e659dc3141584e6094a7afab1dc89778": {
      "model_module": "@jupyter-widgets/controls",
      "model_module_version": "1.5.0",
      "model_name": "DescriptionStyleModel",
      "state": {
       "description_width": ""
      }
     },
     "e93805408efd45038ba4620e4392345b": {
      "model_module": "@jupyter-widgets/base",
      "model_module_version": "1.2.0",
      "model_name": "LayoutModel",
      "state": {}
     },
     "e95af6b9c148435ea28a4961d452e71a": {
      "model_module": "@jupyter-widgets/base",
      "model_module_version": "1.2.0",
      "model_name": "LayoutModel",
      "state": {
       "display": "inline-flex",
       "flex_flow": "row wrap",
       "width": "500px"
      }
     },
     "ea6b0eebdddf47599a6d82cccf9a7fc3": {
      "model_module": "@jupyter-widgets/controls",
      "model_module_version": "1.5.0",
      "model_name": "DescriptionStyleModel",
      "state": {
       "description_width": ""
      }
     },
     "eb8c0e214aec4ad9a6704e3fe4fab608": {
      "model_module": "@jupyter-widgets/base",
      "model_module_version": "1.2.0",
      "model_name": "LayoutModel",
      "state": {
       "display": "inline-flex",
       "flex_flow": "row wrap",
       "width": "500px"
      }
     },
     "eba8e9e3bb1442e788c6b4b54feb81fb": {
      "model_module": "@jupyter-widgets/base",
      "model_module_version": "1.2.0",
      "model_name": "LayoutModel",
      "state": {
       "display": "inline-flex",
       "flex_flow": "row wrap",
       "width": "500px"
      }
     },
     "ec168054826349b983b560bdebf5ce85": {
      "model_module": "@jupyter-widgets/controls",
      "model_module_version": "1.5.0",
      "model_name": "DescriptionStyleModel",
      "state": {
       "description_width": ""
      }
     },
     "ecd11e9c17f04256908750ef8fbad15a": {
      "model_module": "@jupyter-widgets/controls",
      "model_module_version": "1.5.0",
      "model_name": "ProgressStyleModel",
      "state": {
       "bar_color": "#34abeb",
       "description_width": ""
      }
     },
     "ee4bc265ae4943dcbe6735890bad1e26": {
      "model_module": "@jupyter-widgets/controls",
      "model_module_version": "1.5.0",
      "model_name": "FloatProgressModel",
      "state": {
       "bar_style": "success",
       "layout": "IPY_MODEL_682c9e59eedb4c7aab36753b6a8008f1",
       "max": 71,
       "style": "IPY_MODEL_8a053610b6594ef3b5dc4cd999a0f4b5",
       "value": 71
      }
     },
     "f165c0c857fd4ba19bc389fe79b0fbec": {
      "model_module": "@jupyter-widgets/base",
      "model_module_version": "1.2.0",
      "model_name": "LayoutModel",
      "state": {}
     },
     "f185b25a163745168b8cdee6bed5670c": {
      "model_module": "@jupyter-widgets/base",
      "model_module_version": "1.2.0",
      "model_name": "LayoutModel",
      "state": {}
     },
     "f2425ab46b7f4c638035638858814048": {
      "model_module": "@jupyter-widgets/base",
      "model_module_version": "1.2.0",
      "model_name": "LayoutModel",
      "state": {
       "flex": "2"
      }
     },
     "f2eac19ae4be439eb619eec1539770cf": {
      "model_module": "@jupyter-widgets/controls",
      "model_module_version": "1.5.0",
      "model_name": "FloatProgressModel",
      "state": {
       "bar_style": "success",
       "layout": "IPY_MODEL_cb77f9fbe2c24808af74e844b6adc27c",
       "max": 30,
       "style": "IPY_MODEL_2607c3caf046412ea8f9a90c66b58c93",
       "value": 30
      }
     },
     "f57350ae50dc44b28089d58e2aa8f35a": {
      "model_module": "@jupyter-widgets/base",
      "model_module_version": "1.2.0",
      "model_name": "LayoutModel",
      "state": {}
     },
     "f8730d3af27d4636a97f38822e8a9ca3": {
      "model_module": "@jupyter-widgets/controls",
      "model_module_version": "1.5.0",
      "model_name": "DescriptionStyleModel",
      "state": {
       "description_width": ""
      }
     },
     "fa1bb0df927e415f96ad2317b733337b": {
      "model_module": "@jupyter-widgets/controls",
      "model_module_version": "1.5.0",
      "model_name": "DescriptionStyleModel",
      "state": {
       "description_width": ""
      }
     },
     "fae453acb9474c909e64f8fd5c47daa3": {
      "model_module": "@jupyter-widgets/base",
      "model_module_version": "1.2.0",
      "model_name": "LayoutModel",
      "state": {}
     },
     "fc0862ac51fc41708a95644fb8aac27a": {
      "model_module": "@jupyter-widgets/controls",
      "model_module_version": "1.5.0",
      "model_name": "HTMLModel",
      "state": {
       "layout": "IPY_MODEL_93dd24e09c0b4f03980924fac28538da",
       "style": "IPY_MODEL_ccf6763437aa424f9e8d6fbc1012ce61",
       "value": "Fitting PCA: 100%| "
      }
     },
     "fccd8770d502431195b737937afaafa5": {
      "model_module": "@jupyter-widgets/controls",
      "model_module_version": "1.5.0",
      "model_name": "DescriptionStyleModel",
      "state": {
       "description_width": ""
      }
     },
     "fdcdb815d99e4eaf8598af9c09486b8f": {
      "model_module": "@jupyter-widgets/base",
      "model_module_version": "1.2.0",
      "model_name": "LayoutModel",
      "state": {}
     },
     "ffd34b3ad5b24796a92c3eb5ae01e209": {
      "model_module": "@jupyter-widgets/controls",
      "model_module_version": "1.5.0",
      "model_name": "DescriptionStyleModel",
      "state": {
       "description_width": ""
      }
     }
    },
    "version_major": 2,
    "version_minor": 0
   }
  }
 },
 "nbformat": 4,
 "nbformat_minor": 5
}
