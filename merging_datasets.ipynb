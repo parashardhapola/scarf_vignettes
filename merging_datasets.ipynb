{
 "cells": [
  {
   "cell_type": "markdown",
   "id": "4b349099",
   "metadata": {},
   "source": [
    "## Merging datasets and partial training\n",
    "\n",
    "This vignette demonstrates how to merge datasets, which are present in different zarr files. The vignette will also demonstrate the steps for performing partial training. Partial PCA training is a lightweight alternative to perform batch effect correction, that often helps obtain a well-integrated embedding and clustering."
   ]
  },
  {
   "cell_type": "code",
   "execution_count": 1,
   "id": "61096c1b",
   "metadata": {},
   "outputs": [
    {
     "data": {
      "text/plain": [
       "'0.18.1'"
      ]
     },
     "execution_count": 1,
     "metadata": {},
     "output_type": "execute_result"
    },
    {
     "name": "stdout",
     "output_type": "stream",
     "text": [
      "time: 3.47 s (started: 2021-09-04 13:27:24 +02:00)\n"
     ]
    }
   ],
   "source": [
    "%load_ext autotime\n",
    "\n",
    "import scarf\n",
    "scarf.__version__"
   ]
  },
  {
   "cell_type": "markdown",
   "id": "2f4c1ad6",
   "metadata": {},
   "source": [
    "---\n",
    "### 1) Fetch datasets in Zarr format\n",
    "\n",
    "Here we will use the same datasets are we use in the ['data projection'](https://scarf.readthedocs.io/en/latest/vignettes/data_projection.html) vignette. We download the files in zarr format."
   ]
  },
  {
   "cell_type": "code",
   "execution_count": 2,
   "id": "160a4576",
   "metadata": {},
   "outputs": [
    {
     "data": {
      "application/vnd.jupyter.widget-view+json": {
       "model_id": "e4f6550fe6c749cc86f93ba3cdb251c0",
       "version_major": 2,
       "version_minor": 0
      },
      "text/plain": [
       "Downloading :   0%|                                                                                           …"
      ]
     },
     "metadata": {},
     "output_type": "display_data"
    },
    {
     "data": {
      "application/vnd.jupyter.widget-view+json": {
       "model_id": "1433af7d36f44359bdad1dbf8fbf1db3",
       "version_major": 2,
       "version_minor": 0
      },
      "text/plain": [
       "Downloading :   0%|                                                                                           …"
      ]
     },
     "metadata": {},
     "output_type": "display_data"
    },
    {
     "name": "stdout",
     "output_type": "stream",
     "text": [
      "time: 48.8 s (started: 2021-09-04 13:27:27 +02:00)\n"
     ]
    }
   ],
   "source": [
    "scarf.fetch_dataset(\n",
    "    dataset_name='kang_15K_pbmc_rnaseq',\n",
    "    save_path='scarf_datasets',\n",
    "    as_zarr=True\n",
    ")\n",
    "\n",
    "scarf.fetch_dataset(\n",
    "    dataset_name='kang_14K_ifnb-pbmc_rnaseq', \n",
    "    save_path='scarf_datasets',\n",
    "    as_zarr=True\n",
    ")"
   ]
  },
  {
   "cell_type": "markdown",
   "id": "8f8aca12",
   "metadata": {},
   "source": [
    "The Zarr files need to be loaded as a DataStore before they can be merged:"
   ]
  },
  {
   "cell_type": "code",
   "execution_count": 3,
   "id": "357765c1",
   "metadata": {},
   "outputs": [
    {
     "data": {
      "text/plain": [
       "DataStore has 8487 (14619) cells with 1 assays: RNA\n",
       "   Cell metadata:\n",
       "            'I', 'ids', 'names', 'RNA_UMAP1', 'RNA_UMAP2', \n",
       "            'RNA_leiden_cluster', 'RNA_nCounts', 'RNA_nFeatures', 'RNA_percentMito', 'RNA_percentRibo', \n",
       "            'cluster_labels'\n",
       "   RNA assay has 11352 (35635) features and following metadata:\n",
       "            'I', 'ids', 'names', 'I__hvgs', 'dropOuts', \n",
       "            'nCells'"
      ]
     },
     "execution_count": 3,
     "metadata": {},
     "output_type": "execute_result"
    },
    {
     "name": "stdout",
     "output_type": "stream",
     "text": [
      "time: 62 ms (started: 2021-09-04 13:28:16 +02:00)\n"
     ]
    }
   ],
   "source": [
    "ds_ctrl = scarf.DataStore(\n",
    "    'scarf_datasets/kang_15K_pbmc_rnaseq/data.zarr/',\n",
    "    nthreads=4\n",
    ")\n",
    "\n",
    "ds_ctrl"
   ]
  },
  {
   "cell_type": "code",
   "execution_count": 4,
   "id": "9969d02f",
   "metadata": {},
   "outputs": [
    {
     "data": {
      "text/plain": [
       "DataStore has 10111 (14446) cells with 1 assays: RNA\n",
       "   Cell metadata:\n",
       "            'I', 'ids', 'names', 'RNA_UMAP1', 'RNA_UMAP2', \n",
       "            'RNA_leiden_cluster', 'RNA_nCounts', 'RNA_nFeatures', 'RNA_percentMito', 'RNA_percentRibo', \n",
       "            'cluster_labels'\n",
       "   RNA assay has 11051 (35635) features and following metadata:\n",
       "            'I', 'ids', 'names', 'I__hvgs', 'dropOuts', \n",
       "            'nCells'"
      ]
     },
     "execution_count": 4,
     "metadata": {},
     "output_type": "execute_result"
    },
    {
     "name": "stdout",
     "output_type": "stream",
     "text": [
      "time: 47 ms (started: 2021-09-04 13:28:16 +02:00)\n"
     ]
    }
   ],
   "source": [
    "ds_stim = scarf.DataStore(\n",
    "    'scarf_datasets/kang_14K_ifnb-pbmc_rnaseq/data.zarr',\n",
    "    nthreads=4\n",
    ")\n",
    "\n",
    "ds_stim"
   ]
  },
  {
   "cell_type": "markdown",
   "id": "b4913faf",
   "metadata": {},
   "source": [
    "---\n",
    "### 2) Merging datasets\n",
    "\n",
    "The merging step will make sure that the features are in the same order as in the merged file. The merged data will be dumped into a new Zarr file. `ZarrMerge` class allows merging multiple samples at the same time. Though only one kind of assays can be added at a time, other modalities for the same cells can be added at a later point. "
   ]
  },
  {
   "cell_type": "code",
   "execution_count": 5,
   "id": "f8a02f49",
   "metadata": {},
   "outputs": [
    {
     "data": {
      "application/vnd.jupyter.widget-view+json": {
       "model_id": "c7b4531c93fb40dea6bfb233d5bfe339",
       "version_major": 2,
       "version_minor": 0
      },
      "text/plain": [
       "Writing data to merged file:   0%|                                                                            …"
      ]
     },
     "metadata": {},
     "output_type": "display_data"
    },
    {
     "data": {
      "application/vnd.jupyter.widget-view+json": {
       "model_id": "1ffcacbf7964475f9ce4be9ddafb91b8",
       "version_major": 2,
       "version_minor": 0
      },
      "text/plain": [
       "Writing data to merged file:   0%|                                                                            …"
      ]
     },
     "metadata": {},
     "output_type": "display_data"
    },
    {
     "name": "stdout",
     "output_type": "stream",
     "text": [
      "time: 35.3 s (started: 2021-09-04 13:28:16 +02:00)\n"
     ]
    }
   ],
   "source": [
    "#Can be used to merge multiple assays\n",
    "scarf.ZarrMerge(\n",
    "    # Path where merged Zarr files will be saved\n",
    "    zarr_path='scarf_datasets/kang_merged_pbmc_rnaseq.zarr',  \n",
    "    \n",
    "    # assays to be merged\n",
    "    assays=[ds_ctrl.RNA, ds_stim.RNA],\n",
    "    \n",
    "    # these names will be preprended to the cell ids with '__' delimiter\n",
    "    names=['ctrl', 'stim'],\n",
    "    \n",
    "    # Name of the merged assay. `overwrite` will remove an existing Zarr file.\n",
    "    merge_assay_name='RNA',\n",
    "    overwrite=True\n",
    ").dump()"
   ]
  },
  {
   "cell_type": "markdown",
   "id": "d50b2bdb",
   "metadata": {},
   "source": [
    "Load the merged Zarr file as a DataStore:"
   ]
  },
  {
   "cell_type": "code",
   "execution_count": 6,
   "id": "5f563e79",
   "metadata": {},
   "outputs": [
    {
     "data": {
      "application/vnd.jupyter.widget-view+json": {
       "model_id": "a2ab1484f4be4eac9fdfd43d0525c39e",
       "version_major": 2,
       "version_minor": 0
      },
      "text/plain": [
       "(RNA) Computing nCells and dropOuts:   0%|                                                                    …"
      ]
     },
     "metadata": {},
     "output_type": "display_data"
    },
    {
     "data": {
      "application/vnd.jupyter.widget-view+json": {
       "model_id": "1eed3225a43e47d9825bc241c8c16192",
       "version_major": 2,
       "version_minor": 0
      },
      "text/plain": [
       "(RNA) Computing nCounts:   0%|                                                                                …"
      ]
     },
     "metadata": {},
     "output_type": "display_data"
    },
    {
     "name": "stdout",
     "output_type": "stream",
     "text": [
      "\u001b[33m\u001b[1mWARNING\u001b[0m: Minimum cell count (562) is lower than size factor multiplier (1000)\n"
     ]
    },
    {
     "data": {
      "application/vnd.jupyter.widget-view+json": {
       "model_id": "194b6dcdbbb14cc58ca132b7f8aa7637",
       "version_major": 2,
       "version_minor": 0
      },
      "text/plain": [
       "(RNA) Computing nFeatures:   0%|                                                                              …"
      ]
     },
     "metadata": {},
     "output_type": "display_data"
    },
    {
     "data": {
      "application/vnd.jupyter.widget-view+json": {
       "model_id": "25615ffb7d294eb0b38def1df6aaf2c5",
       "version_major": 2,
       "version_minor": 0
      },
      "text/plain": [
       "(RNA) Computing RNA_percentMito:   0%|                                                                        …"
      ]
     },
     "metadata": {},
     "output_type": "display_data"
    },
    {
     "data": {
      "application/vnd.jupyter.widget-view+json": {
       "model_id": "df738d2d901b4875b96df45dbc56c3e3",
       "version_major": 2,
       "version_minor": 0
      },
      "text/plain": [
       "(RNA) Computing RNA_percentRibo:   0%|                                                                        …"
      ]
     },
     "metadata": {},
     "output_type": "display_data"
    },
    {
     "name": "stdout",
     "output_type": "stream",
     "text": [
      "time: 12.4 s (started: 2021-09-04 13:28:51 +02:00)\n"
     ]
    }
   ],
   "source": [
    "ds = scarf.DataStore(\n",
    "    'scarf_datasets/kang_merged_pbmc_rnaseq.zarr',\n",
    "    nthreads=4\n",
    ")"
   ]
  },
  {
   "cell_type": "markdown",
   "id": "811ae156",
   "metadata": {},
   "source": [
    "So now we print the merged datastore. The merging removed all the precalculated data. Even the information on which cells were filtered out is lost in the process. This is done deliberately, to allow users to start fresh with the merged dataset."
   ]
  },
  {
   "cell_type": "code",
   "execution_count": 7,
   "id": "77933ec0",
   "metadata": {},
   "outputs": [
    {
     "data": {
      "text/plain": [
       "DataStore has 29065 (29065) cells with 1 assays: RNA\n",
       "   Cell metadata:\n",
       "            'I', 'ids', 'names', 'RNA_nCounts', 'RNA_nFeatures', \n",
       "            'RNA_percentMito', 'RNA_percentRibo', 'orig_RNA_UMAP1', 'orig_RNA_UMAP2', 'orig_RNA_leiden_cluster', \n",
       "            'orig_RNA_nCounts', 'orig_RNA_nFeatures', 'orig_RNA_percentMito', 'orig_RNA_percentRibo', 'orig_cluster_labels', \n",
       "          \n",
       "   RNA assay has 12450 (35635) features and following metadata:\n",
       "            'I', 'ids', 'names', 'dropOuts', 'nCells', \n",
       "          "
      ]
     },
     "execution_count": 7,
     "metadata": {},
     "output_type": "execute_result"
    },
    {
     "name": "stdout",
     "output_type": "stream",
     "text": [
      "time: 16 ms (started: 2021-09-04 13:29:04 +02:00)\n"
     ]
    }
   ],
   "source": [
    "ds"
   ]
  },
  {
   "cell_type": "markdown",
   "id": "2ce6a4fd",
   "metadata": {},
   "source": [
    "If we have a look at the cell attributes table, we can clearly see the that the sample identity is shown in the `ids` column, prepended to the barcode."
   ]
  },
  {
   "cell_type": "code",
   "execution_count": 8,
   "id": "e7ceb6d9",
   "metadata": {},
   "outputs": [
    {
     "data": {
      "text/html": [
       "<div>\n",
       "<style scoped>\n",
       "    .dataframe tbody tr th:only-of-type {\n",
       "        vertical-align: middle;\n",
       "    }\n",
       "\n",
       "    .dataframe tbody tr th {\n",
       "        vertical-align: top;\n",
       "    }\n",
       "\n",
       "    .dataframe thead th {\n",
       "        text-align: right;\n",
       "    }\n",
       "</style>\n",
       "<table border=\"1\" class=\"dataframe\">\n",
       "  <thead>\n",
       "    <tr style=\"text-align: right;\">\n",
       "      <th></th>\n",
       "      <th>I</th>\n",
       "      <th>ids</th>\n",
       "      <th>names</th>\n",
       "      <th>RNA_nCounts</th>\n",
       "      <th>RNA_nFeatures</th>\n",
       "      <th>RNA_percentMito</th>\n",
       "      <th>RNA_percentRibo</th>\n",
       "      <th>orig_RNA_UMAP1</th>\n",
       "      <th>orig_RNA_UMAP2</th>\n",
       "      <th>orig_RNA_leiden_cluster</th>\n",
       "      <th>orig_RNA_nCounts</th>\n",
       "      <th>orig_RNA_nFeatures</th>\n",
       "      <th>orig_RNA_percentMito</th>\n",
       "      <th>orig_RNA_percentRibo</th>\n",
       "      <th>orig_cluster_labels</th>\n",
       "    </tr>\n",
       "  </thead>\n",
       "  <tbody>\n",
       "    <tr>\n",
       "      <th>0</th>\n",
       "      <td>True</td>\n",
       "      <td>ctrl__AAACATACAATGCC-1</td>\n",
       "      <td>AAACATACAATGCC-1</td>\n",
       "      <td>2191.0</td>\n",
       "      <td>852.0</td>\n",
       "      <td>0.273848</td>\n",
       "      <td>32.131447</td>\n",
       "      <td>2.224133</td>\n",
       "      <td>-7.265071</td>\n",
       "      <td>2</td>\n",
       "      <td>2191.0</td>\n",
       "      <td>852.0</td>\n",
       "      <td>0.273848</td>\n",
       "      <td>32.131447</td>\n",
       "      <td>CD4 naive T</td>\n",
       "    </tr>\n",
       "    <tr>\n",
       "      <th>1</th>\n",
       "      <td>True</td>\n",
       "      <td>ctrl__AAACATACATTTCC-1</td>\n",
       "      <td>AAACATACATTTCC-1</td>\n",
       "      <td>3018.0</td>\n",
       "      <td>878.0</td>\n",
       "      <td>0.099404</td>\n",
       "      <td>15.440689</td>\n",
       "      <td>-2.979369</td>\n",
       "      <td>14.908970</td>\n",
       "      <td>10</td>\n",
       "      <td>3018.0</td>\n",
       "      <td>878.0</td>\n",
       "      <td>0.099404</td>\n",
       "      <td>15.440689</td>\n",
       "      <td>CD 14 Mono</td>\n",
       "    </tr>\n",
       "    <tr>\n",
       "      <th>2</th>\n",
       "      <td>True</td>\n",
       "      <td>ctrl__AAACATACCAGAAA-1</td>\n",
       "      <td>AAACATACCAGAAA-1</td>\n",
       "      <td>2481.0</td>\n",
       "      <td>713.0</td>\n",
       "      <td>0.241838</td>\n",
       "      <td>4.957678</td>\n",
       "      <td>4.714710</td>\n",
       "      <td>9.148883</td>\n",
       "      <td>4</td>\n",
       "      <td>2481.0</td>\n",
       "      <td>713.0</td>\n",
       "      <td>0.241838</td>\n",
       "      <td>4.957678</td>\n",
       "      <td>CD 14 Mono</td>\n",
       "    </tr>\n",
       "    <tr>\n",
       "      <th>3</th>\n",
       "      <td>True</td>\n",
       "      <td>ctrl__AAACATACCAGCTA-1</td>\n",
       "      <td>AAACATACCAGCTA-1</td>\n",
       "      <td>3157.0</td>\n",
       "      <td>950.0</td>\n",
       "      <td>0.031676</td>\n",
       "      <td>11.308204</td>\n",
       "      <td>3.747393</td>\n",
       "      <td>13.955492</td>\n",
       "      <td>4</td>\n",
       "      <td>3157.0</td>\n",
       "      <td>950.0</td>\n",
       "      <td>0.031676</td>\n",
       "      <td>11.308204</td>\n",
       "      <td>CD 14 Mono</td>\n",
       "    </tr>\n",
       "    <tr>\n",
       "      <th>4</th>\n",
       "      <td>True</td>\n",
       "      <td>ctrl__AAACATACCATGCA-1</td>\n",
       "      <td>AAACATACCATGCA-1</td>\n",
       "      <td>703.0</td>\n",
       "      <td>337.0</td>\n",
       "      <td>0.426743</td>\n",
       "      <td>10.953058</td>\n",
       "      <td>NaN</td>\n",
       "      <td>NaN</td>\n",
       "      <td>-1</td>\n",
       "      <td>703.0</td>\n",
       "      <td>337.0</td>\n",
       "      <td>0.426743</td>\n",
       "      <td>10.953058</td>\n",
       "      <td>nan</td>\n",
       "    </tr>\n",
       "  </tbody>\n",
       "</table>\n",
       "</div>"
      ],
      "text/plain": [
       "      I                     ids             names  RNA_nCounts  RNA_nFeatures  \\\n",
       "0  True  ctrl__AAACATACAATGCC-1  AAACATACAATGCC-1       2191.0          852.0   \n",
       "1  True  ctrl__AAACATACATTTCC-1  AAACATACATTTCC-1       3018.0          878.0   \n",
       "2  True  ctrl__AAACATACCAGAAA-1  AAACATACCAGAAA-1       2481.0          713.0   \n",
       "3  True  ctrl__AAACATACCAGCTA-1  AAACATACCAGCTA-1       3157.0          950.0   \n",
       "4  True  ctrl__AAACATACCATGCA-1  AAACATACCATGCA-1        703.0          337.0   \n",
       "\n",
       "   RNA_percentMito  RNA_percentRibo  orig_RNA_UMAP1  orig_RNA_UMAP2  \\\n",
       "0         0.273848        32.131447        2.224133       -7.265071   \n",
       "1         0.099404        15.440689       -2.979369       14.908970   \n",
       "2         0.241838         4.957678        4.714710        9.148883   \n",
       "3         0.031676        11.308204        3.747393       13.955492   \n",
       "4         0.426743        10.953058             NaN             NaN   \n",
       "\n",
       "   orig_RNA_leiden_cluster  orig_RNA_nCounts  orig_RNA_nFeatures  \\\n",
       "0                        2            2191.0               852.0   \n",
       "1                       10            3018.0               878.0   \n",
       "2                        4            2481.0               713.0   \n",
       "3                        4            3157.0               950.0   \n",
       "4                       -1             703.0               337.0   \n",
       "\n",
       "   orig_RNA_percentMito  orig_RNA_percentRibo orig_cluster_labels  \n",
       "0              0.273848             32.131447         CD4 naive T  \n",
       "1              0.099404             15.440689          CD 14 Mono  \n",
       "2              0.241838              4.957678          CD 14 Mono  \n",
       "3              0.031676             11.308204          CD 14 Mono  \n",
       "4              0.426743             10.953058                 nan  "
      ]
     },
     "execution_count": 8,
     "metadata": {},
     "output_type": "execute_result"
    },
    {
     "name": "stdout",
     "output_type": "stream",
     "text": [
      "time: 62 ms (started: 2021-09-04 13:29:04 +02:00)\n"
     ]
    }
   ],
   "source": [
    "ds.cells.head()"
   ]
  },
  {
   "cell_type": "markdown",
   "id": "2cbfd51c",
   "metadata": {},
   "source": [
    "It can be a good idea to keep track of the cells from different samples, we can fetch out the dataset id from cell-barcodes and add them separately in a new column (this step might get automated in the future)."
   ]
  },
  {
   "cell_type": "code",
   "execution_count": 9,
   "id": "1fd1ab75",
   "metadata": {},
   "outputs": [
    {
     "name": "stdout",
     "output_type": "stream",
     "text": [
      "\u001b[33m\u001b[1mWARNING\u001b[0m: 'values' parameter is of `list` type and not `np.ndarray` as expected. The correct dtype may not be assigned to the column\n",
      "time: 31 ms (started: 2021-09-04 13:29:04 +02:00)\n"
     ]
    }
   ],
   "source": [
    "ds.cells.insert(\n",
    "    column_name='sample_id',\n",
    "    values=[x.split('__')[0] for x in ds.cells.fetch_all('ids')],\n",
    "    overwrite=True\n",
    ")"
   ]
  },
  {
   "cell_type": "markdown",
   "id": "b7158ece",
   "metadata": {},
   "source": [
    "Rather than performing a fresh round of annotation, we will also import the cluster labels from the unmerged datasets. This help us at later steps to evaluate our results."
   ]
  },
  {
   "cell_type": "code",
   "execution_count": 10,
   "id": "0c55dcb5",
   "metadata": {},
   "outputs": [
    {
     "name": "stdout",
     "output_type": "stream",
     "text": [
      "\u001b[33m\u001b[1mWARNING\u001b[0m: 'values' parameter is of `list` type and not `np.ndarray` as expected. The correct dtype may not be assigned to the column\n",
      "time: 47 ms (started: 2021-09-04 13:29:04 +02:00)\n"
     ]
    }
   ],
   "source": [
    "ctrl_labels = list(ds_ctrl.cells.fetch_all('cluster_labels'))\n",
    "stim_labels = list(ds_stim.cells.fetch_all('cluster_labels'))\n",
    "\n",
    "ds.cells.insert(\n",
    "    column_name='imported_labels',\n",
    "    values=ctrl_labels + stim_labels,\n",
    "    overwrite=True\n",
    ")"
   ]
  },
  {
   "cell_type": "markdown",
   "id": "99a5a900",
   "metadata": {},
   "source": [
    "As well as re-using annotations, we import the information about which cells where kept and which ones where filtered out."
   ]
  },
  {
   "cell_type": "code",
   "execution_count": 11,
   "id": "35c897de",
   "metadata": {},
   "outputs": [
    {
     "name": "stdout",
     "output_type": "stream",
     "text": [
      "time: 15 ms (started: 2021-09-04 13:29:04 +02:00)\n"
     ]
    }
   ],
   "source": [
    "ctrl_valid_cells = list(ds_ctrl.cells.fetch_all('I'))\n",
    "stim_valid_cells = list(ds_stim.cells.fetch_all('I'))\n",
    "\n",
    "ds.cells.update_key(\n",
    "    values=ctrl_valid_cells + stim_valid_cells,\n",
    "    key='I'\n",
    ")"
   ]
  },
  {
   "cell_type": "markdown",
   "id": "22592c1e",
   "metadata": {},
   "source": [
    "Now we can check the number of cells from each of the samples:"
   ]
  },
  {
   "cell_type": "code",
   "execution_count": 12,
   "id": "729b97f7",
   "metadata": {},
   "outputs": [
    {
     "data": {
      "text/plain": [
       "stim    10111\n",
       "ctrl     8487\n",
       "Name: sample_id, dtype: int64"
      ]
     },
     "execution_count": 12,
     "metadata": {},
     "output_type": "execute_result"
    },
    {
     "name": "stdout",
     "output_type": "stream",
     "text": [
      "time: 31 ms (started: 2021-09-04 13:29:04 +02:00)\n"
     ]
    }
   ],
   "source": [
    "ds.cells.to_pandas_dataframe(\n",
    "    ['sample_id'],\n",
    "    key='I'\n",
    ")['sample_id'].value_counts()"
   ]
  },
  {
   "cell_type": "markdown",
   "id": "a976b916",
   "metadata": {},
   "source": [
    "---\n",
    "### 3) Naive analysis of merged datasets\n",
    "\n",
    "By naive, we mean that we make no attempt to remove/account for the latent factors that might contribute to batch effect or treatment-specific effect.\n",
    "It is usually a good idea to perform a 'naive' pipeline to get an idea about the degree of batch effects."
   ]
  },
  {
   "cell_type": "markdown",
   "id": "20c84c18",
   "metadata": {},
   "source": [
    "We start with detecting the highly variable genes:"
   ]
  },
  {
   "cell_type": "code",
   "execution_count": 13,
   "id": "709784c1",
   "metadata": {},
   "outputs": [
    {
     "data": {
      "application/vnd.jupyter.widget-view+json": {
       "model_id": "e5413b850a274409a89dd5698e611967",
       "version_major": 2,
       "version_minor": 0
      },
      "text/plain": [
       "(RNA) Computing nCells:   0%|                                                                                 …"
      ]
     },
     "metadata": {},
     "output_type": "display_data"
    },
    {
     "data": {
      "application/vnd.jupyter.widget-view+json": {
       "model_id": "e95041b93d7f416bb85d5e1c7e89eb73",
       "version_major": 2,
       "version_minor": 0
      },
      "text/plain": [
       "(RNA) Computing normed_tot:   0%|                                                                             …"
      ]
     },
     "metadata": {},
     "output_type": "display_data"
    },
    {
     "data": {
      "application/vnd.jupyter.widget-view+json": {
       "model_id": "0df05effb4d14ba0afa9947a7c805526",
       "version_major": 2,
       "version_minor": 0
      },
      "text/plain": [
       "(RNA) Computing sigmas:   0%|                                                                                 …"
      ]
     },
     "metadata": {},
     "output_type": "display_data"
    },
    {
     "name": "stdout",
     "output_type": "stream",
     "text": [
      "\u001b[1mINFO\u001b[0m: 2000 genes marked as HVGs\n"
     ]
    },
    {
     "data": {
      "image/png": "[encoded data removed]",
      "text/plain": [
       "<Figure size 324x288 with 1 Axes>"
      ]
     },
     "metadata": {
      "needs_background": "light"
     },
     "output_type": "display_data"
    },
    {
     "name": "stdout",
     "output_type": "stream",
     "text": [
      "time: 15.8 s (started: 2021-09-04 13:29:04 +02:00)\n"
     ]
    }
   ],
   "source": [
    "ds.mark_hvgs(\n",
    "    min_cells=10,\n",
    "    top_n=2000,\n",
    "    min_mean=-3, \n",
    "    max_mean=2,\n",
    "    max_var=6\n",
    ")"
   ]
  },
  {
   "cell_type": "markdown",
   "id": "baaed71b",
   "metadata": {},
   "source": [
    "Next, we create a graph of cells in a standard way."
   ]
  },
  {
   "cell_type": "code",
   "execution_count": 14,
   "id": "b5b308c6",
   "metadata": {},
   "outputs": [
    {
     "data": {
      "application/vnd.jupyter.widget-view+json": {
       "model_id": "f0a4ea8e549e4092a3406592facd7114",
       "version_major": 2,
       "version_minor": 0
      },
      "text/plain": [
       "Normalizing with feature subset:   0%|                                                                        …"
      ]
     },
     "metadata": {},
     "output_type": "display_data"
    },
    {
     "data": {
      "application/vnd.jupyter.widget-view+json": {
       "model_id": "77db845896c1480bb73b006c18dc1dcc",
       "version_major": 2,
       "version_minor": 0
      },
      "text/plain": [
       "Writing data to normed__I__hvgs/data:   0%|                                                                   …"
      ]
     },
     "metadata": {},
     "output_type": "display_data"
    },
    {
     "data": {
      "application/vnd.jupyter.widget-view+json": {
       "model_id": "8fcf63c1d9444d96b9bf53ab9d040635",
       "version_major": 2,
       "version_minor": 0
      },
      "text/plain": [
       "Calculating mean of norm. data:   0%|                                                                         …"
      ]
     },
     "metadata": {},
     "output_type": "display_data"
    },
    {
     "data": {
      "application/vnd.jupyter.widget-view+json": {
       "model_id": "7739c60dd6b1439ba3bd7d95cd732318",
       "version_major": 2,
       "version_minor": 0
      },
      "text/plain": [
       "Calculating std. dev. of norm. data:   0%|                                                                    …"
      ]
     },
     "metadata": {},
     "output_type": "display_data"
    },
    {
     "data": {
      "application/vnd.jupyter.widget-view+json": {
       "model_id": "298891b6db1d49bfb1b96d15f24645bc",
       "version_major": 2,
       "version_minor": 0
      },
      "text/plain": [
       "Fitting PCA:   0%|                                                                                            …"
      ]
     },
     "metadata": {},
     "output_type": "display_data"
    },
    {
     "data": {
      "application/vnd.jupyter.widget-view+json": {
       "model_id": "55ae797fcc8045a397dafa1790f39ec2",
       "version_major": 2,
       "version_minor": 0
      },
      "text/plain": [
       "Fitting ANN:   0%|                                                                                            …"
      ]
     },
     "metadata": {},
     "output_type": "display_data"
    },
    {
     "data": {
      "application/vnd.jupyter.widget-view+json": {
       "model_id": "2f32c2d2cf654577ade3fca1e23a46f4",
       "version_major": 2,
       "version_minor": 0
      },
      "text/plain": [
       "Fitting kmeans:   0%|                                                                                         …"
      ]
     },
     "metadata": {},
     "output_type": "display_data"
    },
    {
     "data": {
      "application/vnd.jupyter.widget-view+json": {
       "model_id": "6aace4fa79434a48b3c67a4f8012ff31",
       "version_major": 2,
       "version_minor": 0
      },
      "text/plain": [
       "Estimating seed partitions:   0%|                                                                             …"
      ]
     },
     "metadata": {},
     "output_type": "display_data"
    },
    {
     "data": {
      "application/vnd.jupyter.widget-view+json": {
       "model_id": "d367ba7ced1b4301b6334ac7f47a4f99",
       "version_major": 2,
       "version_minor": 0
      },
      "text/plain": [
       "Saving KNN graph:   0%|                                                                                       …"
      ]
     },
     "metadata": {},
     "output_type": "display_data"
    },
    {
     "data": {
      "application/vnd.jupyter.widget-view+json": {
       "model_id": "8a7ffaace143499bafec77cb1a51ed59",
       "version_major": 2,
       "version_minor": 0
      },
      "text/plain": [
       "Smoothening KNN distances:   0%|                                                                              …"
      ]
     },
     "metadata": {},
     "output_type": "display_data"
    },
    {
     "name": "stdout",
     "output_type": "stream",
     "text": [
      "\u001b[1mINFO\u001b[0m: ANN recall: 99.77%\n",
      "time: 45.9 s (started: 2021-09-04 13:29:20 +02:00)\n"
     ]
    }
   ],
   "source": [
    "ds.make_graph(\n",
    "    feat_key='hvgs',\n",
    "    k=21, \n",
    "    dims=25,\n",
    "    n_centroids=100\n",
    ")"
   ]
  },
  {
   "cell_type": "markdown",
   "id": "16c8d4aa",
   "metadata": {},
   "source": [
    "Calculating UMAP embedding of cells:"
   ]
  },
  {
   "cell_type": "code",
   "execution_count": 15,
   "id": "adbdb5ee",
   "metadata": {},
   "outputs": [
    {
     "name": "stdout",
     "output_type": "stream",
     "text": [
      "\tcompleted  0  /  250 epochs\n",
      "\tcompleted  25  /  250 epochs\n",
      "\tcompleted  50  /  250 epochs\n",
      "\tcompleted  75  /  250 epochs\n",
      "\tcompleted  100  /  250 epochs\n",
      "\tcompleted  125  /  250 epochs\n",
      "\tcompleted  150  /  250 epochs\n",
      "\tcompleted  175  /  250 epochs\n",
      "\tcompleted  200  /  250 epochs\n",
      "\tcompleted  225  /  250 epochs\n",
      "time: 11.4 s (started: 2021-09-04 13:30:06 +02:00)\n"
     ]
    }
   ],
   "source": [
    "ds.run_umap(\n",
    "    n_epochs=250, \n",
    "    spread=5,\n",
    "    min_dist=1,\n",
    "    parallel=True\n",
    ")"
   ]
  },
  {
   "cell_type": "code",
   "execution_count": 16,
   "id": "6c557de4",
   "metadata": {},
   "outputs": [
    {
     "data": {
      "text/html": [
       "<div>\n",
       "<style scoped>\n",
       "    .dataframe tbody tr th:only-of-type {\n",
       "        vertical-align: middle;\n",
       "    }\n",
       "\n",
       "    .dataframe tbody tr th {\n",
       "        vertical-align: top;\n",
       "    }\n",
       "\n",
       "    .dataframe thead th {\n",
       "        text-align: right;\n",
       "    }\n",
       "</style>\n",
       "<table border=\"1\" class=\"dataframe\">\n",
       "  <thead>\n",
       "    <tr style=\"text-align: right;\">\n",
       "      <th></th>\n",
       "      <th>I</th>\n",
       "      <th>ids</th>\n",
       "      <th>names</th>\n",
       "      <th>RNA_UMAP1</th>\n",
       "      <th>RNA_UMAP2</th>\n",
       "      <th>RNA_nCounts</th>\n",
       "      <th>RNA_nFeatures</th>\n",
       "      <th>RNA_percentMito</th>\n",
       "      <th>RNA_percentRibo</th>\n",
       "      <th>imported_labels</th>\n",
       "      <th>orig_RNA_UMAP1</th>\n",
       "      <th>orig_RNA_UMAP2</th>\n",
       "      <th>orig_RNA_leiden_cluster</th>\n",
       "      <th>orig_RNA_nCounts</th>\n",
       "      <th>orig_RNA_nFeatures</th>\n",
       "      <th>orig_RNA_percentMito</th>\n",
       "      <th>orig_RNA_percentRibo</th>\n",
       "      <th>orig_cluster_labels</th>\n",
       "      <th>sample_id</th>\n",
       "    </tr>\n",
       "  </thead>\n",
       "  <tbody>\n",
       "    <tr>\n",
       "      <th>0</th>\n",
       "      <td>True</td>\n",
       "      <td>ctrl__AAACATACAATGCC-1</td>\n",
       "      <td>AAACATACAATGCC-1</td>\n",
       "      <td>0.365985</td>\n",
       "      <td>12.116079</td>\n",
       "      <td>2191.0</td>\n",
       "      <td>852.0</td>\n",
       "      <td>0.273848</td>\n",
       "      <td>32.131447</td>\n",
       "      <td>CD4 naive T</td>\n",
       "      <td>2.224133</td>\n",
       "      <td>-7.265071</td>\n",
       "      <td>2</td>\n",
       "      <td>2191.0</td>\n",
       "      <td>852.0</td>\n",
       "      <td>0.273848</td>\n",
       "      <td>32.131447</td>\n",
       "      <td>CD4 naive T</td>\n",
       "      <td>ctrl</td>\n",
       "    </tr>\n",
       "    <tr>\n",
       "      <th>1</th>\n",
       "      <td>True</td>\n",
       "      <td>ctrl__AAACATACATTTCC-1</td>\n",
       "      <td>AAACATACATTTCC-1</td>\n",
       "      <td>15.402155</td>\n",
       "      <td>-22.223019</td>\n",
       "      <td>3018.0</td>\n",
       "      <td>878.0</td>\n",
       "      <td>0.099404</td>\n",
       "      <td>15.440689</td>\n",
       "      <td>CD 14 Mono</td>\n",
       "      <td>-2.979369</td>\n",
       "      <td>14.908970</td>\n",
       "      <td>10</td>\n",
       "      <td>3018.0</td>\n",
       "      <td>878.0</td>\n",
       "      <td>0.099404</td>\n",
       "      <td>15.440689</td>\n",
       "      <td>CD 14 Mono</td>\n",
       "      <td>ctrl</td>\n",
       "    </tr>\n",
       "    <tr>\n",
       "      <th>2</th>\n",
       "      <td>True</td>\n",
       "      <td>ctrl__AAACATACCAGAAA-1</td>\n",
       "      <td>AAACATACCAGAAA-1</td>\n",
       "      <td>24.932833</td>\n",
       "      <td>-15.707145</td>\n",
       "      <td>2481.0</td>\n",
       "      <td>713.0</td>\n",
       "      <td>0.241838</td>\n",
       "      <td>4.957678</td>\n",
       "      <td>CD 14 Mono</td>\n",
       "      <td>4.714710</td>\n",
       "      <td>9.148883</td>\n",
       "      <td>4</td>\n",
       "      <td>2481.0</td>\n",
       "      <td>713.0</td>\n",
       "      <td>0.241838</td>\n",
       "      <td>4.957678</td>\n",
       "      <td>CD 14 Mono</td>\n",
       "      <td>ctrl</td>\n",
       "    </tr>\n",
       "    <tr>\n",
       "      <th>3</th>\n",
       "      <td>True</td>\n",
       "      <td>ctrl__AAACATACCAGCTA-1</td>\n",
       "      <td>AAACATACCAGCTA-1</td>\n",
       "      <td>21.465948</td>\n",
       "      <td>-17.935938</td>\n",
       "      <td>3157.0</td>\n",
       "      <td>950.0</td>\n",
       "      <td>0.031676</td>\n",
       "      <td>11.308204</td>\n",
       "      <td>CD 14 Mono</td>\n",
       "      <td>3.747393</td>\n",
       "      <td>13.955492</td>\n",
       "      <td>4</td>\n",
       "      <td>3157.0</td>\n",
       "      <td>950.0</td>\n",
       "      <td>0.031676</td>\n",
       "      <td>11.308204</td>\n",
       "      <td>CD 14 Mono</td>\n",
       "      <td>ctrl</td>\n",
       "    </tr>\n",
       "    <tr>\n",
       "      <th>4</th>\n",
       "      <td>False</td>\n",
       "      <td>ctrl__AAACATACCATGCA-1</td>\n",
       "      <td>AAACATACCATGCA-1</td>\n",
       "      <td>NaN</td>\n",
       "      <td>NaN</td>\n",
       "      <td>703.0</td>\n",
       "      <td>337.0</td>\n",
       "      <td>0.426743</td>\n",
       "      <td>10.953058</td>\n",
       "      <td>nan</td>\n",
       "      <td>NaN</td>\n",
       "      <td>NaN</td>\n",
       "      <td>-1</td>\n",
       "      <td>703.0</td>\n",
       "      <td>337.0</td>\n",
       "      <td>0.426743</td>\n",
       "      <td>10.953058</td>\n",
       "      <td>nan</td>\n",
       "      <td>ctrl</td>\n",
       "    </tr>\n",
       "  </tbody>\n",
       "</table>\n",
       "</div>"
      ],
      "text/plain": [
       "       I                     ids             names  RNA_UMAP1  RNA_UMAP2  \\\n",
       "0   True  ctrl__AAACATACAATGCC-1  AAACATACAATGCC-1   0.365985  12.116079   \n",
       "1   True  ctrl__AAACATACATTTCC-1  AAACATACATTTCC-1  15.402155 -22.223019   \n",
       "2   True  ctrl__AAACATACCAGAAA-1  AAACATACCAGAAA-1  24.932833 -15.707145   \n",
       "3   True  ctrl__AAACATACCAGCTA-1  AAACATACCAGCTA-1  21.465948 -17.935938   \n",
       "4  False  ctrl__AAACATACCATGCA-1  AAACATACCATGCA-1        NaN        NaN   \n",
       "\n",
       "   RNA_nCounts  RNA_nFeatures  RNA_percentMito  RNA_percentRibo  \\\n",
       "0       2191.0          852.0         0.273848        32.131447   \n",
       "1       3018.0          878.0         0.099404        15.440689   \n",
       "2       2481.0          713.0         0.241838         4.957678   \n",
       "3       3157.0          950.0         0.031676        11.308204   \n",
       "4        703.0          337.0         0.426743        10.953058   \n",
       "\n",
       "  imported_labels  orig_RNA_UMAP1  orig_RNA_UMAP2  orig_RNA_leiden_cluster  \\\n",
       "0     CD4 naive T        2.224133       -7.265071                        2   \n",
       "1      CD 14 Mono       -2.979369       14.908970                       10   \n",
       "2      CD 14 Mono        4.714710        9.148883                        4   \n",
       "3      CD 14 Mono        3.747393       13.955492                        4   \n",
       "4             nan             NaN             NaN                       -1   \n",
       "\n",
       "   orig_RNA_nCounts  orig_RNA_nFeatures  orig_RNA_percentMito  \\\n",
       "0            2191.0               852.0              0.273848   \n",
       "1            3018.0               878.0              0.099404   \n",
       "2            2481.0               713.0              0.241838   \n",
       "3            3157.0               950.0              0.031676   \n",
       "4             703.0               337.0              0.426743   \n",
       "\n",
       "   orig_RNA_percentRibo orig_cluster_labels sample_id  \n",
       "0             32.131447         CD4 naive T      ctrl  \n",
       "1             15.440689          CD 14 Mono      ctrl  \n",
       "2              4.957678          CD 14 Mono      ctrl  \n",
       "3             11.308204          CD 14 Mono      ctrl  \n",
       "4             10.953058                 nan      ctrl  "
      ]
     },
     "execution_count": 16,
     "metadata": {},
     "output_type": "execute_result"
    },
    {
     "name": "stdout",
     "output_type": "stream",
     "text": [
      "time: 94 ms (started: 2021-09-04 13:30:17 +02:00)\n"
     ]
    }
   ],
   "source": [
    "ds.cells.head()"
   ]
  },
  {
   "cell_type": "markdown",
   "id": "e257f637",
   "metadata": {},
   "source": [
    "Visualization of cells from the two samples in the 2D UMAP space:"
   ]
  },
  {
   "cell_type": "code",
   "execution_count": 17,
   "id": "51157e00",
   "metadata": {},
   "outputs": [
    {
     "data": {
      "image/png": "[encoded data removed]",
      "text/plain": [
       "<Figure size 432x432 with 2 Axes>"
      ]
     },
     "metadata": {
      "needs_background": "light"
     },
     "output_type": "display_data"
    },
    {
     "name": "stdout",
     "output_type": "stream",
     "text": [
      "time: 438 ms (started: 2021-09-04 13:30:17 +02:00)\n"
     ]
    }
   ],
   "source": [
    "ds.plot_layout(\n",
    "    layout_key='RNA_UMAP',\n",
    "    color_by='sample_id',\n",
    "    cmap='RdBu', \n",
    "    legend_ondata=False\n",
    ")"
   ]
  },
  {
   "cell_type": "markdown",
   "id": "b9ed2525",
   "metadata": {},
   "source": [
    "Visualization of cluster labels in the 2D UMAP space:"
   ]
  },
  {
   "cell_type": "code",
   "execution_count": 18,
   "id": "c4d3b01a",
   "metadata": {},
   "outputs": [
    {
     "data": {
      "image/png": "[encoded data removed]",
      "text/plain": [
       "<Figure size 432x432 with 2 Axes>"
      ]
     },
     "metadata": {
      "needs_background": "light"
     },
     "output_type": "display_data"
    },
    {
     "name": "stdout",
     "output_type": "stream",
     "text": [
      "time: 625 ms (started: 2021-09-04 13:30:18 +02:00)\n"
     ]
    }
   ],
   "source": [
    "ds.plot_layout(\n",
    "    layout_key='RNA_UMAP', \n",
    "    color_by='imported_labels',\n",
    "    legend_ondata=False\n",
    ")"
   ]
  },
  {
   "cell_type": "markdown",
   "id": "7e0d8ef2",
   "metadata": {},
   "source": [
    "---\n",
    "### 4) Partial PCA training to reduce batch effects\n",
    "\n",
    "The plots above clearly show that the cells from the two samples are distinct on the UMAP space and have not integrated. This clearly indicates a treatment-specific or simply a batch effect between the cells from the two samples. Another interesting pattern in the UMAP plot above is the 'mirror effect', i.e. the equivalent clusters from the two samples look like mirror images. This is often seen in the datasets where the heterogenity/cell population composition is not strongly affected by the treatment.\n",
    "\n",
    "We will now attempt to integrate the cells from the two samples so that we obtain same cell types that do not form separate clusters. One can do this by training the PCA on cells from only one of the samples. Training PCA on cells from only one of the samples will diminish the contribution of genes differentially expressed between the two samples."
   ]
  },
  {
   "cell_type": "markdown",
   "id": "3dd478fe",
   "metadata": {},
   "source": [
    "First, we need to create a boolean column in the cell attribute table. This column will indicate whether a cell belongs to one of the samples. Here we will create a new column `is_ctrl` and mark the values as True when a cell belongs to the `ctrl` sample."
   ]
  },
  {
   "cell_type": "code",
   "execution_count": 19,
   "id": "0d911c0d",
   "metadata": {},
   "outputs": [
    {
     "name": "stdout",
     "output_type": "stream",
     "text": [
      "time: 0 ns (started: 2021-09-04 13:30:18 +02:00)\n"
     ]
    }
   ],
   "source": [
    "ds.cells.insert(\n",
    "    column_name=f'is_ctrl',\n",
    "    values=(ds.cells.fetch_all('sample_id') == 'ctrl'),\n",
    "    overwrite=True\n",
    ")"
   ]
  },
  {
   "cell_type": "markdown",
   "id": "8790ffd0",
   "metadata": {},
   "source": [
    "The next step is to perform the partial PCA training. PCA is trained during the graph creation step. We will now use `pca_cell_key` parameter and set it to `is_ctrl` so that only 'ctrl' cells are used for PCA training."
   ]
  },
  {
   "cell_type": "code",
   "execution_count": 20,
   "id": "b4561575",
   "metadata": {},
   "outputs": [
    {
     "name": "stdout",
     "output_type": "stream",
     "text": [
      "\u001b[1mINFO\u001b[0m: Using existing normalized data with cell key I and feat key I__hvgs\n"
     ]
    },
    {
     "data": {
      "application/vnd.jupyter.widget-view+json": {
       "model_id": "7c27a607f44e46d2a4d4864e1bee7623",
       "version_major": 2,
       "version_minor": 0
      },
      "text/plain": [
       "Calculating mean of norm. data:   0%|                                                                         …"
      ]
     },
     "metadata": {},
     "output_type": "display_data"
    },
    {
     "data": {
      "application/vnd.jupyter.widget-view+json": {
       "model_id": "2c134e44da1d406c9c7327fefd8f9c1a",
       "version_major": 2,
       "version_minor": 0
      },
      "text/plain": [
       "Calculating std. dev. of norm. data:   0%|                                                                    …"
      ]
     },
     "metadata": {},
     "output_type": "display_data"
    },
    {
     "data": {
      "application/vnd.jupyter.widget-view+json": {
       "model_id": "899acf63184d4e4cbd7e2d941a6f7869",
       "version_major": 2,
       "version_minor": 0
      },
      "text/plain": [
       "Fitting PCA:   0%|                                                                                            …"
      ]
     },
     "metadata": {},
     "output_type": "display_data"
    },
    {
     "data": {
      "application/vnd.jupyter.widget-view+json": {
       "model_id": "650ec1349a684e5baba1db3b0b7ca4d9",
       "version_major": 2,
       "version_minor": 0
      },
      "text/plain": [
       "Fitting ANN:   0%|                                                                                            …"
      ]
     },
     "metadata": {},
     "output_type": "display_data"
    },
    {
     "data": {
      "application/vnd.jupyter.widget-view+json": {
       "model_id": "a851064bad6145469b419895d90e4d3a",
       "version_major": 2,
       "version_minor": 0
      },
      "text/plain": [
       "Fitting kmeans:   0%|                                                                                         …"
      ]
     },
     "metadata": {},
     "output_type": "display_data"
    },
    {
     "data": {
      "application/vnd.jupyter.widget-view+json": {
       "model_id": "49da28ce0c1d40f1a09e31f459c2e862",
       "version_major": 2,
       "version_minor": 0
      },
      "text/plain": [
       "Estimating seed partitions:   0%|                                                                             …"
      ]
     },
     "metadata": {},
     "output_type": "display_data"
    },
    {
     "data": {
      "application/vnd.jupyter.widget-view+json": {
       "model_id": "0c04ba5e6fbe4d209ccb4f8d3539914a",
       "version_major": 2,
       "version_minor": 0
      },
      "text/plain": [
       "Saving KNN graph:   0%|                                                                                       …"
      ]
     },
     "metadata": {},
     "output_type": "display_data"
    },
    {
     "data": {
      "application/vnd.jupyter.widget-view+json": {
       "model_id": "3be54556d78748eb904b97ffee876dd5",
       "version_major": 2,
       "version_minor": 0
      },
      "text/plain": [
       "Smoothening KNN distances:   0%|                                                                              …"
      ]
     },
     "metadata": {},
     "output_type": "display_data"
    },
    {
     "name": "stdout",
     "output_type": "stream",
     "text": [
      "\u001b[1mINFO\u001b[0m: ANN recall: 99.75%\n",
      "time: 24 s (started: 2021-09-04 13:30:18 +02:00)\n"
     ]
    }
   ],
   "source": [
    "ds.make_graph(\n",
    "    feat_key='hvgs',\n",
    "    k=21, \n",
    "    dims=25,\n",
    "    n_centroids=100,\n",
    "    pca_cell_key='is_ctrl'\n",
    ")"
   ]
  },
  {
   "cell_type": "markdown",
   "id": "ac1f34f2",
   "metadata": {},
   "source": [
    "We run UMAP as usual, but the UMAP embeddings are saved in a new cell attribute column so as to not overwrite the previous UMAP values. The new column will be called `RNA_pUMAP`; 'RNA' is automatically prepend because the assay name is `RNA`"
   ]
  },
  {
   "cell_type": "code",
   "execution_count": 21,
   "id": "882757f7",
   "metadata": {},
   "outputs": [
    {
     "name": "stdout",
     "output_type": "stream",
     "text": [
      "\tcompleted  0  /  250 epochs\n",
      "\tcompleted  25  /  250 epochs\n",
      "\tcompleted  50  /  250 epochs\n",
      "\tcompleted  75  /  250 epochs\n",
      "\tcompleted  100  /  250 epochs\n",
      "\tcompleted  125  /  250 epochs\n",
      "\tcompleted  150  /  250 epochs\n",
      "\tcompleted  175  /  250 epochs\n",
      "\tcompleted  200  /  250 epochs\n",
      "\tcompleted  225  /  250 epochs\n",
      "time: 12.1 s (started: 2021-09-04 13:30:42 +02:00)\n"
     ]
    }
   ],
   "source": [
    "ds.run_umap(\n",
    "    n_epochs=250, \n",
    "    spread=5,\n",
    "    min_dist=1,\n",
    "    parallel=True,\n",
    "    label='pUMAP'\n",
    ")"
   ]
  },
  {
   "cell_type": "markdown",
   "id": "1fe71234",
   "metadata": {},
   "source": [
    "Visualize the new UMAP"
   ]
  },
  {
   "cell_type": "code",
   "execution_count": 22,
   "id": "8d86738d",
   "metadata": {},
   "outputs": [
    {
     "data": {
      "image/png": "[encoded data removed]",
      "text/plain": [
       "<Figure size 432x432 with 2 Axes>"
      ]
     },
     "metadata": {
      "needs_background": "light"
     },
     "output_type": "display_data"
    },
    {
     "name": "stdout",
     "output_type": "stream",
     "text": [
      "time: 485 ms (started: 2021-09-04 13:30:55 +02:00)\n"
     ]
    }
   ],
   "source": [
    "ds.plot_layout(\n",
    "    layout_key='RNA_pUMAP',\n",
    "    color_by='sample_id',\n",
    "    cmap='RdBu',\n",
    "    legend_ondata=False\n",
    ")"
   ]
  },
  {
   "cell_type": "markdown",
   "id": "b0e6d03f",
   "metadata": {},
   "source": [
    "Visualization of cluster labels in the new UMAP space shows that the cells from the same cell-type do not split into separate clusters like they did before."
   ]
  },
  {
   "cell_type": "code",
   "execution_count": 23,
   "id": "20060a17",
   "metadata": {},
   "outputs": [
    {
     "data": {
      "image/png": "[encoded data removed]",
      "text/plain": [
       "<Figure size 432x432 with 2 Axes>"
      ]
     },
     "metadata": {
      "needs_background": "light"
     },
     "output_type": "display_data"
    },
    {
     "name": "stdout",
     "output_type": "stream",
     "text": [
      "time: 672 ms (started: 2021-09-04 13:30:55 +02:00)\n"
     ]
    }
   ],
   "source": [
    "ds.plot_layout(\n",
    "    layout_key='RNA_pUMAP',\n",
    "    color_by='imported_labels',\n",
    "    legend_ondata=False\n",
    ")"
   ]
  },
  {
   "cell_type": "markdown",
   "id": "f7785f54",
   "metadata": {},
   "source": [
    "---\n",
    "That is all for this vignette."
   ]
  }
 ],
 "metadata": {
  "jupytext": {
   "text_representation": {
    "extension": ".md",
    "format_name": "markdown",
    "format_version": "1.3",
    "jupytext_version": "1.11.3"
   }
  },
  "kernelspec": {
   "display_name": "Python 3 (ipykernel)",
   "language": "python",
   "name": "python3"
  },
  "language_info": {
   "codemirror_mode": {
    "name": "ipython",
    "version": 3
   },
   "file_extension": ".py",
   "mimetype": "text/x-python",
   "name": "python",
   "nbconvert_exporter": "python",
   "pygments_lexer": "ipython3",
   "version": "3.9.12"
  },
  "widgets": {
   "application/vnd.jupyter.widget-state+json": {
    "state": {
     "0132d170608a476d9f4ee0e06afac012": {
      "model_module": "@jupyter-widgets/controls",
      "model_module_version": "1.5.0",
      "model_name": "DescriptionStyleModel",
      "state": {
       "description_width": ""
      }
     },
     "01d6dfcd205e432d8e484dcfc5207aad": {
      "model_module": "@jupyter-widgets/controls",
      "model_module_version": "1.5.0",
      "model_name": "DescriptionStyleModel",
      "state": {
       "description_width": ""
      }
     },
     "0365d32a44064ed49e908e700fa3f93d": {
      "model_module": "@jupyter-widgets/controls",
      "model_module_version": "1.5.0",
      "model_name": "HTMLModel",
      "state": {
       "layout": "IPY_MODEL_f9a72a11037f43bf9d09cb3450e0f86d",
       "style": "IPY_MODEL_8fcd53728176465883703337feb96dd4",
       "value": "(RNA) Computing normed_tot: 100%| "
      }
     },
     "04913443219e469196b1eda98702d5ba": {
      "model_module": "@jupyter-widgets/controls",
      "model_module_version": "1.5.0",
      "model_name": "HBoxModel",
      "state": {
       "children": [
        "IPY_MODEL_a7f9e15c77424a82a4c39261f3ee7139",
        "IPY_MODEL_706a3593714f4a058a300b8be1509f3c",
        "IPY_MODEL_8fe53c2bd31648e6aa697eb92bc20b73"
       ],
       "layout": "IPY_MODEL_284a951fd1784d6887fbff3d42dbd478"
      }
     },
     "04e29eb98e5b42e983a1747dbf9912df": {
      "model_module": "@jupyter-widgets/controls",
      "model_module_version": "1.5.0",
      "model_name": "DescriptionStyleModel",
      "state": {
       "description_width": ""
      }
     },
     "0550b6f81f4a4d079295c143b31ef270": {
      "model_module": "@jupyter-widgets/base",
      "model_module_version": "1.2.0",
      "model_name": "LayoutModel",
      "state": {}
     },
     "056f46cf4a65454996accec24acc9bde": {
      "model_module": "@jupyter-widgets/base",
      "model_module_version": "1.2.0",
      "model_name": "LayoutModel",
      "state": {
       "flex": "2"
      }
     },
     "0591f77e479942e69532e4d97156538b": {
      "model_module": "@jupyter-widgets/controls",
      "model_module_version": "1.5.0",
      "model_name": "HTMLModel",
      "state": {
       "layout": "IPY_MODEL_784a4adbc4304c9592d7f1dd74304db4",
       "style": "IPY_MODEL_3d50353d1eba4cf7a7cafd85e38419a4",
       "value": " 8/8 [00:19]"
      }
     },
     "05b96c78790d4720a99cd06fee015e40": {
      "model_module": "@jupyter-widgets/controls",
      "model_module_version": "1.5.0",
      "model_name": "DescriptionStyleModel",
      "state": {
       "description_width": ""
      }
     },
     "06b0eb4d75d0446e850321f15068ea12": {
      "model_module": "@jupyter-widgets/base",
      "model_module_version": "1.2.0",
      "model_name": "LayoutModel",
      "state": {
       "flex": "2"
      }
     },
     "06c623f6b0334d81a0299e3ca750566d": {
      "model_module": "@jupyter-widgets/controls",
      "model_module_version": "1.5.0",
      "model_name": "DescriptionStyleModel",
      "state": {
       "description_width": ""
      }
     },
     "07f623bac36b420ca76c6074900d9e16": {
      "model_module": "@jupyter-widgets/base",
      "model_module_version": "1.2.0",
      "model_name": "LayoutModel",
      "state": {}
     },
     "0971ae7bdfce427d96b4271d867f1dcb": {
      "model_module": "@jupyter-widgets/base",
      "model_module_version": "1.2.0",
      "model_name": "LayoutModel",
      "state": {
       "display": "inline-flex",
       "flex_flow": "row wrap",
       "width": "500px"
      }
     },
     "0ade0b97c7244b8ab8fd63fa41dc2b8f": {
      "model_module": "@jupyter-widgets/controls",
      "model_module_version": "1.5.0",
      "model_name": "DescriptionStyleModel",
      "state": {
       "description_width": ""
      }
     },
     "0c52c1d23b564899b20aae54575e951b": {
      "model_module": "@jupyter-widgets/base",
      "model_module_version": "1.2.0",
      "model_name": "LayoutModel",
      "state": {
       "display": "inline-flex",
       "flex_flow": "row wrap",
       "width": "500px"
      }
     },
     "0d49aaa073994c30bccecbda12d68e45": {
      "model_module": "@jupyter-widgets/controls",
      "model_module_version": "1.5.0",
      "model_name": "ProgressStyleModel",
      "state": {
       "bar_color": "#34abeb",
       "description_width": ""
      }
     },
     "0d8f60008227435d897912d194bade7f": {
      "model_module": "@jupyter-widgets/controls",
      "model_module_version": "1.5.0",
      "model_name": "FloatProgressModel",
      "state": {
       "bar_style": "success",
       "layout": "IPY_MODEL_37c7435137d442019353cba878fc1dc9",
       "max": 2460,
       "style": "IPY_MODEL_a3fcd4b6b6ee41b094e020031d54edea",
       "value": 2460
      }
     },
     "0d97bfc695914d7a9fc66c3569ceb7e8": {
      "model_module": "@jupyter-widgets/controls",
      "model_module_version": "1.5.0",
      "model_name": "DescriptionStyleModel",
      "state": {
       "description_width": ""
      }
     },
     "0e0fe99ba0f5462d8bf2894a733629be": {
      "model_module": "@jupyter-widgets/base",
      "model_module_version": "1.2.0",
      "model_name": "LayoutModel",
      "state": {}
     },
     "0fae7158f8d94994b1c319acf372b24a": {
      "model_module": "@jupyter-widgets/controls",
      "model_module_version": "1.5.0",
      "model_name": "DescriptionStyleModel",
      "state": {
       "description_width": ""
      }
     },
     "11e330b7c4c04fd78a72a4967ef687a0": {
      "model_module": "@jupyter-widgets/controls",
      "model_module_version": "1.5.0",
      "model_name": "FloatProgressModel",
      "state": {
       "bar_style": "success",
       "layout": "IPY_MODEL_66886c73a20143a894899cfcfe9ac8e6",
       "max": 2520,
       "style": "IPY_MODEL_e0de7e03cd134f728b35cb94ca785b40",
       "value": 2520
      }
     },
     "11fb8f158241405590effab2e07aed6e": {
      "model_module": "@jupyter-widgets/base",
      "model_module_version": "1.2.0",
      "model_name": "LayoutModel",
      "state": {
       "flex": "2"
      }
     },
     "14f1cc7f13144024b6875c2b46fb8e8a": {
      "model_module": "@jupyter-widgets/base",
      "model_module_version": "1.2.0",
      "model_name": "LayoutModel",
      "state": {
       "flex": "2"
      }
     },
     "15dd3514d4f145dcb44dcd8da6abb72e": {
      "model_module": "@jupyter-widgets/controls",
      "model_module_version": "1.5.0",
      "model_name": "DescriptionStyleModel",
      "state": {
       "description_width": ""
      }
     },
     "1606af8464a6471083b4bedf1f43f5c4": {
      "model_module": "@jupyter-widgets/base",
      "model_module_version": "1.2.0",
      "model_name": "LayoutModel",
      "state": {
       "flex": "2"
      }
     },
     "183733502b1b427280c279977830a272": {
      "model_module": "@jupyter-widgets/controls",
      "model_module_version": "1.5.0",
      "model_name": "HBoxModel",
      "state": {
       "children": [
        "IPY_MODEL_8b783e979f484341a9775c994e86e172",
        "IPY_MODEL_f421442c693845e4aae7bdf8799c89a9",
        "IPY_MODEL_aae2aca43e5741089772ebef87710eea"
       ],
       "layout": "IPY_MODEL_9fa52745bf38469788734a67b2290948"
      }
     },
     "18deb6bbf999400e820f4e3559db1bf6": {
      "model_module": "@jupyter-widgets/controls",
      "model_module_version": "1.5.0",
      "model_name": "HBoxModel",
      "state": {
       "children": [
        "IPY_MODEL_e9308549018e4eab87e6ed9c94f88fd6",
        "IPY_MODEL_5d262ddddae24f3fb6b316e5a8577674",
        "IPY_MODEL_801a0a0398294b93a4475a9e1c866ebd"
       ],
       "layout": "IPY_MODEL_0971ae7bdfce427d96b4271d867f1dcb"
      }
     },
     "19876885317f416db36c7e1a36c0195e": {
      "model_module": "@jupyter-widgets/controls",
      "model_module_version": "1.5.0",
      "model_name": "DescriptionStyleModel",
      "state": {
       "description_width": ""
      }
     },
     "19a0b57a097c42e7a77c095bfeb30116": {
      "model_module": "@jupyter-widgets/controls",
      "model_module_version": "1.5.0",
      "model_name": "HTMLModel",
      "state": {
       "layout": "IPY_MODEL_5be36f7c2668400c935c284abe27ed86",
       "style": "IPY_MODEL_4c92f668f3104fd7b21b40d6319b3057",
       "value": " 19/19 [00:01]"
      }
     },
     "19e4071bf49e4464b1deacb7c98eff2e": {
      "model_module": "@jupyter-widgets/controls",
      "model_module_version": "1.5.0",
      "model_name": "FloatProgressModel",
      "state": {
       "bar_style": "success",
       "layout": "IPY_MODEL_14f1cc7f13144024b6875c2b46fb8e8a",
       "max": 19,
       "style": "IPY_MODEL_c7806dc27a724d9b95cf42aca64350bf",
       "value": 19
      }
     },
     "1a2ae97f045a457f91b7f4f17c5ab1ea": {
      "model_module": "@jupyter-widgets/controls",
      "model_module_version": "1.5.0",
      "model_name": "HTMLModel",
      "state": {
       "layout": "IPY_MODEL_6798a0112549460b9d7d002895d6bd38",
       "style": "IPY_MODEL_63815eb0fcb542b39808baaecf72e114",
       "value": "Fitting PCA: 100%| "
      }
     },
     "1a2e3e7ca39149e599043a4e7a5cae46": {
      "model_module": "@jupyter-widgets/controls",
      "model_module_version": "1.5.0",
      "model_name": "DescriptionStyleModel",
      "state": {
       "description_width": ""
      }
     },
     "1aee3907eb2f47418cd493fdecc103e1": {
      "model_module": "@jupyter-widgets/controls",
      "model_module_version": "1.5.0",
      "model_name": "DescriptionStyleModel",
      "state": {
       "description_width": ""
      }
     },
     "1bd75ec955244c9cb42013f7fc491c6d": {
      "model_module": "@jupyter-widgets/controls",
      "model_module_version": "1.5.0",
      "model_name": "ProgressStyleModel",
      "state": {
       "bar_color": "#34abeb",
       "description_width": ""
      }
     },
     "1c81daad6461498eb5c9c5ba7b10f416": {
      "model_module": "@jupyter-widgets/controls",
      "model_module_version": "1.5.0",
      "model_name": "HTMLModel",
      "state": {
       "layout": "IPY_MODEL_8fc32a5d35f946f78e519bc2c935d4ea",
       "style": "IPY_MODEL_204e958e0f0d4993b77da0a0bdf4891b",
       "value": " 19/19 [00:01]"
      }
     },
     "1c9cb413f38944879e8c3f9c1bab0db5": {
      "model_module": "@jupyter-widgets/controls",
      "model_module_version": "1.5.0",
      "model_name": "HBoxModel",
      "state": {
       "children": [
        "IPY_MODEL_0365d32a44064ed49e908e700fa3f93d",
        "IPY_MODEL_5a76b32c49d748b4acdd9ccb1408a6b8",
        "IPY_MODEL_fbb8fe1be39643bca40ebb2db0ffdb35"
       ],
       "layout": "IPY_MODEL_8b76373ae0a14cd481e0645f1f1068af"
      }
     },
     "1e157a5a76844bc28ebe2c2506c0a1f6": {
      "model_module": "@jupyter-widgets/controls",
      "model_module_version": "1.5.0",
      "model_name": "DescriptionStyleModel",
      "state": {
       "description_width": ""
      }
     },
     "1e94fb3255d148d6b66fb0e35ab9e83f": {
      "model_module": "@jupyter-widgets/controls",
      "model_module_version": "1.5.0",
      "model_name": "HTMLModel",
      "state": {
       "layout": "IPY_MODEL_29552f45fd254a4ba74f925c50b2ab45",
       "style": "IPY_MODEL_f6277513a3b847b7aad52d392b245d2d",
       "value": "Fitting ANN: 100%| "
      }
     },
     "1f0d4a66d91d4879ab30300f4e0625db": {
      "model_module": "@jupyter-widgets/base",
      "model_module_version": "1.2.0",
      "model_name": "LayoutModel",
      "state": {}
     },
     "1f4c8668d4a042e8a0d3eebcee15e2fc": {
      "model_module": "@jupyter-widgets/controls",
      "model_module_version": "1.5.0",
      "model_name": "HTMLModel",
      "state": {
       "layout": "IPY_MODEL_a256b28559284431a78bc38edb066848",
       "style": "IPY_MODEL_ce654031377e453b818c8ad667242484",
       "value": " 19/19 [00:01]"
      }
     },
     "20238ae1ba4947cba25343023a5cf09d": {
      "model_module": "@jupyter-widgets/base",
      "model_module_version": "1.2.0",
      "model_name": "LayoutModel",
      "state": {}
     },
     "204e958e0f0d4993b77da0a0bdf4891b": {
      "model_module": "@jupyter-widgets/controls",
      "model_module_version": "1.5.0",
      "model_name": "DescriptionStyleModel",
      "state": {
       "description_width": ""
      }
     },
     "21d52cbc0fb4404c9e1b9e6438ba3510": {
      "model_module": "@jupyter-widgets/controls",
      "model_module_version": "1.5.0",
      "model_name": "ProgressStyleModel",
      "state": {
       "bar_color": "#34abeb",
       "description_width": ""
      }
     },
     "232afb4747d44a019f3cb09e1927bee3": {
      "model_module": "@jupyter-widgets/controls",
      "model_module_version": "1.5.0",
      "model_name": "ProgressStyleModel",
      "state": {
       "bar_color": "#34abeb",
       "description_width": ""
      }
     },
     "24681fb9fe294417a97163c6e6c1ac21": {
      "model_module": "@jupyter-widgets/controls",
      "model_module_version": "1.5.0",
      "model_name": "HBoxModel",
      "state": {
       "children": [
        "IPY_MODEL_b3411fefb5d641bebac395bd33a61903",
        "IPY_MODEL_a7f79e415a4e4711b74ae2dc87d1a679",
        "IPY_MODEL_1f4c8668d4a042e8a0d3eebcee15e2fc"
       ],
       "layout": "IPY_MODEL_803a62c042e74903aa748651c08a2e30"
      }
     },
     "24fcd55cbdf7452dbe7967ebb832b834": {
      "model_module": "@jupyter-widgets/base",
      "model_module_version": "1.2.0",
      "model_name": "LayoutModel",
      "state": {}
     },
     "27add32d886443e181d595b667816199": {
      "model_module": "@jupyter-widgets/controls",
      "model_module_version": "1.5.0",
      "model_name": "ProgressStyleModel",
      "state": {
       "bar_color": "#34abeb",
       "description_width": ""
      }
     },
     "284a951fd1784d6887fbff3d42dbd478": {
      "model_module": "@jupyter-widgets/base",
      "model_module_version": "1.2.0",
      "model_name": "LayoutModel",
      "state": {
       "display": "inline-flex",
       "flex_flow": "row wrap",
       "width": "500px"
      }
     },
     "29075a78b84a4935a554549073d1ebd1": {
      "model_module": "@jupyter-widgets/controls",
      "model_module_version": "1.5.0",
      "model_name": "HTMLModel",
      "state": {
       "layout": "IPY_MODEL_bc5ad04f6adf43d6a411335d9e84cdda",
       "style": "IPY_MODEL_0132d170608a476d9f4ee0e06afac012",
       "value": " 19/19 [00:11]"
      }
     },
     "29552f45fd254a4ba74f925c50b2ab45": {
      "model_module": "@jupyter-widgets/base",
      "model_module_version": "1.2.0",
      "model_name": "LayoutModel",
      "state": {}
     },
     "29faeacc01db438aaf94938224f26cdd": {
      "model_module": "@jupyter-widgets/controls",
      "model_module_version": "1.5.0",
      "model_name": "HBoxModel",
      "state": {
       "children": [
        "IPY_MODEL_6fb661ff7bbe4f399f91dc37e239e141",
        "IPY_MODEL_f2e01331adf24e16b27544eb1e764c84",
        "IPY_MODEL_93e3743bf5ef4f0d9a66aaa2610d4017"
       ],
       "layout": "IPY_MODEL_5ffa99544751432a90d44969c63e0faf"
      }
     },
     "2a45e70c540042f89fbf61c0daaa87a1": {
      "model_module": "@jupyter-widgets/base",
      "model_module_version": "1.2.0",
      "model_name": "LayoutModel",
      "state": {
       "display": "inline-flex",
       "flex_flow": "row wrap",
       "width": "500px"
      }
     },
     "2a7a0240826f493cb1920284465c21db": {
      "model_module": "@jupyter-widgets/base",
      "model_module_version": "1.2.0",
      "model_name": "LayoutModel",
      "state": {
       "display": "inline-flex",
       "flex_flow": "row wrap",
       "width": "500px"
      }
     },
     "2b73a79818784fdaab198ed289989b9e": {
      "model_module": "@jupyter-widgets/controls",
      "model_module_version": "1.5.0",
      "model_name": "DescriptionStyleModel",
      "state": {
       "description_width": ""
      }
     },
     "2bd6fc5b74094210a7298e9bfc921f95": {
      "model_module": "@jupyter-widgets/base",
      "model_module_version": "1.2.0",
      "model_name": "LayoutModel",
      "state": {
       "display": "inline-flex",
       "flex_flow": "row wrap",
       "width": "500px"
      }
     },
     "2e1424d97f1a41578cad29e5462c95ce": {
      "model_module": "@jupyter-widgets/controls",
      "model_module_version": "1.5.0",
      "model_name": "DescriptionStyleModel",
      "state": {
       "description_width": ""
      }
     },
     "301041ecb76a4116855738103998d6f8": {
      "model_module": "@jupyter-widgets/controls",
      "model_module_version": "1.5.0",
      "model_name": "HTMLModel",
      "state": {
       "layout": "IPY_MODEL_b89d9e270add42e39fcc71da865798ea",
       "style": "IPY_MODEL_745fb56aa44f4836801ca69b7fc9da7a",
       "value": " 2520/2520 [00:02]"
      }
     },
     "313b416ae8f4456a98a6f44b944c6484": {
      "model_module": "@jupyter-widgets/controls",
      "model_module_version": "1.5.0",
      "model_name": "DescriptionStyleModel",
      "state": {
       "description_width": ""
      }
     },
     "31772d6fb1204420b21f09f4f9d30a70": {
      "model_module": "@jupyter-widgets/base",
      "model_module_version": "1.2.0",
      "model_name": "LayoutModel",
      "state": {
       "display": "inline-flex",
       "flex_flow": "row wrap",
       "width": "500px"
      }
     },
     "3188d4777c22478596a3c900e75a6b00": {
      "model_module": "@jupyter-widgets/controls",
      "model_module_version": "1.5.0",
      "model_name": "DescriptionStyleModel",
      "state": {
       "description_width": ""
      }
     },
     "31aaa4914c594398a5de8974350ed70f": {
      "model_module": "@jupyter-widgets/controls",
      "model_module_version": "1.5.0",
      "model_name": "DescriptionStyleModel",
      "state": {
       "description_width": ""
      }
     },
     "330875c44f584e358515d45e4d4b26af": {
      "model_module": "@jupyter-widgets/controls",
      "model_module_version": "1.5.0",
      "model_name": "HBoxModel",
      "state": {
       "children": [
        "IPY_MODEL_42274984bf7a42df97ce656d7057bfc9",
        "IPY_MODEL_c702598c266540b4a2bae76e991eac19",
        "IPY_MODEL_4db4d606d8984552adc798750150c5e1"
       ],
       "layout": "IPY_MODEL_0c52c1d23b564899b20aae54575e951b"
      }
     },
     "34774bf4bab942b58f0bfdc4598347c1": {
      "model_module": "@jupyter-widgets/controls",
      "model_module_version": "1.5.0",
      "model_name": "DescriptionStyleModel",
      "state": {
       "description_width": ""
      }
     },
     "34940b78ec614819b91370e519226cc2": {
      "model_module": "@jupyter-widgets/base",
      "model_module_version": "1.2.0",
      "model_name": "LayoutModel",
      "state": {}
     },
     "34bb6ed3d346405fa2bfebcabac560ba": {
      "model_module": "@jupyter-widgets/controls",
      "model_module_version": "1.5.0",
      "model_name": "HTMLModel",
      "state": {
       "layout": "IPY_MODEL_8cf2966205c4485f924dbc4bf5d09515",
       "style": "IPY_MODEL_f1e2ae60d6a642f6a4f7cb0ec850bf1f",
       "value": "(RNA) Computing nCells and dropOuts: 100%| "
      }
     },
     "35229e8e06d8459681aeed60770aa4b5": {
      "model_module": "@jupyter-widgets/controls",
      "model_module_version": "1.5.0",
      "model_name": "DescriptionStyleModel",
      "state": {
       "description_width": ""
      }
     },
     "365dfd44c5c6468383b87b72186204a0": {
      "model_module": "@jupyter-widgets/base",
      "model_module_version": "1.2.0",
      "model_name": "LayoutModel",
      "state": {}
     },
     "37c7435137d442019353cba878fc1dc9": {
      "model_module": "@jupyter-widgets/base",
      "model_module_version": "1.2.0",
      "model_name": "LayoutModel",
      "state": {
       "flex": "2"
      }
     },
     "37dbd9ab89d846a69a8edefefb0d002b": {
      "model_module": "@jupyter-widgets/controls",
      "model_module_version": "1.5.0",
      "model_name": "DescriptionStyleModel",
      "state": {
       "description_width": ""
      }
     },
     "38edc0edf14c43e98faccc8d64156544": {
      "model_module": "@jupyter-widgets/base",
      "model_module_version": "1.2.0",
      "model_name": "LayoutModel",
      "state": {
       "display": "inline-flex",
       "flex_flow": "row wrap",
       "width": "500px"
      }
     },
     "39bfcbde0174404b9c297639ae045cda": {
      "model_module": "@jupyter-widgets/controls",
      "model_module_version": "1.5.0",
      "model_name": "HTMLModel",
      "state": {
       "layout": "IPY_MODEL_0e0fe99ba0f5462d8bf2894a733629be",
       "style": "IPY_MODEL_61102ca48f8f4152a502a2730efe675e",
       "value": "Saving KNN graph: 100%| "
      }
     },
     "3a4964f330fc4cd28d8cd333d292bbc2": {
      "model_module": "@jupyter-widgets/controls",
      "model_module_version": "1.5.0",
      "model_name": "FloatProgressModel",
      "state": {
       "bar_style": "success",
       "layout": "IPY_MODEL_9e15c36d9cd140c7824178f4d63c2691",
       "max": 19,
       "style": "IPY_MODEL_8f24d0b913724ffc9af24b793a872bc7",
       "value": 19
      }
     },
     "3ae0ea605f554fd7a9e7a823bc05eca5": {
      "model_module": "@jupyter-widgets/controls",
      "model_module_version": "1.5.0",
      "model_name": "HTMLModel",
      "state": {
       "layout": "IPY_MODEL_7d1edd81d8b64f0fb162c79e4f1f7383",
       "style": "IPY_MODEL_2b73a79818784fdaab198ed289989b9e",
       "value": "(RNA) Computing RNA_percentMito: 100%| "
      }
     },
     "3b6f0f606ec84f40b3e40180cad462a8": {
      "model_module": "@jupyter-widgets/controls",
      "model_module_version": "1.5.0",
      "model_name": "DescriptionStyleModel",
      "state": {
       "description_width": ""
      }
     },
     "3c398d16ecf444e78e9094cdd87d536d": {
      "model_module": "@jupyter-widgets/base",
      "model_module_version": "1.2.0",
      "model_name": "LayoutModel",
      "state": {
       "display": "inline-flex",
       "flex_flow": "row wrap",
       "width": "500px"
      }
     },
     "3c975d54aa2e4e1288474f638ad17bba": {
      "model_module": "@jupyter-widgets/controls",
      "model_module_version": "1.5.0",
      "model_name": "HTMLModel",
      "state": {
       "layout": "IPY_MODEL_4a3be5bcd5704ccf89a0d91409808afa",
       "style": "IPY_MODEL_9912a18acff24be39dd4597d80ba53c5",
       "value": " 2520/2520 [00:02]"
      }
     },
     "3d50353d1eba4cf7a7cafd85e38419a4": {
      "model_module": "@jupyter-widgets/controls",
      "model_module_version": "1.5.0",
      "model_name": "DescriptionStyleModel",
      "state": {
       "description_width": ""
      }
     },
     "3db120ba5ed944a9a45563932a84ed40": {
      "model_module": "@jupyter-widgets/base",
      "model_module_version": "1.2.0",
      "model_name": "LayoutModel",
      "state": {}
     },
     "3f0d36f1a55f41a69e61dc2114c6e6b8": {
      "model_module": "@jupyter-widgets/controls",
      "model_module_version": "1.5.0",
      "model_name": "HTMLModel",
      "state": {
       "layout": "IPY_MODEL_97ec456e00d449008c16bee95bf4b2ec",
       "style": "IPY_MODEL_5138183f60204920bdc354cde5f936cf",
       "value": "Fitting ANN: 100%| "
      }
     },
     "401918460819469a95cbeed54b32194a": {
      "model_module": "@jupyter-widgets/base",
      "model_module_version": "1.2.0",
      "model_name": "LayoutModel",
      "state": {
       "display": "inline-flex",
       "flex_flow": "row wrap",
       "width": "500px"
      }
     },
     "401c67b3118c4093b899748378d57ca3": {
      "model_module": "@jupyter-widgets/controls",
      "model_module_version": "1.5.0",
      "model_name": "ProgressStyleModel",
      "state": {
       "bar_color": "#34abeb",
       "description_width": ""
      }
     },
     "42274984bf7a42df97ce656d7057bfc9": {
      "model_module": "@jupyter-widgets/controls",
      "model_module_version": "1.5.0",
      "model_name": "HTMLModel",
      "state": {
       "layout": "IPY_MODEL_b8a7abd1930149b1ab44fe321181dc18",
       "style": "IPY_MODEL_19876885317f416db36c7e1a36c0195e",
       "value": "Smoothening KNN distances: 100%| "
      }
     },
     "4302a9d297b94b1ca86a88b415a2eae8": {
      "model_module": "@jupyter-widgets/controls",
      "model_module_version": "1.5.0",
      "model_name": "HBoxModel",
      "state": {
       "children": [
        "IPY_MODEL_a605be476caa4a34a11cdcfbc257d004",
        "IPY_MODEL_872356a9bd2f44b5855dc42da9a4f742",
        "IPY_MODEL_a21d4222ecb44283b042a2f3eeaf4577"
       ],
       "layout": "IPY_MODEL_97c97cad26494634861a42f252417c00"
      }
     },
     "4325eed570544b2a8b67646a184f88f8": {
      "model_module": "@jupyter-widgets/controls",
      "model_module_version": "1.5.0",
      "model_name": "HTMLModel",
      "state": {
       "layout": "IPY_MODEL_e092bb13e3a94e9b8fa752836dc18c60",
       "style": "IPY_MODEL_4ae20ac7fa424095b86379aac1c41569",
       "value": "(RNA) Computing RNA_percentRibo: 100%| "
      }
     },
     "43b3342e78004dfd916f6e1c20e7ca12": {
      "model_module": "@jupyter-widgets/base",
      "model_module_version": "1.2.0",
      "model_name": "LayoutModel",
      "state": {}
     },
     "4404d34b11fa4e7ab8e18a03d7a267fe": {
      "model_module": "@jupyter-widgets/base",
      "model_module_version": "1.2.0",
      "model_name": "LayoutModel",
      "state": {}
     },
     "44fa907ebdd8478c846259daffd17156": {
      "model_module": "@jupyter-widgets/controls",
      "model_module_version": "1.5.0",
      "model_name": "HTMLModel",
      "state": {
       "layout": "IPY_MODEL_1f0d4a66d91d4879ab30300f4e0625db",
       "style": "IPY_MODEL_bc1bc13389024f64a0f3395d309b808b",
       "value": "Writing data to normed__I__hvgs/data: 100%| "
      }
     },
     "45a162c159f947ec8faa416f5dd1736a": {
      "model_module": "@jupyter-widgets/controls",
      "model_module_version": "1.5.0",
      "model_name": "FloatProgressModel",
      "state": {
       "bar_style": "success",
       "layout": "IPY_MODEL_f89f7639d6c14004b371510f18961303",
       "max": 2190,
       "style": "IPY_MODEL_232afb4747d44a019f3cb09e1927bee3",
       "value": 2190
      }
     },
     "4724451dc19c496bae53a446f678ef0d": {
      "model_module": "@jupyter-widgets/controls",
      "model_module_version": "1.5.0",
      "model_name": "ProgressStyleModel",
      "state": {
       "bar_color": "#34abeb",
       "description_width": ""
      }
     },
     "474efdd7c3b84a85aba6d69dd7013c6c": {
      "model_module": "@jupyter-widgets/controls",
      "model_module_version": "1.5.0",
      "model_name": "FloatProgressModel",
      "state": {
       "bar_style": "success",
       "layout": "IPY_MODEL_4c5b9fe23848473babf38b9b33a43091",
       "max": 8,
       "style": "IPY_MODEL_73e09fc969fe4908bb5a49710d802f41",
       "value": 8
      }
     },
     "482b0efcdded4beeb994089baaeb5c56": {
      "model_module": "@jupyter-widgets/base",
      "model_module_version": "1.2.0",
      "model_name": "LayoutModel",
      "state": {}
     },
     "4a3be5bcd5704ccf89a0d91409808afa": {
      "model_module": "@jupyter-widgets/base",
      "model_module_version": "1.2.0",
      "model_name": "LayoutModel",
      "state": {}
     },
     "4ae20ac7fa424095b86379aac1c41569": {
      "model_module": "@jupyter-widgets/controls",
      "model_module_version": "1.5.0",
      "model_name": "DescriptionStyleModel",
      "state": {
       "description_width": ""
      }
     },
     "4b2b4e3f074645ddaac34ac8d705f516": {
      "model_module": "@jupyter-widgets/controls",
      "model_module_version": "1.5.0",
      "model_name": "FloatProgressModel",
      "state": {
       "bar_style": "success",
       "layout": "IPY_MODEL_7e4e12b753b04c9088bfb656eb807c3e",
       "max": 19,
       "style": "IPY_MODEL_d3c0591db6714f9aa20c7b18318c6648",
       "value": 19
      }
     },
     "4c1a1d1f5b6944838daaad0839af67b5": {
      "model_module": "@jupyter-widgets/controls",
      "model_module_version": "1.5.0",
      "model_name": "ProgressStyleModel",
      "state": {
       "bar_color": "#34abeb",
       "description_width": ""
      }
     },
     "4c5b9fe23848473babf38b9b33a43091": {
      "model_module": "@jupyter-widgets/base",
      "model_module_version": "1.2.0",
      "model_name": "LayoutModel",
      "state": {
       "flex": "2"
      }
     },
     "4c92f668f3104fd7b21b40d6319b3057": {
      "model_module": "@jupyter-widgets/controls",
      "model_module_version": "1.5.0",
      "model_name": "DescriptionStyleModel",
      "state": {
       "description_width": ""
      }
     },
     "4d3f38efb6ce42ca94954ceab78d19c1": {
      "model_module": "@jupyter-widgets/controls",
      "model_module_version": "1.5.0",
      "model_name": "HBoxModel",
      "state": {
       "children": [
        "IPY_MODEL_95aa0983d00746d2821ae2355a054bab",
        "IPY_MODEL_11e330b7c4c04fd78a72a4967ef687a0",
        "IPY_MODEL_3c975d54aa2e4e1288474f638ad17bba"
       ],
       "layout": "IPY_MODEL_2a7a0240826f493cb1920284465c21db"
      }
     },
     "4db4d606d8984552adc798750150c5e1": {
      "model_module": "@jupyter-widgets/controls",
      "model_module_version": "1.5.0",
      "model_name": "HTMLModel",
      "state": {
       "layout": "IPY_MODEL_941f50cd0bdb46fd8999bf2c9c6b3ce4",
       "style": "IPY_MODEL_37dbd9ab89d846a69a8edefefb0d002b",
       "value": " 19/19 [00:05]"
      }
     },
     "4e4513b15c424fa788b1af488431182f": {
      "model_module": "@jupyter-widgets/base",
      "model_module_version": "1.2.0",
      "model_name": "LayoutModel",
      "state": {
       "display": "inline-flex",
       "flex_flow": "row wrap",
       "width": "500px"
      }
     },
     "4e69bae5f52049fc8f23940415c1ec89": {
      "model_module": "@jupyter-widgets/controls",
      "model_module_version": "1.5.0",
      "model_name": "DescriptionStyleModel",
      "state": {
       "description_width": ""
      }
     },
     "4f4392e428334f8392c3516399a4713a": {
      "model_module": "@jupyter-widgets/controls",
      "model_module_version": "1.5.0",
      "model_name": "HTMLModel",
      "state": {
       "layout": "IPY_MODEL_d394a73e2af343e5946500013c7992dd",
       "style": "IPY_MODEL_8b138d24655248c2838fd08fbc22e468",
       "value": "Estimating seed partitions: 100%| "
      }
     },
     "50369e65501e4db8b57e38f88f02e131": {
      "model_module": "@jupyter-widgets/controls",
      "model_module_version": "1.5.0",
      "model_name": "FloatProgressModel",
      "state": {
       "bar_style": "success",
       "layout": "IPY_MODEL_06b0eb4d75d0446e850321f15068ea12",
       "max": 19,
       "style": "IPY_MODEL_e5e76696c2194e3da2d81b2edacdd0bf",
       "value": 19
      }
     },
     "5138183f60204920bdc354cde5f936cf": {
      "model_module": "@jupyter-widgets/controls",
      "model_module_version": "1.5.0",
      "model_name": "DescriptionStyleModel",
      "state": {
       "description_width": ""
      }
     },
     "516cf71f15b44b45bd8b2c9f9ac1e592": {
      "model_module": "@jupyter-widgets/controls",
      "model_module_version": "1.5.0",
      "model_name": "HBoxModel",
      "state": {
       "children": [
        "IPY_MODEL_34bb6ed3d346405fa2bfebcabac560ba",
        "IPY_MODEL_ee249d70edfc49dbb87d9ef9025c9949",
        "IPY_MODEL_660ff6ccf41641b7967676fb19aa2f81"
       ],
       "layout": "IPY_MODEL_c446b0e546264753befb824f4b0a3f89"
      }
     },
     "528e38316e6140b1a13fcecc2d4e893d": {
      "model_module": "@jupyter-widgets/controls",
      "model_module_version": "1.5.0",
      "model_name": "HBoxModel",
      "state": {
       "children": [
        "IPY_MODEL_44fa907ebdd8478c846259daffd17156",
        "IPY_MODEL_aedf5f0276204538baf96360caa141cc",
        "IPY_MODEL_dfa1c456fcbc468583e3599cf7e21f81"
       ],
       "layout": "IPY_MODEL_38edc0edf14c43e98faccc8d64156544"
      }
     },
     "5435b2f5ff4944fe800e95efc0ea3654": {
      "model_module": "@jupyter-widgets/controls",
      "model_module_version": "1.5.0",
      "model_name": "HTMLModel",
      "state": {
       "layout": "IPY_MODEL_3db120ba5ed944a9a45563932a84ed40",
       "style": "IPY_MODEL_8154649d4722406b87b662c5e48e64f6",
       "value": " 8/8 [00:20]"
      }
     },
     "5782236712d64407b096fdbaac82f6be": {
      "model_module": "@jupyter-widgets/base",
      "model_module_version": "1.2.0",
      "model_name": "LayoutModel",
      "state": {}
     },
     "5887521440394bdb852ca80653c47bc0": {
      "model_module": "@jupyter-widgets/base",
      "model_module_version": "1.2.0",
      "model_name": "LayoutModel",
      "state": {
       "flex": "2"
      }
     },
     "5a0b265452b645a098670528a31e6e8a": {
      "model_module": "@jupyter-widgets/base",
      "model_module_version": "1.2.0",
      "model_name": "LayoutModel",
      "state": {
       "display": "inline-flex",
       "flex_flow": "row wrap",
       "width": "500px"
      }
     },
     "5a3e48699d3d41f2b622746dbcc22714": {
      "model_module": "@jupyter-widgets/base",
      "model_module_version": "1.2.0",
      "model_name": "LayoutModel",
      "state": {
       "flex": "2"
      }
     },
     "5a76b32c49d748b4acdd9ccb1408a6b8": {
      "model_module": "@jupyter-widgets/controls",
      "model_module_version": "1.5.0",
      "model_name": "FloatProgressModel",
      "state": {
       "bar_style": "success",
       "layout": "IPY_MODEL_984a1118224c496a944320867df75057",
       "max": 3393,
       "style": "IPY_MODEL_0d49aaa073994c30bccecbda12d68e45",
       "value": 3393
      }
     },
     "5b66525dbb82462890fc6570d3dce16f": {
      "model_module": "@jupyter-widgets/controls",
      "model_module_version": "1.5.0",
      "model_name": "HBoxModel",
      "state": {
       "children": [
        "IPY_MODEL_6648a02818c24107b08dd0caef73293f",
        "IPY_MODEL_f951dddead794f0e803d8b99578b2364",
        "IPY_MODEL_0591f77e479942e69532e4d97156538b"
       ],
       "layout": "IPY_MODEL_e8aaba2124e745c1b926ba299832e22c"
      }
     },
     "5bdd1b8ff3244423946197669bd943ff": {
      "model_module": "@jupyter-widgets/controls",
      "model_module_version": "1.5.0",
      "model_name": "FloatProgressModel",
      "state": {
       "bar_style": "success",
       "layout": "IPY_MODEL_9ff84e3e28ec4df49d722823230f0192",
       "max": 7,
       "style": "IPY_MODEL_73627c2db85d4102b0c7ef98cc383b00",
       "value": 7
      }
     },
     "5be36f7c2668400c935c284abe27ed86": {
      "model_module": "@jupyter-widgets/base",
      "model_module_version": "1.2.0",
      "model_name": "LayoutModel",
      "state": {}
     },
     "5be58bcbe3a14b2db14228281e3383c6": {
      "model_module": "@jupyter-widgets/controls",
      "model_module_version": "1.5.0",
      "model_name": "DescriptionStyleModel",
      "state": {
       "description_width": ""
      }
     },
     "5cbbb5a7e035435ca898e9f886cd2b88": {
      "model_module": "@jupyter-widgets/base",
      "model_module_version": "1.2.0",
      "model_name": "LayoutModel",
      "state": {
       "flex": "2"
      }
     },
     "5d262ddddae24f3fb6b316e5a8577674": {
      "model_module": "@jupyter-widgets/controls",
      "model_module_version": "1.5.0",
      "model_name": "FloatProgressModel",
      "state": {
       "bar_style": "success",
       "layout": "IPY_MODEL_5cbbb5a7e035435ca898e9f886cd2b88",
       "max": 90,
       "style": "IPY_MODEL_ecadce7e39844d9d8b0c7e391ed1a033",
       "value": 90
      }
     },
     "5e3abd96125f4cab8c33cd2fc69dc4c3": {
      "model_module": "@jupyter-widgets/controls",
      "model_module_version": "1.5.0",
      "model_name": "ProgressStyleModel",
      "state": {
       "bar_color": "#34abeb",
       "description_width": ""
      }
     },
     "5ed71fbe42504f609f66f3f561c26b83": {
      "model_module": "@jupyter-widgets/base",
      "model_module_version": "1.2.0",
      "model_name": "LayoutModel",
      "state": {
       "flex": "2"
      }
     },
     "5ffa99544751432a90d44969c63e0faf": {
      "model_module": "@jupyter-widgets/base",
      "model_module_version": "1.2.0",
      "model_name": "LayoutModel",
      "state": {
       "display": "inline-flex",
       "flex_flow": "row wrap",
       "width": "500px"
      }
     },
     "60a9e77716854fa584fc497b54141985": {
      "model_module": "@jupyter-widgets/base",
      "model_module_version": "1.2.0",
      "model_name": "LayoutModel",
      "state": {
       "display": "inline-flex",
       "flex_flow": "row wrap",
       "width": "500px"
      }
     },
     "60ac4845ff5c4009a02edb2e69c0132d": {
      "model_module": "@jupyter-widgets/base",
      "model_module_version": "1.2.0",
      "model_name": "LayoutModel",
      "state": {}
     },
     "60c124813aab44748dc3ce68ccb19eda": {
      "model_module": "@jupyter-widgets/base",
      "model_module_version": "1.2.0",
      "model_name": "LayoutModel",
      "state": {
       "display": "inline-flex",
       "flex_flow": "row wrap",
       "width": "500px"
      }
     },
     "61102ca48f8f4152a502a2730efe675e": {
      "model_module": "@jupyter-widgets/controls",
      "model_module_version": "1.5.0",
      "model_name": "DescriptionStyleModel",
      "state": {
       "description_width": ""
      }
     },
     "63815eb0fcb542b39808baaecf72e114": {
      "model_module": "@jupyter-widgets/controls",
      "model_module_version": "1.5.0",
      "model_name": "DescriptionStyleModel",
      "state": {
       "description_width": ""
      }
     },
     "660ff6ccf41641b7967676fb19aa2f81": {
      "model_module": "@jupyter-widgets/controls",
      "model_module_version": "1.5.0",
      "model_name": "HTMLModel",
      "state": {
       "layout": "IPY_MODEL_43b3342e78004dfd916f6e1c20e7ca12",
       "style": "IPY_MODEL_34774bf4bab942b58f0bfdc4598347c1",
       "value": " 2556/2556 [00:02]"
      }
     },
     "663871177a2a43d5a47aca75d6dd7d46": {
      "model_module": "@jupyter-widgets/controls",
      "model_module_version": "1.5.0",
      "model_name": "HBoxModel",
      "state": {
       "children": [
        "IPY_MODEL_39bfcbde0174404b9c297639ae045cda",
        "IPY_MODEL_3a4964f330fc4cd28d8cd333d292bbc2",
        "IPY_MODEL_bab4f3a15d2b4a2599a9b78ba685f72b"
       ],
       "layout": "IPY_MODEL_d955c9874a2d44e39f15827e1a2dc5b2"
      }
     },
     "6648a02818c24107b08dd0caef73293f": {
      "model_module": "@jupyter-widgets/controls",
      "model_module_version": "1.5.0",
      "model_name": "HTMLModel",
      "state": {
       "layout": "IPY_MODEL_d202c1caefbc476baa945cd08dc999d0",
       "style": "IPY_MODEL_1a2e3e7ca39149e599043a4e7a5cae46",
       "value": "Writing data to merged file: 100%| "
      }
     },
     "66886c73a20143a894899cfcfe9ac8e6": {
      "model_module": "@jupyter-widgets/base",
      "model_module_version": "1.2.0",
      "model_name": "LayoutModel",
      "state": {
       "flex": "2"
      }
     },
     "66947a866338440ea5d148f010bfde2f": {
      "model_module": "@jupyter-widgets/base",
      "model_module_version": "1.2.0",
      "model_name": "LayoutModel",
      "state": {}
     },
     "67261a5b571048a3b3e13db7b04796e0": {
      "model_module": "@jupyter-widgets/controls",
      "model_module_version": "1.5.0",
      "model_name": "FloatProgressModel",
      "state": {
       "bar_style": "success",
       "layout": "IPY_MODEL_dd296874465242dc8976d74868f4bb40",
       "max": 19,
       "style": "IPY_MODEL_27add32d886443e181d595b667816199",
       "value": 19
      }
     },
     "6798a0112549460b9d7d002895d6bd38": {
      "model_module": "@jupyter-widgets/base",
      "model_module_version": "1.2.0",
      "model_name": "LayoutModel",
      "state": {}
     },
     "68349b31f6ed4a308de00ae5eeef3971": {
      "model_module": "@jupyter-widgets/controls",
      "model_module_version": "1.5.0",
      "model_name": "ProgressStyleModel",
      "state": {
       "bar_color": "#34abeb",
       "description_width": ""
      }
     },
     "69d8385fd85541dd845e0324111c5fea": {
      "model_module": "@jupyter-widgets/controls",
      "model_module_version": "1.5.0",
      "model_name": "HTMLModel",
      "state": {
       "layout": "IPY_MODEL_fd263d6ec8da4d569d8bddaca033216c",
       "style": "IPY_MODEL_97505f29cc8a459aa1f30e7fea19effc",
       "value": "Fitting kmeans: 100%| "
      }
     },
     "6a2cd4afe4fc4e16a082d3fabc419a71": {
      "model_module": "@jupyter-widgets/controls",
      "model_module_version": "1.5.0",
      "model_name": "HBoxModel",
      "state": {
       "children": [
        "IPY_MODEL_4325eed570544b2a8b67646a184f88f8",
        "IPY_MODEL_0d8f60008227435d897912d194bade7f",
        "IPY_MODEL_e8da72df547f48cbae73f6bf4f090c80"
       ],
       "layout": "IPY_MODEL_948783da89d5414f82a6eebeac6cc06a"
      }
     },
     "6bee156bd356419cba91de7a789b0b0f": {
      "model_module": "@jupyter-widgets/base",
      "model_module_version": "1.2.0",
      "model_name": "LayoutModel",
      "state": {}
     },
     "6bfe638c02bc4ca8a22b9b530ee6a921": {
      "model_module": "@jupyter-widgets/controls",
      "model_module_version": "1.5.0",
      "model_name": "HBoxModel",
      "state": {
       "children": [
        "IPY_MODEL_afc2afa262e4409db10c482ccb7d324e",
        "IPY_MODEL_da0aaa1c28a747d3bc2e892c6adac02e",
        "IPY_MODEL_c7f4b9da6e694a27a10d8b962ce96ffd"
       ],
       "layout": "IPY_MODEL_4e4513b15c424fa788b1af488431182f"
      }
     },
     "6c6efee8c8f444138ba847d4046e1d41": {
      "model_module": "@jupyter-widgets/controls",
      "model_module_version": "1.5.0",
      "model_name": "HBoxModel",
      "state": {
       "children": [
        "IPY_MODEL_e44374b78ea64f3b89b905c328d25427",
        "IPY_MODEL_4b2b4e3f074645ddaac34ac8d705f516",
        "IPY_MODEL_87f3bf497c8448cea4b4bf84a62ec5d0"
       ],
       "layout": "IPY_MODEL_401918460819469a95cbeed54b32194a"
      }
     },
     "6c8b1c530b0f430abc6f5de3482e0b37": {
      "model_module": "@jupyter-widgets/controls",
      "model_module_version": "1.5.0",
      "model_name": "ProgressStyleModel",
      "state": {
       "bar_color": "#34abeb",
       "description_width": ""
      }
     },
     "6db56b8e0cba421b897961c2b238e915": {
      "model_module": "@jupyter-widgets/base",
      "model_module_version": "1.2.0",
      "model_name": "LayoutModel",
      "state": {
       "flex": "2"
      }
     },
     "6fb661ff7bbe4f399f91dc37e239e141": {
      "model_module": "@jupyter-widgets/controls",
      "model_module_version": "1.5.0",
      "model_name": "HTMLModel",
      "state": {
       "layout": "IPY_MODEL_07f623bac36b420ca76c6074900d9e16",
       "style": "IPY_MODEL_313b416ae8f4456a98a6f44b944c6484",
       "value": "Normalizing with feature subset: 100%| "
      }
     },
     "706a3593714f4a058a300b8be1509f3c": {
      "model_module": "@jupyter-widgets/controls",
      "model_module_version": "1.5.0",
      "model_name": "FloatProgressModel",
      "state": {
       "bar_style": "success",
       "layout": "IPY_MODEL_efb147b564de41f7af0027ba9614e0aa",
       "max": 3393,
       "style": "IPY_MODEL_a10826f038574ab5a523896eece55d26",
       "value": 3393
      }
     },
     "71596ce3c6aa4a5688a17a642e736e8d": {
      "model_module": "@jupyter-widgets/base",
      "model_module_version": "1.2.0",
      "model_name": "LayoutModel",
      "state": {}
     },
     "729484a33a714e8a906345317ef4ab04": {
      "model_module": "@jupyter-widgets/controls",
      "model_module_version": "1.5.0",
      "model_name": "ProgressStyleModel",
      "state": {
       "bar_color": "#34abeb",
       "description_width": ""
      }
     },
     "72c92e7b5bd84dcba5660172c55f9cf4": {
      "model_module": "@jupyter-widgets/controls",
      "model_module_version": "1.5.0",
      "model_name": "FloatProgressModel",
      "state": {
       "bar_style": "success",
       "layout": "IPY_MODEL_acfb4471389a43d79cd0ec41a833286a",
       "max": 19,
       "style": "IPY_MODEL_a283748e3abb4b159898a15e225b9529",
       "value": 19
      }
     },
     "73627c2db85d4102b0c7ef98cc383b00": {
      "model_module": "@jupyter-widgets/controls",
      "model_module_version": "1.5.0",
      "model_name": "ProgressStyleModel",
      "state": {
       "bar_color": "#34abeb",
       "description_width": ""
      }
     },
     "73e09fc969fe4908bb5a49710d802f41": {
      "model_module": "@jupyter-widgets/controls",
      "model_module_version": "1.5.0",
      "model_name": "ProgressStyleModel",
      "state": {
       "bar_color": "#34abeb",
       "description_width": ""
      }
     },
     "74459b1a783440e891066697c68f9a9b": {
      "model_module": "@jupyter-widgets/base",
      "model_module_version": "1.2.0",
      "model_name": "LayoutModel",
      "state": {
       "flex": "2"
      }
     },
     "745fb56aa44f4836801ca69b7fc9da7a": {
      "model_module": "@jupyter-widgets/controls",
      "model_module_version": "1.5.0",
      "model_name": "DescriptionStyleModel",
      "state": {
       "description_width": ""
      }
     },
     "74ab30fcb2c1432d9a24164b587ca56e": {
      "model_module": "@jupyter-widgets/base",
      "model_module_version": "1.2.0",
      "model_name": "LayoutModel",
      "state": {
       "flex": "2"
      }
     },
     "77b115d6a1bc4b5d8dad62ad31fd7903": {
      "model_module": "@jupyter-widgets/controls",
      "model_module_version": "1.5.0",
      "model_name": "HBoxModel",
      "state": {
       "children": [
        "IPY_MODEL_bec4f6a630b44b09bfd17f7f7f9473e0",
        "IPY_MODEL_9528264370104e8da6a363628c4072a7",
        "IPY_MODEL_301041ecb76a4116855738103998d6f8"
       ],
       "layout": "IPY_MODEL_887a6149c79646eca1ac8385afdb38b2"
      }
     },
     "784a4adbc4304c9592d7f1dd74304db4": {
      "model_module": "@jupyter-widgets/base",
      "model_module_version": "1.2.0",
      "model_name": "LayoutModel",
      "state": {}
     },
     "78b3e82105d24361a0677c71225df25a": {
      "model_module": "@jupyter-widgets/controls",
      "model_module_version": "1.5.0",
      "model_name": "ProgressStyleModel",
      "state": {
       "bar_color": "#34abeb",
       "description_width": ""
      }
     },
     "79fd122e89224d98963a1a19f42dae50": {
      "model_module": "@jupyter-widgets/controls",
      "model_module_version": "1.5.0",
      "model_name": "DescriptionStyleModel",
      "state": {
       "description_width": ""
      }
     },
     "7adc21f007f34129a3ba54582989b61b": {
      "model_module": "@jupyter-widgets/controls",
      "model_module_version": "1.5.0",
      "model_name": "HTMLModel",
      "state": {
       "layout": "IPY_MODEL_aac1912fbd8f4cfd9b4dade2baebb5f1",
       "style": "IPY_MODEL_05b96c78790d4720a99cd06fee015e40",
       "value": " 19/19 [00:01]"
      }
     },
     "7ba3966a771d4c4390fbb16558069f8b": {
      "model_module": "@jupyter-widgets/base",
      "model_module_version": "1.2.0",
      "model_name": "LayoutModel",
      "state": {}
     },
     "7d1edd81d8b64f0fb162c79e4f1f7383": {
      "model_module": "@jupyter-widgets/base",
      "model_module_version": "1.2.0",
      "model_name": "LayoutModel",
      "state": {}
     },
     "7d388a4ebf9b496eb14a1345c391b723": {
      "model_module": "@jupyter-widgets/controls",
      "model_module_version": "1.5.0",
      "model_name": "FloatProgressModel",
      "state": {
       "bar_style": "success",
       "layout": "IPY_MODEL_f506edf97f7c49d09720bea0c2b4c2d0",
       "max": 19,
       "style": "IPY_MODEL_a63ff01b429b4220aa1b362163da62bc",
       "value": 19
      }
     },
     "7dffe4df449e424a8780c5d6a8093d8e": {
      "model_module": "@jupyter-widgets/controls",
      "model_module_version": "1.5.0",
      "model_name": "DescriptionStyleModel",
      "state": {
       "description_width": ""
      }
     },
     "7e4e12b753b04c9088bfb656eb807c3e": {
      "model_module": "@jupyter-widgets/base",
      "model_module_version": "1.2.0",
      "model_name": "LayoutModel",
      "state": {
       "flex": "2"
      }
     },
     "7ea944c7e0c340b69f9f85b898cecb09": {
      "model_module": "@jupyter-widgets/base",
      "model_module_version": "1.2.0",
      "model_name": "LayoutModel",
      "state": {}
     },
     "801a0a0398294b93a4475a9e1c866ebd": {
      "model_module": "@jupyter-widgets/controls",
      "model_module_version": "1.5.0",
      "model_name": "HTMLModel",
      "state": {
       "layout": "IPY_MODEL_ab8eb17dabb34349b857b5407f867abe",
       "style": "IPY_MODEL_922ef3295f6f4c59b3f003b9be0739fb",
       "value": " 90/90 [00:00]"
      }
     },
     "803a62c042e74903aa748651c08a2e30": {
      "model_module": "@jupyter-widgets/base",
      "model_module_version": "1.2.0",
      "model_name": "LayoutModel",
      "state": {
       "display": "inline-flex",
       "flex_flow": "row wrap",
       "width": "500px"
      }
     },
     "8154649d4722406b87b662c5e48e64f6": {
      "model_module": "@jupyter-widgets/controls",
      "model_module_version": "1.5.0",
      "model_name": "DescriptionStyleModel",
      "state": {
       "description_width": ""
      }
     },
     "8376b3a3f7614fbdaf5f1d08e88c983d": {
      "model_module": "@jupyter-widgets/base",
      "model_module_version": "1.2.0",
      "model_name": "LayoutModel",
      "state": {}
     },
     "852df05da44a4d2099b7a8ae79b97624": {
      "model_module": "@jupyter-widgets/base",
      "model_module_version": "1.2.0",
      "model_name": "LayoutModel",
      "state": {}
     },
     "85bac2459db94090aa65d4a027ce808f": {
      "model_module": "@jupyter-widgets/controls",
      "model_module_version": "1.5.0",
      "model_name": "DescriptionStyleModel",
      "state": {
       "description_width": ""
      }
     },
     "86a7eab7d5f040d89b91c25447750e20": {
      "model_module": "@jupyter-widgets/base",
      "model_module_version": "1.2.0",
      "model_name": "LayoutModel",
      "state": {}
     },
     "872356a9bd2f44b5855dc42da9a4f742": {
      "model_module": "@jupyter-widgets/controls",
      "model_module_version": "1.5.0",
      "model_name": "FloatProgressModel",
      "state": {
       "bar_style": "success",
       "layout": "IPY_MODEL_5a3e48699d3d41f2b622746dbcc22714",
       "max": 6,
       "style": "IPY_MODEL_68349b31f6ed4a308de00ae5eeef3971",
       "value": 6
      }
     },
     "87f3bf497c8448cea4b4bf84a62ec5d0": {
      "model_module": "@jupyter-widgets/controls",
      "model_module_version": "1.5.0",
      "model_name": "HTMLModel",
      "state": {
       "layout": "IPY_MODEL_b041e53e04664350a5039e928e2ae08a",
       "style": "IPY_MODEL_92bac3dc117b4acd9c5dc2af2bf419ea",
       "value": " 19/19 [00:02]"
      }
     },
     "887a6149c79646eca1ac8385afdb38b2": {
      "model_module": "@jupyter-widgets/base",
      "model_module_version": "1.2.0",
      "model_name": "LayoutModel",
      "state": {
       "display": "inline-flex",
       "flex_flow": "row wrap",
       "width": "500px"
      }
     },
     "893a6308312e49098ba21abc76ddd35b": {
      "model_module": "@jupyter-widgets/controls",
      "model_module_version": "1.5.0",
      "model_name": "HBoxModel",
      "state": {
       "children": [
        "IPY_MODEL_f5c6b2a1fa0a4c0294e9f531366a5c02",
        "IPY_MODEL_c9f1af1825054128936376fb8a73e541",
        "IPY_MODEL_d4fbc363edf14e9ca8335d684050829a"
       ],
       "layout": "IPY_MODEL_31772d6fb1204420b21f09f4f9d30a70"
      }
     },
     "8a4c326576be4734a500dc12c44c99bb": {
      "model_module": "@jupyter-widgets/controls",
      "model_module_version": "1.5.0",
      "model_name": "HTMLModel",
      "state": {
       "layout": "IPY_MODEL_4404d34b11fa4e7ab8e18a03d7a267fe",
       "style": "IPY_MODEL_0d97bfc695914d7a9fc66c3569ceb7e8",
       "value": " 3393/3393 [00:03]"
      }
     },
     "8aff2c6024bb4968b2e2cef4a55d98cf": {
      "model_module": "@jupyter-widgets/base",
      "model_module_version": "1.2.0",
      "model_name": "LayoutModel",
      "state": {
       "display": "inline-flex",
       "flex_flow": "row wrap",
       "width": "500px"
      }
     },
     "8b138d24655248c2838fd08fbc22e468": {
      "model_module": "@jupyter-widgets/controls",
      "model_module_version": "1.5.0",
      "model_name": "DescriptionStyleModel",
      "state": {
       "description_width": ""
      }
     },
     "8b76373ae0a14cd481e0645f1f1068af": {
      "model_module": "@jupyter-widgets/base",
      "model_module_version": "1.2.0",
      "model_name": "LayoutModel",
      "state": {
       "display": "inline-flex",
       "flex_flow": "row wrap",
       "width": "500px"
      }
     },
     "8b783e979f484341a9775c994e86e172": {
      "model_module": "@jupyter-widgets/controls",
      "model_module_version": "1.5.0",
      "model_name": "HTMLModel",
      "state": {
       "layout": "IPY_MODEL_c6938964a4aa45c1902c2c6de52ecfcd",
       "style": "IPY_MODEL_980e00d516454af3aca93b21398cc7ce",
       "value": "Fitting kmeans: 100%| "
      }
     },
     "8bf9fd4389504d9fb705cddf5115cb1e": {
      "model_module": "@jupyter-widgets/controls",
      "model_module_version": "1.5.0",
      "model_name": "DescriptionStyleModel",
      "state": {
       "description_width": ""
      }
     },
     "8c0ad9def3a14de995faea18c1c2a6dc": {
      "model_module": "@jupyter-widgets/base",
      "model_module_version": "1.2.0",
      "model_name": "LayoutModel",
      "state": {}
     },
     "8cf2966205c4485f924dbc4bf5d09515": {
      "model_module": "@jupyter-widgets/base",
      "model_module_version": "1.2.0",
      "model_name": "LayoutModel",
      "state": {}
     },
     "8d9a055f9ef54e8b902fa33b0b39ca96": {
      "model_module": "@jupyter-widgets/controls",
      "model_module_version": "1.5.0",
      "model_name": "FloatProgressModel",
      "state": {
       "bar_style": "success",
       "layout": "IPY_MODEL_cee79d47074040f78c0c1a65a79b249f",
       "max": 19,
       "style": "IPY_MODEL_4c1a1d1f5b6944838daaad0839af67b5",
       "value": 19
      }
     },
     "8e40a29543684b7e854a50f5523f38e2": {
      "model_module": "@jupyter-widgets/controls",
      "model_module_version": "1.5.0",
      "model_name": "HTMLModel",
      "state": {
       "layout": "IPY_MODEL_852df05da44a4d2099b7a8ae79b97624",
       "style": "IPY_MODEL_79fd122e89224d98963a1a19f42dae50",
       "value": "Fitting PCA: 100%| "
      }
     },
     "8f24d0b913724ffc9af24b793a872bc7": {
      "model_module": "@jupyter-widgets/controls",
      "model_module_version": "1.5.0",
      "model_name": "ProgressStyleModel",
      "state": {
       "bar_color": "#34abeb",
       "description_width": ""
      }
     },
     "8fc32a5d35f946f78e519bc2c935d4ea": {
      "model_module": "@jupyter-widgets/base",
      "model_module_version": "1.2.0",
      "model_name": "LayoutModel",
      "state": {}
     },
     "8fcd53728176465883703337feb96dd4": {
      "model_module": "@jupyter-widgets/controls",
      "model_module_version": "1.5.0",
      "model_name": "DescriptionStyleModel",
      "state": {
       "description_width": ""
      }
     },
     "8fe53c2bd31648e6aa697eb92bc20b73": {
      "model_module": "@jupyter-widgets/controls",
      "model_module_version": "1.5.0",
      "model_name": "HTMLModel",
      "state": {
       "layout": "IPY_MODEL_ceb1cb2f7c26459d9f4cab647478ce25",
       "style": "IPY_MODEL_afa6817206174b9385889b34e671ee98",
       "value": " 3393/3393 [00:03]"
      }
     },
     "8ff0aa8df08844d5b48c51355cd01958": {
      "model_module": "@jupyter-widgets/controls",
      "model_module_version": "1.5.0",
      "model_name": "HTMLModel",
      "state": {
       "layout": "IPY_MODEL_c2cc04b706d846d8a566378ca57aae01",
       "style": "IPY_MODEL_e434d50bc1574540befc2880e062360f",
       "value": "Downloading : 100%| "
      }
     },
     "922ef3295f6f4c59b3f003b9be0739fb": {
      "model_module": "@jupyter-widgets/controls",
      "model_module_version": "1.5.0",
      "model_name": "DescriptionStyleModel",
      "state": {
       "description_width": ""
      }
     },
     "92bac3dc117b4acd9c5dc2af2bf419ea": {
      "model_module": "@jupyter-widgets/controls",
      "model_module_version": "1.5.0",
      "model_name": "DescriptionStyleModel",
      "state": {
       "description_width": ""
      }
     },
     "92d50232d2394368b23a4ae3d440e884": {
      "model_module": "@jupyter-widgets/controls",
      "model_module_version": "1.5.0",
      "model_name": "HBoxModel",
      "state": {
       "children": [
        "IPY_MODEL_8ff0aa8df08844d5b48c51355cd01958",
        "IPY_MODEL_5bdd1b8ff3244423946197669bd943ff",
        "IPY_MODEL_d8dc645d0319422a9cd1871aa26d4323"
       ],
       "layout": "IPY_MODEL_5a0b265452b645a098670528a31e6e8a"
      }
     },
     "9312e5b3ee2f4dc7b4cd2a0785881bdd": {
      "model_module": "@jupyter-widgets/base",
      "model_module_version": "1.2.0",
      "model_name": "LayoutModel",
      "state": {}
     },
     "93e3743bf5ef4f0d9a66aaa2610d4017": {
      "model_module": "@jupyter-widgets/controls",
      "model_module_version": "1.5.0",
      "model_name": "HTMLModel",
      "state": {
       "layout": "IPY_MODEL_cdd116226b654ff48edc3423f88ae8be",
       "style": "IPY_MODEL_01d6dfcd205e432d8e484dcfc5207aad",
       "value": " 2310/2310 [00:01]"
      }
     },
     "941f50cd0bdb46fd8999bf2c9c6b3ce4": {
      "model_module": "@jupyter-widgets/base",
      "model_module_version": "1.2.0",
      "model_name": "LayoutModel",
      "state": {}
     },
     "948783da89d5414f82a6eebeac6cc06a": {
      "model_module": "@jupyter-widgets/base",
      "model_module_version": "1.2.0",
      "model_name": "LayoutModel",
      "state": {
       "display": "inline-flex",
       "flex_flow": "row wrap",
       "width": "500px"
      }
     },
     "950937e2963d4854809a7577c23bb660": {
      "model_module": "@jupyter-widgets/controls",
      "model_module_version": "1.5.0",
      "model_name": "HBoxModel",
      "state": {
       "children": [
        "IPY_MODEL_b46b6435f715406fbe2e49dbffb14d29",
        "IPY_MODEL_db9a6bff5959466cbe8dc8616589909d",
        "IPY_MODEL_8a4c326576be4734a500dc12c44c99bb"
       ],
       "layout": "IPY_MODEL_9db80de8353d4e48a1b7ebd9886892d4"
      }
     },
     "9528264370104e8da6a363628c4072a7": {
      "model_module": "@jupyter-widgets/controls",
      "model_module_version": "1.5.0",
      "model_name": "FloatProgressModel",
      "state": {
       "bar_style": "success",
       "layout": "IPY_MODEL_5887521440394bdb852ca80653c47bc0",
       "max": 2520,
       "style": "IPY_MODEL_78b3e82105d24361a0677c71225df25a",
       "value": 2520
      }
     },
     "95aa0983d00746d2821ae2355a054bab": {
      "model_module": "@jupyter-widgets/controls",
      "model_module_version": "1.5.0",
      "model_name": "HTMLModel",
      "state": {
       "layout": "IPY_MODEL_60ac4845ff5c4009a02edb2e69c0132d",
       "style": "IPY_MODEL_7dffe4df449e424a8780c5d6a8093d8e",
       "value": "(RNA) Computing nFeatures: 100%| "
      }
     },
     "96086b7f478e49bc9cff33ac68ec630f": {
      "model_module": "@jupyter-widgets/base",
      "model_module_version": "1.2.0",
      "model_name": "LayoutModel",
      "state": {}
     },
     "97505f29cc8a459aa1f30e7fea19effc": {
      "model_module": "@jupyter-widgets/controls",
      "model_module_version": "1.5.0",
      "model_name": "DescriptionStyleModel",
      "state": {
       "description_width": ""
      }
     },
     "97c97cad26494634861a42f252417c00": {
      "model_module": "@jupyter-widgets/base",
      "model_module_version": "1.2.0",
      "model_name": "LayoutModel",
      "state": {
       "display": "inline-flex",
       "flex_flow": "row wrap",
       "width": "500px"
      }
     },
     "97ec456e00d449008c16bee95bf4b2ec": {
      "model_module": "@jupyter-widgets/base",
      "model_module_version": "1.2.0",
      "model_name": "LayoutModel",
      "state": {}
     },
     "980e00d516454af3aca93b21398cc7ce": {
      "model_module": "@jupyter-widgets/controls",
      "model_module_version": "1.5.0",
      "model_name": "DescriptionStyleModel",
      "state": {
       "description_width": ""
      }
     },
     "984a1118224c496a944320867df75057": {
      "model_module": "@jupyter-widgets/base",
      "model_module_version": "1.2.0",
      "model_name": "LayoutModel",
      "state": {
       "flex": "2"
      }
     },
     "9912a18acff24be39dd4597d80ba53c5": {
      "model_module": "@jupyter-widgets/controls",
      "model_module_version": "1.5.0",
      "model_name": "DescriptionStyleModel",
      "state": {
       "description_width": ""
      }
     },
     "998c42a76a80434fa07a316f7915ec8b": {
      "model_module": "@jupyter-widgets/controls",
      "model_module_version": "1.5.0",
      "model_name": "HBoxModel",
      "state": {
       "children": [
        "IPY_MODEL_3ae0ea605f554fd7a9e7a823bc05eca5",
        "IPY_MODEL_45a162c159f947ec8faa416f5dd1736a",
        "IPY_MODEL_e7c2e71083314119ac165f1c10d83f98"
       ],
       "layout": "IPY_MODEL_d07f623f034a463db8ed363f1738f75d"
      }
     },
     "9996617cbb094033a5cc1c7098b45190": {
      "model_module": "@jupyter-widgets/base",
      "model_module_version": "1.2.0",
      "model_name": "LayoutModel",
      "state": {}
     },
     "9b47b3bf971a4df6a7a1d79f82b27ff3": {
      "model_module": "@jupyter-widgets/base",
      "model_module_version": "1.2.0",
      "model_name": "LayoutModel",
      "state": {
       "flex": "2"
      }
     },
     "9d71380cd8e2405eae549f20a873c8b2": {
      "model_module": "@jupyter-widgets/controls",
      "model_module_version": "1.5.0",
      "model_name": "DescriptionStyleModel",
      "state": {
       "description_width": ""
      }
     },
     "9db80de8353d4e48a1b7ebd9886892d4": {
      "model_module": "@jupyter-widgets/base",
      "model_module_version": "1.2.0",
      "model_name": "LayoutModel",
      "state": {
       "display": "inline-flex",
       "flex_flow": "row wrap",
       "width": "500px"
      }
     },
     "9e15c36d9cd140c7824178f4d63c2691": {
      "model_module": "@jupyter-widgets/base",
      "model_module_version": "1.2.0",
      "model_name": "LayoutModel",
      "state": {
       "flex": "2"
      }
     },
     "9fa52745bf38469788734a67b2290948": {
      "model_module": "@jupyter-widgets/base",
      "model_module_version": "1.2.0",
      "model_name": "LayoutModel",
      "state": {
       "display": "inline-flex",
       "flex_flow": "row wrap",
       "width": "500px"
      }
     },
     "9ff84e3e28ec4df49d722823230f0192": {
      "model_module": "@jupyter-widgets/base",
      "model_module_version": "1.2.0",
      "model_name": "LayoutModel",
      "state": {
       "flex": "2"
      }
     },
     "a10826f038574ab5a523896eece55d26": {
      "model_module": "@jupyter-widgets/controls",
      "model_module_version": "1.5.0",
      "model_name": "ProgressStyleModel",
      "state": {
       "bar_color": "#34abeb",
       "description_width": ""
      }
     },
     "a21d4222ecb44283b042a2f3eeaf4577": {
      "model_module": "@jupyter-widgets/controls",
      "model_module_version": "1.5.0",
      "model_name": "HTMLModel",
      "state": {
       "layout": "IPY_MODEL_9312e5b3ee2f4dc7b4cd2a0785881bdd",
       "style": "IPY_MODEL_ee3fd4c56ade4e38a412d28defd6ab4e",
       "value": " 6/6 [00:08]"
      }
     },
     "a256b28559284431a78bc38edb066848": {
      "model_module": "@jupyter-widgets/base",
      "model_module_version": "1.2.0",
      "model_name": "LayoutModel",
      "state": {}
     },
     "a283748e3abb4b159898a15e225b9529": {
      "model_module": "@jupyter-widgets/controls",
      "model_module_version": "1.5.0",
      "model_name": "ProgressStyleModel",
      "state": {
       "bar_color": "#34abeb",
       "description_width": ""
      }
     },
     "a3fcd4b6b6ee41b094e020031d54edea": {
      "model_module": "@jupyter-widgets/controls",
      "model_module_version": "1.5.0",
      "model_name": "ProgressStyleModel",
      "state": {
       "bar_color": "#34abeb",
       "description_width": ""
      }
     },
     "a605be476caa4a34a11cdcfbc257d004": {
      "model_module": "@jupyter-widgets/controls",
      "model_module_version": "1.5.0",
      "model_name": "HTMLModel",
      "state": {
       "layout": "IPY_MODEL_6bee156bd356419cba91de7a789b0b0f",
       "style": "IPY_MODEL_e1b6f3af067d4db9a97ff1225c88696c",
       "value": "Downloading : 100%| "
      }
     },
     "a63ff01b429b4220aa1b362163da62bc": {
      "model_module": "@jupyter-widgets/controls",
      "model_module_version": "1.5.0",
      "model_name": "ProgressStyleModel",
      "state": {
       "bar_color": "#34abeb",
       "description_width": ""
      }
     },
     "a6a496c9bb7b4f81ba8055fd0d2d127b": {
      "model_module": "@jupyter-widgets/controls",
      "model_module_version": "1.5.0",
      "model_name": "HBoxModel",
      "state": {
       "children": [
        "IPY_MODEL_fcea36e7abf947e99a523041e8b8475d",
        "IPY_MODEL_d5bd90ea58e344a88027598a2a70020b",
        "IPY_MODEL_ae470fd7459040c6b7164bb1556d8971"
       ],
       "layout": "IPY_MODEL_3c398d16ecf444e78e9094cdd87d536d"
      }
     },
     "a7c698e561d542b29d5c665315490e78": {
      "model_module": "@jupyter-widgets/base",
      "model_module_version": "1.2.0",
      "model_name": "LayoutModel",
      "state": {}
     },
     "a7f79e415a4e4711b74ae2dc87d1a679": {
      "model_module": "@jupyter-widgets/controls",
      "model_module_version": "1.5.0",
      "model_name": "FloatProgressModel",
      "state": {
       "bar_style": "success",
       "layout": "IPY_MODEL_5ed71fbe42504f609f66f3f561c26b83",
       "max": 19,
       "style": "IPY_MODEL_1bd75ec955244c9cb42013f7fc491c6d",
       "value": 19
      }
     },
     "a7f9e15c77424a82a4c39261f3ee7139": {
      "model_module": "@jupyter-widgets/controls",
      "model_module_version": "1.5.0",
      "model_name": "HTMLModel",
      "state": {
       "layout": "IPY_MODEL_7ea944c7e0c340b69f9f85b898cecb09",
       "style": "IPY_MODEL_caa467b6062442aa8384a2e6b9cd86d1",
       "value": "(RNA) Computing nCells: 100%| "
      }
     },
     "aac1912fbd8f4cfd9b4dade2baebb5f1": {
      "model_module": "@jupyter-widgets/base",
      "model_module_version": "1.2.0",
      "model_name": "LayoutModel",
      "state": {}
     },
     "aae2aca43e5741089772ebef87710eea": {
      "model_module": "@jupyter-widgets/controls",
      "model_module_version": "1.5.0",
      "model_name": "HTMLModel",
      "state": {
       "layout": "IPY_MODEL_20238ae1ba4947cba25343023a5cf09d",
       "style": "IPY_MODEL_85bac2459db94090aa65d4a027ce808f",
       "value": " 19/19 [00:01]"
      }
     },
     "ab8eb17dabb34349b857b5407f867abe": {
      "model_module": "@jupyter-widgets/base",
      "model_module_version": "1.2.0",
      "model_name": "LayoutModel",
      "state": {}
     },
     "ac51f35520df476197619964ca325ba5": {
      "model_module": "@jupyter-widgets/controls",
      "model_module_version": "1.5.0",
      "model_name": "HBoxModel",
      "state": {
       "children": [
        "IPY_MODEL_3f0d36f1a55f41a69e61dc2114c6e6b8",
        "IPY_MODEL_d588d645d40440f09de7b0637f2fad57",
        "IPY_MODEL_c2b081a58b314382b4bf68cfc721625e"
       ],
       "layout": "IPY_MODEL_2a45e70c540042f89fbf61c0daaa87a1"
      }
     },
     "acfb4471389a43d79cd0ec41a833286a": {
      "model_module": "@jupyter-widgets/base",
      "model_module_version": "1.2.0",
      "model_name": "LayoutModel",
      "state": {
       "flex": "2"
      }
     },
     "ad2338bcfeab499198446c9f95847966": {
      "model_module": "@jupyter-widgets/base",
      "model_module_version": "1.2.0",
      "model_name": "LayoutModel",
      "state": {}
     },
     "ae470fd7459040c6b7164bb1556d8971": {
      "model_module": "@jupyter-widgets/controls",
      "model_module_version": "1.5.0",
      "model_name": "HTMLModel",
      "state": {
       "layout": "IPY_MODEL_5782236712d64407b096fdbaac82f6be",
       "style": "IPY_MODEL_3188d4777c22478596a3c900e75a6b00",
       "value": " 92/92 [00:00]"
      }
     },
     "aedf5f0276204538baf96360caa141cc": {
      "model_module": "@jupyter-widgets/controls",
      "model_module_version": "1.5.0",
      "model_name": "FloatProgressModel",
      "state": {
       "bar_style": "success",
       "layout": "IPY_MODEL_11fb8f158241405590effab2e07aed6e",
       "max": 30,
       "style": "IPY_MODEL_5e3abd96125f4cab8c33cd2fc69dc4c3",
       "value": 30
      }
     },
     "afa6817206174b9385889b34e671ee98": {
      "model_module": "@jupyter-widgets/controls",
      "model_module_version": "1.5.0",
      "model_name": "DescriptionStyleModel",
      "state": {
       "description_width": ""
      }
     },
     "afc2afa262e4409db10c482ccb7d324e": {
      "model_module": "@jupyter-widgets/controls",
      "model_module_version": "1.5.0",
      "model_name": "HTMLModel",
      "state": {
       "layout": "IPY_MODEL_e9401f922f4f480faf47f8e893c3bfdf",
       "style": "IPY_MODEL_04e29eb98e5b42e983a1747dbf9912df",
       "value": "Calculating mean of norm. data: 100%| "
      }
     },
     "b041e53e04664350a5039e928e2ae08a": {
      "model_module": "@jupyter-widgets/base",
      "model_module_version": "1.2.0",
      "model_name": "LayoutModel",
      "state": {}
     },
     "b2b2646e75064dc3bb435b65032e4eef": {
      "model_module": "@jupyter-widgets/controls",
      "model_module_version": "1.5.0",
      "model_name": "ProgressStyleModel",
      "state": {
       "bar_color": "#34abeb",
       "description_width": ""
      }
     },
     "b3411fefb5d641bebac395bd33a61903": {
      "model_module": "@jupyter-widgets/controls",
      "model_module_version": "1.5.0",
      "model_name": "HTMLModel",
      "state": {
       "layout": "IPY_MODEL_7ba3966a771d4c4390fbb16558069f8b",
       "style": "IPY_MODEL_9d71380cd8e2405eae549f20a873c8b2",
       "value": "Estimating seed partitions: 100%| "
      }
     },
     "b3fe4e988a904e52b876a53fa2ca38d4": {
      "model_module": "@jupyter-widgets/controls",
      "model_module_version": "1.5.0",
      "model_name": "ProgressStyleModel",
      "state": {
       "bar_color": "#34abeb",
       "description_width": ""
      }
     },
     "b46b6435f715406fbe2e49dbffb14d29": {
      "model_module": "@jupyter-widgets/controls",
      "model_module_version": "1.5.0",
      "model_name": "HTMLModel",
      "state": {
       "layout": "IPY_MODEL_66947a866338440ea5d148f010bfde2f",
       "style": "IPY_MODEL_0fae7158f8d94994b1c319acf372b24a",
       "value": "(RNA) Computing sigmas: 100%| "
      }
     },
     "b7b72ff66d784c8f9671712e58e31418": {
      "model_module": "@jupyter-widgets/controls",
      "model_module_version": "1.5.0",
      "model_name": "HTMLModel",
      "state": {
       "layout": "IPY_MODEL_ad2338bcfeab499198446c9f95847966",
       "style": "IPY_MODEL_c4cf527390db4da48b25409c2257ddd1",
       "value": "Saving KNN graph: 100%| "
      }
     },
     "b7db0c50c93143e3ae04b3ec0856e584": {
      "model_module": "@jupyter-widgets/controls",
      "model_module_version": "1.5.0",
      "model_name": "DescriptionStyleModel",
      "state": {
       "description_width": ""
      }
     },
     "b89d9e270add42e39fcc71da865798ea": {
      "model_module": "@jupyter-widgets/base",
      "model_module_version": "1.2.0",
      "model_name": "LayoutModel",
      "state": {}
     },
     "b8a7abd1930149b1ab44fe321181dc18": {
      "model_module": "@jupyter-widgets/base",
      "model_module_version": "1.2.0",
      "model_name": "LayoutModel",
      "state": {}
     },
     "bab4f3a15d2b4a2599a9b78ba685f72b": {
      "model_module": "@jupyter-widgets/controls",
      "model_module_version": "1.5.0",
      "model_name": "HTMLModel",
      "state": {
       "layout": "IPY_MODEL_71596ce3c6aa4a5688a17a642e736e8d",
       "style": "IPY_MODEL_4e69bae5f52049fc8f23940415c1ec89",
       "value": " 19/19 [00:01]"
      }
     },
     "bb1cef2b73644122bed84accdfe1c133": {
      "model_module": "@jupyter-widgets/controls",
      "model_module_version": "1.5.0",
      "model_name": "DescriptionStyleModel",
      "state": {
       "description_width": ""
      }
     },
     "bc1bc13389024f64a0f3395d309b808b": {
      "model_module": "@jupyter-widgets/controls",
      "model_module_version": "1.5.0",
      "model_name": "DescriptionStyleModel",
      "state": {
       "description_width": ""
      }
     },
     "bc5ad04f6adf43d6a411335d9e84cdda": {
      "model_module": "@jupyter-widgets/base",
      "model_module_version": "1.2.0",
      "model_name": "LayoutModel",
      "state": {}
     },
     "bec4f6a630b44b09bfd17f7f7f9473e0": {
      "model_module": "@jupyter-widgets/controls",
      "model_module_version": "1.5.0",
      "model_name": "HTMLModel",
      "state": {
       "layout": "IPY_MODEL_365dfd44c5c6468383b87b72186204a0",
       "style": "IPY_MODEL_35229e8e06d8459681aeed60770aa4b5",
       "value": "(RNA) Computing nCounts: 100%| "
      }
     },
     "bf7cd6f90e924329ba318ade0bcdc555": {
      "model_module": "@jupyter-widgets/controls",
      "model_module_version": "1.5.0",
      "model_name": "ProgressStyleModel",
      "state": {
       "bar_color": "#34abeb",
       "description_width": ""
      }
     },
     "bffeb27df1684626b15c17d2771b7321": {
      "model_module": "@jupyter-widgets/controls",
      "model_module_version": "1.5.0",
      "model_name": "HBoxModel",
      "state": {
       "children": [
        "IPY_MODEL_ef94997ff1674f46944df9a5c628abaa",
        "IPY_MODEL_474efdd7c3b84a85aba6d69dd7013c6c",
        "IPY_MODEL_5435b2f5ff4944fe800e95efc0ea3654"
       ],
       "layout": "IPY_MODEL_60c124813aab44748dc3ce68ccb19eda"
      }
     },
     "c2a071ca7a08435fad21ce66bc83958c": {
      "model_module": "@jupyter-widgets/controls",
      "model_module_version": "1.5.0",
      "model_name": "HBoxModel",
      "state": {
       "children": [
        "IPY_MODEL_1a2ae97f045a457f91b7f4f17c5ab1ea",
        "IPY_MODEL_19e4071bf49e4464b1deacb7c98eff2e",
        "IPY_MODEL_cdd94f5de94348d1ac0dc49b98cdc2af"
       ],
       "layout": "IPY_MODEL_f9e0fcdd639c4925b535be81b1d957dc"
      }
     },
     "c2b081a58b314382b4bf68cfc721625e": {
      "model_module": "@jupyter-widgets/controls",
      "model_module_version": "1.5.0",
      "model_name": "HTMLModel",
      "state": {
       "layout": "IPY_MODEL_8c0ad9def3a14de995faea18c1c2a6dc",
       "style": "IPY_MODEL_dba86ff120d7406fa81accf638acc7b9",
       "value": " 19/19 [00:01]"
      }
     },
     "c2cc04b706d846d8a566378ca57aae01": {
      "model_module": "@jupyter-widgets/base",
      "model_module_version": "1.2.0",
      "model_name": "LayoutModel",
      "state": {}
     },
     "c446b0e546264753befb824f4b0a3f89": {
      "model_module": "@jupyter-widgets/base",
      "model_module_version": "1.2.0",
      "model_name": "LayoutModel",
      "state": {
       "display": "inline-flex",
       "flex_flow": "row wrap",
       "width": "500px"
      }
     },
     "c4cf527390db4da48b25409c2257ddd1": {
      "model_module": "@jupyter-widgets/controls",
      "model_module_version": "1.5.0",
      "model_name": "DescriptionStyleModel",
      "state": {
       "description_width": ""
      }
     },
     "c68656f70f464abb9720f75ae2889f83": {
      "model_module": "@jupyter-widgets/base",
      "model_module_version": "1.2.0",
      "model_name": "LayoutModel",
      "state": {
       "display": "inline-flex",
       "flex_flow": "row wrap",
       "width": "500px"
      }
     },
     "c68e7490c4594797b10ff99b9d6ef76e": {
      "model_module": "@jupyter-widgets/controls",
      "model_module_version": "1.5.0",
      "model_name": "DescriptionStyleModel",
      "state": {
       "description_width": ""
      }
     },
     "c6938964a4aa45c1902c2c6de52ecfcd": {
      "model_module": "@jupyter-widgets/base",
      "model_module_version": "1.2.0",
      "model_name": "LayoutModel",
      "state": {}
     },
     "c702598c266540b4a2bae76e991eac19": {
      "model_module": "@jupyter-widgets/controls",
      "model_module_version": "1.5.0",
      "model_name": "FloatProgressModel",
      "state": {
       "bar_style": "success",
       "layout": "IPY_MODEL_9b47b3bf971a4df6a7a1d79f82b27ff3",
       "max": 19,
       "style": "IPY_MODEL_e38a975ca4ee400f97a235745457f325",
       "value": 19
      }
     },
     "c7806dc27a724d9b95cf42aca64350bf": {
      "model_module": "@jupyter-widgets/controls",
      "model_module_version": "1.5.0",
      "model_name": "ProgressStyleModel",
      "state": {
       "bar_color": "#34abeb",
       "description_width": ""
      }
     },
     "c7f4b9da6e694a27a10d8b962ce96ffd": {
      "model_module": "@jupyter-widgets/controls",
      "model_module_version": "1.5.0",
      "model_name": "HTMLModel",
      "state": {
       "layout": "IPY_MODEL_ec4bd74afb524de5a1f529b05f264143",
       "style": "IPY_MODEL_8bf9fd4389504d9fb705cddf5115cb1e",
       "value": " 90/90 [00:00]"
      }
     },
     "c8e6048594934c09b2b298a3f0ca4457": {
      "model_module": "@jupyter-widgets/controls",
      "model_module_version": "1.5.0",
      "model_name": "HBoxModel",
      "state": {
       "children": [
        "IPY_MODEL_69d8385fd85541dd845e0324111c5fea",
        "IPY_MODEL_7d388a4ebf9b496eb14a1345c391b723",
        "IPY_MODEL_7adc21f007f34129a3ba54582989b61b"
       ],
       "layout": "IPY_MODEL_c68656f70f464abb9720f75ae2889f83"
      }
     },
     "c9f1af1825054128936376fb8a73e541": {
      "model_module": "@jupyter-widgets/controls",
      "model_module_version": "1.5.0",
      "model_name": "FloatProgressModel",
      "state": {
       "bar_style": "success",
       "layout": "IPY_MODEL_74ab30fcb2c1432d9a24164b587ca56e",
       "max": 92,
       "style": "IPY_MODEL_cabc74d35bde491fab33a961d9c9f1ff",
       "value": 92
      }
     },
     "caa467b6062442aa8384a2e6b9cd86d1": {
      "model_module": "@jupyter-widgets/controls",
      "model_module_version": "1.5.0",
      "model_name": "DescriptionStyleModel",
      "state": {
       "description_width": ""
      }
     },
     "cabc74d35bde491fab33a961d9c9f1ff": {
      "model_module": "@jupyter-widgets/controls",
      "model_module_version": "1.5.0",
      "model_name": "ProgressStyleModel",
      "state": {
       "bar_color": "#34abeb",
       "description_width": ""
      }
     },
     "cdd116226b654ff48edc3423f88ae8be": {
      "model_module": "@jupyter-widgets/base",
      "model_module_version": "1.2.0",
      "model_name": "LayoutModel",
      "state": {}
     },
     "cdd94f5de94348d1ac0dc49b98cdc2af": {
      "model_module": "@jupyter-widgets/controls",
      "model_module_version": "1.5.0",
      "model_name": "HTMLModel",
      "state": {
       "layout": "IPY_MODEL_df20c3a02ae94844a0cc0cc7cd44c72e",
       "style": "IPY_MODEL_bb1cef2b73644122bed84accdfe1c133",
       "value": " 19/19 [00:24]"
      }
     },
     "ce654031377e453b818c8ad667242484": {
      "model_module": "@jupyter-widgets/controls",
      "model_module_version": "1.5.0",
      "model_name": "DescriptionStyleModel",
      "state": {
       "description_width": ""
      }
     },
     "ceb1cb2f7c26459d9f4cab647478ce25": {
      "model_module": "@jupyter-widgets/base",
      "model_module_version": "1.2.0",
      "model_name": "LayoutModel",
      "state": {}
     },
     "cee79d47074040f78c0c1a65a79b249f": {
      "model_module": "@jupyter-widgets/base",
      "model_module_version": "1.2.0",
      "model_name": "LayoutModel",
      "state": {
       "flex": "2"
      }
     },
     "d07f623f034a463db8ed363f1738f75d": {
      "model_module": "@jupyter-widgets/base",
      "model_module_version": "1.2.0",
      "model_name": "LayoutModel",
      "state": {
       "display": "inline-flex",
       "flex_flow": "row wrap",
       "width": "500px"
      }
     },
     "d202c1caefbc476baa945cd08dc999d0": {
      "model_module": "@jupyter-widgets/base",
      "model_module_version": "1.2.0",
      "model_name": "LayoutModel",
      "state": {}
     },
     "d20a4bad58e64e038a3aa1409172e409": {
      "model_module": "@jupyter-widgets/controls",
      "model_module_version": "1.5.0",
      "model_name": "HTMLModel",
      "state": {
       "layout": "IPY_MODEL_0550b6f81f4a4d079295c143b31ef270",
       "style": "IPY_MODEL_1e157a5a76844bc28ebe2c2506c0a1f6",
       "value": " 19/19 [00:02]"
      }
     },
     "d2993ed43ae345609110e99a903f79f4": {
      "model_module": "@jupyter-widgets/controls",
      "model_module_version": "1.5.0",
      "model_name": "HBoxModel",
      "state": {
       "children": [
        "IPY_MODEL_b7b72ff66d784c8f9671712e58e31418",
        "IPY_MODEL_50369e65501e4db8b57e38f88f02e131",
        "IPY_MODEL_d20a4bad58e64e038a3aa1409172e409"
       ],
       "layout": "IPY_MODEL_60a9e77716854fa584fc497b54141985"
      }
     },
     "d2a4be1a546c4455a667ed0b964103eb": {
      "model_module": "@jupyter-widgets/base",
      "model_module_version": "1.2.0",
      "model_name": "LayoutModel",
      "state": {
       "display": "inline-flex",
       "flex_flow": "row wrap",
       "width": "500px"
      }
     },
     "d394a73e2af343e5946500013c7992dd": {
      "model_module": "@jupyter-widgets/base",
      "model_module_version": "1.2.0",
      "model_name": "LayoutModel",
      "state": {}
     },
     "d3c0591db6714f9aa20c7b18318c6648": {
      "model_module": "@jupyter-widgets/controls",
      "model_module_version": "1.5.0",
      "model_name": "ProgressStyleModel",
      "state": {
       "bar_color": "#34abeb",
       "description_width": ""
      }
     },
     "d4fbc363edf14e9ca8335d684050829a": {
      "model_module": "@jupyter-widgets/controls",
      "model_module_version": "1.5.0",
      "model_name": "HTMLModel",
      "state": {
       "layout": "IPY_MODEL_a7c698e561d542b29d5c665315490e78",
       "style": "IPY_MODEL_1aee3907eb2f47418cd493fdecc103e1",
       "value": " 92/92 [00:00]"
      }
     },
     "d588d645d40440f09de7b0637f2fad57": {
      "model_module": "@jupyter-widgets/controls",
      "model_module_version": "1.5.0",
      "model_name": "FloatProgressModel",
      "state": {
       "bar_style": "success",
       "layout": "IPY_MODEL_74459b1a783440e891066697c68f9a9b",
       "max": 19,
       "style": "IPY_MODEL_729484a33a714e8a906345317ef4ab04",
       "value": 19
      }
     },
     "d5bd90ea58e344a88027598a2a70020b": {
      "model_module": "@jupyter-widgets/controls",
      "model_module_version": "1.5.0",
      "model_name": "FloatProgressModel",
      "state": {
       "bar_style": "success",
       "layout": "IPY_MODEL_e453c0ef569c4f3f8e952b8bd6a9025b",
       "max": 92,
       "style": "IPY_MODEL_6c8b1c530b0f430abc6f5de3482e0b37",
       "value": 92
      }
     },
     "d6f205c1786645f8aa16a6ccbdb8d1af": {
      "model_module": "@jupyter-widgets/base",
      "model_module_version": "1.2.0",
      "model_name": "LayoutModel",
      "state": {}
     },
     "d8dc645d0319422a9cd1871aa26d4323": {
      "model_module": "@jupyter-widgets/controls",
      "model_module_version": "1.5.0",
      "model_name": "HTMLModel",
      "state": {
       "layout": "IPY_MODEL_482b0efcdded4beeb994089baaeb5c56",
       "style": "IPY_MODEL_f47e8b1b57814b57806b88f01d1290b5",
       "value": " 7/7 [00:13]"
      }
     },
     "d955c9874a2d44e39f15827e1a2dc5b2": {
      "model_module": "@jupyter-widgets/base",
      "model_module_version": "1.2.0",
      "model_name": "LayoutModel",
      "state": {
       "display": "inline-flex",
       "flex_flow": "row wrap",
       "width": "500px"
      }
     },
     "da0aaa1c28a747d3bc2e892c6adac02e": {
      "model_module": "@jupyter-widgets/controls",
      "model_module_version": "1.5.0",
      "model_name": "FloatProgressModel",
      "state": {
       "bar_style": "success",
       "layout": "IPY_MODEL_056f46cf4a65454996accec24acc9bde",
       "max": 90,
       "style": "IPY_MODEL_bf7cd6f90e924329ba318ade0bcdc555",
       "value": 90
      }
     },
     "db9a6bff5959466cbe8dc8616589909d": {
      "model_module": "@jupyter-widgets/controls",
      "model_module_version": "1.5.0",
      "model_name": "FloatProgressModel",
      "state": {
       "bar_style": "success",
       "layout": "IPY_MODEL_dc2cc1ddfbb54239a5c42ccbb64ebe79",
       "max": 3393,
       "style": "IPY_MODEL_b3fe4e988a904e52b876a53fa2ca38d4",
       "value": 3393
      }
     },
     "dba86ff120d7406fa81accf638acc7b9": {
      "model_module": "@jupyter-widgets/controls",
      "model_module_version": "1.5.0",
      "model_name": "DescriptionStyleModel",
      "state": {
       "description_width": ""
      }
     },
     "dbbc0b198a5742fca7a5b47471a587ee": {
      "model_module": "@jupyter-widgets/base",
      "model_module_version": "1.2.0",
      "model_name": "LayoutModel",
      "state": {}
     },
     "dc2cc1ddfbb54239a5c42ccbb64ebe79": {
      "model_module": "@jupyter-widgets/base",
      "model_module_version": "1.2.0",
      "model_name": "LayoutModel",
      "state": {
       "flex": "2"
      }
     },
     "dd296874465242dc8976d74868f4bb40": {
      "model_module": "@jupyter-widgets/base",
      "model_module_version": "1.2.0",
      "model_name": "LayoutModel",
      "state": {
       "flex": "2"
      }
     },
     "df20c3a02ae94844a0cc0cc7cd44c72e": {
      "model_module": "@jupyter-widgets/base",
      "model_module_version": "1.2.0",
      "model_name": "LayoutModel",
      "state": {}
     },
     "dfa1c456fcbc468583e3599cf7e21f81": {
      "model_module": "@jupyter-widgets/controls",
      "model_module_version": "1.5.0",
      "model_name": "HTMLModel",
      "state": {
       "layout": "IPY_MODEL_86a7eab7d5f040d89b91c25447750e20",
       "style": "IPY_MODEL_15dd3514d4f145dcb44dcd8da6abb72e",
       "value": " 30/30 [00:04]"
      }
     },
     "e092bb13e3a94e9b8fa752836dc18c60": {
      "model_module": "@jupyter-widgets/base",
      "model_module_version": "1.2.0",
      "model_name": "LayoutModel",
      "state": {}
     },
     "e0a57e4d5cf44093854e432cca0eda5e": {
      "model_module": "@jupyter-widgets/controls",
      "model_module_version": "1.5.0",
      "model_name": "HBoxModel",
      "state": {
       "children": [
        "IPY_MODEL_8e40a29543684b7e854a50f5523f38e2",
        "IPY_MODEL_8d9a055f9ef54e8b902fa33b0b39ca96",
        "IPY_MODEL_29075a78b84a4935a554549073d1ebd1"
       ],
       "layout": "IPY_MODEL_2bd6fc5b74094210a7298e9bfc921f95"
      }
     },
     "e0de7e03cd134f728b35cb94ca785b40": {
      "model_module": "@jupyter-widgets/controls",
      "model_module_version": "1.5.0",
      "model_name": "ProgressStyleModel",
      "state": {
       "bar_color": "#34abeb",
       "description_width": ""
      }
     },
     "e1b6f3af067d4db9a97ff1225c88696c": {
      "model_module": "@jupyter-widgets/controls",
      "model_module_version": "1.5.0",
      "model_name": "DescriptionStyleModel",
      "state": {
       "description_width": ""
      }
     },
     "e38a975ca4ee400f97a235745457f325": {
      "model_module": "@jupyter-widgets/controls",
      "model_module_version": "1.5.0",
      "model_name": "ProgressStyleModel",
      "state": {
       "bar_color": "#34abeb",
       "description_width": ""
      }
     },
     "e434d50bc1574540befc2880e062360f": {
      "model_module": "@jupyter-widgets/controls",
      "model_module_version": "1.5.0",
      "model_name": "DescriptionStyleModel",
      "state": {
       "description_width": ""
      }
     },
     "e44374b78ea64f3b89b905c328d25427": {
      "model_module": "@jupyter-widgets/controls",
      "model_module_version": "1.5.0",
      "model_name": "HTMLModel",
      "state": {
       "layout": "IPY_MODEL_96086b7f478e49bc9cff33ac68ec630f",
       "style": "IPY_MODEL_2e1424d97f1a41578cad29e5462c95ce",
       "value": "Smoothening KNN distances: 100%| "
      }
     },
     "e453c0ef569c4f3f8e952b8bd6a9025b": {
      "model_module": "@jupyter-widgets/base",
      "model_module_version": "1.2.0",
      "model_name": "LayoutModel",
      "state": {
       "flex": "2"
      }
     },
     "e560327de14e4bf99fd5148f0630967d": {
      "model_module": "@jupyter-widgets/controls",
      "model_module_version": "1.5.0",
      "model_name": "HBoxModel",
      "state": {
       "children": [
        "IPY_MODEL_4f4392e428334f8392c3516399a4713a",
        "IPY_MODEL_72c92e7b5bd84dcba5660172c55f9cf4",
        "IPY_MODEL_1c81daad6461498eb5c9c5ba7b10f416"
       ],
       "layout": "IPY_MODEL_8aff2c6024bb4968b2e2cef4a55d98cf"
      }
     },
     "e5e76696c2194e3da2d81b2edacdd0bf": {
      "model_module": "@jupyter-widgets/controls",
      "model_module_version": "1.5.0",
      "model_name": "ProgressStyleModel",
      "state": {
       "bar_color": "#34abeb",
       "description_width": ""
      }
     },
     "e7c2e71083314119ac165f1c10d83f98": {
      "model_module": "@jupyter-widgets/controls",
      "model_module_version": "1.5.0",
      "model_name": "HTMLModel",
      "state": {
       "layout": "IPY_MODEL_dbbc0b198a5742fca7a5b47471a587ee",
       "style": "IPY_MODEL_c68e7490c4594797b10ff99b9d6ef76e",
       "value": " 2190/2190 [00:01]"
      }
     },
     "e8aaba2124e745c1b926ba299832e22c": {
      "model_module": "@jupyter-widgets/base",
      "model_module_version": "1.2.0",
      "model_name": "LayoutModel",
      "state": {
       "display": "inline-flex",
       "flex_flow": "row wrap",
       "width": "500px"
      }
     },
     "e8da72df547f48cbae73f6bf4f090c80": {
      "model_module": "@jupyter-widgets/controls",
      "model_module_version": "1.5.0",
      "model_name": "HTMLModel",
      "state": {
       "layout": "IPY_MODEL_24fcd55cbdf7452dbe7967ebb832b834",
       "style": "IPY_MODEL_5be58bcbe3a14b2db14228281e3383c6",
       "value": " 2460/2460 [00:01]"
      }
     },
     "e9308549018e4eab87e6ed9c94f88fd6": {
      "model_module": "@jupyter-widgets/controls",
      "model_module_version": "1.5.0",
      "model_name": "HTMLModel",
      "state": {
       "layout": "IPY_MODEL_34940b78ec614819b91370e519226cc2",
       "style": "IPY_MODEL_06c623f6b0334d81a0299e3ca750566d",
       "value": "Calculating mean of norm. data: 100%| "
      }
     },
     "e9401f922f4f480faf47f8e893c3bfdf": {
      "model_module": "@jupyter-widgets/base",
      "model_module_version": "1.2.0",
      "model_name": "LayoutModel",
      "state": {}
     },
     "eb516e532c6a44dd946732cbca202cc1": {
      "model_module": "@jupyter-widgets/base",
      "model_module_version": "1.2.0",
      "model_name": "LayoutModel",
      "state": {
       "flex": "2"
      }
     },
     "ec4bd74afb524de5a1f529b05f264143": {
      "model_module": "@jupyter-widgets/base",
      "model_module_version": "1.2.0",
      "model_name": "LayoutModel",
      "state": {}
     },
     "ecadce7e39844d9d8b0c7e391ed1a033": {
      "model_module": "@jupyter-widgets/controls",
      "model_module_version": "1.5.0",
      "model_name": "ProgressStyleModel",
      "state": {
       "bar_color": "#34abeb",
       "description_width": ""
      }
     },
     "ee249d70edfc49dbb87d9ef9025c9949": {
      "model_module": "@jupyter-widgets/controls",
      "model_module_version": "1.5.0",
      "model_name": "FloatProgressModel",
      "state": {
       "bar_style": "success",
       "layout": "IPY_MODEL_eb516e532c6a44dd946732cbca202cc1",
       "max": 2556,
       "style": "IPY_MODEL_b2b2646e75064dc3bb435b65032e4eef",
       "value": 2556
      }
     },
     "ee3fd4c56ade4e38a412d28defd6ab4e": {
      "model_module": "@jupyter-widgets/controls",
      "model_module_version": "1.5.0",
      "model_name": "DescriptionStyleModel",
      "state": {
       "description_width": ""
      }
     },
     "ef94997ff1674f46944df9a5c628abaa": {
      "model_module": "@jupyter-widgets/controls",
      "model_module_version": "1.5.0",
      "model_name": "HTMLModel",
      "state": {
       "layout": "IPY_MODEL_f337089055d4447ea56b66296504b82b",
       "style": "IPY_MODEL_3b6f0f606ec84f40b3e40180cad462a8",
       "value": "Writing data to merged file: 100%| "
      }
     },
     "efb147b564de41f7af0027ba9614e0aa": {
      "model_module": "@jupyter-widgets/base",
      "model_module_version": "1.2.0",
      "model_name": "LayoutModel",
      "state": {
       "flex": "2"
      }
     },
     "f1e2ae60d6a642f6a4f7cb0ec850bf1f": {
      "model_module": "@jupyter-widgets/controls",
      "model_module_version": "1.5.0",
      "model_name": "DescriptionStyleModel",
      "state": {
       "description_width": ""
      }
     },
     "f2e01331adf24e16b27544eb1e764c84": {
      "model_module": "@jupyter-widgets/controls",
      "model_module_version": "1.5.0",
      "model_name": "FloatProgressModel",
      "state": {
       "bar_style": "success",
       "layout": "IPY_MODEL_f362f79320b440bc9686acc8652e6827",
       "max": 2310,
       "style": "IPY_MODEL_21d52cbc0fb4404c9e1b9e6438ba3510",
       "value": 2310
      }
     },
     "f337089055d4447ea56b66296504b82b": {
      "model_module": "@jupyter-widgets/base",
      "model_module_version": "1.2.0",
      "model_name": "LayoutModel",
      "state": {}
     },
     "f362f79320b440bc9686acc8652e6827": {
      "model_module": "@jupyter-widgets/base",
      "model_module_version": "1.2.0",
      "model_name": "LayoutModel",
      "state": {
       "flex": "2"
      }
     },
     "f421442c693845e4aae7bdf8799c89a9": {
      "model_module": "@jupyter-widgets/controls",
      "model_module_version": "1.5.0",
      "model_name": "FloatProgressModel",
      "state": {
       "bar_style": "success",
       "layout": "IPY_MODEL_6db56b8e0cba421b897961c2b238e915",
       "max": 19,
       "style": "IPY_MODEL_401c67b3118c4093b899748378d57ca3",
       "value": 19
      }
     },
     "f47e8b1b57814b57806b88f01d1290b5": {
      "model_module": "@jupyter-widgets/controls",
      "model_module_version": "1.5.0",
      "model_name": "DescriptionStyleModel",
      "state": {
       "description_width": ""
      }
     },
     "f506edf97f7c49d09720bea0c2b4c2d0": {
      "model_module": "@jupyter-widgets/base",
      "model_module_version": "1.2.0",
      "model_name": "LayoutModel",
      "state": {
       "flex": "2"
      }
     },
     "f5c6b2a1fa0a4c0294e9f531366a5c02": {
      "model_module": "@jupyter-widgets/controls",
      "model_module_version": "1.5.0",
      "model_name": "HTMLModel",
      "state": {
       "layout": "IPY_MODEL_9996617cbb094033a5cc1c7098b45190",
       "style": "IPY_MODEL_0ade0b97c7244b8ab8fd63fa41dc2b8f",
       "value": "Calculating std. dev. of norm. data: 100%| "
      }
     },
     "f6277513a3b847b7aad52d392b245d2d": {
      "model_module": "@jupyter-widgets/controls",
      "model_module_version": "1.5.0",
      "model_name": "DescriptionStyleModel",
      "state": {
       "description_width": ""
      }
     },
     "f89f7639d6c14004b371510f18961303": {
      "model_module": "@jupyter-widgets/base",
      "model_module_version": "1.2.0",
      "model_name": "LayoutModel",
      "state": {
       "flex": "2"
      }
     },
     "f91c3e6f70314c6fae5f90aa2ae490a5": {
      "model_module": "@jupyter-widgets/controls",
      "model_module_version": "1.5.0",
      "model_name": "HBoxModel",
      "state": {
       "children": [
        "IPY_MODEL_1e94fb3255d148d6b66fb0e35ab9e83f",
        "IPY_MODEL_67261a5b571048a3b3e13db7b04796e0",
        "IPY_MODEL_19a0b57a097c42e7a77c095bfeb30116"
       ],
       "layout": "IPY_MODEL_d2a4be1a546c4455a667ed0b964103eb"
      }
     },
     "f951dddead794f0e803d8b99578b2364": {
      "model_module": "@jupyter-widgets/controls",
      "model_module_version": "1.5.0",
      "model_name": "FloatProgressModel",
      "state": {
       "bar_style": "success",
       "layout": "IPY_MODEL_1606af8464a6471083b4bedf1f43f5c4",
       "max": 8,
       "style": "IPY_MODEL_4724451dc19c496bae53a446f678ef0d",
       "value": 8
      }
     },
     "f9a72a11037f43bf9d09cb3450e0f86d": {
      "model_module": "@jupyter-widgets/base",
      "model_module_version": "1.2.0",
      "model_name": "LayoutModel",
      "state": {}
     },
     "f9e0fcdd639c4925b535be81b1d957dc": {
      "model_module": "@jupyter-widgets/base",
      "model_module_version": "1.2.0",
      "model_name": "LayoutModel",
      "state": {
       "display": "inline-flex",
       "flex_flow": "row wrap",
       "width": "500px"
      }
     },
     "fbb8fe1be39643bca40ebb2db0ffdb35": {
      "model_module": "@jupyter-widgets/controls",
      "model_module_version": "1.5.0",
      "model_name": "HTMLModel",
      "state": {
       "layout": "IPY_MODEL_d6f205c1786645f8aa16a6ccbdb8d1af",
       "style": "IPY_MODEL_31aaa4914c594398a5de8974350ed70f",
       "value": " 3393/3393 [00:03]"
      }
     },
     "fcea36e7abf947e99a523041e8b8475d": {
      "model_module": "@jupyter-widgets/controls",
      "model_module_version": "1.5.0",
      "model_name": "HTMLModel",
      "state": {
       "layout": "IPY_MODEL_8376b3a3f7614fbdaf5f1d08e88c983d",
       "style": "IPY_MODEL_b7db0c50c93143e3ae04b3ec0856e584",
       "value": "Calculating std. dev. of norm. data: 100%| "
      }
     },
     "fd263d6ec8da4d569d8bddaca033216c": {
      "model_module": "@jupyter-widgets/base",
      "model_module_version": "1.2.0",
      "model_name": "LayoutModel",
      "state": {}
     }
    },
    "version_major": 2,
    "version_minor": 0
   }
  }
 },
 "nbformat": 4,
 "nbformat_minor": 5
}
