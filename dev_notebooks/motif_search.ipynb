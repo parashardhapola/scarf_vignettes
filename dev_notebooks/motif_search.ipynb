{
 "cells": [
  {
   "cell_type": "code",
   "execution_count": 1,
   "id": "817cf883-efb7-470c-b36f-c43e5e7a2a87",
   "metadata": {},
   "outputs": [],
   "source": [
    "import numpy as np\n",
    "from itertools import product\n",
    "from glob import glob\n",
    "from tqdm.auto import tqdm\n",
    "import gzip\n",
    "import pandas as pd\n",
    "import re\n",
    "from joblib import Parallel, delayed"
   ]
  },
  {
   "cell_type": "code",
   "execution_count": 2,
   "id": "fa2acb07-27bd-4e51-9918-2292f7313425",
   "metadata": {},
   "outputs": [
    {
     "name": "stdout",
     "output_type": "stream",
     "text": [
      "C:\\Users\\parashar\\Desktop\\ucsc\n"
     ]
    }
   ],
   "source": [
    "cd C:/Users/parashar/Desktop/ucsc"
   ]
  },
  {
   "cell_type": "code",
   "execution_count": 3,
   "id": "28268d99-54a7-4ab7-b928-6e1008e35428",
   "metadata": {},
   "outputs": [],
   "source": [
    "def meme_reader(fn):\n",
    "    a = []\n",
    "    with open(fn) as h:\n",
    "        while True:\n",
    "            l = next(h)\n",
    "            if l.startswith('ALPHABET'):\n",
    "                base_map = dict(enumerate(l.split('= ')[1].rstrip('\\n')))\n",
    "                assert len(base_map) == 4\n",
    "            elif l.startswith('MOTIF'):\n",
    "                m_name = l.rstrip('\\n').split(' ')[-1]\n",
    "            elif l.startswith('letter-probability'):\n",
    "                break\n",
    "        for l in h:\n",
    "            if l.startswith('URL'):\n",
    "                break\n",
    "            a.append(l.strip().split('  '))\n",
    "    a = np.array(a).astype(float)\n",
    "    return m_name.upper(), a, base_map\n",
    "\n",
    "def make_sequences(pwm, base_map, meme_fn, min_base_prob=0.25, top_n=10):\n",
    "    bases = []\n",
    "    for n,i in enumerate(pwm > min_base_prob):\n",
    "        pos = list(np.where(i)[0])\n",
    "        if len(pos) == 0:\n",
    "            bases.append([pwm[n].argmax()])\n",
    "        else:\n",
    "            bases.append(list(np.where(i)[0]))\n",
    "    combinations = np.array([list(x) for x in product(*bases)])\n",
    "    comb_values = np.choose(combinations, pwm.T).sum(axis=1)/combinations.shape[1]\n",
    "    idx = comb_values.argsort()[-10:]\n",
    "    seq = np.array([list(map(base_map.get,x)) for x in combinations[idx]])\n",
    "    return seq, comb_values[idx]\n",
    "\n",
    "def make_pattern(seq_matrix):\n",
    "    assert len(seq_matrix) > 0\n",
    "    p = \"\"\n",
    "    for i in range(seq_matrix.shape[1]):\n",
    "        s = list(set(seq_matrix[:, i]))\n",
    "        if len(s) == 1:\n",
    "            p += s[0]\n",
    "        else:\n",
    "            p += f\"[{''.join(s)}]\"\n",
    "    return p\n",
    "\n",
    "def prep_motifs(meme_dir):\n",
    "    ret_val = {}\n",
    "    for meme_fn in tqdm(sorted(glob(f\"{meme_dir}/*.meme\"))):\n",
    "        m_name, pwm, base_map = meme_reader(meme_fn)\n",
    "        a, b = make_sequences(pwm, base_map, meme_fn)\n",
    "        pat = make_pattern(a)\n",
    "        if m_name in ret_val:\n",
    "            print (f\"WARNING: Duplicate name: {m_name}\")\n",
    "        ret_val[m_name] = {\n",
    "            'pattern': re.compile(pat),\n",
    "            'sequences': [''.join(x) for x in a],\n",
    "            'scores': list(b.round(5))\n",
    "        }\n",
    "    return ret_val\n",
    "\n",
    "def find_motifs(motifs, chrom_seq, chrom_coords, chrom, disable_tqdm=True):\n",
    "    res = {}\n",
    "    for i in tqdm(chrom_coords.values, desc=chrom, total=chrom_coords.shape[0], disable=disable_tqdm):\n",
    "        s = chrom_seq[i[0]:i[1]]\n",
    "        c_name = f\"{chrom}:{i[0]}-{i[1]}\"\n",
    "        res[c_name] = {}\n",
    "        for m in motifs:\n",
    "            a = motifs[m]['pattern'].findall(s)\n",
    "            score = None\n",
    "            if len(a) > 0:\n",
    "                a = list(set(a))\n",
    "                try:\n",
    "                    score = motifs[m]['scores'][motifs[m]['sequences'].index(a[0])]\n",
    "                except ValueError:\n",
    "                    score = None\n",
    "                if len(a) > 1:\n",
    "                    for j in a[1:]:\n",
    "                        try:\n",
    "                            temp = motifs[m]['scores'][motifs[m]['sequences'].index(j)]\n",
    "                        except ValueError:\n",
    "                            pass\n",
    "                        else:\n",
    "                            if score is None:\n",
    "                                score = temp\n",
    "                            elif temp > score:\n",
    "                                score = temp\n",
    "            if score is not None:\n",
    "                res[c_name][m] = score\n",
    "    return res\n",
    "\n",
    "def generate_stream(intervals_fn, chrom_dir):\n",
    "    coords = pd.read_csv(intervals_fn, sep='\\t', header=None)\n",
    "    chroms = [f\"chr{x}\" for x in range(1, 23)] + ['chrX', 'chrY']\n",
    "    res = []\n",
    "    for chrom in chroms:\n",
    "        h = gzip.open(f\"{chrom_dir}/{chrom}.fa.gz\", mode='rt')\n",
    "        next(h)\n",
    "        cs = ''.join([x.rstrip('\\n').upper() for x in h])\n",
    "        df = coords[coords[0] == chrom][[1, 2]]\n",
    "        yield cs, df, chrom"
   ]
  },
  {
   "cell_type": "code",
   "execution_count": 4,
   "id": "6b3163b7-e1a4-4ab1-8a6c-ce3ca5c4c094",
   "metadata": {},
   "outputs": [
    {
     "data": {
      "application/vnd.jupyter.widget-view+json": {
       "model_id": "4f4c7854fd0f4902aa3f9c5dc65a6018",
       "version_major": 2,
       "version_minor": 0
      },
      "text/plain": [
       "  0%|          | 0/841 [00:00<?, ?it/s]"
      ]
     },
     "metadata": {},
     "output_type": "display_data"
    }
   ],
   "source": [
    "motifs_info = prep_motifs('jaspar')"
   ]
  },
  {
   "cell_type": "code",
   "execution_count": 7,
   "id": "47c926c7-7aa9-4b44-8edd-235a07352cb8",
   "metadata": {},
   "outputs": [
    {
     "data": {
      "application/vnd.jupyter.widget-view+json": {
       "model_id": "ad3871357250418ea2d241eb3da5f1e0",
       "version_major": 2,
       "version_minor": 0
      },
      "text/plain": [
       "0it [00:00, ?it/s]"
      ]
     },
     "metadata": {},
     "output_type": "display_data"
    }
   ],
   "source": [
    "res = Parallel(n_jobs=4)(delayed(find_motifs)(motifs_info, i, j, k) for i,j,k in tqdm(generate_stream('C:/Users/parashar/Desktop/ucsc/coord.bed', 'hg38')))\n",
    "res = {k: v for d in res for k, v in d.items()}"
   ]
  },
  {
   "cell_type": "code",
   "execution_count": 44,
   "id": "a2d7f83c-9687-4428-b289-7af12577b2ee",
   "metadata": {},
   "outputs": [],
   "source": [
    "peaks = list(res.keys())\n",
    "features = {x: n for n,x in enumerate(sorted(set([item for sublist in [list(x.keys()) for x in res.values()] for item in sublist])))}"
   ]
  },
  {
   "cell_type": "code",
   "execution_count": 34,
   "id": "9f47688e-9a59-4932-9017-80a4e8f6cd77",
   "metadata": {},
   "outputs": [],
   "source": [
    "import scipy.sparse as ss"
   ]
  },
  {
   "cell_type": "code",
   "execution_count": 58,
   "id": "ca468ca1-d810-473e-b7b8-eaf7f0a745ab",
   "metadata": {},
   "outputs": [],
   "source": [
    "m = ss.lil_matrix((len(peaks), len(features)))\n",
    "m"
   ]
  },
  {
   "cell_type": "code",
   "execution_count": 59,
   "id": "1e206487-31a5-4b38-a0ad-f8c8e624da6a",
   "metadata": {},
   "outputs": [],
   "source": [
    "for n,i in enumerate(res):\n",
    "    idx = list(map(features.get, res[i].keys()))\n",
    "    if len(idx) > 0:\n",
    "        m[n, idx] = list(res[i].values())"
   ]
  },
  {
   "cell_type": "code",
   "execution_count": 64,
   "id": "a19f9db7-ebb6-472e-9fcb-f89665c1406a",
   "metadata": {},
   "outputs": [
    {
     "data": {
      "text/plain": [
       "1.5476779666986773"
      ]
     },
     "execution_count": 64,
     "metadata": {},
     "output_type": "execute_result"
    }
   ],
   "source": [
    "100*m.nnz/(m.shape[0]*m.shape[1])"
   ]
  },
  {
   "cell_type": "code",
   "execution_count": null,
   "id": "6c574b1f-4d62-45cf-a45b-864b35ea36db",
   "metadata": {},
   "outputs": [],
   "source": []
  }
 ],
 "metadata": {
  "kernelspec": {
   "display_name": "Python 3 (ipykernel)",
   "language": "python",
   "name": "python3"
  },
  "language_info": {
   "codemirror_mode": {
    "name": "ipython",
    "version": 3
   },
   "file_extension": ".py",
   "mimetype": "text/x-python",
   "name": "python",
   "nbconvert_exporter": "python",
   "pygments_lexer": "ipython3",
   "version": "3.9.12"
  }
 },
 "nbformat": 4,
 "nbformat_minor": 5
}
