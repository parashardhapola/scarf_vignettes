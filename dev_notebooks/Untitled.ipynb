{
 "cells": [
  {
   "cell_type": "code",
   "execution_count": null,
   "id": "b14a7b2e-d73d-4fdf-a147-2dabc2bed094",
   "metadata": {},
   "outputs": [],
   "source": []
  },
  {
   "cell_type": "code",
   "execution_count": null,
   "id": "9493a041-8f19-4b2a-81d9-188710c4b7f5",
   "metadata": {},
   "outputs": [],
   "source": []
  },
  {
   "cell_type": "code",
   "execution_count": null,
   "id": "bf38e1f4-c3e5-40cd-9aa1-ad69fd3cbeeb",
   "metadata": {},
   "outputs": [],
   "source": [
    "import matplotlib.pyplot as plt\n",
    "import numpy as np\n",
    "\n",
    "fig, axis = plt.subplots(1, 4, figsize=(16, 3))\n",
    "axis[0].scatter(df.frac_exp, df.score, s=10)\n",
    "axis[1].scatter(np.log2(df['mean']), df.score, s=10)\n",
    "axis[2].scatter(np.log2(df.fold_change), df.score, s=10)\n",
    "axis[3].scatter(df.frac_exp_rest, df.score, s=10)\n",
    "plt.show()"
   ]
  }
 ],
 "metadata": {
  "kernelspec": {
   "display_name": "Python 3 (ipykernel)",
   "language": "python",
   "name": "python3"
  },
  "language_info": {
   "codemirror_mode": {
    "name": "ipython",
    "version": 3
   },
   "file_extension": ".py",
   "mimetype": "text/x-python",
   "name": "python",
   "nbconvert_exporter": "python",
   "pygments_lexer": "ipython3",
   "version": "3.9.12"
  }
 },
 "nbformat": 4,
 "nbformat_minor": 5
}
