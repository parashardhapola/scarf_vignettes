{
 "cells": [
  {
   "cell_type": "code",
   "execution_count": 1,
   "id": "296c18fa-7549-49f7-84dd-555510c46e5f",
   "metadata": {},
   "outputs": [
    {
     "name": "stdout",
     "output_type": "stream",
     "text": [
      "time: 1.36 s (started: 2021-08-18 02:43:10 +02:00)\n"
     ]
    }
   ],
   "source": [
    "%load_ext autotime\n",
    "\n",
    "import tiledb\n",
    "import numpy as np\n",
    "import scarf\n",
    "from tqdm.auto import tqdm\n",
    "import sparse\n",
    "from numba import jit"
   ]
  },
  {
   "cell_type": "code",
   "execution_count": 2,
   "id": "bc8c7e03-1622-433f-bf9b-5286bb656fe9",
   "metadata": {},
   "outputs": [
    {
     "name": "stdout",
     "output_type": "stream",
     "text": [
      "time: 0 ns (started: 2021-08-18 02:43:12 +02:00)\n"
     ]
    }
   ],
   "source": [
    "# scarf.fetch_dataset('tenx_10K_pbmc_atacseq', save_path='scarf_datasets')"
   ]
  },
  {
   "cell_type": "code",
   "execution_count": 3,
   "id": "b3df056c-06f5-4056-a519-8029a6725e7f",
   "metadata": {},
   "outputs": [
    {
     "name": "stdout",
     "output_type": "stream",
     "text": [
      "time: 0 ns (started: 2021-08-18 02:43:12 +02:00)\n"
     ]
    }
   ],
   "source": [
    "def make_tildb_schema(fn: str, n_cells: int, n_features: int,\n",
    "                      cell_t_size: int = 1000, feature_t_size: int = 20000,\n",
    "                      dtype: str = 'uint32', use_compression: bool = False):\n",
    "    \n",
    "    import pathlib\n",
    "    import shutil\n",
    "    \n",
    "    fn = pathlib.Path(fn)\n",
    "    if fn.exists():\n",
    "        shutil.rmtree(str(fn.absolute()))\n",
    "        \n",
    "    if use_compression:\n",
    "        filter_list = tiledb.FilterList([tiledb.LZ4Filter(level=10)])\n",
    "    else:\n",
    "        filter_list = []\n",
    "        \n",
    "    if feature_t_size is None:\n",
    "        feature_t_size = n_features\n",
    "    \n",
    "    cell_t_size = max(1, min(cell_t_size, n_cells))\n",
    "    feature_t_size = max(1, min(feature_t_size, n_features))\n",
    "\n",
    "    dim1 = tiledb.Dim(name=\"cells\", domain=(0, n_cells-1), tile=cell_t_size, dtype=np.uint64)\n",
    "    dim2 = tiledb.Dim(name=\"features\", domain=(0, n_features-1), tile=feature_t_size, dtype=np.uint64)\n",
    "    dom = tiledb.Domain(dim1, dim2)\n",
    "    attr = tiledb.Attr(name=\"counts\", dtype=dtype, filters=filter_list)\n",
    "\n",
    "    schema = tiledb.ArraySchema(domain=dom, attrs=[attr], sparse=True, \n",
    "                                tile_order='row-major', cell_order='row-major')\n",
    "    schema.check()\n",
    "    tiledb.Array.create(array_name, schema)"
   ]
  },
  {
   "cell_type": "code",
   "execution_count": 13,
   "id": "5518796b-777b-4c85-84fe-34f71ade3948",
   "metadata": {},
   "outputs": [
    {
     "name": "stdout",
     "output_type": "stream",
     "text": [
      "time: 156 ms (started: 2021-08-18 12:15:51 +02:00)\n"
     ]
    }
   ],
   "source": [
    "# reader = scarf.CrH5Reader(\"scarf_datasets/tenx_5K_pbmc_rnaseq/data.h5\", 'rna')\n",
    "reader = scarf.CrH5Reader(\"scarf_datasets/tenx_10K_pbmc_atacseq/data.h5\", 'atac')\n",
    "array_name = 'tildb_pbmc_10k'\n",
    "make_tildb_schema(array_name, reader.nCells, reader.nFeatures, use_compression=False, cell_t_size=500, feature_t_size=None)"
   ]
  },
  {
   "cell_type": "code",
   "execution_count": 14,
   "id": "97f2eade-c2d5-4f1e-8756-f00a7f99092b",
   "metadata": {},
   "outputs": [
    {
     "name": "stdout",
     "output_type": "stream",
     "text": [
      "time: 0 ns (started: 2021-08-18 12:15:53 +02:00)\n"
     ]
    }
   ],
   "source": [
    "@jit(nopython=True)\n",
    "def update_vals(coords, coords_map, cell_coords):\n",
    "    m = coords.shape[0]\n",
    "    cur = coords_map.max() + 1\n",
    "    updated_coords = np.zeros(m).astype(coords.dtype)\n",
    "    for i in range(m):\n",
    "        if coords_map[coords[i]] == -1:\n",
    "            coords_map[coords[i]] = cur\n",
    "            cur += 1\n",
    "        updated_coords[i] = coords_map[coords[i]]\n",
    "    \n",
    "    diff = cell_coords[1:] - cell_coords[:-1]\n",
    "    p = np.where(diff == 1)[0] + 1\n",
    "    s = 0\n",
    "    sorted_coords = -1 * np.ones(m)\n",
    "    for i in range(p.shape[0]):\n",
    "        e = p[i]\n",
    "        sorted_coords[s:e] = sorted(updated_coords[s:e])\n",
    "        s = e\n",
    "    sorted_coords[s:m] = sorted(updated_coords[s:m])\n",
    "    return sorted_coords.astype(coords.dtype), coords_map"
   ]
  },
  {
   "cell_type": "code",
   "execution_count": 15,
   "id": "3f117c0e-4caf-4265-9c87-deaf0365c041",
   "metadata": {},
   "outputs": [
    {
     "data": {
      "application/vnd.jupyter.widget-view+json": {
       "model_id": "91eac70acb6a472c9958da320d94116e",
       "version_major": 2,
       "version_minor": 0
      },
      "text/plain": [
       "0it [00:00, ?it/s]"
      ]
     },
     "metadata": {},
     "output_type": "display_data"
    },
    {
     "name": "stdout",
     "output_type": "stream",
     "text": [
      "time: 1min 13s (started: 2021-08-18 12:15:53 +02:00)\n"
     ]
    }
   ],
   "source": [
    "s = 0\n",
    "cm = -1*np.ones(reader.nFeatures).astype(int)\n",
    "t = {}\n",
    "with tiledb.open(array_name, 'w') as A:\n",
    "    for i in tqdm(reader.consume(batch_size=500, lines_in_mem=1000000)):\n",
    "        uc, cm = update_vals(i.coords[1], cm, i.coords[0])\n",
    "        for j in i.coords[1]:\n",
    "            t[j] = None    \n",
    "        assert np.unique(cm).shape[0] - cm.max() == 2\n",
    "        assert uc.shape == i.coords[1].shape\n",
    "        assert (uc == -1).sum() == 0\n",
    "        A[i.coords[0]+s, uc] = i.data\n",
    "        s += i.shape[0]"
   ]
  },
  {
   "cell_type": "code",
   "execution_count": null,
   "id": "14e37790-4723-48a8-b5f9-972c0c441828",
   "metadata": {},
   "outputs": [
    {
     "data": {
      "application/vnd.jupyter.widget-view+json": {
       "model_id": "998a2b9acd1b46cd907b8ccd7b6bf69b",
       "version_major": 2,
       "version_minor": 0
      },
      "text/plain": [
       "  0%|          | 0/20 [00:00<?, ?it/s]"
      ]
     },
     "metadata": {},
     "output_type": "display_data"
    }
   ],
   "source": [
    "batch_size = 500\n",
    "s = 0\n",
    "with tiledb.open(array_name) as A:\n",
    "    for e in tqdm(np.arange(batch_size, reader.nCells+batch_size, batch_size)):\n",
    "        if e > reader.nCells:\n",
    "            e = reader.nCells\n",
    "        a = A[s:e, :]\n",
    "#         a = sparse.COO([a['cells']-s, a['features']], data=a['counts'], shape=(e-s, n_features))"
   ]
  },
  {
   "cell_type": "code",
   "execution_count": null,
   "id": "93cbb78e-4096-477e-84f6-66c50832906b",
   "metadata": {},
   "outputs": [],
   "source": []
  },
  {
   "cell_type": "code",
   "execution_count": null,
   "id": "0b4f7d61-7d18-4d8e-8812-0432a413f919",
   "metadata": {},
   "outputs": [],
   "source": []
  },
  {
   "cell_type": "code",
   "execution_count": 153,
   "id": "e6a54b87-ad9b-43fc-831f-b92fc6f530a6",
   "metadata": {},
   "outputs": [
    {
     "data": {
      "text/plain": [
       "(90449, 237)"
      ]
     },
     "execution_count": 153,
     "metadata": {},
     "output_type": "execute_result"
    },
    {
     "name": "stdout",
     "output_type": "stream",
     "text": [
      "time: 15 ms (started: 2021-08-18 02:34:34 +02:00)\n"
     ]
    }
   ],
   "source": [
    "len(t), reader.nFeatures- len(t)"
   ]
  },
  {
   "cell_type": "code",
   "execution_count": 7,
   "id": "b7b32481-f67a-41bb-b8f1-a322df36c69f",
   "metadata": {},
   "outputs": [
    {
     "data": {
      "text/plain": [
       "array([    1,    13,    17, ..., 88572, 89438, 89727], dtype=int64)"
      ]
     },
     "execution_count": 7,
     "metadata": {},
     "output_type": "execute_result"
    },
    {
     "name": "stdout",
     "output_type": "stream",
     "text": [
      "time: 15 ms (started: 2021-08-18 12:08:16 +02:00)\n"
     ]
    }
   ],
   "source": [
    "uc"
   ]
  },
  {
   "cell_type": "code",
   "execution_count": 148,
   "id": "0c229ec2-3798-4160-bd94-74bf437a0b34",
   "metadata": {},
   "outputs": [
    {
     "data": {
      "text/plain": [
       "array([   10,    22,    23, ..., 90677, 90678, 90680], dtype=int64)"
      ]
     },
     "execution_count": 148,
     "metadata": {},
     "output_type": "execute_result"
    },
    {
     "name": "stdout",
     "output_type": "stream",
     "text": [
      "time: 0 ns (started: 2021-08-18 02:31:46 +02:00)\n"
     ]
    }
   ],
   "source": [
    "i.coords[1]"
   ]
  },
  {
   "cell_type": "code",
   "execution_count": 149,
   "id": "bf150cbc-489e-436c-893f-7c16a9bdd6dc",
   "metadata": {},
   "outputs": [
    {
     "data": {
      "text/plain": [
       "237"
      ]
     },
     "execution_count": 149,
     "metadata": {},
     "output_type": "execute_result"
    },
    {
     "name": "stdout",
     "output_type": "stream",
     "text": [
      "time: 0 ns (started: 2021-08-18 02:32:01 +02:00)\n"
     ]
    }
   ],
   "source": [
    "(cm == -1).sum()"
   ]
  },
  {
   "cell_type": "code",
   "execution_count": 77,
   "id": "a521e0bd-050a-4564-9c6b-c750a112098c",
   "metadata": {},
   "outputs": [
    {
     "data": {
      "text/plain": [
       "array([86169, 86197, 86237, 86239, 86271, 86277, 86277, 86295, 86328,\n",
       "       86354], dtype=int64)"
      ]
     },
     "execution_count": 77,
     "metadata": {},
     "output_type": "execute_result"
    },
    {
     "name": "stdout",
     "output_type": "stream",
     "text": [
      "time: 0 ns (started: 2021-08-18 02:08:13 +02:00)\n"
     ]
    }
   ],
   "source": [
    "uc[112100-n:112100+n]"
   ]
  },
  {
   "cell_type": "code",
   "execution_count": 97,
   "id": "6edd9cb3-b5af-4a50-bd53-23f83e429ea7",
   "metadata": {},
   "outputs": [
    {
     "data": {
      "text/plain": [
       "array([    2,     9,    19, ..., 90657, 90662, 90674], dtype=int64)"
      ]
     },
     "execution_count": 97,
     "metadata": {},
     "output_type": "execute_result"
    },
    {
     "name": "stdout",
     "output_type": "stream",
     "text": [
      "time: 16 ms (started: 2021-08-18 02:11:23 +02:00)\n"
     ]
    }
   ],
   "source": [
    "i[12].coords[0]"
   ]
  },
  {
   "cell_type": "code",
   "execution_count": 99,
   "id": "05c855df-cd30-40aa-a8c5-9aeb54337ccd",
   "metadata": {},
   "outputs": [
    {
     "data": {
      "text/html": [
       "<table><tbody><tr><th style=\"text-align: left\">Format</th><td style=\"text-align: left\">coo</td></tr><tr><th style=\"text-align: left\">Data Type</th><td style=\"text-align: left\">int32</td></tr><tr><th style=\"text-align: left\">Shape</th><td style=\"text-align: left\">(90686,)</td></tr><tr><th style=\"text-align: left\">nnz</th><td style=\"text-align: left\">10882</td></tr><tr><th style=\"text-align: left\">Density</th><td style=\"text-align: left\">0.11999647134067</td></tr><tr><th style=\"text-align: left\">Read-only</th><td style=\"text-align: left\">True</td></tr><tr><th style=\"text-align: left\">Size</th><td style=\"text-align: left\">127.5K</td></tr><tr><th style=\"text-align: left\">Storage ratio</th><td style=\"text-align: left\">0.4</td></tr></tbody></table>"
      ],
      "text/plain": [
       "<COO: shape=(90686,), dtype=int32, nnz=10882, fill_value=0>"
      ]
     },
     "execution_count": 99,
     "metadata": {},
     "output_type": "execute_result"
    },
    {
     "name": "stdout",
     "output_type": "stream",
     "text": [
      "time: 0 ns (started: 2021-08-18 02:12:01 +02:00)\n"
     ]
    }
   ],
   "source": [
    "i[12]"
   ]
  },
  {
   "cell_type": "code",
   "execution_count": 113,
   "id": "e50bb26f-a7bd-4be8-a076-acd25053c38c",
   "metadata": {},
   "outputs": [
    {
     "data": {
      "text/plain": [
       "10882"
      ]
     },
     "execution_count": 113,
     "metadata": {},
     "output_type": "execute_result"
    },
    {
     "name": "stdout",
     "output_type": "stream",
     "text": [
      "time: 0 ns (started: 2021-08-18 02:13:57 +02:00)\n"
     ]
    }
   ],
   "source": [
    "idx = i.coords[0] == 12\n",
    "idx.sum()"
   ]
  },
  {
   "cell_type": "code",
   "execution_count": 107,
   "id": "b4273ff1-1750-4134-aeda-7763e2a89910",
   "metadata": {},
   "outputs": [
    {
     "data": {
      "text/plain": [
       "array([12, 12, 12, ..., 12, 12, 12], dtype=int64)"
      ]
     },
     "execution_count": 107,
     "metadata": {},
     "output_type": "execute_result"
    },
    {
     "name": "stdout",
     "output_type": "stream",
     "text": [
      "time: 0 ns (started: 2021-08-18 02:12:49 +02:00)\n"
     ]
    }
   ],
   "source": [
    "i.coords[0][idx]"
   ]
  },
  {
   "cell_type": "code",
   "execution_count": 121,
   "id": "a4d24af8-fcdb-4857-b585-b69ef9d0c9e9",
   "metadata": {},
   "outputs": [
    {
     "data": {
      "text/plain": [
       "(10882,)"
      ]
     },
     "execution_count": 121,
     "metadata": {},
     "output_type": "execute_result"
    },
    {
     "name": "stdout",
     "output_type": "stream",
     "text": [
      "time: 0 ns (started: 2021-08-18 02:15:56 +02:00)\n"
     ]
    }
   ],
   "source": [
    "np.unique(i.coords[1][idx]).shape"
   ]
  },
  {
   "cell_type": "code",
   "execution_count": 120,
   "id": "76cdcb37-303d-4839-85e3-416a94596d8a",
   "metadata": {},
   "outputs": [
    {
     "data": {
      "text/plain": [
       "(10881,)"
      ]
     },
     "execution_count": 120,
     "metadata": {},
     "output_type": "execute_result"
    },
    {
     "name": "stdout",
     "output_type": "stream",
     "text": [
      "time: 0 ns (started: 2021-08-18 02:15:39 +02:00)\n"
     ]
    }
   ],
   "source": [
    "np.unique(test[idx]).shape"
   ]
  },
  {
   "cell_type": "code",
   "execution_count": 122,
   "id": "0f843e15-af27-4e0e-9c5a-90f79af5f379",
   "metadata": {},
   "outputs": [
    {
     "data": {
      "text/plain": [
       "(10881,)"
      ]
     },
     "execution_count": 122,
     "metadata": {},
     "output_type": "execute_result"
    },
    {
     "name": "stdout",
     "output_type": "stream",
     "text": [
      "time: 0 ns (started: 2021-08-18 02:16:11 +02:00)\n"
     ]
    }
   ],
   "source": [
    "np.unique(uc[idx]).shape"
   ]
  },
  {
   "cell_type": "code",
   "execution_count": 117,
   "id": "69ef9fae-12da-4354-af43-01b7ea126eb4",
   "metadata": {},
   "outputs": [
    {
     "data": {
      "text/plain": [
       "True"
      ]
     },
     "execution_count": 117,
     "metadata": {},
     "output_type": "execute_result"
    },
    {
     "name": "stdout",
     "output_type": "stream",
     "text": [
      "time: 0 ns (started: 2021-08-18 02:15:05 +02:00)\n"
     ]
    }
   ],
   "source": [
    "np.alltrue(np.array([cm[x] for x in  i.coords[1][idx]]) == test[idx])"
   ]
  },
  {
   "cell_type": "code",
   "execution_count": 118,
   "id": "a560de71-79e4-4237-b9ac-b8f20ba239d5",
   "metadata": {},
   "outputs": [
    {
     "data": {
      "text/plain": [
       "True"
      ]
     },
     "execution_count": 118,
     "metadata": {},
     "output_type": "execute_result"
    },
    {
     "name": "stdout",
     "output_type": "stream",
     "text": [
      "time: 0 ns (started: 2021-08-18 02:15:21 +02:00)\n"
     ]
    }
   ],
   "source": [
    "np.alltrue(sorted([cm[x] for x in  i.coords[1][idx]]) == uc[idx])"
   ]
  },
  {
   "cell_type": "code",
   "execution_count": 79,
   "id": "b7ec4365-564a-48af-a76d-76c26050857f",
   "metadata": {},
   "outputs": [
    {
     "data": {
      "text/plain": [
       "array([89922, 89982, 89990, 89996, 90000, 90004, 90009, 90028, 90054,\n",
       "       90055], dtype=int64)"
      ]
     },
     "execution_count": 79,
     "metadata": {},
     "output_type": "execute_result"
    },
    {
     "name": "stdout",
     "output_type": "stream",
     "text": [
      "time: 15 ms (started: 2021-08-18 02:08:13 +02:00)\n"
     ]
    }
   ],
   "source": [
    "i.coords[1][112100-n:112100+n]"
   ]
  },
  {
   "cell_type": "code",
   "execution_count": 80,
   "id": "29d0ef00-cab1-4500-916e-2dbe878fa772",
   "metadata": {},
   "outputs": [
    {
     "data": {
      "text/plain": [
       "array([21708, 38601, 70483,  7186, 82005, 21717, 11295, 37645, 44677,\n",
       "        7191], dtype=int64)"
      ]
     },
     "execution_count": 80,
     "metadata": {},
     "output_type": "execute_result"
    },
    {
     "name": "stdout",
     "output_type": "stream",
     "text": [
      "time: 0 ns (started: 2021-08-18 02:08:13 +02:00)\n"
     ]
    }
   ],
   "source": [
    "test[112100-n:112100+n]"
   ]
  },
  {
   "cell_type": "code",
   "execution_count": 81,
   "id": "1b36f7f6-d9cb-48d3-8992-c4059771fee6",
   "metadata": {},
   "outputs": [
    {
     "data": {
      "text/plain": [
       "(13761, 31385, 82005, 11295)"
      ]
     },
     "execution_count": 81,
     "metadata": {},
     "output_type": "execute_result"
    },
    {
     "name": "stdout",
     "output_type": "stream",
     "text": [
      "time: 0 ns (started: 2021-08-18 02:08:14 +02:00)\n"
     ]
    }
   ],
   "source": [
    "cm[21717], cm[11295], cm[90000], cm[90009]"
   ]
  },
  {
   "cell_type": "code",
   "execution_count": 82,
   "id": "7c928815-a2ce-4804-8af1-b2d4e2f5e64c",
   "metadata": {},
   "outputs": [
    {
     "data": {
      "text/plain": [
       "array([[    0,     0,     0, ...,    99,    99,    99],\n",
       "       [   15,    19,    23, ..., 90629, 90644, 90662]], dtype=int64)"
      ]
     },
     "execution_count": 82,
     "metadata": {},
     "output_type": "execute_result"
    },
    {
     "name": "stdout",
     "output_type": "stream",
     "text": [
      "time: 0 ns (started: 2021-08-18 02:08:14 +02:00)\n"
     ]
    }
   ],
   "source": [
    "i.coords"
   ]
  },
  {
   "cell_type": "code",
   "execution_count": 71,
   "id": "b9ee3eb6-0cef-4b1b-be6c-2f64dc3dafce",
   "metadata": {},
   "outputs": [
    {
     "data": {
      "text/plain": [
       "array([    1,     4,     5, ..., 87956, 87957, 87958], dtype=int64)"
      ]
     },
     "execution_count": 71,
     "metadata": {},
     "output_type": "execute_result"
    },
    {
     "name": "stdout",
     "output_type": "stream",
     "text": [
      "time: 0 ns (started: 2021-08-18 02:07:43 +02:00)\n"
     ]
    }
   ],
   "source": [
    "uc"
   ]
  },
  {
   "cell_type": "code",
   "execution_count": null,
   "id": "c1454c9d-0a05-4846-b959-5e9967c79e78",
   "metadata": {},
   "outputs": [],
   "source": []
  },
  {
   "cell_type": "code",
   "execution_count": null,
   "id": "39778ce7-823e-4e21-bd86-15defbd8d71e",
   "metadata": {},
   "outputs": [],
   "source": []
  },
  {
   "cell_type": "code",
   "execution_count": 72,
   "id": "fa56338d-537b-443d-a7f8-ee6252e9e4ef",
   "metadata": {},
   "outputs": [
    {
     "data": {
      "text/plain": [
       "2725"
      ]
     },
     "execution_count": 72,
     "metadata": {},
     "output_type": "execute_result"
    },
    {
     "name": "stdout",
     "output_type": "stream",
     "text": [
      "time: 0 ns (started: 2021-08-18 02:07:43 +02:00)\n"
     ]
    }
   ],
   "source": [
    "(cm == -1).sum()"
   ]
  },
  {
   "cell_type": "code",
   "execution_count": 73,
   "id": "33abda52-8a35-407a-b96a-222bbc028988",
   "metadata": {},
   "outputs": [
    {
     "data": {
      "text/plain": [
       "87960"
      ]
     },
     "execution_count": 73,
     "metadata": {},
     "output_type": "execute_result"
    },
    {
     "name": "stdout",
     "output_type": "stream",
     "text": [
      "time: 16 ms (started: 2021-08-18 02:07:44 +02:00)\n"
     ]
    }
   ],
   "source": [
    "len(set(cm))"
   ]
  },
  {
   "cell_type": "code",
   "execution_count": 74,
   "id": "af42e6e1-4bfa-41c3-a30d-f52d80e945e4",
   "metadata": {},
   "outputs": [
    {
     "data": {
      "text/plain": [
       "array([    1,     4,     5, ..., 87956, 87957, 87958], dtype=int64)"
      ]
     },
     "execution_count": 74,
     "metadata": {},
     "output_type": "execute_result"
    },
    {
     "name": "stdout",
     "output_type": "stream",
     "text": [
      "time: 0 ns (started: 2021-08-18 02:07:44 +02:00)\n"
     ]
    }
   ],
   "source": [
    "uc"
   ]
  },
  {
   "cell_type": "code",
   "execution_count": 75,
   "id": "578f254b-faef-4fbe-b5fe-0659259e67f3",
   "metadata": {},
   "outputs": [
    {
     "data": {
      "text/plain": [
       "array([False, False, False, ..., False, False, False])"
      ]
     },
     "execution_count": 75,
     "metadata": {},
     "output_type": "execute_result"
    },
    {
     "name": "stdout",
     "output_type": "stream",
     "text": [
      "time: 0 ns (started: 2021-08-18 02:07:44 +02:00)\n"
     ]
    }
   ],
   "source": [
    "np.diff(i.coords[0]) != 0"
   ]
  },
  {
   "cell_type": "code",
   "execution_count": 156,
   "id": "1c772230-94c5-4e6c-9783-29e8b85f4ebc",
   "metadata": {},
   "outputs": [
    {
     "data": {
      "text/plain": [
       "array([2, 6, 8], dtype=int64)"
      ]
     },
     "execution_count": 156,
     "metadata": {},
     "output_type": "execute_result"
    },
    {
     "name": "stdout",
     "output_type": "stream",
     "text": [
      "time: 16 ms (started: 2021-08-18 02:36:12 +02:00)\n"
     ]
    }
   ],
   "source": [
    "x = np.array([1, 1, 1, 2, 2, 2,2, 3, 3, 4, 4, 4])\n",
    "y = np.array([11, 29, 23, 48, 44, 45,99, 34, 39, 36, 0, 1,])\n",
    "diff = x[1:] - x[:-1]\n",
    "p = np.where(diff == 1)[0]\n",
    "# p = np.hstack([p, [len(y)]])\n",
    "p"
   ]
  },
  {
   "cell_type": "code",
   "execution_count": 157,
   "id": "ae6e1e4a-cd0c-46c8-a3d6-d05e964cf2a6",
   "metadata": {},
   "outputs": [
    {
     "data": {
      "text/plain": [
       "array([11., 23., 29., 44., 45., 48., 99., 34., 39.,  0.,  1., 36.])"
      ]
     },
     "execution_count": 157,
     "metadata": {},
     "output_type": "execute_result"
    },
    {
     "name": "stdout",
     "output_type": "stream",
     "text": [
      "time: 0 ns (started: 2021-08-18 02:36:13 +02:00)\n"
     ]
    }
   ],
   "source": [
    "s = 0\n",
    "z = np.zeros(y.shape[0])\n",
    "for e in p+1:\n",
    "    z[s:e] = sorted(y[s:e])\n",
    "    s = e\n",
    "z[s:y.shape[0]] = sorted(y[s:y.shape[0]])\n",
    "z"
   ]
  },
  {
   "cell_type": "code",
   "execution_count": null,
   "id": "c3a343dd-f0d0-406d-9b9e-dd9f49bb5baf",
   "metadata": {},
   "outputs": [],
   "source": []
  },
  {
   "cell_type": "code",
   "execution_count": 88,
   "id": "21f9e28f-d31b-4dbd-b5fa-3b7b5ea9f220",
   "metadata": {},
   "outputs": [
    {
     "name": "stdout",
     "output_type": "stream",
     "text": [
      "time: 0 ns (started: 2021-08-18 01:11:50 +02:00)\n"
     ]
    }
   ],
   "source": [
    "@jit(nopython=True)\n",
    "def update_vals(coords, coords_map):\n",
    "    m = coords.shape[0]\n",
    "    cur = max(0, coords_map.max())\n",
    "    updated_coords = np.zeros(m).astype(coords.dtype)\n",
    "    for i in range(m):\n",
    "        if coords_map[coords[i]] == -1:\n",
    "            coords_map[coords[i]] = cur\n",
    "            cur += 1\n",
    "        updated_coords[i] = coords_map[coords[i]]\n",
    "    return updated_coords, coords_map"
   ]
  },
  {
   "cell_type": "code",
   "execution_count": 89,
   "id": "0dc5da2e-0b90-4ebf-a9ec-f7145478ac97",
   "metadata": {},
   "outputs": [
    {
     "name": "stdout",
     "output_type": "stream",
     "text": [
      "time: 516 ms (started: 2021-08-18 01:11:50 +02:00)\n"
     ]
    }
   ],
   "source": []
  },
  {
   "cell_type": "code",
   "execution_count": 84,
   "id": "d60bf388-a2ff-4caa-af67-807614d16d4d",
   "metadata": {},
   "outputs": [
    {
     "data": {
      "text/plain": [
       "array([    0,     1,     2, ...,  7228, 21792, 40576], dtype=int64)"
      ]
     },
     "execution_count": 84,
     "metadata": {},
     "output_type": "execute_result"
    },
    {
     "name": "stdout",
     "output_type": "stream",
     "text": [
      "time: 0 ns (started: 2021-08-18 01:11:19 +02:00)\n"
     ]
    }
   ],
   "source": [
    "uc"
   ]
  },
  {
   "cell_type": "code",
   "execution_count": null,
   "id": "9f8f6307-e71f-483c-b0f9-897ffc79a747",
   "metadata": {},
   "outputs": [],
   "source": []
  },
  {
   "cell_type": "code",
   "execution_count": null,
   "id": "13fc0d95-0402-4f02-a9e1-42486bbd2559",
   "metadata": {},
   "outputs": [],
   "source": []
  },
  {
   "cell_type": "code",
   "execution_count": 66,
   "id": "a51b73c5-75b4-4be6-8b76-6e73e44563d3",
   "metadata": {},
   "outputs": [
    {
     "name": "stdout",
     "output_type": "stream",
     "text": [
      "time: 2.59 s (started: 2021-08-18 01:03:36 +02:00)\n"
     ]
    }
   ],
   "source": [
    "nc = {}\n",
    "v = 0\n",
    "c = i.coords[1]\n",
    "mc = []\n",
    "for x in c:\n",
    "    if x not in nc:\n",
    "        nc[x] = v\n",
    "        v += 1\n",
    "    mc.append(nc[x])"
   ]
  },
  {
   "cell_type": "code",
   "execution_count": 64,
   "id": "8bda9fa6-7d6d-4a93-a988-a790fbbb5f34",
   "metadata": {},
   "outputs": [
    {
     "data": {
      "text/plain": [
       "7355004"
      ]
     },
     "execution_count": 64,
     "metadata": {},
     "output_type": "execute_result"
    },
    {
     "name": "stdout",
     "output_type": "stream",
     "text": [
      "time: 0 ns (started: 2021-08-18 00:59:49 +02:00)\n"
     ]
    }
   ],
   "source": []
  },
  {
   "cell_type": "code",
   "execution_count": 48,
   "id": "92797b04-3a17-4523-a85d-f15f37a961dd",
   "metadata": {},
   "outputs": [
    {
     "name": "stdout",
     "output_type": "stream",
     "text": [
      "time: 0 ns (started: 2021-08-18 00:53:03 +02:00)\n"
     ]
    }
   ],
   "source": [
    "c = i.coords[1]"
   ]
  },
  {
   "cell_type": "code",
   "execution_count": 50,
   "id": "7980f6cc-5dab-4ed2-bad3-9dc404a0361c",
   "metadata": {},
   "outputs": [
    {
     "data": {
      "text/plain": [
       "(0, 90685)"
      ]
     },
     "execution_count": 50,
     "metadata": {},
     "output_type": "execute_result"
    },
    {
     "name": "stdout",
     "output_type": "stream",
     "text": [
      "time: 16 ms (started: 2021-08-18 00:53:11 +02:00)\n"
     ]
    }
   ],
   "source": [
    "c.min(), c.max()"
   ]
  },
  {
   "cell_type": "code",
   "execution_count": 52,
   "id": "5d20d92f-a0dd-448c-b6aa-7889983d0156",
   "metadata": {},
   "outputs": [
    {
     "data": {
      "text/plain": [
       "89666"
      ]
     },
     "execution_count": 52,
     "metadata": {},
     "output_type": "execute_result"
    },
    {
     "name": "stdout",
     "output_type": "stream",
     "text": [
      "time: 563 ms (started: 2021-08-18 00:53:24 +02:00)\n"
     ]
    }
   ],
   "source": [
    "len(set(c))"
   ]
  },
  {
   "cell_type": "code",
   "execution_count": null,
   "id": "83f4e7d6-2701-4977-9146-7b592e3f614e",
   "metadata": {},
   "outputs": [],
   "source": []
  },
  {
   "cell_type": "code",
   "execution_count": 29,
   "id": "d608e614-e547-47d6-828d-a069e3d0b05a",
   "metadata": {},
   "outputs": [
    {
     "data": {
      "text/plain": [
       "169"
      ]
     },
     "execution_count": 29,
     "metadata": {},
     "output_type": "execute_result"
    },
    {
     "name": "stdout",
     "output_type": "stream",
     "text": [
      "time: 0 ns (started: 2021-08-18 00:38:55 +02:00)\n"
     ]
    }
   ],
   "source": [
    "i.shape[0]"
   ]
  },
  {
   "cell_type": "code",
   "execution_count": 19,
   "id": "f5b9c941-cacc-4fed-b970-55c26e0c7a4c",
   "metadata": {},
   "outputs": [
    {
     "data": {
      "text/plain": [
       "array([ 2,  3,  1, ..., 54, 28, 51])"
      ]
     },
     "execution_count": 19,
     "metadata": {},
     "output_type": "execute_result"
    },
    {
     "name": "stdout",
     "output_type": "stream",
     "text": [
      "time: 0 ns (started: 2021-08-18 00:17:27 +02:00)\n"
     ]
    }
   ],
   "source": [
    "i.data"
   ]
  },
  {
   "cell_type": "code",
   "execution_count": 14,
   "id": "3662504f-8a5e-41b3-af0d-94906e189559",
   "metadata": {},
   "outputs": [
    {
     "data": {
      "application/vnd.jupyter.widget-view+json": {
       "model_id": "33687a0c96094b8eb5a054e2d505d2f6",
       "version_major": 2,
       "version_minor": 0
      },
      "text/plain": [
       "0it [00:00, ?it/s]"
      ]
     },
     "metadata": {},
     "output_type": "display_data"
    },
    {
     "name": "stdout",
     "output_type": "stream",
     "text": [
      "time: 1 s (started: 2021-08-18 00:16:46 +02:00)\n"
     ]
    }
   ],
   "source": [
    "s = 0\n",
    "for i in tqdm(reader.consume(batch_size=500, lines_in_mem=10000)):\n",
    "    s += i.shape[0]"
   ]
  },
  {
   "cell_type": "code",
   "execution_count": 15,
   "id": "79cc02cc-f07b-444d-88cd-2e1e0fb53254",
   "metadata": {},
   "outputs": [
    {
     "data": {
      "application/vnd.jupyter.widget-view+json": {
       "model_id": "097d29a73b65436bae95ee7290fadfdb",
       "version_major": 2,
       "version_minor": 0
      },
      "text/plain": [
       "0it [00:00, ?it/s]"
      ]
     },
     "metadata": {},
     "output_type": "display_data"
    },
    {
     "name": "stdout",
     "output_type": "stream",
     "text": [
      "time: 9.47 s (started: 2021-08-18 00:16:47 +02:00)\n"
     ]
    }
   ],
   "source": []
  },
  {
   "cell_type": "code",
   "execution_count": 5,
   "id": "7385f654-8770-47c3-b53f-9a56034bc7bf",
   "metadata": {},
   "outputs": [
    {
     "name": "stdout",
     "output_type": "stream",
     "text": [
      "(5025, 33538)\n"
     ]
    }
   ],
   "source": [
    "with tiledb.open(array_name) as A:\n",
    "    shape=(\n",
    "        A.dim('cells').size,\n",
    "        A.dim('features').size\n",
    "    )\n",
    "    print (shape)"
   ]
  },
  {
   "cell_type": "code",
   "execution_count": 6,
   "id": "cece4040-0d09-4f5a-a50c-9380dfad651f",
   "metadata": {},
   "outputs": [
    {
     "data": {
      "application/vnd.jupyter.widget-view+json": {
       "model_id": "53612a7c444e433db18bd109301794da",
       "version_major": 2,
       "version_minor": 0
      },
      "text/plain": [
       "  0%|          | 0/6 [00:00<?, ?it/s]"
      ]
     },
     "metadata": {},
     "output_type": "display_data"
    }
   ],
   "source": [
    "batch_size = 1000\n",
    "with tiledb.open(array_name) as A:\n",
    "    for s in tqdm(np.arange(0, n_cells, batch_size)):\n",
    "        e = s + batch_size\n",
    "        if e > n_cells:\n",
    "            e = n_cells\n",
    "        a = A[s:e, :]\n",
    "#         a = sparse.COO([a['cells']-s, a['features']], data=a['counts'], shape=(e-s, n_features))"
   ]
  },
  {
   "cell_type": "code",
   "execution_count": 9,
   "id": "5a82fe54-71c2-45a6-9e9d-b1e999af62e3",
   "metadata": {},
   "outputs": [
    {
     "data": {
      "application/vnd.jupyter.widget-view+json": {
       "model_id": "742f87b2091c43fcac17b21d07f7c356",
       "version_major": 2,
       "version_minor": 0
      },
      "text/plain": [
       "  0%|          | 0/6 [00:00<?, ?it/s]"
      ]
     },
     "metadata": {},
     "output_type": "display_data"
    }
   ],
   "source": [
    "batch_size = 1000\n",
    "with tiledb.open(array_name) as A:\n",
    "    for s in tqdm(np.arange(0, n_cells, batch_size)):\n",
    "        e = s + batch_size\n",
    "        if e > n_cells:\n",
    "            e = n_cells\n",
    "        a = A[s:e, :]\n",
    "        a = sparse.COO([a['cells']-s, a['features']], data=a['counts'], shape=(e-s, n_features))"
   ]
  },
  {
   "cell_type": "code",
   "execution_count": 16,
   "id": "be371eb3-3900-4a13-a982-a27c89bc0942",
   "metadata": {},
   "outputs": [
    {
     "data": {
      "text/plain": [
       "(25,)"
      ]
     },
     "execution_count": 16,
     "metadata": {},
     "output_type": "execute_result"
    }
   ],
   "source": [
    "a.sum(axis=1).data.shape"
   ]
  },
  {
   "cell_type": "code",
   "execution_count": 19,
   "id": "ee243a0b-7e67-44fb-81f7-2926d336655c",
   "metadata": {},
   "outputs": [
    {
     "data": {
      "text/plain": [
       "array([   2,    3,    7, ..., 1588,    1,    2], dtype=uint32)"
      ]
     },
     "execution_count": 19,
     "metadata": {},
     "output_type": "execute_result"
    }
   ],
   "source": [
    "a.sum(axis=0).data"
   ]
  },
  {
   "cell_type": "code",
   "execution_count": 17,
   "id": "28aba34f-d8af-4328-b3ce-eda092eff5b6",
   "metadata": {},
   "outputs": [
    {
     "data": {
      "text/html": [
       "<table><tbody><tr><th style=\"text-align: left\">Format</th><td style=\"text-align: left\">coo</td></tr><tr><th style=\"text-align: left\">Data Type</th><td style=\"text-align: left\">uint32</td></tr><tr><th style=\"text-align: left\">Shape</th><td style=\"text-align: left\">(25, 33538)</td></tr><tr><th style=\"text-align: left\">nnz</th><td style=\"text-align: left\">55692</td></tr><tr><th style=\"text-align: left\">Density</th><td style=\"text-align: left\">0.06642256544814837</td></tr><tr><th style=\"text-align: left\">Read-only</th><td style=\"text-align: left\">True</td></tr><tr><th style=\"text-align: left\">Size</th><td style=\"text-align: left\">652.6K</td></tr><tr><th style=\"text-align: left\">Storage ratio</th><td style=\"text-align: left\">0.2</td></tr></tbody></table>"
      ],
      "text/plain": [
       "<COO: shape=(25, 33538), dtype=uint32, nnz=55692, fill_value=0>"
      ]
     },
     "execution_count": 17,
     "metadata": {},
     "output_type": "execute_result"
    }
   ],
   "source": [
    "a.su(m)"
   ]
  },
  {
   "cell_type": "code",
   "execution_count": null,
   "id": "8a26af2c-e0ba-45c8-92f6-9622282a478f",
   "metadata": {},
   "outputs": [],
   "source": []
  }
 ],
 "metadata": {
  "kernelspec": {
   "display_name": "Python 3 (ipykernel)",
   "language": "python",
   "name": "python3"
  },
  "language_info": {
   "codemirror_mode": {
    "name": "ipython",
    "version": 3
   },
   "file_extension": ".py",
   "mimetype": "text/x-python",
   "name": "python",
   "nbconvert_exporter": "python",
   "pygments_lexer": "ipython3",
   "version": "3.9.12"
  },
  "widgets": {
   "application/vnd.jupyter.widget-state+json": {
    "state": {},
    "version_major": 2,
    "version_minor": 0
   }
  }
 },
 "nbformat": 4,
 "nbformat_minor": 5
}
