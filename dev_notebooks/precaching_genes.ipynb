{
 "cells": [
  {
   "cell_type": "markdown",
   "id": "fc6c6cdc-0757-49e5-a603-86f986faba7b",
   "metadata": {},
   "source": [
    "(scrna_seq_workflow)="
   ]
  },
  {
   "cell_type": "markdown",
   "id": "9f2b0337",
   "metadata": {},
   "source": [
    "## Precaching normalized values for faster gene query and marker search\n",
    "\n",
    "This workflow shows how to use `save_normed_for_query` function to create a cache of genes. This cache substantially improves the runtime of `run_marker_search` and also when querying for multiple genes. The precaching is a one time process for a dataset and can speed up all subsequent marker search steps."
   ]
  },
  {
   "cell_type": "code",
   "execution_count": 1,
   "id": "57e270d2",
   "metadata": {
    "lines_to_next_cell": 2
   },
   "outputs": [
    {
     "data": {
      "text/plain": [
       "'0.23.0'"
      ]
     },
     "execution_count": 1,
     "metadata": {},
     "output_type": "execute_result"
    },
    {
     "name": "stdout",
     "output_type": "stream",
     "text": [
      "time: 1.52 s (started: 2022-09-12 02:10:33 +02:00)\n"
     ]
    }
   ],
   "source": [
    "%load_ext autotime\n",
    "\n",
    "import scarf\n",
    "scarf.__version__"
   ]
  },
  {
   "cell_type": "code",
   "execution_count": 2,
   "id": "fe7cf21f-6398-4086-bdf0-db75de064dad",
   "metadata": {},
   "outputs": [
    {
     "data": {
      "application/vnd.jupyter.widget-view+json": {
       "model_id": "bd452112a33b4fb7a5452db400ecd871",
       "version_major": 2,
       "version_minor": 0
      },
      "text/plain": [
       "Downloading 1/3:   0%|                                                                                        …"
      ]
     },
     "metadata": {},
     "output_type": "display_data"
    },
    {
     "data": {
      "application/vnd.jupyter.widget-view+json": {
       "model_id": "813e315515864fa89df19caf80abf0d1",
       "version_major": 2,
       "version_minor": 0
      },
      "text/plain": [
       "Downloading 2/3:   0%|                                                                                        …"
      ]
     },
     "metadata": {},
     "output_type": "display_data"
    },
    {
     "data": {
      "application/vnd.jupyter.widget-view+json": {
       "model_id": "fcb319204e8b401ca28b2d44cb5c8cca",
       "version_major": 2,
       "version_minor": 0
      },
      "text/plain": [
       "Downloading 3/3:   0%|                                                                                        …"
      ]
     },
     "metadata": {},
     "output_type": "display_data"
    },
    {
     "name": "stdout",
     "output_type": "stream",
     "text": [
      "time: 21.8 s (started: 2022-09-11 13:07:14 +02:00)\n"
     ]
    }
   ],
   "source": [
    "scarf.fetch_dataset(\n",
    "    'zheng_69K_pbmc_rnaseq',\n",
    "    save_path='scarf_datasets'\n",
    ")"
   ]
  },
  {
   "cell_type": "code",
   "execution_count": 3,
   "id": "8d7d13af",
   "metadata": {},
   "outputs": [
    {
     "name": "stdout",
     "output_type": "stream",
     "text": [
      "\u001b[33m\u001b[1mWARNING\u001b[0m: feature_types extraction failed from features.tsv.gz in column 2\n"
     ]
    },
    {
     "data": {
      "application/vnd.jupyter.widget-view+json": {
       "model_id": "067cd96902ad43b0add9bdc2b7a606a8",
       "version_major": 2,
       "version_minor": 0
      },
      "text/plain": [
       "  0%|                                                                                                         …"
      ]
     },
     "metadata": {},
     "output_type": "display_data"
    },
    {
     "name": "stdout",
     "output_type": "stream",
     "text": [
      "time: 31.7 s (started: 2022-09-11 13:07:36 +02:00)\n"
     ]
    }
   ],
   "source": [
    "reader = scarf.CrDirReader('scarf_datasets/zheng_69K_pbmc_rnaseq')\n",
    "writer = scarf.CrToZarr(\n",
    "    reader,\n",
    "    zarr_fn='scarf_datasets/zheng_69K_pbmc_rnaseq/data.zarr',\n",
    "    chunk_size=(1000, 1000)\n",
    ")\n",
    "writer.dump(batch_size=1000)"
   ]
  },
  {
   "cell_type": "code",
   "execution_count": 4,
   "id": "51c3b298",
   "metadata": {
    "scrolled": true,
    "tags": []
   },
   "outputs": [
    {
     "data": {
      "application/vnd.jupyter.widget-view+json": {
       "model_id": "2376c58601ce45fd85501537524692f0",
       "version_major": 2,
       "version_minor": 0
      },
      "text/plain": [
       "(RNA) Computing nCells and dropOuts:   0%|                                                                    …"
      ]
     },
     "metadata": {},
     "output_type": "display_data"
    },
    {
     "data": {
      "application/vnd.jupyter.widget-view+json": {
       "model_id": "0221e3ba72da432696ffa1f5be6897b5",
       "version_major": 2,
       "version_minor": 0
      },
      "text/plain": [
       "(RNA) Computing nCounts:   0%|                                                                                …"
      ]
     },
     "metadata": {},
     "output_type": "display_data"
    },
    {
     "name": "stdout",
     "output_type": "stream",
     "text": [
      "\u001b[33m\u001b[1mWARNING\u001b[0m: Minimum cell count (402) is lower than size factor multiplier (1000)\n"
     ]
    },
    {
     "data": {
      "application/vnd.jupyter.widget-view+json": {
       "model_id": "7299946a81a74b6e9ac47b1202a3a854",
       "version_major": 2,
       "version_minor": 0
      },
      "text/plain": [
       "(RNA) Computing nFeatures:   0%|                                                                              …"
      ]
     },
     "metadata": {},
     "output_type": "display_data"
    },
    {
     "data": {
      "application/vnd.jupyter.widget-view+json": {
       "model_id": "2e88e62ce6a248e0a794d727f29c246f",
       "version_major": 2,
       "version_minor": 0
      },
      "text/plain": [
       "(RNA) Computing RNA_percentMito:   0%|                                                                        …"
      ]
     },
     "metadata": {},
     "output_type": "display_data"
    },
    {
     "data": {
      "application/vnd.jupyter.widget-view+json": {
       "model_id": "340e242705fc414ca4e8987dcaad2520",
       "version_major": 2,
       "version_minor": 0
      },
      "text/plain": [
       "(RNA) Computing RNA_percentRibo:   0%|                                                                        …"
      ]
     },
     "metadata": {},
     "output_type": "display_data"
    },
    {
     "name": "stdout",
     "output_type": "stream",
     "text": [
      "\u001b[1mINFO\u001b[0m: 2311 cells flagged for filtering out using attribute RNA_nCounts\n",
      "\u001b[1mINFO\u001b[0m: 2435 cells flagged for filtering out using attribute RNA_nFeatures\n",
      "\u001b[1mINFO\u001b[0m: 1391 cells flagged for filtering out using attribute RNA_percentMito\n",
      "\u001b[1mINFO\u001b[0m: 2678 cells flagged for filtering out using attribute RNA_percentRibo\n"
     ]
    },
    {
     "data": {
      "image/png": "[encoded data removed]",
      "text/plain": [
       "<Figure size 648x252 with 4 Axes>"
      ]
     },
     "metadata": {
      "needs_background": "light"
     },
     "output_type": "display_data"
    },
    {
     "data": {
      "image/png": "[encoded data removed]",
      "text/plain": [
       "<Figure size 648x252 with 4 Axes>"
      ]
     },
     "metadata": {
      "needs_background": "light"
     },
     "output_type": "display_data"
    },
    {
     "data": {
      "application/vnd.jupyter.widget-view+json": {
       "model_id": "e90fbf8feab449aabbd847bfda4ec70d",
       "version_major": 2,
       "version_minor": 0
      },
      "text/plain": [
       "(RNA) Computing nCells:   0%|                                                                                 …"
      ]
     },
     "metadata": {},
     "output_type": "display_data"
    },
    {
     "data": {
      "application/vnd.jupyter.widget-view+json": {
       "model_id": "ce1bcac6bf664cf7921894f876ba8c91",
       "version_major": 2,
       "version_minor": 0
      },
      "text/plain": [
       "(RNA) Computing normed_tot:   0%|                                                                             …"
      ]
     },
     "metadata": {},
     "output_type": "display_data"
    },
    {
     "data": {
      "application/vnd.jupyter.widget-view+json": {
       "model_id": "734042956e574cfabd866913bb539f8c",
       "version_major": 2,
       "version_minor": 0
      },
      "text/plain": [
       "(RNA) Computing sigmas:   0%|                                                                                 …"
      ]
     },
     "metadata": {},
     "output_type": "display_data"
    },
    {
     "name": "stdout",
     "output_type": "stream",
     "text": [
      "\u001b[1mINFO\u001b[0m: 500 genes marked as HVGs\n"
     ]
    },
    {
     "data": {
      "image/png": "[encoded data removed]",
      "text/plain": [
       "<Figure size 324x288 with 1 Axes>"
      ]
     },
     "metadata": {
      "needs_background": "light"
     },
     "output_type": "display_data"
    },
    {
     "data": {
      "application/vnd.jupyter.widget-view+json": {
       "model_id": "9b24369f10f645f9a454cef94cc77232",
       "version_major": 2,
       "version_minor": 0
      },
      "text/plain": [
       "Normalizing with feature subset:   0%|                                                                        …"
      ]
     },
     "metadata": {},
     "output_type": "display_data"
    },
    {
     "data": {
      "application/vnd.jupyter.widget-view+json": {
       "model_id": "6502951c22fc45b0bd2578cd34a1b5ca",
       "version_major": 2,
       "version_minor": 0
      },
      "text/plain": [
       "Writing data to normed__I__hvgs/data:   0%|                                                                   …"
      ]
     },
     "metadata": {},
     "output_type": "display_data"
    },
    {
     "data": {
      "application/vnd.jupyter.widget-view+json": {
       "model_id": "dae6d7dc54c143bd86336a1bd6fe68af",
       "version_major": 2,
       "version_minor": 0
      },
      "text/plain": [
       "Calculating mean of norm. data:   0%|                                                                         …"
      ]
     },
     "metadata": {},
     "output_type": "display_data"
    },
    {
     "data": {
      "application/vnd.jupyter.widget-view+json": {
       "model_id": "7317cbf9b681463cada98da1d5dcc885",
       "version_major": 2,
       "version_minor": 0
      },
      "text/plain": [
       "Calculating std. dev. of norm. data:   0%|                                                                    …"
      ]
     },
     "metadata": {},
     "output_type": "display_data"
    },
    {
     "data": {
      "application/vnd.jupyter.widget-view+json": {
       "model_id": "c28e893fc2a24b3e89fc7bbbf0806630",
       "version_major": 2,
       "version_minor": 0
      },
      "text/plain": [
       "Fitting PCA:   0%|                                                                                            …"
      ]
     },
     "metadata": {},
     "output_type": "display_data"
    },
    {
     "data": {
      "application/vnd.jupyter.widget-view+json": {
       "model_id": "82faf47b8cfd4797983e1685019e728a",
       "version_major": 2,
       "version_minor": 0
      },
      "text/plain": [
       "Fitting ANN:   0%|                                                                                            …"
      ]
     },
     "metadata": {},
     "output_type": "display_data"
    },
    {
     "data": {
      "application/vnd.jupyter.widget-view+json": {
       "model_id": "ad06b2daf2fb419496e598696206cc0c",
       "version_major": 2,
       "version_minor": 0
      },
      "text/plain": [
       "Fitting kmeans:   0%|                                                                                         …"
      ]
     },
     "metadata": {},
     "output_type": "display_data"
    },
    {
     "data": {
      "application/vnd.jupyter.widget-view+json": {
       "model_id": "35d800c8da21424ca760bd289eebc253",
       "version_major": 2,
       "version_minor": 0
      },
      "text/plain": [
       "Estimating seed partitions:   0%|                                                                             …"
      ]
     },
     "metadata": {},
     "output_type": "display_data"
    },
    {
     "data": {
      "application/vnd.jupyter.widget-view+json": {
       "model_id": "056347f0353d489bb684bb5b8afc5767",
       "version_major": 2,
       "version_minor": 0
      },
      "text/plain": [
       "Saving KNN graph:   0%|                                                                                       …"
      ]
     },
     "metadata": {},
     "output_type": "display_data"
    },
    {
     "data": {
      "application/vnd.jupyter.widget-view+json": {
       "model_id": "c5769052b11e463489af6ef980ff96d4",
       "version_major": 2,
       "version_minor": 0
      },
      "text/plain": [
       "Smoothening KNN distances:   0%|                                                                              …"
      ]
     },
     "metadata": {},
     "output_type": "display_data"
    },
    {
     "name": "stdout",
     "output_type": "stream",
     "text": [
      "\u001b[1mINFO\u001b[0m: ANN recall: 99.20%\n",
      "time: 2min 33s (started: 2022-09-11 13:08:07 +02:00)\n"
     ]
    }
   ],
   "source": [
    "ds = scarf.DataStore(\n",
    "    'scarf_datasets/zheng_69K_pbmc_rnaseq/data.zarr',\n",
    "    nthreads=4,\n",
    "    min_features_per_cell=10\n",
    ")\n",
    "ds.auto_filter_cells()\n",
    "ds.mark_hvgs(\n",
    "    min_cells=20,\n",
    "    top_n=500,\n",
    "    min_mean=-3,\n",
    "    max_mean=2,\n",
    "    max_var=6\n",
    ")\n",
    "ds.make_graph(\n",
    "    feat_key='hvgs',\n",
    "    k=11,\n",
    "    dims=15\n",
    ")\n",
    "ds.run_leiden_clustering(resolution=0.5)"
   ]
  },
  {
   "cell_type": "code",
   "execution_count": 3,
   "id": "955ab8fe-372b-4bd5-9c85-ba40e7a384c0",
   "metadata": {},
   "outputs": [
    {
     "name": "stdout",
     "output_type": "stream",
     "text": [
      "/\n",
      " ├── RNA\n",
      " │   ├── counts (68579, 32738) uint32\n",
      " │   ├── featureData\n",
      " │   ├── markers\n",
      " │   ├── normed__I__hvgs\n",
      " │   ├── prenormed\n",
      " │   └── summary_stats_I\n",
      " └── cellData\n",
      "     ├── I (68579,) bool\n",
      "     ├── RNA_leiden_cluster (68579,) int32\n",
      "     ├── RNA_nCounts (68579,) float64\n",
      "     ├── RNA_nFeatures (68579,) float64\n",
      "     ├── RNA_percentMito (68579,) float64\n",
      "     ├── RNA_percentRibo (68579,) float64\n",
      "     ├── ids (68579,) <U16\n",
      "     └── names (68579,) <U16\n",
      "time: 32 ms (started: 2022-09-12 02:04:32 +02:00)\n"
     ]
    }
   ],
   "source": [
    "ds.show_zarr_tree()"
   ]
  },
  {
   "cell_type": "code",
   "execution_count": 5,
   "id": "36b84e37",
   "metadata": {},
   "outputs": [
    {
     "data": {
      "application/vnd.jupyter.widget-view+json": {
       "model_id": "6f02fbca4d144eea912e9f51826e710c",
       "version_major": 2,
       "version_minor": 0
      },
      "text/plain": [
       "Finding markers:   0%|                                                                                        …"
      ]
     },
     "metadata": {},
     "output_type": "display_data"
    },
    {
     "data": {
      "application/vnd.jupyter.widget-view+json": {
       "model_id": "588c260c92694c51a55fdd6f66e23ecc",
       "version_major": 2,
       "version_minor": 0
      },
      "text/plain": [
       "Aggregating results:   0%|                                                                                    …"
      ]
     },
     "metadata": {},
     "output_type": "display_data"
    },
    {
     "name": "stdout",
     "output_type": "stream",
     "text": [
      "time: 11min 11s (started: 2022-09-11 13:10:41 +02:00)\n"
     ]
    }
   ],
   "source": [
    "ds.run_marker_search(\n",
    "    group_key='RNA_leiden_cluster',\n",
    ")"
   ]
  },
  {
   "cell_type": "code",
   "execution_count": 7,
   "id": "224106ee-9086-47af-ad6a-0331cb059591",
   "metadata": {},
   "outputs": [
    {
     "name": "stdout",
     "output_type": "stream",
     "text": [
      "time: 0 ns (started: 2022-09-12 02:07:44 +02:00)\n"
     ]
    }
   ],
   "source": [
    "import numpy as np"
   ]
  },
  {
   "cell_type": "code",
   "execution_count": 14,
   "id": "6455db5e-8d0f-42de-b9f7-51f04cf16ea8",
   "metadata": {},
   "outputs": [
    {
     "data": {
      "text/plain": [
       "array([10298, 10448, 10479, 10780, 11062,  1252, 12534, 13131, 13252,\n",
       "       13508,  1426, 14315, 14585, 15343, 15576, 16569, 16683, 16737,\n",
       "       16744,  1738, 17720, 18148, 18926, 18941, 18944, 18964, 19161,\n",
       "       19404, 19527,  1957, 19922,  2067, 20738, 20918, 21053, 21112,\n",
       "       21196, 21418, 22144,  2242, 22421, 22588, 23450, 23926,  2482,\n",
       "       24889,  2493, 25899, 26085, 27057, 27068, 27379, 27507,  2757,\n",
       "       27762, 27949, 28145, 28832, 28952, 29328, 29417, 29706, 29741,\n",
       "       29952, 30711, 31189, 31550, 31698, 31909,  3198, 32134,   469,\n",
       "         486,  4864,   493,  5096,    52,  5871,  7223,  7344,  7696,\n",
       "        7755,  8156,  8886,  8889,  9600])"
      ]
     },
     "execution_count": 14,
     "metadata": {},
     "output_type": "execute_result"
    },
    {
     "name": "stdout",
     "output_type": "stream",
     "text": [
      "time: 109 ms (started: 2022-09-12 02:09:31 +02:00)\n"
     ]
    }
   ],
   "source": [
    "assay = ds.RNA\n",
    "cell_key = \"I\"\n",
    "group_key = \"RNA_leiden_cluster\"\n",
    "topn = 3\n",
    "slot_name = f\"{cell_key}__{group_key}\"\n",
    "g = assay.z[\"markers\"][slot_name]\n",
    "feat_idx = []\n",
    "for i in g.keys():\n",
    "    if \"feature_index\" in g[i]:\n",
    "        feat_idx.extend(g[i][\"feature_index\"][:][:topn])\n",
    "feat_idx = np.array(sorted(set(feat_idx)))\n",
    "feat_idx"
   ]
  },
  {
   "cell_type": "code",
   "execution_count": 3,
   "id": "5cebf982-b764-40c9-b66f-50b29e22c6bd",
   "metadata": {},
   "outputs": [
    {
     "data": {
      "image/png": "[encoded data removed]",
      "text/plain": [
       "<Figure size 626.4x1238.4 with 4 Axes>"
      ]
     },
     "metadata": {
      "needs_background": "light"
     },
     "output_type": "display_data"
    },
    {
     "name": "stdout",
     "output_type": "stream",
     "text": [
      "time: 8.86 s (started: 2022-09-12 02:10:42 +02:00)\n"
     ]
    }
   ],
   "source": [
    "ds.plot_marker_heatmap(group_key=\"RNA_leiden_cluster\", topn=3)"
   ]
  },
  {
   "cell_type": "markdown",
   "id": "b33c6568-89f3-4ecb-9ad3-1e9504e79774",
   "metadata": {},
   "source": [
    "### Pre-caching normalized expression for fast query"
   ]
  },
  {
   "cell_type": "code",
   "execution_count": 2,
   "id": "93161e38-d8cf-47ce-8425-c274c7853ed0",
   "metadata": {},
   "outputs": [
    {
     "name": "stdout",
     "output_type": "stream",
     "text": [
      "time: 62 ms (started: 2022-09-12 02:10:38 +02:00)\n"
     ]
    }
   ],
   "source": [
    "ds = scarf.DataStore(\n",
    "    'scarf_datasets/zheng_69K_pbmc_rnaseq/data.zarr',\n",
    "    nthreads=4,\n",
    ")"
   ]
  },
  {
   "cell_type": "code",
   "execution_count": null,
   "id": "4e5a1dbd-8464-466b-89c5-57f2d7025ac6",
   "metadata": {},
   "outputs": [],
   "source": [
    "scarf.DataStore()"
   ]
  },
  {
   "cell_type": "code",
   "execution_count": 3,
   "id": "ce931f33-93b5-4bae-9dcd-50f049c749f1",
   "metadata": {},
   "outputs": [
    {
     "data": {
      "application/vnd.jupyter.widget-view+json": {
       "model_id": "76509c3ee1624c249f46b5bc09578841",
       "version_major": 2,
       "version_minor": 0
      },
      "text/plain": [
       "Saving features:   0%|                                                                                        …"
      ]
     },
     "metadata": {},
     "output_type": "display_data"
    },
    {
     "name": "stdout",
     "output_type": "stream",
     "text": [
      "time: 2min 21s (started: 2022-09-11 17:23:15 +02:00)\n"
     ]
    }
   ],
   "source": [
    "ds.RNA.save_normed_for_query('I', batch_size=100)"
   ]
  },
  {
   "cell_type": "code",
   "execution_count": 7,
   "id": "893c6e63-8e9f-49b6-a9f5-b1a56110a2af",
   "metadata": {},
   "outputs": [
    {
     "data": {
      "application/vnd.jupyter.widget-view+json": {
       "model_id": "ef4f13dc0ad041979ca19b953f346883",
       "version_major": 2,
       "version_minor": 0
      },
      "text/plain": [
       "Saving features:   0%|                                                                                        …"
      ]
     },
     "metadata": {},
     "output_type": "display_data"
    },
    {
     "name": "stdout",
     "output_type": "stream",
     "text": [
      "time: 3min 12s (started: 2022-09-11 13:22:02 +02:00)\n"
     ]
    }
   ],
   "source": [
    "ds.RNA.save_normed_for_query('I', batch_size=100)"
   ]
  },
  {
   "cell_type": "code",
   "execution_count": null,
   "id": "bdc6ff51-e7b6-4df3-a99d-4678b728b402",
   "metadata": {},
   "outputs": [],
   "source": [
    "ds.RNA.save_normalized_data()"
   ]
  },
  {
   "cell_type": "code",
   "execution_count": null,
   "id": "663e1048-8840-4d30-b020-7a1880479461",
   "metadata": {},
   "outputs": [],
   "source": []
  },
  {
   "cell_type": "markdown",
   "id": "1fb3a1bb-e410-44fa-af1d-d74bb5af8941",
   "metadata": {},
   "source": [
    "### Marker search with precached data"
   ]
  },
  {
   "cell_type": "code",
   "execution_count": 8,
   "id": "500829b3-dbdc-49b0-9e67-3eb173a25e69",
   "metadata": {},
   "outputs": [
    {
     "data": {
      "application/vnd.jupyter.widget-view+json": {
       "model_id": "4b730afde32a4c00a17ca50be1fbb8d1",
       "version_major": 2,
       "version_minor": 0
      },
      "text/plain": [
       "Finding markers:   0%|                                                                                        …"
      ]
     },
     "metadata": {},
     "output_type": "display_data"
    },
    {
     "data": {
      "application/vnd.jupyter.widget-view+json": {
       "model_id": "6368c00648404cef8c0ed5d1f1562653",
       "version_major": 2,
       "version_minor": 0
      },
      "text/plain": [
       "Aggregating results:   0%|                                                                                    …"
      ]
     },
     "metadata": {},
     "output_type": "display_data"
    },
    {
     "name": "stdout",
     "output_type": "stream",
     "text": [
      "time: 2min 16s (started: 2022-09-11 13:25:14 +02:00)\n"
     ]
    }
   ],
   "source": [
    "ds.run_marker_search(\n",
    "    group_key='RNA_leiden_cluster',\n",
    "    use_prenormed=True\n",
    ")"
   ]
  },
  {
   "cell_type": "markdown",
   "id": "b1140922-71b7-4d27-8d7c-d29e96712022",
   "metadata": {},
   "source": [
    "### The marker search is almost 500% faster with precaching"
   ]
  },
  {
   "cell_type": "code",
   "execution_count": 13,
   "id": "c66f3b57-10d2-46db-b68b-aa5c8c1396ed",
   "metadata": {},
   "outputs": [
    {
     "data": {
      "text/html": [
       "<div>\n",
       "<style scoped>\n",
       "    .dataframe tbody tr th:only-of-type {\n",
       "        vertical-align: middle;\n",
       "    }\n",
       "\n",
       "    .dataframe tbody tr th {\n",
       "        vertical-align: top;\n",
       "    }\n",
       "\n",
       "    .dataframe thead th {\n",
       "        text-align: right;\n",
       "    }\n",
       "</style>\n",
       "<table border=\"1\" class=\"dataframe\">\n",
       "  <thead>\n",
       "    <tr style=\"text-align: right;\">\n",
       "      <th></th>\n",
       "      <th>group_id</th>\n",
       "      <th>feature_name</th>\n",
       "      <th>feature_index</th>\n",
       "      <th>score</th>\n",
       "      <th>mean</th>\n",
       "      <th>mean_rest</th>\n",
       "      <th>frac_exp</th>\n",
       "      <th>frac_exp_rest</th>\n",
       "      <th>fold_change</th>\n",
       "    </tr>\n",
       "  </thead>\n",
       "  <tbody>\n",
       "    <tr>\n",
       "      <th>0</th>\n",
       "      <td>2</td>\n",
       "      <td>GZMH</td>\n",
       "      <td>22588</td>\n",
       "      <td>0.53664</td>\n",
       "      <td>1.97866</td>\n",
       "      <td>0.04272</td>\n",
       "      <td>0.72856</td>\n",
       "      <td>0.02577</td>\n",
       "      <td>46.31955</td>\n",
       "    </tr>\n",
       "    <tr>\n",
       "      <th>1</th>\n",
       "      <td>2</td>\n",
       "      <td>FGFBP2</td>\n",
       "      <td>7344</td>\n",
       "      <td>0.5185</td>\n",
       "      <td>1.56343</td>\n",
       "      <td>0.03036</td>\n",
       "      <td>0.68939</td>\n",
       "      <td>0.01948</td>\n",
       "      <td>51.49853</td>\n",
       "    </tr>\n",
       "    <tr>\n",
       "      <th>2</th>\n",
       "      <td>2</td>\n",
       "      <td>PRSS23</td>\n",
       "      <td>19527</td>\n",
       "      <td>0.47935</td>\n",
       "      <td>0.25454</td>\n",
       "      <td>0.00469</td>\n",
       "      <td>0.2236</td>\n",
       "      <td>0.00493</td>\n",
       "      <td>54.22205</td>\n",
       "    </tr>\n",
       "    <tr>\n",
       "      <th>3</th>\n",
       "      <td>2</td>\n",
       "      <td>CCL4</td>\n",
       "      <td>26839</td>\n",
       "      <td>0.42904</td>\n",
       "      <td>0.52845</td>\n",
       "      <td>0.02215</td>\n",
       "      <td>0.38225</td>\n",
       "      <td>0.01945</td>\n",
       "      <td>23.85314</td>\n",
       "    </tr>\n",
       "    <tr>\n",
       "      <th>4</th>\n",
       "      <td>2</td>\n",
       "      <td>GZMB</td>\n",
       "      <td>22589</td>\n",
       "      <td>0.42316</td>\n",
       "      <td>2.44447</td>\n",
       "      <td>0.07253</td>\n",
       "      <td>0.81338</td>\n",
       "      <td>0.0273</td>\n",
       "      <td>33.70516</td>\n",
       "    </tr>\n",
       "    <tr>\n",
       "      <th>...</th>\n",
       "      <td>...</td>\n",
       "      <td>...</td>\n",
       "      <td>...</td>\n",
       "      <td>...</td>\n",
       "      <td>...</td>\n",
       "      <td>...</td>\n",
       "      <td>...</td>\n",
       "      <td>...</td>\n",
       "      <td>...</td>\n",
       "    </tr>\n",
       "    <tr>\n",
       "      <th>134</th>\n",
       "      <td>25</td>\n",
       "      <td>FAM26F</td>\n",
       "      <td>11346</td>\n",
       "      <td>0.2531</td>\n",
       "      <td>0.3855</td>\n",
       "      <td>0.04988</td>\n",
       "      <td>0.36154</td>\n",
       "      <td>0.04726</td>\n",
       "      <td>7.72825</td>\n",
       "    </tr>\n",
       "    <tr>\n",
       "      <th>135</th>\n",
       "      <td>26</td>\n",
       "      <td>SLC17A9</td>\n",
       "      <td>29328</td>\n",
       "      <td>0.63995</td>\n",
       "      <td>0.75179</td>\n",
       "      <td>0.00145</td>\n",
       "      <td>1.0</td>\n",
       "      <td>0.00129</td>\n",
       "      <td>517.76876</td>\n",
       "    </tr>\n",
       "    <tr>\n",
       "      <th>136</th>\n",
       "      <td>27</td>\n",
       "      <td>RXRA</td>\n",
       "      <td>16737</td>\n",
       "      <td>0.70412</td>\n",
       "      <td>0.76149</td>\n",
       "      <td>0.00806</td>\n",
       "      <td>0.94737</td>\n",
       "      <td>0.00624</td>\n",
       "      <td>94.5346</td>\n",
       "    </tr>\n",
       "    <tr>\n",
       "      <th>137</th>\n",
       "      <td>28</td>\n",
       "      <td>C1QA</td>\n",
       "      <td>469</td>\n",
       "      <td>0.59261</td>\n",
       "      <td>0.59869</td>\n",
       "      <td>0.0102</td>\n",
       "      <td>0.8</td>\n",
       "      <td>0.00454</td>\n",
       "      <td>58.69361</td>\n",
       "    </tr>\n",
       "    <tr>\n",
       "      <th>138</th>\n",
       "      <td>29</td>\n",
       "      <td>TIMP2</td>\n",
       "      <td>27762</td>\n",
       "      <td>0.64416</td>\n",
       "      <td>0.8609</td>\n",
       "      <td>0.00203</td>\n",
       "      <td>1.0</td>\n",
       "      <td>0.00172</td>\n",
       "      <td>424.78253</td>\n",
       "    </tr>\n",
       "  </tbody>\n",
       "</table>\n",
       "<p>139 rows × 9 columns</p>\n",
       "</div>"
      ],
      "text/plain": [
       "     group_id feature_name feature_index    score     mean mean_rest frac_exp  \\\n",
       "0           2         GZMH         22588  0.53664  1.97866   0.04272  0.72856   \n",
       "1           2       FGFBP2          7344   0.5185  1.56343   0.03036  0.68939   \n",
       "2           2       PRSS23         19527  0.47935  0.25454   0.00469   0.2236   \n",
       "3           2         CCL4         26839  0.42904  0.52845   0.02215  0.38225   \n",
       "4           2         GZMB         22589  0.42316  2.44447   0.07253  0.81338   \n",
       "..        ...          ...           ...      ...      ...       ...      ...   \n",
       "134        25       FAM26F         11346   0.2531   0.3855   0.04988  0.36154   \n",
       "135        26      SLC17A9         29328  0.63995  0.75179   0.00145      1.0   \n",
       "136        27         RXRA         16737  0.70412  0.76149   0.00806  0.94737   \n",
       "137        28         C1QA           469  0.59261  0.59869    0.0102      0.8   \n",
       "138        29        TIMP2         27762  0.64416   0.8609   0.00203      1.0   \n",
       "\n",
       "    frac_exp_rest fold_change  \n",
       "0         0.02577    46.31955  \n",
       "1         0.01948    51.49853  \n",
       "2         0.00493    54.22205  \n",
       "3         0.01945    23.85314  \n",
       "4          0.0273    33.70516  \n",
       "..            ...         ...  \n",
       "134       0.04726     7.72825  \n",
       "135       0.00129   517.76876  \n",
       "136       0.00624     94.5346  \n",
       "137       0.00454    58.69361  \n",
       "138       0.00172   424.78253  \n",
       "\n",
       "[139 rows x 9 columns]"
      ]
     },
     "execution_count": 13,
     "metadata": {},
     "output_type": "execute_result"
    },
    {
     "name": "stdout",
     "output_type": "stream",
     "text": [
      "time: 9.86 s (started: 2022-09-11 16:17:07 +02:00)\n"
     ]
    }
   ],
   "source": [
    "ds.get_markers(group_key=\"RNA_leiden_cluster\")"
   ]
  },
  {
   "cell_type": "code",
   "execution_count": 24,
   "id": "26684e2f-b9a4-4fea-8f55-0d8465bb280c",
   "metadata": {},
   "outputs": [
    {
     "data": {
      "text/plain": [
       "4"
      ]
     },
     "execution_count": 24,
     "metadata": {},
     "output_type": "execute_result"
    },
    {
     "name": "stdout",
     "output_type": "stream",
     "text": [
      "time: 0 ns (started: 2022-09-11 17:17:48 +02:00)\n"
     ]
    }
   ],
   "source": [
    "ds.RNA.nthreads"
   ]
  },
  {
   "cell_type": "code",
   "execution_count": 22,
   "id": "ecb5b401-e7e2-4982-a8aa-a5fa902946c9",
   "metadata": {},
   "outputs": [
    {
     "name": "stdout",
     "output_type": "stream",
     "text": [
      "(13523,)\n",
      "time: 187 ms (started: 2022-09-11 17:15:48 +02:00)\n"
     ]
    }
   ],
   "source": [
    "for i in ds.RNA.normed()[:100].compute():\n",
    "    print (i.shape)\n",
    "    break"
   ]
  },
  {
   "cell_type": "code",
   "execution_count": 17,
   "id": "67c036e5-3fdc-437a-8a6a-dde562f76a35",
   "metadata": {},
   "outputs": [
    {
     "data": {
      "text/html": [
       "<div>\n",
       "<style scoped>\n",
       "    .dataframe tbody tr th:only-of-type {\n",
       "        vertical-align: middle;\n",
       "    }\n",
       "\n",
       "    .dataframe tbody tr th {\n",
       "        vertical-align: top;\n",
       "    }\n",
       "\n",
       "    .dataframe thead th {\n",
       "        text-align: right;\n",
       "    }\n",
       "</style>\n",
       "<table border=\"1\" class=\"dataframe\">\n",
       "  <thead>\n",
       "    <tr style=\"text-align: right;\">\n",
       "      <th></th>\n",
       "      <th>group_id</th>\n",
       "      <th>feature_name</th>\n",
       "      <th>feature_index</th>\n",
       "      <th>score</th>\n",
       "      <th>mean</th>\n",
       "      <th>mean_rest</th>\n",
       "      <th>frac_exp</th>\n",
       "      <th>frac_exp_rest</th>\n",
       "      <th>fold_change</th>\n",
       "    </tr>\n",
       "  </thead>\n",
       "  <tbody>\n",
       "    <tr>\n",
       "      <th>0</th>\n",
       "      <td>2</td>\n",
       "      <td>GZMH</td>\n",
       "      <td>22588</td>\n",
       "      <td>0.53664</td>\n",
       "      <td>1.97866</td>\n",
       "      <td>0.04272</td>\n",
       "      <td>0.72856</td>\n",
       "      <td>0.02577</td>\n",
       "      <td>46.31955</td>\n",
       "    </tr>\n",
       "    <tr>\n",
       "      <th>1</th>\n",
       "      <td>2</td>\n",
       "      <td>FGFBP2</td>\n",
       "      <td>7344</td>\n",
       "      <td>0.5185</td>\n",
       "      <td>1.56343</td>\n",
       "      <td>0.03036</td>\n",
       "      <td>0.68939</td>\n",
       "      <td>0.01948</td>\n",
       "      <td>51.49853</td>\n",
       "    </tr>\n",
       "    <tr>\n",
       "      <th>2</th>\n",
       "      <td>2</td>\n",
       "      <td>PRSS23</td>\n",
       "      <td>19527</td>\n",
       "      <td>0.47935</td>\n",
       "      <td>0.25454</td>\n",
       "      <td>0.00469</td>\n",
       "      <td>0.2236</td>\n",
       "      <td>0.00493</td>\n",
       "      <td>54.22205</td>\n",
       "    </tr>\n",
       "    <tr>\n",
       "      <th>3</th>\n",
       "      <td>2</td>\n",
       "      <td>CCL4</td>\n",
       "      <td>26839</td>\n",
       "      <td>0.42904</td>\n",
       "      <td>0.52845</td>\n",
       "      <td>0.02215</td>\n",
       "      <td>0.38225</td>\n",
       "      <td>0.01945</td>\n",
       "      <td>23.85314</td>\n",
       "    </tr>\n",
       "    <tr>\n",
       "      <th>4</th>\n",
       "      <td>2</td>\n",
       "      <td>GZMB</td>\n",
       "      <td>22589</td>\n",
       "      <td>0.42316</td>\n",
       "      <td>2.44447</td>\n",
       "      <td>0.07253</td>\n",
       "      <td>0.81338</td>\n",
       "      <td>0.0273</td>\n",
       "      <td>33.70516</td>\n",
       "    </tr>\n",
       "    <tr>\n",
       "      <th>5</th>\n",
       "      <td>2</td>\n",
       "      <td>GNLY</td>\n",
       "      <td>4046</td>\n",
       "      <td>0.39703</td>\n",
       "      <td>12.16159</td>\n",
       "      <td>0.45893</td>\n",
       "      <td>0.97065</td>\n",
       "      <td>0.11858</td>\n",
       "      <td>26.49974</td>\n",
       "    </tr>\n",
       "    <tr>\n",
       "      <th>6</th>\n",
       "      <td>2</td>\n",
       "      <td>FCGR3A</td>\n",
       "      <td>2237</td>\n",
       "      <td>0.39447</td>\n",
       "      <td>0.63592</td>\n",
       "      <td>0.03002</td>\n",
       "      <td>0.44823</td>\n",
       "      <td>0.02172</td>\n",
       "      <td>21.18457</td>\n",
       "    </tr>\n",
       "    <tr>\n",
       "      <th>7</th>\n",
       "      <td>2</td>\n",
       "      <td>SPON2</td>\n",
       "      <td>7169</td>\n",
       "      <td>0.38924</td>\n",
       "      <td>0.484</td>\n",
       "      <td>0.01926</td>\n",
       "      <td>0.33245</td>\n",
       "      <td>0.01974</td>\n",
       "      <td>25.12479</td>\n",
       "    </tr>\n",
       "    <tr>\n",
       "      <th>8</th>\n",
       "      <td>2</td>\n",
       "      <td>PRF1</td>\n",
       "      <td>17449</td>\n",
       "      <td>0.36165</td>\n",
       "      <td>0.96429</td>\n",
       "      <td>0.04765</td>\n",
       "      <td>0.58227</td>\n",
       "      <td>0.04604</td>\n",
       "      <td>20.23739</td>\n",
       "    </tr>\n",
       "    <tr>\n",
       "      <th>9</th>\n",
       "      <td>2</td>\n",
       "      <td>KLRD1</td>\n",
       "      <td>20269</td>\n",
       "      <td>0.35642</td>\n",
       "      <td>0.24462</td>\n",
       "      <td>0.01417</td>\n",
       "      <td>0.22163</td>\n",
       "      <td>0.01454</td>\n",
       "      <td>17.26285</td>\n",
       "    </tr>\n",
       "    <tr>\n",
       "      <th>10</th>\n",
       "      <td>2</td>\n",
       "      <td>NKG7</td>\n",
       "      <td>31075</td>\n",
       "      <td>0.32416</td>\n",
       "      <td>8.26531</td>\n",
       "      <td>0.49912</td>\n",
       "      <td>0.99653</td>\n",
       "      <td>0.16716</td>\n",
       "      <td>16.55986</td>\n",
       "    </tr>\n",
       "    <tr>\n",
       "      <th>11</th>\n",
       "      <td>2</td>\n",
       "      <td>S1PR5</td>\n",
       "      <td>29815</td>\n",
       "      <td>0.31335</td>\n",
       "      <td>0.23485</td>\n",
       "      <td>0.01372</td>\n",
       "      <td>0.21343</td>\n",
       "      <td>0.01454</td>\n",
       "      <td>17.11774</td>\n",
       "    </tr>\n",
       "    <tr>\n",
       "      <th>12</th>\n",
       "      <td>2</td>\n",
       "      <td>CST7</td>\n",
       "      <td>28832</td>\n",
       "      <td>0.29762</td>\n",
       "      <td>2.08941</td>\n",
       "      <td>0.17867</td>\n",
       "      <td>0.88075</td>\n",
       "      <td>0.12481</td>\n",
       "      <td>11.69392</td>\n",
       "    </tr>\n",
       "    <tr>\n",
       "      <th>13</th>\n",
       "      <td>2</td>\n",
       "      <td>CLIC3</td>\n",
       "      <td>16815</td>\n",
       "      <td>0.26318</td>\n",
       "      <td>0.82483</td>\n",
       "      <td>0.06238</td>\n",
       "      <td>0.41749</td>\n",
       "      <td>0.04692</td>\n",
       "      <td>13.22247</td>\n",
       "    </tr>\n",
       "    <tr>\n",
       "      <th>14</th>\n",
       "      <td>2</td>\n",
       "      <td>HOPX</td>\n",
       "      <td>7586</td>\n",
       "      <td>0.25948</td>\n",
       "      <td>0.97675</td>\n",
       "      <td>0.09598</td>\n",
       "      <td>0.5936</td>\n",
       "      <td>0.08484</td>\n",
       "      <td>10.1766</td>\n",
       "    </tr>\n",
       "    <tr>\n",
       "      <th>15</th>\n",
       "      <td>2</td>\n",
       "      <td>GZMA</td>\n",
       "      <td>8889</td>\n",
       "      <td>0.25054</td>\n",
       "      <td>2.00781</td>\n",
       "      <td>0.21781</td>\n",
       "      <td>0.84423</td>\n",
       "      <td>0.13558</td>\n",
       "      <td>9.21817</td>\n",
       "    </tr>\n",
       "  </tbody>\n",
       "</table>\n",
       "</div>"
      ],
      "text/plain": [
       "   group_id feature_name feature_index    score      mean mean_rest frac_exp  \\\n",
       "0         2         GZMH         22588  0.53664   1.97866   0.04272  0.72856   \n",
       "1         2       FGFBP2          7344   0.5185   1.56343   0.03036  0.68939   \n",
       "2         2       PRSS23         19527  0.47935   0.25454   0.00469   0.2236   \n",
       "3         2         CCL4         26839  0.42904   0.52845   0.02215  0.38225   \n",
       "4         2         GZMB         22589  0.42316   2.44447   0.07253  0.81338   \n",
       "5         2         GNLY          4046  0.39703  12.16159   0.45893  0.97065   \n",
       "6         2       FCGR3A          2237  0.39447   0.63592   0.03002  0.44823   \n",
       "7         2        SPON2          7169  0.38924     0.484   0.01926  0.33245   \n",
       "8         2         PRF1         17449  0.36165   0.96429   0.04765  0.58227   \n",
       "9         2        KLRD1         20269  0.35642   0.24462   0.01417  0.22163   \n",
       "10        2         NKG7         31075  0.32416   8.26531   0.49912  0.99653   \n",
       "11        2        S1PR5         29815  0.31335   0.23485   0.01372  0.21343   \n",
       "12        2         CST7         28832  0.29762   2.08941   0.17867  0.88075   \n",
       "13        2        CLIC3         16815  0.26318   0.82483   0.06238  0.41749   \n",
       "14        2         HOPX          7586  0.25948   0.97675   0.09598   0.5936   \n",
       "15        2         GZMA          8889  0.25054   2.00781   0.21781  0.84423   \n",
       "\n",
       "   frac_exp_rest fold_change  \n",
       "0        0.02577    46.31955  \n",
       "1        0.01948    51.49853  \n",
       "2        0.00493    54.22205  \n",
       "3        0.01945    23.85314  \n",
       "4         0.0273    33.70516  \n",
       "5        0.11858    26.49974  \n",
       "6        0.02172    21.18457  \n",
       "7        0.01974    25.12479  \n",
       "8        0.04604    20.23739  \n",
       "9        0.01454    17.26285  \n",
       "10       0.16716    16.55986  \n",
       "11       0.01454    17.11774  \n",
       "12       0.12481    11.69392  \n",
       "13       0.04692    13.22247  \n",
       "14       0.08484     10.1766  \n",
       "15       0.13558     9.21817  "
      ]
     },
     "execution_count": 17,
     "metadata": {},
     "output_type": "execute_result"
    },
    {
     "name": "stdout",
     "output_type": "stream",
     "text": [
      "time: 328 ms (started: 2022-09-11 16:18:13 +02:00)\n"
     ]
    }
   ],
   "source": [
    "ds.get_markers(group_key=\"RNA_leiden_cluster\", group_id='2')"
   ]
  },
  {
   "cell_type": "code",
   "execution_count": 15,
   "id": "75e92e77-94d0-4241-ba58-b34755374caf",
   "metadata": {},
   "outputs": [
    {
     "name": "stdout",
     "output_type": "stream",
     "text": [
      "markers\n",
      " └── I__RNA_leiden_cluster\n",
      "     ├── 1\n",
      "     ├── 10\n",
      "     ├── 11\n",
      "     ├── 12\n",
      "     ├── 13\n",
      "     ├── 14\n",
      "     ├── 15\n",
      "     ├── 16\n",
      "     ├── 17\n",
      "     ├── 18\n",
      "     ├── 19\n",
      "     ├── 2\n",
      "     ├── 20\n",
      "     ├── 21\n",
      "     ├── 22\n",
      "     ├── 23\n",
      "     ├── 24\n",
      "     ├── 25\n",
      "     ├── 26\n",
      "     ├── 27\n",
      "     ├── 28\n",
      "     ├── 29\n",
      "     ├── 3\n",
      "     ├── 4\n",
      "     ├── 5\n",
      "     ├── 6\n",
      "     ├── 7\n",
      "     ├── 8\n",
      "     └── 9\n",
      "time: 31 ms (started: 2022-09-11 16:17:34 +02:00)\n"
     ]
    }
   ],
   "source": [
    "ds.show_zarr_tree(start='RNA/markers')"
   ]
  },
  {
   "cell_type": "code",
   "execution_count": null,
   "id": "716d96ca-58ed-4f40-a943-2fe1181dc4bb",
   "metadata": {},
   "outputs": [],
   "source": []
  },
  {
   "cell_type": "code",
   "execution_count": null,
   "id": "ba3054ed-2f54-4df2-9a32-b7d64b1e2aa1",
   "metadata": {},
   "outputs": [],
   "source": []
  },
  {
   "cell_type": "code",
   "execution_count": 9,
   "id": "608c5ca7-faa4-48e2-98b0-7830a14f79d2",
   "metadata": {},
   "outputs": [
    {
     "ename": "TypeError",
     "evalue": "'>=' not supported between instances of 'numpy.ndarray' and 'int'",
     "output_type": "error",
     "traceback": [
      "\u001b[1;31m---------------------------------------------------------------------------\u001b[0m",
      "\u001b[1;31mTypeError\u001b[0m                                 Traceback (most recent call last)",
      "Input \u001b[1;32mIn [9]\u001b[0m, in \u001b[0;36m<cell line: 1>\u001b[1;34m()\u001b[0m\n\u001b[1;32m----> 1\u001b[0m \u001b[43mds\u001b[49m\u001b[38;5;241;43m.\u001b[39;49m\u001b[43mplot_marker_heatmap\u001b[49m\u001b[43m(\u001b[49m\u001b[43mgroup_key\u001b[49m\u001b[38;5;241;43m=\u001b[39;49m\u001b[38;5;124;43m\"\u001b[39;49m\u001b[38;5;124;43mRNA_leiden_cluster\u001b[39;49m\u001b[38;5;124;43m\"\u001b[39;49m\u001b[43m,\u001b[49m\u001b[43m \u001b[49m\u001b[43mtopn\u001b[49m\u001b[38;5;241;43m=\u001b[39;49m\u001b[38;5;241;43m3\u001b[39;49m\u001b[43m)\u001b[49m\n",
      "File \u001b[1;32m~\\miniconda3\\envs\\scarf\\lib\\site-packages\\scarf\\datastore.py:5108\u001b[0m, in \u001b[0;36mDataStore.plot_marker_heatmap\u001b[1;34m(self, from_assay, group_key, cell_key, topn, log_transform, vmin, vmax, savename, save_dpi, show_fig, **heatmap_kwargs)\u001b[0m\n\u001b[0;32m   5106\u001b[0m feat_idx \u001b[38;5;241m=\u001b[39m np\u001b[38;5;241m.\u001b[39marray(\u001b[38;5;28msorted\u001b[39m(\u001b[38;5;28mset\u001b[39m(feat_idx)))\n\u001b[0;32m   5107\u001b[0m cell_idx \u001b[38;5;241m=\u001b[39m np\u001b[38;5;241m.\u001b[39marray(assay\u001b[38;5;241m.\u001b[39mcells\u001b[38;5;241m.\u001b[39mactive_index(cell_key))\n\u001b[1;32m-> 5108\u001b[0m normed_data \u001b[38;5;241m=\u001b[39m \u001b[43massay\u001b[49m\u001b[38;5;241;43m.\u001b[39;49m\u001b[43mnormed\u001b[49m\u001b[43m(\u001b[49m\n\u001b[0;32m   5109\u001b[0m \u001b[43m    \u001b[49m\u001b[43mcell_idx\u001b[49m\u001b[38;5;241;43m=\u001b[39;49m\u001b[43mcell_idx\u001b[49m\u001b[43m,\u001b[49m\n\u001b[0;32m   5110\u001b[0m \u001b[43m    \u001b[49m\u001b[43mfeat_idx\u001b[49m\u001b[38;5;241;43m=\u001b[39;49m\u001b[43mfeat_idx\u001b[49m\u001b[43m,\u001b[49m\n\u001b[0;32m   5111\u001b[0m \u001b[43m    \u001b[49m\u001b[43mlog_transform\u001b[49m\u001b[38;5;241;43m=\u001b[39;49m\u001b[43mlog_transform\u001b[49m\u001b[43m,\u001b[49m\n\u001b[0;32m   5112\u001b[0m \u001b[43m\u001b[49m\u001b[43m)\u001b[49m\n\u001b[0;32m   5113\u001b[0m nc \u001b[38;5;241m=\u001b[39m normed_data\u001b[38;5;241m.\u001b[39mchunks[\u001b[38;5;241m0\u001b[39m]\n\u001b[0;32m   5114\u001b[0m \u001b[38;5;66;03m# FIXME: avoid conversion to dask dataframe here\u001b[39;00m\n\u001b[0;32m   5115\u001b[0m \u001b[38;5;66;03m# Unfortunately doing this dask array in a loop is 10x slower\u001b[39;00m\n",
      "File \u001b[1;32m~\\miniconda3\\envs\\scarf\\lib\\site-packages\\scarf\\assay.py:791\u001b[0m, in \u001b[0;36mRNAassay.normed\u001b[1;34m(self, cell_idx, feat_idx, renormalize_subset, log_transform, **kwargs)\u001b[0m\n\u001b[0;32m    789\u001b[0m \u001b[38;5;28;01mif\u001b[39;00m feat_idx \u001b[38;5;129;01mis\u001b[39;00m \u001b[38;5;28;01mNone\u001b[39;00m:\n\u001b[0;32m    790\u001b[0m     feat_idx \u001b[38;5;241m=\u001b[39m \u001b[38;5;28mself\u001b[39m\u001b[38;5;241m.\u001b[39mfeats\u001b[38;5;241m.\u001b[39mactive_index(\u001b[38;5;124m\"\u001b[39m\u001b[38;5;124mI\u001b[39m\u001b[38;5;124m\"\u001b[39m)\n\u001b[1;32m--> 791\u001b[0m counts \u001b[38;5;241m=\u001b[39m \u001b[38;5;28;43mself\u001b[39;49m\u001b[38;5;241;43m.\u001b[39;49m\u001b[43mrawData\u001b[49m\u001b[43m[\u001b[49m\u001b[43m:\u001b[49m\u001b[43m,\u001b[49m\u001b[43m \u001b[49m\u001b[43mfeat_idx\u001b[49m\u001b[43m]\u001b[49m[cell_idx, :]\n\u001b[0;32m    792\u001b[0m norm_method_cache \u001b[38;5;241m=\u001b[39m \u001b[38;5;28mself\u001b[39m\u001b[38;5;241m.\u001b[39mnormMethod\n\u001b[0;32m    793\u001b[0m \u001b[38;5;28;01mif\u001b[39;00m log_transform:\n",
      "File \u001b[1;32m~\\miniconda3\\envs\\scarf\\lib\\site-packages\\dask\\array\\core.py:1947\u001b[0m, in \u001b[0;36mArray.__getitem__\u001b[1;34m(self, index)\u001b[0m\n\u001b[0;32m   1939\u001b[0m     index \u001b[38;5;241m=\u001b[39m (index,)\n\u001b[0;32m   1941\u001b[0m \u001b[38;5;28;01mfrom\u001b[39;00m \u001b[38;5;21;01mdask\u001b[39;00m\u001b[38;5;21;01m.\u001b[39;00m\u001b[38;5;21;01marray\u001b[39;00m\u001b[38;5;21;01m.\u001b[39;00m\u001b[38;5;21;01mslicing\u001b[39;00m \u001b[38;5;28;01mimport\u001b[39;00m (\n\u001b[0;32m   1942\u001b[0m     normalize_index,\n\u001b[0;32m   1943\u001b[0m     slice_with_bool_dask_array,\n\u001b[0;32m   1944\u001b[0m     slice_with_int_dask_array,\n\u001b[0;32m   1945\u001b[0m )\n\u001b[1;32m-> 1947\u001b[0m index2 \u001b[38;5;241m=\u001b[39m \u001b[43mnormalize_index\u001b[49m\u001b[43m(\u001b[49m\u001b[43mindex\u001b[49m\u001b[43m,\u001b[49m\u001b[43m \u001b[49m\u001b[38;5;28;43mself\u001b[39;49m\u001b[38;5;241;43m.\u001b[39;49m\u001b[43mshape\u001b[49m\u001b[43m)\u001b[49m\n\u001b[0;32m   1948\u001b[0m dependencies \u001b[38;5;241m=\u001b[39m {\u001b[38;5;28mself\u001b[39m\u001b[38;5;241m.\u001b[39mname}\n\u001b[0;32m   1949\u001b[0m \u001b[38;5;28;01mfor\u001b[39;00m i \u001b[38;5;129;01min\u001b[39;00m index2:\n",
      "File \u001b[1;32m~\\miniconda3\\envs\\scarf\\lib\\site-packages\\dask\\array\\slicing.py:917\u001b[0m, in \u001b[0;36mnormalize_index\u001b[1;34m(idx, shape)\u001b[0m\n\u001b[0;32m    915\u001b[0m \u001b[38;5;28;01mfor\u001b[39;00m axis, (i, d) \u001b[38;5;129;01min\u001b[39;00m \u001b[38;5;28menumerate\u001b[39m(\u001b[38;5;28mzip\u001b[39m(idx, none_shape)):\n\u001b[0;32m    916\u001b[0m     \u001b[38;5;28;01mif\u001b[39;00m d \u001b[38;5;129;01mis\u001b[39;00m \u001b[38;5;129;01mnot\u001b[39;00m \u001b[38;5;28;01mNone\u001b[39;00m:\n\u001b[1;32m--> 917\u001b[0m         \u001b[43mcheck_index\u001b[49m\u001b[43m(\u001b[49m\u001b[43maxis\u001b[49m\u001b[43m,\u001b[49m\u001b[43m \u001b[49m\u001b[43mi\u001b[49m\u001b[43m,\u001b[49m\u001b[43m \u001b[49m\u001b[43md\u001b[49m\u001b[43m)\u001b[49m\n\u001b[0;32m    918\u001b[0m idx \u001b[38;5;241m=\u001b[39m \u001b[38;5;28mtuple\u001b[39m(\u001b[38;5;28mmap\u001b[39m(sanitize_index, idx))\n\u001b[0;32m    919\u001b[0m idx \u001b[38;5;241m=\u001b[39m \u001b[38;5;28mtuple\u001b[39m(\u001b[38;5;28mmap\u001b[39m(normalize_slice, idx, none_shape))\n",
      "File \u001b[1;32m~\\miniconda3\\envs\\scarf\\lib\\site-packages\\dask\\array\\slicing.py:979\u001b[0m, in \u001b[0;36mcheck_index\u001b[1;34m(axis, ind, dimension)\u001b[0m\n\u001b[0;32m    974\u001b[0m         \u001b[38;5;28;01mif\u001b[39;00m ind\u001b[38;5;241m.\u001b[39msize \u001b[38;5;241m!=\u001b[39m dimension:\n\u001b[0;32m    975\u001b[0m             \u001b[38;5;28;01mraise\u001b[39;00m \u001b[38;5;167;01mIndexError\u001b[39;00m(\n\u001b[0;32m    976\u001b[0m                 \u001b[38;5;124mf\u001b[39m\u001b[38;5;124m\"\u001b[39m\u001b[38;5;124mBoolean array with size \u001b[39m\u001b[38;5;132;01m{\u001b[39;00mind\u001b[38;5;241m.\u001b[39msize\u001b[38;5;132;01m}\u001b[39;00m\u001b[38;5;124m is not long enough \u001b[39m\u001b[38;5;124m\"\u001b[39m\n\u001b[0;32m    977\u001b[0m                 \u001b[38;5;124mf\u001b[39m\u001b[38;5;124m\"\u001b[39m\u001b[38;5;124mfor axis \u001b[39m\u001b[38;5;132;01m{\u001b[39;00maxis\u001b[38;5;132;01m}\u001b[39;00m\u001b[38;5;124m with size \u001b[39m\u001b[38;5;132;01m{\u001b[39;00mdimension\u001b[38;5;132;01m}\u001b[39;00m\u001b[38;5;124m\"\u001b[39m\n\u001b[0;32m    978\u001b[0m             )\n\u001b[1;32m--> 979\u001b[0m     \u001b[38;5;28;01melif\u001b[39;00m (\u001b[43mind\u001b[49m\u001b[43m \u001b[49m\u001b[38;5;241;43m>\u001b[39;49m\u001b[38;5;241;43m=\u001b[39;49m\u001b[43m \u001b[49m\u001b[43mdimension\u001b[49m)\u001b[38;5;241m.\u001b[39many() \u001b[38;5;129;01mor\u001b[39;00m (ind \u001b[38;5;241m<\u001b[39m \u001b[38;5;241m-\u001b[39mdimension)\u001b[38;5;241m.\u001b[39many():\n\u001b[0;32m    980\u001b[0m         \u001b[38;5;28;01mraise\u001b[39;00m \u001b[38;5;167;01mIndexError\u001b[39;00m(\n\u001b[0;32m    981\u001b[0m             \u001b[38;5;124mf\u001b[39m\u001b[38;5;124m\"\u001b[39m\u001b[38;5;124mIndex is out of bounds for axis \u001b[39m\u001b[38;5;132;01m{\u001b[39;00maxis\u001b[38;5;132;01m}\u001b[39;00m\u001b[38;5;124m with size \u001b[39m\u001b[38;5;132;01m{\u001b[39;00mdimension\u001b[38;5;132;01m}\u001b[39;00m\u001b[38;5;124m\"\u001b[39m\n\u001b[0;32m    982\u001b[0m         )\n\u001b[0;32m    983\u001b[0m \u001b[38;5;28;01melif\u001b[39;00m \u001b[38;5;28misinstance\u001b[39m(ind, \u001b[38;5;28mslice\u001b[39m):\n",
      "\u001b[1;31mTypeError\u001b[0m: '>=' not supported between instances of 'numpy.ndarray' and 'int'"
     ]
    },
    {
     "name": "stdout",
     "output_type": "stream",
     "text": [
      "time: 2.7 s (started: 2022-09-11 13:27:31 +02:00)\n"
     ]
    }
   ],
   "source": [
    "ds.plot_marker_heatmap(group_key=\"RNA_leiden_cluster\", topn=3)"
   ]
  },
  {
   "cell_type": "markdown",
   "id": "c2b1e57a-75b4-40d1-ae86-929ec5ce118d",
   "metadata": {},
   "source": [
    "The heatmaps clearly show that the marker search performed with and without `use_prenormed` parameter lead to same output"
   ]
  },
  {
   "cell_type": "markdown",
   "id": "a54d31a6",
   "metadata": {},
   "source": [
    "---\n",
    "That is all for this vignette."
   ]
  },
  {
   "cell_type": "code",
   "execution_count": null,
   "id": "5abc3b70-6855-4159-b79d-302cb85060ef",
   "metadata": {},
   "outputs": [],
   "source": []
  }
 ],
 "metadata": {
  "jupytext": {
   "cell_metadata_filter": "-all"
  },
  "kernelspec": {
   "display_name": "Python 3 (ipykernel)",
   "language": "python",
   "name": "python3"
  },
  "language_info": {
   "codemirror_mode": {
    "name": "ipython",
    "version": 3
   },
   "file_extension": ".py",
   "mimetype": "text/x-python",
   "name": "python",
   "nbconvert_exporter": "python",
   "pygments_lexer": "ipython3",
   "version": "3.9.12"
  },
  "widgets": {
   "application/vnd.jupyter.widget-state+json": {
    "state": {
     "0091808d4a3e46d4a0f7cd247187edd7": {
      "model_module": "@jupyter-widgets/base",
      "model_module_version": "1.2.0",
      "model_name": "LayoutModel",
      "state": {}
     },
     "009fb3c83c414588adb67dfe87eea871": {
      "model_module": "@jupyter-widgets/controls",
      "model_module_version": "1.5.0",
      "model_name": "FloatProgressModel",
      "state": {
       "bar_style": "success",
       "layout": "IPY_MODEL_60c9086d1a7d40f6b3123a0f54346919",
       "max": 3,
       "style": "IPY_MODEL_77090e75676941a99d31b8b6c7a4ed62",
       "value": 3
      }
     },
     "02508756d1b5496dbef39c71d4009d6e": {
      "model_module": "@jupyter-widgets/controls",
      "model_module_version": "1.5.0",
      "model_name": "HTMLModel",
      "state": {
       "layout": "IPY_MODEL_2b631bb974a0438ea469d1d0e23bb9f0",
       "style": "IPY_MODEL_64793a66c8674ba5a53ff8dadb4134a5",
       "value": " 2/2 [00:00]"
      }
     },
     "02f5f10d114d43588d48343be7b3c375": {
      "model_module": "@jupyter-widgets/controls",
      "model_module_version": "1.5.0",
      "model_name": "HBoxModel",
      "state": {
       "children": [
        "IPY_MODEL_8883392ea5cd44c0970eff83b6bc4167",
        "IPY_MODEL_94612cd651104ea9bad8b04060acf000",
        "IPY_MODEL_c9f4095564514bec83782844382971a5"
       ],
       "layout": "IPY_MODEL_901f4a467d564ac0bf6c314c863253ab"
      }
     },
     "03a1f5a29e884b5fbcd534965627c5d9": {
      "model_module": "@jupyter-widgets/controls",
      "model_module_version": "1.5.0",
      "model_name": "DescriptionStyleModel",
      "state": {
       "description_width": ""
      }
     },
     "03dbcb2fcc8e471a881d2f2b5a1a73bd": {
      "model_module": "@jupyter-widgets/controls",
      "model_module_version": "1.5.0",
      "model_name": "HTMLModel",
      "state": {
       "layout": "IPY_MODEL_633d1ae5b37c40798cd427c24a35d000",
       "style": "IPY_MODEL_3dff7bc199c344ac962d0a2b764aa118",
       "value": " 346/346 [00:00]"
      }
     },
     "041528be533044fdb3091ac28dbcc43a": {
      "model_module": "@jupyter-widgets/controls",
      "model_module_version": "1.5.0",
      "model_name": "HTMLModel",
      "state": {
       "layout": "IPY_MODEL_d8800be9b49447edaad01e5bb11366de",
       "style": "IPY_MODEL_c100035fae2d4a6687a4247f0eba70e3",
       "value": "(RNA) Computing nFeatures: 100%| "
      }
     },
     "0475db9ba59f4f009f46ec242f8d086f": {
      "model_module": "@jupyter-widgets/base",
      "model_module_version": "1.2.0",
      "model_name": "LayoutModel",
      "state": {}
     },
     "065333f376d64e9eb633184d986294d9": {
      "model_module": "@jupyter-widgets/controls",
      "model_module_version": "1.5.0",
      "model_name": "HTMLModel",
      "state": {
       "layout": "IPY_MODEL_0091808d4a3e46d4a0f7cd247187edd7",
       "style": "IPY_MODEL_b45149f34439443982958d2823edc58b",
       "value": " 219/219 [00:00]"
      }
     },
     "06870d087e844da4a157495c045369b2": {
      "model_module": "@jupyter-widgets/controls",
      "model_module_version": "1.5.0",
      "model_name": "HBoxModel",
      "state": {
       "children": [
        "IPY_MODEL_a455f162b466434389e50eb2728ce130",
        "IPY_MODEL_a00e096f8cd6406b8bac89353e0407ee",
        "IPY_MODEL_d0495e852b8f47ae817df9ceaa89d9f1"
       ],
       "layout": "IPY_MODEL_863310c8a14a402e8d512e42ddee78e0"
      }
     },
     "09be14d08da14e85a852a36d767df9b3": {
      "model_module": "@jupyter-widgets/base",
      "model_module_version": "1.2.0",
      "model_name": "LayoutModel",
      "state": {
       "display": "inline-flex",
       "flex_flow": "row wrap",
       "width": "500px"
      }
     },
     "0b50f108b57d4f1f8ad77495d28988bd": {
      "model_module": "@jupyter-widgets/controls",
      "model_module_version": "1.5.0",
      "model_name": "HTMLModel",
      "state": {
       "layout": "IPY_MODEL_3962ba8913a544bbbb8c1b231e82f862",
       "style": "IPY_MODEL_df4dec8b900f4fad8801f8a72fa625af",
       "value": " 3939/3939 [00:00]"
      }
     },
     "0e3b1a00abe2471da249603a4cb21739": {
      "model_module": "@jupyter-widgets/controls",
      "model_module_version": "1.5.0",
      "model_name": "ProgressStyleModel",
      "state": {
       "bar_color": "#34abeb",
       "description_width": ""
      }
     },
     "0ea6eec82d054c04b642bd1a77aebad0": {
      "model_module": "@jupyter-widgets/controls",
      "model_module_version": "1.5.0",
      "model_name": "HBoxModel",
      "state": {
       "children": [
        "IPY_MODEL_abac46dc332b4f4a937fabab3b3b39b7",
        "IPY_MODEL_2bb1346845774d41bcbf7e7b0d6331e9",
        "IPY_MODEL_f9fd3447e1ad4acdad10a182718e0c75"
       ],
       "layout": "IPY_MODEL_ffaed21327ff440aa95df7aab6577f3e"
      }
     },
     "0fa1eddd4a8244f499e2fc27c48fdb66": {
      "model_module": "@jupyter-widgets/controls",
      "model_module_version": "1.5.0",
      "model_name": "DescriptionStyleModel",
      "state": {
       "description_width": ""
      }
     },
     "0fc99523ae014c819e985ed29ac6f6f2": {
      "model_module": "@jupyter-widgets/controls",
      "model_module_version": "1.5.0",
      "model_name": "FloatProgressModel",
      "state": {
       "bar_style": "success",
       "layout": "IPY_MODEL_4461e8dc5dba4fac9ff3c91b5adc15a8",
       "max": 346,
       "style": "IPY_MODEL_dfd0196ceb494660ad21a201ed211aef",
       "value": 346
      }
     },
     "0ff25c5c2b154b60956a43ed15edcff4": {
      "model_module": "@jupyter-widgets/controls",
      "model_module_version": "1.5.0",
      "model_name": "HBoxModel",
      "state": {
       "children": [
        "IPY_MODEL_8e7f867235e14d989dfd97da78855c2a",
        "IPY_MODEL_f80f0b15376b4e59802dc4fbff516484",
        "IPY_MODEL_f788d66af2d54fe690851d056e2beb2f"
       ],
       "layout": "IPY_MODEL_fc69853d159e4d50924e3e8c965ce115"
      }
     },
     "1148942717cf40f58748755c54df06d6": {
      "model_module": "@jupyter-widgets/base",
      "model_module_version": "1.2.0",
      "model_name": "LayoutModel",
      "state": {}
     },
     "115f80fdd24c42aa8edf75fd69cb5464": {
      "model_module": "@jupyter-widgets/base",
      "model_module_version": "1.2.0",
      "model_name": "LayoutModel",
      "state": {}
     },
     "1372484a6e454704a2dfedd181ad6cd8": {
      "model_module": "@jupyter-widgets/controls",
      "model_module_version": "1.5.0",
      "model_name": "HTMLModel",
      "state": {
       "layout": "IPY_MODEL_31ce73031ca74e14a56c21f7def90845",
       "style": "IPY_MODEL_6c70bddccb95401aa30875fdb06b755f",
       "value": "Calculating mean of norm. data: 100%| "
      }
     },
     "14529b4b48a94339a339bde631e38e5a": {
      "model_module": "@jupyter-widgets/controls",
      "model_module_version": "1.5.0",
      "model_name": "FloatProgressModel",
      "state": {
       "bar_style": "success",
       "layout": "IPY_MODEL_f9de1deb1aab43ff9fff5049b0567509",
       "max": 12,
       "style": "IPY_MODEL_ba9c1e4f7dbf4556992008d2210bfc7a",
       "value": 12
      }
     },
     "15cf8dcd3f134959adbf5aeed1d6ab92": {
      "model_module": "@jupyter-widgets/controls",
      "model_module_version": "1.5.0",
      "model_name": "FloatProgressModel",
      "state": {
       "bar_style": "success",
       "layout": "IPY_MODEL_670d461e779d446882d4d6e0ef412be3",
       "max": 346,
       "style": "IPY_MODEL_f4f0e94715cd4463b63e65ad708922bb",
       "value": 346
      }
     },
     "1742682fc3d24d42bd7c5df0505340a0": {
      "model_module": "@jupyter-widgets/base",
      "model_module_version": "1.2.0",
      "model_name": "LayoutModel",
      "state": {}
     },
     "175f7e17daa94895b1cdec2dd025f5c2": {
      "model_module": "@jupyter-widgets/controls",
      "model_module_version": "1.5.0",
      "model_name": "HBoxModel",
      "state": {
       "children": [
        "IPY_MODEL_eb321ae9b2aa424f8cd67a5c37eb9e3b",
        "IPY_MODEL_0fc99523ae014c819e985ed29ac6f6f2",
        "IPY_MODEL_ccec8e3a458848dca80ed70ca8e55be8"
       ],
       "layout": "IPY_MODEL_639333ed7c4c4ef8948f03b4efc67772"
      }
     },
     "17f18ae79d07451298c6742f49e539dc": {
      "model_module": "@jupyter-widgets/controls",
      "model_module_version": "1.5.0",
      "model_name": "DescriptionStyleModel",
      "state": {
       "description_width": ""
      }
     },
     "1854800e434d4a7793f14fb753728446": {
      "model_module": "@jupyter-widgets/controls",
      "model_module_version": "1.5.0",
      "model_name": "FloatProgressModel",
      "state": {
       "bar_style": "success",
       "layout": "IPY_MODEL_61d8f852a11244b7a3cb0519fdd6f863",
       "max": 238,
       "style": "IPY_MODEL_86099c41ecbb4fde8198d696273ed26e",
       "value": 238
      }
     },
     "1860a9f069e843fea1fd13a95fa02a0c": {
      "model_module": "@jupyter-widgets/controls",
      "model_module_version": "1.5.0",
      "model_name": "HBoxModel",
      "state": {
       "children": [
        "IPY_MODEL_a1a076282c9545e9965f6218a2cdaefb",
        "IPY_MODEL_15cf8dcd3f134959adbf5aeed1d6ab92",
        "IPY_MODEL_03dbcb2fcc8e471a881d2f2b5a1a73bd"
       ],
       "layout": "IPY_MODEL_4aff21de6b544d68b07a8a24675ccf29"
      }
     },
     "1b4b54c4680c47289aee0a274866ce4d": {
      "model_module": "@jupyter-widgets/base",
      "model_module_version": "1.2.0",
      "model_name": "LayoutModel",
      "state": {}
     },
     "1bbcf11ca6d649e0b78158cf1a2c7789": {
      "model_module": "@jupyter-widgets/controls",
      "model_module_version": "1.5.0",
      "model_name": "DescriptionStyleModel",
      "state": {
       "description_width": ""
      }
     },
     "1e66480a435b4d8cae77f700f74138dd": {
      "model_module": "@jupyter-widgets/base",
      "model_module_version": "1.2.0",
      "model_name": "LayoutModel",
      "state": {}
     },
     "202db2e581bd46a58ffd1b9c72db8947": {
      "model_module": "@jupyter-widgets/base",
      "model_module_version": "1.2.0",
      "model_name": "LayoutModel",
      "state": {}
     },
     "210c1f1fb6f144158fe13584812e6554": {
      "model_module": "@jupyter-widgets/controls",
      "model_module_version": "1.5.0",
      "model_name": "HTMLModel",
      "state": {
       "layout": "IPY_MODEL_92223d210e62419fa00445efece39d63",
       "style": "IPY_MODEL_ae2f7fa41fe7430cb205be0fff192b6b",
       "value": " 6/6 [00:04]"
      }
     },
     "235ccf698db14101b4e80f23eaec12f4": {
      "model_module": "@jupyter-widgets/controls",
      "model_module_version": "1.5.0",
      "model_name": "HTMLModel",
      "state": {
       "layout": "IPY_MODEL_0475db9ba59f4f009f46ec242f8d086f",
       "style": "IPY_MODEL_b43af474cef64b769ff39b9cad425c20",
       "value": " 2/2 [00:00]"
      }
     },
     "23f5d9a6ac1845f2af9efde28e752740": {
      "model_module": "@jupyter-widgets/base",
      "model_module_version": "1.2.0",
      "model_name": "LayoutModel",
      "state": {}
     },
     "24df77147d7f4816ad987acbae5e8b8e": {
      "model_module": "@jupyter-widgets/controls",
      "model_module_version": "1.5.0",
      "model_name": "ProgressStyleModel",
      "state": {
       "bar_color": "#34abeb",
       "description_width": ""
      }
     },
     "25e89ac9557e4977ae73beebf6f5c4bb": {
      "model_module": "@jupyter-widgets/controls",
      "model_module_version": "1.5.0",
      "model_name": "DescriptionStyleModel",
      "state": {
       "description_width": ""
      }
     },
     "282b02b1844e44389166d8f2c0816c68": {
      "model_module": "@jupyter-widgets/base",
      "model_module_version": "1.2.0",
      "model_name": "LayoutModel",
      "state": {}
     },
     "2b631bb974a0438ea469d1d0e23bb9f0": {
      "model_module": "@jupyter-widgets/base",
      "model_module_version": "1.2.0",
      "model_name": "LayoutModel",
      "state": {}
     },
     "2bb1346845774d41bcbf7e7b0d6331e9": {
      "model_module": "@jupyter-widgets/controls",
      "model_module_version": "1.5.0",
      "model_name": "FloatProgressModel",
      "state": {
       "bar_style": "success",
       "layout": "IPY_MODEL_840bd993a76d416687c5d57d5964ee70",
       "max": 2,
       "style": "IPY_MODEL_24df77147d7f4816ad987acbae5e8b8e",
       "value": 2
      }
     },
     "2bc453b27f5d4e09a533ef0a3685a195": {
      "model_module": "@jupyter-widgets/controls",
      "model_module_version": "1.5.0",
      "model_name": "FloatProgressModel",
      "state": {
       "bar_style": "success",
       "layout": "IPY_MODEL_f0581052385245afa5aebab27aa064d4",
       "max": 2,
       "style": "IPY_MODEL_6ab579aebf344609b87eb891aca4ab4c",
       "value": 2
      }
     },
     "2bda51303f914876b74c41b8a43b2944": {
      "model_module": "@jupyter-widgets/controls",
      "model_module_version": "1.5.0",
      "model_name": "DescriptionStyleModel",
      "state": {
       "description_width": ""
      }
     },
     "2ef981f8a96b4f549e20730e55035fcd": {
      "model_module": "@jupyter-widgets/controls",
      "model_module_version": "1.5.0",
      "model_name": "HTMLModel",
      "state": {
       "layout": "IPY_MODEL_478e6d1cbda94c73924453a00113f809",
       "style": "IPY_MODEL_304ebfa2548d4cee89573c0849dfba3e",
       "value": "Calculating std. dev. of norm. data: 100%| "
      }
     },
     "2f378e1800844027915ae2dd69302d70": {
      "model_module": "@jupyter-widgets/controls",
      "model_module_version": "1.5.0",
      "model_name": "DescriptionStyleModel",
      "state": {
       "description_width": ""
      }
     },
     "304ebfa2548d4cee89573c0849dfba3e": {
      "model_module": "@jupyter-widgets/controls",
      "model_module_version": "1.5.0",
      "model_name": "DescriptionStyleModel",
      "state": {
       "description_width": ""
      }
     },
     "312e6d5db2e64df7912bcc6c0bd735c8": {
      "model_module": "@jupyter-widgets/controls",
      "model_module_version": "1.5.0",
      "model_name": "DescriptionStyleModel",
      "state": {
       "description_width": ""
      }
     },
     "31c95ba11ada4589abd33bb088ba27c3": {
      "model_module": "@jupyter-widgets/controls",
      "model_module_version": "1.5.0",
      "model_name": "HBoxModel",
      "state": {
       "children": [
        "IPY_MODEL_7b965d9f06b045cda534a7f8d97e1410",
        "IPY_MODEL_2bc453b27f5d4e09a533ef0a3685a195",
        "IPY_MODEL_a31d7bd586db4c36ae50bbe44a85b879"
       ],
       "layout": "IPY_MODEL_fe6d6d6d3d4f496aadb3cc2576273b66"
      }
     },
     "31ce73031ca74e14a56c21f7def90845": {
      "model_module": "@jupyter-widgets/base",
      "model_module_version": "1.2.0",
      "model_name": "LayoutModel",
      "state": {}
     },
     "35ed6e4982a7435ca350e3f60e31ee52": {
      "model_module": "@jupyter-widgets/base",
      "model_module_version": "1.2.0",
      "model_name": "LayoutModel",
      "state": {}
     },
     "382e55fdd01e4a789fe2a1a730a58ed0": {
      "model_module": "@jupyter-widgets/controls",
      "model_module_version": "1.5.0",
      "model_name": "DescriptionStyleModel",
      "state": {
       "description_width": ""
      }
     },
     "38ef5cf961a248198d24b365c7181824": {
      "model_module": "@jupyter-widgets/base",
      "model_module_version": "1.2.0",
      "model_name": "LayoutModel",
      "state": {}
     },
     "3962ba8913a544bbbb8c1b231e82f862": {
      "model_module": "@jupyter-widgets/base",
      "model_module_version": "1.2.0",
      "model_name": "LayoutModel",
      "state": {}
     },
     "3ad5da86b7744921b0801da272da40c0": {
      "model_module": "@jupyter-widgets/controls",
      "model_module_version": "1.5.0",
      "model_name": "ProgressStyleModel",
      "state": {
       "bar_color": "#34abeb",
       "description_width": ""
      }
     },
     "3bb4e4a2cafd4c1db98f33be0fb48a5c": {
      "model_module": "@jupyter-widgets/controls",
      "model_module_version": "1.5.0",
      "model_name": "HBoxModel",
      "state": {
       "children": [
        "IPY_MODEL_f05881cd61cf465087c6b7346a3e2adb",
        "IPY_MODEL_1854800e434d4a7793f14fb753728446",
        "IPY_MODEL_46b417c376d14cf286f505f1da66e0be"
       ],
       "layout": "IPY_MODEL_b3f566952f6b42f4876f0c7ec3e5de52"
      }
     },
     "3c1eadd61f1040e7afd03ef224346142": {
      "model_module": "@jupyter-widgets/base",
      "model_module_version": "1.2.0",
      "model_name": "LayoutModel",
      "state": {
       "flex": "2"
      }
     },
     "3c85a654ea8545f1811576e5d0babe57": {
      "model_module": "@jupyter-widgets/controls",
      "model_module_version": "1.5.0",
      "model_name": "DescriptionStyleModel",
      "state": {
       "description_width": ""
      }
     },
     "3dff7bc199c344ac962d0a2b764aa118": {
      "model_module": "@jupyter-widgets/controls",
      "model_module_version": "1.5.0",
      "model_name": "DescriptionStyleModel",
      "state": {
       "description_width": ""
      }
     },
     "40958187c54941a980b13ca8413cd018": {
      "model_module": "@jupyter-widgets/base",
      "model_module_version": "1.2.0",
      "model_name": "LayoutModel",
      "state": {}
     },
     "445df25f97dd4e5ca7fb2ec9b3d95178": {
      "model_module": "@jupyter-widgets/base",
      "model_module_version": "1.2.0",
      "model_name": "LayoutModel",
      "state": {
       "display": "inline-flex",
       "flex_flow": "row wrap",
       "width": "500px"
      }
     },
     "4461e8dc5dba4fac9ff3c91b5adc15a8": {
      "model_module": "@jupyter-widgets/base",
      "model_module_version": "1.2.0",
      "model_name": "LayoutModel",
      "state": {
       "flex": "2"
      }
     },
     "46b417c376d14cf286f505f1da66e0be": {
      "model_module": "@jupyter-widgets/controls",
      "model_module_version": "1.5.0",
      "model_name": "HTMLModel",
      "state": {
       "layout": "IPY_MODEL_6b8c46145538454f8a5cc54268801625",
       "style": "IPY_MODEL_d0f9c440665f48548aadc597e1b23305",
       "value": " 238/238 [00:00]"
      }
     },
     "46bddc39586d4b14889df3ed2aca6388": {
      "model_module": "@jupyter-widgets/controls",
      "model_module_version": "1.5.0",
      "model_name": "HTMLModel",
      "state": {
       "layout": "IPY_MODEL_e47c88116af44b3a9e5808e9bcdeab34",
       "style": "IPY_MODEL_632c6d2d287341bea82a229407beac96",
       "value": " 5/5 [00:00]"
      }
     },
     "4754534ebbf0471b85d36cc366dc2f85": {
      "model_module": "@jupyter-widgets/controls",
      "model_module_version": "1.5.0",
      "model_name": "ProgressStyleModel",
      "state": {
       "bar_color": "#34abeb",
       "description_width": ""
      }
     },
     "478e6d1cbda94c73924453a00113f809": {
      "model_module": "@jupyter-widgets/base",
      "model_module_version": "1.2.0",
      "model_name": "LayoutModel",
      "state": {}
     },
     "4863d9b3d543485080d4ef8c97963cff": {
      "model_module": "@jupyter-widgets/controls",
      "model_module_version": "1.5.0",
      "model_name": "FloatProgressModel",
      "state": {
       "bar_style": "success",
       "layout": "IPY_MODEL_9580ec1bc7624c6f852e5b725903970a",
       "max": 2,
       "style": "IPY_MODEL_b89d12e4a928443b8d210dad32976336",
       "value": 2
      }
     },
     "4aff21de6b544d68b07a8a24675ccf29": {
      "model_module": "@jupyter-widgets/base",
      "model_module_version": "1.2.0",
      "model_name": "LayoutModel",
      "state": {
       "display": "inline-flex",
       "flex_flow": "row wrap",
       "width": "500px"
      }
     },
     "4b6bd1d954ae45b3ac2b3d8b962a84a1": {
      "model_module": "@jupyter-widgets/controls",
      "model_module_version": "1.5.0",
      "model_name": "DescriptionStyleModel",
      "state": {
       "description_width": ""
      }
     },
     "4c3c84fc9f4e43f386a7d948900b00eb": {
      "model_module": "@jupyter-widgets/controls",
      "model_module_version": "1.5.0",
      "model_name": "HTMLModel",
      "state": {
       "layout": "IPY_MODEL_de78e873e7254d35bf8220477091b76a",
       "style": "IPY_MODEL_d113d28b3c6f4a32a68e899497994507",
       "value": " 6/6 [00:00]"
      }
     },
     "4f3c4d0b7a0e4f5582c66a5fef04a930": {
      "model_module": "@jupyter-widgets/controls",
      "model_module_version": "1.5.0",
      "model_name": "HBoxModel",
      "state": {
       "children": [
        "IPY_MODEL_6fe892de1c124c01b44f7d4db8182ae7",
        "IPY_MODEL_009fb3c83c414588adb67dfe87eea871",
        "IPY_MODEL_51c1d89e6462473f92360fc398f29b68"
       ],
       "layout": "IPY_MODEL_64146fc4a5d8417bad3fbd92a69689ad"
      }
     },
     "514c769534b9497e99fb888379fd1830": {
      "model_module": "@jupyter-widgets/controls",
      "model_module_version": "1.5.0",
      "model_name": "DescriptionStyleModel",
      "state": {
       "description_width": ""
      }
     },
     "51c1d89e6462473f92360fc398f29b68": {
      "model_module": "@jupyter-widgets/controls",
      "model_module_version": "1.5.0",
      "model_name": "HTMLModel",
      "state": {
       "layout": "IPY_MODEL_1e66480a435b4d8cae77f700f74138dd",
       "style": "IPY_MODEL_d1cca157d4c249ba8a0398a4251c428f",
       "value": " 3/3 [00:00]"
      }
     },
     "55ffc97a8e79403f8778f8d8acd6d85b": {
      "model_module": "@jupyter-widgets/base",
      "model_module_version": "1.2.0",
      "model_name": "LayoutModel",
      "state": {}
     },
     "56495d886a30403fb4a2844c4ba8684d": {
      "model_module": "@jupyter-widgets/controls",
      "model_module_version": "1.5.0",
      "model_name": "ProgressStyleModel",
      "state": {
       "bar_color": "#34abeb",
       "description_width": ""
      }
     },
     "5945c550f2294082beabab814fdd26fb": {
      "model_module": "@jupyter-widgets/base",
      "model_module_version": "1.2.0",
      "model_name": "LayoutModel",
      "state": {
       "flex": "2"
      }
     },
     "597c428f237a4c0d91c2d85355f46d25": {
      "model_module": "@jupyter-widgets/controls",
      "model_module_version": "1.5.0",
      "model_name": "FloatProgressModel",
      "state": {
       "bar_style": "success",
       "layout": "IPY_MODEL_5945c550f2294082beabab814fdd26fb",
       "max": 240,
       "style": "IPY_MODEL_b134707066ea452ca1a5f9b7fd3f4bf6",
       "value": 240
      }
     },
     "5ac5dc2a0c4c454eacbf59a93dbd1066": {
      "model_module": "@jupyter-widgets/base",
      "model_module_version": "1.2.0",
      "model_name": "LayoutModel",
      "state": {
       "flex": "2"
      }
     },
     "5b597108960b4ad0bbbe5bc2ea88a3e1": {
      "model_module": "@jupyter-widgets/controls",
      "model_module_version": "1.5.0",
      "model_name": "HBoxModel",
      "state": {
       "children": [
        "IPY_MODEL_70999ec799c24db7b97e6cacb6d25317",
        "IPY_MODEL_de3e7f92171e47419f6c741ca83f38c9",
        "IPY_MODEL_ae4b3c63f3844f76a50fdc84ca9640de"
       ],
       "layout": "IPY_MODEL_7a247f6a66aa40959baa3079d6f0d523"
      }
     },
     "5d7305b7910f4e8a8fd4c3ff01095c52": {
      "model_module": "@jupyter-widgets/base",
      "model_module_version": "1.2.0",
      "model_name": "LayoutModel",
      "state": {}
     },
     "5da903d6bf384fd18c5c69f24bc9a61f": {
      "model_module": "@jupyter-widgets/base",
      "model_module_version": "1.2.0",
      "model_name": "LayoutModel",
      "state": {}
     },
     "5de126b69b8a4eab9fe5ac182c6782b4": {
      "model_module": "@jupyter-widgets/controls",
      "model_module_version": "1.5.0",
      "model_name": "HTMLModel",
      "state": {
       "layout": "IPY_MODEL_55ffc97a8e79403f8778f8d8acd6d85b",
       "style": "IPY_MODEL_4b6bd1d954ae45b3ac2b3d8b962a84a1",
       "value": "Normalizing with feature subset: 100%| "
      }
     },
     "5fe62e07296040c4ae267f671de2d1a6": {
      "model_module": "@jupyter-widgets/base",
      "model_module_version": "1.2.0",
      "model_name": "LayoutModel",
      "state": {
       "display": "inline-flex",
       "flex_flow": "row wrap",
       "width": "500px"
      }
     },
     "5fff3453c59645f394e5edea0ec99284": {
      "model_module": "@jupyter-widgets/controls",
      "model_module_version": "1.5.0",
      "model_name": "DescriptionStyleModel",
      "state": {
       "description_width": ""
      }
     },
     "6005b5bdd1ac46e9b61af9905627694f": {
      "model_module": "@jupyter-widgets/controls",
      "model_module_version": "1.5.0",
      "model_name": "HBoxModel",
      "state": {
       "children": [
        "IPY_MODEL_2ef981f8a96b4f549e20730e55035fcd",
        "IPY_MODEL_b7c0ab8ea927420884f0da6793c3cee2",
        "IPY_MODEL_4c3c84fc9f4e43f386a7d948900b00eb"
       ],
       "layout": "IPY_MODEL_9864c831228e40f8b02d7c7106057e36"
      }
     },
     "6021f71520834e368219a5fafe9fa257": {
      "model_module": "@jupyter-widgets/controls",
      "model_module_version": "1.5.0",
      "model_name": "HTMLModel",
      "state": {
       "layout": "IPY_MODEL_7ea6c5f72bf544818b9ef9b743e62400",
       "style": "IPY_MODEL_e6af96af3541478c8fbdcf3c2e810bb4",
       "value": " 12/12 [00:00]"
      }
     },
     "60c9086d1a7d40f6b3123a0f54346919": {
      "model_module": "@jupyter-widgets/base",
      "model_module_version": "1.2.0",
      "model_name": "LayoutModel",
      "state": {
       "flex": "2"
      }
     },
     "61d8f852a11244b7a3cb0519fdd6f863": {
      "model_module": "@jupyter-widgets/base",
      "model_module_version": "1.2.0",
      "model_name": "LayoutModel",
      "state": {
       "flex": "2"
      }
     },
     "632c6d2d287341bea82a229407beac96": {
      "model_module": "@jupyter-widgets/controls",
      "model_module_version": "1.5.0",
      "model_name": "DescriptionStyleModel",
      "state": {
       "description_width": ""
      }
     },
     "633d1ae5b37c40798cd427c24a35d000": {
      "model_module": "@jupyter-widgets/base",
      "model_module_version": "1.2.0",
      "model_name": "LayoutModel",
      "state": {}
     },
     "6349e9854bd24c88a5869c35ae3ca986": {
      "model_module": "@jupyter-widgets/controls",
      "model_module_version": "1.5.0",
      "model_name": "DescriptionStyleModel",
      "state": {
       "description_width": ""
      }
     },
     "639333ed7c4c4ef8948f03b4efc67772": {
      "model_module": "@jupyter-widgets/base",
      "model_module_version": "1.2.0",
      "model_name": "LayoutModel",
      "state": {
       "display": "inline-flex",
       "flex_flow": "row wrap",
       "width": "500px"
      }
     },
     "64146fc4a5d8417bad3fbd92a69689ad": {
      "model_module": "@jupyter-widgets/base",
      "model_module_version": "1.2.0",
      "model_name": "LayoutModel",
      "state": {
       "display": "inline-flex",
       "flex_flow": "row wrap",
       "width": "500px"
      }
     },
     "64793a66c8674ba5a53ff8dadb4134a5": {
      "model_module": "@jupyter-widgets/controls",
      "model_module_version": "1.5.0",
      "model_name": "DescriptionStyleModel",
      "state": {
       "description_width": ""
      }
     },
     "65492494800f4e9786482c1604fc3b5c": {
      "model_module": "@jupyter-widgets/base",
      "model_module_version": "1.2.0",
      "model_name": "LayoutModel",
      "state": {}
     },
     "655dca452314481e9fe692e3488eb1a3": {
      "model_module": "@jupyter-widgets/controls",
      "model_module_version": "1.5.0",
      "model_name": "HTMLModel",
      "state": {
       "layout": "IPY_MODEL_734bbcbfab8e45d68d28b26d950aca97",
       "style": "IPY_MODEL_3c85a654ea8545f1811576e5d0babe57",
       "value": "(RNA) Computing RNA_percentMito: 100%| "
      }
     },
     "656c77f498df423589fc35acd1d32d74": {
      "model_module": "@jupyter-widgets/controls",
      "model_module_version": "1.5.0",
      "model_name": "HTMLModel",
      "state": {
       "layout": "IPY_MODEL_1742682fc3d24d42bd7c5df0505340a0",
       "style": "IPY_MODEL_7b0fccaca6204238a30b38c4b36a85b4",
       "value": "(RNA) Computing normed_tot: 100%| "
      }
     },
     "670c39081aad48bcb35d014939f20e3e": {
      "model_module": "@jupyter-widgets/controls",
      "model_module_version": "1.5.0",
      "model_name": "ProgressStyleModel",
      "state": {
       "bar_color": "#34abeb",
       "description_width": ""
      }
     },
     "670d461e779d446882d4d6e0ef412be3": {
      "model_module": "@jupyter-widgets/base",
      "model_module_version": "1.2.0",
      "model_name": "LayoutModel",
      "state": {
       "flex": "2"
      }
     },
     "672d052e4f3848a2a16e1e21108f8ad5": {
      "model_module": "@jupyter-widgets/controls",
      "model_module_version": "1.5.0",
      "model_name": "DescriptionStyleModel",
      "state": {
       "description_width": ""
      }
     },
     "6a1f80c455c0455b9a9e380837ffd96a": {
      "model_module": "@jupyter-widgets/base",
      "model_module_version": "1.2.0",
      "model_name": "LayoutModel",
      "state": {
       "flex": "2"
      }
     },
     "6ab579aebf344609b87eb891aca4ab4c": {
      "model_module": "@jupyter-widgets/controls",
      "model_module_version": "1.5.0",
      "model_name": "ProgressStyleModel",
      "state": {
       "bar_color": "#34abeb",
       "description_width": ""
      }
     },
     "6b8c46145538454f8a5cc54268801625": {
      "model_module": "@jupyter-widgets/base",
      "model_module_version": "1.2.0",
      "model_name": "LayoutModel",
      "state": {}
     },
     "6bf428fa9a284db9986348b62fe5236f": {
      "model_module": "@jupyter-widgets/base",
      "model_module_version": "1.2.0",
      "model_name": "LayoutModel",
      "state": {
       "flex": "2"
      }
     },
     "6c43bfc8f6dc413a9196d59246f652d5": {
      "model_module": "@jupyter-widgets/controls",
      "model_module_version": "1.5.0",
      "model_name": "HTMLModel",
      "state": {
       "layout": "IPY_MODEL_35ed6e4982a7435ca350e3f60e31ee52",
       "style": "IPY_MODEL_d6dafdb2fa2e4c5780c5dca7b343dbaf",
       "value": " 240/240 [00:00]"
      }
     },
     "6c70bddccb95401aa30875fdb06b755f": {
      "model_module": "@jupyter-widgets/controls",
      "model_module_version": "1.5.0",
      "model_name": "DescriptionStyleModel",
      "state": {
       "description_width": ""
      }
     },
     "6e9e08242b284d96ba29e0db9784d722": {
      "model_module": "@jupyter-widgets/controls",
      "model_module_version": "1.5.0",
      "model_name": "DescriptionStyleModel",
      "state": {
       "description_width": ""
      }
     },
     "6eebc73cf7a34dbaa918aa60698bb02e": {
      "model_module": "@jupyter-widgets/base",
      "model_module_version": "1.2.0",
      "model_name": "LayoutModel",
      "state": {
       "flex": "2"
      }
     },
     "6fcbba17d71b4474b350c2bca2dd582b": {
      "model_module": "@jupyter-widgets/controls",
      "model_module_version": "1.5.0",
      "model_name": "DescriptionStyleModel",
      "state": {
       "description_width": ""
      }
     },
     "6fe892de1c124c01b44f7d4db8182ae7": {
      "model_module": "@jupyter-widgets/controls",
      "model_module_version": "1.5.0",
      "model_name": "HTMLModel",
      "state": {
       "layout": "IPY_MODEL_791b857ce4654c8589fdb6df9765c933",
       "style": "IPY_MODEL_2bda51303f914876b74c41b8a43b2944",
       "value": "Writing data to normed__I__hvgs/data: 100%| "
      }
     },
     "708b5354ed9542d798d77d24552be482": {
      "model_module": "@jupyter-widgets/controls",
      "model_module_version": "1.5.0",
      "model_name": "HBoxModel",
      "state": {
       "children": [
        "IPY_MODEL_656c77f498df423589fc35acd1d32d74",
        "IPY_MODEL_e5b7a7ae1a9f4993b4ed712514ca8aa7",
        "IPY_MODEL_a5a8061b9c5645608736861222527375"
       ],
       "layout": "IPY_MODEL_af84c1817d7041fc9a8ce7e1e6442e4c"
      }
     },
     "70999ec799c24db7b97e6cacb6d25317": {
      "model_module": "@jupyter-widgets/controls",
      "model_module_version": "1.5.0",
      "model_name": "HTMLModel",
      "state": {
       "layout": "IPY_MODEL_5da903d6bf384fd18c5c69f24bc9a61f",
       "style": "IPY_MODEL_514c769534b9497e99fb888379fd1830",
       "value": "Finding markers: 100%| "
      }
     },
     "72908c5b0c4643d8af15cf72c7628148": {
      "model_module": "@jupyter-widgets/controls",
      "model_module_version": "1.5.0",
      "model_name": "ProgressStyleModel",
      "state": {
       "bar_color": "#34abeb",
       "description_width": ""
      }
     },
     "734bbcbfab8e45d68d28b26d950aca97": {
      "model_module": "@jupyter-widgets/base",
      "model_module_version": "1.2.0",
      "model_name": "LayoutModel",
      "state": {}
     },
     "73f72d60b98f497eba888b665d54fc94": {
      "model_module": "@jupyter-widgets/controls",
      "model_module_version": "1.5.0",
      "model_name": "ProgressStyleModel",
      "state": {
       "bar_color": "#34abeb",
       "description_width": ""
      }
     },
     "76570f1c83c94f68b35b681a2d2465a0": {
      "model_module": "@jupyter-widgets/base",
      "model_module_version": "1.2.0",
      "model_name": "LayoutModel",
      "state": {}
     },
     "77090e75676941a99d31b8b6c7a4ed62": {
      "model_module": "@jupyter-widgets/controls",
      "model_module_version": "1.5.0",
      "model_name": "ProgressStyleModel",
      "state": {
       "bar_color": "#34abeb",
       "description_width": ""
      }
     },
     "770b92a389cb4fb7aa601828ed18c502": {
      "model_module": "@jupyter-widgets/controls",
      "model_module_version": "1.5.0",
      "model_name": "FloatProgressModel",
      "state": {
       "bar_style": "success",
       "layout": "IPY_MODEL_b9b5031c40eb473d8658288c85725b1c",
       "max": 5,
       "style": "IPY_MODEL_c2f4aa75817b4bc9a5a994aacc9e62c3",
       "value": 5
      }
     },
     "77ae139abad74a9fa8c92ccd9eb4f721": {
      "model_module": "@jupyter-widgets/base",
      "model_module_version": "1.2.0",
      "model_name": "LayoutModel",
      "state": {
       "flex": "2"
      }
     },
     "791b857ce4654c8589fdb6df9765c933": {
      "model_module": "@jupyter-widgets/base",
      "model_module_version": "1.2.0",
      "model_name": "LayoutModel",
      "state": {}
     },
     "7987b7dafa8f41f0a0940cd9bd85d030": {
      "model_module": "@jupyter-widgets/base",
      "model_module_version": "1.2.0",
      "model_name": "LayoutModel",
      "state": {}
     },
     "7a247f6a66aa40959baa3079d6f0d523": {
      "model_module": "@jupyter-widgets/base",
      "model_module_version": "1.2.0",
      "model_name": "LayoutModel",
      "state": {
       "display": "inline-flex",
       "flex_flow": "row wrap",
       "width": "500px"
      }
     },
     "7a65a52dd724469fbe77c422d763996a": {
      "model_module": "@jupyter-widgets/controls",
      "model_module_version": "1.5.0",
      "model_name": "HTMLModel",
      "state": {
       "layout": "IPY_MODEL_c780634c27fb4a39bddc7c78761a50a3",
       "style": "IPY_MODEL_cd4a933e77e04325bc8378155c064381",
       "value": "100%| "
      }
     },
     "7b0fccaca6204238a30b38c4b36a85b4": {
      "model_module": "@jupyter-widgets/controls",
      "model_module_version": "1.5.0",
      "model_name": "DescriptionStyleModel",
      "state": {
       "description_width": ""
      }
     },
     "7b69e8de21b6445e85928f9ad7a96c10": {
      "model_module": "@jupyter-widgets/controls",
      "model_module_version": "1.5.0",
      "model_name": "DescriptionStyleModel",
      "state": {
       "description_width": ""
      }
     },
     "7b965d9f06b045cda534a7f8d97e1410": {
      "model_module": "@jupyter-widgets/controls",
      "model_module_version": "1.5.0",
      "model_name": "HTMLModel",
      "state": {
       "layout": "IPY_MODEL_b017a13e33d14841961e20a631f9290e",
       "style": "IPY_MODEL_adbdc6fcebe743119c1939b859d7b955",
       "value": "Fitting ANN: 100%| "
      }
     },
     "7cc616b51fa843acad7b44be9d6746f0": {
      "model_module": "@jupyter-widgets/controls",
      "model_module_version": "1.5.0",
      "model_name": "ProgressStyleModel",
      "state": {
       "bar_color": "#34abeb",
       "description_width": ""
      }
     },
     "7d70ffc6db2f4e09b302fb8a333305b5": {
      "model_module": "@jupyter-widgets/controls",
      "model_module_version": "1.5.0",
      "model_name": "HTMLModel",
      "state": {
       "layout": "IPY_MODEL_202db2e581bd46a58ffd1b9c72db8947",
       "style": "IPY_MODEL_0fa1eddd4a8244f499e2fc27c48fdb66",
       "value": " 2/2 [00:00]"
      }
     },
     "7ea6c5f72bf544818b9ef9b743e62400": {
      "model_module": "@jupyter-widgets/base",
      "model_module_version": "1.2.0",
      "model_name": "LayoutModel",
      "state": {}
     },
     "7fb1c80c4a1441188710ac6bff78050f": {
      "model_module": "@jupyter-widgets/controls",
      "model_module_version": "1.5.0",
      "model_name": "FloatProgressModel",
      "state": {
       "bar_style": "success",
       "layout": "IPY_MODEL_896c82784046423aa89bd849154d6f12",
       "max": 6,
       "style": "IPY_MODEL_9ed5d035040743278a98347d62849738",
       "value": 6
      }
     },
     "810ae7e84173409395fd5a4fd520c273": {
      "model_module": "@jupyter-widgets/controls",
      "model_module_version": "1.5.0",
      "model_name": "DescriptionStyleModel",
      "state": {
       "description_width": ""
      }
     },
     "840bd993a76d416687c5d57d5964ee70": {
      "model_module": "@jupyter-widgets/base",
      "model_module_version": "1.2.0",
      "model_name": "LayoutModel",
      "state": {
       "flex": "2"
      }
     },
     "86099c41ecbb4fde8198d696273ed26e": {
      "model_module": "@jupyter-widgets/controls",
      "model_module_version": "1.5.0",
      "model_name": "ProgressStyleModel",
      "state": {
       "bar_color": "#34abeb",
       "description_width": ""
      }
     },
     "863310c8a14a402e8d512e42ddee78e0": {
      "model_module": "@jupyter-widgets/base",
      "model_module_version": "1.2.0",
      "model_name": "LayoutModel",
      "state": {
       "display": "inline-flex",
       "flex_flow": "row wrap",
       "width": "500px"
      }
     },
     "8883392ea5cd44c0970eff83b6bc4167": {
      "model_module": "@jupyter-widgets/controls",
      "model_module_version": "1.5.0",
      "model_name": "HTMLModel",
      "state": {
       "layout": "IPY_MODEL_5d7305b7910f4e8a8fd4c3ff01095c52",
       "style": "IPY_MODEL_5fff3453c59645f394e5edea0ec99284",
       "value": "(RNA) Computing nCounts: 100%| "
      }
     },
     "88e471987f7c4766b7369000c0da452f": {
      "model_module": "@jupyter-widgets/controls",
      "model_module_version": "1.5.0",
      "model_name": "ProgressStyleModel",
      "state": {
       "bar_color": "#34abeb",
       "description_width": ""
      }
     },
     "896c82784046423aa89bd849154d6f12": {
      "model_module": "@jupyter-widgets/base",
      "model_module_version": "1.2.0",
      "model_name": "LayoutModel",
      "state": {
       "flex": "2"
      }
     },
     "8bb1da9c42ff408ba91355ac7086067a": {
      "model_module": "@jupyter-widgets/controls",
      "model_module_version": "1.5.0",
      "model_name": "HBoxModel",
      "state": {
       "children": [
        "IPY_MODEL_ed33aad3a17b47f7ad19c7aba6cb44f6",
        "IPY_MODEL_14529b4b48a94339a339bde631e38e5a",
        "IPY_MODEL_6021f71520834e368219a5fafe9fa257"
       ],
       "layout": "IPY_MODEL_445df25f97dd4e5ca7fb2ec9b3d95178"
      }
     },
     "8c1608a346914133b0c9569c3371fb26": {
      "model_module": "@jupyter-widgets/base",
      "model_module_version": "1.2.0",
      "model_name": "LayoutModel",
      "state": {}
     },
     "8de5d13bb6f04e03b2c070d80cd2dabf": {
      "model_module": "@jupyter-widgets/base",
      "model_module_version": "1.2.0",
      "model_name": "LayoutModel",
      "state": {}
     },
     "8e7f867235e14d989dfd97da78855c2a": {
      "model_module": "@jupyter-widgets/controls",
      "model_module_version": "1.5.0",
      "model_name": "HTMLModel",
      "state": {
       "layout": "IPY_MODEL_115f80fdd24c42aa8edf75fd69cb5464",
       "style": "IPY_MODEL_25e89ac9557e4977ae73beebf6f5c4bb",
       "value": "(RNA) Computing RNA_percentRibo: 100%| "
      }
     },
     "8ea1c78822e04befabc4453ecfa8c092": {
      "model_module": "@jupyter-widgets/controls",
      "model_module_version": "1.5.0",
      "model_name": "ProgressStyleModel",
      "state": {
       "bar_color": "#34abeb",
       "description_width": ""
      }
     },
     "8eb22e9a8db6404a92232151e4ede60b": {
      "model_module": "@jupyter-widgets/controls",
      "model_module_version": "1.5.0",
      "model_name": "DescriptionStyleModel",
      "state": {
       "description_width": ""
      }
     },
     "8f77e07ddbe741ecae33bc50110711d9": {
      "model_module": "@jupyter-widgets/base",
      "model_module_version": "1.2.0",
      "model_name": "LayoutModel",
      "state": {
       "flex": "2"
      }
     },
     "901f4a467d564ac0bf6c314c863253ab": {
      "model_module": "@jupyter-widgets/base",
      "model_module_version": "1.2.0",
      "model_name": "LayoutModel",
      "state": {
       "display": "inline-flex",
       "flex_flow": "row wrap",
       "width": "500px"
      }
     },
     "90b0447622e8401aaac9dee45f46e6cb": {
      "model_module": "@jupyter-widgets/controls",
      "model_module_version": "1.5.0",
      "model_name": "ProgressStyleModel",
      "state": {
       "bar_color": "#34abeb",
       "description_width": ""
      }
     },
     "9122f3cbb3c246e39d9ad99b6776265f": {
      "model_module": "@jupyter-widgets/controls",
      "model_module_version": "1.5.0",
      "model_name": "HBoxModel",
      "state": {
       "children": [
        "IPY_MODEL_cbcd0c6f021649dfa0c998503a2ca544",
        "IPY_MODEL_4863d9b3d543485080d4ef8c97963cff",
        "IPY_MODEL_02508756d1b5496dbef39c71d4009d6e"
       ],
       "layout": "IPY_MODEL_b9333e7926ca4dab9a922cdeec3fc7e5"
      }
     },
     "92223d210e62419fa00445efece39d63": {
      "model_module": "@jupyter-widgets/base",
      "model_module_version": "1.2.0",
      "model_name": "LayoutModel",
      "state": {}
     },
     "9379803e858540bebaa93612c4cb614a": {
      "model_module": "@jupyter-widgets/controls",
      "model_module_version": "1.5.0",
      "model_name": "HTMLModel",
      "state": {
       "layout": "IPY_MODEL_1148942717cf40f58748755c54df06d6",
       "style": "IPY_MODEL_382e55fdd01e4a789fe2a1a730a58ed0",
       "value": " 2/2 [00:02]"
      }
     },
     "94612cd651104ea9bad8b04060acf000": {
      "model_module": "@jupyter-widgets/controls",
      "model_module_version": "1.5.0",
      "model_name": "FloatProgressModel",
      "state": {
       "bar_style": "success",
       "layout": "IPY_MODEL_dd40b8151e534f06ad436e4d3ab45d87",
       "max": 240,
       "style": "IPY_MODEL_56495d886a30403fb4a2844c4ba8684d",
       "value": 240
      }
     },
     "9580ec1bc7624c6f852e5b725903970a": {
      "model_module": "@jupyter-widgets/base",
      "model_module_version": "1.2.0",
      "model_name": "LayoutModel",
      "state": {
       "flex": "2"
      }
     },
     "95ad7cae64cb4a28ae989a5186067f90": {
      "model_module": "@jupyter-widgets/controls",
      "model_module_version": "1.5.0",
      "model_name": "DescriptionStyleModel",
      "state": {
       "description_width": ""
      }
     },
     "9609b8e60c034b729612509070d6d845": {
      "model_module": "@jupyter-widgets/base",
      "model_module_version": "1.2.0",
      "model_name": "LayoutModel",
      "state": {
       "flex": "2"
      }
     },
     "9864c831228e40f8b02d7c7106057e36": {
      "model_module": "@jupyter-widgets/base",
      "model_module_version": "1.2.0",
      "model_name": "LayoutModel",
      "state": {
       "display": "inline-flex",
       "flex_flow": "row wrap",
       "width": "500px"
      }
     },
     "98fd8bac6d254396bc9f09929965816a": {
      "model_module": "@jupyter-widgets/controls",
      "model_module_version": "1.5.0",
      "model_name": "DescriptionStyleModel",
      "state": {
       "description_width": ""
      }
     },
     "9accc3fdfca247abb12fbea3eff05864": {
      "model_module": "@jupyter-widgets/controls",
      "model_module_version": "1.5.0",
      "model_name": "HBoxModel",
      "state": {
       "children": [
        "IPY_MODEL_7a65a52dd724469fbe77c422d763996a",
        "IPY_MODEL_7fb1c80c4a1441188710ac6bff78050f",
        "IPY_MODEL_210c1f1fb6f144158fe13584812e6554"
       ],
       "layout": "IPY_MODEL_c12dd5ca921e4ac5adfff3a37cf35a07"
      }
     },
     "9d7ce4641b4a4296a376a690c6c10f81": {
      "model_module": "@jupyter-widgets/base",
      "model_module_version": "1.2.0",
      "model_name": "LayoutModel",
      "state": {}
     },
     "9e22c3e68abc448690ede6381b1a9013": {
      "model_module": "@jupyter-widgets/controls",
      "model_module_version": "1.5.0",
      "model_name": "FloatProgressModel",
      "state": {
       "bar_style": "success",
       "layout": "IPY_MODEL_6a1f80c455c0455b9a9e380837ffd96a",
       "max": 3939,
       "style": "IPY_MODEL_72908c5b0c4643d8af15cf72c7628148",
       "value": 3939
      }
     },
     "9ed5d035040743278a98347d62849738": {
      "model_module": "@jupyter-widgets/controls",
      "model_module_version": "1.5.0",
      "model_name": "ProgressStyleModel",
      "state": {
       "bar_color": "#34abeb",
       "description_width": ""
      }
     },
     "a00e096f8cd6406b8bac89353e0407ee": {
      "model_module": "@jupyter-widgets/controls",
      "model_module_version": "1.5.0",
      "model_name": "FloatProgressModel",
      "state": {
       "bar_style": "success",
       "layout": "IPY_MODEL_5ac5dc2a0c4c454eacbf59a93dbd1066",
       "max": 2,
       "style": "IPY_MODEL_b9e82cd1e7c04df4a8c2144c036f1919",
       "value": 2
      }
     },
     "a105bbce2f1a4ce3a0ae58105e6b350b": {
      "model_module": "@jupyter-widgets/controls",
      "model_module_version": "1.5.0",
      "model_name": "HBoxModel",
      "state": {
       "children": [
        "IPY_MODEL_dd68c3c576844debb5c0e17c90c36758",
        "IPY_MODEL_9e22c3e68abc448690ede6381b1a9013",
        "IPY_MODEL_0b50f108b57d4f1f8ad77495d28988bd"
       ],
       "layout": "IPY_MODEL_09be14d08da14e85a852a36d767df9b3"
      }
     },
     "a1a076282c9545e9965f6218a2cdaefb": {
      "model_module": "@jupyter-widgets/controls",
      "model_module_version": "1.5.0",
      "model_name": "HTMLModel",
      "state": {
       "layout": "IPY_MODEL_23f5d9a6ac1845f2af9efde28e752740",
       "style": "IPY_MODEL_fed28509c88c4327bafcff0d82a45ee7",
       "value": "(RNA) Computing nCells: 100%| "
      }
     },
     "a20b4318de8446ca97a9fdc4b2a15339": {
      "model_module": "@jupyter-widgets/controls",
      "model_module_version": "1.5.0",
      "model_name": "DescriptionStyleModel",
      "state": {
       "description_width": ""
      }
     },
     "a31d7bd586db4c36ae50bbe44a85b879": {
      "model_module": "@jupyter-widgets/controls",
      "model_module_version": "1.5.0",
      "model_name": "HTMLModel",
      "state": {
       "layout": "IPY_MODEL_8c1608a346914133b0c9569c3371fb26",
       "style": "IPY_MODEL_e8be0ad5651c49be8b9d354c1579af79",
       "value": " 2/2 [00:00]"
      }
     },
     "a326576d2a9b44c4bc0dbc461a730900": {
      "model_module": "@jupyter-widgets/controls",
      "model_module_version": "1.5.0",
      "model_name": "FloatProgressModel",
      "state": {
       "bar_style": "success",
       "layout": "IPY_MODEL_77ae139abad74a9fa8c92ccd9eb4f721",
       "max": 219,
       "style": "IPY_MODEL_3ad5da86b7744921b0801da272da40c0",
       "value": 219
      }
     },
     "a3472c368e80449880c67a2137b6a757": {
      "model_module": "@jupyter-widgets/base",
      "model_module_version": "1.2.0",
      "model_name": "LayoutModel",
      "state": {
       "display": "inline-flex",
       "flex_flow": "row wrap",
       "width": "500px"
      }
     },
     "a3dba64fc3a34793b87a8855abf437a0": {
      "model_module": "@jupyter-widgets/base",
      "model_module_version": "1.2.0",
      "model_name": "LayoutModel",
      "state": {
       "display": "inline-flex",
       "flex_flow": "row wrap",
       "width": "500px"
      }
     },
     "a455f162b466434389e50eb2728ce130": {
      "model_module": "@jupyter-widgets/controls",
      "model_module_version": "1.5.0",
      "model_name": "HTMLModel",
      "state": {
       "layout": "IPY_MODEL_ff2ce47e15d94525b849aa71e3bec287",
       "style": "IPY_MODEL_17f18ae79d07451298c6742f49e539dc",
       "value": "Estimating seed partitions: 100%| "
      }
     },
     "a5a8061b9c5645608736861222527375": {
      "model_module": "@jupyter-widgets/controls",
      "model_module_version": "1.5.0",
      "model_name": "HTMLModel",
      "state": {
       "layout": "IPY_MODEL_38ef5cf961a248198d24b365c7181824",
       "style": "IPY_MODEL_a20b4318de8446ca97a9fdc4b2a15339",
       "value": " 346/346 [00:00]"
      }
     },
     "a6877ef5a6b34e308631a2663e1d883f": {
      "model_module": "@jupyter-widgets/controls",
      "model_module_version": "1.5.0",
      "model_name": "HBoxModel",
      "state": {
       "children": [
        "IPY_MODEL_655dca452314481e9fe692e3488eb1a3",
        "IPY_MODEL_a326576d2a9b44c4bc0dbc461a730900",
        "IPY_MODEL_065333f376d64e9eb633184d986294d9"
       ],
       "layout": "IPY_MODEL_b04c79922c004e8182fdad783532ce49"
      }
     },
     "abac46dc332b4f4a937fabab3b3b39b7": {
      "model_module": "@jupyter-widgets/controls",
      "model_module_version": "1.5.0",
      "model_name": "HTMLModel",
      "state": {
       "layout": "IPY_MODEL_d8afd2c465ea4304b6794b13bd1bb0ec",
       "style": "IPY_MODEL_f630195e4df841e5896a4b8e5aaa5d03",
       "value": "Downloading 1/1: 100%| "
      }
     },
     "aca6b7a8d1b54729bf882780fbdd2162": {
      "model_module": "@jupyter-widgets/base",
      "model_module_version": "1.2.0",
      "model_name": "LayoutModel",
      "state": {
       "flex": "2"
      }
     },
     "adbdc6fcebe743119c1939b859d7b955": {
      "model_module": "@jupyter-widgets/controls",
      "model_module_version": "1.5.0",
      "model_name": "DescriptionStyleModel",
      "state": {
       "description_width": ""
      }
     },
     "ae2f7fa41fe7430cb205be0fff192b6b": {
      "model_module": "@jupyter-widgets/controls",
      "model_module_version": "1.5.0",
      "model_name": "DescriptionStyleModel",
      "state": {
       "description_width": ""
      }
     },
     "ae4b3c63f3844f76a50fdc84ca9640de": {
      "model_module": "@jupyter-widgets/controls",
      "model_module_version": "1.5.0",
      "model_name": "HTMLModel",
      "state": {
       "layout": "IPY_MODEL_ae650844558a4a62897da52f00e217dd",
       "style": "IPY_MODEL_1bbcf11ca6d649e0b78158cf1a2c7789",
       "value": " 272/272 [00:16]"
      }
     },
     "ae650844558a4a62897da52f00e217dd": {
      "model_module": "@jupyter-widgets/base",
      "model_module_version": "1.2.0",
      "model_name": "LayoutModel",
      "state": {}
     },
     "af84c1817d7041fc9a8ce7e1e6442e4c": {
      "model_module": "@jupyter-widgets/base",
      "model_module_version": "1.2.0",
      "model_name": "LayoutModel",
      "state": {
       "display": "inline-flex",
       "flex_flow": "row wrap",
       "width": "500px"
      }
     },
     "b017a13e33d14841961e20a631f9290e": {
      "model_module": "@jupyter-widgets/base",
      "model_module_version": "1.2.0",
      "model_name": "LayoutModel",
      "state": {}
     },
     "b04c79922c004e8182fdad783532ce49": {
      "model_module": "@jupyter-widgets/base",
      "model_module_version": "1.2.0",
      "model_name": "LayoutModel",
      "state": {
       "display": "inline-flex",
       "flex_flow": "row wrap",
       "width": "500px"
      }
     },
     "b134707066ea452ca1a5f9b7fd3f4bf6": {
      "model_module": "@jupyter-widgets/controls",
      "model_module_version": "1.5.0",
      "model_name": "ProgressStyleModel",
      "state": {
       "bar_color": "#34abeb",
       "description_width": ""
      }
     },
     "b189357ca26745a5bb144c202abd8209": {
      "model_module": "@jupyter-widgets/controls",
      "model_module_version": "1.5.0",
      "model_name": "HTMLModel",
      "state": {
       "layout": "IPY_MODEL_ccf1b6ea7adf4780a49aeb89c0bfb961",
       "style": "IPY_MODEL_672d052e4f3848a2a16e1e21108f8ad5",
       "value": "Saving KNN graph: 100%| "
      }
     },
     "b34487183d7c42478ae1a5c2c0c99145": {
      "model_module": "@jupyter-widgets/base",
      "model_module_version": "1.2.0",
      "model_name": "LayoutModel",
      "state": {
       "flex": "2"
      }
     },
     "b3f566952f6b42f4876f0c7ec3e5de52": {
      "model_module": "@jupyter-widgets/base",
      "model_module_version": "1.2.0",
      "model_name": "LayoutModel",
      "state": {
       "display": "inline-flex",
       "flex_flow": "row wrap",
       "width": "500px"
      }
     },
     "b43af474cef64b769ff39b9cad425c20": {
      "model_module": "@jupyter-widgets/controls",
      "model_module_version": "1.5.0",
      "model_name": "DescriptionStyleModel",
      "state": {
       "description_width": ""
      }
     },
     "b45149f34439443982958d2823edc58b": {
      "model_module": "@jupyter-widgets/controls",
      "model_module_version": "1.5.0",
      "model_name": "DescriptionStyleModel",
      "state": {
       "description_width": ""
      }
     },
     "b4b3ef9d18ac4d07b08e285e1628cab9": {
      "model_module": "@jupyter-widgets/base",
      "model_module_version": "1.2.0",
      "model_name": "LayoutModel",
      "state": {}
     },
     "b7c0ab8ea927420884f0da6793c3cee2": {
      "model_module": "@jupyter-widgets/controls",
      "model_module_version": "1.5.0",
      "model_name": "FloatProgressModel",
      "state": {
       "bar_style": "success",
       "layout": "IPY_MODEL_b34487183d7c42478ae1a5c2c0c99145",
       "max": 6,
       "style": "IPY_MODEL_4754534ebbf0471b85d36cc366dc2f85",
       "value": 6
      }
     },
     "b822205ca4fd4cbc972a11ab5ff7f440": {
      "model_module": "@jupyter-widgets/base",
      "model_module_version": "1.2.0",
      "model_name": "LayoutModel",
      "state": {}
     },
     "b89d12e4a928443b8d210dad32976336": {
      "model_module": "@jupyter-widgets/controls",
      "model_module_version": "1.5.0",
      "model_name": "ProgressStyleModel",
      "state": {
       "bar_color": "#34abeb",
       "description_width": ""
      }
     },
     "b9333e7926ca4dab9a922cdeec3fc7e5": {
      "model_module": "@jupyter-widgets/base",
      "model_module_version": "1.2.0",
      "model_name": "LayoutModel",
      "state": {
       "display": "inline-flex",
       "flex_flow": "row wrap",
       "width": "500px"
      }
     },
     "b9858397323e40768e7aead6ff2420bb": {
      "model_module": "@jupyter-widgets/base",
      "model_module_version": "1.2.0",
      "model_name": "LayoutModel",
      "state": {
       "flex": "2"
      }
     },
     "b9b5031c40eb473d8658288c85725b1c": {
      "model_module": "@jupyter-widgets/base",
      "model_module_version": "1.2.0",
      "model_name": "LayoutModel",
      "state": {
       "flex": "2"
      }
     },
     "b9e82cd1e7c04df4a8c2144c036f1919": {
      "model_module": "@jupyter-widgets/controls",
      "model_module_version": "1.5.0",
      "model_name": "ProgressStyleModel",
      "state": {
       "bar_color": "#34abeb",
       "description_width": ""
      }
     },
     "b9f27230a8d74c0283483d82b0d1825d": {
      "model_module": "@jupyter-widgets/controls",
      "model_module_version": "1.5.0",
      "model_name": "FloatProgressModel",
      "state": {
       "bar_style": "success",
       "layout": "IPY_MODEL_b9858397323e40768e7aead6ff2420bb",
       "max": 240,
       "style": "IPY_MODEL_73f72d60b98f497eba888b665d54fc94",
       "value": 240
      }
     },
     "ba9c1e4f7dbf4556992008d2210bfc7a": {
      "model_module": "@jupyter-widgets/controls",
      "model_module_version": "1.5.0",
      "model_name": "ProgressStyleModel",
      "state": {
       "bar_color": "#34abeb",
       "description_width": ""
      }
     },
     "be5975979e134b2caaa95a6930b7e91e": {
      "model_module": "@jupyter-widgets/controls",
      "model_module_version": "1.5.0",
      "model_name": "HTMLModel",
      "state": {
       "layout": "IPY_MODEL_282b02b1844e44389166d8f2c0816c68",
       "style": "IPY_MODEL_7b69e8de21b6445e85928f9ad7a96c10",
       "value": "Fitting kmeans: 100%| "
      }
     },
     "bfb23095d11949c391a52be422db8dc3": {
      "model_module": "@jupyter-widgets/base",
      "model_module_version": "1.2.0",
      "model_name": "LayoutModel",
      "state": {}
     },
     "c08e932f447f4e8ebf65d31e2f787293": {
      "model_module": "@jupyter-widgets/controls",
      "model_module_version": "1.5.0",
      "model_name": "HTMLModel",
      "state": {
       "layout": "IPY_MODEL_8de5d13bb6f04e03b2c070d80cd2dabf",
       "style": "IPY_MODEL_810ae7e84173409395fd5a4fd520c273",
       "value": "Smoothening KNN distances: 100%| "
      }
     },
     "c100035fae2d4a6687a4247f0eba70e3": {
      "model_module": "@jupyter-widgets/controls",
      "model_module_version": "1.5.0",
      "model_name": "DescriptionStyleModel",
      "state": {
       "description_width": ""
      }
     },
     "c12dd5ca921e4ac5adfff3a37cf35a07": {
      "model_module": "@jupyter-widgets/base",
      "model_module_version": "1.2.0",
      "model_name": "LayoutModel",
      "state": {
       "display": "inline-flex",
       "flex_flow": "row wrap",
       "width": "500px"
      }
     },
     "c2f4aa75817b4bc9a5a994aacc9e62c3": {
      "model_module": "@jupyter-widgets/controls",
      "model_module_version": "1.5.0",
      "model_name": "ProgressStyleModel",
      "state": {
       "bar_color": "#34abeb",
       "description_width": ""
      }
     },
     "c780634c27fb4a39bddc7c78761a50a3": {
      "model_module": "@jupyter-widgets/base",
      "model_module_version": "1.2.0",
      "model_name": "LayoutModel",
      "state": {}
     },
     "c8fda3c75ac844359368205b98433079": {
      "model_module": "@jupyter-widgets/controls",
      "model_module_version": "1.5.0",
      "model_name": "HBoxModel",
      "state": {
       "children": [
        "IPY_MODEL_be5975979e134b2caaa95a6930b7e91e",
        "IPY_MODEL_db9d162c9f4042f59f4231a0e9028fdd",
        "IPY_MODEL_7d70ffc6db2f4e09b302fb8a333305b5"
       ],
       "layout": "IPY_MODEL_ed985bd9792d4b17b904745257ac468c"
      }
     },
     "c9991e68d3f54eb8bf46ee2b0226d073": {
      "model_module": "@jupyter-widgets/controls",
      "model_module_version": "1.5.0",
      "model_name": "DescriptionStyleModel",
      "state": {
       "description_width": ""
      }
     },
     "c9f4095564514bec83782844382971a5": {
      "model_module": "@jupyter-widgets/controls",
      "model_module_version": "1.5.0",
      "model_name": "HTMLModel",
      "state": {
       "layout": "IPY_MODEL_bfb23095d11949c391a52be422db8dc3",
       "style": "IPY_MODEL_2f378e1800844027915ae2dd69302d70",
       "value": " 240/240 [00:00]"
      }
     },
     "ca666e75b62d432e97d9ff03c3f58c6a": {
      "model_module": "@jupyter-widgets/controls",
      "model_module_version": "1.5.0",
      "model_name": "DescriptionStyleModel",
      "state": {
       "description_width": ""
      }
     },
     "cbcd0c6f021649dfa0c998503a2ca544": {
      "model_module": "@jupyter-widgets/controls",
      "model_module_version": "1.5.0",
      "model_name": "HTMLModel",
      "state": {
       "layout": "IPY_MODEL_1b4b54c4680c47289aee0a274866ce4d",
       "style": "IPY_MODEL_95ad7cae64cb4a28ae989a5186067f90",
       "value": "Fitting PCA: 100%| "
      }
     },
     "ccec8e3a458848dca80ed70ca8e55be8": {
      "model_module": "@jupyter-widgets/controls",
      "model_module_version": "1.5.0",
      "model_name": "HTMLModel",
      "state": {
       "layout": "IPY_MODEL_76570f1c83c94f68b35b681a2d2465a0",
       "style": "IPY_MODEL_6fcbba17d71b4474b350c2bca2dd582b",
       "value": " 346/346 [00:00]"
      }
     },
     "ccf1b6ea7adf4780a49aeb89c0bfb961": {
      "model_module": "@jupyter-widgets/base",
      "model_module_version": "1.2.0",
      "model_name": "LayoutModel",
      "state": {}
     },
     "cd2db3b5611f4c589586e2660c7741ce": {
      "model_module": "@jupyter-widgets/controls",
      "model_module_version": "1.5.0",
      "model_name": "HTMLModel",
      "state": {
       "layout": "IPY_MODEL_7987b7dafa8f41f0a0940cd9bd85d030",
       "style": "IPY_MODEL_98fd8bac6d254396bc9f09929965816a",
       "value": " 240/240 [00:00]"
      }
     },
     "cd4a933e77e04325bc8378155c064381": {
      "model_module": "@jupyter-widgets/controls",
      "model_module_version": "1.5.0",
      "model_name": "DescriptionStyleModel",
      "state": {
       "description_width": ""
      }
     },
     "d0495e852b8f47ae817df9ceaa89d9f1": {
      "model_module": "@jupyter-widgets/controls",
      "model_module_version": "1.5.0",
      "model_name": "HTMLModel",
      "state": {
       "layout": "IPY_MODEL_65492494800f4e9786482c1604fc3b5c",
       "style": "IPY_MODEL_ca666e75b62d432e97d9ff03c3f58c6a",
       "value": " 2/2 [00:00]"
      }
     },
     "d0f9c440665f48548aadc597e1b23305": {
      "model_module": "@jupyter-widgets/controls",
      "model_module_version": "1.5.0",
      "model_name": "DescriptionStyleModel",
      "state": {
       "description_width": ""
      }
     },
     "d113d28b3c6f4a32a68e899497994507": {
      "model_module": "@jupyter-widgets/controls",
      "model_module_version": "1.5.0",
      "model_name": "DescriptionStyleModel",
      "state": {
       "description_width": ""
      }
     },
     "d1cbd9cf21c944018d2e6e2a386a1392": {
      "model_module": "@jupyter-widgets/base",
      "model_module_version": "1.2.0",
      "model_name": "LayoutModel",
      "state": {
       "display": "inline-flex",
       "flex_flow": "row wrap",
       "width": "500px"
      }
     },
     "d1cca157d4c249ba8a0398a4251c428f": {
      "model_module": "@jupyter-widgets/controls",
      "model_module_version": "1.5.0",
      "model_name": "DescriptionStyleModel",
      "state": {
       "description_width": ""
      }
     },
     "d34d8884aae74267bebba2f3ed44d6fe": {
      "model_module": "@jupyter-widgets/controls",
      "model_module_version": "1.5.0",
      "model_name": "FloatProgressModel",
      "state": {
       "bar_style": "success",
       "layout": "IPY_MODEL_6bf428fa9a284db9986348b62fe5236f",
       "max": 2,
       "style": "IPY_MODEL_90b0447622e8401aaac9dee45f46e6cb",
       "value": 2
      }
     },
     "d4132011f08f49d7aba0c4d72af20f08": {
      "model_module": "@jupyter-widgets/controls",
      "model_module_version": "1.5.0",
      "model_name": "HBoxModel",
      "state": {
       "children": [
        "IPY_MODEL_5de126b69b8a4eab9fe5ac182c6782b4",
        "IPY_MODEL_b9f27230a8d74c0283483d82b0d1825d",
        "IPY_MODEL_cd2db3b5611f4c589586e2660c7741ce"
       ],
       "layout": "IPY_MODEL_5fe62e07296040c4ae267f671de2d1a6"
      }
     },
     "d4670481b54f415ebbbc22787a2bb2af": {
      "model_module": "@jupyter-widgets/base",
      "model_module_version": "1.2.0",
      "model_name": "LayoutModel",
      "state": {
       "display": "inline-flex",
       "flex_flow": "row wrap",
       "width": "500px"
      }
     },
     "d5960593d07d4dfba06534852d8e970c": {
      "model_module": "@jupyter-widgets/controls",
      "model_module_version": "1.5.0",
      "model_name": "HBoxModel",
      "state": {
       "children": [
        "IPY_MODEL_041528be533044fdb3091ac28dbcc43a",
        "IPY_MODEL_597c428f237a4c0d91c2d85355f46d25",
        "IPY_MODEL_6c43bfc8f6dc413a9196d59246f652d5"
       ],
       "layout": "IPY_MODEL_a3dba64fc3a34793b87a8855abf437a0"
      }
     },
     "d6dafdb2fa2e4c5780c5dca7b343dbaf": {
      "model_module": "@jupyter-widgets/controls",
      "model_module_version": "1.5.0",
      "model_name": "DescriptionStyleModel",
      "state": {
       "description_width": ""
      }
     },
     "d8800be9b49447edaad01e5bb11366de": {
      "model_module": "@jupyter-widgets/base",
      "model_module_version": "1.2.0",
      "model_name": "LayoutModel",
      "state": {}
     },
     "d8afd2c465ea4304b6794b13bd1bb0ec": {
      "model_module": "@jupyter-widgets/base",
      "model_module_version": "1.2.0",
      "model_name": "LayoutModel",
      "state": {}
     },
     "da863856a12a488dbcf0c5617e9058d8": {
      "model_module": "@jupyter-widgets/controls",
      "model_module_version": "1.5.0",
      "model_name": "HBoxModel",
      "state": {
       "children": [
        "IPY_MODEL_c08e932f447f4e8ebf65d31e2f787293",
        "IPY_MODEL_fc94780979284267a2da60fded412a3c",
        "IPY_MODEL_9379803e858540bebaa93612c4cb614a"
       ],
       "layout": "IPY_MODEL_d1cbd9cf21c944018d2e6e2a386a1392"
      }
     },
     "db9d162c9f4042f59f4231a0e9028fdd": {
      "model_module": "@jupyter-widgets/controls",
      "model_module_version": "1.5.0",
      "model_name": "FloatProgressModel",
      "state": {
       "bar_style": "success",
       "layout": "IPY_MODEL_8f77e07ddbe741ecae33bc50110711d9",
       "max": 2,
       "style": "IPY_MODEL_7cc616b51fa843acad7b44be9d6746f0",
       "value": 2
      }
     },
     "dd40b8151e534f06ad436e4d3ab45d87": {
      "model_module": "@jupyter-widgets/base",
      "model_module_version": "1.2.0",
      "model_name": "LayoutModel",
      "state": {
       "flex": "2"
      }
     },
     "dd68c3c576844debb5c0e17c90c36758": {
      "model_module": "@jupyter-widgets/controls",
      "model_module_version": "1.5.0",
      "model_name": "HTMLModel",
      "state": {
       "layout": "IPY_MODEL_40958187c54941a980b13ca8413cd018",
       "style": "IPY_MODEL_03a1f5a29e884b5fbcd534965627c5d9",
       "value": "Constructing graph from dendrogram: 100%| "
      }
     },
     "de3e7f92171e47419f6c741ca83f38c9": {
      "model_module": "@jupyter-widgets/controls",
      "model_module_version": "1.5.0",
      "model_name": "FloatProgressModel",
      "state": {
       "bar_style": "success",
       "layout": "IPY_MODEL_6eebc73cf7a34dbaa918aa60698bb02e",
       "max": 272,
       "style": "IPY_MODEL_88e471987f7c4766b7369000c0da452f",
       "value": 272
      }
     },
     "de78e873e7254d35bf8220477091b76a": {
      "model_module": "@jupyter-widgets/base",
      "model_module_version": "1.2.0",
      "model_name": "LayoutModel",
      "state": {}
     },
     "df4dec8b900f4fad8801f8a72fa625af": {
      "model_module": "@jupyter-widgets/controls",
      "model_module_version": "1.5.0",
      "model_name": "DescriptionStyleModel",
      "state": {
       "description_width": ""
      }
     },
     "dfd0196ceb494660ad21a201ed211aef": {
      "model_module": "@jupyter-widgets/controls",
      "model_module_version": "1.5.0",
      "model_name": "ProgressStyleModel",
      "state": {
       "bar_color": "#34abeb",
       "description_width": ""
      }
     },
     "e45b84eeafae4e91802fc6027840fcba": {
      "model_module": "@jupyter-widgets/controls",
      "model_module_version": "1.5.0",
      "model_name": "HBoxModel",
      "state": {
       "children": [
        "IPY_MODEL_b189357ca26745a5bb144c202abd8209",
        "IPY_MODEL_d34d8884aae74267bebba2f3ed44d6fe",
        "IPY_MODEL_235ccf698db14101b4e80f23eaec12f4"
       ],
       "layout": "IPY_MODEL_d4670481b54f415ebbbc22787a2bb2af"
      }
     },
     "e47c88116af44b3a9e5808e9bcdeab34": {
      "model_module": "@jupyter-widgets/base",
      "model_module_version": "1.2.0",
      "model_name": "LayoutModel",
      "state": {}
     },
     "e5b7a7ae1a9f4993b4ed712514ca8aa7": {
      "model_module": "@jupyter-widgets/controls",
      "model_module_version": "1.5.0",
      "model_name": "FloatProgressModel",
      "state": {
       "bar_style": "success",
       "layout": "IPY_MODEL_aca6b7a8d1b54729bf882780fbdd2162",
       "max": 346,
       "style": "IPY_MODEL_0e3b1a00abe2471da249603a4cb21739",
       "value": 346
      }
     },
     "e6af96af3541478c8fbdcf3c2e810bb4": {
      "model_module": "@jupyter-widgets/controls",
      "model_module_version": "1.5.0",
      "model_name": "DescriptionStyleModel",
      "state": {
       "description_width": ""
      }
     },
     "e8be0ad5651c49be8b9d354c1579af79": {
      "model_module": "@jupyter-widgets/controls",
      "model_module_version": "1.5.0",
      "model_name": "DescriptionStyleModel",
      "state": {
       "description_width": ""
      }
     },
     "eb321ae9b2aa424f8cd67a5c37eb9e3b": {
      "model_module": "@jupyter-widgets/controls",
      "model_module_version": "1.5.0",
      "model_name": "HTMLModel",
      "state": {
       "layout": "IPY_MODEL_b4b3ef9d18ac4d07b08e285e1628cab9",
       "style": "IPY_MODEL_6349e9854bd24c88a5869c35ae3ca986",
       "value": "(RNA) Computing sigmas: 100%| "
      }
     },
     "ed33aad3a17b47f7ad19c7aba6cb44f6": {
      "model_module": "@jupyter-widgets/controls",
      "model_module_version": "1.5.0",
      "model_name": "HTMLModel",
      "state": {
       "layout": "IPY_MODEL_9d7ce4641b4a4296a376a690c6c10f81",
       "style": "IPY_MODEL_6e9e08242b284d96ba29e0db9784d722",
       "value": "Identifying the top node for cluster: 100%| "
      }
     },
     "ed985bd9792d4b17b904745257ac468c": {
      "model_module": "@jupyter-widgets/base",
      "model_module_version": "1.2.0",
      "model_name": "LayoutModel",
      "state": {
       "display": "inline-flex",
       "flex_flow": "row wrap",
       "width": "500px"
      }
     },
     "f0581052385245afa5aebab27aa064d4": {
      "model_module": "@jupyter-widgets/base",
      "model_module_version": "1.2.0",
      "model_name": "LayoutModel",
      "state": {
       "flex": "2"
      }
     },
     "f05881cd61cf465087c6b7346a3e2adb": {
      "model_module": "@jupyter-widgets/controls",
      "model_module_version": "1.5.0",
      "model_name": "HTMLModel",
      "state": {
       "layout": "IPY_MODEL_fc89313349064fd597dac00b40931fae",
       "style": "IPY_MODEL_8eb22e9a8db6404a92232151e4ede60b",
       "value": "(RNA) Computing nCells and dropOuts: 100%| "
      }
     },
     "f4f0e94715cd4463b63e65ad708922bb": {
      "model_module": "@jupyter-widgets/controls",
      "model_module_version": "1.5.0",
      "model_name": "ProgressStyleModel",
      "state": {
       "bar_color": "#34abeb",
       "description_width": ""
      }
     },
     "f630195e4df841e5896a4b8e5aaa5d03": {
      "model_module": "@jupyter-widgets/controls",
      "model_module_version": "1.5.0",
      "model_name": "DescriptionStyleModel",
      "state": {
       "description_width": ""
      }
     },
     "f788d66af2d54fe690851d056e2beb2f": {
      "model_module": "@jupyter-widgets/controls",
      "model_module_version": "1.5.0",
      "model_name": "HTMLModel",
      "state": {
       "layout": "IPY_MODEL_b822205ca4fd4cbc972a11ab5ff7f440",
       "style": "IPY_MODEL_312e6d5db2e64df7912bcc6c0bd735c8",
       "value": " 240/240 [00:00]"
      }
     },
     "f80f0b15376b4e59802dc4fbff516484": {
      "model_module": "@jupyter-widgets/controls",
      "model_module_version": "1.5.0",
      "model_name": "FloatProgressModel",
      "state": {
       "bar_style": "success",
       "layout": "IPY_MODEL_9609b8e60c034b729612509070d6d845",
       "max": 240,
       "style": "IPY_MODEL_8ea1c78822e04befabc4453ecfa8c092",
       "value": 240
      }
     },
     "f82870df2d7f4322a53029d3fe441ca9": {
      "model_module": "@jupyter-widgets/controls",
      "model_module_version": "1.5.0",
      "model_name": "HBoxModel",
      "state": {
       "children": [
        "IPY_MODEL_1372484a6e454704a2dfedd181ad6cd8",
        "IPY_MODEL_770b92a389cb4fb7aa601828ed18c502",
        "IPY_MODEL_46bddc39586d4b14889df3ed2aca6388"
       ],
       "layout": "IPY_MODEL_a3472c368e80449880c67a2137b6a757"
      }
     },
     "f9de1deb1aab43ff9fff5049b0567509": {
      "model_module": "@jupyter-widgets/base",
      "model_module_version": "1.2.0",
      "model_name": "LayoutModel",
      "state": {
       "flex": "2"
      }
     },
     "f9fd3447e1ad4acdad10a182718e0c75": {
      "model_module": "@jupyter-widgets/controls",
      "model_module_version": "1.5.0",
      "model_name": "HTMLModel",
      "state": {
       "layout": "IPY_MODEL_fc9a008197824bea96599b95d812d978",
       "style": "IPY_MODEL_c9991e68d3f54eb8bf46ee2b0226d073",
       "value": " 2/2 [00:01]"
      }
     },
     "fc69853d159e4d50924e3e8c965ce115": {
      "model_module": "@jupyter-widgets/base",
      "model_module_version": "1.2.0",
      "model_name": "LayoutModel",
      "state": {
       "display": "inline-flex",
       "flex_flow": "row wrap",
       "width": "500px"
      }
     },
     "fc89313349064fd597dac00b40931fae": {
      "model_module": "@jupyter-widgets/base",
      "model_module_version": "1.2.0",
      "model_name": "LayoutModel",
      "state": {}
     },
     "fc94780979284267a2da60fded412a3c": {
      "model_module": "@jupyter-widgets/controls",
      "model_module_version": "1.5.0",
      "model_name": "FloatProgressModel",
      "state": {
       "bar_style": "success",
       "layout": "IPY_MODEL_3c1eadd61f1040e7afd03ef224346142",
       "max": 2,
       "style": "IPY_MODEL_670c39081aad48bcb35d014939f20e3e",
       "value": 2
      }
     },
     "fc9a008197824bea96599b95d812d978": {
      "model_module": "@jupyter-widgets/base",
      "model_module_version": "1.2.0",
      "model_name": "LayoutModel",
      "state": {}
     },
     "fe6d6d6d3d4f496aadb3cc2576273b66": {
      "model_module": "@jupyter-widgets/base",
      "model_module_version": "1.2.0",
      "model_name": "LayoutModel",
      "state": {
       "display": "inline-flex",
       "flex_flow": "row wrap",
       "width": "500px"
      }
     },
     "fed28509c88c4327bafcff0d82a45ee7": {
      "model_module": "@jupyter-widgets/controls",
      "model_module_version": "1.5.0",
      "model_name": "DescriptionStyleModel",
      "state": {
       "description_width": ""
      }
     },
     "ff2ce47e15d94525b849aa71e3bec287": {
      "model_module": "@jupyter-widgets/base",
      "model_module_version": "1.2.0",
      "model_name": "LayoutModel",
      "state": {}
     },
     "ffaed21327ff440aa95df7aab6577f3e": {
      "model_module": "@jupyter-widgets/base",
      "model_module_version": "1.2.0",
      "model_name": "LayoutModel",
      "state": {
       "display": "inline-flex",
       "flex_flow": "row wrap",
       "width": "500px"
      }
     }
    },
    "version_major": 2,
    "version_minor": 0
   }
  }
 },
 "nbformat": 4,
 "nbformat_minor": 5
}
