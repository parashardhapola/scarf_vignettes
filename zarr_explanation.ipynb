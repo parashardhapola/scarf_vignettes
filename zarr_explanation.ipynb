{
 "cells": [
  {
   "cell_type": "markdown",
   "id": "18f04e11",
   "metadata": {},
   "source": [
    "## Understanding how data is organized in Scarf\n",
    "\n",
    "In this notebook, we provide a more detailed exploration of how the data is organized in Scarf. This can be useful for users who want to customize certain aspects of Scarf or want to extend its functionality.\n",
    "\n",
    "The following figure shows how different Class structures are connected to each other and the methods they contain. The `DataStore` class is the primary class that allows users to access all the data and functions. In almost all scenarios the user has to directly interact only with the object of `DataStore` class's methods. `DataStore` object is linked to the underlying `Zarr` file hierarchy on the disk. We provide more details in the later sections.\n",
    "\n",
    "The individual assays (in non mulit-omics datasets there will be only one assay) are represented as objects of the `Assay` class. A subclass of `Assay` class is automatically chosen based on the type of data. For example, `RNAassay` is chosen for single-cell RNA-Seq while `ATACassay`subclass is chosen for scATAC-Seq. Each `Assay` subclass contains its own normalization and feature selection methods.\n",
    "\n",
    "The `Metadata` class acts like a DataFrame (it is not actually a Dataframe but collections of columns/arrays that are loaded from disk on demand) that contains information on either individual cells or features. The cell metadata can directly be accessed from `DataStore` but feature metdata has to be accessed by the `Assay` object (we show examples below).\n",
    "\n",
    "The `DataStore` class contains mutiple methods that allow generation of the KNN-graph that can be loaded to perform downsampling (sketching), clustering (Paris/Leiden) and UMAP/tSNE embedding (please see the basic workflows for usage of these methods)."
   ]
  },
  {
   "cell_type": "markdown",
   "id": "4ff71585-9340-4ac3-8937-ce80dcec766d",
   "metadata": {},
   "source": [
    "<img src=\"https://raw.githubusercontent.com/parashardhapola/scarf/master/docs/source/_static/scarf_organization.png\" alt=\"Scarf Class design\" width=\"800px\">"
   ]
  },
  {
   "cell_type": "code",
   "execution_count": 1,
   "id": "cec5d349",
   "metadata": {},
   "outputs": [
    {
     "data": {
      "text/plain": [
       "'0.17.1'"
      ]
     },
     "execution_count": 1,
     "metadata": {},
     "output_type": "execute_result"
    },
    {
     "name": "stdout",
     "output_type": "stream",
     "text": [
      "time: 1.51 s (started: 2021-08-22 12:42:11 +02:00)\n"
     ]
    }
   ],
   "source": [
    "%load_ext autotime\n",
    "\n",
    "import scarf\n",
    "scarf.__version__"
   ]
  },
  {
   "cell_type": "markdown",
   "id": "e29abe3e",
   "metadata": {},
   "source": [
    "We download the CITE-Seq dataset that we [analyzed earlier](https://scarf.readthedocs.io/en/latest/vignettes/multiple_modalities.html)"
   ]
  },
  {
   "cell_type": "code",
   "execution_count": 2,
   "id": "30a5eea4",
   "metadata": {},
   "outputs": [
    {
     "data": {
      "application/vnd.jupyter.widget-view+json": {
       "model_id": "e2cc36b4304b466fad12e7873d412a37",
       "version_major": 2,
       "version_minor": 0
      },
      "text/plain": [
       "Downloading :   0%|                                                                                           …"
      ]
     },
     "metadata": {},
     "output_type": "display_data"
    },
    {
     "name": "stdout",
     "output_type": "stream",
     "text": [
      "\u001b[1mINFO\u001b[0m: Download finished! File saved here: C:\\Users\\parashar\\Desktop\\scarf_vignettes\\scarf_datasets\\tenx_8K_pbmc_citeseq\\data.zarr.tar.gz\n",
      "\u001b[1mINFO\u001b[0m: Extracting Zarr file for tenx_8K_pbmc_citeseq\n",
      "time: 19.3 s (started: 2021-08-22 12:42:13 +02:00)\n"
     ]
    }
   ],
   "source": [
    "scarf.fetch_dataset('tenx_8K_pbmc_citeseq', save_path='scarf_datasets', as_zarr=True)"
   ]
  },
  {
   "cell_type": "code",
   "execution_count": 3,
   "id": "28d3d54d",
   "metadata": {},
   "outputs": [
    {
     "name": "stdout",
     "output_type": "stream",
     "text": [
      "time: 47 ms (started: 2021-08-22 12:42:32 +02:00)\n"
     ]
    }
   ],
   "source": [
    "ds = scarf.DataStore('scarf_datasets/tenx_8K_pbmc_citeseq/data.zarr', nthreads=4)"
   ]
  },
  {
   "cell_type": "markdown",
   "id": "c553ccdd",
   "metadata": {},
   "source": [
    "---\n",
    "### 1) Zarr trees\n",
    "\n",
    "Scarf uses [Zarr format](https://zarr.readthedocs.io/en/stable/) to store raw counts as dense, chunked matrices. The Zarr file is in fact a directory that organizes the data in form of a tree. The count matrices, cell and features attributes, and all the data is stored in this Zarr hierarchy. Some of the key benefits of using Zarr over other formats like HDF5 are:\n",
    "- Parallel read and write access\n",
    "- Availability of compression algorithms like [LZ4](https://github.com/lz4/lz4) that provides very high compression and decompression speeds.\n",
    "- Automatic storage of intermediate and processed data\n",
    "\n",
    "In Scarf, the data is always synchronized between hard disk and RAM and as such there is no need to save data manually or synchronize the\n",
    "\n",
    "We can inspect how the data is organized within the Zarr file using `show_zarr_tree` method of the `DataStore`. "
   ]
  },
  {
   "cell_type": "code",
   "execution_count": 4,
   "id": "55c15e31",
   "metadata": {},
   "outputs": [
    {
     "name": "stdout",
     "output_type": "stream",
     "text": [
      "/\n",
      " ├── ADT\n",
      " ├── RNA\n",
      " └── cellData\n",
      "time: 0 ns (started: 2021-08-22 12:42:32 +02:00)\n"
     ]
    }
   ],
   "source": [
    "ds.show_zarr_tree(depth=1)"
   ]
  },
  {
   "cell_type": "markdown",
   "id": "b6c5e7c7",
   "metadata": {},
   "source": [
    "By setting `depth=1` we get a look of the top-levels in the Zarr hierarchy: 'RNA', 'ADT' and 'cellData'. The top levels here are hence composed of two assays \n",
    "and the `cellData` level, which will be explained below. Scarf attempts to store most of the data on disk immediately after it is processed. Since, that data that we have loaded is already preprocessed, below we can see that the calculated cell attributes can now be found under the `cellData` level. The cell-wise statistics that were calculated using 'RNA' assay have 'RNA' preppended to the name of the column. Similarly the columns stating with 'ADT' were created using 'ADT' assay data."
   ]
  },
  {
   "cell_type": "code",
   "execution_count": 5,
   "id": "baf0cbc4",
   "metadata": {},
   "outputs": [
    {
     "name": "stdout",
     "output_type": "stream",
     "text": [
      "cellData\n",
      " ├── ADT_UMAP1 (7865,) float32\n",
      " ├── ADT_UMAP2 (7865,) float32\n",
      " ├── ADT_leiden_cluster (7865,) int64\n",
      " ├── ADT_nCounts (7865,) float64\n",
      " ├── ADT_nFeatures (7865,) float64\n",
      " ├── I (7865,) bool\n",
      " ├── RNA_UMAP1 (7865,) float32\n",
      " ├── RNA_UMAP2 (7865,) float32\n",
      " ├── RNA_cluster (7865,) int64\n",
      " ├── RNA_leiden_cluster (7865,) int64\n",
      " ├── RNA_nCounts (7865,) float64\n",
      " ├── RNA_nFeatures (7865,) float64\n",
      " ├── RNA_percentMito (7865,) float64\n",
      " ├── RNA_percentRibo (7865,) float64\n",
      " ├── RNA_tSNE1 (7865,) float64\n",
      " ├── RNA_tSNE2 (7865,) float64\n",
      " ├── ids (7865,) <U18\n",
      " └── names (7865,) <U18\n",
      "time: 15 ms (started: 2021-08-22 12:42:32 +02:00)\n"
     ]
    }
   ],
   "source": [
    "ds.show_zarr_tree(start='cellData')"
   ]
  },
  {
   "cell_type": "markdown",
   "id": "901086d6",
   "metadata": {},
   "source": [
    "**The `I` column** : This column is used to keep track of valid and invalid cells. The values in this column are boolean indicating which cells where filtered out (hence False) during filtering process. One of can think of column `I` as the default subset of cells that will be used for analysis if any other subset is not specifially chosen explicitly by the users. Most methods of `DataStore` object accept a parameter called `cell_key` and the default value for this paramter is `I`, which means that only cells with True in `I` column will be used."
   ]
  },
  {
   "cell_type": "markdown",
   "id": "e46f5f0d",
   "metadata": {},
   "source": [
    "If we inspect one of the assay, we will see the following zarr groups. The raw data matrix is stored under `counts` group (more on it in the next section). `featureData` is the feature level equivalent of `cellData`. `featureData` is explained in further detail in the next section. The `markers` level will be explained further in the last section. `summary_stats_I` contains statistics about features. These statistics are generally created during feature selection step. 'normed__I__hvgs' is explained in detail in the fourth section of this documentation."
   ]
  },
  {
   "cell_type": "code",
   "execution_count": 6,
   "id": "dcedcd44",
   "metadata": {},
   "outputs": [
    {
     "name": "stdout",
     "output_type": "stream",
     "text": [
      "RNA\n",
      " ├── counts (7865, 33538) uint32\n",
      " ├── featureData\n",
      " ├── markers\n",
      " ├── normed__I__hvgs\n",
      " └── summary_stats_I\n",
      "time: 0 ns (started: 2021-08-22 12:42:32 +02:00)\n"
     ]
    }
   ],
   "source": [
    "ds.show_zarr_tree(start='RNA', depth=1)"
   ]
  },
  {
   "cell_type": "markdown",
   "id": "bd909067",
   "metadata": {},
   "source": [
    "The feature wise attributes for each assay are stored under the assays `featureData` level. The output below shows some of the feature level statistics."
   ]
  },
  {
   "cell_type": "code",
   "execution_count": 7,
   "id": "d6a80737",
   "metadata": {},
   "outputs": [
    {
     "name": "stdout",
     "output_type": "stream",
     "text": [
      "featureData\n",
      " ├── I (33538,) bool\n",
      " ├── I__hvgs (33538,) bool\n",
      " ├── dropOuts (33538,) int64\n",
      " ├── ids (33538,) <U15\n",
      " ├── nCells (33538,) int64\n",
      " └── names (33538,) <U16\n",
      "time: 0 ns (started: 2021-08-22 12:42:32 +02:00)\n"
     ]
    }
   ],
   "source": [
    "ds.show_zarr_tree(start='RNA/featureData', depth=1)"
   ]
  },
  {
   "cell_type": "markdown",
   "id": "341b5c67",
   "metadata": {},
   "source": [
    "---\n",
    "### 2) Cell and feature attributes\n",
    "\n",
    "The cell and feature level attributes can be accessed through `DataStore`, for example, using `ds.cells` and `ds.RNA.feats` respectively (both are objects of `Metadata` class). In this section we dive deeper into these attribute tables and try to perform [CRUD](https://en.wikipedia.org/wiki/Create,_read,_update_and_delete) operations on them. "
   ]
  },
  {
   "cell_type": "markdown",
   "id": "34fc982b",
   "metadata": {},
   "source": [
    "`head` provides a quick look at the attribute tables. "
   ]
  },
  {
   "cell_type": "code",
   "execution_count": 8,
   "id": "05e49d9e",
   "metadata": {},
   "outputs": [
    {
     "data": {
      "text/html": [
       "<div>\n",
       "<style scoped>\n",
       "    .dataframe tbody tr th:only-of-type {\n",
       "        vertical-align: middle;\n",
       "    }\n",
       "\n",
       "    .dataframe tbody tr th {\n",
       "        vertical-align: top;\n",
       "    }\n",
       "\n",
       "    .dataframe thead th {\n",
       "        text-align: right;\n",
       "    }\n",
       "</style>\n",
       "<table border=\"1\" class=\"dataframe\">\n",
       "  <thead>\n",
       "    <tr style=\"text-align: right;\">\n",
       "      <th></th>\n",
       "      <th>I</th>\n",
       "      <th>ids</th>\n",
       "      <th>names</th>\n",
       "      <th>ADT_UMAP1</th>\n",
       "      <th>ADT_UMAP2</th>\n",
       "      <th>ADT_leiden_cluster</th>\n",
       "      <th>ADT_nCounts</th>\n",
       "      <th>ADT_nFeatures</th>\n",
       "      <th>RNA_UMAP1</th>\n",
       "      <th>RNA_UMAP2</th>\n",
       "      <th>RNA_cluster</th>\n",
       "      <th>RNA_leiden_cluster</th>\n",
       "      <th>RNA_nCounts</th>\n",
       "      <th>RNA_nFeatures</th>\n",
       "      <th>RNA_percentMito</th>\n",
       "      <th>RNA_percentRibo</th>\n",
       "      <th>RNA_tSNE1</th>\n",
       "      <th>RNA_tSNE2</th>\n",
       "    </tr>\n",
       "  </thead>\n",
       "  <tbody>\n",
       "    <tr>\n",
       "      <th>0</th>\n",
       "      <td>True</td>\n",
       "      <td>AAACCCAAGATTGTGA-1</td>\n",
       "      <td>AAACCCAAGATTGTGA-1</td>\n",
       "      <td>-13.884989</td>\n",
       "      <td>9.510007</td>\n",
       "      <td>16</td>\n",
       "      <td>981.0</td>\n",
       "      <td>17.0</td>\n",
       "      <td>29.421942</td>\n",
       "      <td>-7.417822</td>\n",
       "      <td>4</td>\n",
       "      <td>3</td>\n",
       "      <td>6160.0</td>\n",
       "      <td>2194.0</td>\n",
       "      <td>8.668831</td>\n",
       "      <td>15.259740</td>\n",
       "      <td>-4.26865</td>\n",
       "      <td>-18.08830</td>\n",
       "    </tr>\n",
       "    <tr>\n",
       "      <th>1</th>\n",
       "      <td>True</td>\n",
       "      <td>AAACCCACATCGGTTA-1</td>\n",
       "      <td>AAACCCACATCGGTTA-1</td>\n",
       "      <td>-5.097915</td>\n",
       "      <td>10.784672</td>\n",
       "      <td>15</td>\n",
       "      <td>1475.0</td>\n",
       "      <td>17.0</td>\n",
       "      <td>30.801842</td>\n",
       "      <td>-12.649998</td>\n",
       "      <td>4</td>\n",
       "      <td>3</td>\n",
       "      <td>6713.0</td>\n",
       "      <td>2093.0</td>\n",
       "      <td>6.316103</td>\n",
       "      <td>19.037688</td>\n",
       "      <td>5.02671</td>\n",
       "      <td>-14.88920</td>\n",
       "    </tr>\n",
       "    <tr>\n",
       "      <th>2</th>\n",
       "      <td>True</td>\n",
       "      <td>AAACCCAGTACCGCGT-1</td>\n",
       "      <td>AAACCCAGTACCGCGT-1</td>\n",
       "      <td>-7.885502</td>\n",
       "      <td>12.961405</td>\n",
       "      <td>9</td>\n",
       "      <td>7149.0</td>\n",
       "      <td>17.0</td>\n",
       "      <td>29.397541</td>\n",
       "      <td>4.256729</td>\n",
       "      <td>5</td>\n",
       "      <td>5</td>\n",
       "      <td>3637.0</td>\n",
       "      <td>1518.0</td>\n",
       "      <td>8.056090</td>\n",
       "      <td>16.002200</td>\n",
       "      <td>-14.91320</td>\n",
       "      <td>-18.83030</td>\n",
       "    </tr>\n",
       "    <tr>\n",
       "      <th>3</th>\n",
       "      <td>True</td>\n",
       "      <td>AAACCCAGTATCGAAA-1</td>\n",
       "      <td>AAACCCAGTATCGAAA-1</td>\n",
       "      <td>12.072053</td>\n",
       "      <td>11.531997</td>\n",
       "      <td>2</td>\n",
       "      <td>6831.0</td>\n",
       "      <td>17.0</td>\n",
       "      <td>5.441914</td>\n",
       "      <td>-32.227364</td>\n",
       "      <td>3</td>\n",
       "      <td>4</td>\n",
       "      <td>1244.0</td>\n",
       "      <td>737.0</td>\n",
       "      <td>9.003215</td>\n",
       "      <td>18.729904</td>\n",
       "      <td>16.69630</td>\n",
       "      <td>-3.35003</td>\n",
       "    </tr>\n",
       "    <tr>\n",
       "      <th>4</th>\n",
       "      <td>True</td>\n",
       "      <td>AAACCCAGTCGTCATA-1</td>\n",
       "      <td>AAACCCAGTCGTCATA-1</td>\n",
       "      <td>13.928782</td>\n",
       "      <td>12.290624</td>\n",
       "      <td>2</td>\n",
       "      <td>6839.0</td>\n",
       "      <td>17.0</td>\n",
       "      <td>7.166490</td>\n",
       "      <td>-30.397615</td>\n",
       "      <td>3</td>\n",
       "      <td>4</td>\n",
       "      <td>2611.0</td>\n",
       "      <td>1240.0</td>\n",
       "      <td>6.204519</td>\n",
       "      <td>16.353887</td>\n",
       "      <td>18.37000</td>\n",
       "      <td>-1.37607</td>\n",
       "    </tr>\n",
       "  </tbody>\n",
       "</table>\n",
       "</div>"
      ],
      "text/plain": [
       "      I                 ids               names  ADT_UMAP1  ADT_UMAP2  \\\n",
       "0  True  AAACCCAAGATTGTGA-1  AAACCCAAGATTGTGA-1 -13.884989   9.510007   \n",
       "1  True  AAACCCACATCGGTTA-1  AAACCCACATCGGTTA-1  -5.097915  10.784672   \n",
       "2  True  AAACCCAGTACCGCGT-1  AAACCCAGTACCGCGT-1  -7.885502  12.961405   \n",
       "3  True  AAACCCAGTATCGAAA-1  AAACCCAGTATCGAAA-1  12.072053  11.531997   \n",
       "4  True  AAACCCAGTCGTCATA-1  AAACCCAGTCGTCATA-1  13.928782  12.290624   \n",
       "\n",
       "   ADT_leiden_cluster  ADT_nCounts  ADT_nFeatures  RNA_UMAP1  RNA_UMAP2  \\\n",
       "0                  16        981.0           17.0  29.421942  -7.417822   \n",
       "1                  15       1475.0           17.0  30.801842 -12.649998   \n",
       "2                   9       7149.0           17.0  29.397541   4.256729   \n",
       "3                   2       6831.0           17.0   5.441914 -32.227364   \n",
       "4                   2       6839.0           17.0   7.166490 -30.397615   \n",
       "\n",
       "   RNA_cluster  RNA_leiden_cluster  RNA_nCounts  RNA_nFeatures  \\\n",
       "0            4                   3       6160.0         2194.0   \n",
       "1            4                   3       6713.0         2093.0   \n",
       "2            5                   5       3637.0         1518.0   \n",
       "3            3                   4       1244.0          737.0   \n",
       "4            3                   4       2611.0         1240.0   \n",
       "\n",
       "   RNA_percentMito  RNA_percentRibo  RNA_tSNE1  RNA_tSNE2  \n",
       "0         8.668831        15.259740   -4.26865  -18.08830  \n",
       "1         6.316103        19.037688    5.02671  -14.88920  \n",
       "2         8.056090        16.002200  -14.91320  -18.83030  \n",
       "3         9.003215        18.729904   16.69630   -3.35003  \n",
       "4         6.204519        16.353887   18.37000   -1.37607  "
      ]
     },
     "execution_count": 8,
     "metadata": {},
     "output_type": "execute_result"
    },
    {
     "name": "stdout",
     "output_type": "stream",
     "text": [
      "time: 63 ms (started: 2021-08-22 12:42:32 +02:00)\n"
     ]
    }
   ],
   "source": [
    "ds.cells.head()"
   ]
  },
  {
   "cell_type": "markdown",
   "id": "1c67179b",
   "metadata": {},
   "source": [
    "The feature attribute table from any assay can similarly be quickly inspected"
   ]
  },
  {
   "cell_type": "code",
   "execution_count": 9,
   "id": "800bf66e",
   "metadata": {},
   "outputs": [
    {
     "data": {
      "text/html": [
       "<div>\n",
       "<style scoped>\n",
       "    .dataframe tbody tr th:only-of-type {\n",
       "        vertical-align: middle;\n",
       "    }\n",
       "\n",
       "    .dataframe tbody tr th {\n",
       "        vertical-align: top;\n",
       "    }\n",
       "\n",
       "    .dataframe thead th {\n",
       "        text-align: right;\n",
       "    }\n",
       "</style>\n",
       "<table border=\"1\" class=\"dataframe\">\n",
       "  <thead>\n",
       "    <tr style=\"text-align: right;\">\n",
       "      <th></th>\n",
       "      <th>I</th>\n",
       "      <th>ids</th>\n",
       "      <th>names</th>\n",
       "      <th>I__hvgs</th>\n",
       "      <th>dropOuts</th>\n",
       "      <th>nCells</th>\n",
       "    </tr>\n",
       "  </thead>\n",
       "  <tbody>\n",
       "    <tr>\n",
       "      <th>0</th>\n",
       "      <td>False</td>\n",
       "      <td>ENSG00000243485</td>\n",
       "      <td>MIR1302-2HG</td>\n",
       "      <td>False</td>\n",
       "      <td>7865</td>\n",
       "      <td>0</td>\n",
       "    </tr>\n",
       "    <tr>\n",
       "      <th>1</th>\n",
       "      <td>False</td>\n",
       "      <td>ENSG00000237613</td>\n",
       "      <td>FAM138A</td>\n",
       "      <td>False</td>\n",
       "      <td>7865</td>\n",
       "      <td>0</td>\n",
       "    </tr>\n",
       "    <tr>\n",
       "      <th>2</th>\n",
       "      <td>False</td>\n",
       "      <td>ENSG00000186092</td>\n",
       "      <td>OR4F5</td>\n",
       "      <td>False</td>\n",
       "      <td>7865</td>\n",
       "      <td>0</td>\n",
       "    </tr>\n",
       "    <tr>\n",
       "      <th>3</th>\n",
       "      <td>False</td>\n",
       "      <td>ENSG00000238009</td>\n",
       "      <td>AL627309.1</td>\n",
       "      <td>False</td>\n",
       "      <td>7853</td>\n",
       "      <td>12</td>\n",
       "    </tr>\n",
       "    <tr>\n",
       "      <th>4</th>\n",
       "      <td>False</td>\n",
       "      <td>ENSG00000239945</td>\n",
       "      <td>AL627309.3</td>\n",
       "      <td>False</td>\n",
       "      <td>7865</td>\n",
       "      <td>0</td>\n",
       "    </tr>\n",
       "  </tbody>\n",
       "</table>\n",
       "</div>"
      ],
      "text/plain": [
       "       I              ids        names  I__hvgs  dropOuts  nCells\n",
       "0  False  ENSG00000243485  MIR1302-2HG    False      7865       0\n",
       "1  False  ENSG00000237613      FAM138A    False      7865       0\n",
       "2  False  ENSG00000186092        OR4F5    False      7865       0\n",
       "3  False  ENSG00000238009   AL627309.1    False      7853      12\n",
       "4  False  ENSG00000239945   AL627309.3    False      7865       0"
      ]
     },
     "execution_count": 9,
     "metadata": {},
     "output_type": "execute_result"
    },
    {
     "name": "stdout",
     "output_type": "stream",
     "text": [
      "time: 31 ms (started: 2021-08-22 12:42:32 +02:00)\n"
     ]
    }
   ],
   "source": [
    "ds.RNA.feats.head()"
   ]
  },
  {
   "cell_type": "markdown",
   "id": "15598cc6",
   "metadata": {},
   "source": [
    "Even though the above 'head' command may make you think that `ds.cells` and `ds.RNA.feats` are Pandas dataframe, they in fact are not. If you wish to obtain a full table as Pandas dataframe, then you can export the columns of your choice as shown below."
   ]
  },
  {
   "cell_type": "code",
   "execution_count": 10,
   "id": "7e3a98e6",
   "metadata": {},
   "outputs": [
    {
     "data": {
      "text/html": [
       "<div>\n",
       "<style scoped>\n",
       "    .dataframe tbody tr th:only-of-type {\n",
       "        vertical-align: middle;\n",
       "    }\n",
       "\n",
       "    .dataframe tbody tr th {\n",
       "        vertical-align: top;\n",
       "    }\n",
       "\n",
       "    .dataframe thead th {\n",
       "        text-align: right;\n",
       "    }\n",
       "</style>\n",
       "<table border=\"1\" class=\"dataframe\">\n",
       "  <thead>\n",
       "    <tr style=\"text-align: right;\">\n",
       "      <th></th>\n",
       "      <th>RNA_UMAP1</th>\n",
       "      <th>RNA_UMAP2</th>\n",
       "      <th>RNA_cluster</th>\n",
       "    </tr>\n",
       "    <tr>\n",
       "      <th>ids</th>\n",
       "      <th></th>\n",
       "      <th></th>\n",
       "      <th></th>\n",
       "    </tr>\n",
       "  </thead>\n",
       "  <tbody>\n",
       "    <tr>\n",
       "      <th>AAACCCAAGATTGTGA-1</th>\n",
       "      <td>29.421942</td>\n",
       "      <td>-7.417822</td>\n",
       "      <td>4</td>\n",
       "    </tr>\n",
       "    <tr>\n",
       "      <th>AAACCCACATCGGTTA-1</th>\n",
       "      <td>30.801842</td>\n",
       "      <td>-12.649998</td>\n",
       "      <td>4</td>\n",
       "    </tr>\n",
       "    <tr>\n",
       "      <th>AAACCCAGTACCGCGT-1</th>\n",
       "      <td>29.397541</td>\n",
       "      <td>4.256729</td>\n",
       "      <td>5</td>\n",
       "    </tr>\n",
       "    <tr>\n",
       "      <th>AAACCCAGTATCGAAA-1</th>\n",
       "      <td>5.441914</td>\n",
       "      <td>-32.227364</td>\n",
       "      <td>3</td>\n",
       "    </tr>\n",
       "    <tr>\n",
       "      <th>AAACCCAGTCGTCATA-1</th>\n",
       "      <td>7.166490</td>\n",
       "      <td>-30.397615</td>\n",
       "      <td>3</td>\n",
       "    </tr>\n",
       "    <tr>\n",
       "      <th>...</th>\n",
       "      <td>...</td>\n",
       "      <td>...</td>\n",
       "      <td>...</td>\n",
       "    </tr>\n",
       "    <tr>\n",
       "      <th>TTTGTTGGTTCAAGTC-1</th>\n",
       "      <td>-5.545609</td>\n",
       "      <td>21.742104</td>\n",
       "      <td>18</td>\n",
       "    </tr>\n",
       "    <tr>\n",
       "      <th>TTTGTTGGTTGCATGT-1</th>\n",
       "      <td>-26.972895</td>\n",
       "      <td>-0.762715</td>\n",
       "      <td>9</td>\n",
       "    </tr>\n",
       "    <tr>\n",
       "      <th>TTTGTTGGTTGCGGCT-1</th>\n",
       "      <td>27.239552</td>\n",
       "      <td>-5.230516</td>\n",
       "      <td>4</td>\n",
       "    </tr>\n",
       "    <tr>\n",
       "      <th>TTTGTTGTCGAGTGAG-1</th>\n",
       "      <td>-23.030291</td>\n",
       "      <td>-20.647554</td>\n",
       "      <td>2</td>\n",
       "    </tr>\n",
       "    <tr>\n",
       "      <th>TTTGTTGTCGTTCAGA-1</th>\n",
       "      <td>-10.845096</td>\n",
       "      <td>-2.644977</td>\n",
       "      <td>2</td>\n",
       "    </tr>\n",
       "  </tbody>\n",
       "</table>\n",
       "<p>7865 rows × 3 columns</p>\n",
       "</div>"
      ],
      "text/plain": [
       "                    RNA_UMAP1  RNA_UMAP2  RNA_cluster\n",
       "ids                                                  \n",
       "AAACCCAAGATTGTGA-1  29.421942  -7.417822            4\n",
       "AAACCCACATCGGTTA-1  30.801842 -12.649998            4\n",
       "AAACCCAGTACCGCGT-1  29.397541   4.256729            5\n",
       "AAACCCAGTATCGAAA-1   5.441914 -32.227364            3\n",
       "AAACCCAGTCGTCATA-1   7.166490 -30.397615            3\n",
       "...                       ...        ...          ...\n",
       "TTTGTTGGTTCAAGTC-1  -5.545609  21.742104           18\n",
       "TTTGTTGGTTGCATGT-1 -26.972895  -0.762715            9\n",
       "TTTGTTGGTTGCGGCT-1  27.239552  -5.230516            4\n",
       "TTTGTTGTCGAGTGAG-1 -23.030291 -20.647554            2\n",
       "TTTGTTGTCGTTCAGA-1 -10.845096  -2.644977            2\n",
       "\n",
       "[7865 rows x 3 columns]"
      ]
     },
     "execution_count": 10,
     "metadata": {},
     "output_type": "execute_result"
    },
    {
     "name": "stdout",
     "output_type": "stream",
     "text": [
      "time: 32 ms (started: 2021-08-22 12:42:32 +02:00)\n"
     ]
    }
   ],
   "source": [
    "ds.cells.to_pandas_dataframe(['ids', 'RNA_UMAP1', 'RNA_UMAP2', 'RNA_cluster']).set_index('ids')"
   ]
  },
  {
   "cell_type": "markdown",
   "id": "8b252e60",
   "metadata": {},
   "source": [
    "If you wish to export all the columns as a dataframe then simply provide `ds.cells.columns` or `ds.RNA.feats.columns` as an argument rather than a list of columns. If you are interested in one of the columns then it can fetched using either `fetch` or `fetch_all` command.\n",
    "\n",
    "`fetch` will provide values for a subset of cells (by default, only for those that have True value in column `I`, but any other boolean column can be given)."
   ]
  },
  {
   "cell_type": "code",
   "execution_count": 11,
   "id": "9d0267c6",
   "metadata": {},
   "outputs": [
    {
     "data": {
      "text/plain": [
       "(7549,)"
      ]
     },
     "execution_count": 11,
     "metadata": {},
     "output_type": "execute_result"
    },
    {
     "name": "stdout",
     "output_type": "stream",
     "text": [
      "time: 15 ms (started: 2021-08-22 12:42:33 +02:00)\n"
     ]
    }
   ],
   "source": [
    "clusters = ds.cells.fetch('RNA_cluster')\n",
    "clusters.shape"
   ]
  },
  {
   "cell_type": "markdown",
   "id": "c903fc73",
   "metadata": {},
   "source": [
    "`fetch_all` will return values for all the cells."
   ]
  },
  {
   "cell_type": "code",
   "execution_count": 12,
   "id": "34729242",
   "metadata": {},
   "outputs": [
    {
     "data": {
      "text/plain": [
       "(7865,)"
      ]
     },
     "execution_count": 12,
     "metadata": {},
     "output_type": "execute_result"
    },
    {
     "name": "stdout",
     "output_type": "stream",
     "text": [
      "time: 16 ms (started: 2021-08-22 12:42:33 +02:00)\n"
     ]
    }
   ],
   "source": [
    "clusters_all = ds.cells.fetch_all('RNA_cluster')\n",
    "clusters_all.shape"
   ]
  },
  {
   "cell_type": "markdown",
   "id": "84d92b00",
   "metadata": {},
   "source": [
    "If you wish to add a new column then `insert` command can be used for either cell or feature attributes. `insert` method will take care of inserting the values in the right rows even when a subset of values are provided. The default value for `key` parameter is `I` in `insert`method, so it will add values in same order as cells that have True value for `I`"
   ]
  },
  {
   "cell_type": "code",
   "execution_count": 13,
   "id": "db666926",
   "metadata": {},
   "outputs": [
    {
     "name": "stdout",
     "output_type": "stream",
     "text": [
      "time: 16 ms (started: 2021-08-22 12:42:33 +02:00)\n"
     ]
    }
   ],
   "source": [
    "is_clust_1 = clusters == 1   # is_clust_1 has just 7549 elements (same as the number of cells with value True in `I`)\n",
    "ds.cells.insert(column_name='is_clust1', values=is_clust_1)"
   ]
  },
  {
   "cell_type": "markdown",
   "id": "62f3151c",
   "metadata": {},
   "source": [
    "If we try to add values for a column that already exists then Scarf will throw an error. For example, if we simply rerun the command above, we should get an error"
   ]
  },
  {
   "cell_type": "code",
   "execution_count": 14,
   "id": "547039cb",
   "metadata": {},
   "outputs": [
    {
     "ename": "ValueError",
     "evalue": "ERROR: is_clust1 already exists. Please set `overwrite` to True to overwrite.",
     "output_type": "error",
     "traceback": [
      "\u001b[1;31m---------------------------------------------------------------------------\u001b[0m",
      "\u001b[1;31mValueError\u001b[0m                                Traceback (most recent call last)",
      "\u001b[1;32m~\\AppData\\Local\\Temp/ipykernel_17036/1353646084.py\u001b[0m in \u001b[0;36m<module>\u001b[1;34m\u001b[0m\n\u001b[1;32m----> 1\u001b[1;33m \u001b[0mds\u001b[0m\u001b[1;33m.\u001b[0m\u001b[0mcells\u001b[0m\u001b[1;33m.\u001b[0m\u001b[0minsert\u001b[0m\u001b[1;33m(\u001b[0m\u001b[0mcolumn_name\u001b[0m\u001b[1;33m=\u001b[0m\u001b[1;34m'is_clust1'\u001b[0m\u001b[1;33m,\u001b[0m \u001b[0mvalues\u001b[0m\u001b[1;33m=\u001b[0m\u001b[0mis_clust_1\u001b[0m\u001b[1;33m)\u001b[0m\u001b[1;33m\u001b[0m\u001b[1;33m\u001b[0m\u001b[0m\n\u001b[0m",
      "\u001b[1;32m~\\miniconda3\\envs\\scarf\\lib\\site-packages\\scarf\\metadata.py\u001b[0m in \u001b[0;36minsert\u001b[1;34m(self, column_name, values, fill_value, key, overwrite, location, force)\u001b[0m\n\u001b[0;32m    402\u001b[0m             )\n\u001b[0;32m    403\u001b[0m         \u001b[1;32mif\u001b[0m \u001b[0mcol\u001b[0m \u001b[1;32min\u001b[0m \u001b[0mself\u001b[0m\u001b[1;33m.\u001b[0m\u001b[0mcolumns\u001b[0m \u001b[1;32mand\u001b[0m \u001b[0moverwrite\u001b[0m \u001b[1;32mis\u001b[0m \u001b[1;32mFalse\u001b[0m\u001b[1;33m:\u001b[0m\u001b[1;33m\u001b[0m\u001b[1;33m\u001b[0m\u001b[0m\n\u001b[1;32m--> 404\u001b[1;33m             raise ValueError(\n\u001b[0m\u001b[0;32m    405\u001b[0m                 \u001b[1;34mf\"ERROR: {col} already exists. Please set `overwrite` to True to overwrite.\"\u001b[0m\u001b[1;33m\u001b[0m\u001b[1;33m\u001b[0m\u001b[0m\n\u001b[0;32m    406\u001b[0m             )\n",
      "\u001b[1;31mValueError\u001b[0m: ERROR: is_clust1 already exists. Please set `overwrite` to True to overwrite."
     ]
    },
    {
     "name": "stdout",
     "output_type": "stream",
     "text": [
      "time: 422 ms (started: 2021-08-22 12:42:33 +02:00)\n"
     ]
    }
   ],
   "source": [
    "ds.cells.insert(column_name='is_clust1', values=is_clust_1)"
   ]
  },
  {
   "cell_type": "markdown",
   "id": "97d5aea3",
   "metadata": {},
   "source": [
    "To override this behaviour, you can use 'overwrite' parameter and set it to True"
   ]
  },
  {
   "cell_type": "code",
   "execution_count": 15,
   "id": "f6e8267e",
   "metadata": {},
   "outputs": [
    {
     "name": "stdout",
     "output_type": "stream",
     "text": [
      "time: 0 ns (started: 2021-08-22 12:42:45 +02:00)\n"
     ]
    }
   ],
   "source": [
    "ds.cells.insert(column_name='is_clust1', values=is_clust_1, overwrite=True)"
   ]
  },
  {
   "cell_type": "markdown",
   "id": "431a3d58",
   "metadata": {},
   "source": [
    "Please checkout the API of the `Metadata` class to get information on how to perform other operations like delete and update columns."
   ]
  },
  {
   "cell_type": "markdown",
   "id": "d05643b3",
   "metadata": {},
   "source": [
    "---\n",
    "### 3) Count matrices and data normalization\n"
   ]
  },
  {
   "cell_type": "markdown",
   "id": "eca9bfc7",
   "metadata": {},
   "source": [
    "Scarf uses Zarr format so that data can be stored in rectangular chunks. The raw data is saved in the `counts` level within each assay level in the Zarr hierarchy. It can easily be accessed as a [Dask](https://dask.org/) array using the `rawData` attribute of the assay. Note that for a standard analysis one would not interact with the raw data directly. Scarf internally optimizes the use of this Dask array to minimize the memory requirement of all operations."
   ]
  },
  {
   "cell_type": "code",
   "execution_count": 16,
   "id": "44ee2e8e",
   "metadata": {},
   "outputs": [
    {
     "data": {
      "text/html": [
       "<table>\n",
       "<tr>\n",
       "<td>\n",
       "<table>\n",
       "  <thead>\n",
       "    <tr><td> </td><th> Array </th><th> Chunk </th></tr>\n",
       "  </thead>\n",
       "  <tbody>\n",
       "    <tr><th> Bytes </th><td> 1.06 GB </td> <td> 8.00 MB </td></tr>\n",
       "    <tr><th> Shape </th><td> (7865, 33538) </td> <td> (2000, 1000) </td></tr>\n",
       "    <tr><th> Count </th><td> 136 Tasks </td><td> 136 Chunks </td></tr>\n",
       "    <tr><th> Type </th><td> uint32 </td><td> numpy.ndarray </td></tr>\n",
       "  </tbody>\n",
       "</table>\n",
       "</td>\n",
       "<td>\n",
       "<svg width=\"170\" height=\"92\" style=\"stroke:rgb(0,0,0);stroke-width:1\" >\n",
       "\n",
       "  <!-- Horizontal lines -->\n",
       "  <line x1=\"0\" y1=\"0\" x2=\"120\" y2=\"0\" style=\"stroke-width:2\" />\n",
       "  <line x1=\"0\" y1=\"10\" x2=\"120\" y2=\"10\" />\n",
       "  <line x1=\"0\" y1=\"21\" x2=\"120\" y2=\"21\" />\n",
       "  <line x1=\"0\" y1=\"32\" x2=\"120\" y2=\"32\" />\n",
       "  <line x1=\"0\" y1=\"42\" x2=\"120\" y2=\"42\" style=\"stroke-width:2\" />\n",
       "\n",
       "  <!-- Vertical lines -->\n",
       "  <line x1=\"0\" y1=\"0\" x2=\"0\" y2=\"42\" style=\"stroke-width:2\" />\n",
       "  <line x1=\"3\" y1=\"0\" x2=\"3\" y2=\"42\" />\n",
       "  <line x1=\"10\" y1=\"0\" x2=\"10\" y2=\"42\" />\n",
       "  <line x1=\"17\" y1=\"0\" x2=\"17\" y2=\"42\" />\n",
       "  <line x1=\"25\" y1=\"0\" x2=\"25\" y2=\"42\" />\n",
       "  <line x1=\"28\" y1=\"0\" x2=\"28\" y2=\"42\" />\n",
       "  <line x1=\"35\" y1=\"0\" x2=\"35\" y2=\"42\" />\n",
       "  <line x1=\"42\" y1=\"0\" x2=\"42\" y2=\"42\" />\n",
       "  <line x1=\"50\" y1=\"0\" x2=\"50\" y2=\"42\" />\n",
       "  <line x1=\"57\" y1=\"0\" x2=\"57\" y2=\"42\" />\n",
       "  <line x1=\"60\" y1=\"0\" x2=\"60\" y2=\"42\" />\n",
       "  <line x1=\"67\" y1=\"0\" x2=\"67\" y2=\"42\" />\n",
       "  <line x1=\"75\" y1=\"0\" x2=\"75\" y2=\"42\" />\n",
       "  <line x1=\"82\" y1=\"0\" x2=\"82\" y2=\"42\" />\n",
       "  <line x1=\"89\" y1=\"0\" x2=\"89\" y2=\"42\" />\n",
       "  <line x1=\"93\" y1=\"0\" x2=\"93\" y2=\"42\" />\n",
       "  <line x1=\"100\" y1=\"0\" x2=\"100\" y2=\"42\" />\n",
       "  <line x1=\"107\" y1=\"0\" x2=\"107\" y2=\"42\" />\n",
       "  <line x1=\"114\" y1=\"0\" x2=\"114\" y2=\"42\" />\n",
       "  <line x1=\"120\" y1=\"0\" x2=\"120\" y2=\"42\" style=\"stroke-width:2\" />\n",
       "\n",
       "  <!-- Colored Rectangle -->\n",
       "  <polygon points=\"0.0,0.0 120.0,0.0 120.0,42.65509152308753 0.0,42.65509152308753\" style=\"fill:#8B4903A0;stroke-width:0\"/>\n",
       "\n",
       "  <!-- Text -->\n",
       "  <text x=\"60.000000\" y=\"62.655092\" font-size=\"1.0rem\" font-weight=\"100\" text-anchor=\"middle\" >33538</text>\n",
       "  <text x=\"140.000000\" y=\"21.327546\" font-size=\"1.0rem\" font-weight=\"100\" text-anchor=\"middle\" transform=\"rotate(-90,140.000000,21.327546)\">7865</text>\n",
       "</svg>\n",
       "</td>\n",
       "</tr>\n",
       "</table>"
      ],
      "text/plain": [
       "dask.array<from-zarr, shape=(7865, 33538), dtype=uint32, chunksize=(2000, 1000), chunktype=numpy.ndarray>"
      ]
     },
     "execution_count": 16,
     "metadata": {},
     "output_type": "execute_result"
    },
    {
     "name": "stdout",
     "output_type": "stream",
     "text": [
      "time: 16 ms (started: 2021-08-22 12:42:46 +02:00)\n"
     ]
    }
   ],
   "source": [
    "ds.RNA.rawData"
   ]
  },
  {
   "cell_type": "markdown",
   "id": "4b93adff",
   "metadata": {},
   "source": [
    "The normalized data can be accessed through the `normed` method of the assay. In Scarf a user doesn't need to perform normalization step manually, Scarf only stores the raw data and generates normalized data whenever needed. This means that Scarf may need to perform normalization several times. However, in practise we have noted that time spent in normalizing the data is only a small fraction of routine workflows. "
   ]
  },
  {
   "cell_type": "code",
   "execution_count": 17,
   "id": "3f53c962",
   "metadata": {},
   "outputs": [
    {
     "data": {
      "text/html": [
       "<table>\n",
       "<tr>\n",
       "<td>\n",
       "<table>\n",
       "  <thead>\n",
       "    <tr><td> </td><th> Array </th><th> Chunk </th></tr>\n",
       "  </thead>\n",
       "  <tbody>\n",
       "    <tr><th> Bytes </th><td> 818.31 MB </td> <td> 8.11 MB </td></tr>\n",
       "    <tr><th> Shape </th><td> (7549, 13550) </td> <td> (1934, 524) </td></tr>\n",
       "    <tr><th> Count </th><td> 689 Tasks </td><td> 136 Chunks </td></tr>\n",
       "    <tr><th> Type </th><td> float64 </td><td> numpy.ndarray </td></tr>\n",
       "  </tbody>\n",
       "</table>\n",
       "</td>\n",
       "<td>\n",
       "<svg width=\"170\" height=\"116\" style=\"stroke:rgb(0,0,0);stroke-width:1\" >\n",
       "\n",
       "  <!-- Horizontal lines -->\n",
       "  <line x1=\"0\" y1=\"0\" x2=\"120\" y2=\"0\" style=\"stroke-width:2\" />\n",
       "  <line x1=\"0\" y1=\"16\" x2=\"120\" y2=\"16\" />\n",
       "  <line x1=\"0\" y1=\"33\" x2=\"120\" y2=\"33\" />\n",
       "  <line x1=\"0\" y1=\"51\" x2=\"120\" y2=\"51\" />\n",
       "  <line x1=\"0\" y1=\"66\" x2=\"120\" y2=\"66\" style=\"stroke-width:2\" />\n",
       "\n",
       "  <!-- Vertical lines -->\n",
       "  <line x1=\"0\" y1=\"0\" x2=\"0\" y2=\"66\" style=\"stroke-width:2\" />\n",
       "  <line x1=\"4\" y1=\"0\" x2=\"4\" y2=\"66\" />\n",
       "  <line x1=\"11\" y1=\"0\" x2=\"11\" y2=\"66\" />\n",
       "  <line x1=\"18\" y1=\"0\" x2=\"18\" y2=\"66\" />\n",
       "  <line x1=\"26\" y1=\"0\" x2=\"26\" y2=\"66\" />\n",
       "  <line x1=\"29\" y1=\"0\" x2=\"29\" y2=\"66\" />\n",
       "  <line x1=\"35\" y1=\"0\" x2=\"35\" y2=\"66\" />\n",
       "  <line x1=\"42\" y1=\"0\" x2=\"42\" y2=\"66\" />\n",
       "  <line x1=\"50\" y1=\"0\" x2=\"50\" y2=\"66\" />\n",
       "  <line x1=\"56\" y1=\"0\" x2=\"56\" y2=\"66\" />\n",
       "  <line x1=\"60\" y1=\"0\" x2=\"60\" y2=\"66\" />\n",
       "  <line x1=\"67\" y1=\"0\" x2=\"67\" y2=\"66\" />\n",
       "  <line x1=\"74\" y1=\"0\" x2=\"74\" y2=\"66\" />\n",
       "  <line x1=\"81\" y1=\"0\" x2=\"81\" y2=\"66\" />\n",
       "  <line x1=\"87\" y1=\"0\" x2=\"87\" y2=\"66\" />\n",
       "  <line x1=\"91\" y1=\"0\" x2=\"91\" y2=\"66\" />\n",
       "  <line x1=\"99\" y1=\"0\" x2=\"99\" y2=\"66\" />\n",
       "  <line x1=\"106\" y1=\"0\" x2=\"106\" y2=\"66\" />\n",
       "  <line x1=\"115\" y1=\"0\" x2=\"115\" y2=\"66\" />\n",
       "  <line x1=\"120\" y1=\"0\" x2=\"120\" y2=\"66\" style=\"stroke-width:2\" />\n",
       "\n",
       "  <!-- Colored Rectangle -->\n",
       "  <polygon points=\"0.0,0.0 120.0,0.0 120.0,66.85461254612547 0.0,66.85461254612547\" style=\"fill:#8B4903A0;stroke-width:0\"/>\n",
       "\n",
       "  <!-- Text -->\n",
       "  <text x=\"60.000000\" y=\"86.854613\" font-size=\"1.0rem\" font-weight=\"100\" text-anchor=\"middle\" >13550</text>\n",
       "  <text x=\"140.000000\" y=\"33.427306\" font-size=\"1.0rem\" font-weight=\"100\" text-anchor=\"middle\" transform=\"rotate(-90,140.000000,33.427306)\">7549</text>\n",
       "</svg>\n",
       "</td>\n",
       "</tr>\n",
       "</table>"
      ],
      "text/plain": [
       "dask.array<truediv, shape=(7549, 13550), dtype=float64, chunksize=(1934, 524), chunktype=numpy.ndarray>"
      ]
     },
     "execution_count": 17,
     "metadata": {},
     "output_type": "execute_result"
    },
    {
     "name": "stdout",
     "output_type": "stream",
     "text": [
      "time: 31 ms (started: 2021-08-22 12:42:46 +02:00)\n"
     ]
    }
   ],
   "source": [
    "ds.RNA.normed()"
   ]
  },
  {
   "cell_type": "markdown",
   "id": "545a75b4",
   "metadata": {},
   "source": [
    "Users can override how the normalization is performed in Scarf. Normalization is performed using the `normMethod` attribute which references the function responsible for performing the normalization."
   ]
  },
  {
   "cell_type": "code",
   "execution_count": 18,
   "id": "1f100402",
   "metadata": {},
   "outputs": [
    {
     "data": {
      "text/plain": [
       "<function scarf.assay.norm_lib_size(assay, counts: <module 'dask.array' from 'C:\\\\Users\\\\parashar\\\\miniconda3\\\\envs\\\\scarf\\\\lib\\\\site-packages\\\\dask\\\\array\\\\__init__.py'>) -> <module 'dask.array' from 'C:\\\\Users\\\\parashar\\\\miniconda3\\\\envs\\\\scarf\\\\lib\\\\site-packages\\\\dask\\\\array\\\\__init__.py'>>"
      ]
     },
     "execution_count": 18,
     "metadata": {},
     "output_type": "execute_result"
    },
    {
     "name": "stdout",
     "output_type": "stream",
     "text": [
      "time: 0 ns (started: 2021-08-22 12:42:47 +02:00)\n"
     ]
    }
   ],
   "source": [
    "ds.RNA.normMethod"
   ]
  },
  {
   "cell_type": "markdown",
   "id": "dffdb538",
   "metadata": {},
   "source": [
    "Let's checkout the source of function that is referenced by ds.RNA.normMethod"
   ]
  },
  {
   "cell_type": "code",
   "execution_count": 19,
   "id": "55437a54",
   "metadata": {},
   "outputs": [
    {
     "name": "stdout",
     "output_type": "stream",
     "text": [
      "def norm_lib_size(assay, counts: daskarr) -> daskarr:\n",
      "    \"\"\"\n",
      "    Performs library size normalization on the data.\n",
      "    This is the default method for RNA assays\n",
      "\n",
      "    Args:\n",
      "        assay: An instance of the assay object\n",
      "        counts: A dask array with raw counts data\n",
      "\n",
      "    Returns:  A dask array (delayed matrix) containing normalized data.\n",
      "\n",
      "    \"\"\"\n",
      "    return assay.sf * counts / assay.scalar.reshape(-1, 1)\n",
      "\n",
      "time: 0 ns (started: 2021-08-22 12:42:47 +02:00)\n"
     ]
    }
   ],
   "source": [
    "import inspect \n",
    "\n",
    "print (inspect.getsource(ds.RNA.normMethod))"
   ]
  },
  {
   "cell_type": "markdown",
   "id": "7597708f",
   "metadata": {},
   "source": [
    "Following is an example of how one can override the method of normalization"
   ]
  },
  {
   "cell_type": "code",
   "execution_count": 20,
   "id": "d64c2623",
   "metadata": {},
   "outputs": [
    {
     "name": "stdout",
     "output_type": "stream",
     "text": [
      "time: 0 ns (started: 2021-08-22 12:42:47 +02:00)\n"
     ]
    }
   ],
   "source": [
    "def my_cool_normalization_method(assay, counts):\n",
    "    import numpy as np\n",
    "\n",
    "    lib_size = counts.sum(axis=1).reshape(-1, 1) # Calculate total counts for each cell\n",
    "    return np.log2(counts/lib_size)  # Library size normalization followed by log2 transformation\n",
    "\n",
    "ds.RNA.normMethod = my_cool_normalization_method"
   ]
  },
  {
   "cell_type": "markdown",
   "id": "ece9b8c9",
   "metadata": {},
   "source": [
    "Now whenever Scarf internally requires normalized values, this function will be used. Scarf provides a dummy normalization function (`scarf.assay.norm_dummy`) that does not perform normalization. This function can be useful if you have pre-normalized data and need to disable default normalization."
   ]
  },
  {
   "cell_type": "code",
   "execution_count": 21,
   "id": "c481dd00",
   "metadata": {},
   "outputs": [
    {
     "name": "stdout",
     "output_type": "stream",
     "text": [
      "time: 0 ns (started: 2021-08-22 12:42:48 +02:00)\n"
     ]
    }
   ],
   "source": [
    "ds.RNA.normMethod = scarf.assay.norm_dummy"
   ]
  },
  {
   "cell_type": "markdown",
   "id": "5218e37c",
   "metadata": {},
   "source": [
    "Please note: If you are using a custom function or disabling normalization, then everytime you load a DataStore object you will need to reassign `normMethod` to the function of your choice."
   ]
  },
  {
   "cell_type": "markdown",
   "id": "07e44dbc",
   "metadata": {},
   "source": [
    "---\n",
    "### 4) Data caching during graph creation"
   ]
  },
  {
   "cell_type": "markdown",
   "id": "f0c014c2",
   "metadata": {},
   "source": [
    "All the results of `make_graph` step are saved under a name on the form '*normed\\_\\_{cell key}\\_\\_{feature key}*' (placeholders used in brackets here). In this case, since we did not provide a cell key it takes default value of `I`, which means all the cells that were not filtered out. The feature key (`feat_key`) was set to `hvgs`. The Zarr directory is organized such that all the intermediate data is also saved. The intermediate data is organized in a hierarchy which triggers recomputation when upstream changes are detected. The parameter values are also saved in hierarchy level names. For example, 'reduction_pca_31_I' means that PCA linear dimension reduction with 31 PC axes was used and the PCA was fit across all the cells that have `True` value in column **I**."
   ]
  },
  {
   "cell_type": "code",
   "execution_count": 22,
   "id": "20633bbc",
   "metadata": {},
   "outputs": [
    {
     "name": "stdout",
     "output_type": "stream",
     "text": [
      "normed__I__hvgs\n",
      " ├── data (7549, 1995) float64\n",
      " └── reduction__pca__30__I\n",
      "     ├── ann__l2__63__63__48__4466\n",
      "     │   └── knn__21\n",
      "     │       ├── distances (7549, 21) float64\n",
      "     │       ├── graph__1.0__1.5\n",
      "     │       │   ├── dendrogram (7548, 4) float64\n",
      "     │       │   ├── dendrogram_coalesced_20\n",
      "     │       │   │   ├── edgelist (38, 2) uint64\n",
      "     │       │   │   └── nodelist (39, 3) int64\n",
      "     │       │   ├── edges (158529, 2) uint64\n",
      "     │       │   └── weights (158529,) float64\n",
      "     │       └── indices (7549, 21) uint64\n",
      "     ├── kmeans__100__4466\n",
      "     │   ├── cluster_centers (100, 30) float64\n",
      "     │   └── cluster_labels (7549,) float64\n",
      "     ├── mu (1995,) float64\n",
      "     ├── reduction (1995, 30) float64\n",
      "     └── sigma (1995,) float64\n",
      "time: 16 ms (started: 2021-08-22 12:42:48 +02:00)\n"
     ]
    }
   ],
   "source": [
    "ds.show_zarr_tree(start='RNA/normed__I__hvgs')"
   ]
  },
  {
   "cell_type": "markdown",
   "id": "c6927ea2",
   "metadata": {},
   "source": [
    "The graph calculated by `make_graph` can be easily loaded using the `load_graph` method, like below. The graph is loaded as a sparse matrix of the cells that were used for creating a graph.\n",
    "\n",
    "Next, we show how the graph can be accessed if required. However, as stated above, normally Scarf handles the graph loading internally where required. \n",
    "\n",
    "Because Scarf saves all the intermediate data, it might be the case that a lot of graphs are stored in the Zarr hierarchy. `load_graph` will load only the latest graph that was computed (for the given assay, cell key and feat key). "
   ]
  },
  {
   "cell_type": "code",
   "execution_count": 23,
   "id": "0d70b08d",
   "metadata": {},
   "outputs": [
    {
     "data": {
      "text/plain": [
       "<7549x7549 sparse matrix of type '<class 'numpy.float64'>'\n",
       "\twith 158529 stored elements in Compressed Sparse Row format>"
      ]
     },
     "execution_count": 23,
     "metadata": {},
     "output_type": "execute_result"
    },
    {
     "name": "stdout",
     "output_type": "stream",
     "text": [
      "time: 31 ms (started: 2021-08-22 12:42:49 +02:00)\n"
     ]
    }
   ],
   "source": [
    "ds.load_graph(from_assay='RNA', cell_key='I', feat_key='hvgs', symmetric=False, upper_only=False)"
   ]
  },
  {
   "cell_type": "markdown",
   "id": "51726767",
   "metadata": {},
   "source": [
    "The sparse matrix above will load the If you would like to load a graph generated using some other parameter, then simply run `make_graph` again using those parameters. `make_graph` will not recalculate the graph if it already exists and will simply set it as the latest graph. This graph can then be loaded using `load_graph`"
   ]
  },
  {
   "cell_type": "markdown",
   "id": "104289d6",
   "metadata": {},
   "source": [
    "---\n",
    "### 5) Fetching marker features"
   ]
  },
  {
   "cell_type": "markdown",
   "id": "29abd41e",
   "metadata": {},
   "source": [
    "Marker features (ex. marker genes) for a selection of cells can be calculated using `run_marker_search`. The markers for each group are stored under 'marker' group under the assay's group. Within the '{assay}/markers' level there are sublevels (only 1 here) created based on which cell set and cell groups were used: {cell_key}__{group_key}. Stored below this Zarr level are the individual group labels that contain the maker feature ids and their corresponding scores."
   ]
  },
  {
   "cell_type": "code",
   "execution_count": 24,
   "id": "de885307",
   "metadata": {},
   "outputs": [
    {
     "name": "stdout",
     "output_type": "stream",
     "text": [
      "markers\n",
      " └── I__RNA_cluster\n",
      "     ├── 1\n",
      "     ├── 10\n",
      "     ├── 11\n",
      "     ├── 12\n",
      "     ├── 13\n",
      "     ├── 14\n",
      "     ├── 15\n",
      "     ├── 16\n",
      "     ├── 17\n",
      "     ├── 18\n",
      "     ├── 19\n",
      "     ├── 2\n",
      "     ├── 20\n",
      "     ├── 3\n",
      "     ├── 4\n",
      "     ├── 5\n",
      "     ├── 6\n",
      "     ├── 7\n",
      "     ├── 8\n",
      "     └── 9\n",
      "time: 16 ms (started: 2021-08-22 12:42:49 +02:00)\n"
     ]
    }
   ],
   "source": [
    "ds.show_zarr_tree(start='RNA/markers', depth=2)"
   ]
  },
  {
   "cell_type": "markdown",
   "id": "a0fb5670",
   "metadata": {},
   "source": [
    "Marker list for any group (e.x. cell cluster) can be fetched like below"
   ]
  },
  {
   "cell_type": "code",
   "execution_count": 25,
   "id": "e23bfac3",
   "metadata": {},
   "outputs": [
    {
     "data": {
      "text/html": [
       "<div>\n",
       "<style scoped>\n",
       "    .dataframe tbody tr th:only-of-type {\n",
       "        vertical-align: middle;\n",
       "    }\n",
       "\n",
       "    .dataframe tbody tr th {\n",
       "        vertical-align: top;\n",
       "    }\n",
       "\n",
       "    .dataframe thead th {\n",
       "        text-align: right;\n",
       "    }\n",
       "</style>\n",
       "<table border=\"1\" class=\"dataframe\">\n",
       "  <thead>\n",
       "    <tr style=\"text-align: right;\">\n",
       "      <th></th>\n",
       "      <th>score</th>\n",
       "      <th>names</th>\n",
       "    </tr>\n",
       "    <tr>\n",
       "      <th>ids</th>\n",
       "      <th></th>\n",
       "      <th></th>\n",
       "    </tr>\n",
       "  </thead>\n",
       "  <tbody>\n",
       "    <tr>\n",
       "      <th>ENSG00000144290</th>\n",
       "      <td>0.696736</td>\n",
       "      <td>SLC4A10</td>\n",
       "    </tr>\n",
       "    <tr>\n",
       "      <th>ENSG00000062524</th>\n",
       "      <td>0.52321</td>\n",
       "      <td>LTK</td>\n",
       "    </tr>\n",
       "    <tr>\n",
       "      <th>ENSG00000143365</th>\n",
       "      <td>0.473731</td>\n",
       "      <td>RORC</td>\n",
       "    </tr>\n",
       "    <tr>\n",
       "      <th>ENSG00000111796</th>\n",
       "      <td>0.381826</td>\n",
       "      <td>KLRB1</td>\n",
       "    </tr>\n",
       "    <tr>\n",
       "      <th>ENSG00000113088</th>\n",
       "      <td>0.379597</td>\n",
       "      <td>GZMK</td>\n",
       "    </tr>\n",
       "    <tr>\n",
       "      <th>ENSG00000218357</th>\n",
       "      <td>0.362173</td>\n",
       "      <td>LINC01644</td>\n",
       "    </tr>\n",
       "    <tr>\n",
       "      <th>ENSG00000099282</th>\n",
       "      <td>0.359214</td>\n",
       "      <td>TSPAN15</td>\n",
       "    </tr>\n",
       "    <tr>\n",
       "      <th>ENSG00000197635</th>\n",
       "      <td>0.354979</td>\n",
       "      <td>DPP4</td>\n",
       "    </tr>\n",
       "    <tr>\n",
       "      <th>ENSG00000080573</th>\n",
       "      <td>0.311975</td>\n",
       "      <td>COL5A3</td>\n",
       "    </tr>\n",
       "    <tr>\n",
       "      <th>ENSG00000174946</th>\n",
       "      <td>0.297659</td>\n",
       "      <td>GPR171</td>\n",
       "    </tr>\n",
       "    <tr>\n",
       "      <th>ENSG00000204475</th>\n",
       "      <td>0.287263</td>\n",
       "      <td>NCR3</td>\n",
       "    </tr>\n",
       "    <tr>\n",
       "      <th>ENSG00000168824</th>\n",
       "      <td>0.282651</td>\n",
       "      <td>NSG1</td>\n",
       "    </tr>\n",
       "    <tr>\n",
       "      <th>ENSG00000109906</th>\n",
       "      <td>0.281518</td>\n",
       "      <td>ZBTB16</td>\n",
       "    </tr>\n",
       "    <tr>\n",
       "      <th>ENSG00000000971</th>\n",
       "      <td>0.273301</td>\n",
       "      <td>CFH</td>\n",
       "    </tr>\n",
       "    <tr>\n",
       "      <th>ENSG00000139187</th>\n",
       "      <td>0.269599</td>\n",
       "      <td>KLRG1</td>\n",
       "    </tr>\n",
       "    <tr>\n",
       "      <th>ENSG00000206561</th>\n",
       "      <td>0.252777</td>\n",
       "      <td>COLQ</td>\n",
       "    </tr>\n",
       "  </tbody>\n",
       "</table>\n",
       "</div>"
      ],
      "text/plain": [
       "                    score      names\n",
       "ids                                 \n",
       "ENSG00000144290  0.696736    SLC4A10\n",
       "ENSG00000062524   0.52321        LTK\n",
       "ENSG00000143365  0.473731       RORC\n",
       "ENSG00000111796  0.381826      KLRB1\n",
       "ENSG00000113088  0.379597       GZMK\n",
       "ENSG00000218357  0.362173  LINC01644\n",
       "ENSG00000099282  0.359214    TSPAN15\n",
       "ENSG00000197635  0.354979       DPP4\n",
       "ENSG00000080573  0.311975     COL5A3\n",
       "ENSG00000174946  0.297659     GPR171\n",
       "ENSG00000204475  0.287263       NCR3\n",
       "ENSG00000168824  0.282651       NSG1\n",
       "ENSG00000109906  0.281518     ZBTB16\n",
       "ENSG00000000971  0.273301        CFH\n",
       "ENSG00000139187  0.269599      KLRG1\n",
       "ENSG00000206561  0.252777       COLQ"
      ]
     },
     "execution_count": 25,
     "metadata": {},
     "output_type": "execute_result"
    },
    {
     "name": "stdout",
     "output_type": "stream",
     "text": [
      "time: 47 ms (started: 2021-08-22 12:42:50 +02:00)\n"
     ]
    }
   ],
   "source": [
    "ds.get_markers(group_key='RNA_cluster', group_id=7)"
   ]
  },
  {
   "cell_type": "markdown",
   "id": "4ed8d9cc",
   "metadata": {},
   "source": [
    "One can also export the names of markers for all the groups to a CSV file like below:"
   ]
  },
  {
   "cell_type": "code",
   "execution_count": 26,
   "id": "317eba9c",
   "metadata": {},
   "outputs": [
    {
     "name": "stdout",
     "output_type": "stream",
     "text": [
      "time: 1.02 s (started: 2021-08-22 12:42:52 +02:00)\n"
     ]
    }
   ],
   "source": [
    "ds.export_markers_to_csv(group_key='RNA_cluster', csv_filename='test.csv')"
   ]
  },
  {
   "cell_type": "markdown",
   "id": "0b49cf8f",
   "metadata": {},
   "source": [
    "---\n",
    "That is all for this vignette."
   ]
  }
 ],
 "metadata": {
  "kernelspec": {
   "display_name": "Python 3 (ipykernel)",
   "language": "python",
   "name": "python3"
  },
  "language_info": {
   "codemirror_mode": {
    "name": "ipython",
    "version": 3
   },
   "file_extension": ".py",
   "mimetype": "text/x-python",
   "name": "python",
   "nbconvert_exporter": "python",
   "pygments_lexer": "ipython3",
   "version": "3.9.6"
  },
  "widgets": {
   "application/vnd.jupyter.widget-state+json": {
    "state": {},
    "version_major": 2,
    "version_minor": 0
   }
  }
 },
 "nbformat": 4,
 "nbformat_minor": 5
}
