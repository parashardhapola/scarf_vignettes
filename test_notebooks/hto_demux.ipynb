{
 "cells": [
  {
   "cell_type": "code",
   "execution_count": null,
   "id": "298163e5-5ba0-4a84-8f7c-450753beaa59",
   "metadata": {},
   "outputs": [],
   "source": [
    "# !pip install numpy pandas scipy sklearn statsmodels pyreadr"
   ]
  },
  {
   "cell_type": "code",
   "execution_count": 1,
   "id": "b4c561d3-453f-4e98-962f-e2058b964c31",
   "metadata": {
    "tags": []
   },
   "outputs": [],
   "source": [
    "import pyreadr\n",
    "from sklearn.cluster import KMeans\n",
    "import pandas as pd\n",
    "import numpy as np\n",
    "from statsmodels.discrete.discrete_model import NegativeBinomial\n",
    "from scipy.stats import nbinom"
   ]
  },
  {
   "cell_type": "code",
   "execution_count": 2,
   "id": "055263d5-29f8-4d2c-a111-1096027f2390",
   "metadata": {
    "tags": []
   },
   "outputs": [
    {
     "name": "stdout",
     "output_type": "stream",
     "text": [
      "C:\\Users\\paras\\codebase\\data\n"
     ]
    }
   ],
   "source": [
    "cd C:\\Users\\paras\\codebase\\data"
   ]
  },
  {
   "cell_type": "code",
   "execution_count": 8,
   "id": "d94f2b40-21a5-48ed-a710-00483d6932e1",
   "metadata": {
    "tags": []
   },
   "outputs": [],
   "source": [
    "def clr_normalize(df: pd.DataFrame) -> pd.DataFrame:\n",
    "    f = np.exp(np.log1p(df).sum(axis=0) / len(df))\n",
    "    return np.log1p(df / f)\n",
    "\n",
    "\n",
    "def calc_cluster_labels(\n",
    "    df: pd.DataFrame,\n",
    "    n_centers: int | None = None,\n",
    "    n_starts: int = 100\n",
    "):\n",
    "    if n_centers is None:\n",
    "        n_centers = df.shape[1] + 1\n",
    "    kmeans = KMeans(n_clusters=n_centers, init='random', n_init=n_starts)\n",
    "    kmeans.fit(df)\n",
    "    return kmeans.labels_\n",
    "\n",
    "\n",
    "def calc_cluster_avg_exp(df: pd.DataFrame) -> (pd.Series, pd.DataFrame):\n",
    "    df[\"cluster\"] = calc_cluster_labels(df)\n",
    "    return df[\"cluster\"], df.groupby(\"cluster\").mean()\n",
    "\n",
    "\n",
    "def get_background_cutoff(vals: np.ndarray, quantile: float = 0.99) -> int:\n",
    "    fit = NegativeBinomial(vals, np.ones_like(vals)).fit(start_params=[1, 1], disp=0)\n",
    "    mu = np.exp(fit.params[0])\n",
    "    p = 1/(1+np.exp(fit.params[0])*fit.params[1])\n",
    "    n = np.exp(fit.params[0])*p/(1-p)\n",
    "    dist = nbinom(n=n, p=p, loc=mu)\n",
    "    return round(dist.ppf(quantile))\n",
    "\n",
    "\n",
    "def discretize_counts(\n",
    "    df: pd.DataFrame,\n",
    "    clust_labels: pd.Series, \n",
    "    clust_exp: pd.DataFrame\n",
    ") -> pd.DataFrame:\n",
    "    min_clust = clust_exp.idxmin()\n",
    "    cutoffs = {}\n",
    "    for hto in df:\n",
    "        bg_values = df[hto][clust_labels == min_clust[hto]].values\n",
    "        cutoffs[hto] = get_background_cutoff(bg_values)\n",
    "    cutoffs = pd.Series(cutoffs)\n",
    "    return df > cutoffs\n",
    "\n",
    "\n",
    "def identity_renamer(x: int):\n",
    "    if x == 0:\n",
    "        return \"Negative\"\n",
    "    elif x == 1:\n",
    "        return \"Singlet\"\n",
    "    else:\n",
    "        return \"Doublet\"\n",
    "\n",
    "\n",
    "def demux_htos(\n",
    "    df_counts: pd.DataFrame,\n",
    ") -> pd.Series:\n",
    "    cluster_labels, avg_exp = calc_cluster_avg_exp(clr_normalize(df_counts))\n",
    "    # Seurat does the following check and hard stops the process if the assertion fails\n",
    "    assert any(avg_exp.sum(axis=1) == 0) == False\n",
    "    hto_discrete = discretize_counts(df_counts, cluster_labels, avg_exp)\n",
    "    g_class = hto_discrete.sum(axis=1).apply(identity_renamer)\n",
    "    singlet_ident = df_counts[g_class == \"Singlet\"].idxmax(axis=1)\n",
    "    g_class[singlet_ident.index] = singlet_ident\n",
    "    return g_class"
   ]
  },
  {
   "cell_type": "code",
   "execution_count": null,
   "id": "00cce55e-709c-49ed-b69f-28c5f85947f3",
   "metadata": {},
   "outputs": [],
   "source": [
    "# Download the data here:\n",
    "# https://www.dropbox.com/sh/ntc33ium7cg1za1/AAD_8XIDmu4F7lJ-5sp-rGFYa?dl=0"
   ]
  },
  {
   "cell_type": "code",
   "execution_count": 4,
   "id": "f516a22c-e413-484f-a84d-2b36c7e90637",
   "metadata": {
    "tags": []
   },
   "outputs": [
    {
     "data": {
      "text/plain": [
       "(16916, 8)"
      ]
     },
     "execution_count": 4,
     "metadata": {},
     "output_type": "execute_result"
    }
   ],
   "source": [
    "hto_counts = list(pyreadr.read_r('pbmc_hto_mtx.rds').values())[0].T\n",
    "hto_counts.shape"
   ]
  },
  {
   "cell_type": "code",
   "execution_count": 10,
   "id": "92ab8328-43de-494f-b21d-de215936e9b9",
   "metadata": {
    "tags": []
   },
   "outputs": [
    {
     "data": {
      "text/plain": [
       "Doublet     2446\n",
       "HTO_B       2007\n",
       "HTO_A       1908\n",
       "HTO_C       1891\n",
       "HTO_H       1843\n",
       "HTO_D       1728\n",
       "HTO_G       1544\n",
       "HTO_E       1502\n",
       "HTO_F       1427\n",
       "Negative     620\n",
       "Name: count, dtype: int64"
      ]
     },
     "execution_count": 10,
     "metadata": {},
     "output_type": "execute_result"
    }
   ],
   "source": [
    "hto_labels = demux_htos(hto_counts)\n",
    "hto_labels.value_counts()"
   ]
  },
  {
   "cell_type": "code",
   "execution_count": null,
   "id": "be4e70db-cf48-4a8a-81f5-8abaa6b51803",
   "metadata": {},
   "outputs": [],
   "source": [
    "##  Doublet Negative  Singlet \n",
    "##     2598      346    13972"
   ]
  }
 ],
 "metadata": {
  "kernelspec": {
   "display_name": "Python 3 (ipykernel)",
   "language": "python",
   "name": "python3"
  },
  "language_info": {
   "codemirror_mode": {
    "name": "ipython",
    "version": 3
   },
   "file_extension": ".py",
   "mimetype": "text/x-python",
   "name": "python",
   "nbconvert_exporter": "python",
   "pygments_lexer": "ipython3",
   "version": "3.10.11"
  }
 },
 "nbformat": 4,
 "nbformat_minor": 5
}
