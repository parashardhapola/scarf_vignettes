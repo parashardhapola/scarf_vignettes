{
 "cells": [
  {
   "cell_type": "code",
   "execution_count": 1,
   "id": "369c7896-04eb-4dcc-891d-9cbdfe397209",
   "metadata": {},
   "outputs": [
    {
     "data": {
      "text/plain": [
       "'0.23.0'"
      ]
     },
     "execution_count": 1,
     "metadata": {},
     "output_type": "execute_result"
    },
    {
     "name": "stdout",
     "output_type": "stream",
     "text": [
      "time: 1.47 s (started: 2022-09-13 23:35:32 +02:00)\n"
     ]
    }
   ],
   "source": [
    "%load_ext autotime\n",
    "\n",
    "import os\n",
    "import shutil\n",
    "import tarfile\n",
    "import numpy as np\n",
    "import pandas as pd\n",
    "\n",
    "import scarf\n",
    "scarf.__version__"
   ]
  },
  {
   "cell_type": "code",
   "execution_count": 2,
   "id": "440fcef1-a9c1-40bc-978f-e96ef2901481",
   "metadata": {},
   "outputs": [
    {
     "name": "stdout",
     "output_type": "stream",
     "text": [
      "time: 15 ms (started: 2022-09-13 23:35:34 +02:00)\n"
     ]
    }
   ],
   "source": [
    "scarf.utils.set_verbosity('DEBUG')"
   ]
  },
  {
   "cell_type": "code",
   "execution_count": 3,
   "id": "90b1baec-d782-4c0f-b2d2-09079f32aff2",
   "metadata": {},
   "outputs": [
    {
     "name": "stdout",
     "output_type": "stream",
     "text": [
      "\u001b[34m\u001b[1mDEBUG\u001b[0m: Setting assay RNA to assay type: RNAassay\n"
     ]
    },
    {
     "data": {
      "application/vnd.jupyter.widget-view+json": {
       "model_id": "b1cc55d472cd416e9205ea1f74c08fd6",
       "version_major": 2,
       "version_minor": 0
      },
      "text/plain": [
       "(RNA) Computing nCells and dropOuts:   0%|                                                                    …"
      ]
     },
     "metadata": {},
     "output_type": "display_data"
    },
    {
     "name": "stdout",
     "output_type": "stream",
     "text": [
      "\u001b[34m\u001b[1mDEBUG\u001b[0m: Setting assay assay2 to assay type: ADTassay\n"
     ]
    },
    {
     "data": {
      "application/vnd.jupyter.widget-view+json": {
       "model_id": "a70139c6f2d34d6c9768d03cfaa010c6",
       "version_major": 2,
       "version_minor": 0
      },
      "text/plain": [
       "(assay2) Computing nCells and dropOuts:   0%|                                                                 …"
      ]
     },
     "metadata": {},
     "output_type": "display_data"
    },
    {
     "data": {
      "application/vnd.jupyter.widget-view+json": {
       "model_id": "44691bdfcebe466dad7ab018d2302e63",
       "version_major": 2,
       "version_minor": 0
      },
      "text/plain": [
       "(RNA) Computing nCounts:   0%|                                                                                …"
      ]
     },
     "metadata": {},
     "output_type": "display_data"
    },
    {
     "name": "stdout",
     "output_type": "stream",
     "text": [
      "\u001b[33m\u001b[1mWARNING\u001b[0m: Minimum cell count (534) is lower than size factor multiplier (1000)\n"
     ]
    },
    {
     "data": {
      "application/vnd.jupyter.widget-view+json": {
       "model_id": "c6707f535954429790d9473de650bf6b",
       "version_major": 2,
       "version_minor": 0
      },
      "text/plain": [
       "(RNA) Computing nFeatures:   0%|                                                                              …"
      ]
     },
     "metadata": {},
     "output_type": "display_data"
    },
    {
     "data": {
      "application/vnd.jupyter.widget-view+json": {
       "model_id": "e65168fd2abb4e188593642145558dad",
       "version_major": 2,
       "version_minor": 0
      },
      "text/plain": [
       "(RNA) Computing RNA_percentMito:   0%|                                                                        …"
      ]
     },
     "metadata": {},
     "output_type": "display_data"
    },
    {
     "data": {
      "application/vnd.jupyter.widget-view+json": {
       "model_id": "6d27cb54061b48049ec9b1e98de1dc87",
       "version_major": 2,
       "version_minor": 0
      },
      "text/plain": [
       "(RNA) Computing RNA_percentRibo:   0%|                                                                        …"
      ]
     },
     "metadata": {},
     "output_type": "display_data"
    },
    {
     "data": {
      "application/vnd.jupyter.widget-view+json": {
       "model_id": "7bfb056c9f7f4cb5ac2b1f73d92b7ba2",
       "version_major": 2,
       "version_minor": 0
      },
      "text/plain": [
       "(assay2) Computing nCounts:   0%|                                                                             …"
      ]
     },
     "metadata": {},
     "output_type": "display_data"
    },
    {
     "data": {
      "application/vnd.jupyter.widget-view+json": {
       "model_id": "bcdca2bd586540d8b6e7b07f91c37cac",
       "version_major": 2,
       "version_minor": 0
      },
      "text/plain": [
       "(assay2) Computing nFeatures:   0%|                                                                           …"
      ]
     },
     "metadata": {},
     "output_type": "display_data"
    },
    {
     "name": "stdout",
     "output_type": "stream",
     "text": [
      "time: 1.88 s (started: 2022-09-13 23:35:34 +02:00)\n"
     ]
    }
   ],
   "source": [
    "def load_datastore():\n",
    "    fn = os.path.join('scarf_datasets/1K_pbmc_citeseq.zarr.tar.gz')\n",
    "    out_fn = fn.replace('.tar.gz', '')\n",
    "    if os.path.isdir(out_fn):\n",
    "        shutil.rmtree(out_fn)\n",
    "    tar = tarfile.open(fn, \"r:gz\")\n",
    "    tar.extractall(out_fn)\n",
    "    return scarf.DataStore(out_fn, default_assay='RNA', assay_types={'assay2': 'ADT'} )\n",
    "\n",
    "ds = load_datastore()"
   ]
  },
  {
   "cell_type": "code",
   "execution_count": 4,
   "id": "21a0314e-9de0-45cb-a0d7-450d4a074b47",
   "metadata": {
    "scrolled": true,
    "tags": []
   },
   "outputs": [
    {
     "name": "stdout",
     "output_type": "stream",
     "text": [
      "\u001b[1mINFO\u001b[0m: 37 cells flagged for filtering out using attribute RNA_nCounts\n",
      "\u001b[1mINFO\u001b[0m: 21 cells flagged for filtering out using attribute RNA_nFeatures\n",
      "\u001b[1mINFO\u001b[0m: 43 cells flagged for filtering out using attribute RNA_percentMito\n",
      "\u001b[1mINFO\u001b[0m: 4 cells flagged for filtering out using attribute RNA_percentRibo\n",
      "\u001b[1mINFO\u001b[0m: Setting `min_cells` to 8. Only those genes that are present in atleast this number of cells will be considered HVGs.\n"
     ]
    },
    {
     "data": {
      "application/vnd.jupyter.widget-view+json": {
       "model_id": "757c608856844f1593aa7af764139d31",
       "version_major": 2,
       "version_minor": 0
      },
      "text/plain": [
       "(RNA) Computing nCells:   0%|                                                                                 …"
      ]
     },
     "metadata": {},
     "output_type": "display_data"
    },
    {
     "data": {
      "application/vnd.jupyter.widget-view+json": {
       "model_id": "2f15bc3b20274b129fca9dfcb6d4df51",
       "version_major": 2,
       "version_minor": 0
      },
      "text/plain": [
       "(RNA) Computing normed_tot:   0%|                                                                             …"
      ]
     },
     "metadata": {},
     "output_type": "display_data"
    },
    {
     "data": {
      "application/vnd.jupyter.widget-view+json": {
       "model_id": "51a528a2a29b4854bd6f5778fcf472c6",
       "version_major": 2,
       "version_minor": 0
      },
      "text/plain": [
       "(RNA) Computing sigmas:   0%|                                                                                 …"
      ]
     },
     "metadata": {},
     "output_type": "display_data"
    },
    {
     "name": "stdout",
     "output_type": "stream",
     "text": [
      "\u001b[1mINFO\u001b[0m: 100 genes marked as HVGs\n",
      "\u001b[33m\u001b[1mWARNING\u001b[0m: 1 values were not found in the table column names\n",
      "\u001b[34m\u001b[1mDEBUG\u001b[0m: Location (summary_stats_I) already mounted\n"
     ]
    },
    {
     "name": "stderr",
     "output_type": "stream",
     "text": [
      "C:\\Users\\parashar\\miniconda3\\envs\\scarf\\lib\\site-packages\\scarf\\feat_utils.py:80: FutureWarning: Passing a set as an indexer is deprecated and will raise in a future version. Use a list instead.\n",
      "  for cut in np.unique(obs_cut[feature_list]):\n"
     ]
    },
    {
     "name": "stdout",
     "output_type": "stream",
     "text": [
      "\u001b[33m\u001b[1mWARNING\u001b[0m: 2 values were not found in the table column names\n",
      "\u001b[34m\u001b[1mDEBUG\u001b[0m: Location (summary_stats_I) already mounted\n"
     ]
    },
    {
     "name": "stderr",
     "output_type": "stream",
     "text": [
      "C:\\Users\\parashar\\miniconda3\\envs\\scarf\\lib\\site-packages\\scarf\\feat_utils.py:80: FutureWarning: Passing a set as an indexer is deprecated and will raise in a future version. Use a list instead.\n",
      "  for cut in np.unique(obs_cut[feature_list]):\n"
     ]
    },
    {
     "name": "stdout",
     "output_type": "stream",
     "text": [
      "\u001b[34m\u001b[1mDEBUG\u001b[0m: No value provided for parameter `log_transform`. Will use default value: True\n",
      "\u001b[34m\u001b[1mDEBUG\u001b[0m: No value provided for parameter `renormalize_subset`. Will use default value: True\n",
      "\u001b[34m\u001b[1mDEBUG\u001b[0m: No value provided for parameter `dims`. Will use default value: 11\n",
      "\u001b[34m\u001b[1mDEBUG\u001b[0m: No value provided for parameter `pca_cell_key`. Will use default value: I\n",
      "\u001b[34m\u001b[1mDEBUG\u001b[0m: Using PCA for dimension reduction\n",
      "\u001b[34m\u001b[1mDEBUG\u001b[0m: No value provided for parameter `ann_metric`. Will use default value: l2\n",
      "\u001b[34m\u001b[1mDEBUG\u001b[0m: No value provided for parameter `ann_efc`. Will use default value: min(100, max(k * 3, 50))\n",
      "\u001b[34m\u001b[1mDEBUG\u001b[0m: No value provided for parameter `ann_ef`. Will use default value: min(100, max(k * 3, 50))\n",
      "\u001b[34m\u001b[1mDEBUG\u001b[0m: No value provided for parameter `ann_m`. Will use default value: 48\n",
      "\u001b[34m\u001b[1mDEBUG\u001b[0m: No value provided for parameter `rand_state`. Will use default value: 4466\n",
      "\u001b[34m\u001b[1mDEBUG\u001b[0m: No value provided for parameter `k`. Will use default value: 11\n",
      "\u001b[34m\u001b[1mDEBUG\u001b[0m: No value provided for parameter `n_centroids`. Will use default value: 1000\n",
      "\u001b[34m\u001b[1mDEBUG\u001b[0m: No value provided for parameter `local_connectivity`. Will use default value: 1.0\n",
      "\u001b[34m\u001b[1mDEBUG\u001b[0m: No value provided for parameter `bandwidth`. Will use default value: 1.5\n"
     ]
    },
    {
     "data": {
      "application/vnd.jupyter.widget-view+json": {
       "model_id": "b9d152cc131d4e02bd968994e9199c4d",
       "version_major": 2,
       "version_minor": 0
      },
      "text/plain": [
       "Normalizing with feature subset:   0%|                                                                        …"
      ]
     },
     "metadata": {},
     "output_type": "display_data"
    },
    {
     "data": {
      "application/vnd.jupyter.widget-view+json": {
       "model_id": "acd53deeb3674a67a382aa7c074ae62e",
       "version_major": 2,
       "version_minor": 0
      },
      "text/plain": [
       "Writing data to normed__I__hvgs/data:   0%|                                                                   …"
      ]
     },
     "metadata": {},
     "output_type": "display_data"
    },
    {
     "data": {
      "application/vnd.jupyter.widget-view+json": {
       "model_id": "73bdac334ab9489b9de3ff2ce99116c6",
       "version_major": 2,
       "version_minor": 0
      },
      "text/plain": [
       "Calculating mean of norm. data:   0%|                                                                         …"
      ]
     },
     "metadata": {},
     "output_type": "display_data"
    },
    {
     "data": {
      "application/vnd.jupyter.widget-view+json": {
       "model_id": "d2849f0bdbdd4d099e70e9d246a8eced",
       "version_major": 2,
       "version_minor": 0
      },
      "text/plain": [
       "Calculating std. dev. of norm. data:   0%|                                                                    …"
      ]
     },
     "metadata": {},
     "output_type": "display_data"
    },
    {
     "name": "stdout",
     "output_type": "stream",
     "text": [
      "\u001b[1mINFO\u001b[0m: Cluster number reduced to batch size of 808\n"
     ]
    },
    {
     "data": {
      "application/vnd.jupyter.widget-view+json": {
       "model_id": "27d27cd7c31543d8b5b16e11af471581",
       "version_major": 2,
       "version_minor": 0
      },
      "text/plain": [
       "Fitting PCA:   0%|                                                                                            …"
      ]
     },
     "metadata": {},
     "output_type": "display_data"
    },
    {
     "data": {
      "application/vnd.jupyter.widget-view+json": {
       "model_id": "3426cf896c3b46a5bffba94a4973ae58",
       "version_major": 2,
       "version_minor": 0
      },
      "text/plain": [
       "Fitting ANN:   0%|                                                                                            …"
      ]
     },
     "metadata": {},
     "output_type": "display_data"
    },
    {
     "data": {
      "application/vnd.jupyter.widget-view+json": {
       "model_id": "a7b7df0cd98b4a4db3c056097ff5761a",
       "version_major": 2,
       "version_minor": 0
      },
      "text/plain": [
       "Fitting kmeans:   0%|                                                                                         …"
      ]
     },
     "metadata": {},
     "output_type": "display_data"
    },
    {
     "data": {
      "application/vnd.jupyter.widget-view+json": {
       "model_id": "d2b6d88b23574a7abd81275b074c60f3",
       "version_major": 2,
       "version_minor": 0
      },
      "text/plain": [
       "Estimating seed partitions:   0%|                                                                             …"
      ]
     },
     "metadata": {},
     "output_type": "display_data"
    },
    {
     "name": "stdout",
     "output_type": "stream",
     "text": [
      "\u001b[34m\u001b[1mDEBUG\u001b[0m: Saving loadings to RNA/normed__I__hvgs/reduction__pca__11__I\n",
      "\u001b[34m\u001b[1mDEBUG\u001b[0m: Saving ANN index to RNA/normed__I__hvgs/reduction__pca__11__I/ann__l2__50__50__48__4466\n",
      "\u001b[34m\u001b[1mDEBUG\u001b[0m: Saving kmeans clusters to RNA/normed__I__hvgs/reduction__pca__11__I/kmeans__1000__4466\n"
     ]
    },
    {
     "data": {
      "application/vnd.jupyter.widget-view+json": {
       "model_id": "2e92fd6ea989476790d02d9eab6ec680",
       "version_major": 2,
       "version_minor": 0
      },
      "text/plain": [
       "Saving KNN graph:   0%|                                                                                       …"
      ]
     },
     "metadata": {},
     "output_type": "display_data"
    },
    {
     "data": {
      "application/vnd.jupyter.widget-view+json": {
       "model_id": "ea323585a28243e3beaf11d815122f08",
       "version_major": 2,
       "version_minor": 0
      },
      "text/plain": [
       "Smoothening KNN distances:   0%|                                                                              …"
      ]
     },
     "metadata": {},
     "output_type": "display_data"
    },
    {
     "name": "stdout",
     "output_type": "stream",
     "text": [
      "\u001b[1mINFO\u001b[0m: ANN recall: 100.00%\n",
      "\u001b[34m\u001b[1mDEBUG\u001b[0m: Loading graph from location: RNA/normed__I__hvgs/reduction__pca__11__I/ann__l2__50__50__48__4466/knn__11/graph__1.0__1.5\n",
      "\u001b[34m\u001b[1mDEBUG\u001b[0m: Loading graph from location: RNA/normed__I__hvgs/reduction__pca__11__I/ann__l2__50__50__48__4466/knn__11/graph__1.0__1.5\n",
      "\u001b[1mINFO\u001b[0m: Using existing dendrogram\n"
     ]
    },
    {
     "data": {
      "application/vnd.jupyter.widget-view+json": {
       "model_id": "901d0081fe09405799eeaa317bebd439",
       "version_major": 2,
       "version_minor": 0
      },
      "text/plain": [
       "Constructing graph from dendrogram:   0%|                                                                     …"
      ]
     },
     "metadata": {},
     "output_type": "display_data"
    },
    {
     "data": {
      "application/vnd.jupyter.widget-view+json": {
       "model_id": "dbe0819fb81a4acaacda610698535fe3",
       "version_major": 2,
       "version_minor": 0
      },
      "text/plain": [
       "Identifying nodes to split:   0%|                                                                             …"
      ]
     },
     "metadata": {},
     "output_type": "display_data"
    },
    {
     "name": "stdout",
     "output_type": "stream",
     "text": [
      "\u001b[1mINFO\u001b[0m: 27 clusters found\n",
      "\u001b[34m\u001b[1mDEBUG\u001b[0m: Loading graph from location: RNA/normed__I__hvgs/reduction__pca__11__I/ann__l2__50__50__48__4466/knn__11/graph__1.0__1.5\n"
     ]
    },
    {
     "data": {
      "application/vnd.jupyter.widget-view+json": {
       "model_id": "d1ec0b5438514c8da511c2d04dea1f7e",
       "version_major": 2,
       "version_minor": 0
      },
      "text/plain": [
       "Training UMAP:   0%|                                                                                          …"
      ]
     },
     "metadata": {},
     "output_type": "display_data"
    },
    {
     "name": "stdout",
     "output_type": "stream",
     "text": [
      "\u001b[34m\u001b[1mDEBUG\u001b[0m: Will iterate over data of shape: \n"
     ]
    },
    {
     "data": {
      "application/vnd.jupyter.widget-view+json": {
       "model_id": "84542eff6fe748ae80ef6aa89054a425",
       "version_major": 2,
       "version_minor": 0
      },
      "text/plain": [
       "Finding markers:   0%|                                                                                        …"
      ]
     },
     "metadata": {},
     "output_type": "display_data"
    },
    {
     "name": "stdout",
     "output_type": "stream",
     "text": [
      "\u001b[1mINFO\u001b[0m: 0 features missing in target data\n"
     ]
    },
    {
     "data": {
      "application/vnd.jupyter.widget-view+json": {
       "model_id": "c460e85cbb9243219f420fffafedf077",
       "version_major": 2,
       "version_minor": 0
      },
      "text/plain": [
       "Normalizing with feature subset:   0%|                                                                        …"
      ]
     },
     "metadata": {},
     "output_type": "display_data"
    },
    {
     "data": {
      "application/vnd.jupyter.widget-view+json": {
       "model_id": "47c71807ad3244a6843ccdff26fb47f3",
       "version_major": 2,
       "version_minor": 0
      },
      "text/plain": [
       "(RNA) Writing aligned data to normed__I__hvgs_self:   0%|                                                     …"
      ]
     },
     "metadata": {},
     "output_type": "display_data"
    },
    {
     "name": "stdout",
     "output_type": "stream",
     "text": [
      "\u001b[34m\u001b[1mDEBUG\u001b[0m: 100 features being used for mapping\n",
      "\u001b[34m\u001b[1mDEBUG\u001b[0m: No value provided for parameter `log_transform`. Will use previously used value: True\n",
      "\u001b[34m\u001b[1mDEBUG\u001b[0m: No value provided for parameter `renormalize_subset`. Will use previously used value: True\n",
      "\u001b[34m\u001b[1mDEBUG\u001b[0m: No value provided for parameter `dims`. Will use previously used value: 11\n",
      "\u001b[34m\u001b[1mDEBUG\u001b[0m: No value provided for parameter `pca_cell_key`. Will use previously used value: I\n",
      "\u001b[34m\u001b[1mDEBUG\u001b[0m: Using PCA for dimension reduction\n",
      "\u001b[34m\u001b[1mDEBUG\u001b[0m: No value provided for parameter `ann_metric`. Will use previously used value: l2\n",
      "\u001b[34m\u001b[1mDEBUG\u001b[0m: No value provided for parameter `ann_efc`. Will use previously used value: 50\n",
      "\u001b[34m\u001b[1mDEBUG\u001b[0m: No value provided for parameter `ann_ef`. Will use previously used value: 50\n",
      "\u001b[34m\u001b[1mDEBUG\u001b[0m: No value provided for parameter `ann_m`. Will use previously used value: 48\n",
      "\u001b[34m\u001b[1mDEBUG\u001b[0m: No value provided for parameter `rand_state`. Will use previously used value: 4466\n",
      "\u001b[34m\u001b[1mDEBUG\u001b[0m: No value provided for parameter `k`. Will use previously used value: 11\n",
      "\u001b[34m\u001b[1mDEBUG\u001b[0m: No value provided for parameter `n_centroids`. Will use default value: 1000\n",
      "\u001b[34m\u001b[1mDEBUG\u001b[0m: No value provided for parameter `local_connectivity`. Will use previously used value: 1.0\n",
      "\u001b[34m\u001b[1mDEBUG\u001b[0m: No value provided for parameter `bandwidth`. Will use previously used value: 1.5\n",
      "\u001b[1mINFO\u001b[0m: Using existing normalized data with cell key I and feat key I__hvgs\n",
      "\u001b[1mINFO\u001b[0m: Using existing loadings for pca with 11 dims\n",
      "\u001b[1mINFO\u001b[0m: Using existing ANN index\n",
      "\u001b[1mINFO\u001b[0m: using existing kmeans cluster centers\n",
      "\u001b[1mINFO\u001b[0m: Cluster number reduced to batch size of 808\n",
      "\u001b[1mINFO\u001b[0m: KNN graph already exists will not recompute.\n"
     ]
    },
    {
     "data": {
      "application/vnd.jupyter.widget-view+json": {
       "model_id": "842826be00584a26ae0f7ec666bfccff",
       "version_major": 2,
       "version_minor": 0
      },
      "text/plain": [
       "Mapping cells from selfmap:   0%|                                                                             …"
      ]
     },
     "metadata": {},
     "output_type": "display_data"
    },
    {
     "data": {
      "application/vnd.jupyter.widget-view+json": {
       "model_id": "a6333bcf18fb4d688326fbb3f343f9b2",
       "version_major": 2,
       "version_minor": 0
      },
      "text/plain": [
       "Training UMAP:   0%|                                                                                          …"
      ]
     },
     "metadata": {},
     "output_type": "display_data"
    },
    {
     "name": "stdout",
     "output_type": "stream",
     "text": [
      "\u001b[34m\u001b[1mDEBUG\u001b[0m: Loading graph from location: RNA/normed__I__hvgs/reduction__pca__11__I/ann__l2__50__50__48__4466/knn__11/graph__1.0__1.5\n"
     ]
    },
    {
     "name": "stderr",
     "output_type": "stream",
     "text": [
      "Constructing graph from dendrogram: 100%|██████| 807/807 [00:00<00:00, 100308.30it/s]"
     ]
    },
    {
     "name": "stdout",
     "output_type": "stream",
     "text": [
      "INFO: 89 cells (11.01%) sub-sampled. Subsample to Seed (30 cells) ratio: 2.967\n",
      "\u001b[34m\u001b[1mDEBUG\u001b[0m: Sketched cells saved under column 'RNA_sketched'\n",
      "\u001b[34m\u001b[1mDEBUG\u001b[0m: Cell neighbourhood densities saved under column: 'RNA_cell_density'\n",
      "\u001b[34m\u001b[1mDEBUG\u001b[0m: Mean SNN values saved under column: 'RNA_snn_value'\n",
      "\u001b[34m\u001b[1mDEBUG\u001b[0m: Seed cells saved under column: 'RNA_sketch_seeds'\n",
      "\u001b[34m\u001b[1mDEBUG\u001b[0m: Loading graph from location: RNA/normed__I__hvgs/reduction__pca__11__I/ann__l2__50__50__48__4466/knn__11/graph__1.0__1.5\n",
      "\u001b[1mINFO\u001b[0m: Calculating SVD of graph laplacian. This might take a while...\n"
     ]
    },
    {
     "name": "stderr",
     "output_type": "stream",
     "text": [
      "\n"
     ]
    },
    {
     "data": {
      "application/vnd.jupyter.widget-view+json": {
       "model_id": "607821377fb64d5b9511804947ba8bf4",
       "version_major": 2,
       "version_minor": 0
      },
      "text/plain": [
       "Calculating pseudotime:   0%|                                                                                 …"
      ]
     },
     "metadata": {},
     "output_type": "display_data"
    },
    {
     "name": "stdout",
     "output_type": "stream",
     "text": [
      "\u001b[34m\u001b[1mDEBUG\u001b[0m: Will iterate over data of shape: \n"
     ]
    },
    {
     "data": {
      "application/vnd.jupyter.widget-view+json": {
       "model_id": "1223ae8f2d2f48709a629d3169ca5ce4",
       "version_major": 2,
       "version_minor": 0
      },
      "text/plain": [
       "Finding correlated features:   0%|                                                                            …"
      ]
     },
     "metadata": {},
     "output_type": "display_data"
    },
    {
     "name": "stdout",
     "output_type": "stream",
     "text": [
      "\u001b[34m\u001b[1mDEBUG\u001b[0m: Will iterate over data of shape: \n"
     ]
    },
    {
     "data": {
      "application/vnd.jupyter.widget-view+json": {
       "model_id": "8e4dbd23f9254ad7b6bcdca822dfc888",
       "version_major": 2,
       "version_minor": 0
      },
      "text/plain": [
       "Binning over cell-ordering:   0%|                                                                             …"
      ]
     },
     "metadata": {},
     "output_type": "display_data"
    },
    {
     "data": {
      "application/vnd.jupyter.widget-view+json": {
       "model_id": "5632b4b393574955a6acce8755b747d3",
       "version_major": 2,
       "version_minor": 0
      },
      "text/plain": [
       "Fitting KNNs:   0%|                                                                                           …"
      ]
     },
     "metadata": {},
     "output_type": "display_data"
    },
    {
     "data": {
      "application/vnd.jupyter.widget-view+json": {
       "model_id": "49f67a720edb464fae65a6e47130b26c",
       "version_major": 2,
       "version_minor": 0
      },
      "text/plain": [
       "Identifying feature KNNs:   0%|                                                                               …"
      ]
     },
     "metadata": {},
     "output_type": "display_data"
    },
    {
     "name": "stdout",
     "output_type": "stream",
     "text": [
      "\u001b[1mINFO\u001b[0m: Performing clustering, this might take a while...\n"
     ]
    },
    {
     "data": {
      "application/vnd.jupyter.widget-view+json": {
       "model_id": "ab9aea7bf74c4503bee3449770a96950",
       "version_major": 2,
       "version_minor": 0
      },
      "text/plain": [
       "Sorting clusters:   0%|                                                                                       …"
      ]
     },
     "metadata": {},
     "output_type": "display_data"
    },
    {
     "data": {
      "application/vnd.jupyter.widget-view+json": {
       "model_id": "1232859356d04e7c9b1ec7545c89cdf0",
       "version_major": 2,
       "version_minor": 0
      },
      "text/plain": [
       "Writing to Zarr:   0%|                                                                                        …"
      ]
     },
     "metadata": {},
     "output_type": "display_data"
    },
    {
     "name": "stdout",
     "output_type": "stream",
     "text": [
      "\u001b[34m\u001b[1mDEBUG\u001b[0m: Setting assay PTIME_MODULES to assay type: Assay\n"
     ]
    },
    {
     "data": {
      "application/vnd.jupyter.widget-view+json": {
       "model_id": "dda50572d6a94889821f318ec5dcff23",
       "version_major": 2,
       "version_minor": 0
      },
      "text/plain": [
       "(PTIME_MODULES) Computing nCells and dropOuts:   0%|                                                          …"
      ]
     },
     "metadata": {},
     "output_type": "display_data"
    },
    {
     "data": {
      "application/vnd.jupyter.widget-view+json": {
       "model_id": "8d5a8c0429a74f2cbc6610b47ce3ef64",
       "version_major": 2,
       "version_minor": 0
      },
      "text/plain": [
       "(PTIME_MODULES) Computing nCounts:   0%|                                                                      …"
      ]
     },
     "metadata": {},
     "output_type": "display_data"
    },
    {
     "data": {
      "application/vnd.jupyter.widget-view+json": {
       "model_id": "809634241d014ddf8460f754ef39fcb1",
       "version_major": 2,
       "version_minor": 0
      },
      "text/plain": [
       "(PTIME_MODULES) Computing nFeatures:   0%|                                                                    …"
      ]
     },
     "metadata": {},
     "output_type": "display_data"
    },
    {
     "name": "stdout",
     "output_type": "stream",
     "text": [
      "time: 43.2 s (started: 2022-09-13 23:35:36 +02:00)\n"
     ]
    }
   ],
   "source": [
    "ds.auto_filter_cells(show_qc_plots=False)\n",
    "ds.mark_hvgs(top_n=100, show_plot=False)\n",
    "ds.run_cell_cycle_scoring()\n",
    "ds.make_graph(feat_key='hvgs')\n",
    "ds.run_leiden_clustering()\n",
    "ds.run_clustering(n_clusters=10)\n",
    "ds.run_clustering(balanced_cut=True, max_size=100, min_size=10,\n",
    "                  label='balanced_clusters')\n",
    "ds.run_umap(n_epochs=100)\n",
    "ds.run_marker_search(group_key='RNA_cluster')\n",
    "ds.run_mapping(target_assay=ds.RNA, target_name='selfmap',\n",
    "                      target_feat_key='hvgs_self', save_k=3)\n",
    "ds.run_unified_umap(target_names=['selfmap'], n_epochs=100,)\n",
    "ds.run_topacedo_sampler(cluster_key='RNA_cluster')\n",
    "\n",
    "ds.run_pseudotime_scoring(source_sink_key=\"RNA_leiden_cluster\", sources=[6], sinks=[3])\n",
    "ds.run_pseudotime_marker_search(pseudotime_key='RNA_pseudotime')\n",
    "ds.run_pseudotime_aggregation(\n",
    "    pseudotime_key='RNA_pseudotime', cluster_label='pseudotime_clusters',\n",
    "    n_clusters = 15, window_size=50, chunk_size=10)\n",
    "ds.add_grouped_assay(group_key='pseudotime_clusters', assay_label='PTIME_MODULES')"
   ]
  },
  {
   "cell_type": "code",
   "execution_count": 5,
   "id": "3c058e41-ea9f-4eb0-8380-dc47d9169e30",
   "metadata": {},
   "outputs": [
    {
     "name": "stdout",
     "output_type": "stream",
     "text": [
      "time: 3.83 s (started: 2022-09-13 23:36:19 +02:00)\n"
     ]
    }
   ],
   "source": [
    "indices = ds.z.RNA.normed__I__hvgs.reduction__pca__11__I.ann__l2__50__50__48__4466.knn__11.indices[:]\n",
    "np.save('knn_indices.npy', indices)\n",
    "\n",
    "distances = ds.z.RNA.normed__I__hvgs.reduction__pca__11__I.ann__l2__50__50__48__4466.knn__11.distances[:]\n",
    "np.save('knn_distances.npy', distances)\n",
    "\n",
    "weights = ds.z.RNA.normed__I__hvgs.reduction__pca__11__I.ann__l2__50__50__48__4466.knn__11['graph__1.0__1.5']['weights'][:]\n",
    "np.save('knn_weights.npy', weights)\n",
    "\n",
    "cell_attrs = ds.cells.to_pandas_dataframe(ds.cells.columns, key='I')\n",
    "cell_attrs['target_classes'] = ds.get_target_classes(target_name='selfmap', reference_class_group='RNA_cluster').values\n",
    "cell_attrs['mapping_scores'] = next(ds.get_mapping_score(target_name='selfmap'))[1]\n",
    "cell_attrs.to_csv('cell_attributes.csv')\n",
    "\n",
    "ds.get_markers(group_key='RNA_cluster', group_id=1).to_csv('markers_cluster1.csv')\n",
    "ds.export_markers_to_csv(group_key='RNA_cluster', csv_filename='markers_all_clusters.csv')\n",
    "\n",
    "ds.RNA.feats.to_pandas_dataframe(['names', 'I__RNA_pseudotime__r'], key='I').to_csv('pseudotime_markers_r_values.csv')\n",
    "np.save('aggregated_feat_idx.npy', ds.z.RNA.aggregated_I_I_RNA_pseudotime.feature_indices[:])\n",
    "np.save('aggregated_df_top_10.npy', ds.z.RNA.aggregated_I_I_RNA_pseudotime.data[:10])\n",
    "np.save('pseudotime_clusters.npy', ds.RNA.feats.fetch_all('pseudotime_clusters'))\n",
    "np.save('ptime_modules_group_1.npy', ds.get_cell_vals(from_assay='PTIME_MODULES', cell_key='I', k='group_1'))"
   ]
  },
  {
   "cell_type": "code",
   "execution_count": 6,
   "id": "16082694-2ff0-472c-9b4b-9bbcec72fe82",
   "metadata": {},
   "outputs": [
    {
     "name": "stdout",
     "output_type": "stream",
     "text": [
      "time: 31 ms (started: 2022-09-13 23:36:23 +02:00)\n"
     ]
    }
   ],
   "source": [
    "precalc_markers = pd.read_csv(\"pseudotime_markers_r_values.csv\", index_col=0)\n",
    "pseudotime_markers = ds.RNA.feats.to_pandas_dataframe(['names', 'I__RNA_pseudotime__r'], key='I')\n",
    "assert np.alltrue(precalc_markers.index == pseudotime_markers.index)\n",
    "assert np.alltrue(precalc_markers.names.values == pseudotime_markers.names.values)\n",
    "assert np.allclose(precalc_markers.I__RNA_pseudotime__r.values, pseudotime_markers.I__RNA_pseudotime__r.values)"
   ]
  },
  {
   "cell_type": "code",
   "execution_count": 7,
   "id": "55a05b9b-564f-4a4b-8b09-8596125ab22d",
   "metadata": {},
   "outputs": [
    {
     "data": {
      "text/html": [
       "<div>\n",
       "<style scoped>\n",
       "    .dataframe tbody tr th:only-of-type {\n",
       "        vertical-align: middle;\n",
       "    }\n",
       "\n",
       "    .dataframe tbody tr th {\n",
       "        vertical-align: top;\n",
       "    }\n",
       "\n",
       "    .dataframe thead th {\n",
       "        text-align: right;\n",
       "    }\n",
       "</style>\n",
       "<table border=\"1\" class=\"dataframe\">\n",
       "  <thead>\n",
       "    <tr style=\"text-align: right;\">\n",
       "      <th></th>\n",
       "      <th>names</th>\n",
       "      <th>I__RNA_pseudotime__r</th>\n",
       "    </tr>\n",
       "  </thead>\n",
       "  <tbody>\n",
       "    <tr>\n",
       "      <th>6</th>\n",
       "      <td>AL627309.5</td>\n",
       "      <td>0.123055</td>\n",
       "    </tr>\n",
       "    <tr>\n",
       "      <th>14</th>\n",
       "      <td>LINC01409</td>\n",
       "      <td>0.026976</td>\n",
       "    </tr>\n",
       "    <tr>\n",
       "      <th>16</th>\n",
       "      <td>LINC01128</td>\n",
       "      <td>-0.064882</td>\n",
       "    </tr>\n",
       "    <tr>\n",
       "      <th>24</th>\n",
       "      <td>NOC2L</td>\n",
       "      <td>-0.005567</td>\n",
       "    </tr>\n",
       "    <tr>\n",
       "      <th>29</th>\n",
       "      <td>HES4</td>\n",
       "      <td>0.066715</td>\n",
       "    </tr>\n",
       "    <tr>\n",
       "      <th>...</th>\n",
       "      <td>...</td>\n",
       "      <td>...</td>\n",
       "    </tr>\n",
       "    <tr>\n",
       "      <th>36570</th>\n",
       "      <td>MT-ND6</td>\n",
       "      <td>-0.187929</td>\n",
       "    </tr>\n",
       "    <tr>\n",
       "      <th>36571</th>\n",
       "      <td>MT-CYB</td>\n",
       "      <td>-0.089457</td>\n",
       "    </tr>\n",
       "    <tr>\n",
       "      <th>36580</th>\n",
       "      <td>AL592183.1</td>\n",
       "      <td>0.019249</td>\n",
       "    </tr>\n",
       "    <tr>\n",
       "      <th>36581</th>\n",
       "      <td>AC240274.1</td>\n",
       "      <td>-0.000715</td>\n",
       "    </tr>\n",
       "    <tr>\n",
       "      <th>36584</th>\n",
       "      <td>AC004556.3</td>\n",
       "      <td>0.026394</td>\n",
       "    </tr>\n",
       "  </tbody>\n",
       "</table>\n",
       "<p>10736 rows × 2 columns</p>\n",
       "</div>"
      ],
      "text/plain": [
       "            names  I__RNA_pseudotime__r\n",
       "6      AL627309.5              0.123055\n",
       "14      LINC01409              0.026976\n",
       "16      LINC01128             -0.064882\n",
       "24          NOC2L             -0.005567\n",
       "29           HES4              0.066715\n",
       "...           ...                   ...\n",
       "36570      MT-ND6             -0.187929\n",
       "36571      MT-CYB             -0.089457\n",
       "36580  AL592183.1              0.019249\n",
       "36581  AC240274.1             -0.000715\n",
       "36584  AC004556.3              0.026394\n",
       "\n",
       "[10736 rows x 2 columns]"
      ]
     },
     "execution_count": 7,
     "metadata": {},
     "output_type": "execute_result"
    },
    {
     "name": "stdout",
     "output_type": "stream",
     "text": [
      "time: 31 ms (started: 2022-09-13 23:36:23 +02:00)\n"
     ]
    }
   ],
   "source": [
    "ds.RNA.feats.to_pandas_dataframe(['names', 'I__RNA_pseudotime__r'], key='I')"
   ]
  },
  {
   "cell_type": "code",
   "execution_count": 8,
   "id": "88ae7890-eec6-43a3-8990-36acc5a5a6a4",
   "metadata": {},
   "outputs": [
    {
     "name": "stdout",
     "output_type": "stream",
     "text": [
      "time: 0 ns (started: 2022-09-13 23:36:23 +02:00)\n"
     ]
    }
   ],
   "source": [
    "# cell_attrs = pd.read_csv('cell_attributes.csv', index_col=0)\n",
    "# diff = ds.cells.fetch('RNA_pseudotime') - cell_attrs[\"RNA_pseudotime\"].values\n",
    "# np.all(diff < 1e-3)"
   ]
  },
  {
   "cell_type": "code",
   "execution_count": 9,
   "id": "d62cbcf0-1d26-4e72-ae18-7a591f15342e",
   "metadata": {},
   "outputs": [
    {
     "name": "stdout",
     "output_type": "stream",
     "text": [
      "time: 0 ns (started: 2022-09-13 23:36:23 +02:00)\n"
     ]
    }
   ],
   "source": [
    "# scarf.writers.to_h5ad(ds.RNA, '1K_pbmc_citeseq.h5ad')\n",
    "# scarf.writers.to_mtx(ds.RNA, '1K_pbmc_citeseq_dir', compress=True)\n",
    "# writer = scarf.writers.SubsetZarr(in_zarr='1K_pbmc_citeseq.zarr/', out_zarr='test_subset.zarr', cell_idx=[1, 10, 100, 500])"
   ]
  }
 ],
 "metadata": {
  "kernelspec": {
   "display_name": "Python 3 (ipykernel)",
   "language": "python",
   "name": "python3"
  },
  "language_info": {
   "codemirror_mode": {
    "name": "ipython",
    "version": 3
   },
   "file_extension": ".py",
   "mimetype": "text/x-python",
   "name": "python",
   "nbconvert_exporter": "python",
   "pygments_lexer": "ipython3",
   "version": "3.9.12"
  },
  "widgets": {
   "application/vnd.jupyter.widget-state+json": {
    "state": {
     "0013ca0b17354951bc09cf270b60aaf4": {
      "model_module": "@jupyter-widgets/base",
      "model_module_version": "1.2.0",
      "model_name": "LayoutModel",
      "state": {
       "display": "inline-flex",
       "flex_flow": "row wrap",
       "width": "500px"
      }
     },
     "04e710290aea4382ad2f11f930ec8f74": {
      "model_module": "@jupyter-widgets/base",
      "model_module_version": "1.2.0",
      "model_name": "LayoutModel",
      "state": {}
     },
     "0c46cce7b46c47d8a13ba1571a3eff21": {
      "model_module": "@jupyter-widgets/controls",
      "model_module_version": "1.5.0",
      "model_name": "HBoxModel",
      "state": {
       "children": [
        "IPY_MODEL_56fbf6fc39b249f0a276a1fdbf7c06ef",
        "IPY_MODEL_aa6e20d9850f4a119045ae944e5945da",
        "IPY_MODEL_beb0c8bb47d641a5b739d46909bad826"
       ],
       "layout": "IPY_MODEL_561762a6b8f4419a995a14f83ac9c92d"
      }
     },
     "0fa41173e917489fa26c157a18e9767c": {
      "model_module": "@jupyter-widgets/base",
      "model_module_version": "1.2.0",
      "model_name": "LayoutModel",
      "state": {
       "display": "inline-flex",
       "flex_flow": "row wrap",
       "width": "500px"
      }
     },
     "17c5ace6fdb845b6a6b96470be7d0234": {
      "model_module": "@jupyter-widgets/controls",
      "model_module_version": "1.5.0",
      "model_name": "FloatProgressModel",
      "state": {
       "bar_style": "success",
       "layout": "IPY_MODEL_22176436dbc14d9fa7a6f53d4f868848",
       "max": 84,
       "style": "IPY_MODEL_a5d6d2b495ef415ca9c71c00f91a74c2",
       "value": 84
      }
     },
     "1852ea252d934e8e82f6031af0a290af": {
      "model_module": "@jupyter-widgets/controls",
      "model_module_version": "1.5.0",
      "model_name": "HTMLModel",
      "state": {
       "layout": "IPY_MODEL_23ff2949ae224c0690bdfb2ed8653295",
       "style": "IPY_MODEL_702fa37b58a4486ea2ac70fa5046c0c2",
       "value": "(RNA) Computing RNA_percentMito: 100%| "
      }
     },
     "1c525a4ac5ee4745a41971ffcda98214": {
      "model_module": "@jupyter-widgets/controls",
      "model_module_version": "1.5.0",
      "model_name": "DescriptionStyleModel",
      "state": {
       "description_width": ""
      }
     },
     "1c74a01a92a448d6a3c962bbaae8406f": {
      "model_module": "@jupyter-widgets/controls",
      "model_module_version": "1.5.0",
      "model_name": "FloatProgressModel",
      "state": {
       "bar_style": "success",
       "layout": "IPY_MODEL_e26dcd4881f141efa294f5b90799a79a",
       "max": 2,
       "style": "IPY_MODEL_ad7bd30133fe4502b7210f956ba2860f",
       "value": 2
      }
     },
     "1eac964b0c2842cfb6c740940fbbe9e0": {
      "model_module": "@jupyter-widgets/controls",
      "model_module_version": "1.5.0",
      "model_name": "ProgressStyleModel",
      "state": {
       "bar_color": "#34abeb",
       "description_width": ""
      }
     },
     "218fa33142e84b19b24b4b0ac8820362": {
      "model_module": "@jupyter-widgets/base",
      "model_module_version": "1.2.0",
      "model_name": "LayoutModel",
      "state": {}
     },
     "22176436dbc14d9fa7a6f53d4f868848": {
      "model_module": "@jupyter-widgets/base",
      "model_module_version": "1.2.0",
      "model_name": "LayoutModel",
      "state": {
       "flex": "2"
      }
     },
     "225c1a24be074159ad95109a65e2f0e4": {
      "model_module": "@jupyter-widgets/controls",
      "model_module_version": "1.5.0",
      "model_name": "HTMLModel",
      "state": {
       "layout": "IPY_MODEL_94a9d70ea38d45db88fdc51452ac97b5",
       "style": "IPY_MODEL_7d728811e50e4cfc92e4c8cde7e5d38a",
       "value": "(RNA) Computing nFeatures: 100%| "
      }
     },
     "23ff2949ae224c0690bdfb2ed8653295": {
      "model_module": "@jupyter-widgets/base",
      "model_module_version": "1.2.0",
      "model_name": "LayoutModel",
      "state": {}
     },
     "26536ec7b87b4100a1fbd368c2cbdbf9": {
      "model_module": "@jupyter-widgets/controls",
      "model_module_version": "1.5.0",
      "model_name": "FloatProgressModel",
      "state": {
       "bar_style": "success",
       "layout": "IPY_MODEL_849031c5212d4dcb8a7cd3781471c844",
       "max": 2,
       "style": "IPY_MODEL_490adc0af90f41f8ab575633894aba80",
       "value": 2
      }
     },
     "2cec6810e7f74fd38dfe878c33c57908": {
      "model_module": "@jupyter-widgets/base",
      "model_module_version": "1.2.0",
      "model_name": "LayoutModel",
      "state": {
       "flex": "2"
      }
     },
     "33e255e1b3704de2bc7ba04d7d57b3d0": {
      "model_module": "@jupyter-widgets/base",
      "model_module_version": "1.2.0",
      "model_name": "LayoutModel",
      "state": {
       "display": "inline-flex",
       "flex_flow": "row wrap",
       "width": "500px"
      }
     },
     "34dd8f9a4aa34903ab5b1c826da6b8c0": {
      "model_module": "@jupyter-widgets/controls",
      "model_module_version": "1.5.0",
      "model_name": "DescriptionStyleModel",
      "state": {
       "description_width": ""
      }
     },
     "388c6c17657b43058a5ec2cc1b32e8a0": {
      "model_module": "@jupyter-widgets/controls",
      "model_module_version": "1.5.0",
      "model_name": "DescriptionStyleModel",
      "state": {
       "description_width": ""
      }
     },
     "39b40ee184b541a09960ca623af894e0": {
      "model_module": "@jupyter-widgets/controls",
      "model_module_version": "1.5.0",
      "model_name": "HTMLModel",
      "state": {
       "layout": "IPY_MODEL_ee5ba735c7ae4c3783cbbdf23847ced7",
       "style": "IPY_MODEL_c4eb9a4e05f046c5ba9430ab758c3b5a",
       "value": " 87/87 [00:00]"
      }
     },
     "3a4807fdbbdb4e1da8ac2fedf2ef3b64": {
      "model_module": "@jupyter-widgets/controls",
      "model_module_version": "1.5.0",
      "model_name": "DescriptionStyleModel",
      "state": {
       "description_width": ""
      }
     },
     "430cdd91bedb45faa97e7c8ab496bbb5": {
      "model_module": "@jupyter-widgets/base",
      "model_module_version": "1.2.0",
      "model_name": "LayoutModel",
      "state": {
       "display": "inline-flex",
       "flex_flow": "row wrap",
       "width": "500px"
      }
     },
     "46a28db513d447a5b07524442632ec98": {
      "model_module": "@jupyter-widgets/controls",
      "model_module_version": "1.5.0",
      "model_name": "HTMLModel",
      "state": {
       "layout": "IPY_MODEL_607c8c01a579403186a48b61b113fe3a",
       "style": "IPY_MODEL_3a4807fdbbdb4e1da8ac2fedf2ef3b64",
       "value": "(RNA) Computing nCounts: 100%| "
      }
     },
     "490adc0af90f41f8ab575633894aba80": {
      "model_module": "@jupyter-widgets/controls",
      "model_module_version": "1.5.0",
      "model_name": "ProgressStyleModel",
      "state": {
       "bar_color": "#34abeb",
       "description_width": ""
      }
     },
     "4bdb4843aaa84f5b80dcbba96eb0bcbd": {
      "model_module": "@jupyter-widgets/controls",
      "model_module_version": "1.5.0",
      "model_name": "HBoxModel",
      "state": {
       "children": [
        "IPY_MODEL_d685494b3b8b435383f5dab93bf706df",
        "IPY_MODEL_77b42dc6ed3c49e9bbe5adbd2edc228f",
        "IPY_MODEL_f1d569ec32394bc3a3ce1b36729a28a9"
       ],
       "layout": "IPY_MODEL_0fa41173e917489fa26c157a18e9767c"
      }
     },
     "4c2394cb85654317a12f50b13678afa6": {
      "model_module": "@jupyter-widgets/controls",
      "model_module_version": "1.5.0",
      "model_name": "HTMLModel",
      "state": {
       "layout": "IPY_MODEL_9fd45419e64542eeaee1cde0b093729f",
       "style": "IPY_MODEL_388c6c17657b43058a5ec2cc1b32e8a0",
       "value": " 87/87 [00:00]"
      }
     },
     "509fa01ec9074ad0b8dd0e98d6354811": {
      "model_module": "@jupyter-widgets/base",
      "model_module_version": "1.2.0",
      "model_name": "LayoutModel",
      "state": {}
     },
     "50a747fe815c45ff9a9bff9a9c4a94ef": {
      "model_module": "@jupyter-widgets/base",
      "model_module_version": "1.2.0",
      "model_name": "LayoutModel",
      "state": {
       "flex": "2"
      }
     },
     "523e646276bf47e78c716d1cfc956feb": {
      "model_module": "@jupyter-widgets/base",
      "model_module_version": "1.2.0",
      "model_name": "LayoutModel",
      "state": {}
     },
     "52c9bddc7932458ca30f3ef8792906e7": {
      "model_module": "@jupyter-widgets/base",
      "model_module_version": "1.2.0",
      "model_name": "LayoutModel",
      "state": {}
     },
     "561762a6b8f4419a995a14f83ac9c92d": {
      "model_module": "@jupyter-widgets/base",
      "model_module_version": "1.2.0",
      "model_name": "LayoutModel",
      "state": {
       "display": "inline-flex",
       "flex_flow": "row wrap",
       "width": "500px"
      }
     },
     "56fbf6fc39b249f0a276a1fdbf7c06ef": {
      "model_module": "@jupyter-widgets/controls",
      "model_module_version": "1.5.0",
      "model_name": "HTMLModel",
      "state": {
       "layout": "IPY_MODEL_7b50df34d49d400abf4ff36b2926f4c6",
       "style": "IPY_MODEL_fd13f46afc4b4bbd945e7337743a9a4e",
       "value": "(assay2) Computing nCounts: 100%| "
      }
     },
     "5afd3df78f0f4f41919b71b924d604ee": {
      "model_module": "@jupyter-widgets/base",
      "model_module_version": "1.2.0",
      "model_name": "LayoutModel",
      "state": {}
     },
     "607c8c01a579403186a48b61b113fe3a": {
      "model_module": "@jupyter-widgets/base",
      "model_module_version": "1.2.0",
      "model_name": "LayoutModel",
      "state": {}
     },
     "6d9db09be5ba4b348760dd5f5b0668ce": {
      "model_module": "@jupyter-widgets/base",
      "model_module_version": "1.2.0",
      "model_name": "LayoutModel",
      "state": {}
     },
     "702fa37b58a4486ea2ac70fa5046c0c2": {
      "model_module": "@jupyter-widgets/controls",
      "model_module_version": "1.5.0",
      "model_name": "DescriptionStyleModel",
      "state": {
       "description_width": ""
      }
     },
     "70eb05865519475fbbe55d367a0e2b9f": {
      "model_module": "@jupyter-widgets/controls",
      "model_module_version": "1.5.0",
      "model_name": "DescriptionStyleModel",
      "state": {
       "description_width": ""
      }
     },
     "733109856c844deb85b1f28fbf1efd3a": {
      "model_module": "@jupyter-widgets/controls",
      "model_module_version": "1.5.0",
      "model_name": "DescriptionStyleModel",
      "state": {
       "description_width": ""
      }
     },
     "74bd956cc777432da78265f0bab66099": {
      "model_module": "@jupyter-widgets/base",
      "model_module_version": "1.2.0",
      "model_name": "LayoutModel",
      "state": {
       "display": "inline-flex",
       "flex_flow": "row wrap",
       "width": "500px"
      }
     },
     "764340fc4b7649d9b34bc8be6ffe4191": {
      "model_module": "@jupyter-widgets/base",
      "model_module_version": "1.2.0",
      "model_name": "LayoutModel",
      "state": {}
     },
     "76f836ff9b794a45aa29e5afeb13446f": {
      "model_module": "@jupyter-widgets/controls",
      "model_module_version": "1.5.0",
      "model_name": "ProgressStyleModel",
      "state": {
       "bar_color": "#34abeb",
       "description_width": ""
      }
     },
     "77b42dc6ed3c49e9bbe5adbd2edc228f": {
      "model_module": "@jupyter-widgets/controls",
      "model_module_version": "1.5.0",
      "model_name": "FloatProgressModel",
      "state": {
       "bar_style": "success",
       "layout": "IPY_MODEL_802effd2b9f44e1082c95f9dfc3170ee",
       "max": 74,
       "style": "IPY_MODEL_1eac964b0c2842cfb6c740940fbbe9e0",
       "value": 74
      }
     },
     "79e319821dd24c38bba6273a3fd8b459": {
      "model_module": "@jupyter-widgets/controls",
      "model_module_version": "1.5.0",
      "model_name": "HTMLModel",
      "state": {
       "layout": "IPY_MODEL_509fa01ec9074ad0b8dd0e98d6354811",
       "style": "IPY_MODEL_fb7dd82ab2494fb0b9da93a86bebd83b",
       "value": "(assay2) Computing nFeatures: 100%| "
      }
     },
     "7b50df34d49d400abf4ff36b2926f4c6": {
      "model_module": "@jupyter-widgets/base",
      "model_module_version": "1.2.0",
      "model_name": "LayoutModel",
      "state": {}
     },
     "7d2816794f3e4b5b8e5ae054bd80d81f": {
      "model_module": "@jupyter-widgets/controls",
      "model_module_version": "1.5.0",
      "model_name": "DescriptionStyleModel",
      "state": {
       "description_width": ""
      }
     },
     "7d728811e50e4cfc92e4c8cde7e5d38a": {
      "model_module": "@jupyter-widgets/controls",
      "model_module_version": "1.5.0",
      "model_name": "DescriptionStyleModel",
      "state": {
       "description_width": ""
      }
     },
     "7f9cd14ae6d84d56841c08810db08dd2": {
      "model_module": "@jupyter-widgets/base",
      "model_module_version": "1.2.0",
      "model_name": "LayoutModel",
      "state": {
       "display": "inline-flex",
       "flex_flow": "row wrap",
       "width": "500px"
      }
     },
     "802effd2b9f44e1082c95f9dfc3170ee": {
      "model_module": "@jupyter-widgets/base",
      "model_module_version": "1.2.0",
      "model_name": "LayoutModel",
      "state": {
       "flex": "2"
      }
     },
     "849031c5212d4dcb8a7cd3781471c844": {
      "model_module": "@jupyter-widgets/base",
      "model_module_version": "1.2.0",
      "model_name": "LayoutModel",
      "state": {
       "flex": "2"
      }
     },
     "85871b7672d74ba7a4bf863b374cc895": {
      "model_module": "@jupyter-widgets/base",
      "model_module_version": "1.2.0",
      "model_name": "LayoutModel",
      "state": {
       "flex": "2"
      }
     },
     "8ca053257f7d491eb7a1cc042b8a46f6": {
      "model_module": "@jupyter-widgets/controls",
      "model_module_version": "1.5.0",
      "model_name": "DescriptionStyleModel",
      "state": {
       "description_width": ""
      }
     },
     "94a9d70ea38d45db88fdc51452ac97b5": {
      "model_module": "@jupyter-widgets/base",
      "model_module_version": "1.2.0",
      "model_name": "LayoutModel",
      "state": {}
     },
     "9d8f8fa75d9c4f2aae7595302e3b9fe8": {
      "model_module": "@jupyter-widgets/base",
      "model_module_version": "1.2.0",
      "model_name": "LayoutModel",
      "state": {}
     },
     "9e092b20d19e4f06acf7c360d68b69ca": {
      "model_module": "@jupyter-widgets/controls",
      "model_module_version": "1.5.0",
      "model_name": "HTMLModel",
      "state": {
       "layout": "IPY_MODEL_52c9bddc7932458ca30f3ef8792906e7",
       "style": "IPY_MODEL_1c525a4ac5ee4745a41971ffcda98214",
       "value": " 77/77 [00:00]"
      }
     },
     "9fd45419e64542eeaee1cde0b093729f": {
      "model_module": "@jupyter-widgets/base",
      "model_module_version": "1.2.0",
      "model_name": "LayoutModel",
      "state": {}
     },
     "a0d273f2d76f487c9aa71b9aaf9eb18f": {
      "model_module": "@jupyter-widgets/controls",
      "model_module_version": "1.5.0",
      "model_name": "HBoxModel",
      "state": {
       "children": [
        "IPY_MODEL_46a28db513d447a5b07524442632ec98",
        "IPY_MODEL_fe3616f5496642e0988c2cfd394334f7",
        "IPY_MODEL_4c2394cb85654317a12f50b13678afa6"
       ],
       "layout": "IPY_MODEL_7f9cd14ae6d84d56841c08810db08dd2"
      }
     },
     "a21a13be2d4c47a9b2b00f7df354e044": {
      "model_module": "@jupyter-widgets/controls",
      "model_module_version": "1.5.0",
      "model_name": "FloatProgressModel",
      "state": {
       "bar_style": "success",
       "layout": "IPY_MODEL_50a747fe815c45ff9a9bff9a9c4a94ef",
       "max": 77,
       "style": "IPY_MODEL_ed4adb84faa24f80a0c9f3c03ae6690d",
       "value": 77
      }
     },
     "a5d6d2b495ef415ca9c71c00f91a74c2": {
      "model_module": "@jupyter-widgets/controls",
      "model_module_version": "1.5.0",
      "model_name": "ProgressStyleModel",
      "state": {
       "bar_color": "#34abeb",
       "description_width": ""
      }
     },
     "a7369016b4764470b7643c8bf85da201": {
      "model_module": "@jupyter-widgets/controls",
      "model_module_version": "1.5.0",
      "model_name": "HBoxModel",
      "state": {
       "children": [
        "IPY_MODEL_79e319821dd24c38bba6273a3fd8b459",
        "IPY_MODEL_26536ec7b87b4100a1fbd368c2cbdbf9",
        "IPY_MODEL_cfe40d3c951449528258302a7196ffb7"
       ],
       "layout": "IPY_MODEL_0013ca0b17354951bc09cf270b60aaf4"
      }
     },
     "a92a829fab924fe0be25c2d9daa4f557": {
      "model_module": "@jupyter-widgets/base",
      "model_module_version": "1.2.0",
      "model_name": "LayoutModel",
      "state": {}
     },
     "aa6e20d9850f4a119045ae944e5945da": {
      "model_module": "@jupyter-widgets/controls",
      "model_module_version": "1.5.0",
      "model_name": "FloatProgressModel",
      "state": {
       "bar_style": "success",
       "layout": "IPY_MODEL_2cec6810e7f74fd38dfe878c33c57908",
       "max": 2,
       "style": "IPY_MODEL_76f836ff9b794a45aa29e5afeb13446f",
       "value": 2
      }
     },
     "ad7bd30133fe4502b7210f956ba2860f": {
      "model_module": "@jupyter-widgets/controls",
      "model_module_version": "1.5.0",
      "model_name": "ProgressStyleModel",
      "state": {
       "bar_color": "#34abeb",
       "description_width": ""
      }
     },
     "b51946b2f8e648788819f1b4b650e0d3": {
      "model_module": "@jupyter-widgets/controls",
      "model_module_version": "1.5.0",
      "model_name": "DescriptionStyleModel",
      "state": {
       "description_width": ""
      }
     },
     "bca9744ae05a4d438097da0b1cbc4ba7": {
      "model_module": "@jupyter-widgets/controls",
      "model_module_version": "1.5.0",
      "model_name": "DescriptionStyleModel",
      "state": {
       "description_width": ""
      }
     },
     "bd00a762e8814441adb19c5601e1c820": {
      "model_module": "@jupyter-widgets/controls",
      "model_module_version": "1.5.0",
      "model_name": "HBoxModel",
      "state": {
       "children": [
        "IPY_MODEL_1852ea252d934e8e82f6031af0a290af",
        "IPY_MODEL_a21a13be2d4c47a9b2b00f7df354e044",
        "IPY_MODEL_9e092b20d19e4f06acf7c360d68b69ca"
       ],
       "layout": "IPY_MODEL_430cdd91bedb45faa97e7c8ab496bbb5"
      }
     },
     "beb0c8bb47d641a5b739d46909bad826": {
      "model_module": "@jupyter-widgets/controls",
      "model_module_version": "1.5.0",
      "model_name": "HTMLModel",
      "state": {
       "layout": "IPY_MODEL_218fa33142e84b19b24b4b0ac8820362",
       "style": "IPY_MODEL_8ca053257f7d491eb7a1cc042b8a46f6",
       "value": " 2/2 [00:00]"
      }
     },
     "c3cca0c985d144eebd083b663e7df83f": {
      "model_module": "@jupyter-widgets/controls",
      "model_module_version": "1.5.0",
      "model_name": "HTMLModel",
      "state": {
       "layout": "IPY_MODEL_523e646276bf47e78c716d1cfc956feb",
       "style": "IPY_MODEL_7d2816794f3e4b5b8e5ae054bd80d81f",
       "value": " 84/84 [00:00]"
      }
     },
     "c4eb9a4e05f046c5ba9430ab758c3b5a": {
      "model_module": "@jupyter-widgets/controls",
      "model_module_version": "1.5.0",
      "model_name": "DescriptionStyleModel",
      "state": {
       "description_width": ""
      }
     },
     "c74a3464d70e4dd581ceeff4343bff44": {
      "model_module": "@jupyter-widgets/controls",
      "model_module_version": "1.5.0",
      "model_name": "ProgressStyleModel",
      "state": {
       "bar_color": "#34abeb",
       "description_width": ""
      }
     },
     "c99a38e3cfc64ebc9f2960d89d4ea594": {
      "model_module": "@jupyter-widgets/controls",
      "model_module_version": "1.5.0",
      "model_name": "ProgressStyleModel",
      "state": {
       "bar_color": "#34abeb",
       "description_width": ""
      }
     },
     "ccd5bedec3474fa08663e9eb114e8181": {
      "model_module": "@jupyter-widgets/controls",
      "model_module_version": "1.5.0",
      "model_name": "HBoxModel",
      "state": {
       "children": [
        "IPY_MODEL_f5443f25d05948d286dcc0abd079d92e",
        "IPY_MODEL_1c74a01a92a448d6a3c962bbaae8406f",
        "IPY_MODEL_d9f84ca04db040609610d525e16edb0e"
       ],
       "layout": "IPY_MODEL_74bd956cc777432da78265f0bab66099"
      }
     },
     "cfe40d3c951449528258302a7196ffb7": {
      "model_module": "@jupyter-widgets/controls",
      "model_module_version": "1.5.0",
      "model_name": "HTMLModel",
      "state": {
       "layout": "IPY_MODEL_5afd3df78f0f4f41919b71b924d604ee",
       "style": "IPY_MODEL_dae9895e9f4e452b863a0ffeb4fcba19",
       "value": " 2/2 [00:00]"
      }
     },
     "d685494b3b8b435383f5dab93bf706df": {
      "model_module": "@jupyter-widgets/controls",
      "model_module_version": "1.5.0",
      "model_name": "HTMLModel",
      "state": {
       "layout": "IPY_MODEL_04e710290aea4382ad2f11f930ec8f74",
       "style": "IPY_MODEL_733109856c844deb85b1f28fbf1efd3a",
       "value": "(RNA) Computing nCells and dropOuts: 100%| "
      }
     },
     "d9f84ca04db040609610d525e16edb0e": {
      "model_module": "@jupyter-widgets/controls",
      "model_module_version": "1.5.0",
      "model_name": "HTMLModel",
      "state": {
       "layout": "IPY_MODEL_764340fc4b7649d9b34bc8be6ffe4191",
       "style": "IPY_MODEL_bca9744ae05a4d438097da0b1cbc4ba7",
       "value": " 2/2 [00:00]"
      }
     },
     "dae9895e9f4e452b863a0ffeb4fcba19": {
      "model_module": "@jupyter-widgets/controls",
      "model_module_version": "1.5.0",
      "model_name": "DescriptionStyleModel",
      "state": {
       "description_width": ""
      }
     },
     "e26dcd4881f141efa294f5b90799a79a": {
      "model_module": "@jupyter-widgets/base",
      "model_module_version": "1.2.0",
      "model_name": "LayoutModel",
      "state": {
       "flex": "2"
      }
     },
     "e8c6f73d191741f9aec02c2ae8758d68": {
      "model_module": "@jupyter-widgets/controls",
      "model_module_version": "1.5.0",
      "model_name": "HBoxModel",
      "state": {
       "children": [
        "IPY_MODEL_225c1a24be074159ad95109a65e2f0e4",
        "IPY_MODEL_f71fd8a729204fa4b560f4d7c6cfc708",
        "IPY_MODEL_39b40ee184b541a09960ca623af894e0"
       ],
       "layout": "IPY_MODEL_f542daee170642978e8b33c052cbd861"
      }
     },
     "ea1294806d6a46c19fa903b7dc1ccb73": {
      "model_module": "@jupyter-widgets/base",
      "model_module_version": "1.2.0",
      "model_name": "LayoutModel",
      "state": {
       "flex": "2"
      }
     },
     "eca21516d323428cb6e8a14f582962d7": {
      "model_module": "@jupyter-widgets/controls",
      "model_module_version": "1.5.0",
      "model_name": "HTMLModel",
      "state": {
       "layout": "IPY_MODEL_9d8f8fa75d9c4f2aae7595302e3b9fe8",
       "style": "IPY_MODEL_34dd8f9a4aa34903ab5b1c826da6b8c0",
       "value": "(RNA) Computing RNA_percentRibo: 100%| "
      }
     },
     "ed4adb84faa24f80a0c9f3c03ae6690d": {
      "model_module": "@jupyter-widgets/controls",
      "model_module_version": "1.5.0",
      "model_name": "ProgressStyleModel",
      "state": {
       "bar_color": "#34abeb",
       "description_width": ""
      }
     },
     "ee5ba735c7ae4c3783cbbdf23847ced7": {
      "model_module": "@jupyter-widgets/base",
      "model_module_version": "1.2.0",
      "model_name": "LayoutModel",
      "state": {}
     },
     "f1d569ec32394bc3a3ce1b36729a28a9": {
      "model_module": "@jupyter-widgets/controls",
      "model_module_version": "1.5.0",
      "model_name": "HTMLModel",
      "state": {
       "layout": "IPY_MODEL_a92a829fab924fe0be25c2d9daa4f557",
       "style": "IPY_MODEL_70eb05865519475fbbe55d367a0e2b9f",
       "value": " 74/74 [00:00]"
      }
     },
     "f4270511b1014aa0a77c5ae84d7190fa": {
      "model_module": "@jupyter-widgets/controls",
      "model_module_version": "1.5.0",
      "model_name": "HBoxModel",
      "state": {
       "children": [
        "IPY_MODEL_eca21516d323428cb6e8a14f582962d7",
        "IPY_MODEL_17c5ace6fdb845b6a6b96470be7d0234",
        "IPY_MODEL_c3cca0c985d144eebd083b663e7df83f"
       ],
       "layout": "IPY_MODEL_33e255e1b3704de2bc7ba04d7d57b3d0"
      }
     },
     "f542daee170642978e8b33c052cbd861": {
      "model_module": "@jupyter-widgets/base",
      "model_module_version": "1.2.0",
      "model_name": "LayoutModel",
      "state": {
       "display": "inline-flex",
       "flex_flow": "row wrap",
       "width": "500px"
      }
     },
     "f5443f25d05948d286dcc0abd079d92e": {
      "model_module": "@jupyter-widgets/controls",
      "model_module_version": "1.5.0",
      "model_name": "HTMLModel",
      "state": {
       "layout": "IPY_MODEL_6d9db09be5ba4b348760dd5f5b0668ce",
       "style": "IPY_MODEL_b51946b2f8e648788819f1b4b650e0d3",
       "value": "(assay2) Computing nCells and dropOuts: 100%| "
      }
     },
     "f71fd8a729204fa4b560f4d7c6cfc708": {
      "model_module": "@jupyter-widgets/controls",
      "model_module_version": "1.5.0",
      "model_name": "FloatProgressModel",
      "state": {
       "bar_style": "success",
       "layout": "IPY_MODEL_ea1294806d6a46c19fa903b7dc1ccb73",
       "max": 87,
       "style": "IPY_MODEL_c74a3464d70e4dd581ceeff4343bff44",
       "value": 87
      }
     },
     "fb7dd82ab2494fb0b9da93a86bebd83b": {
      "model_module": "@jupyter-widgets/controls",
      "model_module_version": "1.5.0",
      "model_name": "DescriptionStyleModel",
      "state": {
       "description_width": ""
      }
     },
     "fd13f46afc4b4bbd945e7337743a9a4e": {
      "model_module": "@jupyter-widgets/controls",
      "model_module_version": "1.5.0",
      "model_name": "DescriptionStyleModel",
      "state": {
       "description_width": ""
      }
     },
     "fe3616f5496642e0988c2cfd394334f7": {
      "model_module": "@jupyter-widgets/controls",
      "model_module_version": "1.5.0",
      "model_name": "FloatProgressModel",
      "state": {
       "bar_style": "success",
       "layout": "IPY_MODEL_85871b7672d74ba7a4bf863b374cc895",
       "max": 87,
       "style": "IPY_MODEL_c99a38e3cfc64ebc9f2960d89d4ea594",
       "value": 87
      }
     }
    },
    "version_major": 2,
    "version_minor": 0
   }
  }
 },
 "nbformat": 4,
 "nbformat_minor": 5
}
