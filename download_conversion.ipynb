{
 "cells": [
  {
   "cell_type": "markdown",
   "id": "e0f2762f",
   "metadata": {},
   "source": [
    "## Data import and export in Scarf"
   ]
  },
  {
   "cell_type": "code",
   "execution_count": 1,
   "id": "34e78ab1",
   "metadata": {},
   "outputs": [
    {
     "data": {
      "text/plain": [
       "'0.18.0'"
      ]
     },
     "execution_count": 1,
     "metadata": {},
     "output_type": "execute_result"
    },
    {
     "name": "stdout",
     "output_type": "stream",
     "text": [
      "time: 1.44 s (started: 2021-08-26 20:30:49 +02:00)\n"
     ]
    }
   ],
   "source": [
    "%load_ext autotime\n",
    "\n",
    "import scarf\n",
    "scarf.__version__"
   ]
  },
  {
   "cell_type": "markdown",
   "id": "054f4055",
   "metadata": {},
   "source": [
    "---\n",
    "### 1) Fetch datsets from cloud repository\n",
    "\n",
    "Scarf stores many single-cell datasets online on [OSF](https://osf.io/zeupv/). Herein datasets are stored in many different formats including MTX, 10x HDF5 and H5ad(anndata). These files can readily be downloaded using Scarf's `fetch_dataset` command."
   ]
  },
  {
   "cell_type": "markdown",
   "id": "2ceea6fa",
   "metadata": {},
   "source": [
    "To check which datasets are available to download, use the `show_available_datasets` function:"
   ]
  },
  {
   "cell_type": "code",
   "execution_count": 2,
   "id": "3159db8f",
   "metadata": {},
   "outputs": [
    {
     "name": "stdout",
     "output_type": "stream",
     "text": [
      "annotations\n",
      "baron_8K_pancreas_rnaseq\n",
      "bastidas-ponce_4K_pancreas-d15_rnaseq\n",
      "cao_2.1M_moca_rnaseq\n",
      "cao_4.9M_fetal_rnaseq\n",
      "cusanovich_81K_mouse_atacseq\n",
      "domcke_721K_fetal_atacseq\n",
      "hca_783K_blood_rnaseq\n",
      "kang_14K_ifnb-pbmc_rnaseq\n",
      "kang_15K_pbmc_rnaseq\n",
      "lecun_60K_mnist_images\n",
      "motifs\n",
      "muraro_2K_pancreas_rnaseq\n",
      "saunders_110K_brain_rnaseq\n",
      "segerstolpe_2K_pancreas_rnaseq\n",
      "tenx_1.3M_brain_rnaseq\n",
      "tenx_10K_pbmc-v1_atacseq\n",
      "tenx_3K_pbmc_multiome-gex-atac\n",
      "tenx_5K_pbmc_rnaseq\n",
      "tenx_8K_pbmc_citeseq\n",
      "xin_1K_pancreas_rnaseq\n",
      "zalando_60K_fmnist_images\n",
      "zeisel_161K_nervous_rnaseq\n",
      "zheng_69K_pbmc_rnaseq\n",
      "time: 6.81 s (started: 2021-08-26 20:30:51 +02:00)\n"
     ]
    }
   ],
   "source": [
    "scarf.show_available_datasets()"
   ]
  },
  {
   "cell_type": "markdown",
   "id": "84c2dfda",
   "metadata": {},
   "source": [
    "**Naming format**: Datasets are named using this rule: \\<author\\>\\_\\<number of cells\\>\\_\\<cell/tissue type or species\\>\\_\\<single-cell method>\n",
    "\n",
    "Now using any of these dataset names we can download the dataset of our choice:"
   ]
  },
  {
   "cell_type": "code",
   "execution_count": 3,
   "id": "260024b6",
   "metadata": {},
   "outputs": [
    {
     "data": {
      "application/vnd.jupyter.widget-view+json": {
       "model_id": "40d4f8639e0140acae9b1e6483eb0066",
       "version_major": 2,
       "version_minor": 0
      },
      "text/plain": [
       "Downloading 1/1:   0%|                                                                                        …"
      ]
     },
     "metadata": {},
     "output_type": "display_data"
    },
    {
     "name": "stdout",
     "output_type": "stream",
     "text": [
      "time: 5.75 s (started: 2021-08-26 20:30:58 +02:00)\n"
     ]
    }
   ],
   "source": [
    "# This dataset is in Cellranger (10x) HDF5 format.\n",
    "scarf.fetch_dataset(\n",
    "    dataset_name='tenx_10K_pbmc-v1_atacseq',\n",
    "    save_path='./scarf_datasets'\n",
    ")"
   ]
  },
  {
   "cell_type": "markdown",
   "id": "27046eb3",
   "metadata": {},
   "source": [
    "The above dataset gets saved under the directory `scarf_datasets` in our current working directory. You can modify `save_path` parameter to save data in location of your choice. The dataset above was downloaded in 10x's HDF5 format. Let download few more datasets that are in differnet file formats."
   ]
  },
  {
   "cell_type": "code",
   "execution_count": 4,
   "id": "2981a800",
   "metadata": {},
   "outputs": [
    {
     "data": {
      "application/vnd.jupyter.widget-view+json": {
       "model_id": "b97fafe2b6594b74b5b18f9559d94175",
       "version_major": 2,
       "version_minor": 0
      },
      "text/plain": [
       "Downloading 1/3:   0%|                                                                                        …"
      ]
     },
     "metadata": {},
     "output_type": "display_data"
    },
    {
     "data": {
      "application/vnd.jupyter.widget-view+json": {
       "model_id": "df8feb4959ed4e4d8f952655f6f119ea",
       "version_major": 2,
       "version_minor": 0
      },
      "text/plain": [
       "Downloading 2/3:   0%|                                                                                        …"
      ]
     },
     "metadata": {},
     "output_type": "display_data"
    },
    {
     "data": {
      "application/vnd.jupyter.widget-view+json": {
       "model_id": "9b206cd85c7e4218a442f29a9467573b",
       "version_major": 2,
       "version_minor": 0
      },
      "text/plain": [
       "Downloading 3/3:   0%|                                                                                        …"
      ]
     },
     "metadata": {},
     "output_type": "display_data"
    },
    {
     "name": "stdout",
     "output_type": "stream",
     "text": [
      "time: 9.94 s (started: 2021-08-26 20:31:03 +02:00)\n"
     ]
    }
   ],
   "source": [
    "# This dataset is in MTX format along with barcodes and features TSV files.\n",
    "scarf.fetch_dataset(\n",
    "    dataset_name='xin_1K_pancreas_rnaseq',\n",
    "    save_path='./scarf_datasets'\n",
    ")"
   ]
  },
  {
   "cell_type": "code",
   "execution_count": 5,
   "id": "6c65a3ba",
   "metadata": {},
   "outputs": [
    {
     "data": {
      "application/vnd.jupyter.widget-view+json": {
       "model_id": "92193192be9d45999499f42dea5c5741",
       "version_major": 2,
       "version_minor": 0
      },
      "text/plain": [
       "Downloading 1/1:   0%|                                                                                        …"
      ]
     },
     "metadata": {},
     "output_type": "display_data"
    },
    {
     "name": "stdout",
     "output_type": "stream",
     "text": [
      "time: 4.28 s (started: 2021-08-26 20:31:13 +02:00)\n"
     ]
    }
   ],
   "source": [
    "# This dataset is in H5ad (anndata) format.\n",
    "scarf.fetch_dataset(\n",
    "    dataset_name='bastidas-ponce_4K_pancreas-d15_rnaseq',\n",
    "    save_path='./scarf_datasets'\n",
    ")"
   ]
  },
  {
   "cell_type": "markdown",
   "id": "50be957c",
   "metadata": {},
   "source": [
    "---\n",
    "### 2) Conversion to Scarf's Zarr format file\n",
    "\n",
    "Scarf stores data as dense, compressed chunks in Zarr file format. `scarf.readers` and `scarf.writers` modules contain classes that allow reading many different file formats and convert them to Zarr. There are often complementary reader and writer classes. Let's explore them below."
   ]
  },
  {
   "cell_type": "markdown",
   "id": "065fb62b",
   "metadata": {},
   "source": [
    "#### From 10x's HDF5 file format"
   ]
  },
  {
   "cell_type": "code",
   "execution_count": 6,
   "id": "045915e9",
   "metadata": {},
   "outputs": [
    {
     "data": {
      "application/vnd.jupyter.widget-view+json": {
       "model_id": "d4e68596964045a48429fcb6a1fef171",
       "version_major": 2,
       "version_minor": 0
      },
      "text/plain": [
       "  0%|                                                                                                         …"
      ]
     },
     "metadata": {},
     "output_type": "display_data"
    },
    {
     "name": "stdout",
     "output_type": "stream",
     "text": [
      "time: 22.5 s (started: 2021-08-26 20:31:18 +02:00)\n"
     ]
    }
   ],
   "source": [
    "# Change file_type to 'rna' in case of sc-RNA-seq or CITE-Seq\n",
    "reader = scarf.CrH5Reader(\n",
    "    'scarf_datasets/tenx_10K_pbmc-v1_atacseq/data.h5'\n",
    ")\n",
    "\n",
    "# change value of `zarr_fn` to your choice of filename and path\n",
    "writer = scarf.CrToZarr(\n",
    "    reader,\n",
    "    zarr_fn='scarf_datasets/pbmc_atac.zarr'  \n",
    ")  \n",
    "writer.dump()"
   ]
  },
  {
   "cell_type": "markdown",
   "id": "3ea974df",
   "metadata": {},
   "source": [
    "#### From 10x's (Cellranger) MTX file format\n",
    "\n",
    "`scarf.CrDirReader` class reads MTX files generated by Cellranger pipeline. `CrDirReader` stands for 'Cellranger directory reader'. Once read in, the data can be dumped into Zarr format using `scarf.CrToZarr` class. Following is an example of how to do this conversion:"
   ]
  },
  {
   "cell_type": "code",
   "execution_count": 7,
   "id": "aa10c458",
   "metadata": {},
   "outputs": [
    {
     "name": "stdout",
     "output_type": "stream",
     "text": [
      "\u001b[33m\u001b[1mWARNING\u001b[0m: feature_types extraction failed from features.tsv.gz in column 2\n"
     ]
    },
    {
     "data": {
      "application/vnd.jupyter.widget-view+json": {
       "model_id": "4b1843655ca446d4b926199ea0a8611d",
       "version_major": 2,
       "version_minor": 0
      },
      "text/plain": [
       "  0%|                                                                                                         …"
      ]
     },
     "metadata": {},
     "output_type": "display_data"
    },
    {
     "name": "stdout",
     "output_type": "stream",
     "text": [
      "time: 5.88 s (started: 2021-08-26 20:31:40 +02:00)\n"
     ]
    }
   ],
   "source": [
    " # Note here we only give name of directory containing MTX file (along with barcodes and features file)\n",
    "reader = scarf.CrDirReader(\n",
    "    'scarf_datasets/xin_1K_pancreas_rnaseq'\n",
    ")\n",
    "\n",
    "# change value of `zarr_fn` to your choice of filename and path\n",
    "writer = scarf.CrToZarr(\n",
    "    reader, \n",
    "    zarr_fn='scarf_datasets/xin_1K.zarr'\n",
    ")\n",
    "writer.dump()"
   ]
  },
  {
   "cell_type": "markdown",
   "id": "6fb3359c",
   "metadata": {},
   "source": [
    "#### From Anndata H5ad file format"
   ]
  },
  {
   "cell_type": "code",
   "execution_count": 8,
   "id": "34f33c2f",
   "metadata": {},
   "outputs": [
    {
     "name": "stdout",
     "output_type": "stream",
     "text": [
      "\u001b[1mINFO\u001b[0m: No value provided for assay names. Will use default value: 'RNA'\n"
     ]
    },
    {
     "data": {
      "application/vnd.jupyter.widget-view+json": {
       "model_id": "4779d6c1d9a94e44af67a9aa9e6586a3",
       "version_major": 2,
       "version_minor": 0
      },
      "text/plain": [
       "Reading attributes from group obs:   0%|                                                                      …"
      ]
     },
     "metadata": {},
     "output_type": "display_data"
    },
    {
     "name": "stdout",
     "output_type": "stream",
     "text": [
      "\u001b[33m\u001b[1mWARNING\u001b[0m: Could not find feature names key: gene_short_name in self.featureAttrsKey.\n"
     ]
    },
    {
     "data": {
      "application/vnd.jupyter.widget-view+json": {
       "model_id": "aaee315403d448f4805e3a9845376ce5",
       "version_major": 2,
       "version_minor": 0
      },
      "text/plain": [
       "Reading attributes from group var:   0%|                                                                      …"
      ]
     },
     "metadata": {},
     "output_type": "display_data"
    },
    {
     "data": {
      "application/vnd.jupyter.widget-view+json": {
       "model_id": "1dc066ff80df4147ac76ae0db02a1d3e",
       "version_major": 2,
       "version_minor": 0
      },
      "text/plain": [
       "  0%|                                                                                                         …"
      ]
     },
     "metadata": {},
     "output_type": "display_data"
    },
    {
     "name": "stdout",
     "output_type": "stream",
     "text": [
      "time: 2.75 s (started: 2021-08-26 20:31:46 +02:00)\n"
     ]
    }
   ],
   "source": [
    " # Note here we only give name of directory containing MTX file (along with barcodes and features file)\n",
    "reader = scarf.H5adReader(\n",
    "    'scarf_datasets/bastidas-ponce_4K_pancreas-d15_rnaseq/data.h5ad', \n",
    "    cell_ids_key = 'index',               # Where Cell/barcode ids are saved under 'obs' slot\n",
    "    feature_ids_key = 'index',            # Where gene ids are saved under 'var' slot\n",
    "    feature_name_key = 'gene_short_name'  # Where gene names are saved under 'var' slot\n",
    ")  \n",
    "\n",
    "# change value of `zarr_fn` to your choice of filename and path\n",
    "writer = scarf.H5adToZarr(\n",
    "    reader,\n",
    "    zarr_fn='scarf_datasets/differentiating_pancreatic_cells.zarr'\n",
    ")\n",
    "writer.dump()"
   ]
  },
  {
   "cell_type": "markdown",
   "id": "7bddf02e",
   "metadata": {},
   "source": [
    "Conversion from [Loom](https://loompy.org/) file formats is also supported using `scarf.LoomReader` and `scarf.LoomToZarr` which can be used in similar fashion as other readers and writers."
   ]
  },
  {
   "cell_type": "markdown",
   "id": "5a07c044",
   "metadata": {},
   "source": [
    "---\n",
    "### 3) Exporting to data from Zarr file format"
   ]
  },
  {
   "cell_type": "markdown",
   "id": "0f6dc25c",
   "metadata": {},
   "source": [
    "#### To Cellranger (10x) MTX format"
   ]
  },
  {
   "cell_type": "code",
   "execution_count": 9,
   "id": "28c0c085",
   "metadata": {},
   "outputs": [
    {
     "data": {
      "application/vnd.jupyter.widget-view+json": {
       "model_id": "9143bbaa80d4425d99297ddc9683779f",
       "version_major": 2,
       "version_minor": 0
      },
      "text/plain": [
       "(RNA) Computing nCells and dropOuts:   0%|                                                                    …"
      ]
     },
     "metadata": {},
     "output_type": "display_data"
    },
    {
     "data": {
      "application/vnd.jupyter.widget-view+json": {
       "model_id": "8770c020bd7c46bbbbdeaa3ba05e470e",
       "version_major": 2,
       "version_minor": 0
      },
      "text/plain": [
       "(RNA) Computing nCounts:   0%|                                                                                …"
      ]
     },
     "metadata": {},
     "output_type": "display_data"
    },
    {
     "data": {
      "application/vnd.jupyter.widget-view+json": {
       "model_id": "8f044804be314f3a9f70ceece01d2cb9",
       "version_major": 2,
       "version_minor": 0
      },
      "text/plain": [
       "(RNA) Computing nFeatures:   0%|                                                                              …"
      ]
     },
     "metadata": {},
     "output_type": "display_data"
    },
    {
     "data": {
      "application/vnd.jupyter.widget-view+json": {
       "model_id": "f2648c717fca46869b7e86032af76c34",
       "version_major": 2,
       "version_minor": 0
      },
      "text/plain": [
       "(RNA) Computing RNA_percentMito:   0%|                                                                        …"
      ]
     },
     "metadata": {},
     "output_type": "display_data"
    },
    {
     "data": {
      "application/vnd.jupyter.widget-view+json": {
       "model_id": "b8f5640f9bee46c2b119325e18dc7e61",
       "version_major": 2,
       "version_minor": 0
      },
      "text/plain": [
       "(RNA) Computing RNA_percentRibo:   0%|                                                                        …"
      ]
     },
     "metadata": {},
     "output_type": "display_data"
    },
    {
     "name": "stdout",
     "output_type": "stream",
     "text": [
      "time: 2.56 s (started: 2021-08-26 20:31:49 +02:00)\n"
     ]
    }
   ],
   "source": [
    "ds = scarf.DataStore('scarf_datasets/differentiating_pancreatic_cells.zarr')"
   ]
  },
  {
   "cell_type": "code",
   "execution_count": 10,
   "id": "6628b81c",
   "metadata": {},
   "outputs": [
    {
     "data": {
      "application/vnd.jupyter.widget-view+json": {
       "model_id": "f8941710e8494c22a4b13222358d97e6",
       "version_major": 2,
       "version_minor": 0
      },
      "text/plain": [
       "  0%|                                                                                                         …"
      ]
     },
     "metadata": {},
     "output_type": "display_data"
    },
    {
     "name": "stdout",
     "output_type": "stream",
     "text": [
      "time: 21.5 s (started: 2021-08-26 20:31:51 +02:00)\n"
     ]
    }
   ],
   "source": [
    "scarf.writers.to_mtx(\n",
    "    assay=ds.RNA,\n",
    "    mtx_directory='scarf_datasets/diff_pancreas'\n",
    ")"
   ]
  },
  {
   "cell_type": "markdown",
   "id": "67726fbd",
   "metadata": {},
   "source": [
    "#### To H5ad format\n",
    "\n",
    "Conversion to H5ad is the preferred mode as it runs much faster and produces files with smaller footprints. Updates are underway to include all the data from Zarr file like UMAP, PCA and graph, into anndata."
   ]
  },
  {
   "cell_type": "code",
   "execution_count": 11,
   "id": "55055af7",
   "metadata": {},
   "outputs": [
    {
     "name": "stdout",
     "output_type": "stream",
     "text": [
      "time: 31 ms (started: 2021-08-26 20:32:13 +02:00)\n"
     ]
    }
   ],
   "source": [
    "ds = scarf.DataStore('scarf_datasets/differentiating_pancreatic_cells.zarr')"
   ]
  },
  {
   "cell_type": "code",
   "execution_count": 12,
   "id": "70c948ff",
   "metadata": {},
   "outputs": [
    {
     "data": {
      "application/vnd.jupyter.widget-view+json": {
       "model_id": "ba561cce16274b91b5b5d9c9dee174b0",
       "version_major": 2,
       "version_minor": 0
      },
      "text/plain": [
       "  0%|                                                                                                         …"
      ]
     },
     "metadata": {},
     "output_type": "display_data"
    },
    {
     "name": "stdout",
     "output_type": "stream",
     "text": [
      "time: 3.38 s (started: 2021-08-26 20:32:13 +02:00)\n"
     ]
    }
   ],
   "source": [
    "scarf.writers.to_h5ad(\n",
    "    assay=ds.RNA,\n",
    "    h5ad_filename='scarf_datasets/diff_pancreas.h5ad'\n",
    ")"
   ]
  },
  {
   "cell_type": "markdown",
   "id": "05fb610e",
   "metadata": {},
   "source": [
    "---\n",
    "That is all for this vignette."
   ]
  }
 ],
 "metadata": {
  "jupytext": {
   "text_representation": {
    "extension": ".md",
    "format_name": "markdown",
    "format_version": "1.3",
    "jupytext_version": "1.11.3"
   }
  },
  "kernelspec": {
   "display_name": "Python 3 (ipykernel)",
   "language": "python",
   "name": "python3"
  },
  "language_info": {
   "codemirror_mode": {
    "name": "ipython",
    "version": 3
   },
   "file_extension": ".py",
   "mimetype": "text/x-python",
   "name": "python",
   "nbconvert_exporter": "python",
   "pygments_lexer": "ipython3",
   "version": "3.9.6"
  },
  "widgets": {
   "application/vnd.jupyter.widget-state+json": {
    "state": {
     "01724b721ebf435d86a0fc27845af2f7": {
      "model_module": "@jupyter-widgets/base",
      "model_module_version": "1.2.0",
      "model_name": "LayoutModel",
      "state": {}
     },
     "02b18e69139243dfa4cf50e85846b11b": {
      "model_module": "@jupyter-widgets/controls",
      "model_module_version": "1.5.0",
      "model_name": "HTMLModel",
      "state": {
       "layout": "IPY_MODEL_9b30682a96b34dfe9ceda7cfac0131e9",
       "style": "IPY_MODEL_d3d6b529d0774179a71248ac1880bb1c",
       "value": " 2/2 [00:05]"
      }
     },
     "0542d961891244d39094c832de85b64f": {
      "model_module": "@jupyter-widgets/controls",
      "model_module_version": "1.5.0",
      "model_name": "ProgressStyleModel",
      "state": {
       "bar_color": "#34abeb",
       "description_width": ""
      }
     },
     "05b50b6385a34eecbe42979d0d0268c4": {
      "model_module": "@jupyter-widgets/base",
      "model_module_version": "1.2.0",
      "model_name": "LayoutModel",
      "state": {}
     },
     "05dbf4bc929f4ce6ae209271fbc0963a": {
      "model_module": "@jupyter-widgets/base",
      "model_module_version": "1.2.0",
      "model_name": "LayoutModel",
      "state": {
       "display": "inline-flex",
       "flex_flow": "row wrap",
       "width": "500px"
      }
     },
     "06141ce7afed40e18b50490418f55d97": {
      "model_module": "@jupyter-widgets/controls",
      "model_module_version": "1.5.0",
      "model_name": "FloatProgressModel",
      "state": {
       "bar_style": "success",
       "layout": "IPY_MODEL_895a12f7bb824ff8868466e4ee7ad388",
       "max": 10,
       "style": "IPY_MODEL_98dd7ae4caf74820accce7c096e02682",
       "value": 10
      }
     },
     "06976922d81e41aeafcfd8686a2ed337": {
      "model_module": "@jupyter-widgets/controls",
      "model_module_version": "1.5.0",
      "model_name": "HTMLModel",
      "state": {
       "layout": "IPY_MODEL_ec81c6cb4b834db9a5a214e6a161f709",
       "style": "IPY_MODEL_7841d171590a4058a38fa03b882be68c",
       "value": "Reading attributes from group obs: 100%| "
      }
     },
     "06a055051d944ff58c5413afc4d96d6a": {
      "model_module": "@jupyter-widgets/controls",
      "model_module_version": "1.5.0",
      "model_name": "ProgressStyleModel",
      "state": {
       "bar_color": "#34abeb",
       "description_width": ""
      }
     },
     "0977246538114741b100ce13f0947a20": {
      "model_module": "@jupyter-widgets/controls",
      "model_module_version": "1.5.0",
      "model_name": "DescriptionStyleModel",
      "state": {
       "description_width": ""
      }
     },
     "0c6612d15dcd43e0b5e786898d5ddb5e": {
      "model_module": "@jupyter-widgets/base",
      "model_module_version": "1.2.0",
      "model_name": "LayoutModel",
      "state": {}
     },
     "0d97a4a60d7e4b38b35817762f6976d2": {
      "model_module": "@jupyter-widgets/controls",
      "model_module_version": "1.5.0",
      "model_name": "DescriptionStyleModel",
      "state": {
       "description_width": ""
      }
     },
     "0dd2d22badd64b959a296c5f37e20b13": {
      "model_module": "@jupyter-widgets/base",
      "model_module_version": "1.2.0",
      "model_name": "LayoutModel",
      "state": {
       "display": "inline-flex",
       "flex_flow": "row wrap",
       "width": "500px"
      }
     },
     "0def77c4e34a40eba7a08f49c10ee31d": {
      "model_module": "@jupyter-widgets/controls",
      "model_module_version": "1.5.0",
      "model_name": "ProgressStyleModel",
      "state": {
       "bar_color": "#34abeb",
       "description_width": ""
      }
     },
     "11b7895e778b42ab987c00f45b5d4cc4": {
      "model_module": "@jupyter-widgets/controls",
      "model_module_version": "1.5.0",
      "model_name": "HBoxModel",
      "state": {
       "children": [
        "IPY_MODEL_49f2f4ce007448bea09464f4a540ab21",
        "IPY_MODEL_20c8264534e44ddea03320b3609d5d3a",
        "IPY_MODEL_e49ccd594e7343d487184059eb9d9fdb"
       ],
       "layout": "IPY_MODEL_39a6130c78894fe9a5820a7dd7f36cd7"
      }
     },
     "13648899875649869882b269722b8ac0": {
      "model_module": "@jupyter-widgets/base",
      "model_module_version": "1.2.0",
      "model_name": "LayoutModel",
      "state": {
       "flex": "2"
      }
     },
     "13effc48556c4bdbbc0889d51b7cf0a5": {
      "model_module": "@jupyter-widgets/controls",
      "model_module_version": "1.5.0",
      "model_name": "DescriptionStyleModel",
      "state": {
       "description_width": ""
      }
     },
     "173e640e7487474ea0cce7dc206113a1": {
      "model_module": "@jupyter-widgets/controls",
      "model_module_version": "1.5.0",
      "model_name": "HTMLModel",
      "state": {
       "layout": "IPY_MODEL_4140972922ea4e12bf7b2b80eca66974",
       "style": "IPY_MODEL_616021b0074842528c9aa117f677f58b",
       "value": "100%| "
      }
     },
     "1794c8d95edd4fa693813758d5c50c01": {
      "model_module": "@jupyter-widgets/base",
      "model_module_version": "1.2.0",
      "model_name": "LayoutModel",
      "state": {
       "flex": "2"
      }
     },
     "1936ca6795524d6c8b6f8dfb5715c608": {
      "model_module": "@jupyter-widgets/controls",
      "model_module_version": "1.5.0",
      "model_name": "DescriptionStyleModel",
      "state": {
       "description_width": ""
      }
     },
     "19af852fb11b45a8a6dd6a8de07378bb": {
      "model_module": "@jupyter-widgets/controls",
      "model_module_version": "1.5.0",
      "model_name": "HTMLModel",
      "state": {
       "layout": "IPY_MODEL_408fbfa2a5214d31b7cdfb8962dede2f",
       "style": "IPY_MODEL_4122d7590a2943c1a53a71c24b78f091",
       "value": " 6/6 [00:06]"
      }
     },
     "1ba0ad2a16064955b888a23451e3b995": {
      "model_module": "@jupyter-widgets/controls",
      "model_module_version": "1.5.0",
      "model_name": "HTMLModel",
      "state": {
       "layout": "IPY_MODEL_b12436485e834d1aac09631102b8a49e",
       "style": "IPY_MODEL_595766d3dfae4efbb694833d8a113b18",
       "value": " 4/4 [00:21]"
      }
     },
     "1fa82dc7b09f44dab092bcfb13cef26e": {
      "model_module": "@jupyter-widgets/controls",
      "model_module_version": "1.5.0",
      "model_name": "FloatProgressModel",
      "state": {
       "bar_style": "success",
       "layout": "IPY_MODEL_53c7b7aa03d74e34a780f4ff06cc28a8",
       "max": 1,
       "style": "IPY_MODEL_53ce0492270348e39866637c9caffab4",
       "value": 1
      }
     },
     "20c8264534e44ddea03320b3609d5d3a": {
      "model_module": "@jupyter-widgets/controls",
      "model_module_version": "1.5.0",
      "model_name": "FloatProgressModel",
      "state": {
       "bar_style": "success",
       "layout": "IPY_MODEL_13648899875649869882b269722b8ac0",
       "max": 6,
       "style": "IPY_MODEL_38ac9ee27a464d07b57c673eb8d6b8f4",
       "value": 6
      }
     },
     "26ecb7f0c2c347a79beb52e0a3ddbeea": {
      "model_module": "@jupyter-widgets/controls",
      "model_module_version": "1.5.0",
      "model_name": "FloatProgressModel",
      "state": {
       "bar_style": "success",
       "layout": "IPY_MODEL_37b0736ab57340159cf2142d97222ae2",
       "max": 2,
       "style": "IPY_MODEL_7d96ec2a9b8f45a59ebae57923acd122",
       "value": 2
      }
     },
     "2bdebb8470a542a38542667a987abeae": {
      "model_module": "@jupyter-widgets/controls",
      "model_module_version": "1.5.0",
      "model_name": "HBoxModel",
      "state": {
       "children": [
        "IPY_MODEL_8df79a30b273450fba8fec2b88c98134",
        "IPY_MODEL_51182b0e0b554733943a545f4d648bd7",
        "IPY_MODEL_19af852fb11b45a8a6dd6a8de07378bb"
       ],
       "layout": "IPY_MODEL_9d9dabb6dd3a4f57bd15066b2bde083d"
      }
     },
     "2d3a090527b3426d96c043ddc40d0e01": {
      "model_module": "@jupyter-widgets/base",
      "model_module_version": "1.2.0",
      "model_name": "LayoutModel",
      "state": {
       "display": "inline-flex",
       "flex_flow": "row wrap",
       "width": "500px"
      }
     },
     "303274e9a7b6435bafee43fc574b4453": {
      "model_module": "@jupyter-widgets/controls",
      "model_module_version": "1.5.0",
      "model_name": "DescriptionStyleModel",
      "state": {
       "description_width": ""
      }
     },
     "31c1180f77b4413bbb0b50c78a5b2794": {
      "model_module": "@jupyter-widgets/controls",
      "model_module_version": "1.5.0",
      "model_name": "HTMLModel",
      "state": {
       "layout": "IPY_MODEL_32f7fae0093c4627868f8cdefe87181c",
       "style": "IPY_MODEL_531e37c116ce408f86996079a5799607",
       "value": "100%| "
      }
     },
     "31cfb22397c047d5b163a60fda8a4f3d": {
      "model_module": "@jupyter-widgets/controls",
      "model_module_version": "1.5.0",
      "model_name": "DescriptionStyleModel",
      "state": {
       "description_width": ""
      }
     },
     "32008e98dde942388f4b9e4a1327022d": {
      "model_module": "@jupyter-widgets/controls",
      "model_module_version": "1.5.0",
      "model_name": "DescriptionStyleModel",
      "state": {
       "description_width": ""
      }
     },
     "32437705b4ef42758113798e089e4fc1": {
      "model_module": "@jupyter-widgets/controls",
      "model_module_version": "1.5.0",
      "model_name": "HBoxModel",
      "state": {
       "children": [
        "IPY_MODEL_343553ec263e4da39524d5cd52e845e0",
        "IPY_MODEL_f79bdb3da2cc49888b0c799500fea32d",
        "IPY_MODEL_8998f89d272a466c99b2269f4d256a40"
       ],
       "layout": "IPY_MODEL_8c05a197262e4b02b175f1f563636ad7"
      }
     },
     "32f7fae0093c4627868f8cdefe87181c": {
      "model_module": "@jupyter-widgets/base",
      "model_module_version": "1.2.0",
      "model_name": "LayoutModel",
      "state": {}
     },
     "343553ec263e4da39524d5cd52e845e0": {
      "model_module": "@jupyter-widgets/controls",
      "model_module_version": "1.5.0",
      "model_name": "HTMLModel",
      "state": {
       "layout": "IPY_MODEL_a7287c11e3824df9a2954a29769054a5",
       "style": "IPY_MODEL_882da40184ac485cb1460863eb9c8837",
       "value": "Downloading 1/1: 100%| "
      }
     },
     "35c9061c5cad4b21a2e7b957b67c5cb5": {
      "model_module": "@jupyter-widgets/base",
      "model_module_version": "1.2.0",
      "model_name": "LayoutModel",
      "state": {}
     },
     "37065047976a4f0b8d4ea792b74bcb5a": {
      "model_module": "@jupyter-widgets/controls",
      "model_module_version": "1.5.0",
      "model_name": "HTMLModel",
      "state": {
       "layout": "IPY_MODEL_fcb72f70d21149f08e924e7f0b4c9822",
       "style": "IPY_MODEL_6759abb006444a18a08fda0c57f97580",
       "value": " 4/4 [00:01]"
      }
     },
     "37b0736ab57340159cf2142d97222ae2": {
      "model_module": "@jupyter-widgets/base",
      "model_module_version": "1.2.0",
      "model_name": "LayoutModel",
      "state": {
       "flex": "2"
      }
     },
     "38ac9ee27a464d07b57c673eb8d6b8f4": {
      "model_module": "@jupyter-widgets/controls",
      "model_module_version": "1.5.0",
      "model_name": "ProgressStyleModel",
      "state": {
       "bar_color": "#34abeb",
       "description_width": ""
      }
     },
     "39a6130c78894fe9a5820a7dd7f36cd7": {
      "model_module": "@jupyter-widgets/base",
      "model_module_version": "1.2.0",
      "model_name": "LayoutModel",
      "state": {
       "display": "inline-flex",
       "flex_flow": "row wrap",
       "width": "500px"
      }
     },
     "3b0f5d47be71496281cb2d2c94adb337": {
      "model_module": "@jupyter-widgets/controls",
      "model_module_version": "1.5.0",
      "model_name": "ProgressStyleModel",
      "state": {
       "bar_color": "#34abeb",
       "description_width": ""
      }
     },
     "3b26e2595da249d79ceefd4b6a00706d": {
      "model_module": "@jupyter-widgets/controls",
      "model_module_version": "1.5.0",
      "model_name": "DescriptionStyleModel",
      "state": {
       "description_width": ""
      }
     },
     "3c152e16058d4be2b94c2c92b4c9ddbc": {
      "model_module": "@jupyter-widgets/controls",
      "model_module_version": "1.5.0",
      "model_name": "HTMLModel",
      "state": {
       "layout": "IPY_MODEL_4a55d1344b3d435cac786ac3abb367e1",
       "style": "IPY_MODEL_0977246538114741b100ce13f0947a20",
       "value": " 10/10 [00:22]"
      }
     },
     "3c34f63ad606459fba365a9ed2e8e4dd": {
      "model_module": "@jupyter-widgets/base",
      "model_module_version": "1.2.0",
      "model_name": "LayoutModel",
      "state": {
       "display": "inline-flex",
       "flex_flow": "row wrap",
       "width": "500px"
      }
     },
     "3c90d4964d2e49ffb0458475f036b405": {
      "model_module": "@jupyter-widgets/controls",
      "model_module_version": "1.5.0",
      "model_name": "DescriptionStyleModel",
      "state": {
       "description_width": ""
      }
     },
     "3ca9cd514f994ed698fd67ab64628ea3": {
      "model_module": "@jupyter-widgets/base",
      "model_module_version": "1.2.0",
      "model_name": "LayoutModel",
      "state": {}
     },
     "3cc8c0a005a54422b46c1291b57e089f": {
      "model_module": "@jupyter-widgets/base",
      "model_module_version": "1.2.0",
      "model_name": "LayoutModel",
      "state": {}
     },
     "3df8cf6c2b9b40aab56540e912292907": {
      "model_module": "@jupyter-widgets/base",
      "model_module_version": "1.2.0",
      "model_name": "LayoutModel",
      "state": {}
     },
     "3ef5d8077ca64fcfbbafeda0c8c4b168": {
      "model_module": "@jupyter-widgets/base",
      "model_module_version": "1.2.0",
      "model_name": "LayoutModel",
      "state": {
       "display": "inline-flex",
       "flex_flow": "row wrap",
       "width": "500px"
      }
     },
     "3fa8e0adef194132b48fb5a43fedda23": {
      "model_module": "@jupyter-widgets/base",
      "model_module_version": "1.2.0",
      "model_name": "LayoutModel",
      "state": {
       "flex": "2"
      }
     },
     "408fbfa2a5214d31b7cdfb8962dede2f": {
      "model_module": "@jupyter-widgets/base",
      "model_module_version": "1.2.0",
      "model_name": "LayoutModel",
      "state": {}
     },
     "4122d7590a2943c1a53a71c24b78f091": {
      "model_module": "@jupyter-widgets/controls",
      "model_module_version": "1.5.0",
      "model_name": "DescriptionStyleModel",
      "state": {
       "description_width": ""
      }
     },
     "4140972922ea4e12bf7b2b80eca66974": {
      "model_module": "@jupyter-widgets/base",
      "model_module_version": "1.2.0",
      "model_name": "LayoutModel",
      "state": {}
     },
     "41fa1046c2b447a7898200002510cdd0": {
      "model_module": "@jupyter-widgets/controls",
      "model_module_version": "1.5.0",
      "model_name": "DescriptionStyleModel",
      "state": {
       "description_width": ""
      }
     },
     "425372ea33cb42c49fa88341ad0d8e1e": {
      "model_module": "@jupyter-widgets/controls",
      "model_module_version": "1.5.0",
      "model_name": "HBoxModel",
      "state": {
       "children": [
        "IPY_MODEL_b433bd747d0141db9c1901efa79ead9a",
        "IPY_MODEL_dedad1ad7cf14e90a063a9e1e99499e3",
        "IPY_MODEL_70c3c42cdc284aa8b6f4cff2074ae6f6"
       ],
       "layout": "IPY_MODEL_898ca890861f410cabfa06717bf589d6"
      }
     },
     "43b5331dab8948f882aec64e6e1ab1c7": {
      "model_module": "@jupyter-widgets/controls",
      "model_module_version": "1.5.0",
      "model_name": "ProgressStyleModel",
      "state": {
       "bar_color": "#34abeb",
       "description_width": ""
      }
     },
     "46427623de994e119102e82c22e3bda3": {
      "model_module": "@jupyter-widgets/base",
      "model_module_version": "1.2.0",
      "model_name": "LayoutModel",
      "state": {
       "display": "inline-flex",
       "flex_flow": "row wrap",
       "width": "500px"
      }
     },
     "47f949b045ff4b18899f3989427fbdff": {
      "model_module": "@jupyter-widgets/base",
      "model_module_version": "1.2.0",
      "model_name": "LayoutModel",
      "state": {
       "flex": "2"
      }
     },
     "48897d8d7c6a4ade921a92a73e83a5d5": {
      "model_module": "@jupyter-widgets/controls",
      "model_module_version": "1.5.0",
      "model_name": "HTMLModel",
      "state": {
       "layout": "IPY_MODEL_7a4628e90d0e4b219d5692eae99041ab",
       "style": "IPY_MODEL_4b893e14cf694e8c854bece2e27a16e3",
       "value": " 4/4 [00:03]"
      }
     },
     "49f2f4ce007448bea09464f4a540ab21": {
      "model_module": "@jupyter-widgets/controls",
      "model_module_version": "1.5.0",
      "model_name": "HTMLModel",
      "state": {
       "layout": "IPY_MODEL_e4ea8433056d4bf7a8823771d535eb58",
       "style": "IPY_MODEL_303274e9a7b6435bafee43fc574b4453",
       "value": "Downloading 3/3: 100%| "
      }
     },
     "4a55d1344b3d435cac786ac3abb367e1": {
      "model_module": "@jupyter-widgets/base",
      "model_module_version": "1.2.0",
      "model_name": "LayoutModel",
      "state": {}
     },
     "4b189954181347dba25abf6074d5fc2d": {
      "model_module": "@jupyter-widgets/base",
      "model_module_version": "1.2.0",
      "model_name": "LayoutModel",
      "state": {
       "display": "inline-flex",
       "flex_flow": "row wrap",
       "width": "500px"
      }
     },
     "4b1d1e2c1ada484f93e51722d8e15338": {
      "model_module": "@jupyter-widgets/controls",
      "model_module_version": "1.5.0",
      "model_name": "HBoxModel",
      "state": {
       "children": [
        "IPY_MODEL_06976922d81e41aeafcfd8686a2ed337",
        "IPY_MODEL_beadbd1e694f467fa90e362d29f5f508",
        "IPY_MODEL_9709b6ef409d4733a9f85a6656b6cc45"
       ],
       "layout": "IPY_MODEL_3ef5d8077ca64fcfbbafeda0c8c4b168"
      }
     },
     "4b893e14cf694e8c854bece2e27a16e3": {
      "model_module": "@jupyter-widgets/controls",
      "model_module_version": "1.5.0",
      "model_name": "DescriptionStyleModel",
      "state": {
       "description_width": ""
      }
     },
     "4c74d20fe26d40dfb46244783a1637b2": {
      "model_module": "@jupyter-widgets/controls",
      "model_module_version": "1.5.0",
      "model_name": "HTMLModel",
      "state": {
       "layout": "IPY_MODEL_fa29f052b70c44f9825121038c2e1687",
       "style": "IPY_MODEL_fac88aa7302b4594ac47ac53d1726d9f",
       "value": " 1/1 [00:00]"
      }
     },
     "4f2f85b6650a4159bbdf2532857dad41": {
      "model_module": "@jupyter-widgets/controls",
      "model_module_version": "1.5.0",
      "model_name": "HBoxModel",
      "state": {
       "children": [
        "IPY_MODEL_97d412f18bb84043b05de64526f7ff6e",
        "IPY_MODEL_cdf11d7f791644d592e20745dc85fc37",
        "IPY_MODEL_fbb380e3e3dc42e6a655e9e260902f00"
       ],
       "layout": "IPY_MODEL_3c34f63ad606459fba365a9ed2e8e4dd"
      }
     },
     "51182b0e0b554733943a545f4d648bd7": {
      "model_module": "@jupyter-widgets/controls",
      "model_module_version": "1.5.0",
      "model_name": "FloatProgressModel",
      "state": {
       "bar_style": "success",
       "layout": "IPY_MODEL_942bb9b1e2f24e079059924c9e0d2d76",
       "max": 6,
       "style": "IPY_MODEL_6b20158659ca4508ae2daaf3f457a675",
       "value": 6
      }
     },
     "52c5ec5f8fb540f2baedde7b0f2ca176": {
      "model_module": "@jupyter-widgets/base",
      "model_module_version": "1.2.0",
      "model_name": "LayoutModel",
      "state": {
       "flex": "2"
      }
     },
     "5300646c74bc4b78a1d44ea2375a11b3": {
      "model_module": "@jupyter-widgets/base",
      "model_module_version": "1.2.0",
      "model_name": "LayoutModel",
      "state": {
       "display": "inline-flex",
       "flex_flow": "row wrap",
       "width": "500px"
      }
     },
     "531e37c116ce408f86996079a5799607": {
      "model_module": "@jupyter-widgets/controls",
      "model_module_version": "1.5.0",
      "model_name": "DescriptionStyleModel",
      "state": {
       "description_width": ""
      }
     },
     "537aa15f59c245489d2bb5c2a1697404": {
      "model_module": "@jupyter-widgets/controls",
      "model_module_version": "1.5.0",
      "model_name": "DescriptionStyleModel",
      "state": {
       "description_width": ""
      }
     },
     "53c082bba4cf48969e72e47a88544a1d": {
      "model_module": "@jupyter-widgets/base",
      "model_module_version": "1.2.0",
      "model_name": "LayoutModel",
      "state": {}
     },
     "53c7b7aa03d74e34a780f4ff06cc28a8": {
      "model_module": "@jupyter-widgets/base",
      "model_module_version": "1.2.0",
      "model_name": "LayoutModel",
      "state": {
       "flex": "2"
      }
     },
     "53ce0492270348e39866637c9caffab4": {
      "model_module": "@jupyter-widgets/controls",
      "model_module_version": "1.5.0",
      "model_name": "ProgressStyleModel",
      "state": {
       "bar_color": "#34abeb",
       "description_width": ""
      }
     },
     "54388b42b4f74309b981bf667cdeae6a": {
      "model_module": "@jupyter-widgets/controls",
      "model_module_version": "1.5.0",
      "model_name": "DescriptionStyleModel",
      "state": {
       "description_width": ""
      }
     },
     "55fa52d8fdd94eda8e312e95814b1095": {
      "model_module": "@jupyter-widgets/controls",
      "model_module_version": "1.5.0",
      "model_name": "DescriptionStyleModel",
      "state": {
       "description_width": ""
      }
     },
     "573b7fdcf9994f609a787ca3d8bd2831": {
      "model_module": "@jupyter-widgets/controls",
      "model_module_version": "1.5.0",
      "model_name": "HTMLModel",
      "state": {
       "layout": "IPY_MODEL_b01b2c77d3154f2ab23d4a6f2eb8ac30",
       "style": "IPY_MODEL_3c90d4964d2e49ffb0458475f036b405",
       "value": " 264/264 [00:00]"
      }
     },
     "577cc774ce5f44ea9809f485ca6db9b9": {
      "model_module": "@jupyter-widgets/base",
      "model_module_version": "1.2.0",
      "model_name": "LayoutModel",
      "state": {
       "display": "inline-flex",
       "flex_flow": "row wrap",
       "width": "500px"
      }
     },
     "595766d3dfae4efbb694833d8a113b18": {
      "model_module": "@jupyter-widgets/controls",
      "model_module_version": "1.5.0",
      "model_name": "DescriptionStyleModel",
      "state": {
       "description_width": ""
      }
     },
     "5a4eb47f3e634b10b8a3f6cad93e8a0f": {
      "model_module": "@jupyter-widgets/controls",
      "model_module_version": "1.5.0",
      "model_name": "DescriptionStyleModel",
      "state": {
       "description_width": ""
      }
     },
     "5a677f9945d54b9ab89a5abfc25435d6": {
      "model_module": "@jupyter-widgets/controls",
      "model_module_version": "1.5.0",
      "model_name": "FloatProgressModel",
      "state": {
       "bar_style": "success",
       "layout": "IPY_MODEL_e11046d358d64ec4898f88864ef52bcd",
       "max": 264,
       "style": "IPY_MODEL_f02fd702780b4b8082d41ca90fb9bd15",
       "value": 264
      }
     },
     "5abf6a397e2a49bb8695550432375e71": {
      "model_module": "@jupyter-widgets/controls",
      "model_module_version": "1.5.0",
      "model_name": "HTMLModel",
      "state": {
       "layout": "IPY_MODEL_53c082bba4cf48969e72e47a88544a1d",
       "style": "IPY_MODEL_0d97a4a60d7e4b38b35817762f6976d2",
       "value": "100%| "
      }
     },
     "5dd885a37f8e4a64b33e211a0af9f108": {
      "model_module": "@jupyter-widgets/controls",
      "model_module_version": "1.5.0",
      "model_name": "HTMLModel",
      "state": {
       "layout": "IPY_MODEL_d7150c282a34472cb04d47a3df5b79ee",
       "style": "IPY_MODEL_ebadc018b3ae479dbee43d68591b4f53",
       "value": "(RNA) Computing RNA_percentMito: 100%| "
      }
     },
     "616021b0074842528c9aa117f677f58b": {
      "model_module": "@jupyter-widgets/controls",
      "model_module_version": "1.5.0",
      "model_name": "DescriptionStyleModel",
      "state": {
       "description_width": ""
      }
     },
     "6565e42994c9424484239eec2d7ed7f8": {
      "model_module": "@jupyter-widgets/base",
      "model_module_version": "1.2.0",
      "model_name": "LayoutModel",
      "state": {
       "display": "inline-flex",
       "flex_flow": "row wrap",
       "width": "500px"
      }
     },
     "6759abb006444a18a08fda0c57f97580": {
      "model_module": "@jupyter-widgets/controls",
      "model_module_version": "1.5.0",
      "model_name": "DescriptionStyleModel",
      "state": {
       "description_width": ""
      }
     },
     "67b46844622f43d39278052079b4596e": {
      "model_module": "@jupyter-widgets/controls",
      "model_module_version": "1.5.0",
      "model_name": "ProgressStyleModel",
      "state": {
       "bar_color": "#34abeb",
       "description_width": ""
      }
     },
     "6a11e7aa1a8e413fa3fe0869ee8a8983": {
      "model_module": "@jupyter-widgets/base",
      "model_module_version": "1.2.0",
      "model_name": "LayoutModel",
      "state": {
       "flex": "2"
      }
     },
     "6b20158659ca4508ae2daaf3f457a675": {
      "model_module": "@jupyter-widgets/controls",
      "model_module_version": "1.5.0",
      "model_name": "ProgressStyleModel",
      "state": {
       "bar_color": "#34abeb",
       "description_width": ""
      }
     },
     "6c5712d48fcf4dd4a244be17b4d0c4a9": {
      "model_module": "@jupyter-widgets/base",
      "model_module_version": "1.2.0",
      "model_name": "LayoutModel",
      "state": {
       "flex": "2"
      }
     },
     "6f176c7a2979401bb1a248f49547e80f": {
      "model_module": "@jupyter-widgets/controls",
      "model_module_version": "1.5.0",
      "model_name": "HBoxModel",
      "state": {
       "children": [
        "IPY_MODEL_5abf6a397e2a49bb8695550432375e71",
        "IPY_MODEL_7bd67fbc1a9248e0a3fd014c756208c0",
        "IPY_MODEL_48897d8d7c6a4ade921a92a73e83a5d5"
       ],
       "layout": "IPY_MODEL_d7e19ae840e64dfc971c23bf8ece4b0e"
      }
     },
     "70c3c42cdc284aa8b6f4cff2074ae6f6": {
      "model_module": "@jupyter-widgets/controls",
      "model_module_version": "1.5.0",
      "model_name": "HTMLModel",
      "state": {
       "layout": "IPY_MODEL_3ca9cd514f994ed698fd67ab64628ea3",
       "style": "IPY_MODEL_f8e5095138604b68a5f419f50bea3d8a",
       "value": " 1/1 [00:00]"
      }
     },
     "7446ed3a7b0845a581b7071a64c48129": {
      "model_module": "@jupyter-widgets/base",
      "model_module_version": "1.2.0",
      "model_name": "LayoutModel",
      "state": {}
     },
     "74bbf2849f7f479f929eb1609cf9fe3a": {
      "model_module": "@jupyter-widgets/controls",
      "model_module_version": "1.5.0",
      "model_name": "HTMLModel",
      "state": {
       "layout": "IPY_MODEL_0c6612d15dcd43e0b5e786898d5ddb5e",
       "style": "IPY_MODEL_5a4eb47f3e634b10b8a3f6cad93e8a0f",
       "value": "Reading attributes from group var: 100%| "
      }
     },
     "74f257d8a63a4c5896820ab312c00225": {
      "model_module": "@jupyter-widgets/controls",
      "model_module_version": "1.5.0",
      "model_name": "HBoxModel",
      "state": {
       "children": [
        "IPY_MODEL_d0e53ab14dc64e8a92aae7c998498f7f",
        "IPY_MODEL_5a677f9945d54b9ab89a5abfc25435d6",
        "IPY_MODEL_9ca838a9857d482aa16b011c1d35b654"
       ],
       "layout": "IPY_MODEL_0dd2d22badd64b959a296c5f37e20b13"
      }
     },
     "7841d171590a4058a38fa03b882be68c": {
      "model_module": "@jupyter-widgets/controls",
      "model_module_version": "1.5.0",
      "model_name": "DescriptionStyleModel",
      "state": {
       "description_width": ""
      }
     },
     "79179674067340c7943d9de1801fd825": {
      "model_module": "@jupyter-widgets/base",
      "model_module_version": "1.2.0",
      "model_name": "LayoutModel",
      "state": {}
     },
     "7a4628e90d0e4b219d5692eae99041ab": {
      "model_module": "@jupyter-widgets/base",
      "model_module_version": "1.2.0",
      "model_name": "LayoutModel",
      "state": {}
     },
     "7bd67fbc1a9248e0a3fd014c756208c0": {
      "model_module": "@jupyter-widgets/controls",
      "model_module_version": "1.5.0",
      "model_name": "FloatProgressModel",
      "state": {
       "bar_style": "success",
       "layout": "IPY_MODEL_d2c48705aba64912a541862e2fe4d520",
       "max": 4,
       "style": "IPY_MODEL_8b21955c94da40efa934f10626a7db97",
       "value": 4
      }
     },
     "7d96ec2a9b8f45a59ebae57923acd122": {
      "model_module": "@jupyter-widgets/controls",
      "model_module_version": "1.5.0",
      "model_name": "ProgressStyleModel",
      "state": {
       "bar_color": "#34abeb",
       "description_width": ""
      }
     },
     "7f09a6b3c83f404b82b1988510d33c11": {
      "model_module": "@jupyter-widgets/base",
      "model_module_version": "1.2.0",
      "model_name": "LayoutModel",
      "state": {}
     },
     "80139baa8b114d56874c82842ffb2cb5": {
      "model_module": "@jupyter-widgets/base",
      "model_module_version": "1.2.0",
      "model_name": "LayoutModel",
      "state": {
       "flex": "2"
      }
     },
     "80e0c7bfceb34b39b6eda03788de1c55": {
      "model_module": "@jupyter-widgets/base",
      "model_module_version": "1.2.0",
      "model_name": "LayoutModel",
      "state": {}
     },
     "86c9d0fc2ee8478e9871412704b37136": {
      "model_module": "@jupyter-widgets/controls",
      "model_module_version": "1.5.0",
      "model_name": "HTMLModel",
      "state": {
       "layout": "IPY_MODEL_8ed3c131ffd24ccf897128834ccbfba3",
       "style": "IPY_MODEL_41fa1046c2b447a7898200002510cdd0",
       "value": "(RNA) Computing nFeatures: 100%| "
      }
     },
     "87e0d8cab1564d6587b134b7de221893": {
      "model_module": "@jupyter-widgets/controls",
      "model_module_version": "1.5.0",
      "model_name": "HTMLModel",
      "state": {
       "layout": "IPY_MODEL_3cc8c0a005a54422b46c1291b57e089f",
       "style": "IPY_MODEL_ce3ab741049347198dfeedb9471a63d9",
       "value": "Downloading 1/3: 100%| "
      }
     },
     "882da40184ac485cb1460863eb9c8837": {
      "model_module": "@jupyter-widgets/controls",
      "model_module_version": "1.5.0",
      "model_name": "DescriptionStyleModel",
      "state": {
       "description_width": ""
      }
     },
     "895a12f7bb824ff8868466e4ee7ad388": {
      "model_module": "@jupyter-widgets/base",
      "model_module_version": "1.2.0",
      "model_name": "LayoutModel",
      "state": {
       "flex": "2"
      }
     },
     "898ca890861f410cabfa06717bf589d6": {
      "model_module": "@jupyter-widgets/base",
      "model_module_version": "1.2.0",
      "model_name": "LayoutModel",
      "state": {
       "display": "inline-flex",
       "flex_flow": "row wrap",
       "width": "500px"
      }
     },
     "8998f89d272a466c99b2269f4d256a40": {
      "model_module": "@jupyter-widgets/controls",
      "model_module_version": "1.5.0",
      "model_name": "HTMLModel",
      "state": {
       "layout": "IPY_MODEL_cfb7afcaf77d4cb99782a56fd845a824",
       "style": "IPY_MODEL_ff781f153cec45ff8ce5d6a4939b06ee",
       "value": " 11/11 [00:09]"
      }
     },
     "8b21955c94da40efa934f10626a7db97": {
      "model_module": "@jupyter-widgets/controls",
      "model_module_version": "1.5.0",
      "model_name": "ProgressStyleModel",
      "state": {
       "bar_color": "#34abeb",
       "description_width": ""
      }
     },
     "8c05a197262e4b02b175f1f563636ad7": {
      "model_module": "@jupyter-widgets/base",
      "model_module_version": "1.2.0",
      "model_name": "LayoutModel",
      "state": {
       "display": "inline-flex",
       "flex_flow": "row wrap",
       "width": "500px"
      }
     },
     "8c9dc4445559419f8a2486f29b4ca5d4": {
      "model_module": "@jupyter-widgets/controls",
      "model_module_version": "1.5.0",
      "model_name": "HBoxModel",
      "state": {
       "children": [
        "IPY_MODEL_173e640e7487474ea0cce7dc206113a1",
        "IPY_MODEL_06141ce7afed40e18b50490418f55d97",
        "IPY_MODEL_3c152e16058d4be2b94c2c92b4c9ddbc"
       ],
       "layout": "IPY_MODEL_b8260c84f64e48a89e3a46feddb5dbe2"
      }
     },
     "8df79a30b273450fba8fec2b88c98134": {
      "model_module": "@jupyter-widgets/controls",
      "model_module_version": "1.5.0",
      "model_name": "HTMLModel",
      "state": {
       "layout": "IPY_MODEL_b4f4163290d74999b834248c738c3c62",
       "style": "IPY_MODEL_54388b42b4f74309b981bf667cdeae6a",
       "value": "Downloading 1/1: 100%| "
      }
     },
     "8e868e4f8996420e96f2169607b24efc": {
      "model_module": "@jupyter-widgets/base",
      "model_module_version": "1.2.0",
      "model_name": "LayoutModel",
      "state": {
       "flex": "2"
      }
     },
     "8ed14f39c4844a028fbab266637b8dba": {
      "model_module": "@jupyter-widgets/controls",
      "model_module_version": "1.5.0",
      "model_name": "DescriptionStyleModel",
      "state": {
       "description_width": ""
      }
     },
     "8ed3c131ffd24ccf897128834ccbfba3": {
      "model_module": "@jupyter-widgets/base",
      "model_module_version": "1.2.0",
      "model_name": "LayoutModel",
      "state": {}
     },
     "93c7e0b72e5e4909943dfce808991898": {
      "model_module": "@jupyter-widgets/controls",
      "model_module_version": "1.5.0",
      "model_name": "HTMLModel",
      "state": {
       "layout": "IPY_MODEL_7446ed3a7b0845a581b7071a64c48129",
       "style": "IPY_MODEL_fde5133d80d94d5abfa3e30e7fc1ee71",
       "value": "100%| "
      }
     },
     "942bb9b1e2f24e079059924c9e0d2d76": {
      "model_module": "@jupyter-widgets/base",
      "model_module_version": "1.2.0",
      "model_name": "LayoutModel",
      "state": {
       "flex": "2"
      }
     },
     "95e8f3861e00473697d4b72fdb7b8e1d": {
      "model_module": "@jupyter-widgets/controls",
      "model_module_version": "1.5.0",
      "model_name": "ProgressStyleModel",
      "state": {
       "bar_color": "#34abeb",
       "description_width": ""
      }
     },
     "9709b6ef409d4733a9f85a6656b6cc45": {
      "model_module": "@jupyter-widgets/controls",
      "model_module_version": "1.5.0",
      "model_name": "HTMLModel",
      "state": {
       "layout": "IPY_MODEL_05b50b6385a34eecbe42979d0d0268c4",
       "style": "IPY_MODEL_32008e98dde942388f4b9e4a1327022d",
       "value": " 5/5 [00:00]"
      }
     },
     "97d412f18bb84043b05de64526f7ff6e": {
      "model_module": "@jupyter-widgets/controls",
      "model_module_version": "1.5.0",
      "model_name": "HTMLModel",
      "state": {
       "layout": "IPY_MODEL_aed8ddb763af453ba1fa0bcfd499b3f3",
       "style": "IPY_MODEL_8ed14f39c4844a028fbab266637b8dba",
       "value": "(RNA) Computing RNA_percentRibo: 100%| "
      }
     },
     "97ed2c0a09a946baabccb7046ca65a5d": {
      "model_module": "@jupyter-widgets/controls",
      "model_module_version": "1.5.0",
      "model_name": "HBoxModel",
      "state": {
       "children": [
        "IPY_MODEL_dfa8f192aba849b58e0850ac58c5b1e9",
        "IPY_MODEL_f5a0ed52b6c0477f8d7bf467878c6b64",
        "IPY_MODEL_1ba0ad2a16064955b888a23451e3b995"
       ],
       "layout": "IPY_MODEL_6565e42994c9424484239eec2d7ed7f8"
      }
     },
     "98dd7ae4caf74820accce7c096e02682": {
      "model_module": "@jupyter-widgets/controls",
      "model_module_version": "1.5.0",
      "model_name": "ProgressStyleModel",
      "state": {
       "bar_color": "#34abeb",
       "description_width": ""
      }
     },
     "9902b17897cc4f02951b5b422a0271aa": {
      "model_module": "@jupyter-widgets/controls",
      "model_module_version": "1.5.0",
      "model_name": "HBoxModel",
      "state": {
       "children": [
        "IPY_MODEL_b07e53a5b9a1469fa8ab39ccd1f71be4",
        "IPY_MODEL_b14612ee64314dcd8d60c4380a7d86b4",
        "IPY_MODEL_bd98a642c20345a1beb84a52b6838ad7"
       ],
       "layout": "IPY_MODEL_5300646c74bc4b78a1d44ea2375a11b3"
      }
     },
     "9b30682a96b34dfe9ceda7cfac0131e9": {
      "model_module": "@jupyter-widgets/base",
      "model_module_version": "1.2.0",
      "model_name": "LayoutModel",
      "state": {}
     },
     "9ca838a9857d482aa16b011c1d35b654": {
      "model_module": "@jupyter-widgets/controls",
      "model_module_version": "1.5.0",
      "model_name": "HTMLModel",
      "state": {
       "layout": "IPY_MODEL_35c9061c5cad4b21a2e7b957b67c5cb5",
       "style": "IPY_MODEL_c8acc917eaf94d17943ce0702889100f",
       "value": " 264/264 [00:00]"
      }
     },
     "9d9dabb6dd3a4f57bd15066b2bde083d": {
      "model_module": "@jupyter-widgets/base",
      "model_module_version": "1.2.0",
      "model_name": "LayoutModel",
      "state": {
       "display": "inline-flex",
       "flex_flow": "row wrap",
       "width": "500px"
      }
     },
     "9ddc3ebbc9374f79852cf9f3a0d6d841": {
      "model_module": "@jupyter-widgets/controls",
      "model_module_version": "1.5.0",
      "model_name": "HTMLModel",
      "state": {
       "layout": "IPY_MODEL_e3730603723f49859d5ded45eae5365c",
       "style": "IPY_MODEL_537aa15f59c245489d2bb5c2a1697404",
       "value": " 228/228 [00:00]"
      }
     },
     "a3ebccea5f464cbd9bdf500352912259": {
      "model_module": "@jupyter-widgets/controls",
      "model_module_version": "1.5.0",
      "model_name": "HBoxModel",
      "state": {
       "children": [
        "IPY_MODEL_93c7e0b72e5e4909943dfce808991898",
        "IPY_MODEL_26ecb7f0c2c347a79beb52e0a3ddbeea",
        "IPY_MODEL_02b18e69139243dfa4cf50e85846b11b"
       ],
       "layout": "IPY_MODEL_2d3a090527b3426d96c043ddc40d0e01"
      }
     },
     "a7287c11e3824df9a2954a29769054a5": {
      "model_module": "@jupyter-widgets/base",
      "model_module_version": "1.2.0",
      "model_name": "LayoutModel",
      "state": {}
     },
     "ab2b99ac5600460bbac447e002292371": {
      "model_module": "@jupyter-widgets/controls",
      "model_module_version": "1.5.0",
      "model_name": "ProgressStyleModel",
      "state": {
       "bar_color": "#34abeb",
       "description_width": ""
      }
     },
     "ae306292349448f08238b80de67b8b10": {
      "model_module": "@jupyter-widgets/controls",
      "model_module_version": "1.5.0",
      "model_name": "HBoxModel",
      "state": {
       "children": [
        "IPY_MODEL_5dd885a37f8e4a64b33e211a0af9f108",
        "IPY_MODEL_de35907209d64d28965768664307d18b",
        "IPY_MODEL_9ddc3ebbc9374f79852cf9f3a0d6d841"
       ],
       "layout": "IPY_MODEL_577cc774ce5f44ea9809f485ca6db9b9"
      }
     },
     "aed8ddb763af453ba1fa0bcfd499b3f3": {
      "model_module": "@jupyter-widgets/base",
      "model_module_version": "1.2.0",
      "model_name": "LayoutModel",
      "state": {}
     },
     "b01b2c77d3154f2ab23d4a6f2eb8ac30": {
      "model_module": "@jupyter-widgets/base",
      "model_module_version": "1.2.0",
      "model_name": "LayoutModel",
      "state": {}
     },
     "b07e53a5b9a1469fa8ab39ccd1f71be4": {
      "model_module": "@jupyter-widgets/controls",
      "model_module_version": "1.5.0",
      "model_name": "HTMLModel",
      "state": {
       "layout": "IPY_MODEL_dfd2a31e7d8048aab866ff152e73bee7",
       "style": "IPY_MODEL_55fa52d8fdd94eda8e312e95814b1095",
       "value": "(RNA) Computing nCells and dropOuts: 100%| "
      }
     },
     "b12436485e834d1aac09631102b8a49e": {
      "model_module": "@jupyter-widgets/base",
      "model_module_version": "1.2.0",
      "model_name": "LayoutModel",
      "state": {}
     },
     "b14612ee64314dcd8d60c4380a7d86b4": {
      "model_module": "@jupyter-widgets/controls",
      "model_module_version": "1.5.0",
      "model_name": "FloatProgressModel",
      "state": {
       "bar_style": "success",
       "layout": "IPY_MODEL_6c5712d48fcf4dd4a244be17b4d0c4a9",
       "max": 252,
       "style": "IPY_MODEL_06a055051d944ff58c5413afc4d96d6a",
       "value": 252
      }
     },
     "b29b414a088c42768753b3fb7ce0fd17": {
      "model_module": "@jupyter-widgets/base",
      "model_module_version": "1.2.0",
      "model_name": "LayoutModel",
      "state": {
       "flex": "2"
      }
     },
     "b433bd747d0141db9c1901efa79ead9a": {
      "model_module": "@jupyter-widgets/controls",
      "model_module_version": "1.5.0",
      "model_name": "HTMLModel",
      "state": {
       "layout": "IPY_MODEL_7f09a6b3c83f404b82b1988510d33c11",
       "style": "IPY_MODEL_1936ca6795524d6c8b6f8dfb5715c608",
       "value": "Downloading 2/3: 100%| "
      }
     },
     "b4f4163290d74999b834248c738c3c62": {
      "model_module": "@jupyter-widgets/base",
      "model_module_version": "1.2.0",
      "model_name": "LayoutModel",
      "state": {}
     },
     "b8260c84f64e48a89e3a46feddb5dbe2": {
      "model_module": "@jupyter-widgets/base",
      "model_module_version": "1.2.0",
      "model_name": "LayoutModel",
      "state": {
       "display": "inline-flex",
       "flex_flow": "row wrap",
       "width": "500px"
      }
     },
     "bbfeab0bd80441bca4c70bdd13d88aed": {
      "model_module": "@jupyter-widgets/controls",
      "model_module_version": "1.5.0",
      "model_name": "DescriptionStyleModel",
      "state": {
       "description_width": ""
      }
     },
     "bd98a642c20345a1beb84a52b6838ad7": {
      "model_module": "@jupyter-widgets/controls",
      "model_module_version": "1.5.0",
      "model_name": "HTMLModel",
      "state": {
       "layout": "IPY_MODEL_fc2c5162458746548922e14b5946f816",
       "style": "IPY_MODEL_3b26e2595da249d79ceefd4b6a00706d",
       "value": " 252/252 [00:00]"
      }
     },
     "beadbd1e694f467fa90e362d29f5f508": {
      "model_module": "@jupyter-widgets/controls",
      "model_module_version": "1.5.0",
      "model_name": "FloatProgressModel",
      "state": {
       "bar_style": "success",
       "layout": "IPY_MODEL_80139baa8b114d56874c82842ffb2cb5",
       "max": 5,
       "style": "IPY_MODEL_c21225e9ff8041559d4d7903e40c9f2f",
       "value": 5
      }
     },
     "c21225e9ff8041559d4d7903e40c9f2f": {
      "model_module": "@jupyter-widgets/controls",
      "model_module_version": "1.5.0",
      "model_name": "ProgressStyleModel",
      "state": {
       "bar_color": "#34abeb",
       "description_width": ""
      }
     },
     "c494092f77714e2e8a61891a1bcfbac5": {
      "model_module": "@jupyter-widgets/controls",
      "model_module_version": "1.5.0",
      "model_name": "FloatProgressModel",
      "state": {
       "bar_style": "success",
       "layout": "IPY_MODEL_47f949b045ff4b18899f3989427fbdff",
       "max": 264,
       "style": "IPY_MODEL_3b0f5d47be71496281cb2d2c94adb337",
       "value": 264
      }
     },
     "c8acc917eaf94d17943ce0702889100f": {
      "model_module": "@jupyter-widgets/controls",
      "model_module_version": "1.5.0",
      "model_name": "DescriptionStyleModel",
      "state": {
       "description_width": ""
      }
     },
     "cbb35ae2178f43a1ae4334885b42b6a6": {
      "model_module": "@jupyter-widgets/controls",
      "model_module_version": "1.5.0",
      "model_name": "HBoxModel",
      "state": {
       "children": [
        "IPY_MODEL_87e0d8cab1564d6587b134b7de221893",
        "IPY_MODEL_1fa82dc7b09f44dab092bcfb13cef26e",
        "IPY_MODEL_4c74d20fe26d40dfb46244783a1637b2"
       ],
       "layout": "IPY_MODEL_4b189954181347dba25abf6074d5fc2d"
      }
     },
     "cdf11d7f791644d592e20745dc85fc37": {
      "model_module": "@jupyter-widgets/controls",
      "model_module_version": "1.5.0",
      "model_name": "FloatProgressModel",
      "state": {
       "bar_style": "success",
       "layout": "IPY_MODEL_8e868e4f8996420e96f2169607b24efc",
       "max": 264,
       "style": "IPY_MODEL_95e8f3861e00473697d4b72fdb7b8e1d",
       "value": 264
      }
     },
     "ce3ab741049347198dfeedb9471a63d9": {
      "model_module": "@jupyter-widgets/controls",
      "model_module_version": "1.5.0",
      "model_name": "DescriptionStyleModel",
      "state": {
       "description_width": ""
      }
     },
     "cfb7afcaf77d4cb99782a56fd845a824": {
      "model_module": "@jupyter-widgets/base",
      "model_module_version": "1.2.0",
      "model_name": "LayoutModel",
      "state": {}
     },
     "d0e53ab14dc64e8a92aae7c998498f7f": {
      "model_module": "@jupyter-widgets/controls",
      "model_module_version": "1.5.0",
      "model_name": "HTMLModel",
      "state": {
       "layout": "IPY_MODEL_79179674067340c7943d9de1801fd825",
       "style": "IPY_MODEL_f4fc701031a0414ab3d9b18702b6d5f9",
       "value": "(RNA) Computing nCounts: 100%| "
      }
     },
     "d162e07011de4c8c870ab26b67142dd8": {
      "model_module": "@jupyter-widgets/controls",
      "model_module_version": "1.5.0",
      "model_name": "FloatProgressModel",
      "state": {
       "bar_style": "success",
       "layout": "IPY_MODEL_3fa8e0adef194132b48fb5a43fedda23",
       "max": 4,
       "style": "IPY_MODEL_ab2b99ac5600460bbac447e002292371",
       "value": 4
      }
     },
     "d2c48705aba64912a541862e2fe4d520": {
      "model_module": "@jupyter-widgets/base",
      "model_module_version": "1.2.0",
      "model_name": "LayoutModel",
      "state": {
       "flex": "2"
      }
     },
     "d3d6b529d0774179a71248ac1880bb1c": {
      "model_module": "@jupyter-widgets/controls",
      "model_module_version": "1.5.0",
      "model_name": "DescriptionStyleModel",
      "state": {
       "description_width": ""
      }
     },
     "d7150c282a34472cb04d47a3df5b79ee": {
      "model_module": "@jupyter-widgets/base",
      "model_module_version": "1.2.0",
      "model_name": "LayoutModel",
      "state": {}
     },
     "d7e19ae840e64dfc971c23bf8ece4b0e": {
      "model_module": "@jupyter-widgets/base",
      "model_module_version": "1.2.0",
      "model_name": "LayoutModel",
      "state": {
       "display": "inline-flex",
       "flex_flow": "row wrap",
       "width": "500px"
      }
     },
     "dc9a6888199b4423b73953b1dbd00b24": {
      "model_module": "@jupyter-widgets/controls",
      "model_module_version": "1.5.0",
      "model_name": "HBoxModel",
      "state": {
       "children": [
        "IPY_MODEL_31c1180f77b4413bbb0b50c78a5b2794",
        "IPY_MODEL_d162e07011de4c8c870ab26b67142dd8",
        "IPY_MODEL_37065047976a4f0b8d4ea792b74bcb5a"
       ],
       "layout": "IPY_MODEL_dd744e1ba9e34fdab3942b87c75ce476"
      }
     },
     "dd744e1ba9e34fdab3942b87c75ce476": {
      "model_module": "@jupyter-widgets/base",
      "model_module_version": "1.2.0",
      "model_name": "LayoutModel",
      "state": {
       "display": "inline-flex",
       "flex_flow": "row wrap",
       "width": "500px"
      }
     },
     "de35907209d64d28965768664307d18b": {
      "model_module": "@jupyter-widgets/controls",
      "model_module_version": "1.5.0",
      "model_name": "FloatProgressModel",
      "state": {
       "bar_style": "success",
       "layout": "IPY_MODEL_edb0a0c607ff47d992fbab4d349e4d73",
       "max": 228,
       "style": "IPY_MODEL_fb0ffba6924a44ab880392a7d3dd107d",
       "value": 228
      }
     },
     "dea4980c246e4b91bc5a146ac03bbe58": {
      "model_module": "@jupyter-widgets/controls",
      "model_module_version": "1.5.0",
      "model_name": "DescriptionStyleModel",
      "state": {
       "description_width": ""
      }
     },
     "dedad1ad7cf14e90a063a9e1e99499e3": {
      "model_module": "@jupyter-widgets/controls",
      "model_module_version": "1.5.0",
      "model_name": "FloatProgressModel",
      "state": {
       "bar_style": "success",
       "layout": "IPY_MODEL_b29b414a088c42768753b3fb7ce0fd17",
       "max": 1,
       "style": "IPY_MODEL_67b46844622f43d39278052079b4596e",
       "value": 1
      }
     },
     "dfa8f192aba849b58e0850ac58c5b1e9": {
      "model_module": "@jupyter-widgets/controls",
      "model_module_version": "1.5.0",
      "model_name": "HTMLModel",
      "state": {
       "layout": "IPY_MODEL_3df8cf6c2b9b40aab56540e912292907",
       "style": "IPY_MODEL_13effc48556c4bdbbc0889d51b7cf0a5",
       "value": "100%| "
      }
     },
     "dfd2a31e7d8048aab866ff152e73bee7": {
      "model_module": "@jupyter-widgets/base",
      "model_module_version": "1.2.0",
      "model_name": "LayoutModel",
      "state": {}
     },
     "e11046d358d64ec4898f88864ef52bcd": {
      "model_module": "@jupyter-widgets/base",
      "model_module_version": "1.2.0",
      "model_name": "LayoutModel",
      "state": {
       "flex": "2"
      }
     },
     "e21959a1dae84e5cbb687d46222422cd": {
      "model_module": "@jupyter-widgets/controls",
      "model_module_version": "1.5.0",
      "model_name": "HTMLModel",
      "state": {
       "layout": "IPY_MODEL_80e0c7bfceb34b39b6eda03788de1c55",
       "style": "IPY_MODEL_31cfb22397c047d5b163a60fda8a4f3d",
       "value": " 2/2 [00:00]"
      }
     },
     "e3730603723f49859d5ded45eae5365c": {
      "model_module": "@jupyter-widgets/base",
      "model_module_version": "1.2.0",
      "model_name": "LayoutModel",
      "state": {}
     },
     "e416aad0dadd42cf8b47562cbaf22806": {
      "model_module": "@jupyter-widgets/controls",
      "model_module_version": "1.5.0",
      "model_name": "FloatProgressModel",
      "state": {
       "bar_style": "success",
       "layout": "IPY_MODEL_6a11e7aa1a8e413fa3fe0869ee8a8983",
       "max": 2,
       "style": "IPY_MODEL_43b5331dab8948f882aec64e6e1ab1c7",
       "value": 2
      }
     },
     "e49ccd594e7343d487184059eb9d9fdb": {
      "model_module": "@jupyter-widgets/controls",
      "model_module_version": "1.5.0",
      "model_name": "HTMLModel",
      "state": {
       "layout": "IPY_MODEL_01724b721ebf435d86a0fc27845af2f7",
       "style": "IPY_MODEL_dea4980c246e4b91bc5a146ac03bbe58",
       "value": " 6/6 [00:05]"
      }
     },
     "e4ea8433056d4bf7a8823771d535eb58": {
      "model_module": "@jupyter-widgets/base",
      "model_module_version": "1.2.0",
      "model_name": "LayoutModel",
      "state": {}
     },
     "e61df5bbe29a43e0a7f9a7196e4d4562": {
      "model_module": "@jupyter-widgets/controls",
      "model_module_version": "1.5.0",
      "model_name": "HBoxModel",
      "state": {
       "children": [
        "IPY_MODEL_74bbf2849f7f479f929eb1609cf9fe3a",
        "IPY_MODEL_e416aad0dadd42cf8b47562cbaf22806",
        "IPY_MODEL_e21959a1dae84e5cbb687d46222422cd"
       ],
       "layout": "IPY_MODEL_05dbf4bc929f4ce6ae209271fbc0963a"
      }
     },
     "ebadc018b3ae479dbee43d68591b4f53": {
      "model_module": "@jupyter-widgets/controls",
      "model_module_version": "1.5.0",
      "model_name": "DescriptionStyleModel",
      "state": {
       "description_width": ""
      }
     },
     "ec81c6cb4b834db9a5a214e6a161f709": {
      "model_module": "@jupyter-widgets/base",
      "model_module_version": "1.2.0",
      "model_name": "LayoutModel",
      "state": {}
     },
     "edb0a0c607ff47d992fbab4d349e4d73": {
      "model_module": "@jupyter-widgets/base",
      "model_module_version": "1.2.0",
      "model_name": "LayoutModel",
      "state": {
       "flex": "2"
      }
     },
     "efffde2b907c42209ca18c53c8bd4f4b": {
      "model_module": "@jupyter-widgets/base",
      "model_module_version": "1.2.0",
      "model_name": "LayoutModel",
      "state": {}
     },
     "f02fd702780b4b8082d41ca90fb9bd15": {
      "model_module": "@jupyter-widgets/controls",
      "model_module_version": "1.5.0",
      "model_name": "ProgressStyleModel",
      "state": {
       "bar_color": "#34abeb",
       "description_width": ""
      }
     },
     "f364c65c4a524f87a320a6da8a4cf031": {
      "model_module": "@jupyter-widgets/controls",
      "model_module_version": "1.5.0",
      "model_name": "HBoxModel",
      "state": {
       "children": [
        "IPY_MODEL_86c9d0fc2ee8478e9871412704b37136",
        "IPY_MODEL_c494092f77714e2e8a61891a1bcfbac5",
        "IPY_MODEL_573b7fdcf9994f609a787ca3d8bd2831"
       ],
       "layout": "IPY_MODEL_46427623de994e119102e82c22e3bda3"
      }
     },
     "f4fc701031a0414ab3d9b18702b6d5f9": {
      "model_module": "@jupyter-widgets/controls",
      "model_module_version": "1.5.0",
      "model_name": "DescriptionStyleModel",
      "state": {
       "description_width": ""
      }
     },
     "f5a0ed52b6c0477f8d7bf467878c6b64": {
      "model_module": "@jupyter-widgets/controls",
      "model_module_version": "1.5.0",
      "model_name": "FloatProgressModel",
      "state": {
       "bar_style": "success",
       "layout": "IPY_MODEL_1794c8d95edd4fa693813758d5c50c01",
       "max": 4,
       "style": "IPY_MODEL_0542d961891244d39094c832de85b64f",
       "value": 4
      }
     },
     "f79bdb3da2cc49888b0c799500fea32d": {
      "model_module": "@jupyter-widgets/controls",
      "model_module_version": "1.5.0",
      "model_name": "FloatProgressModel",
      "state": {
       "bar_style": "success",
       "layout": "IPY_MODEL_52c5ec5f8fb540f2baedde7b0f2ca176",
       "max": 11,
       "style": "IPY_MODEL_0def77c4e34a40eba7a08f49c10ee31d",
       "value": 11
      }
     },
     "f8e5095138604b68a5f419f50bea3d8a": {
      "model_module": "@jupyter-widgets/controls",
      "model_module_version": "1.5.0",
      "model_name": "DescriptionStyleModel",
      "state": {
       "description_width": ""
      }
     },
     "fa29f052b70c44f9825121038c2e1687": {
      "model_module": "@jupyter-widgets/base",
      "model_module_version": "1.2.0",
      "model_name": "LayoutModel",
      "state": {}
     },
     "fac88aa7302b4594ac47ac53d1726d9f": {
      "model_module": "@jupyter-widgets/controls",
      "model_module_version": "1.5.0",
      "model_name": "DescriptionStyleModel",
      "state": {
       "description_width": ""
      }
     },
     "fb0ffba6924a44ab880392a7d3dd107d": {
      "model_module": "@jupyter-widgets/controls",
      "model_module_version": "1.5.0",
      "model_name": "ProgressStyleModel",
      "state": {
       "bar_color": "#34abeb",
       "description_width": ""
      }
     },
     "fbb380e3e3dc42e6a655e9e260902f00": {
      "model_module": "@jupyter-widgets/controls",
      "model_module_version": "1.5.0",
      "model_name": "HTMLModel",
      "state": {
       "layout": "IPY_MODEL_efffde2b907c42209ca18c53c8bd4f4b",
       "style": "IPY_MODEL_bbfeab0bd80441bca4c70bdd13d88aed",
       "value": " 264/264 [00:00]"
      }
     },
     "fc2c5162458746548922e14b5946f816": {
      "model_module": "@jupyter-widgets/base",
      "model_module_version": "1.2.0",
      "model_name": "LayoutModel",
      "state": {}
     },
     "fcb72f70d21149f08e924e7f0b4c9822": {
      "model_module": "@jupyter-widgets/base",
      "model_module_version": "1.2.0",
      "model_name": "LayoutModel",
      "state": {}
     },
     "fde5133d80d94d5abfa3e30e7fc1ee71": {
      "model_module": "@jupyter-widgets/controls",
      "model_module_version": "1.5.0",
      "model_name": "DescriptionStyleModel",
      "state": {
       "description_width": ""
      }
     },
     "ff781f153cec45ff8ce5d6a4939b06ee": {
      "model_module": "@jupyter-widgets/controls",
      "model_module_version": "1.5.0",
      "model_name": "DescriptionStyleModel",
      "state": {
       "description_width": ""
      }
     }
    },
    "version_major": 2,
    "version_minor": 0
   }
  }
 },
 "nbformat": 4,
 "nbformat_minor": 5
}
