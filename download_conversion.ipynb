{
 "cells": [
  {
   "cell_type": "markdown",
   "metadata": {},
   "source": [
    "## Data import and export in Scarf"
   ]
  },
  {
   "cell_type": "code",
   "execution_count": 1,
   "metadata": {},
   "outputs": [
    {
     "data": {
      "text/plain": [
       "'0.7.2'"
      ]
     },
     "execution_count": 1,
     "metadata": {},
     "output_type": "execute_result"
    },
    {
     "name": "stdout",
     "output_type": "stream",
     "text": [
      "time: 814 ms\n"
     ]
    }
   ],
   "source": [
    "%load_ext autotime\n",
    "\n",
    "import scarf\n",
    "scarf.__version__"
   ]
  },
  {
   "cell_type": "markdown",
   "metadata": {},
   "source": [
    "---\n",
    "### 1) Fetch fetch datsets from cloud repository\n",
    "\n",
    "Scarf stores many single-cell datasets online on [OSF](https://osf.io/zeupv/). Herein datasets are stored in many different foramts including MTX, 10x HDF5 and H5ad(anndata). These files can readily be downlaoded using Scarf's `fetch_dataset` command."
   ]
  },
  {
   "cell_type": "markdown",
   "metadata": {},
   "source": [
    "To check which datasets are available to download you use `show_available_datasets` function"
   ]
  },
  {
   "cell_type": "code",
   "execution_count": 2,
   "metadata": {},
   "outputs": [
    {
     "name": "stdout",
     "output_type": "stream",
     "text": [
      "baron_8K_pancreas_rnaseq\n",
      "muraro_2K_pancreas_rnaseq\n",
      "segerstolpe_2K_pancreas_rnaseq\n",
      "xin_1K_pancreas_rnaseq\n",
      "zheng_69K_pbmc_rnaseq\n",
      "cao_2.1M_moca_rnaseq\n",
      "zeisel_161K_nervous_rnaseq\n",
      "hca_783K_blood_rnaseq\n",
      "tenx_8K_pbmc_citeseq\n",
      "tenx_1.3M_brain_rnaseq\n",
      "kang_15K_pbmc_rnaseq\n",
      "kang_14K_ifnb-pbmc_rnaseq\n",
      "bastidas-ponce_4K_pancreas-d15_rnaseq\n",
      "tenx_10K_pbmc_atacseq\n",
      "saunders_110K_brain_rnaseq\n",
      "cusanovich_81K_mouse_atacseq\n",
      "tenx_5K_pbmc_rnaseq\n",
      "time: 819 ms\n"
     ]
    }
   ],
   "source": [
    "scarf.show_available_datasets()"
   ]
  },
  {
   "cell_type": "markdown",
   "metadata": {},
   "source": [
    "**Naming format**: Datasets are named using this rule: \\<author\\>_\\<number of cells\\>_\\<cell/tissue type or species\\>_\\<single-cell method>\n",
    "\n",
    "Now using any of these dataset names we can download the dataset of our choice:"
   ]
  },
  {
   "cell_type": "code",
   "execution_count": 3,
   "metadata": {},
   "outputs": [
    {
     "name": "stdout",
     "output_type": "stream",
     "text": [
      "\u001b[1mINFO\u001b[0m: Download started...\n",
      "\u001b[1mINFO\u001b[0m: Download finished! File saved here: ./scarf_datasets/tenx_10K_pbmc_atacseq/data.h5\n",
      "time: 2.52 s\n"
     ]
    }
   ],
   "source": [
    "# This dataset is in Cellranger (10x) HDF5 format.\n",
    "scarf.fetch_dataset('tenx_10K_pbmc_atacseq', save_path='./scarf_datasets')"
   ]
  },
  {
   "cell_type": "markdown",
   "metadata": {},
   "source": [
    "The above dataset gets saved under the directory `scarf_datasets` in our current working directory. You can modify `save_path` parameter to save data in location of your choice. The dataset above was downloaded in 10x' HDF5 format. Let download few more datasets that are in differnet file formats."
   ]
  },
  {
   "cell_type": "code",
   "execution_count": 4,
   "metadata": {},
   "outputs": [
    {
     "name": "stdout",
     "output_type": "stream",
     "text": [
      "\u001b[1mINFO\u001b[0m: Download started...\n",
      "\u001b[1mINFO\u001b[0m: Download finished! File saved here: ./scarf_datasets/xin_1K_pancreas_rnaseq/barcodes.tsv.gz\n",
      "\u001b[1mINFO\u001b[0m: Download started...\n",
      "\u001b[1mINFO\u001b[0m: Download finished! File saved here: ./scarf_datasets/xin_1K_pancreas_rnaseq/features.tsv.gz\n",
      "\u001b[1mINFO\u001b[0m: Download started...\n",
      "\u001b[1mINFO\u001b[0m: Download finished! File saved here: ./scarf_datasets/xin_1K_pancreas_rnaseq/matrix.mtx.gz\n",
      "time: 5.1 s\n"
     ]
    }
   ],
   "source": [
    "# This dataset is in MTX format along with barcodes and features TSV files.\n",
    "scarf.fetch_dataset('xin_1K_pancreas_rnaseq', save_path='./scarf_datasets')"
   ]
  },
  {
   "cell_type": "code",
   "execution_count": 5,
   "metadata": {},
   "outputs": [
    {
     "name": "stdout",
     "output_type": "stream",
     "text": [
      "\u001b[1mINFO\u001b[0m: Download started...\n",
      "\u001b[1mINFO\u001b[0m: Download finished! File saved here: ./scarf_datasets/bastidas-ponce_4K_pancreas-d15_rnaseq/data.h5ad\n",
      "time: 2.15 s\n"
     ]
    }
   ],
   "source": [
    "# This dataset is in H5ad (anndata) format.\n",
    "scarf.fetch_dataset('bastidas-ponce_4K_pancreas-d15_rnaseq', save_path='./scarf_datasets')"
   ]
  },
  {
   "cell_type": "markdown",
   "metadata": {},
   "source": [
    "---\n",
    "### 2) Conversion to Scarf's Zarr format file\n",
    "\n",
    "Scarf stores data as dense, compressed chunks in Zarr file format. `scarf.readers` and `scarf.writers` modules contain classes that allow reading many different file formats and convert them to Zarr. There are oftent complementary reader and writer classes. Let's exploter them below."
   ]
  },
  {
   "cell_type": "markdown",
   "metadata": {},
   "source": [
    "#### From 10x's HDF5 file format\n",
    "\n",
    "\n",
    "`scarf.CrDirReader` function "
   ]
  },
  {
   "cell_type": "code",
   "execution_count": 6,
   "metadata": {},
   "outputs": [
    {
     "name": "stderr",
     "output_type": "stream",
     "text": [
      "100%|██████████| 10/10 [00:11<00:00,  1.18s/it]"
     ]
    },
    {
     "name": "stdout",
     "output_type": "stream",
     "text": [
      "time: 12.1 s\n"
     ]
    },
    {
     "name": "stderr",
     "output_type": "stream",
     "text": [
      "\n"
     ]
    }
   ],
   "source": [
    "# Change file_type to 'rna' in case of sc-RNA-seq or CITE-Seq\n",
    "reader = scarf.CrH5Reader('scarf_datasets/tenx_10K_pbmc_atacseq/data.h5', file_type='atac')\n",
    "\n",
    "writer = scarf.CrToZarr(reader, zarr_fn='scarf_datasets/pbmc_atac.zarr')  # change value of `zarr_fn` to your choice of filename and path\n",
    "writer.dump()"
   ]
  },
  {
   "cell_type": "markdown",
   "metadata": {},
   "source": [
    "#### From 10x's (Cellranger) MTX file format\n",
    "\n",
    "`scarf.CrDirReader` class reads MTX files generated by Cellranger pipeline. `CrDirReader` stands for 'Cellranger directory reader'. Once read in the data can be dumped into Zarr format using `scarf.CrToZarr` class. Following is an example of how to do this conversion:"
   ]
  },
  {
   "cell_type": "code",
   "execution_count": 7,
   "metadata": {},
   "outputs": [
    {
     "name": "stdout",
     "output_type": "stream",
     "text": [
      "\u001b[33m\u001b[1mWARNING\u001b[0m: feature_types extraction failed from features.tsv.gz in column 2\n"
     ]
    },
    {
     "name": "stderr",
     "output_type": "stream",
     "text": [
      "100%|██████████| 2/2 [00:02<00:00,  1.37s/it]"
     ]
    },
    {
     "name": "stdout",
     "output_type": "stream",
     "text": [
      "time: 2.92 s\n"
     ]
    },
    {
     "name": "stderr",
     "output_type": "stream",
     "text": [
      "\n"
     ]
    }
   ],
   "source": [
    " # Note here we only give name of directory containing MTX file (along with barcodes and features file)\n",
    "reader = scarf.CrDirReader('scarf_datasets/xin_1K_pancreas_rnaseq', file_type='rna')\n",
    "\n",
    "writer = scarf.CrToZarr(reader, zarr_fn='scarf_datasets/xin_1K.zarr')  # change value of `zarr_fn` to your choice of filename and path\n",
    "writer.dump()"
   ]
  },
  {
   "cell_type": "markdown",
   "metadata": {},
   "source": [
    "#### From Anndata H5ad file format\n",
    "\n",
    "`scarf.CrDirReader` class reads MTX files generated by Cellranger pipeline. `CrDirReader` stands for 'Cellranger directory reader'. Once read in the data can be dumped into Zarr format using `scarf.CrToZarr` class. Following is an example of how to do this conversion:"
   ]
  },
  {
   "cell_type": "code",
   "execution_count": 8,
   "metadata": {},
   "outputs": [
    {
     "name": "stdout",
     "output_type": "stream",
     "text": [
      "\u001b[1mINFO\u001b[0m: `X` slot in H5ad file has unequal sized child groups\n",
      "\u001b[1mINFO\u001b[0m: No value provided for assay names. Will use default value: 'RNA'\n"
     ]
    },
    {
     "name": "stderr",
     "output_type": "stream",
     "text": [
      "Reading attributes from group obs: 100%|██████████| 5/5 [00:00<00:00, 197.63it/s]"
     ]
    },
    {
     "name": "stdout",
     "output_type": "stream",
     "text": [
      "\u001b[33m\u001b[1mWARNING\u001b[0m: Could not find feature names key: gene_short_name in `var`.\n"
     ]
    },
    {
     "name": "stderr",
     "output_type": "stream",
     "text": [
      "\n",
      "Reading attributes from group var: 100%|██████████| 2/2 [00:00<00:00, 74.68it/s]\n",
      "100%|██████████| 4/4 [00:01<00:00,  3.33it/s]"
     ]
    },
    {
     "name": "stdout",
     "output_type": "stream",
     "text": [
      "time: 1.34 s\n"
     ]
    },
    {
     "name": "stderr",
     "output_type": "stream",
     "text": [
      "\n"
     ]
    }
   ],
   "source": [
    " # Note here we only give name of directory containing MTX file (along with barcodes and features file)\n",
    "reader = scarf.H5adReader('scarf_datasets/bastidas-ponce_4K_pancreas-d15_rnaseq/data.h5ad', \n",
    "                          cell_ids_key = 'index',               # Where Cell/barcode ids are saved under 'obs' slot\n",
    "                          feature_ids_key = 'index',            # Where gene ids are saved under 'var' slot\n",
    "                          feature_name_key = 'gene_short_name')  # Where gene names are saved under 'var' slot\n",
    "\n",
    "writer = scarf.H5adToZarr(reader, zarr_fn='scarf_datasets/differentiating_pancreatic_cells.zarr') # change value of `zarr_fn` to your choice of filename and path\n",
    "writer.dump()"
   ]
  },
  {
   "cell_type": "markdown",
   "metadata": {},
   "source": [
    "Conversion from **Loom** file formats is also supported using `scarf.LoomReader` and `scarf.LoomToZarr` which can be used in similar fashion as other readers and writers."
   ]
  },
  {
   "cell_type": "markdown",
   "metadata": {},
   "source": [
    "---\n",
    "### 3) Exporting to data from Zarr file format"
   ]
  },
  {
   "cell_type": "markdown",
   "metadata": {},
   "source": [
    "#### To Cellranger (10x) MTX format"
   ]
  },
  {
   "cell_type": "code",
   "execution_count": 9,
   "metadata": {},
   "outputs": [
    {
     "name": "stdout",
     "output_type": "stream",
     "text": [
      "\u001b[1mINFO\u001b[0m: Setting assay RNA to assay type: RNAassay\n",
      "\u001b[1mINFO\u001b[0m: (RNA) Computing nCells and dropOuts\n",
      "[########################################] | 100% Completed |  0.4s\n",
      "\u001b[1mINFO\u001b[0m: (RNA) Computing nCounts\n",
      "[########################################] | 100% Completed |  0.4s\n",
      "\u001b[1mINFO\u001b[0m: (RNA) Computing nFeatures\n",
      "[########################################] | 100% Completed |  0.4s\n",
      "\u001b[1mINFO\u001b[0m: Computing percentage of RNA_percentMito\n",
      "[########################################] | 100% Completed |  0.3s\n",
      "\u001b[1mINFO\u001b[0m: Computing percentage of RNA_percentRibo\n",
      "[########################################] | 100% Completed |  0.3s\n",
      "time: 2.13 s\n"
     ]
    }
   ],
   "source": [
    "ds = scarf.DataStore('scarf_datasets/differentiating_pancreatic_cells.zarr')"
   ]
  },
  {
   "cell_type": "code",
   "execution_count": 10,
   "metadata": {},
   "outputs": [
    {
     "name": "stderr",
     "output_type": "stream",
     "text": [
      "100%|██████████| 4/4 [00:09<00:00,  2.41s/it]"
     ]
    },
    {
     "name": "stdout",
     "output_type": "stream",
     "text": [
      "time: 9.78 s\n"
     ]
    },
    {
     "name": "stderr",
     "output_type": "stream",
     "text": [
      "\n"
     ]
    }
   ],
   "source": [
    "scarf.writers.to_mtx(ds.RNA, mtx_directory='scarf_datasets/diff_pancreas')"
   ]
  },
  {
   "cell_type": "markdown",
   "metadata": {},
   "source": [
    "#### To H5ad format\n",
    "\n",
    "Conversion to H5ad is the preferred mode as it runs much faster and produces files with smaller footprints. Updates are underway to include all the data from Zarr file like,  UMAP, PCA and graph into anndata"
   ]
  },
  {
   "cell_type": "code",
   "execution_count": 11,
   "metadata": {},
   "outputs": [
    {
     "name": "stdout",
     "output_type": "stream",
     "text": [
      "time: 12.4 ms\n"
     ]
    }
   ],
   "source": [
    "ds = scarf.DataStore('scarf_datasets/differentiating_pancreatic_cells.zarr')"
   ]
  },
  {
   "cell_type": "code",
   "execution_count": 12,
   "metadata": {},
   "outputs": [
    {
     "name": "stderr",
     "output_type": "stream",
     "text": [
      "100%|██████████| 4/4 [00:02<00:00,  1.65it/s]"
     ]
    },
    {
     "name": "stdout",
     "output_type": "stream",
     "text": [
      "time: 2.49 s\n"
     ]
    },
    {
     "name": "stderr",
     "output_type": "stream",
     "text": [
      "\n"
     ]
    }
   ],
   "source": [
    "scarf.writers.to_h5ad(ds.RNA, h5ad_filename='scarf_datasets/diff_pancreas.h5ad')"
   ]
  },
  {
   "cell_type": "markdown",
   "metadata": {},
   "source": [
    "Finally, let's have a look at all the files that now exist in the our previously empty scarf_datasets directory"
   ]
  },
  {
   "cell_type": "code",
   "execution_count": 13,
   "metadata": {},
   "outputs": [
    {
     "name": "stdout",
     "output_type": "stream",
     "text": [
      "\u001b[0m\u001b[01;34mscarf_datasets/bastidas-ponce_4K_pancreas-d15_rnaseq\u001b[0m/\n",
      "\u001b[01;34mscarf_datasets/differentiating_pancreatic_cells.zarr\u001b[0m/\n",
      "\u001b[01;34mscarf_datasets/diff_pancreas\u001b[0m/\n",
      "scarf_datasets/diff_pancreas.h5ad\n",
      "\u001b[01;34mscarf_datasets/pbmc_atac.zarr\u001b[0m/\n",
      "\u001b[01;34mscarf_datasets/tenx_10K_pbmc_atacseq\u001b[0m/\n",
      "\u001b[01;34mscarf_datasets/xin_1K_pancreas_rnaseq\u001b[0m/\n",
      "\u001b[01;34mscarf_datasets/xin_1K.zarr\u001b[0m/\n",
      "time: 136 ms\n"
     ]
    }
   ],
   "source": [
    "ls -d scarf_datasets/*"
   ]
  },
  {
   "cell_type": "markdown",
   "metadata": {},
   "source": [
    "---\n",
    "That is all for this vignette."
   ]
  }
 ],
 "metadata": {
  "jupytext": {
   "formats": "ipynb,md"
  },
  "kernelspec": {
   "display_name": "Python 3",
   "language": "python",
   "name": "python3"
  },
  "language_info": {
   "codemirror_mode": {
    "name": "ipython",
    "version": 3
   },
   "file_extension": ".py",
   "mimetype": "text/x-python",
   "name": "python",
   "nbconvert_exporter": "python",
   "pygments_lexer": "ipython3",
   "version": "3.8.5"
  }
 },
 "nbformat": 4,
 "nbformat_minor": 4
}
