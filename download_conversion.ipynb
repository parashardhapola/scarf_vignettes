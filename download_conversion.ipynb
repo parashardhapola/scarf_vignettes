{
 "cells": [
  {
   "cell_type": "markdown",
   "metadata": {},
   "source": [
    "## Data import and export in Scarf"
   ]
  },
  {
   "cell_type": "code",
   "execution_count": 1,
   "metadata": {},
   "outputs": [
    {
     "data": {
      "text/plain": [
       "'0.8.2'"
      ]
     },
     "execution_count": 1,
     "metadata": {},
     "output_type": "execute_result"
    },
    {
     "name": "stdout",
     "output_type": "stream",
     "text": [
      "time: 1.33 s\n"
     ]
    }
   ],
   "source": [
    "%load_ext autotime\n",
    "\n",
    "import scarf\n",
    "scarf.__version__"
   ]
  },
  {
   "cell_type": "markdown",
   "metadata": {},
   "source": [
    "---\n",
    "### 1) Fetch datsets from cloud repository\n",
    "\n",
    "Scarf stores many single-cell datasets online on [OSF](https://osf.io/zeupv/). Herein datasets are stored in many different formats including MTX, 10x HDF5 and H5ad(anndata). These files can readily be downloaded using Scarf's `fetch_dataset` command."
   ]
  },
  {
   "cell_type": "markdown",
   "metadata": {},
   "source": [
    "To check which datasets are available to download, use the `show_available_datasets` function:"
   ]
  },
  {
   "cell_type": "code",
   "execution_count": 2,
   "metadata": {},
   "outputs": [
    {
     "name": "stdout",
     "output_type": "stream",
     "text": [
      "baron_8K_pancreas_rnaseq\n",
      "bastidas-ponce_4K_pancreas-d15_rnaseq\n",
      "cao_2.1M_moca_rnaseq\n",
      "cao_4.9M_fetal_rnaseq\n",
      "cusanovich_81K_mouse_atacseq\n",
      "domcke_721K_fetal_atacseq\n",
      "hca_783K_blood_rnaseq\n",
      "kang_14K_ifnb-pbmc_rnaseq\n",
      "kang_15K_pbmc_rnaseq\n",
      "muraro_2K_pancreas_rnaseq\n",
      "saunders_110K_brain_rnaseq\n",
      "segerstolpe_2K_pancreas_rnaseq\n",
      "tenx_1.3M_brain_rnaseq\n",
      "tenx_10K_pbmc_atacseq\n",
      "tenx_5K_pbmc_rnaseq\n",
      "tenx_8K_pbmc_citeseq\n",
      "xin_1K_pancreas_rnaseq\n",
      "zeisel_161K_nervous_rnaseq\n",
      "zheng_69K_pbmc_rnaseq\n",
      "time: 5.62 s\n"
     ]
    }
   ],
   "source": [
    "scarf.show_available_datasets()"
   ]
  },
  {
   "cell_type": "markdown",
   "metadata": {},
   "source": [
    "**Naming format**: Datasets are named using this rule: \\<author\\>\\_\\<number of cells\\>\\_\\<cell/tissue type or species\\>\\_\\<single-cell method>\n",
    "\n",
    "Now using any of these dataset names we can download the dataset of our choice:"
   ]
  },
  {
   "cell_type": "code",
   "execution_count": 3,
   "metadata": {},
   "outputs": [
    {
     "name": "stdout",
     "output_type": "stream",
     "text": [
      "\u001b[1mINFO\u001b[0m: Download started...\n",
      "\u001b[1mINFO\u001b[0m: Download finished! File saved here: C:\\Users\\parashar\\Desktop\\scarf\\docs\\source\\vignettes\\scarf_datasets\\tenx_10K_pbmc_atacseq\\data.h5\n",
      "time: 13.8 s\n"
     ]
    }
   ],
   "source": [
    "# This dataset is in Cellranger (10x) HDF5 format.\n",
    "scarf.fetch_dataset('tenx_10K_pbmc_atacseq', save_path='./scarf_datasets')"
   ]
  },
  {
   "cell_type": "markdown",
   "metadata": {},
   "source": [
    "The above dataset gets saved under the directory `scarf_datasets` in our current working directory. You can modify `save_path` parameter to save data in location of your choice. The dataset above was downloaded in 10x's HDF5 format. Let download few more datasets that are in differnet file formats."
   ]
  },
  {
   "cell_type": "code",
   "execution_count": 4,
   "metadata": {},
   "outputs": [
    {
     "name": "stdout",
     "output_type": "stream",
     "text": [
      "\u001b[1mINFO\u001b[0m: Download started...\n",
      "\u001b[1mINFO\u001b[0m: Download finished! File saved here: C:\\Users\\parashar\\Desktop\\scarf\\docs\\source\\vignettes\\scarf_datasets\\xin_1K_pancreas_rnaseq\\barcodes.tsv.gz\n",
      "\u001b[1mINFO\u001b[0m: Download started...\n",
      "\u001b[1mINFO\u001b[0m: Download finished! File saved here: C:\\Users\\parashar\\Desktop\\scarf\\docs\\source\\vignettes\\scarf_datasets\\xin_1K_pancreas_rnaseq\\features.tsv.gz\n",
      "\u001b[1mINFO\u001b[0m: Download started...\n",
      "\u001b[1mINFO\u001b[0m: Download finished! File saved here: C:\\Users\\parashar\\Desktop\\scarf\\docs\\source\\vignettes\\scarf_datasets\\xin_1K_pancreas_rnaseq\\matrix.mtx.gz\n",
      "time: 12 s\n"
     ]
    }
   ],
   "source": [
    "# This dataset is in MTX format along with barcodes and features TSV files.\n",
    "scarf.fetch_dataset('xin_1K_pancreas_rnaseq', save_path='./scarf_datasets')"
   ]
  },
  {
   "cell_type": "code",
   "execution_count": 5,
   "metadata": {},
   "outputs": [
    {
     "name": "stdout",
     "output_type": "stream",
     "text": [
      "\u001b[1mINFO\u001b[0m: Download started...\n",
      "\u001b[1mINFO\u001b[0m: Download finished! File saved here: C:\\Users\\parashar\\Desktop\\scarf\\docs\\source\\vignettes\\scarf_datasets\\bastidas-ponce_4K_pancreas-d15_rnaseq\\data.h5ad\n",
      "time: 6.62 s\n"
     ]
    }
   ],
   "source": [
    "# This dataset is in H5ad (anndata) format.\n",
    "scarf.fetch_dataset('bastidas-ponce_4K_pancreas-d15_rnaseq', save_path='./scarf_datasets')"
   ]
  },
  {
   "cell_type": "markdown",
   "metadata": {},
   "source": [
    "---\n",
    "### 2) Conversion to Scarf's Zarr format file\n",
    "\n",
    "Scarf stores data as dense, compressed chunks in Zarr file format. `scarf.readers` and `scarf.writers` modules contain classes that allow reading many different file formats and convert them to Zarr. There are often complementary reader and writer classes. Let's explore them below."
   ]
  },
  {
   "cell_type": "markdown",
   "metadata": {},
   "source": [
    "#### From 10x's HDF5 file format"
   ]
  },
  {
   "cell_type": "code",
   "execution_count": 6,
   "metadata": {},
   "outputs": [
    {
     "name": "stderr",
     "output_type": "stream",
     "text": [
      "100%|██████████████████████████████████████████████████████████████████████████████████| 10/10 [00:16<00:00,  1.68s/it]"
     ]
    },
    {
     "name": "stdout",
     "output_type": "stream",
     "text": [
      "time: 17.4 s\n"
     ]
    },
    {
     "name": "stderr",
     "output_type": "stream",
     "text": [
      "\n"
     ]
    }
   ],
   "source": [
    "# Change file_type to 'rna' in case of sc-RNA-seq or CITE-Seq\n",
    "reader = scarf.CrH5Reader('scarf_datasets/tenx_10K_pbmc_atacseq/data.h5', file_type='atac')\n",
    "\n",
    "writer = scarf.CrToZarr(reader, zarr_fn='scarf_datasets/pbmc_atac.zarr')  # change value of `zarr_fn` to your choice of filename and path\n",
    "writer.dump()"
   ]
  },
  {
   "cell_type": "markdown",
   "metadata": {},
   "source": [
    "#### From 10x's (Cellranger) MTX file format\n",
    "\n",
    "`scarf.CrDirReader` class reads MTX files generated by Cellranger pipeline. `CrDirReader` stands for 'Cellranger directory reader'. Once read in, the data can be dumped into Zarr format using `scarf.CrToZarr` class. Following is an example of how to do this conversion:"
   ]
  },
  {
   "cell_type": "code",
   "execution_count": 7,
   "metadata": {},
   "outputs": [
    {
     "name": "stdout",
     "output_type": "stream",
     "text": [
      "\u001b[33m\u001b[1mWARNING\u001b[0m: feature_types extraction failed from features.tsv.gz in column 2\n"
     ]
    },
    {
     "name": "stderr",
     "output_type": "stream",
     "text": [
      "100%|████████████████████████████████████████████████████████████████████████████████████| 2/2 [00:04<00:00,  2.38s/it]"
     ]
    },
    {
     "name": "stdout",
     "output_type": "stream",
     "text": [
      "time: 5.05 s\n"
     ]
    },
    {
     "name": "stderr",
     "output_type": "stream",
     "text": [
      "\n"
     ]
    }
   ],
   "source": [
    " # Note here we only give name of directory containing MTX file (along with barcodes and features file)\n",
    "reader = scarf.CrDirReader('scarf_datasets/xin_1K_pancreas_rnaseq', file_type='rna')\n",
    "\n",
    "writer = scarf.CrToZarr(reader, zarr_fn='scarf_datasets/xin_1K.zarr')  # change value of `zarr_fn` to your choice of filename and path\n",
    "writer.dump()"
   ]
  },
  {
   "cell_type": "markdown",
   "metadata": {},
   "source": [
    "#### From Anndata H5ad file format"
   ]
  },
  {
   "cell_type": "code",
   "execution_count": 8,
   "metadata": {},
   "outputs": [
    {
     "name": "stdout",
     "output_type": "stream",
     "text": [
      "\u001b[1mINFO\u001b[0m: No value provided for assay names. Will use default value: 'RNA'\n"
     ]
    },
    {
     "name": "stderr",
     "output_type": "stream",
     "text": [
      "Reading attributes from group obs: 100%|████████████████████████████████████████████████| 5/5 [00:00<00:00, 125.00it/s]"
     ]
    },
    {
     "name": "stdout",
     "output_type": "stream",
     "text": [
      "\u001b[33m\u001b[1mWARNING\u001b[0m: Could not find feature names key: gene_short_name in self.featureAttrsKey.\n"
     ]
    },
    {
     "name": "stderr",
     "output_type": "stream",
     "text": [
      "\n",
      "Reading attributes from group var: 100%|█████████████████████████████████████████████████| 2/2 [00:00<00:00, 64.52it/s]\n",
      "100%|████████████████████████████████████████████████████████████████████████████████████| 4/4 [00:01<00:00,  2.01it/s]"
     ]
    },
    {
     "name": "stdout",
     "output_type": "stream",
     "text": [
      "time: 2.25 s\n"
     ]
    },
    {
     "name": "stderr",
     "output_type": "stream",
     "text": [
      "\n"
     ]
    }
   ],
   "source": [
    " # Note here we only give name of directory containing MTX file (along with barcodes and features file)\n",
    "reader = scarf.H5adReader('scarf_datasets/bastidas-ponce_4K_pancreas-d15_rnaseq/data.h5ad', \n",
    "                          cell_ids_key = 'index',               # Where Cell/barcode ids are saved under 'obs' slot\n",
    "                          feature_ids_key = 'index',            # Where gene ids are saved under 'var' slot\n",
    "                          feature_name_key = 'gene_short_name')  # Where gene names are saved under 'var' slot\n",
    "\n",
    "writer = scarf.H5adToZarr(reader, zarr_fn='scarf_datasets/differentiating_pancreatic_cells.zarr') # change value of `zarr_fn` to your choice of filename and path\n",
    "writer.dump()"
   ]
  },
  {
   "cell_type": "markdown",
   "metadata": {},
   "source": [
    "Conversion from [Loom](https://loompy.org/) file formats is also supported using `scarf.LoomReader` and `scarf.LoomToZarr` which can be used in similar fashion as other readers and writers."
   ]
  },
  {
   "cell_type": "markdown",
   "metadata": {},
   "source": [
    "---\n",
    "### 3) Exporting to data from Zarr file format"
   ]
  },
  {
   "cell_type": "markdown",
   "metadata": {},
   "source": [
    "#### To Cellranger (10x) MTX format"
   ]
  },
  {
   "cell_type": "code",
   "execution_count": 9,
   "metadata": {},
   "outputs": [
    {
     "name": "stdout",
     "output_type": "stream",
     "text": [
      "\u001b[1mINFO\u001b[0m: Setting assay RNA to assay type: RNAassay\n",
      "\u001b[1mINFO\u001b[0m: (RNA) Computing nCells and dropOuts\n",
      "[########################################] | 100% Completed |  0.6s\n",
      "\u001b[1mINFO\u001b[0m: (RNA) Computing nCounts\n",
      "[########################################] | 100% Completed |  0.6s\n",
      "\u001b[1mINFO\u001b[0m: (RNA) Computing nFeatures\n",
      "[########################################] | 100% Completed |  0.6s\n",
      "\u001b[1mINFO\u001b[0m: Computing percentage of RNA_percentMito\n",
      "[########################################] | 100% Completed |  0.6s\n",
      "\u001b[1mINFO\u001b[0m: Computing percentage of RNA_percentRibo\n",
      "[########################################] | 100% Completed |  0.6s\n",
      "time: 3.2 s\n"
     ]
    }
   ],
   "source": [
    "ds = scarf.DataStore('scarf_datasets/differentiating_pancreatic_cells.zarr')"
   ]
  },
  {
   "cell_type": "code",
   "execution_count": 10,
   "metadata": {},
   "outputs": [
    {
     "name": "stderr",
     "output_type": "stream",
     "text": [
      "100%|████████████████████████████████████████████████████████████████████████████████████| 4/4 [00:25<00:00,  6.27s/it]"
     ]
    },
    {
     "name": "stdout",
     "output_type": "stream",
     "text": [
      "time: 25.2 s\n"
     ]
    },
    {
     "name": "stderr",
     "output_type": "stream",
     "text": [
      "\n"
     ]
    }
   ],
   "source": [
    "scarf.writers.to_mtx(ds.RNA, mtx_directory='scarf_datasets/diff_pancreas')"
   ]
  },
  {
   "cell_type": "markdown",
   "metadata": {},
   "source": [
    "#### To H5ad format\n",
    "\n",
    "Conversion to H5ad is the preferred mode as it runs much faster and produces files with smaller footprints. Updates are underway to include all the data from Zarr file like UMAP, PCA and graph, into anndata."
   ]
  },
  {
   "cell_type": "code",
   "execution_count": 11,
   "metadata": {},
   "outputs": [
    {
     "name": "stdout",
     "output_type": "stream",
     "text": [
      "time: 31 ms\n"
     ]
    }
   ],
   "source": [
    "ds = scarf.DataStore('scarf_datasets/differentiating_pancreatic_cells.zarr')"
   ]
  },
  {
   "cell_type": "code",
   "execution_count": 12,
   "metadata": {},
   "outputs": [
    {
     "name": "stderr",
     "output_type": "stream",
     "text": [
      "100%|████████████████████████████████████████████████████████████████████████████████████| 4/4 [00:03<00:00,  1.24it/s]"
     ]
    },
    {
     "name": "stdout",
     "output_type": "stream",
     "text": [
      "time: 3.28 s\n"
     ]
    },
    {
     "name": "stderr",
     "output_type": "stream",
     "text": [
      "\n"
     ]
    }
   ],
   "source": [
    "scarf.writers.to_h5ad(ds.RNA, h5ad_filename='scarf_datasets/diff_pancreas.h5ad')"
   ]
  },
  {
   "cell_type": "markdown",
   "metadata": {},
   "source": [
    "---\n",
    "That is all for this vignette."
   ]
  }
 ],
 "metadata": {
  "jupytext": {
   "formats": "ipynb,md"
  },
  "kernelspec": {
   "display_name": "Python 3",
   "language": "python",
   "name": "python3"
  },
  "language_info": {
   "codemirror_mode": {
    "name": "ipython",
    "version": 3
   },
   "file_extension": ".py",
   "mimetype": "text/x-python",
   "name": "python",
   "nbconvert_exporter": "python",
   "pygments_lexer": "ipython3",
   "version": "3.8.5"
  }
 },
 "nbformat": 4,
 "nbformat_minor": 4
}
