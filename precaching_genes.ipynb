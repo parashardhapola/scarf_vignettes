{
 "cells": [
  {
   "cell_type": "markdown",
   "id": "fc6c6cdc-0757-49e5-a603-86f986faba7b",
   "metadata": {},
   "source": [
    "(scrna_seq_workflow)="
   ]
  },
  {
   "cell_type": "markdown",
   "id": "9f2b0337",
   "metadata": {},
   "source": [
    "## Precaching normalized values for faster gene query and marker search\n",
    "\n",
    "This workflow shows how to use `save_normed_for_query` function to create a cache of genes. This cache substantially improves the runtime of `run_marker_search` and also when querying for multiple genes. The precaching is a one time process for a dataset and can speed up all subsequent marker search steps."
   ]
  },
  {
   "cell_type": "code",
   "execution_count": 1,
   "id": "57e270d2",
   "metadata": {
    "lines_to_next_cell": 2
   },
   "outputs": [
    {
     "data": {
      "text/plain": [
       "'0.19.4'"
      ]
     },
     "execution_count": 1,
     "metadata": {},
     "output_type": "execute_result"
    },
    {
     "name": "stdout",
     "output_type": "stream",
     "text": [
      "time: 1.28 s (started: 2022-04-20 23:35:19 +02:00)\n"
     ]
    }
   ],
   "source": [
    "%load_ext autotime\n",
    "\n",
    "import scarf\n",
    "scarf.__version__"
   ]
  },
  {
   "cell_type": "code",
   "execution_count": 2,
   "id": "fe7cf21f-6398-4086-bdf0-db75de064dad",
   "metadata": {},
   "outputs": [
    {
     "data": {
      "application/vnd.jupyter.widget-view+json": {
       "model_id": "f97c6895d5c547e3863565dc92433359",
       "version_major": 2,
       "version_minor": 0
      },
      "text/plain": [
       "Downloading 1/3:   0%|                                                                                        …"
      ]
     },
     "metadata": {},
     "output_type": "display_data"
    },
    {
     "data": {
      "application/vnd.jupyter.widget-view+json": {
       "model_id": "30d2b02bd1af41f89b971c3cdd1aaa02",
       "version_major": 2,
       "version_minor": 0
      },
      "text/plain": [
       "Downloading 2/3:   0%|                                                                                        …"
      ]
     },
     "metadata": {},
     "output_type": "display_data"
    },
    {
     "data": {
      "application/vnd.jupyter.widget-view+json": {
       "model_id": "ff3ea7a19c174f36bc2aa9b207f6a333",
       "version_major": 2,
       "version_minor": 0
      },
      "text/plain": [
       "Downloading 3/3:   0%|                                                                                        …"
      ]
     },
     "metadata": {},
     "output_type": "display_data"
    },
    {
     "name": "stdout",
     "output_type": "stream",
     "text": [
      "time: 25.7 s (started: 2022-04-20 23:35:20 +02:00)\n"
     ]
    }
   ],
   "source": [
    "scarf.fetch_dataset(\n",
    "    'zheng_69K_pbmc_rnaseq',\n",
    "    save_path='scarf_datasets'\n",
    ")"
   ]
  },
  {
   "cell_type": "code",
   "execution_count": 3,
   "id": "8d7d13af",
   "metadata": {},
   "outputs": [
    {
     "name": "stdout",
     "output_type": "stream",
     "text": [
      "\u001b[33m\u001b[1mWARNING\u001b[0m: feature_types extraction failed from features.tsv.gz in column 2\n"
     ]
    },
    {
     "data": {
      "application/vnd.jupyter.widget-view+json": {
       "model_id": "bb435b684a084f09a771afb08fceb299",
       "version_major": 2,
       "version_minor": 0
      },
      "text/plain": [
       "  0%|                                                                                                         …"
      ]
     },
     "metadata": {},
     "output_type": "display_data"
    },
    {
     "name": "stdout",
     "output_type": "stream",
     "text": [
      "time: 45.6 s (started: 2022-04-20 23:35:46 +02:00)\n"
     ]
    }
   ],
   "source": [
    "reader = scarf.CrDirReader('scarf_datasets/zheng_69K_pbmc_rnaseq')\n",
    "writer = scarf.CrToZarr(\n",
    "    reader,\n",
    "    zarr_fn='scarf_datasets/zheng_69K_pbmc_rnaseq/data.zarr',\n",
    "    chunk_size=(1000, 1000)\n",
    ")\n",
    "writer.dump(batch_size=1000)"
   ]
  },
  {
   "cell_type": "code",
   "execution_count": 4,
   "id": "51c3b298",
   "metadata": {
    "scrolled": true,
    "tags": []
   },
   "outputs": [
    {
     "data": {
      "application/vnd.jupyter.widget-view+json": {
       "model_id": "21441f6b4845423fb46d736b57e503a5",
       "version_major": 2,
       "version_minor": 0
      },
      "text/plain": [
       "(RNA) Computing nCells and dropOuts:   0%|                                                                    …"
      ]
     },
     "metadata": {},
     "output_type": "display_data"
    },
    {
     "data": {
      "application/vnd.jupyter.widget-view+json": {
       "model_id": "0f1dd4df61fe4015953e6d6b2751fb39",
       "version_major": 2,
       "version_minor": 0
      },
      "text/plain": [
       "(RNA) Computing nCounts:   0%|                                                                                …"
      ]
     },
     "metadata": {},
     "output_type": "display_data"
    },
    {
     "name": "stdout",
     "output_type": "stream",
     "text": [
      "\u001b[33m\u001b[1mWARNING\u001b[0m: Minimum cell count (402) is lower than size factor multiplier (1000)\n"
     ]
    },
    {
     "data": {
      "application/vnd.jupyter.widget-view+json": {
       "model_id": "21727567ea6643baa42a132ceefffc5d",
       "version_major": 2,
       "version_minor": 0
      },
      "text/plain": [
       "(RNA) Computing nFeatures:   0%|                                                                              …"
      ]
     },
     "metadata": {},
     "output_type": "display_data"
    },
    {
     "data": {
      "application/vnd.jupyter.widget-view+json": {
       "model_id": "040a3e25e64a445cae3a3ed615c693e7",
       "version_major": 2,
       "version_minor": 0
      },
      "text/plain": [
       "(RNA) Computing RNA_percentMito:   0%|                                                                        …"
      ]
     },
     "metadata": {},
     "output_type": "display_data"
    },
    {
     "data": {
      "application/vnd.jupyter.widget-view+json": {
       "model_id": "f56e1455e53c4770a0aaf08e414b9504",
       "version_major": 2,
       "version_minor": 0
      },
      "text/plain": [
       "(RNA) Computing RNA_percentRibo:   0%|                                                                        …"
      ]
     },
     "metadata": {},
     "output_type": "display_data"
    },
    {
     "name": "stdout",
     "output_type": "stream",
     "text": [
      "\u001b[1mINFO\u001b[0m: 2311 cells flagged for filtering out using attribute RNA_nCounts\n",
      "\u001b[1mINFO\u001b[0m: 2435 cells flagged for filtering out using attribute RNA_nFeatures\n",
      "\u001b[1mINFO\u001b[0m: 1391 cells flagged for filtering out using attribute RNA_percentMito\n",
      "\u001b[1mINFO\u001b[0m: 2678 cells flagged for filtering out using attribute RNA_percentRibo\n"
     ]
    },
    {
     "data": {
      "image/png": "[encoded data removed]",
      "text/plain": [
       "<Figure size 648x252 with 4 Axes>"
      ]
     },
     "metadata": {
      "needs_background": "light"
     },
     "output_type": "display_data"
    },
    {
     "data": {
      "image/png": "[encoded data removed]",
      "text/plain": [
       "<Figure size 648x252 with 4 Axes>"
      ]
     },
     "metadata": {
      "needs_background": "light"
     },
     "output_type": "display_data"
    },
    {
     "data": {
      "application/vnd.jupyter.widget-view+json": {
       "model_id": "48fcf6e27f84471c94fdcc7f9492a38a",
       "version_major": 2,
       "version_minor": 0
      },
      "text/plain": [
       "(RNA) Computing nCells:   0%|                                                                                 …"
      ]
     },
     "metadata": {},
     "output_type": "display_data"
    },
    {
     "data": {
      "application/vnd.jupyter.widget-view+json": {
       "model_id": "f7489a2d8c1945c587cb375bfff18ebc",
       "version_major": 2,
       "version_minor": 0
      },
      "text/plain": [
       "(RNA) Computing normed_tot:   0%|                                                                             …"
      ]
     },
     "metadata": {},
     "output_type": "display_data"
    },
    {
     "data": {
      "application/vnd.jupyter.widget-view+json": {
       "model_id": "9407b8fe06374e14bac511cad8615845",
       "version_major": 2,
       "version_minor": 0
      },
      "text/plain": [
       "(RNA) Computing sigmas:   0%|                                                                                 …"
      ]
     },
     "metadata": {},
     "output_type": "display_data"
    },
    {
     "name": "stdout",
     "output_type": "stream",
     "text": [
      "\u001b[1mINFO\u001b[0m: 500 genes marked as HVGs\n"
     ]
    },
    {
     "data": {
      "image/png": "[encoded data removed]",
      "text/plain": [
       "<Figure size 324x288 with 1 Axes>"
      ]
     },
     "metadata": {
      "needs_background": "light"
     },
     "output_type": "display_data"
    },
    {
     "data": {
      "application/vnd.jupyter.widget-view+json": {
       "model_id": "f5ec73a5111c408da4924aeadf22f26d",
       "version_major": 2,
       "version_minor": 0
      },
      "text/plain": [
       "Normalizing with feature subset:   0%|                                                                        …"
      ]
     },
     "metadata": {},
     "output_type": "display_data"
    },
    {
     "data": {
      "application/vnd.jupyter.widget-view+json": {
       "model_id": "a3287a2f58a6442fa2b565403b65b57a",
       "version_major": 2,
       "version_minor": 0
      },
      "text/plain": [
       "Writing data to normed__I__hvgs/data:   0%|                                                                   …"
      ]
     },
     "metadata": {},
     "output_type": "display_data"
    },
    {
     "data": {
      "application/vnd.jupyter.widget-view+json": {
       "model_id": "30661e006e4d4199a2aff5bff21ddba2",
       "version_major": 2,
       "version_minor": 0
      },
      "text/plain": [
       "Calculating mean of norm. data:   0%|                                                                         …"
      ]
     },
     "metadata": {},
     "output_type": "display_data"
    },
    {
     "data": {
      "application/vnd.jupyter.widget-view+json": {
       "model_id": "3413ad1e349a4fed8005f1f9393ea266",
       "version_major": 2,
       "version_minor": 0
      },
      "text/plain": [
       "Calculating std. dev. of norm. data:   0%|                                                                    …"
      ]
     },
     "metadata": {},
     "output_type": "display_data"
    },
    {
     "data": {
      "application/vnd.jupyter.widget-view+json": {
       "model_id": "05fd2a06199748138cde1a9bb886d713",
       "version_major": 2,
       "version_minor": 0
      },
      "text/plain": [
       "Fitting PCA:   0%|                                                                                            …"
      ]
     },
     "metadata": {},
     "output_type": "display_data"
    },
    {
     "data": {
      "application/vnd.jupyter.widget-view+json": {
       "model_id": "220a9378ee7843ff9cbfd5b635b9adca",
       "version_major": 2,
       "version_minor": 0
      },
      "text/plain": [
       "Fitting ANN:   0%|                                                                                            …"
      ]
     },
     "metadata": {},
     "output_type": "display_data"
    },
    {
     "data": {
      "application/vnd.jupyter.widget-view+json": {
       "model_id": "7437a46a037b46e1abe904fa0343a23d",
       "version_major": 2,
       "version_minor": 0
      },
      "text/plain": [
       "Fitting kmeans:   0%|                                                                                         …"
      ]
     },
     "metadata": {},
     "output_type": "display_data"
    },
    {
     "data": {
      "application/vnd.jupyter.widget-view+json": {
       "model_id": "ac8b7d7de36345e5b6bc6e5a9de89f4b",
       "version_major": 2,
       "version_minor": 0
      },
      "text/plain": [
       "Estimating seed partitions:   0%|                                                                             …"
      ]
     },
     "metadata": {},
     "output_type": "display_data"
    },
    {
     "data": {
      "application/vnd.jupyter.widget-view+json": {
       "model_id": "7d3369b7e9ce4d8aa1b30aac8169b9db",
       "version_major": 2,
       "version_minor": 0
      },
      "text/plain": [
       "Saving KNN graph:   0%|                                                                                       …"
      ]
     },
     "metadata": {},
     "output_type": "display_data"
    },
    {
     "data": {
      "application/vnd.jupyter.widget-view+json": {
       "model_id": "f4222c7989e3431980944fe33bde2b01",
       "version_major": 2,
       "version_minor": 0
      },
      "text/plain": [
       "Smoothening KNN distances:   0%|                                                                              …"
      ]
     },
     "metadata": {},
     "output_type": "display_data"
    },
    {
     "name": "stdout",
     "output_type": "stream",
     "text": [
      "\u001b[1mINFO\u001b[0m: ANN recall: 99.14%\n",
      "time: 2min 54s (started: 2022-04-20 23:36:31 +02:00)\n"
     ]
    }
   ],
   "source": [
    "ds = scarf.DataStore(\n",
    "    'scarf_datasets/zheng_69K_pbmc_rnaseq/data.zarr',\n",
    "    nthreads=4,\n",
    "    min_features_per_cell=10\n",
    ")\n",
    "ds.auto_filter_cells()\n",
    "ds.mark_hvgs(\n",
    "    min_cells=20,\n",
    "    top_n=500,\n",
    "    min_mean=-3,\n",
    "    max_mean=2,\n",
    "    max_var=6\n",
    ")\n",
    "ds.make_graph(\n",
    "    feat_key='hvgs',\n",
    "    k=11,\n",
    "    dims=15\n",
    ")\n",
    "ds.run_leiden_clustering(resolution=0.5)"
   ]
  },
  {
   "cell_type": "code",
   "execution_count": 6,
   "id": "36b84e37",
   "metadata": {},
   "outputs": [
    {
     "data": {
      "application/vnd.jupyter.widget-view+json": {
       "model_id": "2cdebbaba1aa42a4a1b5387ed76a41db",
       "version_major": 2,
       "version_minor": 0
      },
      "text/plain": [
       "Finding markers:   0%|                                                                                        …"
      ]
     },
     "metadata": {},
     "output_type": "display_data"
    },
    {
     "name": "stdout",
     "output_type": "stream",
     "text": [
      "time: 4min 36s (started: 2022-04-20 23:39:26 +02:00)\n"
     ]
    }
   ],
   "source": [
    "ds.run_marker_search(\n",
    "    group_key='RNA_leiden_cluster',\n",
    "    threshold=0.25,\n",
    ")"
   ]
  },
  {
   "cell_type": "code",
   "execution_count": 7,
   "id": "5cebf982-b764-40c9-b66f-50b29e22c6bd",
   "metadata": {},
   "outputs": [
    {
     "data": {
      "image/png": "[encoded data removed]",
      "text/plain": [
       "<Figure size 583.2x604.8 with 4 Axes>"
      ]
     },
     "metadata": {
      "needs_background": "light"
     },
     "output_type": "display_data"
    },
    {
     "name": "stdout",
     "output_type": "stream",
     "text": [
      "time: 7.31 s (started: 2022-04-20 23:44:03 +02:00)\n"
     ]
    }
   ],
   "source": [
    "ds.plot_marker_heatmap(group_key=\"RNA_leiden_cluster\", topn=3)"
   ]
  },
  {
   "cell_type": "markdown",
   "id": "b33c6568-89f3-4ecb-9ad3-1e9504e79774",
   "metadata": {},
   "source": [
    "### Pre-caching normalized expression for fast query"
   ]
  },
  {
   "cell_type": "code",
   "execution_count": 8,
   "id": "893c6e63-8e9f-49b6-a9f5-b1a56110a2af",
   "metadata": {},
   "outputs": [
    {
     "data": {
      "application/vnd.jupyter.widget-view+json": {
       "model_id": "da4fb2a79ce442c9ac5d16f1bc2f8a60",
       "version_major": 2,
       "version_minor": 0
      },
      "text/plain": [
       "Saving features:   0%|                                                                                        …"
      ]
     },
     "metadata": {},
     "output_type": "display_data"
    },
    {
     "name": "stdout",
     "output_type": "stream",
     "text": [
      "time: 2min 47s (started: 2022-04-20 23:44:10 +02:00)\n"
     ]
    }
   ],
   "source": [
    "ds.RNA.save_normed_for_query('I', batch_size=100)"
   ]
  },
  {
   "cell_type": "markdown",
   "id": "1fb3a1bb-e410-44fa-af1d-d74bb5af8941",
   "metadata": {},
   "source": [
    "### Marker search with precached data"
   ]
  },
  {
   "cell_type": "code",
   "execution_count": 9,
   "id": "500829b3-dbdc-49b0-9e67-3eb173a25e69",
   "metadata": {},
   "outputs": [
    {
     "data": {
      "application/vnd.jupyter.widget-view+json": {
       "model_id": "c6334cdba4ae4d9db54c52748b4cf555",
       "version_major": 2,
       "version_minor": 0
      },
      "text/plain": [
       "Finding markers:   0%|                                                                                        …"
      ]
     },
     "metadata": {},
     "output_type": "display_data"
    },
    {
     "name": "stdout",
     "output_type": "stream",
     "text": [
      "time: 44.5 s (started: 2022-04-20 23:46:57 +02:00)\n"
     ]
    }
   ],
   "source": [
    "ds.run_marker_search(\n",
    "    group_key='RNA_leiden_cluster',\n",
    "    threshold=0.25,\n",
    "    use_prenormed=True\n",
    ")"
   ]
  },
  {
   "cell_type": "markdown",
   "id": "b1140922-71b7-4d27-8d7c-d29e96712022",
   "metadata": {},
   "source": [
    "### The marker search is almost 500% faster with precaching"
   ]
  },
  {
   "cell_type": "code",
   "execution_count": 10,
   "id": "608c5ca7-faa4-48e2-98b0-7830a14f79d2",
   "metadata": {},
   "outputs": [
    {
     "data": {
      "image/png": "[encoded data removed]",
      "text/plain": [
       "<Figure size 583.2x604.8 with 4 Axes>"
      ]
     },
     "metadata": {
      "needs_background": "light"
     },
     "output_type": "display_data"
    },
    {
     "name": "stdout",
     "output_type": "stream",
     "text": [
      "time: 7.86 s (started: 2022-04-20 23:47:42 +02:00)\n"
     ]
    }
   ],
   "source": [
    "ds.plot_marker_heatmap(group_key=\"RNA_leiden_cluster\", topn=3)"
   ]
  },
  {
   "cell_type": "markdown",
   "id": "c2b1e57a-75b4-40d1-ae86-929ec5ce118d",
   "metadata": {},
   "source": [
    "The heatmaps clearly show that the marker search performed with and without `use_prenormed` parameter lead to same output"
   ]
  },
  {
   "cell_type": "markdown",
   "id": "a54d31a6",
   "metadata": {},
   "source": [
    "---\n",
    "That is all for this vignette."
   ]
  },
  {
   "cell_type": "code",
   "execution_count": null,
   "id": "5abc3b70-6855-4159-b79d-302cb85060ef",
   "metadata": {},
   "outputs": [],
   "source": []
  }
 ],
 "metadata": {
  "jupytext": {
   "cell_metadata_filter": "-all"
  },
  "kernelspec": {
   "display_name": "Python 3 (ipykernel)",
   "language": "python",
   "name": "python3"
  },
  "language_info": {
   "codemirror_mode": {
    "name": "ipython",
    "version": 3
   },
   "file_extension": ".py",
   "mimetype": "text/x-python",
   "name": "python",
   "nbconvert_exporter": "python",
   "pygments_lexer": "ipython3",
   "version": "3.9.12"
  },
  "widgets": {
   "application/vnd.jupyter.widget-state+json": {
    "state": {
     "0091808d4a3e46d4a0f7cd247187edd7": {
      "model_module": "@jupyter-widgets/base",
      "model_module_version": "1.2.0",
      "model_name": "LayoutModel",
      "state": {}
     },
     "009fb3c83c414588adb67dfe87eea871": {
      "model_module": "@jupyter-widgets/controls",
      "model_module_version": "1.5.0",
      "model_name": "FloatProgressModel",
      "state": {
       "bar_style": "success",
       "layout": "IPY_MODEL_60c9086d1a7d40f6b3123a0f54346919",
       "max": 3,
       "style": "IPY_MODEL_77090e75676941a99d31b8b6c7a4ed62",
       "value": 3
      }
     },
     "02508756d1b5496dbef39c71d4009d6e": {
      "model_module": "@jupyter-widgets/controls",
      "model_module_version": "1.5.0",
      "model_name": "HTMLModel",
      "state": {
       "layout": "IPY_MODEL_2b631bb974a0438ea469d1d0e23bb9f0",
       "style": "IPY_MODEL_64793a66c8674ba5a53ff8dadb4134a5",
       "value": " 2/2 [00:00]"
      }
     },
     "02f5f10d114d43588d48343be7b3c375": {
      "model_module": "@jupyter-widgets/controls",
      "model_module_version": "1.5.0",
      "model_name": "HBoxModel",
      "state": {
       "children": [
        "IPY_MODEL_8883392ea5cd44c0970eff83b6bc4167",
        "IPY_MODEL_94612cd651104ea9bad8b04060acf000",
        "IPY_MODEL_c9f4095564514bec83782844382971a5"
       ],
       "layout": "IPY_MODEL_901f4a467d564ac0bf6c314c863253ab"
      }
     },
     "03a1f5a29e884b5fbcd534965627c5d9": {
      "model_module": "@jupyter-widgets/controls",
      "model_module_version": "1.5.0",
      "model_name": "DescriptionStyleModel",
      "state": {
       "description_width": ""
      }
     },
     "03dbcb2fcc8e471a881d2f2b5a1a73bd": {
      "model_module": "@jupyter-widgets/controls",
      "model_module_version": "1.5.0",
      "model_name": "HTMLModel",
      "state": {
       "layout": "IPY_MODEL_633d1ae5b37c40798cd427c24a35d000",
       "style": "IPY_MODEL_3dff7bc199c344ac962d0a2b764aa118",
       "value": " 346/346 [00:00]"
      }
     },
     "041528be533044fdb3091ac28dbcc43a": {
      "model_module": "@jupyter-widgets/controls",
      "model_module_version": "1.5.0",
      "model_name": "HTMLModel",
      "state": {
       "layout": "IPY_MODEL_d8800be9b49447edaad01e5bb11366de",
       "style": "IPY_MODEL_c100035fae2d4a6687a4247f0eba70e3",
       "value": "(RNA) Computing nFeatures: 100%| "
      }
     },
     "0475db9ba59f4f009f46ec242f8d086f": {
      "model_module": "@jupyter-widgets/base",
      "model_module_version": "1.2.0",
      "model_name": "LayoutModel",
      "state": {}
     },
     "065333f376d64e9eb633184d986294d9": {
      "model_module": "@jupyter-widgets/controls",
      "model_module_version": "1.5.0",
      "model_name": "HTMLModel",
      "state": {
       "layout": "IPY_MODEL_0091808d4a3e46d4a0f7cd247187edd7",
       "style": "IPY_MODEL_b45149f34439443982958d2823edc58b",
       "value": " 219/219 [00:00]"
      }
     },
     "06870d087e844da4a157495c045369b2": {
      "model_module": "@jupyter-widgets/controls",
      "model_module_version": "1.5.0",
      "model_name": "HBoxModel",
      "state": {
       "children": [
        "IPY_MODEL_a455f162b466434389e50eb2728ce130",
        "IPY_MODEL_a00e096f8cd6406b8bac89353e0407ee",
        "IPY_MODEL_d0495e852b8f47ae817df9ceaa89d9f1"
       ],
       "layout": "IPY_MODEL_863310c8a14a402e8d512e42ddee78e0"
      }
     },
     "09be14d08da14e85a852a36d767df9b3": {
      "model_module": "@jupyter-widgets/base",
      "model_module_version": "1.2.0",
      "model_name": "LayoutModel",
      "state": {
       "display": "inline-flex",
       "flex_flow": "row wrap",
       "width": "500px"
      }
     },
     "0b50f108b57d4f1f8ad77495d28988bd": {
      "model_module": "@jupyter-widgets/controls",
      "model_module_version": "1.5.0",
      "model_name": "HTMLModel",
      "state": {
       "layout": "IPY_MODEL_3962ba8913a544bbbb8c1b231e82f862",
       "style": "IPY_MODEL_df4dec8b900f4fad8801f8a72fa625af",
       "value": " 3939/3939 [00:00]"
      }
     },
     "0e3b1a00abe2471da249603a4cb21739": {
      "model_module": "@jupyter-widgets/controls",
      "model_module_version": "1.5.0",
      "model_name": "ProgressStyleModel",
      "state": {
       "bar_color": "#34abeb",
       "description_width": ""
      }
     },
     "0ea6eec82d054c04b642bd1a77aebad0": {
      "model_module": "@jupyter-widgets/controls",
      "model_module_version": "1.5.0",
      "model_name": "HBoxModel",
      "state": {
       "children": [
        "IPY_MODEL_abac46dc332b4f4a937fabab3b3b39b7",
        "IPY_MODEL_2bb1346845774d41bcbf7e7b0d6331e9",
        "IPY_MODEL_f9fd3447e1ad4acdad10a182718e0c75"
       ],
       "layout": "IPY_MODEL_ffaed21327ff440aa95df7aab6577f3e"
      }
     },
     "0fa1eddd4a8244f499e2fc27c48fdb66": {
      "model_module": "@jupyter-widgets/controls",
      "model_module_version": "1.5.0",
      "model_name": "DescriptionStyleModel",
      "state": {
       "description_width": ""
      }
     },
     "0fc99523ae014c819e985ed29ac6f6f2": {
      "model_module": "@jupyter-widgets/controls",
      "model_module_version": "1.5.0",
      "model_name": "FloatProgressModel",
      "state": {
       "bar_style": "success",
       "layout": "IPY_MODEL_4461e8dc5dba4fac9ff3c91b5adc15a8",
       "max": 346,
       "style": "IPY_MODEL_dfd0196ceb494660ad21a201ed211aef",
       "value": 346
      }
     },
     "0ff25c5c2b154b60956a43ed15edcff4": {
      "model_module": "@jupyter-widgets/controls",
      "model_module_version": "1.5.0",
      "model_name": "HBoxModel",
      "state": {
       "children": [
        "IPY_MODEL_8e7f867235e14d989dfd97da78855c2a",
        "IPY_MODEL_f80f0b15376b4e59802dc4fbff516484",
        "IPY_MODEL_f788d66af2d54fe690851d056e2beb2f"
       ],
       "layout": "IPY_MODEL_fc69853d159e4d50924e3e8c965ce115"
      }
     },
     "1148942717cf40f58748755c54df06d6": {
      "model_module": "@jupyter-widgets/base",
      "model_module_version": "1.2.0",
      "model_name": "LayoutModel",
      "state": {}
     },
     "115f80fdd24c42aa8edf75fd69cb5464": {
      "model_module": "@jupyter-widgets/base",
      "model_module_version": "1.2.0",
      "model_name": "LayoutModel",
      "state": {}
     },
     "1372484a6e454704a2dfedd181ad6cd8": {
      "model_module": "@jupyter-widgets/controls",
      "model_module_version": "1.5.0",
      "model_name": "HTMLModel",
      "state": {
       "layout": "IPY_MODEL_31ce73031ca74e14a56c21f7def90845",
       "style": "IPY_MODEL_6c70bddccb95401aa30875fdb06b755f",
       "value": "Calculating mean of norm. data: 100%| "
      }
     },
     "14529b4b48a94339a339bde631e38e5a": {
      "model_module": "@jupyter-widgets/controls",
      "model_module_version": "1.5.0",
      "model_name": "FloatProgressModel",
      "state": {
       "bar_style": "success",
       "layout": "IPY_MODEL_f9de1deb1aab43ff9fff5049b0567509",
       "max": 12,
       "style": "IPY_MODEL_ba9c1e4f7dbf4556992008d2210bfc7a",
       "value": 12
      }
     },
     "15cf8dcd3f134959adbf5aeed1d6ab92": {
      "model_module": "@jupyter-widgets/controls",
      "model_module_version": "1.5.0",
      "model_name": "FloatProgressModel",
      "state": {
       "bar_style": "success",
       "layout": "IPY_MODEL_670d461e779d446882d4d6e0ef412be3",
       "max": 346,
       "style": "IPY_MODEL_f4f0e94715cd4463b63e65ad708922bb",
       "value": 346
      }
     },
     "1742682fc3d24d42bd7c5df0505340a0": {
      "model_module": "@jupyter-widgets/base",
      "model_module_version": "1.2.0",
      "model_name": "LayoutModel",
      "state": {}
     },
     "175f7e17daa94895b1cdec2dd025f5c2": {
      "model_module": "@jupyter-widgets/controls",
      "model_module_version": "1.5.0",
      "model_name": "HBoxModel",
      "state": {
       "children": [
        "IPY_MODEL_eb321ae9b2aa424f8cd67a5c37eb9e3b",
        "IPY_MODEL_0fc99523ae014c819e985ed29ac6f6f2",
        "IPY_MODEL_ccec8e3a458848dca80ed70ca8e55be8"
       ],
       "layout": "IPY_MODEL_639333ed7c4c4ef8948f03b4efc67772"
      }
     },
     "17f18ae79d07451298c6742f49e539dc": {
      "model_module": "@jupyter-widgets/controls",
      "model_module_version": "1.5.0",
      "model_name": "DescriptionStyleModel",
      "state": {
       "description_width": ""
      }
     },
     "1854800e434d4a7793f14fb753728446": {
      "model_module": "@jupyter-widgets/controls",
      "model_module_version": "1.5.0",
      "model_name": "FloatProgressModel",
      "state": {
       "bar_style": "success",
       "layout": "IPY_MODEL_61d8f852a11244b7a3cb0519fdd6f863",
       "max": 238,
       "style": "IPY_MODEL_86099c41ecbb4fde8198d696273ed26e",
       "value": 238
      }
     },
     "1860a9f069e843fea1fd13a95fa02a0c": {
      "model_module": "@jupyter-widgets/controls",
      "model_module_version": "1.5.0",
      "model_name": "HBoxModel",
      "state": {
       "children": [
        "IPY_MODEL_a1a076282c9545e9965f6218a2cdaefb",
        "IPY_MODEL_15cf8dcd3f134959adbf5aeed1d6ab92",
        "IPY_MODEL_03dbcb2fcc8e471a881d2f2b5a1a73bd"
       ],
       "layout": "IPY_MODEL_4aff21de6b544d68b07a8a24675ccf29"
      }
     },
     "1b4b54c4680c47289aee0a274866ce4d": {
      "model_module": "@jupyter-widgets/base",
      "model_module_version": "1.2.0",
      "model_name": "LayoutModel",
      "state": {}
     },
     "1bbcf11ca6d649e0b78158cf1a2c7789": {
      "model_module": "@jupyter-widgets/controls",
      "model_module_version": "1.5.0",
      "model_name": "DescriptionStyleModel",
      "state": {
       "description_width": ""
      }
     },
     "1e66480a435b4d8cae77f700f74138dd": {
      "model_module": "@jupyter-widgets/base",
      "model_module_version": "1.2.0",
      "model_name": "LayoutModel",
      "state": {}
     },
     "202db2e581bd46a58ffd1b9c72db8947": {
      "model_module": "@jupyter-widgets/base",
      "model_module_version": "1.2.0",
      "model_name": "LayoutModel",
      "state": {}
     },
     "210c1f1fb6f144158fe13584812e6554": {
      "model_module": "@jupyter-widgets/controls",
      "model_module_version": "1.5.0",
      "model_name": "HTMLModel",
      "state": {
       "layout": "IPY_MODEL_92223d210e62419fa00445efece39d63",
       "style": "IPY_MODEL_ae2f7fa41fe7430cb205be0fff192b6b",
       "value": " 6/6 [00:04]"
      }
     },
     "235ccf698db14101b4e80f23eaec12f4": {
      "model_module": "@jupyter-widgets/controls",
      "model_module_version": "1.5.0",
      "model_name": "HTMLModel",
      "state": {
       "layout": "IPY_MODEL_0475db9ba59f4f009f46ec242f8d086f",
       "style": "IPY_MODEL_b43af474cef64b769ff39b9cad425c20",
       "value": " 2/2 [00:00]"
      }
     },
     "23f5d9a6ac1845f2af9efde28e752740": {
      "model_module": "@jupyter-widgets/base",
      "model_module_version": "1.2.0",
      "model_name": "LayoutModel",
      "state": {}
     },
     "24df77147d7f4816ad987acbae5e8b8e": {
      "model_module": "@jupyter-widgets/controls",
      "model_module_version": "1.5.0",
      "model_name": "ProgressStyleModel",
      "state": {
       "bar_color": "#34abeb",
       "description_width": ""
      }
     },
     "25e89ac9557e4977ae73beebf6f5c4bb": {
      "model_module": "@jupyter-widgets/controls",
      "model_module_version": "1.5.0",
      "model_name": "DescriptionStyleModel",
      "state": {
       "description_width": ""
      }
     },
     "282b02b1844e44389166d8f2c0816c68": {
      "model_module": "@jupyter-widgets/base",
      "model_module_version": "1.2.0",
      "model_name": "LayoutModel",
      "state": {}
     },
     "2b631bb974a0438ea469d1d0e23bb9f0": {
      "model_module": "@jupyter-widgets/base",
      "model_module_version": "1.2.0",
      "model_name": "LayoutModel",
      "state": {}
     },
     "2bb1346845774d41bcbf7e7b0d6331e9": {
      "model_module": "@jupyter-widgets/controls",
      "model_module_version": "1.5.0",
      "model_name": "FloatProgressModel",
      "state": {
       "bar_style": "success",
       "layout": "IPY_MODEL_840bd993a76d416687c5d57d5964ee70",
       "max": 2,
       "style": "IPY_MODEL_24df77147d7f4816ad987acbae5e8b8e",
       "value": 2
      }
     },
     "2bc453b27f5d4e09a533ef0a3685a195": {
      "model_module": "@jupyter-widgets/controls",
      "model_module_version": "1.5.0",
      "model_name": "FloatProgressModel",
      "state": {
       "bar_style": "success",
       "layout": "IPY_MODEL_f0581052385245afa5aebab27aa064d4",
       "max": 2,
       "style": "IPY_MODEL_6ab579aebf344609b87eb891aca4ab4c",
       "value": 2
      }
     },
     "2bda51303f914876b74c41b8a43b2944": {
      "model_module": "@jupyter-widgets/controls",
      "model_module_version": "1.5.0",
      "model_name": "DescriptionStyleModel",
      "state": {
       "description_width": ""
      }
     },
     "2ef981f8a96b4f549e20730e55035fcd": {
      "model_module": "@jupyter-widgets/controls",
      "model_module_version": "1.5.0",
      "model_name": "HTMLModel",
      "state": {
       "layout": "IPY_MODEL_478e6d1cbda94c73924453a00113f809",
       "style": "IPY_MODEL_304ebfa2548d4cee89573c0849dfba3e",
       "value": "Calculating std. dev. of norm. data: 100%| "
      }
     },
     "2f378e1800844027915ae2dd69302d70": {
      "model_module": "@jupyter-widgets/controls",
      "model_module_version": "1.5.0",
      "model_name": "DescriptionStyleModel",
      "state": {
       "description_width": ""
      }
     },
     "304ebfa2548d4cee89573c0849dfba3e": {
      "model_module": "@jupyter-widgets/controls",
      "model_module_version": "1.5.0",
      "model_name": "DescriptionStyleModel",
      "state": {
       "description_width": ""
      }
     },
     "312e6d5db2e64df7912bcc6c0bd735c8": {
      "model_module": "@jupyter-widgets/controls",
      "model_module_version": "1.5.0",
      "model_name": "DescriptionStyleModel",
      "state": {
       "description_width": ""
      }
     },
     "31c95ba11ada4589abd33bb088ba27c3": {
      "model_module": "@jupyter-widgets/controls",
      "model_module_version": "1.5.0",
      "model_name": "HBoxModel",
      "state": {
       "children": [
        "IPY_MODEL_7b965d9f06b045cda534a7f8d97e1410",
        "IPY_MODEL_2bc453b27f5d4e09a533ef0a3685a195",
        "IPY_MODEL_a31d7bd586db4c36ae50bbe44a85b879"
       ],
       "layout": "IPY_MODEL_fe6d6d6d3d4f496aadb3cc2576273b66"
      }
     },
     "31ce73031ca74e14a56c21f7def90845": {
      "model_module": "@jupyter-widgets/base",
      "model_module_version": "1.2.0",
      "model_name": "LayoutModel",
      "state": {}
     },
     "35ed6e4982a7435ca350e3f60e31ee52": {
      "model_module": "@jupyter-widgets/base",
      "model_module_version": "1.2.0",
      "model_name": "LayoutModel",
      "state": {}
     },
     "382e55fdd01e4a789fe2a1a730a58ed0": {
      "model_module": "@jupyter-widgets/controls",
      "model_module_version": "1.5.0",
      "model_name": "DescriptionStyleModel",
      "state": {
       "description_width": ""
      }
     },
     "38ef5cf961a248198d24b365c7181824": {
      "model_module": "@jupyter-widgets/base",
      "model_module_version": "1.2.0",
      "model_name": "LayoutModel",
      "state": {}
     },
     "3962ba8913a544bbbb8c1b231e82f862": {
      "model_module": "@jupyter-widgets/base",
      "model_module_version": "1.2.0",
      "model_name": "LayoutModel",
      "state": {}
     },
     "3ad5da86b7744921b0801da272da40c0": {
      "model_module": "@jupyter-widgets/controls",
      "model_module_version": "1.5.0",
      "model_name": "ProgressStyleModel",
      "state": {
       "bar_color": "#34abeb",
       "description_width": ""
      }
     },
     "3bb4e4a2cafd4c1db98f33be0fb48a5c": {
      "model_module": "@jupyter-widgets/controls",
      "model_module_version": "1.5.0",
      "model_name": "HBoxModel",
      "state": {
       "children": [
        "IPY_MODEL_f05881cd61cf465087c6b7346a3e2adb",
        "IPY_MODEL_1854800e434d4a7793f14fb753728446",
        "IPY_MODEL_46b417c376d14cf286f505f1da66e0be"
       ],
       "layout": "IPY_MODEL_b3f566952f6b42f4876f0c7ec3e5de52"
      }
     },
     "3c1eadd61f1040e7afd03ef224346142": {
      "model_module": "@jupyter-widgets/base",
      "model_module_version": "1.2.0",
      "model_name": "LayoutModel",
      "state": {
       "flex": "2"
      }
     },
     "3c85a654ea8545f1811576e5d0babe57": {
      "model_module": "@jupyter-widgets/controls",
      "model_module_version": "1.5.0",
      "model_name": "DescriptionStyleModel",
      "state": {
       "description_width": ""
      }
     },
     "3dff7bc199c344ac962d0a2b764aa118": {
      "model_module": "@jupyter-widgets/controls",
      "model_module_version": "1.5.0",
      "model_name": "DescriptionStyleModel",
      "state": {
       "description_width": ""
      }
     },
     "40958187c54941a980b13ca8413cd018": {
      "model_module": "@jupyter-widgets/base",
      "model_module_version": "1.2.0",
      "model_name": "LayoutModel",
      "state": {}
     },
     "445df25f97dd4e5ca7fb2ec9b3d95178": {
      "model_module": "@jupyter-widgets/base",
      "model_module_version": "1.2.0",
      "model_name": "LayoutModel",
      "state": {
       "display": "inline-flex",
       "flex_flow": "row wrap",
       "width": "500px"
      }
     },
     "4461e8dc5dba4fac9ff3c91b5adc15a8": {
      "model_module": "@jupyter-widgets/base",
      "model_module_version": "1.2.0",
      "model_name": "LayoutModel",
      "state": {
       "flex": "2"
      }
     },
     "46b417c376d14cf286f505f1da66e0be": {
      "model_module": "@jupyter-widgets/controls",
      "model_module_version": "1.5.0",
      "model_name": "HTMLModel",
      "state": {
       "layout": "IPY_MODEL_6b8c46145538454f8a5cc54268801625",
       "style": "IPY_MODEL_d0f9c440665f48548aadc597e1b23305",
       "value": " 238/238 [00:00]"
      }
     },
     "46bddc39586d4b14889df3ed2aca6388": {
      "model_module": "@jupyter-widgets/controls",
      "model_module_version": "1.5.0",
      "model_name": "HTMLModel",
      "state": {
       "layout": "IPY_MODEL_e47c88116af44b3a9e5808e9bcdeab34",
       "style": "IPY_MODEL_632c6d2d287341bea82a229407beac96",
       "value": " 5/5 [00:00]"
      }
     },
     "4754534ebbf0471b85d36cc366dc2f85": {
      "model_module": "@jupyter-widgets/controls",
      "model_module_version": "1.5.0",
      "model_name": "ProgressStyleModel",
      "state": {
       "bar_color": "#34abeb",
       "description_width": ""
      }
     },
     "478e6d1cbda94c73924453a00113f809": {
      "model_module": "@jupyter-widgets/base",
      "model_module_version": "1.2.0",
      "model_name": "LayoutModel",
      "state": {}
     },
     "4863d9b3d543485080d4ef8c97963cff": {
      "model_module": "@jupyter-widgets/controls",
      "model_module_version": "1.5.0",
      "model_name": "FloatProgressModel",
      "state": {
       "bar_style": "success",
       "layout": "IPY_MODEL_9580ec1bc7624c6f852e5b725903970a",
       "max": 2,
       "style": "IPY_MODEL_b89d12e4a928443b8d210dad32976336",
       "value": 2
      }
     },
     "4aff21de6b544d68b07a8a24675ccf29": {
      "model_module": "@jupyter-widgets/base",
      "model_module_version": "1.2.0",
      "model_name": "LayoutModel",
      "state": {
       "display": "inline-flex",
       "flex_flow": "row wrap",
       "width": "500px"
      }
     },
     "4b6bd1d954ae45b3ac2b3d8b962a84a1": {
      "model_module": "@jupyter-widgets/controls",
      "model_module_version": "1.5.0",
      "model_name": "DescriptionStyleModel",
      "state": {
       "description_width": ""
      }
     },
     "4c3c84fc9f4e43f386a7d948900b00eb": {
      "model_module": "@jupyter-widgets/controls",
      "model_module_version": "1.5.0",
      "model_name": "HTMLModel",
      "state": {
       "layout": "IPY_MODEL_de78e873e7254d35bf8220477091b76a",
       "style": "IPY_MODEL_d113d28b3c6f4a32a68e899497994507",
       "value": " 6/6 [00:00]"
      }
     },
     "4f3c4d0b7a0e4f5582c66a5fef04a930": {
      "model_module": "@jupyter-widgets/controls",
      "model_module_version": "1.5.0",
      "model_name": "HBoxModel",
      "state": {
       "children": [
        "IPY_MODEL_6fe892de1c124c01b44f7d4db8182ae7",
        "IPY_MODEL_009fb3c83c414588adb67dfe87eea871",
        "IPY_MODEL_51c1d89e6462473f92360fc398f29b68"
       ],
       "layout": "IPY_MODEL_64146fc4a5d8417bad3fbd92a69689ad"
      }
     },
     "514c769534b9497e99fb888379fd1830": {
      "model_module": "@jupyter-widgets/controls",
      "model_module_version": "1.5.0",
      "model_name": "DescriptionStyleModel",
      "state": {
       "description_width": ""
      }
     },
     "51c1d89e6462473f92360fc398f29b68": {
      "model_module": "@jupyter-widgets/controls",
      "model_module_version": "1.5.0",
      "model_name": "HTMLModel",
      "state": {
       "layout": "IPY_MODEL_1e66480a435b4d8cae77f700f74138dd",
       "style": "IPY_MODEL_d1cca157d4c249ba8a0398a4251c428f",
       "value": " 3/3 [00:00]"
      }
     },
     "55ffc97a8e79403f8778f8d8acd6d85b": {
      "model_module": "@jupyter-widgets/base",
      "model_module_version": "1.2.0",
      "model_name": "LayoutModel",
      "state": {}
     },
     "56495d886a30403fb4a2844c4ba8684d": {
      "model_module": "@jupyter-widgets/controls",
      "model_module_version": "1.5.0",
      "model_name": "ProgressStyleModel",
      "state": {
       "bar_color": "#34abeb",
       "description_width": ""
      }
     },
     "5945c550f2294082beabab814fdd26fb": {
      "model_module": "@jupyter-widgets/base",
      "model_module_version": "1.2.0",
      "model_name": "LayoutModel",
      "state": {
       "flex": "2"
      }
     },
     "597c428f237a4c0d91c2d85355f46d25": {
      "model_module": "@jupyter-widgets/controls",
      "model_module_version": "1.5.0",
      "model_name": "FloatProgressModel",
      "state": {
       "bar_style": "success",
       "layout": "IPY_MODEL_5945c550f2294082beabab814fdd26fb",
       "max": 240,
       "style": "IPY_MODEL_b134707066ea452ca1a5f9b7fd3f4bf6",
       "value": 240
      }
     },
     "5ac5dc2a0c4c454eacbf59a93dbd1066": {
      "model_module": "@jupyter-widgets/base",
      "model_module_version": "1.2.0",
      "model_name": "LayoutModel",
      "state": {
       "flex": "2"
      }
     },
     "5b597108960b4ad0bbbe5bc2ea88a3e1": {
      "model_module": "@jupyter-widgets/controls",
      "model_module_version": "1.5.0",
      "model_name": "HBoxModel",
      "state": {
       "children": [
        "IPY_MODEL_70999ec799c24db7b97e6cacb6d25317",
        "IPY_MODEL_de3e7f92171e47419f6c741ca83f38c9",
        "IPY_MODEL_ae4b3c63f3844f76a50fdc84ca9640de"
       ],
       "layout": "IPY_MODEL_7a247f6a66aa40959baa3079d6f0d523"
      }
     },
     "5d7305b7910f4e8a8fd4c3ff01095c52": {
      "model_module": "@jupyter-widgets/base",
      "model_module_version": "1.2.0",
      "model_name": "LayoutModel",
      "state": {}
     },
     "5da903d6bf384fd18c5c69f24bc9a61f": {
      "model_module": "@jupyter-widgets/base",
      "model_module_version": "1.2.0",
      "model_name": "LayoutModel",
      "state": {}
     },
     "5de126b69b8a4eab9fe5ac182c6782b4": {
      "model_module": "@jupyter-widgets/controls",
      "model_module_version": "1.5.0",
      "model_name": "HTMLModel",
      "state": {
       "layout": "IPY_MODEL_55ffc97a8e79403f8778f8d8acd6d85b",
       "style": "IPY_MODEL_4b6bd1d954ae45b3ac2b3d8b962a84a1",
       "value": "Normalizing with feature subset: 100%| "
      }
     },
     "5fe62e07296040c4ae267f671de2d1a6": {
      "model_module": "@jupyter-widgets/base",
      "model_module_version": "1.2.0",
      "model_name": "LayoutModel",
      "state": {
       "display": "inline-flex",
       "flex_flow": "row wrap",
       "width": "500px"
      }
     },
     "5fff3453c59645f394e5edea0ec99284": {
      "model_module": "@jupyter-widgets/controls",
      "model_module_version": "1.5.0",
      "model_name": "DescriptionStyleModel",
      "state": {
       "description_width": ""
      }
     },
     "6005b5bdd1ac46e9b61af9905627694f": {
      "model_module": "@jupyter-widgets/controls",
      "model_module_version": "1.5.0",
      "model_name": "HBoxModel",
      "state": {
       "children": [
        "IPY_MODEL_2ef981f8a96b4f549e20730e55035fcd",
        "IPY_MODEL_b7c0ab8ea927420884f0da6793c3cee2",
        "IPY_MODEL_4c3c84fc9f4e43f386a7d948900b00eb"
       ],
       "layout": "IPY_MODEL_9864c831228e40f8b02d7c7106057e36"
      }
     },
     "6021f71520834e368219a5fafe9fa257": {
      "model_module": "@jupyter-widgets/controls",
      "model_module_version": "1.5.0",
      "model_name": "HTMLModel",
      "state": {
       "layout": "IPY_MODEL_7ea6c5f72bf544818b9ef9b743e62400",
       "style": "IPY_MODEL_e6af96af3541478c8fbdcf3c2e810bb4",
       "value": " 12/12 [00:00]"
      }
     },
     "60c9086d1a7d40f6b3123a0f54346919": {
      "model_module": "@jupyter-widgets/base",
      "model_module_version": "1.2.0",
      "model_name": "LayoutModel",
      "state": {
       "flex": "2"
      }
     },
     "61d8f852a11244b7a3cb0519fdd6f863": {
      "model_module": "@jupyter-widgets/base",
      "model_module_version": "1.2.0",
      "model_name": "LayoutModel",
      "state": {
       "flex": "2"
      }
     },
     "632c6d2d287341bea82a229407beac96": {
      "model_module": "@jupyter-widgets/controls",
      "model_module_version": "1.5.0",
      "model_name": "DescriptionStyleModel",
      "state": {
       "description_width": ""
      }
     },
     "633d1ae5b37c40798cd427c24a35d000": {
      "model_module": "@jupyter-widgets/base",
      "model_module_version": "1.2.0",
      "model_name": "LayoutModel",
      "state": {}
     },
     "6349e9854bd24c88a5869c35ae3ca986": {
      "model_module": "@jupyter-widgets/controls",
      "model_module_version": "1.5.0",
      "model_name": "DescriptionStyleModel",
      "state": {
       "description_width": ""
      }
     },
     "639333ed7c4c4ef8948f03b4efc67772": {
      "model_module": "@jupyter-widgets/base",
      "model_module_version": "1.2.0",
      "model_name": "LayoutModel",
      "state": {
       "display": "inline-flex",
       "flex_flow": "row wrap",
       "width": "500px"
      }
     },
     "64146fc4a5d8417bad3fbd92a69689ad": {
      "model_module": "@jupyter-widgets/base",
      "model_module_version": "1.2.0",
      "model_name": "LayoutModel",
      "state": {
       "display": "inline-flex",
       "flex_flow": "row wrap",
       "width": "500px"
      }
     },
     "64793a66c8674ba5a53ff8dadb4134a5": {
      "model_module": "@jupyter-widgets/controls",
      "model_module_version": "1.5.0",
      "model_name": "DescriptionStyleModel",
      "state": {
       "description_width": ""
      }
     },
     "65492494800f4e9786482c1604fc3b5c": {
      "model_module": "@jupyter-widgets/base",
      "model_module_version": "1.2.0",
      "model_name": "LayoutModel",
      "state": {}
     },
     "655dca452314481e9fe692e3488eb1a3": {
      "model_module": "@jupyter-widgets/controls",
      "model_module_version": "1.5.0",
      "model_name": "HTMLModel",
      "state": {
       "layout": "IPY_MODEL_734bbcbfab8e45d68d28b26d950aca97",
       "style": "IPY_MODEL_3c85a654ea8545f1811576e5d0babe57",
       "value": "(RNA) Computing RNA_percentMito: 100%| "
      }
     },
     "656c77f498df423589fc35acd1d32d74": {
      "model_module": "@jupyter-widgets/controls",
      "model_module_version": "1.5.0",
      "model_name": "HTMLModel",
      "state": {
       "layout": "IPY_MODEL_1742682fc3d24d42bd7c5df0505340a0",
       "style": "IPY_MODEL_7b0fccaca6204238a30b38c4b36a85b4",
       "value": "(RNA) Computing normed_tot: 100%| "
      }
     },
     "670c39081aad48bcb35d014939f20e3e": {
      "model_module": "@jupyter-widgets/controls",
      "model_module_version": "1.5.0",
      "model_name": "ProgressStyleModel",
      "state": {
       "bar_color": "#34abeb",
       "description_width": ""
      }
     },
     "670d461e779d446882d4d6e0ef412be3": {
      "model_module": "@jupyter-widgets/base",
      "model_module_version": "1.2.0",
      "model_name": "LayoutModel",
      "state": {
       "flex": "2"
      }
     },
     "672d052e4f3848a2a16e1e21108f8ad5": {
      "model_module": "@jupyter-widgets/controls",
      "model_module_version": "1.5.0",
      "model_name": "DescriptionStyleModel",
      "state": {
       "description_width": ""
      }
     },
     "6a1f80c455c0455b9a9e380837ffd96a": {
      "model_module": "@jupyter-widgets/base",
      "model_module_version": "1.2.0",
      "model_name": "LayoutModel",
      "state": {
       "flex": "2"
      }
     },
     "6ab579aebf344609b87eb891aca4ab4c": {
      "model_module": "@jupyter-widgets/controls",
      "model_module_version": "1.5.0",
      "model_name": "ProgressStyleModel",
      "state": {
       "bar_color": "#34abeb",
       "description_width": ""
      }
     },
     "6b8c46145538454f8a5cc54268801625": {
      "model_module": "@jupyter-widgets/base",
      "model_module_version": "1.2.0",
      "model_name": "LayoutModel",
      "state": {}
     },
     "6bf428fa9a284db9986348b62fe5236f": {
      "model_module": "@jupyter-widgets/base",
      "model_module_version": "1.2.0",
      "model_name": "LayoutModel",
      "state": {
       "flex": "2"
      }
     },
     "6c43bfc8f6dc413a9196d59246f652d5": {
      "model_module": "@jupyter-widgets/controls",
      "model_module_version": "1.5.0",
      "model_name": "HTMLModel",
      "state": {
       "layout": "IPY_MODEL_35ed6e4982a7435ca350e3f60e31ee52",
       "style": "IPY_MODEL_d6dafdb2fa2e4c5780c5dca7b343dbaf",
       "value": " 240/240 [00:00]"
      }
     },
     "6c70bddccb95401aa30875fdb06b755f": {
      "model_module": "@jupyter-widgets/controls",
      "model_module_version": "1.5.0",
      "model_name": "DescriptionStyleModel",
      "state": {
       "description_width": ""
      }
     },
     "6e9e08242b284d96ba29e0db9784d722": {
      "model_module": "@jupyter-widgets/controls",
      "model_module_version": "1.5.0",
      "model_name": "DescriptionStyleModel",
      "state": {
       "description_width": ""
      }
     },
     "6eebc73cf7a34dbaa918aa60698bb02e": {
      "model_module": "@jupyter-widgets/base",
      "model_module_version": "1.2.0",
      "model_name": "LayoutModel",
      "state": {
       "flex": "2"
      }
     },
     "6fcbba17d71b4474b350c2bca2dd582b": {
      "model_module": "@jupyter-widgets/controls",
      "model_module_version": "1.5.0",
      "model_name": "DescriptionStyleModel",
      "state": {
       "description_width": ""
      }
     },
     "6fe892de1c124c01b44f7d4db8182ae7": {
      "model_module": "@jupyter-widgets/controls",
      "model_module_version": "1.5.0",
      "model_name": "HTMLModel",
      "state": {
       "layout": "IPY_MODEL_791b857ce4654c8589fdb6df9765c933",
       "style": "IPY_MODEL_2bda51303f914876b74c41b8a43b2944",
       "value": "Writing data to normed__I__hvgs/data: 100%| "
      }
     },
     "708b5354ed9542d798d77d24552be482": {
      "model_module": "@jupyter-widgets/controls",
      "model_module_version": "1.5.0",
      "model_name": "HBoxModel",
      "state": {
       "children": [
        "IPY_MODEL_656c77f498df423589fc35acd1d32d74",
        "IPY_MODEL_e5b7a7ae1a9f4993b4ed712514ca8aa7",
        "IPY_MODEL_a5a8061b9c5645608736861222527375"
       ],
       "layout": "IPY_MODEL_af84c1817d7041fc9a8ce7e1e6442e4c"
      }
     },
     "70999ec799c24db7b97e6cacb6d25317": {
      "model_module": "@jupyter-widgets/controls",
      "model_module_version": "1.5.0",
      "model_name": "HTMLModel",
      "state": {
       "layout": "IPY_MODEL_5da903d6bf384fd18c5c69f24bc9a61f",
       "style": "IPY_MODEL_514c769534b9497e99fb888379fd1830",
       "value": "Finding markers: 100%| "
      }
     },
     "72908c5b0c4643d8af15cf72c7628148": {
      "model_module": "@jupyter-widgets/controls",
      "model_module_version": "1.5.0",
      "model_name": "ProgressStyleModel",
      "state": {
       "bar_color": "#34abeb",
       "description_width": ""
      }
     },
     "734bbcbfab8e45d68d28b26d950aca97": {
      "model_module": "@jupyter-widgets/base",
      "model_module_version": "1.2.0",
      "model_name": "LayoutModel",
      "state": {}
     },
     "73f72d60b98f497eba888b665d54fc94": {
      "model_module": "@jupyter-widgets/controls",
      "model_module_version": "1.5.0",
      "model_name": "ProgressStyleModel",
      "state": {
       "bar_color": "#34abeb",
       "description_width": ""
      }
     },
     "76570f1c83c94f68b35b681a2d2465a0": {
      "model_module": "@jupyter-widgets/base",
      "model_module_version": "1.2.0",
      "model_name": "LayoutModel",
      "state": {}
     },
     "77090e75676941a99d31b8b6c7a4ed62": {
      "model_module": "@jupyter-widgets/controls",
      "model_module_version": "1.5.0",
      "model_name": "ProgressStyleModel",
      "state": {
       "bar_color": "#34abeb",
       "description_width": ""
      }
     },
     "770b92a389cb4fb7aa601828ed18c502": {
      "model_module": "@jupyter-widgets/controls",
      "model_module_version": "1.5.0",
      "model_name": "FloatProgressModel",
      "state": {
       "bar_style": "success",
       "layout": "IPY_MODEL_b9b5031c40eb473d8658288c85725b1c",
       "max": 5,
       "style": "IPY_MODEL_c2f4aa75817b4bc9a5a994aacc9e62c3",
       "value": 5
      }
     },
     "77ae139abad74a9fa8c92ccd9eb4f721": {
      "model_module": "@jupyter-widgets/base",
      "model_module_version": "1.2.0",
      "model_name": "LayoutModel",
      "state": {
       "flex": "2"
      }
     },
     "791b857ce4654c8589fdb6df9765c933": {
      "model_module": "@jupyter-widgets/base",
      "model_module_version": "1.2.0",
      "model_name": "LayoutModel",
      "state": {}
     },
     "7987b7dafa8f41f0a0940cd9bd85d030": {
      "model_module": "@jupyter-widgets/base",
      "model_module_version": "1.2.0",
      "model_name": "LayoutModel",
      "state": {}
     },
     "7a247f6a66aa40959baa3079d6f0d523": {
      "model_module": "@jupyter-widgets/base",
      "model_module_version": "1.2.0",
      "model_name": "LayoutModel",
      "state": {
       "display": "inline-flex",
       "flex_flow": "row wrap",
       "width": "500px"
      }
     },
     "7a65a52dd724469fbe77c422d763996a": {
      "model_module": "@jupyter-widgets/controls",
      "model_module_version": "1.5.0",
      "model_name": "HTMLModel",
      "state": {
       "layout": "IPY_MODEL_c780634c27fb4a39bddc7c78761a50a3",
       "style": "IPY_MODEL_cd4a933e77e04325bc8378155c064381",
       "value": "100%| "
      }
     },
     "7b0fccaca6204238a30b38c4b36a85b4": {
      "model_module": "@jupyter-widgets/controls",
      "model_module_version": "1.5.0",
      "model_name": "DescriptionStyleModel",
      "state": {
       "description_width": ""
      }
     },
     "7b69e8de21b6445e85928f9ad7a96c10": {
      "model_module": "@jupyter-widgets/controls",
      "model_module_version": "1.5.0",
      "model_name": "DescriptionStyleModel",
      "state": {
       "description_width": ""
      }
     },
     "7b965d9f06b045cda534a7f8d97e1410": {
      "model_module": "@jupyter-widgets/controls",
      "model_module_version": "1.5.0",
      "model_name": "HTMLModel",
      "state": {
       "layout": "IPY_MODEL_b017a13e33d14841961e20a631f9290e",
       "style": "IPY_MODEL_adbdc6fcebe743119c1939b859d7b955",
       "value": "Fitting ANN: 100%| "
      }
     },
     "7cc616b51fa843acad7b44be9d6746f0": {
      "model_module": "@jupyter-widgets/controls",
      "model_module_version": "1.5.0",
      "model_name": "ProgressStyleModel",
      "state": {
       "bar_color": "#34abeb",
       "description_width": ""
      }
     },
     "7d70ffc6db2f4e09b302fb8a333305b5": {
      "model_module": "@jupyter-widgets/controls",
      "model_module_version": "1.5.0",
      "model_name": "HTMLModel",
      "state": {
       "layout": "IPY_MODEL_202db2e581bd46a58ffd1b9c72db8947",
       "style": "IPY_MODEL_0fa1eddd4a8244f499e2fc27c48fdb66",
       "value": " 2/2 [00:00]"
      }
     },
     "7ea6c5f72bf544818b9ef9b743e62400": {
      "model_module": "@jupyter-widgets/base",
      "model_module_version": "1.2.0",
      "model_name": "LayoutModel",
      "state": {}
     },
     "7fb1c80c4a1441188710ac6bff78050f": {
      "model_module": "@jupyter-widgets/controls",
      "model_module_version": "1.5.0",
      "model_name": "FloatProgressModel",
      "state": {
       "bar_style": "success",
       "layout": "IPY_MODEL_896c82784046423aa89bd849154d6f12",
       "max": 6,
       "style": "IPY_MODEL_9ed5d035040743278a98347d62849738",
       "value": 6
      }
     },
     "810ae7e84173409395fd5a4fd520c273": {
      "model_module": "@jupyter-widgets/controls",
      "model_module_version": "1.5.0",
      "model_name": "DescriptionStyleModel",
      "state": {
       "description_width": ""
      }
     },
     "840bd993a76d416687c5d57d5964ee70": {
      "model_module": "@jupyter-widgets/base",
      "model_module_version": "1.2.0",
      "model_name": "LayoutModel",
      "state": {
       "flex": "2"
      }
     },
     "86099c41ecbb4fde8198d696273ed26e": {
      "model_module": "@jupyter-widgets/controls",
      "model_module_version": "1.5.0",
      "model_name": "ProgressStyleModel",
      "state": {
       "bar_color": "#34abeb",
       "description_width": ""
      }
     },
     "863310c8a14a402e8d512e42ddee78e0": {
      "model_module": "@jupyter-widgets/base",
      "model_module_version": "1.2.0",
      "model_name": "LayoutModel",
      "state": {
       "display": "inline-flex",
       "flex_flow": "row wrap",
       "width": "500px"
      }
     },
     "8883392ea5cd44c0970eff83b6bc4167": {
      "model_module": "@jupyter-widgets/controls",
      "model_module_version": "1.5.0",
      "model_name": "HTMLModel",
      "state": {
       "layout": "IPY_MODEL_5d7305b7910f4e8a8fd4c3ff01095c52",
       "style": "IPY_MODEL_5fff3453c59645f394e5edea0ec99284",
       "value": "(RNA) Computing nCounts: 100%| "
      }
     },
     "88e471987f7c4766b7369000c0da452f": {
      "model_module": "@jupyter-widgets/controls",
      "model_module_version": "1.5.0",
      "model_name": "ProgressStyleModel",
      "state": {
       "bar_color": "#34abeb",
       "description_width": ""
      }
     },
     "896c82784046423aa89bd849154d6f12": {
      "model_module": "@jupyter-widgets/base",
      "model_module_version": "1.2.0",
      "model_name": "LayoutModel",
      "state": {
       "flex": "2"
      }
     },
     "8bb1da9c42ff408ba91355ac7086067a": {
      "model_module": "@jupyter-widgets/controls",
      "model_module_version": "1.5.0",
      "model_name": "HBoxModel",
      "state": {
       "children": [
        "IPY_MODEL_ed33aad3a17b47f7ad19c7aba6cb44f6",
        "IPY_MODEL_14529b4b48a94339a339bde631e38e5a",
        "IPY_MODEL_6021f71520834e368219a5fafe9fa257"
       ],
       "layout": "IPY_MODEL_445df25f97dd4e5ca7fb2ec9b3d95178"
      }
     },
     "8c1608a346914133b0c9569c3371fb26": {
      "model_module": "@jupyter-widgets/base",
      "model_module_version": "1.2.0",
      "model_name": "LayoutModel",
      "state": {}
     },
     "8de5d13bb6f04e03b2c070d80cd2dabf": {
      "model_module": "@jupyter-widgets/base",
      "model_module_version": "1.2.0",
      "model_name": "LayoutModel",
      "state": {}
     },
     "8e7f867235e14d989dfd97da78855c2a": {
      "model_module": "@jupyter-widgets/controls",
      "model_module_version": "1.5.0",
      "model_name": "HTMLModel",
      "state": {
       "layout": "IPY_MODEL_115f80fdd24c42aa8edf75fd69cb5464",
       "style": "IPY_MODEL_25e89ac9557e4977ae73beebf6f5c4bb",
       "value": "(RNA) Computing RNA_percentRibo: 100%| "
      }
     },
     "8ea1c78822e04befabc4453ecfa8c092": {
      "model_module": "@jupyter-widgets/controls",
      "model_module_version": "1.5.0",
      "model_name": "ProgressStyleModel",
      "state": {
       "bar_color": "#34abeb",
       "description_width": ""
      }
     },
     "8eb22e9a8db6404a92232151e4ede60b": {
      "model_module": "@jupyter-widgets/controls",
      "model_module_version": "1.5.0",
      "model_name": "DescriptionStyleModel",
      "state": {
       "description_width": ""
      }
     },
     "8f77e07ddbe741ecae33bc50110711d9": {
      "model_module": "@jupyter-widgets/base",
      "model_module_version": "1.2.0",
      "model_name": "LayoutModel",
      "state": {
       "flex": "2"
      }
     },
     "901f4a467d564ac0bf6c314c863253ab": {
      "model_module": "@jupyter-widgets/base",
      "model_module_version": "1.2.0",
      "model_name": "LayoutModel",
      "state": {
       "display": "inline-flex",
       "flex_flow": "row wrap",
       "width": "500px"
      }
     },
     "90b0447622e8401aaac9dee45f46e6cb": {
      "model_module": "@jupyter-widgets/controls",
      "model_module_version": "1.5.0",
      "model_name": "ProgressStyleModel",
      "state": {
       "bar_color": "#34abeb",
       "description_width": ""
      }
     },
     "9122f3cbb3c246e39d9ad99b6776265f": {
      "model_module": "@jupyter-widgets/controls",
      "model_module_version": "1.5.0",
      "model_name": "HBoxModel",
      "state": {
       "children": [
        "IPY_MODEL_cbcd0c6f021649dfa0c998503a2ca544",
        "IPY_MODEL_4863d9b3d543485080d4ef8c97963cff",
        "IPY_MODEL_02508756d1b5496dbef39c71d4009d6e"
       ],
       "layout": "IPY_MODEL_b9333e7926ca4dab9a922cdeec3fc7e5"
      }
     },
     "92223d210e62419fa00445efece39d63": {
      "model_module": "@jupyter-widgets/base",
      "model_module_version": "1.2.0",
      "model_name": "LayoutModel",
      "state": {}
     },
     "9379803e858540bebaa93612c4cb614a": {
      "model_module": "@jupyter-widgets/controls",
      "model_module_version": "1.5.0",
      "model_name": "HTMLModel",
      "state": {
       "layout": "IPY_MODEL_1148942717cf40f58748755c54df06d6",
       "style": "IPY_MODEL_382e55fdd01e4a789fe2a1a730a58ed0",
       "value": " 2/2 [00:02]"
      }
     },
     "94612cd651104ea9bad8b04060acf000": {
      "model_module": "@jupyter-widgets/controls",
      "model_module_version": "1.5.0",
      "model_name": "FloatProgressModel",
      "state": {
       "bar_style": "success",
       "layout": "IPY_MODEL_dd40b8151e534f06ad436e4d3ab45d87",
       "max": 240,
       "style": "IPY_MODEL_56495d886a30403fb4a2844c4ba8684d",
       "value": 240
      }
     },
     "9580ec1bc7624c6f852e5b725903970a": {
      "model_module": "@jupyter-widgets/base",
      "model_module_version": "1.2.0",
      "model_name": "LayoutModel",
      "state": {
       "flex": "2"
      }
     },
     "95ad7cae64cb4a28ae989a5186067f90": {
      "model_module": "@jupyter-widgets/controls",
      "model_module_version": "1.5.0",
      "model_name": "DescriptionStyleModel",
      "state": {
       "description_width": ""
      }
     },
     "9609b8e60c034b729612509070d6d845": {
      "model_module": "@jupyter-widgets/base",
      "model_module_version": "1.2.0",
      "model_name": "LayoutModel",
      "state": {
       "flex": "2"
      }
     },
     "9864c831228e40f8b02d7c7106057e36": {
      "model_module": "@jupyter-widgets/base",
      "model_module_version": "1.2.0",
      "model_name": "LayoutModel",
      "state": {
       "display": "inline-flex",
       "flex_flow": "row wrap",
       "width": "500px"
      }
     },
     "98fd8bac6d254396bc9f09929965816a": {
      "model_module": "@jupyter-widgets/controls",
      "model_module_version": "1.5.0",
      "model_name": "DescriptionStyleModel",
      "state": {
       "description_width": ""
      }
     },
     "9accc3fdfca247abb12fbea3eff05864": {
      "model_module": "@jupyter-widgets/controls",
      "model_module_version": "1.5.0",
      "model_name": "HBoxModel",
      "state": {
       "children": [
        "IPY_MODEL_7a65a52dd724469fbe77c422d763996a",
        "IPY_MODEL_7fb1c80c4a1441188710ac6bff78050f",
        "IPY_MODEL_210c1f1fb6f144158fe13584812e6554"
       ],
       "layout": "IPY_MODEL_c12dd5ca921e4ac5adfff3a37cf35a07"
      }
     },
     "9d7ce4641b4a4296a376a690c6c10f81": {
      "model_module": "@jupyter-widgets/base",
      "model_module_version": "1.2.0",
      "model_name": "LayoutModel",
      "state": {}
     },
     "9e22c3e68abc448690ede6381b1a9013": {
      "model_module": "@jupyter-widgets/controls",
      "model_module_version": "1.5.0",
      "model_name": "FloatProgressModel",
      "state": {
       "bar_style": "success",
       "layout": "IPY_MODEL_6a1f80c455c0455b9a9e380837ffd96a",
       "max": 3939,
       "style": "IPY_MODEL_72908c5b0c4643d8af15cf72c7628148",
       "value": 3939
      }
     },
     "9ed5d035040743278a98347d62849738": {
      "model_module": "@jupyter-widgets/controls",
      "model_module_version": "1.5.0",
      "model_name": "ProgressStyleModel",
      "state": {
       "bar_color": "#34abeb",
       "description_width": ""
      }
     },
     "a00e096f8cd6406b8bac89353e0407ee": {
      "model_module": "@jupyter-widgets/controls",
      "model_module_version": "1.5.0",
      "model_name": "FloatProgressModel",
      "state": {
       "bar_style": "success",
       "layout": "IPY_MODEL_5ac5dc2a0c4c454eacbf59a93dbd1066",
       "max": 2,
       "style": "IPY_MODEL_b9e82cd1e7c04df4a8c2144c036f1919",
       "value": 2
      }
     },
     "a105bbce2f1a4ce3a0ae58105e6b350b": {
      "model_module": "@jupyter-widgets/controls",
      "model_module_version": "1.5.0",
      "model_name": "HBoxModel",
      "state": {
       "children": [
        "IPY_MODEL_dd68c3c576844debb5c0e17c90c36758",
        "IPY_MODEL_9e22c3e68abc448690ede6381b1a9013",
        "IPY_MODEL_0b50f108b57d4f1f8ad77495d28988bd"
       ],
       "layout": "IPY_MODEL_09be14d08da14e85a852a36d767df9b3"
      }
     },
     "a1a076282c9545e9965f6218a2cdaefb": {
      "model_module": "@jupyter-widgets/controls",
      "model_module_version": "1.5.0",
      "model_name": "HTMLModel",
      "state": {
       "layout": "IPY_MODEL_23f5d9a6ac1845f2af9efde28e752740",
       "style": "IPY_MODEL_fed28509c88c4327bafcff0d82a45ee7",
       "value": "(RNA) Computing nCells: 100%| "
      }
     },
     "a20b4318de8446ca97a9fdc4b2a15339": {
      "model_module": "@jupyter-widgets/controls",
      "model_module_version": "1.5.0",
      "model_name": "DescriptionStyleModel",
      "state": {
       "description_width": ""
      }
     },
     "a31d7bd586db4c36ae50bbe44a85b879": {
      "model_module": "@jupyter-widgets/controls",
      "model_module_version": "1.5.0",
      "model_name": "HTMLModel",
      "state": {
       "layout": "IPY_MODEL_8c1608a346914133b0c9569c3371fb26",
       "style": "IPY_MODEL_e8be0ad5651c49be8b9d354c1579af79",
       "value": " 2/2 [00:00]"
      }
     },
     "a326576d2a9b44c4bc0dbc461a730900": {
      "model_module": "@jupyter-widgets/controls",
      "model_module_version": "1.5.0",
      "model_name": "FloatProgressModel",
      "state": {
       "bar_style": "success",
       "layout": "IPY_MODEL_77ae139abad74a9fa8c92ccd9eb4f721",
       "max": 219,
       "style": "IPY_MODEL_3ad5da86b7744921b0801da272da40c0",
       "value": 219
      }
     },
     "a3472c368e80449880c67a2137b6a757": {
      "model_module": "@jupyter-widgets/base",
      "model_module_version": "1.2.0",
      "model_name": "LayoutModel",
      "state": {
       "display": "inline-flex",
       "flex_flow": "row wrap",
       "width": "500px"
      }
     },
     "a3dba64fc3a34793b87a8855abf437a0": {
      "model_module": "@jupyter-widgets/base",
      "model_module_version": "1.2.0",
      "model_name": "LayoutModel",
      "state": {
       "display": "inline-flex",
       "flex_flow": "row wrap",
       "width": "500px"
      }
     },
     "a455f162b466434389e50eb2728ce130": {
      "model_module": "@jupyter-widgets/controls",
      "model_module_version": "1.5.0",
      "model_name": "HTMLModel",
      "state": {
       "layout": "IPY_MODEL_ff2ce47e15d94525b849aa71e3bec287",
       "style": "IPY_MODEL_17f18ae79d07451298c6742f49e539dc",
       "value": "Estimating seed partitions: 100%| "
      }
     },
     "a5a8061b9c5645608736861222527375": {
      "model_module": "@jupyter-widgets/controls",
      "model_module_version": "1.5.0",
      "model_name": "HTMLModel",
      "state": {
       "layout": "IPY_MODEL_38ef5cf961a248198d24b365c7181824",
       "style": "IPY_MODEL_a20b4318de8446ca97a9fdc4b2a15339",
       "value": " 346/346 [00:00]"
      }
     },
     "a6877ef5a6b34e308631a2663e1d883f": {
      "model_module": "@jupyter-widgets/controls",
      "model_module_version": "1.5.0",
      "model_name": "HBoxModel",
      "state": {
       "children": [
        "IPY_MODEL_655dca452314481e9fe692e3488eb1a3",
        "IPY_MODEL_a326576d2a9b44c4bc0dbc461a730900",
        "IPY_MODEL_065333f376d64e9eb633184d986294d9"
       ],
       "layout": "IPY_MODEL_b04c79922c004e8182fdad783532ce49"
      }
     },
     "abac46dc332b4f4a937fabab3b3b39b7": {
      "model_module": "@jupyter-widgets/controls",
      "model_module_version": "1.5.0",
      "model_name": "HTMLModel",
      "state": {
       "layout": "IPY_MODEL_d8afd2c465ea4304b6794b13bd1bb0ec",
       "style": "IPY_MODEL_f630195e4df841e5896a4b8e5aaa5d03",
       "value": "Downloading 1/1: 100%| "
      }
     },
     "aca6b7a8d1b54729bf882780fbdd2162": {
      "model_module": "@jupyter-widgets/base",
      "model_module_version": "1.2.0",
      "model_name": "LayoutModel",
      "state": {
       "flex": "2"
      }
     },
     "adbdc6fcebe743119c1939b859d7b955": {
      "model_module": "@jupyter-widgets/controls",
      "model_module_version": "1.5.0",
      "model_name": "DescriptionStyleModel",
      "state": {
       "description_width": ""
      }
     },
     "ae2f7fa41fe7430cb205be0fff192b6b": {
      "model_module": "@jupyter-widgets/controls",
      "model_module_version": "1.5.0",
      "model_name": "DescriptionStyleModel",
      "state": {
       "description_width": ""
      }
     },
     "ae4b3c63f3844f76a50fdc84ca9640de": {
      "model_module": "@jupyter-widgets/controls",
      "model_module_version": "1.5.0",
      "model_name": "HTMLModel",
      "state": {
       "layout": "IPY_MODEL_ae650844558a4a62897da52f00e217dd",
       "style": "IPY_MODEL_1bbcf11ca6d649e0b78158cf1a2c7789",
       "value": " 272/272 [00:16]"
      }
     },
     "ae650844558a4a62897da52f00e217dd": {
      "model_module": "@jupyter-widgets/base",
      "model_module_version": "1.2.0",
      "model_name": "LayoutModel",
      "state": {}
     },
     "af84c1817d7041fc9a8ce7e1e6442e4c": {
      "model_module": "@jupyter-widgets/base",
      "model_module_version": "1.2.0",
      "model_name": "LayoutModel",
      "state": {
       "display": "inline-flex",
       "flex_flow": "row wrap",
       "width": "500px"
      }
     },
     "b017a13e33d14841961e20a631f9290e": {
      "model_module": "@jupyter-widgets/base",
      "model_module_version": "1.2.0",
      "model_name": "LayoutModel",
      "state": {}
     },
     "b04c79922c004e8182fdad783532ce49": {
      "model_module": "@jupyter-widgets/base",
      "model_module_version": "1.2.0",
      "model_name": "LayoutModel",
      "state": {
       "display": "inline-flex",
       "flex_flow": "row wrap",
       "width": "500px"
      }
     },
     "b134707066ea452ca1a5f9b7fd3f4bf6": {
      "model_module": "@jupyter-widgets/controls",
      "model_module_version": "1.5.0",
      "model_name": "ProgressStyleModel",
      "state": {
       "bar_color": "#34abeb",
       "description_width": ""
      }
     },
     "b189357ca26745a5bb144c202abd8209": {
      "model_module": "@jupyter-widgets/controls",
      "model_module_version": "1.5.0",
      "model_name": "HTMLModel",
      "state": {
       "layout": "IPY_MODEL_ccf1b6ea7adf4780a49aeb89c0bfb961",
       "style": "IPY_MODEL_672d052e4f3848a2a16e1e21108f8ad5",
       "value": "Saving KNN graph: 100%| "
      }
     },
     "b34487183d7c42478ae1a5c2c0c99145": {
      "model_module": "@jupyter-widgets/base",
      "model_module_version": "1.2.0",
      "model_name": "LayoutModel",
      "state": {
       "flex": "2"
      }
     },
     "b3f566952f6b42f4876f0c7ec3e5de52": {
      "model_module": "@jupyter-widgets/base",
      "model_module_version": "1.2.0",
      "model_name": "LayoutModel",
      "state": {
       "display": "inline-flex",
       "flex_flow": "row wrap",
       "width": "500px"
      }
     },
     "b43af474cef64b769ff39b9cad425c20": {
      "model_module": "@jupyter-widgets/controls",
      "model_module_version": "1.5.0",
      "model_name": "DescriptionStyleModel",
      "state": {
       "description_width": ""
      }
     },
     "b45149f34439443982958d2823edc58b": {
      "model_module": "@jupyter-widgets/controls",
      "model_module_version": "1.5.0",
      "model_name": "DescriptionStyleModel",
      "state": {
       "description_width": ""
      }
     },
     "b4b3ef9d18ac4d07b08e285e1628cab9": {
      "model_module": "@jupyter-widgets/base",
      "model_module_version": "1.2.0",
      "model_name": "LayoutModel",
      "state": {}
     },
     "b7c0ab8ea927420884f0da6793c3cee2": {
      "model_module": "@jupyter-widgets/controls",
      "model_module_version": "1.5.0",
      "model_name": "FloatProgressModel",
      "state": {
       "bar_style": "success",
       "layout": "IPY_MODEL_b34487183d7c42478ae1a5c2c0c99145",
       "max": 6,
       "style": "IPY_MODEL_4754534ebbf0471b85d36cc366dc2f85",
       "value": 6
      }
     },
     "b822205ca4fd4cbc972a11ab5ff7f440": {
      "model_module": "@jupyter-widgets/base",
      "model_module_version": "1.2.0",
      "model_name": "LayoutModel",
      "state": {}
     },
     "b89d12e4a928443b8d210dad32976336": {
      "model_module": "@jupyter-widgets/controls",
      "model_module_version": "1.5.0",
      "model_name": "ProgressStyleModel",
      "state": {
       "bar_color": "#34abeb",
       "description_width": ""
      }
     },
     "b9333e7926ca4dab9a922cdeec3fc7e5": {
      "model_module": "@jupyter-widgets/base",
      "model_module_version": "1.2.0",
      "model_name": "LayoutModel",
      "state": {
       "display": "inline-flex",
       "flex_flow": "row wrap",
       "width": "500px"
      }
     },
     "b9858397323e40768e7aead6ff2420bb": {
      "model_module": "@jupyter-widgets/base",
      "model_module_version": "1.2.0",
      "model_name": "LayoutModel",
      "state": {
       "flex": "2"
      }
     },
     "b9b5031c40eb473d8658288c85725b1c": {
      "model_module": "@jupyter-widgets/base",
      "model_module_version": "1.2.0",
      "model_name": "LayoutModel",
      "state": {
       "flex": "2"
      }
     },
     "b9e82cd1e7c04df4a8c2144c036f1919": {
      "model_module": "@jupyter-widgets/controls",
      "model_module_version": "1.5.0",
      "model_name": "ProgressStyleModel",
      "state": {
       "bar_color": "#34abeb",
       "description_width": ""
      }
     },
     "b9f27230a8d74c0283483d82b0d1825d": {
      "model_module": "@jupyter-widgets/controls",
      "model_module_version": "1.5.0",
      "model_name": "FloatProgressModel",
      "state": {
       "bar_style": "success",
       "layout": "IPY_MODEL_b9858397323e40768e7aead6ff2420bb",
       "max": 240,
       "style": "IPY_MODEL_73f72d60b98f497eba888b665d54fc94",
       "value": 240
      }
     },
     "ba9c1e4f7dbf4556992008d2210bfc7a": {
      "model_module": "@jupyter-widgets/controls",
      "model_module_version": "1.5.0",
      "model_name": "ProgressStyleModel",
      "state": {
       "bar_color": "#34abeb",
       "description_width": ""
      }
     },
     "be5975979e134b2caaa95a6930b7e91e": {
      "model_module": "@jupyter-widgets/controls",
      "model_module_version": "1.5.0",
      "model_name": "HTMLModel",
      "state": {
       "layout": "IPY_MODEL_282b02b1844e44389166d8f2c0816c68",
       "style": "IPY_MODEL_7b69e8de21b6445e85928f9ad7a96c10",
       "value": "Fitting kmeans: 100%| "
      }
     },
     "bfb23095d11949c391a52be422db8dc3": {
      "model_module": "@jupyter-widgets/base",
      "model_module_version": "1.2.0",
      "model_name": "LayoutModel",
      "state": {}
     },
     "c08e932f447f4e8ebf65d31e2f787293": {
      "model_module": "@jupyter-widgets/controls",
      "model_module_version": "1.5.0",
      "model_name": "HTMLModel",
      "state": {
       "layout": "IPY_MODEL_8de5d13bb6f04e03b2c070d80cd2dabf",
       "style": "IPY_MODEL_810ae7e84173409395fd5a4fd520c273",
       "value": "Smoothening KNN distances: 100%| "
      }
     },
     "c100035fae2d4a6687a4247f0eba70e3": {
      "model_module": "@jupyter-widgets/controls",
      "model_module_version": "1.5.0",
      "model_name": "DescriptionStyleModel",
      "state": {
       "description_width": ""
      }
     },
     "c12dd5ca921e4ac5adfff3a37cf35a07": {
      "model_module": "@jupyter-widgets/base",
      "model_module_version": "1.2.0",
      "model_name": "LayoutModel",
      "state": {
       "display": "inline-flex",
       "flex_flow": "row wrap",
       "width": "500px"
      }
     },
     "c2f4aa75817b4bc9a5a994aacc9e62c3": {
      "model_module": "@jupyter-widgets/controls",
      "model_module_version": "1.5.0",
      "model_name": "ProgressStyleModel",
      "state": {
       "bar_color": "#34abeb",
       "description_width": ""
      }
     },
     "c780634c27fb4a39bddc7c78761a50a3": {
      "model_module": "@jupyter-widgets/base",
      "model_module_version": "1.2.0",
      "model_name": "LayoutModel",
      "state": {}
     },
     "c8fda3c75ac844359368205b98433079": {
      "model_module": "@jupyter-widgets/controls",
      "model_module_version": "1.5.0",
      "model_name": "HBoxModel",
      "state": {
       "children": [
        "IPY_MODEL_be5975979e134b2caaa95a6930b7e91e",
        "IPY_MODEL_db9d162c9f4042f59f4231a0e9028fdd",
        "IPY_MODEL_7d70ffc6db2f4e09b302fb8a333305b5"
       ],
       "layout": "IPY_MODEL_ed985bd9792d4b17b904745257ac468c"
      }
     },
     "c9991e68d3f54eb8bf46ee2b0226d073": {
      "model_module": "@jupyter-widgets/controls",
      "model_module_version": "1.5.0",
      "model_name": "DescriptionStyleModel",
      "state": {
       "description_width": ""
      }
     },
     "c9f4095564514bec83782844382971a5": {
      "model_module": "@jupyter-widgets/controls",
      "model_module_version": "1.5.0",
      "model_name": "HTMLModel",
      "state": {
       "layout": "IPY_MODEL_bfb23095d11949c391a52be422db8dc3",
       "style": "IPY_MODEL_2f378e1800844027915ae2dd69302d70",
       "value": " 240/240 [00:00]"
      }
     },
     "ca666e75b62d432e97d9ff03c3f58c6a": {
      "model_module": "@jupyter-widgets/controls",
      "model_module_version": "1.5.0",
      "model_name": "DescriptionStyleModel",
      "state": {
       "description_width": ""
      }
     },
     "cbcd0c6f021649dfa0c998503a2ca544": {
      "model_module": "@jupyter-widgets/controls",
      "model_module_version": "1.5.0",
      "model_name": "HTMLModel",
      "state": {
       "layout": "IPY_MODEL_1b4b54c4680c47289aee0a274866ce4d",
       "style": "IPY_MODEL_95ad7cae64cb4a28ae989a5186067f90",
       "value": "Fitting PCA: 100%| "
      }
     },
     "ccec8e3a458848dca80ed70ca8e55be8": {
      "model_module": "@jupyter-widgets/controls",
      "model_module_version": "1.5.0",
      "model_name": "HTMLModel",
      "state": {
       "layout": "IPY_MODEL_76570f1c83c94f68b35b681a2d2465a0",
       "style": "IPY_MODEL_6fcbba17d71b4474b350c2bca2dd582b",
       "value": " 346/346 [00:00]"
      }
     },
     "ccf1b6ea7adf4780a49aeb89c0bfb961": {
      "model_module": "@jupyter-widgets/base",
      "model_module_version": "1.2.0",
      "model_name": "LayoutModel",
      "state": {}
     },
     "cd2db3b5611f4c589586e2660c7741ce": {
      "model_module": "@jupyter-widgets/controls",
      "model_module_version": "1.5.0",
      "model_name": "HTMLModel",
      "state": {
       "layout": "IPY_MODEL_7987b7dafa8f41f0a0940cd9bd85d030",
       "style": "IPY_MODEL_98fd8bac6d254396bc9f09929965816a",
       "value": " 240/240 [00:00]"
      }
     },
     "cd4a933e77e04325bc8378155c064381": {
      "model_module": "@jupyter-widgets/controls",
      "model_module_version": "1.5.0",
      "model_name": "DescriptionStyleModel",
      "state": {
       "description_width": ""
      }
     },
     "d0495e852b8f47ae817df9ceaa89d9f1": {
      "model_module": "@jupyter-widgets/controls",
      "model_module_version": "1.5.0",
      "model_name": "HTMLModel",
      "state": {
       "layout": "IPY_MODEL_65492494800f4e9786482c1604fc3b5c",
       "style": "IPY_MODEL_ca666e75b62d432e97d9ff03c3f58c6a",
       "value": " 2/2 [00:00]"
      }
     },
     "d0f9c440665f48548aadc597e1b23305": {
      "model_module": "@jupyter-widgets/controls",
      "model_module_version": "1.5.0",
      "model_name": "DescriptionStyleModel",
      "state": {
       "description_width": ""
      }
     },
     "d113d28b3c6f4a32a68e899497994507": {
      "model_module": "@jupyter-widgets/controls",
      "model_module_version": "1.5.0",
      "model_name": "DescriptionStyleModel",
      "state": {
       "description_width": ""
      }
     },
     "d1cbd9cf21c944018d2e6e2a386a1392": {
      "model_module": "@jupyter-widgets/base",
      "model_module_version": "1.2.0",
      "model_name": "LayoutModel",
      "state": {
       "display": "inline-flex",
       "flex_flow": "row wrap",
       "width": "500px"
      }
     },
     "d1cca157d4c249ba8a0398a4251c428f": {
      "model_module": "@jupyter-widgets/controls",
      "model_module_version": "1.5.0",
      "model_name": "DescriptionStyleModel",
      "state": {
       "description_width": ""
      }
     },
     "d34d8884aae74267bebba2f3ed44d6fe": {
      "model_module": "@jupyter-widgets/controls",
      "model_module_version": "1.5.0",
      "model_name": "FloatProgressModel",
      "state": {
       "bar_style": "success",
       "layout": "IPY_MODEL_6bf428fa9a284db9986348b62fe5236f",
       "max": 2,
       "style": "IPY_MODEL_90b0447622e8401aaac9dee45f46e6cb",
       "value": 2
      }
     },
     "d4132011f08f49d7aba0c4d72af20f08": {
      "model_module": "@jupyter-widgets/controls",
      "model_module_version": "1.5.0",
      "model_name": "HBoxModel",
      "state": {
       "children": [
        "IPY_MODEL_5de126b69b8a4eab9fe5ac182c6782b4",
        "IPY_MODEL_b9f27230a8d74c0283483d82b0d1825d",
        "IPY_MODEL_cd2db3b5611f4c589586e2660c7741ce"
       ],
       "layout": "IPY_MODEL_5fe62e07296040c4ae267f671de2d1a6"
      }
     },
     "d4670481b54f415ebbbc22787a2bb2af": {
      "model_module": "@jupyter-widgets/base",
      "model_module_version": "1.2.0",
      "model_name": "LayoutModel",
      "state": {
       "display": "inline-flex",
       "flex_flow": "row wrap",
       "width": "500px"
      }
     },
     "d5960593d07d4dfba06534852d8e970c": {
      "model_module": "@jupyter-widgets/controls",
      "model_module_version": "1.5.0",
      "model_name": "HBoxModel",
      "state": {
       "children": [
        "IPY_MODEL_041528be533044fdb3091ac28dbcc43a",
        "IPY_MODEL_597c428f237a4c0d91c2d85355f46d25",
        "IPY_MODEL_6c43bfc8f6dc413a9196d59246f652d5"
       ],
       "layout": "IPY_MODEL_a3dba64fc3a34793b87a8855abf437a0"
      }
     },
     "d6dafdb2fa2e4c5780c5dca7b343dbaf": {
      "model_module": "@jupyter-widgets/controls",
      "model_module_version": "1.5.0",
      "model_name": "DescriptionStyleModel",
      "state": {
       "description_width": ""
      }
     },
     "d8800be9b49447edaad01e5bb11366de": {
      "model_module": "@jupyter-widgets/base",
      "model_module_version": "1.2.0",
      "model_name": "LayoutModel",
      "state": {}
     },
     "d8afd2c465ea4304b6794b13bd1bb0ec": {
      "model_module": "@jupyter-widgets/base",
      "model_module_version": "1.2.0",
      "model_name": "LayoutModel",
      "state": {}
     },
     "da863856a12a488dbcf0c5617e9058d8": {
      "model_module": "@jupyter-widgets/controls",
      "model_module_version": "1.5.0",
      "model_name": "HBoxModel",
      "state": {
       "children": [
        "IPY_MODEL_c08e932f447f4e8ebf65d31e2f787293",
        "IPY_MODEL_fc94780979284267a2da60fded412a3c",
        "IPY_MODEL_9379803e858540bebaa93612c4cb614a"
       ],
       "layout": "IPY_MODEL_d1cbd9cf21c944018d2e6e2a386a1392"
      }
     },
     "db9d162c9f4042f59f4231a0e9028fdd": {
      "model_module": "@jupyter-widgets/controls",
      "model_module_version": "1.5.0",
      "model_name": "FloatProgressModel",
      "state": {
       "bar_style": "success",
       "layout": "IPY_MODEL_8f77e07ddbe741ecae33bc50110711d9",
       "max": 2,
       "style": "IPY_MODEL_7cc616b51fa843acad7b44be9d6746f0",
       "value": 2
      }
     },
     "dd40b8151e534f06ad436e4d3ab45d87": {
      "model_module": "@jupyter-widgets/base",
      "model_module_version": "1.2.0",
      "model_name": "LayoutModel",
      "state": {
       "flex": "2"
      }
     },
     "dd68c3c576844debb5c0e17c90c36758": {
      "model_module": "@jupyter-widgets/controls",
      "model_module_version": "1.5.0",
      "model_name": "HTMLModel",
      "state": {
       "layout": "IPY_MODEL_40958187c54941a980b13ca8413cd018",
       "style": "IPY_MODEL_03a1f5a29e884b5fbcd534965627c5d9",
       "value": "Constructing graph from dendrogram: 100%| "
      }
     },
     "de3e7f92171e47419f6c741ca83f38c9": {
      "model_module": "@jupyter-widgets/controls",
      "model_module_version": "1.5.0",
      "model_name": "FloatProgressModel",
      "state": {
       "bar_style": "success",
       "layout": "IPY_MODEL_6eebc73cf7a34dbaa918aa60698bb02e",
       "max": 272,
       "style": "IPY_MODEL_88e471987f7c4766b7369000c0da452f",
       "value": 272
      }
     },
     "de78e873e7254d35bf8220477091b76a": {
      "model_module": "@jupyter-widgets/base",
      "model_module_version": "1.2.0",
      "model_name": "LayoutModel",
      "state": {}
     },
     "df4dec8b900f4fad8801f8a72fa625af": {
      "model_module": "@jupyter-widgets/controls",
      "model_module_version": "1.5.0",
      "model_name": "DescriptionStyleModel",
      "state": {
       "description_width": ""
      }
     },
     "dfd0196ceb494660ad21a201ed211aef": {
      "model_module": "@jupyter-widgets/controls",
      "model_module_version": "1.5.0",
      "model_name": "ProgressStyleModel",
      "state": {
       "bar_color": "#34abeb",
       "description_width": ""
      }
     },
     "e45b84eeafae4e91802fc6027840fcba": {
      "model_module": "@jupyter-widgets/controls",
      "model_module_version": "1.5.0",
      "model_name": "HBoxModel",
      "state": {
       "children": [
        "IPY_MODEL_b189357ca26745a5bb144c202abd8209",
        "IPY_MODEL_d34d8884aae74267bebba2f3ed44d6fe",
        "IPY_MODEL_235ccf698db14101b4e80f23eaec12f4"
       ],
       "layout": "IPY_MODEL_d4670481b54f415ebbbc22787a2bb2af"
      }
     },
     "e47c88116af44b3a9e5808e9bcdeab34": {
      "model_module": "@jupyter-widgets/base",
      "model_module_version": "1.2.0",
      "model_name": "LayoutModel",
      "state": {}
     },
     "e5b7a7ae1a9f4993b4ed712514ca8aa7": {
      "model_module": "@jupyter-widgets/controls",
      "model_module_version": "1.5.0",
      "model_name": "FloatProgressModel",
      "state": {
       "bar_style": "success",
       "layout": "IPY_MODEL_aca6b7a8d1b54729bf882780fbdd2162",
       "max": 346,
       "style": "IPY_MODEL_0e3b1a00abe2471da249603a4cb21739",
       "value": 346
      }
     },
     "e6af96af3541478c8fbdcf3c2e810bb4": {
      "model_module": "@jupyter-widgets/controls",
      "model_module_version": "1.5.0",
      "model_name": "DescriptionStyleModel",
      "state": {
       "description_width": ""
      }
     },
     "e8be0ad5651c49be8b9d354c1579af79": {
      "model_module": "@jupyter-widgets/controls",
      "model_module_version": "1.5.0",
      "model_name": "DescriptionStyleModel",
      "state": {
       "description_width": ""
      }
     },
     "eb321ae9b2aa424f8cd67a5c37eb9e3b": {
      "model_module": "@jupyter-widgets/controls",
      "model_module_version": "1.5.0",
      "model_name": "HTMLModel",
      "state": {
       "layout": "IPY_MODEL_b4b3ef9d18ac4d07b08e285e1628cab9",
       "style": "IPY_MODEL_6349e9854bd24c88a5869c35ae3ca986",
       "value": "(RNA) Computing sigmas: 100%| "
      }
     },
     "ed33aad3a17b47f7ad19c7aba6cb44f6": {
      "model_module": "@jupyter-widgets/controls",
      "model_module_version": "1.5.0",
      "model_name": "HTMLModel",
      "state": {
       "layout": "IPY_MODEL_9d7ce4641b4a4296a376a690c6c10f81",
       "style": "IPY_MODEL_6e9e08242b284d96ba29e0db9784d722",
       "value": "Identifying the top node for cluster: 100%| "
      }
     },
     "ed985bd9792d4b17b904745257ac468c": {
      "model_module": "@jupyter-widgets/base",
      "model_module_version": "1.2.0",
      "model_name": "LayoutModel",
      "state": {
       "display": "inline-flex",
       "flex_flow": "row wrap",
       "width": "500px"
      }
     },
     "f0581052385245afa5aebab27aa064d4": {
      "model_module": "@jupyter-widgets/base",
      "model_module_version": "1.2.0",
      "model_name": "LayoutModel",
      "state": {
       "flex": "2"
      }
     },
     "f05881cd61cf465087c6b7346a3e2adb": {
      "model_module": "@jupyter-widgets/controls",
      "model_module_version": "1.5.0",
      "model_name": "HTMLModel",
      "state": {
       "layout": "IPY_MODEL_fc89313349064fd597dac00b40931fae",
       "style": "IPY_MODEL_8eb22e9a8db6404a92232151e4ede60b",
       "value": "(RNA) Computing nCells and dropOuts: 100%| "
      }
     },
     "f4f0e94715cd4463b63e65ad708922bb": {
      "model_module": "@jupyter-widgets/controls",
      "model_module_version": "1.5.0",
      "model_name": "ProgressStyleModel",
      "state": {
       "bar_color": "#34abeb",
       "description_width": ""
      }
     },
     "f630195e4df841e5896a4b8e5aaa5d03": {
      "model_module": "@jupyter-widgets/controls",
      "model_module_version": "1.5.0",
      "model_name": "DescriptionStyleModel",
      "state": {
       "description_width": ""
      }
     },
     "f788d66af2d54fe690851d056e2beb2f": {
      "model_module": "@jupyter-widgets/controls",
      "model_module_version": "1.5.0",
      "model_name": "HTMLModel",
      "state": {
       "layout": "IPY_MODEL_b822205ca4fd4cbc972a11ab5ff7f440",
       "style": "IPY_MODEL_312e6d5db2e64df7912bcc6c0bd735c8",
       "value": " 240/240 [00:00]"
      }
     },
     "f80f0b15376b4e59802dc4fbff516484": {
      "model_module": "@jupyter-widgets/controls",
      "model_module_version": "1.5.0",
      "model_name": "FloatProgressModel",
      "state": {
       "bar_style": "success",
       "layout": "IPY_MODEL_9609b8e60c034b729612509070d6d845",
       "max": 240,
       "style": "IPY_MODEL_8ea1c78822e04befabc4453ecfa8c092",
       "value": 240
      }
     },
     "f82870df2d7f4322a53029d3fe441ca9": {
      "model_module": "@jupyter-widgets/controls",
      "model_module_version": "1.5.0",
      "model_name": "HBoxModel",
      "state": {
       "children": [
        "IPY_MODEL_1372484a6e454704a2dfedd181ad6cd8",
        "IPY_MODEL_770b92a389cb4fb7aa601828ed18c502",
        "IPY_MODEL_46bddc39586d4b14889df3ed2aca6388"
       ],
       "layout": "IPY_MODEL_a3472c368e80449880c67a2137b6a757"
      }
     },
     "f9de1deb1aab43ff9fff5049b0567509": {
      "model_module": "@jupyter-widgets/base",
      "model_module_version": "1.2.0",
      "model_name": "LayoutModel",
      "state": {
       "flex": "2"
      }
     },
     "f9fd3447e1ad4acdad10a182718e0c75": {
      "model_module": "@jupyter-widgets/controls",
      "model_module_version": "1.5.0",
      "model_name": "HTMLModel",
      "state": {
       "layout": "IPY_MODEL_fc9a008197824bea96599b95d812d978",
       "style": "IPY_MODEL_c9991e68d3f54eb8bf46ee2b0226d073",
       "value": " 2/2 [00:01]"
      }
     },
     "fc69853d159e4d50924e3e8c965ce115": {
      "model_module": "@jupyter-widgets/base",
      "model_module_version": "1.2.0",
      "model_name": "LayoutModel",
      "state": {
       "display": "inline-flex",
       "flex_flow": "row wrap",
       "width": "500px"
      }
     },
     "fc89313349064fd597dac00b40931fae": {
      "model_module": "@jupyter-widgets/base",
      "model_module_version": "1.2.0",
      "model_name": "LayoutModel",
      "state": {}
     },
     "fc94780979284267a2da60fded412a3c": {
      "model_module": "@jupyter-widgets/controls",
      "model_module_version": "1.5.0",
      "model_name": "FloatProgressModel",
      "state": {
       "bar_style": "success",
       "layout": "IPY_MODEL_3c1eadd61f1040e7afd03ef224346142",
       "max": 2,
       "style": "IPY_MODEL_670c39081aad48bcb35d014939f20e3e",
       "value": 2
      }
     },
     "fc9a008197824bea96599b95d812d978": {
      "model_module": "@jupyter-widgets/base",
      "model_module_version": "1.2.0",
      "model_name": "LayoutModel",
      "state": {}
     },
     "fe6d6d6d3d4f496aadb3cc2576273b66": {
      "model_module": "@jupyter-widgets/base",
      "model_module_version": "1.2.0",
      "model_name": "LayoutModel",
      "state": {
       "display": "inline-flex",
       "flex_flow": "row wrap",
       "width": "500px"
      }
     },
     "fed28509c88c4327bafcff0d82a45ee7": {
      "model_module": "@jupyter-widgets/controls",
      "model_module_version": "1.5.0",
      "model_name": "DescriptionStyleModel",
      "state": {
       "description_width": ""
      }
     },
     "ff2ce47e15d94525b849aa71e3bec287": {
      "model_module": "@jupyter-widgets/base",
      "model_module_version": "1.2.0",
      "model_name": "LayoutModel",
      "state": {}
     },
     "ffaed21327ff440aa95df7aab6577f3e": {
      "model_module": "@jupyter-widgets/base",
      "model_module_version": "1.2.0",
      "model_name": "LayoutModel",
      "state": {
       "display": "inline-flex",
       "flex_flow": "row wrap",
       "width": "500px"
      }
     }
    },
    "version_major": 2,
    "version_minor": 0
   }
  }
 },
 "nbformat": 4,
 "nbformat_minor": 5
}
